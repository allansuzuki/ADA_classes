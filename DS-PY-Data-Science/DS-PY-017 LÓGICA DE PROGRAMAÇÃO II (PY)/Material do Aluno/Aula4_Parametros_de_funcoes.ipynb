{
 "cells": [
  {
   "cell_type": "markdown",
   "metadata": {},
   "source": [
    "# 🎯 Aula 4 - Parâmetros de funções 🎯<br>"
   ]
  },
  {
   "attachments": {},
   "cell_type": "markdown",
   "metadata": {},
   "source": [
    "Nesta aula vamos explorar alguns conceitos avançados de funções em Python. Vamos aprender sobre:\n",
    "* parâmetros com valor padrão, \n",
    "* parâmetros múltiplos (\\*args) \n",
    "* parâmetros opcionais (**kwargs). \n",
    "\n",
    "Esses recursos são muito úteis para tornar nossas funções mais flexíveis e poderosas. Vamos começar!"
   ]
  },
  {
   "cell_type": "markdown",
   "metadata": {},
   "source": [
    "# Caso real\n",
    "\n",
    "Você foi designado para criar uma ferramenta que dê mais versatilidade e seja mais user-friendly para produtores de texto.\n",
    "Eles querem reutilizar trechos de textos que já escreveram para produzir outros novos textos. Para tal, foi levantado alguns requisitos para eles:\n",
    "\n",
    "* Todo texto após o ponto final '.' Tem que pular linha.\n",
    "* Ele querem escolher se o texto ficará tudo em upper(tudo maíusculio) ou lower (tudo minúsculo) (lembra das aulas de string?).\n",
    "* Padronizar o texto para começar com Capitalized e o restante em lower.\n",
    "* Deixar tudo em negrito (aplicar \\*\\* no começo e no fim do texto)\n",
    "\n",
    "A ferramenta será utilizada para teste, no qual eles inserem trechos de textos e suas preferências de formatação.\n",
    "\n",
    "Como você faria para criar uma ferramenta prática que os ajudassem, com o mínimo de código possível?"
   ]
  },
  {
   "attachments": {},
   "cell_type": "markdown",
   "metadata": {},
   "source": [
    "## 📍 Tópicos de Hoje 📍\n",
    "<br>\n",
    "\n",
    "👶 [Estrutura de Dados Aplicadas às Funções](#um)\n",
    "\n",
    "🚶‍ [Parâmetros múltiplos (*args)](#dois)\n",
    "\n",
    "🏃 [Parâmetros opcionais (**kwargs)](#tres)\n",
    "    \n",
    "🏆 [Exercícios](#quatro)\n"
   ]
  },
  {
   "cell_type": "markdown",
   "metadata": {},
   "source": [
    "# Relembrar: Estrutura de funções"
   ]
  },
  {
   "cell_type": "markdown",
   "metadata": {},
   "source": [
    "A estrutura de **definição de uma função** é dada por:\n",
    "\n",
    "```python\n",
    "def nomeDaFuncao(param1, param2, ...):\n",
    "    \"\"\"escrever como funciona a tua função\"\"\"\n",
    "    \n",
    "    processamento ou instrucoes\n",
    "\n",
    "    return saida\n",
    "```\n",
    "\n",
    "ou seja:\n",
    "* inicia por `def`,\n",
    "* depois o nome da função\n",
    "* depois os parâmetros em parênteses. \n",
    "* em seguida podemos descrever a função no \"\"\" \"\"\" e, por fim\n",
    "* escrever a sequencia de intruções da função, podendo retornar algum objeto."
   ]
  },
  {
   "cell_type": "markdown",
   "metadata": {},
   "source": [
    "## Parâmetros vs argumentos"
   ]
  },
  {
   "cell_type": "markdown",
   "metadata": {},
   "source": [
    "Quando definimos a função, as variáveis que estão dentro do parênteses, como inputs, são os **parâmetros**.\n",
    "\n",
    "```python\n",
    "def nomeDaFuncao(param1, param2, ...):\n",
    "    ...\n",
    "\n",
    "```\n",
    "\n",
    "Já quando chamamos a função, passamos `argumentos` como valores de input da funçao\n",
    "\n",
    "```python\n",
    "nomeDaFuncao(arg1, arg2, ...)\n",
    "```"
   ]
  },
  {
   "attachments": {},
   "cell_type": "markdown",
   "metadata": {},
   "source": [
    "\n",
    "# 📜 Parâmetros de funções 📜 <a class=\"anchor\" id=\"um\"></a>\n",
    "<br>"
   ]
  },
  {
   "attachments": {},
   "cell_type": "markdown",
   "metadata": {},
   "source": [
    "Às vezes, não sabemos quantos argumentos serão passados para uma função (você conhece alguma função que aceita múltiplos parâmetros?). Nesses casos, usamos uma **coleção de parâmetros**, que são representados pelo parâmetro *args (por convenção, `args`, mas o nome pode ser qualquer nome).\n",
    "\n",
    "Isso permite que a função receba um número variável de argumentos, que serão agrupados em uma tupla. Vejamos um exemplo:"
   ]
  },
  {
   "cell_type": "code",
   "execution_count": null,
   "metadata": {},
   "outputs": [],
   "source": [
    "# crie uma funcao que monta uma pizza, adicionando seus ingredientes\n",
    "def montaPizza(*ingredientes):\n",
    "    print(f\"Sua pizza terá {len(ingredientes)} ingredientes\")\n",
    "    for igdt in ingredientes:\n",
    "        print(f\"Adicionando {igdt}...\")\n",
    "    print(\"Pizza finalizada! Bom apetite!\\n\")"
   ]
  },
  {
   "cell_type": "code",
   "execution_count": null,
   "metadata": {},
   "outputs": [],
   "source": [
    "montaPizza(\"Queijo\", \"Mussarela\", \"Frango\")\n",
    "\n",
    "montaPizza(\"Queijo\", \"Bacon\")\n",
    "\n",
    "# Podemos passar até vazia sem problemas\n",
    "montaPizza()"
   ]
  },
  {
   "cell_type": "markdown",
   "metadata": {},
   "source": [
    "Como podemos ver no exemplo, como foi definido um parâmetro que pode ser uma coleção, então podemos adicionar quantos ingredientes for possível (gula rsrs)\n",
    "\n",
    "Isso dá mais versatilidade para a função: imagine que criemos um cardápio, no qual os sabores da pizza tem já definido todos os ingredientes:"
   ]
  },
  {
   "cell_type": "code",
   "execution_count": 12,
   "metadata": {},
   "outputs": [],
   "source": [
    "# crie um cardapio com a chave igual ao sabor da pizza e o valor são os ingredientes\n",
    "cardapio = {\n",
    "    \"catupiry\": [\"queijo\", \"azeitona\",\"catupiry\"],\n",
    "    \"bacon defumado\": [\"queijo\", \"bacon defumado\"],\n",
    "    \"brocolis\": [\"brocolis\"]\n",
    "}"
   ]
  },
  {
   "cell_type": "markdown",
   "metadata": {},
   "source": [
    "Neste caso, podemos desempacotar os dados de um determinado sabor de pizza passando a variável antecedido de \\*\n"
   ]
  },
  {
   "cell_type": "code",
   "execution_count": 29,
   "metadata": {},
   "outputs": [
    {
     "name": "stdout",
     "output_type": "stream",
     "text": [
      "Sua pizza terá 2 ingredientes\n",
      "Adicionando queijo...\n",
      "Adicionando azeitona...\n",
      "Pizza finalizada! Bom apetite!\n",
      "\n"
     ]
    }
   ],
   "source": [
    "montaPizza(*cardapio[\"catupiry\"])"
   ]
  },
  {
   "cell_type": "markdown",
   "metadata": {},
   "source": [
    "Lembre-se, os ingredientes estão numa `lista`, porém a função pede uma coleção de argumentos, por isso usamos o \\* antes da lista:"
   ]
  },
  {
   "cell_type": "code",
   "execution_count": null,
   "metadata": {},
   "outputs": [],
   "source": [
    "# print(cardapio[\"bacon defumado\"])\n",
    "# print(*cardapio[\"bacon defumado\"])"
   ]
  },
  {
   "attachments": {},
   "cell_type": "markdown",
   "metadata": {},
   "source": [
    "---\n",
    "<div align=\"justify\">\n",
    "Além dos parâmetros posicionais e dos parâmetros múltiplos, também podemos ter parâmetros opcionais nomeados. Isso é possível usando ** seguido por um nome de variável (por convenção, kwargs, mas o nome pode ser qualquer um). Os parâmetros opcionais são passados como pares de chave-valor e são agrupados em um dicionário dentro da função. <br>\n",
    "</div>"
   ]
  },
  {
   "attachments": {},
   "cell_type": "markdown",
   "metadata": {},
   "source": [
    "Kwargs = Key Word Argument = Argumento de Palavra Chave"
   ]
  },
  {
   "attachments": {},
   "cell_type": "markdown",
   "metadata": {},
   "source": [
    "---\n",
    "<div align=\"justify\">\n",
    "&emsp; Note, entretanto, que este método não é eficiente se quisermos ter maior controle daquilo que nos foi passado pelos parâmetros uma vez que recebemos os dados sem ordem controlada, ou mesmo identificadores, e para isso podemos usar dicionários! Basta marcarmos o nome do parâmetro com dois asteriscos antes dele. <br>\n",
    "</div>"
   ]
  },
  {
   "cell_type": "code",
   "execution_count": 35,
   "metadata": {},
   "outputs": [
    {
     "name": "stdout",
     "output_type": "stream",
     "text": [
      "Nome : Valéria\n",
      "CPF : 45782465928\n",
      "Profissao : Professora\n",
      "\n",
      "Nome : Gabriela\n",
      "Profissao : Arquiteta\n",
      "\n",
      "Nome : João\n",
      "Nome : Gabriela\n",
      "Profissao : Arquiteta\n",
      "\n",
      "{'nome': 'Gabriela', 'profissao': 'Arquiteta'}\n"
     ]
    }
   ],
   "source": [
    "def ImprimiUsuario(**usuario):\n",
    "    if 'nome' in usuario:\n",
    "        print(f\"Nome : {usuario['nome']}\")\n",
    "    if 'cpf' in usuario:\n",
    "        print(f\"CPF : {usuario['cpf']}\")\n",
    "    if 'profissao' in usuario:\n",
    "        print(f\"Profissao : {usuario['profissao']}\\n\")\n",
    "        \n",
    "    return usuario\n",
    "\n",
    "ImprimiUsuario(cpf = \"45782465928\", nome = \"Valéria\", profissao = \"Professora\", cidade = \"Sao Paulo\")\n",
    "ImprimiUsuario(nome = \"Gabriela\", profissao = \"Arquiteta\")\n",
    "ImprimiUsuario(nome = \"João\")\n",
    "print(ImprimiUsuario(nome = \"Gabriela\", profissao = \"Arquiteta\"))"
   ]
  },
  {
   "attachments": {},
   "cell_type": "markdown",
   "metadata": {},
   "source": [
    "---\n",
    "<div align=\"justify\">\n",
    "&emsp; Caso você já esteja trabalhando com um dicionário e queira passar ele como parâmetro na função basta usar dois asteriscos antes do nome dele na chamada e ele já virá desmenbradinho para ser usado! 😃<br>\n",
    "</div>"
   ]
  },
  {
   "cell_type": "code",
   "execution_count": 36,
   "metadata": {},
   "outputs": [
    {
     "name": "stdout",
     "output_type": "stream",
     "text": [
      "Nome : Claudia\n",
      "CPF : 26489575812\n",
      "Profissao : Atriz\n",
      "\n",
      "Nome : Claudia\n",
      "Profissao : Atriz\n",
      "\n"
     ]
    },
    {
     "data": {
      "text/plain": [
       "{'nome': 'Claudia', 'profissao': 'Atriz'}"
      ]
     },
     "execution_count": 36,
     "metadata": {},
     "output_type": "execute_result"
    }
   ],
   "source": [
    "usuario = {\n",
    "    'nome': 'Claudia',\n",
    "    'cpf': '26489575812',\n",
    "    'profissao': 'Atriz'\n",
    "}\n",
    "\n",
    "usuarioSemCPF = {\n",
    "    'nome': 'Claudia',\n",
    "    'profissao': 'Atriz'\n",
    "}\n",
    "\n",
    "ImprimiUsuario(**usuario) # ImprimiUsuario(nome = 'Claudia', cpf = '26489575812', profissao = 'Atriz')\n",
    "ImprimiUsuario(**usuarioSemCPF) # ImprimiUsuario(nome = 'Claudia', profissao = 'Atriz')"
   ]
  },
  {
   "attachments": {},
   "cell_type": "markdown",
   "metadata": {},
   "source": [
    "## 🎯 Exercícios 🎯 <a class=\"anchor\" id=\"quatro\"></a>\n",
    "\n",
    "**1)** Crie uma função chamada soma_numeros que aceite vários argumentos numéricos e retorne a soma deles. Teste a função passando diferentes quantidades de argumentos numéricos.\n",
    "\n",
    "Ex.: Ao chamar a função soma_numeros(1,2,3), retorna 6, soma_numeros(5) retorna 5."
   ]
  },
  {
   "cell_type": "code",
   "execution_count": 2,
   "metadata": {},
   "outputs": [
    {
     "name": "stdout",
     "output_type": "stream",
     "text": [
      "6\n",
      "17\n",
      "1\n"
     ]
    }
   ],
   "source": [
    "def soma_numeros(*numeros):\n",
    "    return sum(numeros)\n",
    "print(soma_numeros(1,2,3))\n",
    "print(soma_numeros(1,4,5,7))\n",
    "print(soma_numeros(1))"
   ]
  },
  {
   "attachments": {},
   "cell_type": "markdown",
   "metadata": {},
   "source": [
    "**2)** Escreva uma função chamada concatenar_strings que receba uma quantidade variável de strings como argumentos e retorne a concatenação de todas as strings fornecidas. Utilize o parâmetro *args para implementar essa função.\n",
    "\n",
    "Ex.: Ao chamar a função concatenar_strings('Olá','Mundo!') o retorno seja: 'Olá Mundo!'."
   ]
  },
  {
   "cell_type": "code",
   "execution_count": 1,
   "metadata": {},
   "outputs": [
    {
     "name": "stdout",
     "output_type": "stream",
     "text": [
      " Olá Mundo!\n",
      " Python é muito legal!\n"
     ]
    }
   ],
   "source": [
    "def concatenar_strings(*strings):\n",
    "    resposta = ''\n",
    "    for i in strings:\n",
    "        resposta += ' ' + i\n",
    "    return resposta\n",
    "print(concatenar_strings('Olá','Mundo!'))\n",
    "print(concatenar_strings(\"Python\", \"é\", \"muito\", \"legal!\"))"
   ]
  },
  {
   "attachments": {},
   "cell_type": "markdown",
   "metadata": {},
   "source": [
    "**3)** Escreva uma função chamada calcular_media_ponderada que recebe um número indefinido de tuplas, onde cada tupla contém duas informações: o valor da nota e o peso da nota. A função deve calcular e retornar a média ponderada das notas, levando em consideração os pesos."
   ]
  },
  {
   "cell_type": "code",
   "execution_count": 4,
   "metadata": {},
   "outputs": [
    {
     "name": "stdout",
     "output_type": "stream",
     "text": [
      "7.166666666666667\n"
     ]
    }
   ],
   "source": [
    "def calcular_media_ponderada(*notas):\n",
    "    soma_produtos = 0\n",
    "    soma_pesos = 0\n",
    "\n",
    "    for nota, peso in notas:\n",
    "        soma_produtos += nota * peso\n",
    "        soma_pesos += peso\n",
    "\n",
    "    media_ponderada = soma_produtos / soma_pesos\n",
    "    return media_ponderada\n",
    "\n",
    "# Exemplo de uso da função\n",
    "print(calcular_media_ponderada((7, 4), (8.5, 2), (6.5, 3)))"
   ]
  },
  {
   "attachments": {},
   "cell_type": "markdown",
   "metadata": {},
   "source": [
    "**4)** Crie uma função chamada imprimir_info que receba os seguintes argumentos nomeados: nome, idade e cidade. A função deve exibir as informações no seguinte formato: \"Fulano, X anos, de Cidade\". Se algum dos argumentos não for fornecido, a função deve utilizar um valor padrão correspondente.\n",
    "\n",
    "Ex.: imprimir_info(nome=\"João\", idade=25, cidade=\"São Paulo\")\n",
    "Retorno: João, 25 anos, de São Paulo"
   ]
  },
  {
   "cell_type": "code",
   "execution_count": 15,
   "metadata": {},
   "outputs": [
    {
     "name": "stdout",
     "output_type": "stream",
     "text": [
      "João, 25 anos, de São Paulo\n",
      "Maria, X anos, de Rio de Janeiro\n",
      "Fulano, 30 anos, de Cidade\n"
     ]
    }
   ],
   "source": [
    "def imprimir_info(**info):\n",
    "    nome = info.get(\"nome\", \"Fulano\")\n",
    "    idade = info.get(\"idade\", \"X\")\n",
    "    cidade = info.get(\"cidade\", \"Cidade\")\n",
    "    print(f\"{nome}, {idade} anos, de {cidade}\")\n",
    "\n",
    "imprimir_info(nome=\"João\", idade=25, cidade=\"São Paulo\")\n",
    "imprimir_info(nome=\"Maria\", cidade=\"Rio de Janeiro\")\n",
    "imprimir_info(idade=30)"
   ]
  },
  {
   "attachments": {},
   "cell_type": "markdown",
   "metadata": {},
   "source": [
    "**5)** Crie uma função chamada calcular_pagamento que receba os seguintes argumentos nomeados: horas_trabalhadas, valor_hora e bonus. A função deve calcular o pagamento total com base nas horas trabalhadas, no valor da hora e em um possível bônus. O bônus é opcional e tem o valor padrão de 0.\n",
    "\n",
    "Ex.: print(calcular_pagamento(horas_trabalhadas=30, valor_hora=8))\n",
    "Retorno: 240"
   ]
  },
  {
   "cell_type": "code",
   "execution_count": 16,
   "metadata": {},
   "outputs": [],
   "source": [
    "def calcular_pagamento(**pagamento):\n",
    "    horas_trabalhadas = pagamento.get(\"horas_trabalhadas\", 0)\n",
    "    valor_hora = pagamento.get(\"valor_hora\", 0)\n",
    "    bonus = pagamento.get(\"bonus\", 0)\n",
    "\n",
    "    pagamento_calc = horas_trabalhadas * valor_hora + bonus\n",
    "    return pagamento_calc"
   ]
  },
  {
   "cell_type": "code",
   "execution_count": 17,
   "metadata": {},
   "outputs": [
    {
     "name": "stdout",
     "output_type": "stream",
     "text": [
      "600\n",
      "240\n",
      "0\n"
     ]
    }
   ],
   "source": [
    "print(calcular_pagamento(horas_trabalhadas=40, valor_hora=10, bonus=200))\n",
    "print(calcular_pagamento(horas_trabalhadas=30, valor_hora=8))\n",
    "print(calcular_pagamento(valor_hora=12))"
   ]
  },
  {
   "attachments": {},
   "cell_type": "markdown",
   "metadata": {},
   "source": [
    "**6)** Escreva uma função chamada exibir_dados_aluno que recebe os seguintes argumentos nomeados: nome, idade, cidade e **outras_informacoes. A função deve exibir os dados do aluno, incluindo as informações extras contidas no dicionário outras_informacoes."
   ]
  },
  {
   "cell_type": "code",
   "execution_count": 22,
   "metadata": {},
   "outputs": [
    {
     "name": "stdout",
     "output_type": "stream",
     "text": [
      "Nome: João\n",
      "Idade: 25\n",
      "Cidade: São Paulo\n",
      "Outras informações:\n",
      "curso: Engenharia\n",
      "semestre: 5\n"
     ]
    }
   ],
   "source": [
    "def exibir_dados_aluno(nome, idade, cidade, **outras_informacoes):\n",
    "    print(f\"Nome: {nome}\")\n",
    "    print(f\"Idade: {idade}\")\n",
    "    print(f\"Cidade: {cidade}\")\n",
    "\n",
    "    if outras_informacoes:\n",
    "        print(\"Outras informações:\")\n",
    "        for chave, valor in outras_informacoes.items():\n",
    "            print(f\"{chave}: {valor}\")\n",
    "\n",
    "# Exemplo de uso da função\n",
    "exibir_dados_aluno(nome=\"João\", idade=25, cidade=\"São Paulo\", curso=\"Engenharia\", semestre=5)"
   ]
  },
  {
   "cell_type": "code",
   "execution_count": null,
   "metadata": {},
   "outputs": [],
   "source": []
  }
 ],
 "metadata": {
  "kernelspec": {
   "display_name": "Python 3",
   "language": "python",
   "name": "python3"
  },
  "language_info": {
   "codemirror_mode": {
    "name": "ipython",
    "version": 3
   },
   "file_extension": ".py",
   "mimetype": "text/x-python",
   "name": "python",
   "nbconvert_exporter": "python",
   "pygments_lexer": "ipython3",
   "version": "3.11.5"
  }
 },
 "nbformat": 4,
 "nbformat_minor": 4
}
