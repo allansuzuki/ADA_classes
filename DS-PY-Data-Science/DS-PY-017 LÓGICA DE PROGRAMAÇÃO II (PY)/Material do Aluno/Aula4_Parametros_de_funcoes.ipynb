{
 "cells": [
  {
   "cell_type": "markdown",
   "metadata": {},
   "source": [
    "# 🎯 Aula 4 - Parâmetros de funções 🎯<br>"
   ]
  },
  {
   "attachments": {},
   "cell_type": "markdown",
   "metadata": {},
   "source": [
    "Nesta aula vamos explorar alguns conceitos avançados de funções em Python. Vamos aprender sobre:\n",
    "* parâmetros com valor padrão, \n",
    "* parâmetros múltiplos (\\*args) \n",
    "* parâmetros opcionais (**kwargs). \n",
    "\n",
    "Esses recursos são muito úteis para tornar nossas funções mais flexíveis e poderosas. Vamos começar!"
   ]
  },
  {
   "attachments": {},
   "cell_type": "markdown",
   "metadata": {},
   "source": [
    "## 📍 Tópicos de Hoje 📍\n",
    "<br>\n",
    "\n",
    "👶 [Estrutura de Dados Aplicadas às Funções](#um)\n",
    "\n",
    "🚶‍ [Parâmetros múltiplos (*args)](#dois)\n",
    "\n",
    "🏃 [Parâmetros opcionais (**kwargs)](#tres)\n",
    "    \n",
    "🏆 [Exercícios](#quatro)\n"
   ]
  },
  {
   "attachments": {},
   "cell_type": "markdown",
   "metadata": {},
   "source": [
    "# 📜  Estrutura de dados Aplicadas às Funções 📜 <a class=\"anchor\" id=\"um\"></a>\n",
    "<br>\n",
    "\n",
    "## Tuplas\n",
    "\n",
    "<div align=\"justify\">\n",
    " As tuplas são declaradas entre parênteses, possuem algumas funções nativas semelhantes as listas, como len() e type(), e também são consultadas da mesma maneira com os colchetes. Além disso é importante notar que tuplas aceitam dados mistos dentro de sí.\n",
    "</div>"
   ]
  },
  {
   "cell_type": "code",
   "execution_count": 1,
   "metadata": {},
   "outputs": [
    {
     "name": "stdout",
     "output_type": "stream",
     "text": [
      "Pera\n",
      "5\n",
      "<class 'tuple'>\n"
     ]
    }
   ],
   "source": [
    "nossaPrimeiraTupla = (\"Manga\", \"Pera\", 7, True, 0.34)\n",
    "print(nossaPrimeiraTupla[1])\n",
    "print(len(nossaPrimeiraTupla))\n",
    "print(type(nossaPrimeiraTupla))"
   ]
  },
  {
   "attachments": {},
   "cell_type": "markdown",
   "metadata": {},
   "source": [
    "---\n",
    "<div align=\"justify\">\n",
    "&emsp; Tuplas podem ser desempacotadas, isso é, desmembrar seus valores para variaveis individuais, ou mesmo para as listas usando <b>*</b>.\n",
    "</div>"
   ]
  },
  {
   "cell_type": "code",
   "execution_count": 3,
   "metadata": {},
   "outputs": [
    {
     "name": "stdout",
     "output_type": "stream",
     "text": [
      "5\n",
      "10\n"
     ]
    }
   ],
   "source": [
    "x, y = 5, 10\n",
    "print(x)\n",
    "print(y)"
   ]
  },
  {
   "cell_type": "code",
   "execution_count": 8,
   "metadata": {},
   "outputs": [
    {
     "name": "stdout",
     "output_type": "stream",
     "text": [
      "Manga\n",
      "Pera\n",
      "[7, 5, 6]\n",
      "True\n",
      "0.34\n"
     ]
    }
   ],
   "source": [
    "nossaPrimeiraTupla = (\"Manga\", \"Pera\", 7, 5, 6, True, 0.34)\n",
    "fruta1, fruta2, *restoTupla, varVerdadeiro, ultimoNumero = nossaPrimeiraTupla\n",
    "print(fruta1)\n",
    "print(fruta2)\n",
    "print(restoTupla) # Note que restoTupla é uma lista com tudo que sobrou do desempacotamento\n",
    "print(varVerdadeiro) \n",
    "print(ultimoNumero) "
   ]
  },
  {
   "cell_type": "code",
   "execution_count": 11,
   "metadata": {},
   "outputs": [
    {
     "data": {
      "text/plain": [
       "(7, 5, 6)"
      ]
     },
     "execution_count": 11,
     "metadata": {},
     "output_type": "execute_result"
    }
   ],
   "source": [
    "nossaPrimeiraTupla[2:5]"
   ]
  },
  {
   "attachments": {},
   "cell_type": "markdown",
   "metadata": {},
   "source": [
    "---\n",
    "<div align=\"justify\">\n",
    "&emsp; Tuplas também possuem os métodos count() e index() que, respectivamente, contam quantos dados iguais ao que passarmos a tupla possui, e em qual <i>index</i> está o primeiro dado igual ao que passamos.\n",
    "</div>"
   ]
  },
  {
   "cell_type": "code",
   "execution_count": 1,
   "metadata": {},
   "outputs": [
    {
     "name": "stdout",
     "output_type": "stream",
     "text": [
      "Manga aparece 2 vezes na tupla\n",
      "O primeiro True está na index \"3\"\n"
     ]
    }
   ],
   "source": [
    "tuplaTres =  ('Manga', 'Pera', 7, True, 0.34, 'Brian', 10, 'Manga', 'Pera', 7, True, 0.34, 'Brian', 10)\n",
    "repeticoesManga = tuplaTres.count(\"Manga\")\n",
    "print(f\"Manga aparece {repeticoesManga} vezes na tupla\")\n",
    "\n",
    "indexPrimeiroTrue = tuplaTres.index(True)\n",
    "print(f\"O primeiro True está na index \\\"{indexPrimeiroTrue}\\\"\")"
   ]
  },
  {
   "attachments": {},
   "cell_type": "markdown",
   "metadata": {},
   "source": [
    "## 📚 Dicionários: Muito Além do Livro que Você Usou na Escola 📚\n",
    "\n",
    "<div align=\"justify\">\n",
    "&emsp; Dicionarios são declarados entre chaves, e acessados com colchetes (usando as palavras-chave e não as <i>indexes</i>) ou com a função get() usando a palavra-chave como parâmetro. Além disso com a função keys() podemos listar todas as palavras-chave de um dado dicionário.\n",
    "</div>"
   ]
  },
  {
   "cell_type": "code",
   "execution_count": 51,
   "metadata": {},
   "outputs": [
    {
     "name": "stdout",
     "output_type": "stream",
     "text": [
      "Dicionario: {'nome': 'Lucas', 'idade': 32, 'profissao': 'Empresario', 'filhos': ['Ana', 'Claudio', 'Luiza']} \n",
      "\n",
      "Chaves: dict_keys(['nome', 'idade', 'profissao', 'filhos']) \n",
      "\n",
      "Nome: Lucas \n",
      "\n",
      "Valores: dict_values(['Lucas', 32, 'Empresario', ['Ana', 'Claudio', 'Luiza']]) \n",
      "\n",
      "Itens: dict_items([('nome', 'Lucas'), ('idade', 32), ('profissao', 'Empresario'), ('filhos', ['Ana', 'Claudio', 'Luiza'])])\n"
     ]
    }
   ],
   "source": [
    "pessoa = {\n",
    "    \"nome\": \"Lucas\",\n",
    "    \"idade\": 32,\n",
    "    \"profissao\": \"Empresario\",\n",
    "    \"filhos\": [\"Ana\", \"Claudio\", \"Luiza\"]\n",
    "}\n",
    "\n",
    "print(\"Dicionario:\",pessoa,\"\\n\")\n",
    "print(\"Chaves:\",pessoa.keys(),\"\\n\")\n",
    "print(\"Nome:\",pessoa[\"nome\"],\"\\n\")\n",
    "\n",
    "# values() retorna os valores armezenados\n",
    "print(\"Valores:\",pessoa.values(),\"\\n\")\n",
    "# items() retorna uma lista de tuplas contendo palavra chave e valor associado\n",
    "print(\"Itens:\",pessoa.items())"
   ]
  },
  {
   "attachments": {},
   "cell_type": "markdown",
   "metadata": {},
   "source": [
    "---\n",
    "<div align=\"justify\">\n",
    "&emsp; Dicionário podem ser usados em <i>loops</i> normalmente também, apenas uma atenção ao uso juntamente do  método items() que pode ser interessante.<br>\n",
    "</div>"
   ]
  },
  {
   "cell_type": "code",
   "execution_count": 65,
   "metadata": {},
   "outputs": [
    {
     "name": "stdout",
     "output_type": "stream",
     "text": [
      "nome\n",
      "Lucas\n",
      "idade\n",
      "32\n",
      "profissao\n",
      "Empresario\n",
      "\n",
      "Lucas\n",
      "32\n",
      "Empresario\n",
      "\n",
      "A chave 'nome' possui valor: 'Lucas'\n",
      "A chave 'idade' possui valor: '32'\n",
      "A chave 'profissao' possui valor: 'Empresario'\n"
     ]
    }
   ],
   "source": [
    "pessoa = {\n",
    "    \"nome\": \"Lucas\",\n",
    "    \"idade\": 32,\n",
    "    \"profissao\": \"Empresario\"\n",
    "}\n",
    "\n",
    "for dado in pessoa:\n",
    "    print(dado)\n",
    "    print(pessoa[dado])\n",
    "    \n",
    "print()\n",
    "for dado in pessoa.values():\n",
    "    print(dado)\n",
    "\n",
    "print()\n",
    "    \n",
    "for chave, valor in pessoa.items():\n",
    "    print(f\"A chave '{chave}' possui valor: '{valor}'\")"
   ]
  },
  {
   "attachments": {},
   "cell_type": "markdown",
   "metadata": {},
   "source": [
    "## 🚦 Estrutura de Dados Aplicadas as Funções 🚦 <a class=\"anchor\" id=\"tres\"></a>\n",
    "<br>"
   ]
  },
  {
   "attachments": {},
   "cell_type": "markdown",
   "metadata": {},
   "source": [
    "---\n",
    "<div align=\"justify\">\n",
    "&emsp; Parâmetros com valor padrão:\n",
    "\n",
    "Em Python, podemos definir valores padrão para os parâmetros de uma função. Isso significa que, ao chamar a função, podemos omitir os valores para esses parâmetros e eles assumirão os valores padrão predefinidos. Isso nos dá a flexibilidade de ter argumentos opcionais em nossas funções. Vamos ver um exemplo:<br>\n",
    "\n",
    "</div>"
   ]
  },
  {
   "cell_type": "code",
   "execution_count": 1,
   "metadata": {},
   "outputs": [
    {
     "name": "stdout",
     "output_type": "stream",
     "text": [
      "Olá, Fulano\n",
      "Olá, João\n"
     ]
    }
   ],
   "source": [
    "def saudacao(nome=\"Fulano\"):\n",
    "    print(\"Olá,\", nome)\n",
    "\n",
    "saudacao()  # Saída: Olá, Fulano\n",
    "saudacao(\"João\")  # Saída: Olá, João"
   ]
  },
  {
   "attachments": {},
   "cell_type": "markdown",
   "metadata": {},
   "source": [
    "---\n",
    "No exemplo acima, definimos a função saudacao com um parâmetro nome que tem o valor padrão \"Fulano\". Se chamarmos a função sem fornecer um valor para o parâmetro nome, ele assumirá o valor padrão \"Fulano\". Mas se fornecermos um valor, ele será usado em vez do valor padrão."
   ]
  },
  {
   "attachments": {},
   "cell_type": "markdown",
   "metadata": {},
   "source": [
    "---\n",
    "<div align=\"justify\">\n",
    "&emsp; Funções podem ser mais flexíveis do que o que vimos até agora. Ao usar o conceito de desempacotamento, por exemplo, podemos retornar duas ou mais variáveis na mesma função:<br>\n",
    "</div>"
   ]
  },
  {
   "cell_type": "code",
   "execution_count": 3,
   "metadata": {},
   "outputs": [
    {
     "name": "stdout",
     "output_type": "stream",
     "text": [
      "2 e 0.5\n"
     ]
    }
   ],
   "source": [
    "def MultiplicaDivideDois(n = 1):\n",
    "    mult = n*2\n",
    "    div = n/2\n",
    "    return mult, div\n",
    "\n",
    "Multiplicado, Dividido = MultiplicaDivideDois()\n",
    "print(Multiplicado, \"e\", Dividido)"
   ]
  },
  {
   "attachments": {},
   "cell_type": "markdown",
   "metadata": {},
   "source": [
    "---\n",
    "<div align=\"justify\">\n",
    "&emsp; Agora com o conceito de tuplas podemos, também, passar parâmetros de maneira variável para dentro de uma função, para isso basta colocar um asterisco antes do nome do parâmetro, e dentro da função ele será trabalhado como uma tupla!<br>\n",
    "</div>"
   ]
  },
  {
   "cell_type": "code",
   "execution_count": 9,
   "metadata": {},
   "outputs": [
    {
     "name": "stdout",
     "output_type": "stream",
     "text": [
      "ola-2-teste-ola-2-teste\n"
     ]
    }
   ],
   "source": [
    "print(\"ola\", \"2\", \"teste\", \"ola\", \"2\", \"teste\", sep=\"-\")"
   ]
  },
  {
   "attachments": {},
   "cell_type": "markdown",
   "metadata": {},
   "source": [
    "---\n",
    "<div align=\"justify\">\n",
    "&emsp; Às vezes, não sabemos quantos argumentos serão passados para uma função. Em tais casos, podemos usar parâmetros múltiplos, que são representados pelo * seguido por um nome de variável (por convenção, args, mas o nome pode ser qualquer um). Isso permite que a função receba um número variável de argumentos, que serão agrupados em uma tupla. Vejamos um exemplo: <br>\n",
    "</div>"
   ]
  },
  {
   "cell_type": "code",
   "execution_count": 10,
   "metadata": {},
   "outputs": [
    {
     "name": "stdout",
     "output_type": "stream",
     "text": [
      "Sua pizza terá 3 ingredientes\n",
      "Adicionando Queijo...\n",
      "Adicionando Mussarela...\n",
      "Adicionando Frango...\n",
      "Pizza finalizada! Bom apetite!\n",
      "\n",
      "Sua pizza terá 2 ingredientes\n",
      "Adicionando Queijo...\n",
      "Adicionando Bacon...\n",
      "Pizza finalizada! Bom apetite!\n",
      "\n",
      "Sua pizza terá 0 ingredientes\n",
      "Pizza finalizada! Bom apetite!\n",
      "\n"
     ]
    }
   ],
   "source": [
    "def MontaPizza(*ingredientes):\n",
    "    print(f\"Sua pizza terá {len(ingredientes)} ingredientes\")\n",
    "    for igdt in ingredientes:\n",
    "        print(f\"Adicionando {igdt}...\")\n",
    "    print(\"Pizza finalizada! Bom apetite!\\n\")\n",
    "    \n",
    "MontaPizza(\"Queijo\", \"Mussarela\", \"Frango\")\n",
    "\n",
    "MontaPizza(\"Queijo\", \"Bacon\")\n",
    "\n",
    "# Podemos passar até vazia sem problemas\n",
    "MontaPizza()"
   ]
  },
  {
   "cell_type": "code",
   "execution_count": 12,
   "metadata": {},
   "outputs": [],
   "source": [
    "cardapio = {\n",
    "    \"catupiry\": [\"queijo\", \"azeitona\"],\n",
    "    \"bacon defumado\": [\"queijo\", \"bacon defumado\"],\n",
    "    \"brocolis\": [\"brocolis\"]\n",
    "}"
   ]
  },
  {
   "cell_type": "code",
   "execution_count": 29,
   "metadata": {},
   "outputs": [
    {
     "name": "stdout",
     "output_type": "stream",
     "text": [
      "Sua pizza terá 2 ingredientes\n",
      "Adicionando queijo...\n",
      "Adicionando azeitona...\n",
      "Pizza finalizada! Bom apetite!\n",
      "\n"
     ]
    }
   ],
   "source": [
    "# print(cardapio[\"bacon defumado\"])\n",
    "# print(*cardapio[\"bacon defumado\"])\n",
    "MontaPizza(*cardapio[\"catupiry\"])"
   ]
  },
  {
   "cell_type": "code",
   "execution_count": 13,
   "metadata": {},
   "outputs": [
    {
     "name": "stdout",
     "output_type": "stream",
     "text": [
      "1 2 3 4\n"
     ]
    }
   ],
   "source": [
    "lista = [1, 2, 3, 4]\n",
    "print(*lista) # print(1, 2, 3, 4)"
   ]
  },
  {
   "attachments": {},
   "cell_type": "markdown",
   "metadata": {},
   "source": [
    "---\n",
    "<div align=\"justify\">\n",
    "Além dos parâmetros posicionais e dos parâmetros múltiplos, também podemos ter parâmetros opcionais nomeados. Isso é possível usando ** seguido por um nome de variável (por convenção, kwargs, mas o nome pode ser qualquer um). Os parâmetros opcionais são passados como pares de chave-valor e são agrupados em um dicionário dentro da função. <br>\n",
    "</div>"
   ]
  },
  {
   "attachments": {},
   "cell_type": "markdown",
   "metadata": {},
   "source": [
    "Kwargs = Key Word Argument = Argumento de Palavra Chave"
   ]
  },
  {
   "attachments": {},
   "cell_type": "markdown",
   "metadata": {},
   "source": [
    "---\n",
    "<div align=\"justify\">\n",
    "&emsp; Note, entretanto, que este método não é eficiente se quisermos ter maior controle daquilo que nos foi passado pelos parâmetros uma vez que recebemos os dados sem ordem controlada, ou mesmo identificadores, e para isso podemos usar dicionários! Basta marcarmos o nome do parâmetro com dois asteriscos antes dele. <br>\n",
    "</div>"
   ]
  },
  {
   "cell_type": "code",
   "execution_count": 35,
   "metadata": {},
   "outputs": [
    {
     "name": "stdout",
     "output_type": "stream",
     "text": [
      "Nome : Valéria\n",
      "CPF : 45782465928\n",
      "Profissao : Professora\n",
      "\n",
      "Nome : Gabriela\n",
      "Profissao : Arquiteta\n",
      "\n",
      "Nome : João\n",
      "Nome : Gabriela\n",
      "Profissao : Arquiteta\n",
      "\n",
      "{'nome': 'Gabriela', 'profissao': 'Arquiteta'}\n"
     ]
    }
   ],
   "source": [
    "def ImprimiUsuario(**usuario):\n",
    "    if 'nome' in usuario:\n",
    "        print(f\"Nome : {usuario['nome']}\")\n",
    "    if 'cpf' in usuario:\n",
    "        print(f\"CPF : {usuario['cpf']}\")\n",
    "    if 'profissao' in usuario:\n",
    "        print(f\"Profissao : {usuario['profissao']}\\n\")\n",
    "        \n",
    "    return usuario\n",
    "\n",
    "ImprimiUsuario(cpf = \"45782465928\", nome = \"Valéria\", profissao = \"Professora\", cidade = \"Sao Paulo\")\n",
    "ImprimiUsuario(nome = \"Gabriela\", profissao = \"Arquiteta\")\n",
    "ImprimiUsuario(nome = \"João\")\n",
    "print(ImprimiUsuario(nome = \"Gabriela\", profissao = \"Arquiteta\"))"
   ]
  },
  {
   "attachments": {},
   "cell_type": "markdown",
   "metadata": {},
   "source": [
    "---\n",
    "<div align=\"justify\">\n",
    "&emsp; Caso você já esteja trabalhando com um dicionário e queira passar ele como parâmetro na função basta usar dois asteriscos antes do nome dele na chamada e ele já virá desmenbradinho para ser usado! 😃<br>\n",
    "</div>"
   ]
  },
  {
   "cell_type": "code",
   "execution_count": 36,
   "metadata": {},
   "outputs": [
    {
     "name": "stdout",
     "output_type": "stream",
     "text": [
      "Nome : Claudia\n",
      "CPF : 26489575812\n",
      "Profissao : Atriz\n",
      "\n",
      "Nome : Claudia\n",
      "Profissao : Atriz\n",
      "\n"
     ]
    },
    {
     "data": {
      "text/plain": [
       "{'nome': 'Claudia', 'profissao': 'Atriz'}"
      ]
     },
     "execution_count": 36,
     "metadata": {},
     "output_type": "execute_result"
    }
   ],
   "source": [
    "usuario = {\n",
    "    'nome': 'Claudia',\n",
    "    'cpf': '26489575812',\n",
    "    'profissao': 'Atriz'\n",
    "}\n",
    "\n",
    "usuarioSemCPF = {\n",
    "    'nome': 'Claudia',\n",
    "    'profissao': 'Atriz'\n",
    "}\n",
    "\n",
    "ImprimiUsuario(**usuario) # ImprimiUsuario(nome = 'Claudia', cpf = '26489575812', profissao = 'Atriz')\n",
    "ImprimiUsuario(**usuarioSemCPF) # ImprimiUsuario(nome = 'Claudia', profissao = 'Atriz')"
   ]
  },
  {
   "attachments": {},
   "cell_type": "markdown",
   "metadata": {},
   "source": [
    "## 🎯 Exercícios 🎯 <a class=\"anchor\" id=\"quatro\"></a>\n",
    "\n",
    "**1)** Crie uma função chamada soma_numeros que aceite vários argumentos numéricos e retorne a soma deles. Teste a função passando diferentes quantidades de argumentos numéricos.\n",
    "\n",
    "Ex.: Ao chamar a função soma_numeros(1,2,3), retorna 6, soma_numeros(5) retorna 5."
   ]
  },
  {
   "cell_type": "code",
   "execution_count": 2,
   "metadata": {},
   "outputs": [
    {
     "name": "stdout",
     "output_type": "stream",
     "text": [
      "6\n",
      "17\n",
      "1\n"
     ]
    }
   ],
   "source": [
    "def soma_numeros(*numeros):\n",
    "    return sum(numeros)\n",
    "print(soma_numeros(1,2,3))\n",
    "print(soma_numeros(1,4,5,7))\n",
    "print(soma_numeros(1))"
   ]
  },
  {
   "attachments": {},
   "cell_type": "markdown",
   "metadata": {},
   "source": [
    "**2)** Escreva uma função chamada concatenar_strings que receba uma quantidade variável de strings como argumentos e retorne a concatenação de todas as strings fornecidas. Utilize o parâmetro *args para implementar essa função.\n",
    "\n",
    "Ex.: Ao chamar a função concatenar_strings('Olá','Mundo!') o retorno seja: 'Olá Mundo!'."
   ]
  },
  {
   "cell_type": "code",
   "execution_count": 1,
   "metadata": {},
   "outputs": [
    {
     "name": "stdout",
     "output_type": "stream",
     "text": [
      " Olá Mundo!\n",
      " Python é muito legal!\n"
     ]
    }
   ],
   "source": [
    "def concatenar_strings(*strings):\n",
    "    resposta = ''\n",
    "    for i in strings:\n",
    "        resposta += ' ' + i\n",
    "    return resposta\n",
    "print(concatenar_strings('Olá','Mundo!'))\n",
    "print(concatenar_strings(\"Python\", \"é\", \"muito\", \"legal!\"))"
   ]
  },
  {
   "attachments": {},
   "cell_type": "markdown",
   "metadata": {},
   "source": [
    "**3)** Escreva uma função chamada calcular_media_ponderada que recebe um número indefinido de tuplas, onde cada tupla contém duas informações: o valor da nota e o peso da nota. A função deve calcular e retornar a média ponderada das notas, levando em consideração os pesos."
   ]
  },
  {
   "cell_type": "code",
   "execution_count": 4,
   "metadata": {},
   "outputs": [
    {
     "name": "stdout",
     "output_type": "stream",
     "text": [
      "7.166666666666667\n"
     ]
    }
   ],
   "source": [
    "def calcular_media_ponderada(*notas):\n",
    "    soma_produtos = 0\n",
    "    soma_pesos = 0\n",
    "\n",
    "    for nota, peso in notas:\n",
    "        soma_produtos += nota * peso\n",
    "        soma_pesos += peso\n",
    "\n",
    "    media_ponderada = soma_produtos / soma_pesos\n",
    "    return media_ponderada\n",
    "\n",
    "# Exemplo de uso da função\n",
    "print(calcular_media_ponderada((7, 4), (8.5, 2), (6.5, 3)))"
   ]
  },
  {
   "attachments": {},
   "cell_type": "markdown",
   "metadata": {},
   "source": [
    "**4)** Crie uma função chamada imprimir_info que receba os seguintes argumentos nomeados: nome, idade e cidade. A função deve exibir as informações no seguinte formato: \"Fulano, X anos, de Cidade\". Se algum dos argumentos não for fornecido, a função deve utilizar um valor padrão correspondente.\n",
    "\n",
    "Ex.: imprimir_info(nome=\"João\", idade=25, cidade=\"São Paulo\")\n",
    "Retorno: João, 25 anos, de São Paulo"
   ]
  },
  {
   "cell_type": "code",
   "execution_count": 15,
   "metadata": {},
   "outputs": [
    {
     "name": "stdout",
     "output_type": "stream",
     "text": [
      "João, 25 anos, de São Paulo\n",
      "Maria, X anos, de Rio de Janeiro\n",
      "Fulano, 30 anos, de Cidade\n"
     ]
    }
   ],
   "source": [
    "def imprimir_info(**info):\n",
    "    nome = info.get(\"nome\", \"Fulano\")\n",
    "    idade = info.get(\"idade\", \"X\")\n",
    "    cidade = info.get(\"cidade\", \"Cidade\")\n",
    "    print(f\"{nome}, {idade} anos, de {cidade}\")\n",
    "\n",
    "imprimir_info(nome=\"João\", idade=25, cidade=\"São Paulo\")\n",
    "imprimir_info(nome=\"Maria\", cidade=\"Rio de Janeiro\")\n",
    "imprimir_info(idade=30)"
   ]
  },
  {
   "attachments": {},
   "cell_type": "markdown",
   "metadata": {},
   "source": [
    "**5)** Crie uma função chamada calcular_pagamento que receba os seguintes argumentos nomeados: horas_trabalhadas, valor_hora e bonus. A função deve calcular o pagamento total com base nas horas trabalhadas, no valor da hora e em um possível bônus. O bônus é opcional e tem o valor padrão de 0.\n",
    "\n",
    "Ex.: print(calcular_pagamento(horas_trabalhadas=30, valor_hora=8))\n",
    "Retorno: 240"
   ]
  },
  {
   "cell_type": "code",
   "execution_count": 16,
   "metadata": {},
   "outputs": [],
   "source": [
    "def calcular_pagamento(**pagamento):\n",
    "    horas_trabalhadas = pagamento.get(\"horas_trabalhadas\", 0)\n",
    "    valor_hora = pagamento.get(\"valor_hora\", 0)\n",
    "    bonus = pagamento.get(\"bonus\", 0)\n",
    "\n",
    "    pagamento_calc = horas_trabalhadas * valor_hora + bonus\n",
    "    return pagamento_calc"
   ]
  },
  {
   "cell_type": "code",
   "execution_count": 17,
   "metadata": {},
   "outputs": [
    {
     "name": "stdout",
     "output_type": "stream",
     "text": [
      "600\n",
      "240\n",
      "0\n"
     ]
    }
   ],
   "source": [
    "print(calcular_pagamento(horas_trabalhadas=40, valor_hora=10, bonus=200))\n",
    "print(calcular_pagamento(horas_trabalhadas=30, valor_hora=8))\n",
    "print(calcular_pagamento(valor_hora=12))"
   ]
  },
  {
   "attachments": {},
   "cell_type": "markdown",
   "metadata": {},
   "source": [
    "**6)** Escreva uma função chamada exibir_dados_aluno que recebe os seguintes argumentos nomeados: nome, idade, cidade e **outras_informacoes. A função deve exibir os dados do aluno, incluindo as informações extras contidas no dicionário outras_informacoes."
   ]
  },
  {
   "cell_type": "code",
   "execution_count": 22,
   "metadata": {},
   "outputs": [
    {
     "name": "stdout",
     "output_type": "stream",
     "text": [
      "Nome: João\n",
      "Idade: 25\n",
      "Cidade: São Paulo\n",
      "Outras informações:\n",
      "curso: Engenharia\n",
      "semestre: 5\n"
     ]
    }
   ],
   "source": [
    "def exibir_dados_aluno(nome, idade, cidade, **outras_informacoes):\n",
    "    print(f\"Nome: {nome}\")\n",
    "    print(f\"Idade: {idade}\")\n",
    "    print(f\"Cidade: {cidade}\")\n",
    "\n",
    "    if outras_informacoes:\n",
    "        print(\"Outras informações:\")\n",
    "        for chave, valor in outras_informacoes.items():\n",
    "            print(f\"{chave}: {valor}\")\n",
    "\n",
    "# Exemplo de uso da função\n",
    "exibir_dados_aluno(nome=\"João\", idade=25, cidade=\"São Paulo\", curso=\"Engenharia\", semestre=5)"
   ]
  },
  {
   "cell_type": "code",
   "execution_count": null,
   "metadata": {},
   "outputs": [],
   "source": []
  }
 ],
 "metadata": {
  "kernelspec": {
   "display_name": "Python 3",
   "language": "python",
   "name": "python3"
  },
  "language_info": {
   "codemirror_mode": {
    "name": "ipython",
    "version": 3
   },
   "file_extension": ".py",
   "mimetype": "text/x-python",
   "name": "python",
   "nbconvert_exporter": "python",
   "pygments_lexer": "ipython3",
   "version": "3.9.13"
  }
 },
 "nbformat": 4,
 "nbformat_minor": 4
}
