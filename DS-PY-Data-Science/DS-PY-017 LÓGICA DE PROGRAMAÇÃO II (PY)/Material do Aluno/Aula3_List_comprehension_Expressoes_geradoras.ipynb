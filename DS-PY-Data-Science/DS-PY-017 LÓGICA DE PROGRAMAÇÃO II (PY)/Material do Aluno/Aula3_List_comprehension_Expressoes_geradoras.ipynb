{
  "cells": [
    {
      "cell_type": "markdown",
      "metadata": {},
      "source": [
        "# 🎯 Aula 3 - List Comprehension e Expressões geradoras🎯<br>"
      ]
    },
    {
      "cell_type": "markdown",
      "metadata": {},
      "source": [
        "# Caso real"
      ]
    },
    {
      "cell_type": "markdown",
      "metadata": {},
      "source": [
        "O time de marketing está prestes a lançar uma campanha de um novo programa de refinanciamento de dívidas voltados para devedores em condições extremas. Eles querem ter uma ideia de quantas pessoas podem ser impactadas pela campanha e quais os possíveis clientes para iniciar a estratégia. \n",
        "\n",
        "Como analista de dados em uma instituição financeira, você foi encarregado de auxiliar o time de marketing na identificação do público-alvo. O time de marketing pediu para enviar uma lista de possíveis clientes-alvo para iniciar a campanha dentro das regioes dos estados de MG, SP e RJ.\n",
        "\n",
        "Segue os dados de clientes fornecidos para análise:\n",
        "\n",
        "``` json\n",
        "contas_bancarias = [\n",
        "    {\"numero\": \"123456\", \"saldo\": -100.50, \"estado\": \"SP\"},\n",
        "    {\"numero\": \"789012\", \"saldo\": 200.30, \"estado\": \"RJ\"},\n",
        "    {\"numero\": \"345678\", \"saldo\": -50.70, \"estado\": \"SP\"},\n",
        "    {\"numero\": \"901234\", \"saldo\": -300.00, \"estado\": \"MG\"},\n",
        "    {\"numero\": \"567890\", \"saldo\": 150.75, \"estado\": \"MG\"},\n",
        "    {\"numero\": \"234567\", \"saldo\": -20.00, \"estado\": \"RJ\"},\n",
        "    {\"numero\": \"890123\", \"saldo\": -10.50, \"estado\": \"SP\"},\n",
        "    {\"numero\": \"456789\", \"saldo\": 50.25, \"estado\": \"SP\"},\n",
        "    {\"numero\": \"012345\", \"saldo\": -75.80, \"estado\": \"MG\"},\n",
        "    {\"numero\": \"678901\", \"saldo\": -200.00, \"estado\": \"RJ\"},\n",
        "    ...\n",
        "]\n",
        "```\n",
        "\n",
        "Como você faria para resolver esta questão?"
      ]
    },
    {
      "attachments": {},
      "cell_type": "markdown",
      "metadata": {
        "id": "15rYf39GGwKJ"
      },
      "source": [
        "# List Comprehension\n",
        "\n",
        "Compreensão de listas é uma das maneiras mais <s>rápidas e elegantes</s> pythonicas de se criar uma lista:<br>\n",
        "\n",
        "```python\n",
        "novaLista = [expressao for item in algoIteravel]\n",
        "```"
      ]
    },
    {
      "cell_type": "code",
      "execution_count": null,
      "metadata": {
        "id": "9EzNQGljGwKQ",
        "outputId": "237ef596-0927-4ebe-98a5-750a9fcdb8fe"
      },
      "outputs": [
        {
          "name": "stdout",
          "output_type": "stream",
          "text": [
            "4.32 µs ± 215 ns per loop (mean ± std. dev. of 7 runs, 100000 loops each)\n"
          ]
        }
      ],
      "source": [
        "# criando uma lista a partir de list comprehension de 0 a 100\n",
        "%%timeit\n",
        "listaZeroACem = [i for i in range(101)]"
      ]
    },
    {
      "cell_type": "markdown",
      "metadata": {},
      "source": [
        "Vamos comparar com o `for` que cria uma lista sem utilizar o list comprehension:"
      ]
    },
    {
      "cell_type": "code",
      "execution_count": 2,
      "metadata": {
        "id": "gyydiB3XGwKO",
        "outputId": "3b4a64ec-f35f-4115-f5da-a94c9bd1f401"
      },
      "outputs": [
        {
          "name": "stdout",
          "output_type": "stream",
          "text": [
            "18.2 µs ± 1.72 µs per loop (mean ± std. dev. of 7 runs, 100,000 loops each)\n"
          ]
        }
      ],
      "source": [
        "# criando uma lista de 0 a 100 a partir de for e append\n",
        "%%timeit\n",
        "listaZeroACem = []\n",
        "\n",
        "for i in range(101):\n",
        "    listaZeroACem.append(i)"
      ]
    },
    {
      "cell_type": "markdown",
      "metadata": {},
      "source": [
        "Podemos peceber que o tempo de execução do list comprehension é **menor** que o for tradicional.<br>\n",
        "Ou seja, o list comprehension é mais **otimizado** neste caso."
      ]
    },
    {
      "attachments": {},
      "cell_type": "markdown",
      "metadata": {},
      "source": [
        "**OBS.:** Ao usar %%timeit em uma célula do Jupyter Notebook, o código contido na célula é executado várias vezes e o tempo médio de execução é calculado. Isso ajuda a obter uma medição mais precisa e estável do tempo de execução, já que fatores como flutuações de carga do sistema podem afetar as medições individuais."
      ]
    },
    {
      "cell_type": "markdown",
      "metadata": {},
      "source": [
        "Vamos então colocar em prática:"
      ]
    },
    {
      "cell_type": "code",
      "execution_count": 3,
      "metadata": {
        "id": "LhZawbwpGwKR",
        "outputId": "78f6feac-480c-429d-b658-8ab923919440"
      },
      "outputs": [
        {
          "name": "stdout",
          "output_type": "stream",
          "text": [
            "[0, 3, 6, 9, 12, 15, 18, 21, 24, 27, 30, 33, 36, 39, 42, 45, 48, 51, 54, 57, 60, 63, 66, 69, 72, 75, 78, 81, 84, 87, 90, 93, 96, 99]\n"
          ]
        }
      ],
      "source": [
        "# criar uma lista de 0 a 100 SOMENTE com numeros divisiveis por 3 e zero\n",
        "listaParesZeroACem = [i for i in range(0, 101, 3)]\n",
        "print(listaParesZeroACem)"
      ]
    },
    {
      "cell_type": "markdown",
      "metadata": {},
      "source": [
        "## Adicionando condicionais"
      ]
    },
    {
      "cell_type": "markdown",
      "metadata": {},
      "source": [
        "Imagine agora que temos uma lista de strings. Como você faria para selecionar somente emails dessa lista?"
      ]
    },
    {
      "cell_type": "code",
      "execution_count": 9,
      "metadata": {
        "id": "eFZ6NNlBGwKS",
        "outputId": "c3738ee7-8c5b-4c85-92b1-69abe50a1d99"
      },
      "outputs": [
        {
          "name": "stdout",
          "output_type": "stream",
          "text": [
            "841 ns ± 130 ns per loop (mean ± std. dev. of 7 runs, 1,000,000 loops each)\n"
          ]
        }
      ],
      "source": [
        "%%timeit\n",
        "# criar uma lista filtrando somente emails\n",
        "lista_strings = [\n",
        "    \"joao@gmail.com\",\n",
        "    \"123456\",\n",
        "    \"exemplo.com\",\n",
        "    \"fulano@yahoo.com\",\n",
        "    \"beltrano\",\n",
        "    \"ciclano@gmail.com\",\n",
        "    \"teste\",\n",
        "    \"outroexemplo.com\",\n",
        "    \"enivaldo@gmail.com\"\n",
        "]\n",
        "\n",
        "emails = []\n",
        "\n",
        "for item in lista_strings:\n",
        "    if '@' in  item:\n",
        "        emails.append(item)"
      ]
    },
    {
      "attachments": {},
      "cell_type": "markdown",
      "metadata": {
        "id": "OdZkL8HXGwKR"
      },
      "source": [
        "Podemos incrementar nossa list comprehension com a seguinte estrutura:\n",
        "\n",
        "```python\n",
        "novaLista = [expressao for item in algoIteravel if condicao == True]\n",
        "```"
      ]
    },
    {
      "cell_type": "code",
      "execution_count": 10,
      "metadata": {
        "id": "ddhXtihaGwKS",
        "outputId": "844e330e-c737-49ab-f008-f2bfd92c0937"
      },
      "outputs": [
        {
          "name": "stdout",
          "output_type": "stream",
          "text": [
            "1.09 µs ± 106 ns per loop (mean ± std. dev. of 7 runs, 1,000,000 loops each)\n"
          ]
        }
      ],
      "source": [
        "%%timeit\n",
        "\n",
        "\n",
        "emails = [item for item in lista_strings if '@' in item]"
      ]
    },
    {
      "cell_type": "markdown",
      "metadata": {},
      "source": [
        "Agora vimos que neste caso o list comprehension não foi o mais otimizado :(<br>\n",
        "Por isso, varia de caso a caso..."
      ]
    },
    {
      "attachments": {},
      "cell_type": "markdown",
      "metadata": {
        "id": "LwXR0ZvjGwKT"
      },
      "source": [
        "Imagine agora que queremos classificar se o texto é um email ou não. <br>\n",
        "Para isso, vamos ver a última estrutura elementar de _List Comprehension_:\n",
        "\n",
        "```python\n",
        "novaLista = [valor1 if condicao else valor2 for item in algoIteravel ]\n",
        "```\n"
      ]
    },
    {
      "cell_type": "code",
      "execution_count": null,
      "metadata": {},
      "outputs": [],
      "source": [
        "# criar uma lista que classifica se o text é email ou não\n",
        "lista_strings = [\n",
        "    \"joao@gmail.com\",\n",
        "    \"123456\",\n",
        "    \"exemplo.com\",\n",
        "    \"fulano@yahoo.com\",\n",
        "    \"beltrano\",\n",
        "    \"ciclano@gmail.com\",\n",
        "    \"teste\",\n",
        "    \"outroexemplo.com\",\n",
        "    \"enivaldo@gmail.com\"\n",
        "]\n",
        "\n",
        "is_email = [True if '@' in item else False for item in lista_strings]"
      ]
    },
    {
      "cell_type": "markdown",
      "metadata": {},
      "source": [
        "## For aninhados"
      ]
    },
    {
      "cell_type": "markdown",
      "metadata": {},
      "source": [
        "\n",
        "Podemos ainda aninhar _fors_ em nossa estrutura com a seguinte estrutura:\n",
        "\n",
        "```python\n",
        "novaLista = [valor1 for sublista in algoIteravel for item in sublista]\n",
        "```\n",
        "\n",
        "E também é possível adicionar condicionais neste caso."
      ]
    },
    {
      "cell_type": "markdown",
      "metadata": {},
      "source": [
        "Imagine que temos um dicionario de listas de clientes por região (soa familiar?) e estamos interessados somente nos clientes de id '123456' e '789012'. Retorne os indices para obter estes clientes:"
      ]
    },
    {
      "cell_type": "code",
      "execution_count": 13,
      "metadata": {
        "id": "p42AQvU1GwKV",
        "outputId": "874828ed-811a-4d7d-ee78-ce35bb814c14"
      },
      "outputs": [],
      "source": [
        "# contas por regiao\n",
        "dict_contas = {\n",
        "    'SP': ['123456', '345678', '890123', '456789'],\n",
        "    'RJ': ['789012', '234567', '678901'],\n",
        "    'MG': ['901234', '567890', '012345']\n",
        "}\n",
        "\n",
        "# identificar os indices que retorna onde estão os ids dos clientes de interesse\n",
        "# usar list comprehension\n",
        "ids_de_interesse = ['123456','789012']\n",
        "\n",
        "loc_ids = [(k, dict_contas[k].index(id)) for k in dict_contas.keys() for id in dict_contas[k] if id in ids_de_interesse]"
      ]
    },
    {
      "cell_type": "markdown",
      "metadata": {},
      "source": [
        "## HANDS-ON"
      ]
    },
    {
      "cell_type": "markdown",
      "metadata": {},
      "source": [
        "1) Dada uma lista de lista de 3 em 3 numeros de 1 a 9, simplifique para uma unica lista com todos os numeros."
      ]
    },
    {
      "cell_type": "code",
      "execution_count": null,
      "metadata": {
        "id": "ebzXMU-vGwKX",
        "outputId": "b9778129-ed3d-4cb9-8f10-c313ad3676a3"
      },
      "outputs": [
        {
          "name": "stdout",
          "output_type": "stream",
          "text": [
            "[1, 2, 3, 4, 5, 6, 7, 8, 9]\n"
          ]
        }
      ],
      "source": [
        "listaAninhada = [[1, 2, 3], [4, 5, 6], [7, 8, 9]]\n",
        "listaContinua = [it for sublista in listaAninhada for it in sublista]\n",
        "print(listaContinua)"
      ]
    },
    {
      "cell_type": "markdown",
      "metadata": {},
      "source": [
        "2. Crie uma lista que multiplica **cada** numero de uma lista1 pela outra lista2:"
      ]
    },
    {
      "cell_type": "code",
      "execution_count": null,
      "metadata": {
        "id": "72ay8gnvGwKX",
        "outputId": "176c8729-ceca-4a9b-d931-5a00364f451a"
      },
      "outputs": [
        {
          "name": "stdout",
          "output_type": "stream",
          "text": [
            "[6, 14, 24]\n"
          ]
        }
      ],
      "source": [
        "lista1 = [1, 2, 3]\n",
        "lista2 = [6, 0, 8]\n",
        "lista1_pela_2 = [it1 *it2 for it1 in lista1 for it2 in lista2]\n",
        "print(lista3)"
      ]
    },
    {
      "cell_type": "markdown",
      "metadata": {},
      "source": [
        "## Extra: filtros e mappings"
      ]
    },
    {
      "attachments": {},
      "cell_type": "markdown",
      "metadata": {},
      "source": [
        "Podemos usar a compreensão de listas para filtrar elementos, mapear elementos para uma nova forma ou combinar elementos de diferentes sequências.\n",
        "\n",
        "Exemplos práticos de compreensão de listas:\n",
        "\n",
        "* **Filtragem**: [x for x in lista if condição] - cria uma nova lista contendo apenas os elementos que atendem à condição especificada.\n",
        "\n",
        "* **Mapeamento**: [mapping(x) for x in lista] - cria uma nova lista aplicando um mapping a cada elemento da lista original."
      ]
    },
    {
      "attachments": {},
      "cell_type": "markdown",
      "metadata": {},
      "source": [
        "**Filtragem:**\n",
        "\n",
        "Suponha que temos uma lista de números e queremos criar uma nova lista contendo apenas os números pares."
      ]
    },
    {
      "cell_type": "code",
      "execution_count": 1,
      "metadata": {},
      "outputs": [
        {
          "name": "stdout",
          "output_type": "stream",
          "text": [
            "[2, 4, 6, 8, 10]\n"
          ]
        }
      ],
      "source": [
        "numeros = [1, 2, 3, 4, 5, 6, 7, 8, 9, 10]\n",
        "pares = [x for x in numeros if x % 2 == 0]\n",
        "print(pares)"
      ]
    },
    {
      "attachments": {},
      "cell_type": "markdown",
      "metadata": {},
      "source": [
        "**Mapeamento:**\n",
        "\n",
        "Suponha que temos uma lista de nomes e queremos criar uma nova lista contendo o comprimento de cada nome."
      ]
    },
    {
      "cell_type": "code",
      "execution_count": 2,
      "metadata": {},
      "outputs": [
        {
          "name": "stdout",
          "output_type": "stream",
          "text": [
            "[5, 3, 7, 5]\n"
          ]
        }
      ],
      "source": [
        "nomes = [\"Alice\", \"Bob\", \"Charlie\", \"David\"]\n",
        "comprimentos = [len(nome) for nome in nomes]\n",
        "print(comprimentos)"
      ]
    },
    {
      "cell_type": "markdown",
      "metadata": {},
      "source": [
        "-----"
      ]
    },
    {
      "attachments": {},
      "cell_type": "markdown",
      "metadata": {},
      "source": [
        "# Expressões geradoras\n",
        "\n",
        "As expressões geradoras são estruturas semelhantes à compreensão de listas, mas geram valores à medida que são necessários em vez de criar uma nova lista completa, e não armazenados em lugar algum da memória (_lazy generation_).<br>\n",
        "Elas são criadas usando a mesma sintaxe básica da compreensão de listas, utilizando parênteses ao invés de colchetes.\n"
      ]
    },
    {
      "cell_type": "code",
      "execution_count": 15,
      "metadata": {},
      "outputs": [],
      "source": [
        "numeros = [1, 2, 3, 4, 5, 6, 7, 8, 9, 10]\n",
        "#criar um gerador de numero pares da lista acima\n",
        "gerador = (x for x in numeros if x % 2 == 0)"
      ]
    },
    {
      "cell_type": "markdown",
      "metadata": {},
      "source": [
        "No caso acima, geramos uma expressão que retorna todos os números pares da lista `números`.<br>\n",
        "Mas os números não estão gerados. Observe o resultado:"
      ]
    },
    {
      "cell_type": "code",
      "execution_count": 16,
      "metadata": {},
      "outputs": [
        {
          "data": {
            "text/plain": [
              "<generator object <genexpr> at 0x0000022937D631D0>"
            ]
          },
          "execution_count": 16,
          "metadata": {},
          "output_type": "execute_result"
        }
      ],
      "source": [
        "# chamar o gerador (o que acontece?)\n",
        "gerador"
      ]
    },
    {
      "cell_type": "markdown",
      "metadata": {},
      "source": [
        "Para obter o resultado, precisamos iterar sobre a expressão geradora:"
      ]
    },
    {
      "cell_type": "code",
      "execution_count": 17,
      "metadata": {},
      "outputs": [
        {
          "name": "stdout",
          "output_type": "stream",
          "text": [
            "2\n",
            "4\n",
            "6\n",
            "8\n",
            "10\n"
          ]
        }
      ],
      "source": [
        "# Iterando sobre a expressão geradora\n",
        "for numero in gerador:\n",
        "    print(numero)"
      ]
    },
    {
      "cell_type": "markdown",
      "metadata": {},
      "source": [
        "Mas temos um porém: não é possível obter os dados novamente após utilizar a expressão geradora:"
      ]
    },
    {
      "cell_type": "code",
      "execution_count": 18,
      "metadata": {},
      "outputs": [],
      "source": [
        "# Iterando sobre a expressão geradora (novamente)\n",
        "for numero in gerador:\n",
        "    print(numero)"
      ]
    },
    {
      "attachments": {},
      "cell_type": "markdown",
      "metadata": {},
      "source": [
        "**Mas qual a necessidade da expressão geradora então?** õ.ó\n",
        "\n",
        "As expressões geradoras são particularmente úteis quando trabalhamos com grandes volumes de dados, pois evitam o armazenamento em memória de uma lista completa. Além disso, elas são adequadas para lidar com sequências infinitas, onde não seria possível criar uma lista completa."
      ]
    },
    {
      "attachments": {},
      "cell_type": "markdown",
      "metadata": {},
      "source": [
        "**Filtrando palavras por tamanho:**"
      ]
    },
    {
      "cell_type": "code",
      "execution_count": 11,
      "metadata": {},
      "outputs": [
        {
          "name": "stdout",
          "output_type": "stream",
          "text": [
            "gosto\n",
            "programar\n",
            "Python\n"
          ]
        }
      ],
      "source": [
        "frase = \"Eu gosto de programar em Python\"\n",
        "gerador = (palavra for palavra in frase.split() if len(palavra) > 2)\n",
        "\n",
        "# Imprimindo palavras com mais de 2 caracteres\n",
        "for palavra in gerador:\n",
        "    print(palavra)"
      ]
    },
    {
      "attachments": {},
      "cell_type": "markdown",
      "metadata": {},
      "source": [
        "# Funções geradoras e a palavra reservada yield\n",
        "\n",
        "Mas o que fazer quando os dados são imensos (ou talvez infinitos) e não seja possível realizar uma simples transformação ou filtragem?\n",
        "\n",
        "Então é necessário criar uma expressão geradoras mais sofisticada, as **funções geradoras**.\n",
        "\n",
        "Mas, para criarmos um função geradora, precisamos entender como utilizar a palavra **yield**, e pra entendermos, precisamos entender o que são **iteradores** vs iteraveis."
      ]
    },
    {
      "cell_type": "markdown",
      "metadata": {},
      "source": [
        "## iteradores vs iteraveis"
      ]
    },
    {
      "cell_type": "markdown",
      "metadata": {},
      "source": [
        "Todo objeto que contém dados e conseguimos percorrer pelo laço `for` é um **iterável**.<br>\n",
        "Por exemplo, uma lista, uma string. Os iteráveis possuem seus dados armazenados na memória e, por tanto, podemos acessar sempre que chamamos o objeto.\n",
        "\n",
        "Por outro lado, **iteradores** são objetos que geram os dados à medida que é pedido (soa familiar?).<br>\n",
        "Portanto, uma expressão geradora é um iterador.\n",
        "\n",
        "Podemos criar iteradores a partir de uma lista, utilizando `iter`:\n",
        "\n",
        "```python\n",
        "lista = [0,10,11,9,4,3]\n",
        "iterador = iter(lista)\n",
        "```"
      ]
    },
    {
      "cell_type": "markdown",
      "metadata": {},
      "source": [
        "## Yield"
      ]
    },
    {
      "cell_type": "markdown",
      "metadata": {},
      "source": [
        "A palavra reservada **yield** (tradução: _produzir_) é usada em Python para criar uma **função geradora**. <br>\n",
        "Yield é muito semelhante a palavra _return_ nas funções que aprendemos:\n",
        "\n",
        "ao utilizar _yield_ em uma função geradora, a função **pausa** naquele ponto, retornando o valor pedido (até aí igual ao _return_). \n",
        "Porém, ao ser chamada novamente, a função continua de onde parou até um próximo yield. E assim por diante, até terminar a função.\n",
        "\n",
        "Aqui está um exemplo simples para ilustrar o uso da palavra yield em uma função geradora:"
      ]
    },
    {
      "cell_type": "code",
      "execution_count": 19,
      "metadata": {},
      "outputs": [],
      "source": [
        "# gerador de numeros pares (indicar uma flag de inicio da funcao)\n",
        "def numeros_pares():\n",
        "    n = 0\n",
        "    print('inicio da funcao')\n",
        "    while True:\n",
        "        yield n\n",
        "        n += 2\n",
        "\n",
        "gerador = numeros_pares()"
      ]
    },
    {
      "cell_type": "markdown",
      "metadata": {},
      "source": [
        "Sempre que quisermos chamar os valores da função geradora, utilizamos a função `next`, que retorna o próximo valor a ser gerado pela função geradora."
      ]
    },
    {
      "cell_type": "code",
      "execution_count": 20,
      "metadata": {},
      "outputs": [
        {
          "name": "stdout",
          "output_type": "stream",
          "text": [
            "inicio da funcao\n",
            "0\n",
            "2\n",
            "4\n"
          ]
        }
      ],
      "source": [
        "print(next(gerador))  # Saída: 0\n",
        "print(next(gerador))  # Saída: 2\n",
        "print(next(gerador))  # Saída: 4"
      ]
    },
    {
      "cell_type": "markdown",
      "metadata": {},
      "source": [
        "Repara que a flag de inicio da função foi printada apenas uma vez (sabe dizer o porquê?). Qual seria o resultado se fosse uma função?"
      ]
    },
    {
      "attachments": {},
      "cell_type": "markdown",
      "metadata": {},
      "source": [
        "# Dicas e Boas Práticas\n",
        "\n",
        "Deu pra perceber que agora as coisas ficaram um pouco mais sofisticadas, não é mesmo? Mas não adianta utilizar tudo o que aprendeu se não consegue passar clareza e interpretabilidade para as outras pessoas que vão reutilizar analisar ou revisar o teu código. Portanto, vão aqui algumas dicas:\n",
        "\n",
        "**Legibilidade do código:**\n",
        "\n",
        "Ao utilizar compreensão de listas e expressões geradoras, é importante manter o código legível e compreensível. Evite criar expressões muito complexas ou muito longas, pois isso pode dificultar a leitura e manutenção do código.\n",
        "Utilize nomes significativos para as variáveis dentro das expressões, de forma a tornar o propósito do código mais claro.\n",
        "\n",
        "**Utilize comentários:**\n",
        "\n",
        "Adicione comentários explicativos quando utilizar compreensão de listas e expressões geradoras complexas, especialmente se elas tiverem várias etapas ou condições.\n",
        "Comentários ajudam a documentar o código e torná-lo mais fácil de entender para você e outros desenvolvedores.\n",
        "\n",
        "**Considere o desempenho:**\n",
        "\n",
        "Embora as compreensões de listas e as expressões geradoras sejam ferramentas poderosas, é importante considerar o desempenho ao utilizá-las.\n",
        "Se estiver lidando com uma grande quantidade de dados, uma expressão geradora pode ser mais eficiente em termos de uso de memória e tempo de execução em comparação com a criação de uma lista completa.\n",
        "No entanto, é sempre recomendável fazer medições e testes para avaliar o desempenho real do seu código em cenários específicos.\n",
        "\n",
        "**Combine com outras funcionalidades:**\n",
        "\n",
        "As compreensões de listas e expressões geradoras podem ser combinadas com outras funcionalidades da linguagem Python, como funções embutidas (map, filter, etc.) e módulos especializados (como itertools) para realizar operações mais avançadas.\n",
        "Explore a documentação da linguagem Python para descobrir recursos e funcionalidades adicionais que possam aprimorar suas compreensões de listas e expressões geradoras.\n",
        "Lembre-se de encorajar seus alunos a praticar e experimentar por conta própria. Eles podem tentar resolver problemas utilizando compreensão de listas e expressões geradoras, para aprimorar sua familiaridade e habilidades com esses conceitos."
      ]
    },
    {
      "attachments": {},
      "cell_type": "markdown",
      "metadata": {
        "id": "0UiK5vgOGwKY"
      },
      "source": [
        "# Exercícios - Regra: Tudo deve ser feito em **UMA** linha!\n",
        "\n",
        "Encontre todos os números divisiveis por 8 de 1 a 1000 (intervalo fechado)"
      ]
    },
    {
      "cell_type": "code",
      "execution_count": null,
      "metadata": {
        "id": "C8Z8X55eGwKZ",
        "outputId": "7e93453d-8ba6-4dc6-a524-c66f971dd08d"
      },
      "outputs": [
        {
          "name": "stdout",
          "output_type": "stream",
          "text": [
            "[8, 16, 24, 32, 40, 48, 56, 64, 72, 80, 88, 96, 104, 112, 120, 128, 136, 144, 152, 160, 168, 176, 184, 192, 200, 208, 216, 224, 232, 240, 248, 256, 264, 272, 280, 288, 296, 304, 312, 320, 328, 336, 344, 352, 360, 368, 376, 384, 392, 400, 408, 416, 424, 432, 440, 448, 456, 464, 472, 480, 488, 496, 504, 512, 520, 528, 536, 544, 552, 560, 568, 576, 584, 592, 600, 608, 616, 624, 632, 640, 648, 656, 664, 672, 680, 688, 696, 704, 712, 720, 728, 736, 744, 752, 760, 768, 776, 784, 792, 800, 808, 816, 824, 832, 840, 848, 856, 864, 872, 880, 888, 896, 904, 912, 920, 928, 936, 944, 952, 960, 968, 976, 984, 992, 1000]\n"
          ]
        }
      ],
      "source": [
        "print([x for x in range(8, 1001, 8)])"
      ]
    },
    {
      "attachments": {},
      "cell_type": "markdown",
      "metadata": {
        "id": "al0hHGY7GwKZ"
      },
      "source": [
        "---\n",
        "\n",
        "Faça um programa que escreva todos os números múltiplos de 7 entre 1 e N, sendo N um valor introduzido pelo usuário. Por exemplos: 7, 14, 21, 28, 35."
      ]
    },
    {
      "cell_type": "code",
      "execution_count": null,
      "metadata": {
        "id": "gg8ExCiNGwKa",
        "outputId": "83132c4a-f5f2-42ae-d735-5e82052e4830"
      },
      "outputs": [
        {
          "name": "stdout",
          "output_type": "stream",
          "text": [
            "Até onde deseja saber a tabuada do 7? 35\n",
            "[7, 14, 21, 28, 35]\n"
          ]
        }
      ],
      "source": [
        "print([x for x in range(7, int(input(\"Até onde deseja saber a tabuada do 7? \"))+1, 7)])"
      ]
    },
    {
      "attachments": {},
      "cell_type": "markdown",
      "metadata": {
        "id": "396yYoM_GwKa"
      },
      "source": [
        "---\n",
        "\n",
        "Faça uma lista com todos números entre 1 e 1000 (intervalo fechado) que tenha pelo menos um dígito \"6\" nele"
      ]
    },
    {
      "cell_type": "code",
      "execution_count": null,
      "metadata": {
        "id": "rZTQmHc5GwKa",
        "outputId": "50fc9b94-b165-4b9b-9db8-2c50e04212bd"
      },
      "outputs": [
        {
          "name": "stdout",
          "output_type": "stream",
          "text": [
            "[6, 16, 26, 36, 46, 56, 60, 61, 62, 63, 64, 65, 66, 67, 68, 69, 76, 86, 96, 106, 116, 126, 136, 146, 156, 160, 161, 162, 163, 164, 165, 166, 167, 168, 169, 176, 186, 196, 206, 216, 226, 236, 246, 256, 260, 261, 262, 263, 264, 265, 266, 267, 268, 269, 276, 286, 296, 306, 316, 326, 336, 346, 356, 360, 361, 362, 363, 364, 365, 366, 367, 368, 369, 376, 386, 396, 406, 416, 426, 436, 446, 456, 460, 461, 462, 463, 464, 465, 466, 467, 468, 469, 476, 486, 496, 506, 516, 526, 536, 546, 556, 560, 561, 562, 563, 564, 565, 566, 567, 568, 569, 576, 586, 596, 600, 601, 602, 603, 604, 605, 606, 607, 608, 609, 610, 611, 612, 613, 614, 615, 616, 617, 618, 619, 620, 621, 622, 623, 624, 625, 626, 627, 628, 629, 630, 631, 632, 633, 634, 635, 636, 637, 638, 639, 640, 641, 642, 643, 644, 645, 646, 647, 648, 649, 650, 651, 652, 653, 654, 655, 656, 657, 658, 659, 660, 661, 662, 663, 664, 665, 666, 667, 668, 669, 670, 671, 672, 673, 674, 675, 676, 677, 678, 679, 680, 681, 682, 683, 684, 685, 686, 687, 688, 689, 690, 691, 692, 693, 694, 695, 696, 697, 698, 699, 706, 716, 726, 736, 746, 756, 760, 761, 762, 763, 764, 765, 766, 767, 768, 769, 776, 786, 796, 806, 816, 826, 836, 846, 856, 860, 861, 862, 863, 864, 865, 866, 867, 868, 869, 876, 886, 896, 906, 916, 926, 936, 946, 956, 960, 961, 962, 963, 964, 965, 966, 967, 968, 969, 976, 986, 996]\n"
          ]
        }
      ],
      "source": [
        "print([x for x in range(1, 1001) if \"6\" in str(x)])"
      ]
    },
    {
      "attachments": {},
      "cell_type": "markdown",
      "metadata": {
        "id": "h7BAJdZQGwKb"
      },
      "source": [
        "---\n",
        "\n",
        "Quantas vezes o número 6 aparece entre 1 e 1000 (intervalo fechado)?"
      ]
    },
    {
      "cell_type": "code",
      "execution_count": null,
      "metadata": {
        "id": "bWOLg2egGwKb",
        "outputId": "6357d485-4838-4f43-b7f8-1f975ddc6703"
      },
      "outputs": [
        {
          "name": "stdout",
          "output_type": "stream",
          "text": [
            "300\n"
          ]
        }
      ],
      "source": [
        "print(sum([str(x).count(\"6\") for x in range(1, 1001)]))"
      ]
    },
    {
      "attachments": {},
      "cell_type": "markdown",
      "metadata": {
        "id": "xuU8VurpGwKd"
      },
      "source": [
        "---\n",
        "\n",
        "Use compreensão de listas aninhadas para encontrar todos os numeros entre 1-1000 (intervalo fechado) divisiveis por qualquer número entre 2-9 (intervalo fechado)"
      ]
    },
    {
      "cell_type": "code",
      "execution_count": null,
      "metadata": {
        "id": "FuliLU2ZGwKd",
        "outputId": "568ce2e6-aabb-412f-b675-29137bebf28d"
      },
      "outputs": [
        {
          "name": "stdout",
          "output_type": "stream",
          "text": [
            "[2, 3, 4, 5, 6, 7, 8, 9, 10, 12, 14, 15, 16, 18, 20, 21, 22, 24, 25, 26, 27, 28, 30, 32, 33, 34, 35, 36, 38, 39, 40, 42, 44, 45, 46, 48, 49, 50, 51, 52, 54, 55, 56, 57, 58, 60, 62, 63, 64, 65, 66, 68, 69, 70, 72, 74, 75, 76, 77, 78, 80, 81, 82, 84, 85, 86, 87, 88, 90, 91, 92, 93, 94, 95, 96, 98, 99, 100, 102, 104, 105, 106, 108, 110, 111, 112, 114, 115, 116, 117, 118, 119, 120, 122, 123, 124, 125, 126, 128, 129, 130, 132, 133, 134, 135, 136, 138, 140, 141, 142, 144, 145, 146, 147, 148, 150, 152, 153, 154, 155, 156, 158, 159, 160, 161, 162, 164, 165, 166, 168, 170, 171, 172, 174, 175, 176, 177, 178, 180, 182, 183, 184, 185, 186, 188, 189, 190, 192, 194, 195, 196, 198, 200, 201, 202, 203, 204, 205, 206, 207, 208, 210, 212, 213, 214, 215, 216, 217, 218, 219, 220, 222, 224, 225, 226, 228, 230, 231, 232, 234, 235, 236, 237, 238, 240, 242, 243, 244, 245, 246, 248, 249, 250, 252, 254, 255, 256, 258, 259, 260, 261, 262, 264, 265, 266, 267, 268, 270, 272, 273, 274, 275, 276, 278, 279, 280, 282, 284, 285, 286, 287, 288, 290, 291, 292, 294, 295, 296, 297, 298, 300, 301, 302, 303, 304, 305, 306, 308, 309, 310, 312, 314, 315, 316, 318, 320, 321, 322, 324, 325, 326, 327, 328, 329, 330, 332, 333, 334, 335, 336, 338, 339, 340, 342, 343, 344, 345, 346, 348, 350, 351, 352, 354, 355, 356, 357, 358, 360, 362, 363, 364, 365, 366, 368, 369, 370, 371, 372, 374, 375, 376, 378, 380, 381, 382, 384, 385, 386, 387, 388, 390, 392, 393, 394, 395, 396, 398, 399, 400, 402, 404, 405, 406, 408, 410, 411, 412, 413, 414, 415, 416, 417, 418, 420, 422, 423, 424, 425, 426, 427, 428, 429, 430, 432, 434, 435, 436, 438, 440, 441, 442, 444, 445, 446, 447, 448, 450, 452, 453, 454, 455, 456, 458, 459, 460, 462, 464, 465, 466, 468, 469, 470, 471, 472, 474, 475, 476, 477, 478, 480, 482, 483, 484, 485, 486, 488, 489, 490, 492, 494, 495, 496, 497, 498, 500, 501, 502, 504, 505, 506, 507, 508, 510, 511, 512, 513, 514, 515, 516, 518, 519, 520, 522, 524, 525, 526, 528, 530, 531, 532, 534, 535, 536, 537, 538, 539, 540, 542, 543, 544, 545, 546, 548, 549, 550, 552, 553, 554, 555, 556, 558, 560, 561, 562, 564, 565, 566, 567, 568, 570, 572, 573, 574, 575, 576, 578, 579, 580, 581, 582, 584, 585, 586, 588, 590, 591, 592, 594, 595, 596, 597, 598, 600, 602, 603, 604, 605, 606, 608, 609, 610, 612, 614, 615, 616, 618, 620, 621, 622, 623, 624, 625, 626, 627, 628, 630, 632, 633, 634, 635, 636, 637, 638, 639, 640, 642, 644, 645, 646, 648, 650, 651, 652, 654, 655, 656, 657, 658, 660, 662, 663, 664, 665, 666, 668, 669, 670, 672, 674, 675, 676, 678, 679, 680, 681, 682, 684, 685, 686, 687, 688, 690, 692, 693, 694, 695, 696, 698, 699, 700, 702, 704, 705, 706, 707, 708, 710, 711, 712, 714, 715, 716, 717, 718, 720, 721, 722, 723, 724, 725, 726, 728, 729, 730, 732, 734, 735, 736, 738, 740, 741, 742, 744, 745, 746, 747, 748, 749, 750, 752, 753, 754, 755, 756, 758, 759, 760, 762, 763, 764, 765, 766, 768, 770, 771, 772, 774, 775, 776, 777, 778, 780, 782, 783, 784, 785, 786, 788, 789, 790, 791, 792, 794, 795, 796, 798, 800, 801, 802, 804, 805, 806, 807, 808, 810, 812, 813, 814, 815, 816, 818, 819, 820, 822, 824, 825, 826, 828, 830, 831, 832, 833, 834, 835, 836, 837, 838, 840, 842, 843, 844, 845, 846, 847, 848, 849, 850, 852, 854, 855, 856, 858, 860, 861, 862, 864, 865, 866, 867, 868, 870, 872, 873, 874, 875, 876, 878, 879, 880, 882, 884, 885, 886, 888, 889, 890, 891, 892, 894, 895, 896, 897, 898, 900, 902, 903, 904, 905, 906, 908, 909, 910, 912, 914, 915, 916, 917, 918, 920, 921, 922, 924, 925, 926, 927, 928, 930, 931, 932, 933, 934, 935, 936, 938, 939, 940, 942, 944, 945, 946, 948, 950, 951, 952, 954, 955, 956, 957, 958, 959, 960, 962, 963, 964, 965, 966, 968, 969, 970, 972, 973, 974, 975, 976, 978, 980, 981, 982, 984, 985, 986, 987, 988, 990, 992, 993, 994, 995, 996, 998, 999, 1000]\n"
          ]
        }
      ],
      "source": [
        "print([x for x in range(1, 1001) if True in [x % y == 0 for y in range(2, 10)]])"
      ]
    },
    {
      "attachments": {},
      "cell_type": "markdown",
      "metadata": {
        "id": "o5Lqua8nGwKe"
      },
      "source": [
        "---\n",
        "\n",
        "Faça uma lista com o(s) maior(es) valor(es) de uma outra lista, exemplo:\n",
        "\n",
        "Entrada: [1, 2, 3, 4, 5, 6]<br>\n",
        "Saída: [6]\n",
        "\n",
        "Entrada: [6, 3, 1, 8, -10, 10, 0, 2, 10]<br>\n",
        "Saída: [10, 10]\n",
        "\n",
        "Entrada: [6, 3, 1, 8, -10, 6, 0, 2]<br>\n",
        "Saída: ??"
      ]
    },
    {
      "cell_type": "code",
      "execution_count": null,
      "metadata": {
        "id": "ISgjvOSgGwKe",
        "outputId": "79548fd6-230d-424f-d207-22ebf7bce493"
      },
      "outputs": [
        {
          "name": "stdout",
          "output_type": "stream",
          "text": [
            "[10, 10]\n"
          ]
        }
      ],
      "source": [
        "print([x for x in [6, 3, 1, 8, -10, 10, 0, 2, 10] if not False in [x >= y for y in [6, 3, 1, 8, -10, 10, 0, 2, 10]]])"
      ]
    }
  ],
  "metadata": {
    "colab": {
      "provenance": []
    },
    "kernelspec": {
      "display_name": "Python 3",
      "language": "python",
      "name": "python3"
    },
    "language_info": {
      "codemirror_mode": {
        "name": "ipython",
        "version": 3
      },
      "file_extension": ".py",
      "mimetype": "text/x-python",
      "name": "python",
      "nbconvert_exporter": "python",
      "pygments_lexer": "ipython3",
      "version": "3.11.5"
    }
  },
  "nbformat": 4,
  "nbformat_minor": 0
}
