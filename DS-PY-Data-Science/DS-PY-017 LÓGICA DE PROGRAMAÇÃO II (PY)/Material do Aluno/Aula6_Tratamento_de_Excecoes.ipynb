{
 "cells": [
  {
   "attachments": {},
   "cell_type": "markdown",
   "metadata": {},
   "source": [
    "# Tratamento de exceções"
   ]
  },
  {
   "attachments": {},
   "cell_type": "markdown",
   "metadata": {},
   "source": [
    "Você já deve ter notado que certas operações podem dar errado em certas circunstâncias, e esses erros provocam o tratamento do nosso programa. \n",
    "\n",
    "Por exemplo, quando solicitamos que o usuário digite um número inteiro e ele digita qualquer outra coisa. O erro ocorre especificamente na conversão da entrada para ```int```. Veja o exemplo abaixo:"
   ]
  },
  {
   "cell_type": "code",
   "execution_count": 5,
   "metadata": {},
   "outputs": [
    {
     "ename": "ValueError",
     "evalue": "invalid literal for int() with base 10: 'olá'",
     "output_type": "error",
     "traceback": [
      "\u001b[1;31m---------------------------------------------------------------------------\u001b[0m",
      "\u001b[1;31mValueError\u001b[0m                                Traceback (most recent call last)",
      "\u001b[1;32m~\\AppData\\Local\\Temp\\ipykernel_5724\\1809059891.py\u001b[0m in \u001b[0;36m<module>\u001b[1;34m\u001b[0m\n\u001b[0;32m      1\u001b[0m \u001b[0mentrada\u001b[0m \u001b[1;33m=\u001b[0m \u001b[1;34m'olá'\u001b[0m\u001b[1;33m\u001b[0m\u001b[1;33m\u001b[0m\u001b[0m\n\u001b[1;32m----> 2\u001b[1;33m \u001b[0minteiro\u001b[0m \u001b[1;33m=\u001b[0m \u001b[0mint\u001b[0m\u001b[1;33m(\u001b[0m\u001b[0mentrada\u001b[0m\u001b[1;33m)\u001b[0m\u001b[1;33m\u001b[0m\u001b[1;33m\u001b[0m\u001b[0m\n\u001b[0m",
      "\u001b[1;31mValueError\u001b[0m: invalid literal for int() with base 10: 'olá'"
     ]
    }
   ],
   "source": [
    "entrada = 'olá'\n",
    "inteiro = int(entrada)"
   ]
  },
  {
   "attachments": {},
   "cell_type": "markdown",
   "metadata": {},
   "source": [
    "Note que o erro possui um nome, ```ValueError```, e uma mensagem explicando o que ocorreu.\n",
    "\n",
    "Vejamos outro exemplo bastante famoso: a divisão por zero."
   ]
  },
  {
   "cell_type": "code",
   "execution_count": 6,
   "metadata": {},
   "outputs": [
    {
     "ename": "ZeroDivisionError",
     "evalue": "division by zero",
     "output_type": "error",
     "traceback": [
      "\u001b[1;31m---------------------------------------------------------------------------\u001b[0m",
      "\u001b[1;31mZeroDivisionError\u001b[0m                         Traceback (most recent call last)",
      "\u001b[1;32m~\\AppData\\Local\\Temp\\ipykernel_5724\\2769744614.py\u001b[0m in \u001b[0;36m<module>\u001b[1;34m\u001b[0m\n\u001b[1;32m----> 1\u001b[1;33m \u001b[0mx\u001b[0m \u001b[1;33m=\u001b[0m \u001b[1;36m1\u001b[0m\u001b[1;33m/\u001b[0m\u001b[1;36m0\u001b[0m\u001b[1;33m\u001b[0m\u001b[1;33m\u001b[0m\u001b[0m\n\u001b[0m",
      "\u001b[1;31mZeroDivisionError\u001b[0m: division by zero"
     ]
    }
   ],
   "source": [
    "x = 1/0"
   ]
  },
  {
   "attachments": {},
   "cell_type": "markdown",
   "metadata": {},
   "source": [
    "Observe a mesma estrutura do erro anterior: temos um nome (```ZeroDivisionError```) e uma mensagem explicando o que ocorreu.\n",
    "\n",
    "Esses erros, que não são erros de lógica nem de sintaxe, são o que chamamos de **exceções**. \n",
    "\n",
    "São pequenos problemas que o programa pode encontrar durante sua execução, como não encontrar um arquivo ou uma função receber um valor de tipo inesperado.\n",
    "\n",
    "Vamos começar aprendendo como lidar com códigos que podem provocar erros, evitando o travamento do programa, e em seguida iremos aprender a criar as nossas próprias exceções para alertar outros programadores sobre problemas que possam ter ocorrido em nossas classes e funções."
   ]
  },
  {
   "attachments": {},
   "cell_type": "markdown",
   "metadata": {},
   "source": [
    "## Tratando uma exceção"
   ]
  },
  {
   "attachments": {},
   "cell_type": "markdown",
   "metadata": {},
   "source": [
    "O tratamento de exceção em Python é uma técnica poderosa para lidar com erros e exceções que podem ocorrer durante a execução de um programa. \n",
    "\n",
    "Ele permite que você capture e trate os erros de forma apropriada, evitando que o programa pare abruptamente ou gere mensagens de erro confusas para o usuário."
   ]
  },
  {
   "attachments": {},
   "cell_type": "markdown",
   "metadata": {},
   "source": [
    "**Exemplo:** Sistema de vendas de um produto."
   ]
  },
  {
   "cell_type": "code",
   "execution_count": 1,
   "metadata": {},
   "outputs": [],
   "source": [
    "#Dicionário de produtos\n",
    "produtos = {\n",
    "    'banana': 2.5,\n",
    "    'maçã': 3.0,\n",
    "    'laranja': 2.0,\n",
    "    'uva': 4.5\n",
    "}"
   ]
  },
  {
   "cell_type": "code",
   "execution_count": 2,
   "metadata": {},
   "outputs": [],
   "source": [
    "#Sem qualquer tratamento de exceção\n",
    "def vender_produto(nome_produto, quantidade):\n",
    "    preco_unitario = produtos[nome_produto]\n",
    "    total = preco_unitario * quantidade\n",
    "    \n",
    "    print(\"Venda realizada:\")\n",
    "    print(\"Produto:\", nome_produto)\n",
    "    print(\"Quantidade:\", quantidade)\n",
    "    print(\"Preço Unitário:\", preco_unitario)\n",
    "    print(\"Total:\", total)"
   ]
  },
  {
   "cell_type": "code",
   "execution_count": 4,
   "metadata": {},
   "outputs": [
    {
     "ename": "KeyError",
     "evalue": "'alga'",
     "output_type": "error",
     "traceback": [
      "\u001b[1;31m---------------------------------------------------------------------------\u001b[0m",
      "\u001b[1;31mKeyError\u001b[0m                                  Traceback (most recent call last)",
      "\u001b[1;32m~\\AppData\\Local\\Temp\\ipykernel_5724\\4281863510.py\u001b[0m in \u001b[0;36m<module>\u001b[1;34m\u001b[0m\n\u001b[1;32m----> 1\u001b[1;33m \u001b[0mvender_produto\u001b[0m\u001b[1;33m(\u001b[0m\u001b[1;34m'alga'\u001b[0m\u001b[1;33m,\u001b[0m\u001b[1;36m5\u001b[0m\u001b[1;33m)\u001b[0m\u001b[1;33m\u001b[0m\u001b[1;33m\u001b[0m\u001b[0m\n\u001b[0m",
      "\u001b[1;32m~\\AppData\\Local\\Temp\\ipykernel_5724\\2417437781.py\u001b[0m in \u001b[0;36mvender_produto\u001b[1;34m(nome_produto, quantidade)\u001b[0m\n\u001b[0;32m      1\u001b[0m \u001b[1;31m#Sem qualquer tratamento de exceção\u001b[0m\u001b[1;33m\u001b[0m\u001b[1;33m\u001b[0m\u001b[0m\n\u001b[0;32m      2\u001b[0m \u001b[1;32mdef\u001b[0m \u001b[0mvender_produto\u001b[0m\u001b[1;33m(\u001b[0m\u001b[0mnome_produto\u001b[0m\u001b[1;33m,\u001b[0m \u001b[0mquantidade\u001b[0m\u001b[1;33m)\u001b[0m\u001b[1;33m:\u001b[0m\u001b[1;33m\u001b[0m\u001b[1;33m\u001b[0m\u001b[0m\n\u001b[1;32m----> 3\u001b[1;33m     \u001b[0mpreco_unitario\u001b[0m \u001b[1;33m=\u001b[0m \u001b[0mprodutos\u001b[0m\u001b[1;33m[\u001b[0m\u001b[0mnome_produto\u001b[0m\u001b[1;33m]\u001b[0m\u001b[1;33m\u001b[0m\u001b[1;33m\u001b[0m\u001b[0m\n\u001b[0m\u001b[0;32m      4\u001b[0m     \u001b[0mtotal\u001b[0m \u001b[1;33m=\u001b[0m \u001b[0mpreco_unitario\u001b[0m \u001b[1;33m*\u001b[0m \u001b[0mquantidade\u001b[0m\u001b[1;33m\u001b[0m\u001b[1;33m\u001b[0m\u001b[0m\n\u001b[0;32m      5\u001b[0m \u001b[1;33m\u001b[0m\u001b[0m\n",
      "\u001b[1;31mKeyError\u001b[0m: 'alga'"
     ]
    }
   ],
   "source": [
    "vender_produto('alga',5)"
   ]
  },
  {
   "attachments": {},
   "cell_type": "markdown",
   "metadata": {},
   "source": [
    "Tratar uma exceção significa que quando surgir um dos erros mencionados, nós iremos assumir responsabilidade sobre ele e iremos providenciar algum código alternativo. \n",
    "\n",
    "Dessa maneira, o Python não irá mais travar o nosso programa, e sim desviar seu fluxo para o código fornecido.\n",
    "\n",
    "O tratamento de exceção é composto por quatro blocos principais: \n",
    "* try, \n",
    "* except, \n",
    "* finally e \n",
    "* else. \n",
    "\n",
    "Vamos explicar cada um deles:"
   ]
  },
  {
   "attachments": {},
   "cell_type": "markdown",
   "metadata": {},
   "source": [
    "## Estrutra mais básica: try/except:\n",
    "\n",
    "### try:\n",
    "\n",
    "O bloco try é usado para envolver o código que pode gerar uma exceção. \n",
    "\n",
    "Dentro desse bloco, você coloca o código que pode potencialmente causar um erro.\n",
    "\n",
    "Estamos pedindo que o Python **tente** executar aquele código, cientes de que pode não dar certo.\n",
    "\n",
    "Se ocorrer uma exceção dentro do bloco try, o fluxo de controle será transferido para o bloco except.\n",
    "\n",
    "\n",
    "### except:\n",
    "\n",
    "O bloco except é onde você lida com a exceção capturada. \n",
    "\n",
    "Ele permite que você especifique o tipo de exceção que deseja capturar e as ações a serem executadas quando essa exceção ocorrer. \n",
    "\n",
    "Você pode ter vários blocos except para lidar com diferentes tipos de exceções. \n",
    "\n",
    "Se uma exceção capturada corresponder ao tipo especificado, o bloco except correspondente será executado.\n",
    "\n",
    "**Obs.:** Dentro do ```except```, colocamos o código que deverá ser executado **somente** se algo de errado ocorrer no ```try```.\n",
    "\n",
    "\n",
    "**Exemplo 1:**\n"
   ]
  },
  {
   "cell_type": "code",
   "execution_count": 7,
   "metadata": {},
   "outputs": [
    {
     "name": "stdout",
     "output_type": "stream",
     "text": [
      "1/3 = 0.3333333333333333\n",
      "1/2 = 0.5\n",
      "1/1 = 1.0\n",
      "1/0 = infinito\n"
     ]
    }
   ],
   "source": [
    "numerador = 1\n",
    "\n",
    "for denominador in range(3, -1, -1):\n",
    "    try:\n",
    "        divisao = numerador/denominador\n",
    "    except:\n",
    "        divisao = 'infinito'\n",
    "    \n",
    "    print(f'{numerador}/{denominador} = {divisao}')"
   ]
  },
  {
   "attachments": {},
   "cell_type": "markdown",
   "metadata": {},
   "source": [
    "O bloco acima já resolve a grande maioria dos problemas. \n",
    "\n",
    "Mas vamos estudar mais algumas possibilidades para deixar nosso tratamento ainda mais sofisticado e especializado.\n",
    "\n",
    "Você deve ter notado que enfatizamos bastante o fato de exceções poderem ter um nome. \n",
    "\n",
    "Esse nome pode nos ajudar a identificar com sucesso qual dos erros possíveis ocorreu e tratá-lo com sucesso."
   ]
  },
  {
   "attachments": {},
   "cell_type": "markdown",
   "metadata": {},
   "source": [
    "**Exemplo 2:**"
   ]
  },
  {
   "cell_type": "code",
   "execution_count": 9,
   "metadata": {},
   "outputs": [],
   "source": [
    "def divisao(a, b):\n",
    "    return a/b"
   ]
  },
  {
   "attachments": {},
   "cell_type": "markdown",
   "metadata": {},
   "source": [
    "Um erro óbvio que pode ocorrer nessa função seria o ```ZeroDivisionError```, que nós obtemos passando 0 como segundo parâmetro:"
   ]
  },
  {
   "cell_type": "code",
   "execution_count": 10,
   "metadata": {},
   "outputs": [
    {
     "ename": "ZeroDivisionError",
     "evalue": "division by zero",
     "output_type": "error",
     "traceback": [
      "\u001b[1;31m---------------------------------------------------------------------------\u001b[0m",
      "\u001b[1;31mZeroDivisionError\u001b[0m                         Traceback (most recent call last)",
      "\u001b[1;32m~\\AppData\\Local\\Temp\\ipykernel_5724\\3049313475.py\u001b[0m in \u001b[0;36m<module>\u001b[1;34m\u001b[0m\n\u001b[1;32m----> 1\u001b[1;33m \u001b[0mdivisao\u001b[0m\u001b[1;33m(\u001b[0m\u001b[1;36m1\u001b[0m\u001b[1;33m,\u001b[0m \u001b[1;36m0\u001b[0m\u001b[1;33m)\u001b[0m\u001b[1;33m\u001b[0m\u001b[1;33m\u001b[0m\u001b[0m\n\u001b[0m",
      "\u001b[1;32m~\\AppData\\Local\\Temp\\ipykernel_5724\\3768947720.py\u001b[0m in \u001b[0;36mdivisao\u001b[1;34m(a, b)\u001b[0m\n\u001b[0;32m      1\u001b[0m \u001b[1;32mdef\u001b[0m \u001b[0mdivisao\u001b[0m\u001b[1;33m(\u001b[0m\u001b[0ma\u001b[0m\u001b[1;33m,\u001b[0m \u001b[0mb\u001b[0m\u001b[1;33m)\u001b[0m\u001b[1;33m:\u001b[0m\u001b[1;33m\u001b[0m\u001b[1;33m\u001b[0m\u001b[0m\n\u001b[1;32m----> 2\u001b[1;33m     \u001b[1;32mreturn\u001b[0m \u001b[0ma\u001b[0m\u001b[1;33m/\u001b[0m\u001b[0mb\u001b[0m\u001b[1;33m\u001b[0m\u001b[1;33m\u001b[0m\u001b[0m\n\u001b[0m",
      "\u001b[1;31mZeroDivisionError\u001b[0m: division by zero"
     ]
    }
   ],
   "source": [
    "divisao(1, 0)"
   ]
  },
  {
   "attachments": {},
   "cell_type": "markdown",
   "metadata": {},
   "source": [
    "Porém, ele não é o único erro possível. \n",
    "\n",
    "O que acontece se passarmos um parâmetro que não seja numérico? \n",
    "\n",
    "```TypeError```, pois utilizamos tipos inválidos para o operador ```/```."
   ]
  },
  {
   "cell_type": "code",
   "execution_count": 11,
   "metadata": {},
   "outputs": [
    {
     "ename": "TypeError",
     "evalue": "unsupported operand type(s) for /: 'str' and 'int'",
     "output_type": "error",
     "traceback": [
      "\u001b[1;31m---------------------------------------------------------------------------\u001b[0m",
      "\u001b[1;31mTypeError\u001b[0m                                 Traceback (most recent call last)",
      "\u001b[1;32m~\\AppData\\Local\\Temp\\ipykernel_5724\\599349425.py\u001b[0m in \u001b[0;36m<module>\u001b[1;34m\u001b[0m\n\u001b[1;32m----> 1\u001b[1;33m \u001b[0mdivisao\u001b[0m\u001b[1;33m(\u001b[0m\u001b[1;34m'olá'\u001b[0m\u001b[1;33m,\u001b[0m \u001b[1;36m1\u001b[0m\u001b[1;33m)\u001b[0m\u001b[1;33m\u001b[0m\u001b[1;33m\u001b[0m\u001b[0m\n\u001b[0m",
      "\u001b[1;32m~\\AppData\\Local\\Temp\\ipykernel_5724\\3768947720.py\u001b[0m in \u001b[0;36mdivisao\u001b[1;34m(a, b)\u001b[0m\n\u001b[0;32m      1\u001b[0m \u001b[1;32mdef\u001b[0m \u001b[0mdivisao\u001b[0m\u001b[1;33m(\u001b[0m\u001b[0ma\u001b[0m\u001b[1;33m,\u001b[0m \u001b[0mb\u001b[0m\u001b[1;33m)\u001b[0m\u001b[1;33m:\u001b[0m\u001b[1;33m\u001b[0m\u001b[1;33m\u001b[0m\u001b[0m\n\u001b[1;32m----> 2\u001b[1;33m     \u001b[1;32mreturn\u001b[0m \u001b[0ma\u001b[0m\u001b[1;33m/\u001b[0m\u001b[0mb\u001b[0m\u001b[1;33m\u001b[0m\u001b[1;33m\u001b[0m\u001b[0m\n\u001b[0m",
      "\u001b[1;31mTypeError\u001b[0m: unsupported operand type(s) for /: 'str' and 'int'"
     ]
    }
   ],
   "source": [
    "divisao('olá', 1)"
   ]
  },
  {
   "attachments": {},
   "cell_type": "markdown",
   "metadata": {},
   "source": [
    "Podemos colocar diversos ```except``` após o ```try```, cada um testando um tipo diferente de erro. \n",
    "\n",
    "Um último ```except``` genérico irá pegar todos os casos que não se encaixarem nos específicos:"
   ]
  },
  {
   "cell_type": "code",
   "execution_count": 12,
   "metadata": {},
   "outputs": [
    {
     "name": "stdout",
     "output_type": "stream",
     "text": [
      "1/0 = infinito\n",
      "1/2 = 0.5\n",
      "1/3 = 0.3333333333333333\n",
      "1/a = 1/a\n",
      "1/5 = 0.2\n"
     ]
    }
   ],
   "source": [
    "denominadores = [0, 2, 3, 'a', 5]\n",
    "\n",
    "for d in denominadores:\n",
    "    try:\n",
    "        div = divisao(1, d)\n",
    "        \n",
    "    except ZeroDivisionError:\n",
    "        div = 'infinito'\n",
    "        \n",
    "    except TypeError:        \n",
    "        div = f'1/{d}'\n",
    "        \n",
    "    except:\n",
    "        div = 'erro desconhecido'\n",
    "    \n",
    "    print(f'1/{d} = {div}')"
   ]
  },
  {
   "attachments": {},
   "cell_type": "markdown",
   "metadata": {},
   "source": [
    "## O ```else``` no tratamento de exceção:\n",
    "\n",
    "O bloco else é opcional e é executado somente se nenhum erro ocorrer dentro do bloco try. \n",
    "\n",
    "Seu efeito é **oposto** ao ```except```.\n",
    "\n",
    "Ele é útil quando você deseja executar um código específico somente quando nenhum erro foi lançado.\n",
    "\n",
    "Geralmente, é usado para executar ações adicionais após a execução bem-sucedida do bloco try.\n",
    "\n",
    "```except```: executado quando algo dá errado.\n",
    "\n",
    "```else```: executado quando nada der errado."
   ]
  },
  {
   "attachments": {},
   "cell_type": "markdown",
   "metadata": {},
   "source": [
    "**Exemplo 3:** Vamos alterar nosso exemplo anterior usando um ```else```:"
   ]
  },
  {
   "cell_type": "code",
   "execution_count": 13,
   "metadata": {},
   "outputs": [
    {
     "name": "stdout",
     "output_type": "stream",
     "text": [
      "infinito\n",
      "1/2 = 0.5\n",
      "1/3 = 0.3333333333333333\n",
      "1/a\n",
      "1/5 = 0.2\n"
     ]
    }
   ],
   "source": [
    "denominadores = [0, 2, 3, 'a', 5]\n",
    "\n",
    "for d in denominadores:\n",
    "    try:\n",
    "        div = divisao(1, d)\n",
    "        \n",
    "    except ZeroDivisionError:\n",
    "        print('infinito')\n",
    "        \n",
    "    except TypeError:        \n",
    "        print(f'1/{d}')\n",
    "        \n",
    "    except:\n",
    "        print('erro desconhecido')\n",
    "        \n",
    "    else:\n",
    "        print(f'1/{d} = {div}')"
   ]
  },
  {
   "attachments": {},
   "cell_type": "markdown",
   "metadata": {},
   "source": [
    "Note que no exemplo acima não tem problema estarmos atribuindo valor pra ```div``` apenas no bloco ```try```. Ela só será usada no ```else```, ou seja, só será usada se tudo deu certo.\n",
    "\n",
    "**Nota:** várias linguagens possuem construções equivalentes ao ```try```/```except``` (este último frequentemente vira ```catch```), bem como ao ```finally``` e o ```raise``` (frequentemente ```throw``` em outras linguagens), que serão estudados já já. \n",
    "\n",
    "Mas o ```else``` na construção é bastante atípico e na maioria das linguagens ele realmente só serve para blocos condicionais. Por conta disso, é um pouco mais raro de vê-lo sendo usado nesse contexto."
   ]
  },
  {
   "attachments": {},
   "cell_type": "markdown",
   "metadata": {},
   "source": [
    "## Limpando a bagunça: ```finally```\n",
    "\n",
    "Muitas vezes um erro pode ocorrer quando já realizamos diversas operações. \n",
    "\n",
    "Dentre essas operações, podemos ter solicitado recursos, como por exemplo abrir um arquivo, estabelecer uma conexão com a internet ou alocar uma grande faixa de memória.\n",
    "\n",
    "O que aconteceria, por exemplo, se um comando como ```return``` aparecesse durante o tratamento desse erro após termos solicitado tantos recursos diferentes? \n",
    "\n",
    "O arquivo ficaria aberto, a conexão ficaria aberta, memória seria desperdiçada etc.\n",
    "\n",
    "O ```finally``` serve para garantir um local seguro para colocarmos código de limpeza - ou seja, devolver recursos que não serão mais utilizados: fechar arquivos, fechar conexões com servidor etc.\n",
    "\n",
    "Ele **sempre** será executado após um bloco ```try```/```except```, **mesmo que haja um return no caminho**.\n",
    "\n",
    "Ele é útil quando você deseja executar um código específico somente quando nenhum erro foi lançado. \n",
    "\n",
    "Geralmente, é usado para executar ações adicionais após a execução bem-sucedida do bloco try.\n",
    "\n",
    "Veja o exemplo abaixo para entender o que queremos dizer:"
   ]
  },
  {
   "cell_type": "code",
   "execution_count": 14,
   "metadata": {},
   "outputs": [
    {
     "name": "stdout",
     "output_type": "stream",
     "text": [
      "Opa\n",
      "1.0\n",
      "Opa\n",
      "infinito\n"
     ]
    }
   ],
   "source": [
    "def teste(den):\n",
    "    try:\n",
    "        x = 1/den\n",
    "        return x\n",
    "    except:\n",
    "        return 'infinito'\n",
    "    finally:\n",
    "        print('Opa')\n",
    "\n",
    "print(teste(1))\n",
    "print(teste(0))"
   ]
  },
  {
   "attachments": {},
   "cell_type": "markdown",
   "metadata": {},
   "source": [
    "Note que o conteúdo do bloco ```finally``` foi executado em ambas as chamadas, mesmo havendo um ```return``` dentro do ```try``` e outro dentro do ```except```.\n",
    "\n",
    "Antes de sair da função e retornar o valor, o Python é obrigado a desviar a execução para o bloco ```finally``` e executar seu conteúdo."
   ]
  },
  {
   "attachments": {},
   "cell_type": "markdown",
   "metadata": {},
   "source": [
    "## Estrutura geral do tratamento de exceção:\n",
    "```python\n",
    "try:\n",
    "    # Código que pode gerar uma exceção\n",
    "except ExcecaoTipo1:\n",
    "    # Ações a serem executadas se ocorrer ExcecaoTipo1\n",
    "except ExcecaoTipo2:\n",
    "    # Ações a serem executadas se ocorrer ExcecaoTipo2\n",
    "finally:\n",
    "    # Ações finais a serem executadas, independentemente de ocorrer uma exceção\n",
    "```"
   ]
  },
  {
   "attachments": {},
   "cell_type": "markdown",
   "metadata": {},
   "source": [
    "É importante destacar que você pode ter apenas o bloco try sem os blocos except, finally ou else. \n",
    "\n",
    "No entanto, se você usar um bloco except, pelo menos um bloco except ou finally deve estar presente.\n",
    "\n",
    "O tratamento de exceção é uma prática recomendada para lidar com erros de forma elegante e controlada. \n",
    "\n",
    "Ele permite que você antecipe possíveis problemas e trate-os adequadamente, garantindo que seu programa seja mais robusto e confiável.\n",
    "\n",
    "Espero que essa explicação tenha ajudado a compreender o tratamento de exceção em Python! Se você tiver mais dúvidas, fique à vontade para perguntar."
   ]
  },
  {
   "attachments": {},
   "cell_type": "markdown",
   "metadata": {},
   "source": [
    "## Lançando nossas próprias exceções\n",
    "\n",
    "Quando estamos criando nossos próprios módulos, classes ou funções, muitas vezes vamos nos deparar com situações inválidas. \n",
    "\n",
    "Imprimir uma mensagem de erro não é uma boa ideia, pois o programa pode estar rodando em um servidor, pode ter uma interface gráfica etc.\n",
    "\n",
    "Logo, o ideal seria lançarmos exceções para sinalizar essas situações. \n",
    "\n",
    "Desta forma, se elas forem ignoradas, o programa irá parar, sinalizando para o programador que existe alguma situação que deveria ser tratada. \n",
    "\n",
    "Adicionalmente, podemos criar nossa própria mensagem de erro, sinalizando para o programador que ele deveria fazer algo a respeito.\n",
    "\n",
    "Podemos utilizar a palavra ```raise``` seguida de ```Exception()```, passando entre parênteses a nossa mensagem personalizada de erro."
   ]
  },
  {
   "cell_type": "code",
   "execution_count": 15,
   "metadata": {},
   "outputs": [
    {
     "ename": "Exception",
     "evalue": "Salário inválido! Salários devem ser positivos!",
     "output_type": "error",
     "traceback": [
      "\u001b[1;31m---------------------------------------------------------------------------\u001b[0m",
      "\u001b[1;31mException\u001b[0m                                 Traceback (most recent call last)",
      "\u001b[1;32m~\\AppData\\Local\\Temp\\ipykernel_5724\\2040722178.py\u001b[0m in \u001b[0;36m<module>\u001b[1;34m\u001b[0m\n\u001b[0;32m      8\u001b[0m \u001b[1;33m\u001b[0m\u001b[0m\n\u001b[0;32m      9\u001b[0m \u001b[0mcadastrar_salario\u001b[0m\u001b[1;33m(\u001b[0m\u001b[1;36m10\u001b[0m\u001b[1;33m)\u001b[0m\u001b[1;33m\u001b[0m\u001b[1;33m\u001b[0m\u001b[0m\n\u001b[1;32m---> 10\u001b[1;33m \u001b[0mcadastrar_salario\u001b[0m\u001b[1;33m(\u001b[0m\u001b[1;36m0\u001b[0m\u001b[1;33m)\u001b[0m\u001b[1;33m\u001b[0m\u001b[1;33m\u001b[0m\u001b[0m\n\u001b[0m",
      "\u001b[1;32m~\\AppData\\Local\\Temp\\ipykernel_5724\\2040722178.py\u001b[0m in \u001b[0;36mcadastrar_salario\u001b[1;34m(salario)\u001b[0m\n\u001b[0;32m      3\u001b[0m \u001b[1;32mdef\u001b[0m \u001b[0mcadastrar_salario\u001b[0m\u001b[1;33m(\u001b[0m\u001b[0msalario\u001b[0m\u001b[1;33m)\u001b[0m\u001b[1;33m:\u001b[0m\u001b[1;33m\u001b[0m\u001b[1;33m\u001b[0m\u001b[0m\n\u001b[0;32m      4\u001b[0m     \u001b[1;32mif\u001b[0m \u001b[0msalario\u001b[0m \u001b[1;33m<=\u001b[0m \u001b[1;36m0\u001b[0m\u001b[1;33m:\u001b[0m\u001b[1;33m\u001b[0m\u001b[1;33m\u001b[0m\u001b[0m\n\u001b[1;32m----> 5\u001b[1;33m         \u001b[1;32mraise\u001b[0m \u001b[0mException\u001b[0m\u001b[1;33m(\u001b[0m\u001b[1;34m'Salário inválido! Salários devem ser positivos!'\u001b[0m\u001b[1;33m)\u001b[0m\u001b[1;33m\u001b[0m\u001b[1;33m\u001b[0m\u001b[0m\n\u001b[0m\u001b[0;32m      6\u001b[0m \u001b[1;33m\u001b[0m\u001b[0m\n\u001b[0;32m      7\u001b[0m     \u001b[0msalarios\u001b[0m\u001b[1;33m.\u001b[0m\u001b[0mappend\u001b[0m\u001b[1;33m(\u001b[0m\u001b[0msalario\u001b[0m\u001b[1;33m)\u001b[0m\u001b[1;33m\u001b[0m\u001b[1;33m\u001b[0m\u001b[0m\n",
      "\u001b[1;31mException\u001b[0m: Salário inválido! Salários devem ser positivos!"
     ]
    }
   ],
   "source": [
    "salarios = []\n",
    "\n",
    "def cadastrar_salario(salario):\n",
    "    if salario <= 0:\n",
    "        raise Exception('Salário inválido! Salários devem ser positivos!')\n",
    "    \n",
    "    salarios.append(salario)\n",
    "    \n",
    "cadastrar_salario(10)\n",
    "cadastrar_salario(0)"
   ]
  },
  {
   "cell_type": "code",
   "execution_count": 16,
   "metadata": {},
   "outputs": [
    {
     "name": "stdout",
     "output_type": "stream",
     "text": [
      "[10]\n"
     ]
    }
   ],
   "source": [
    "print(salarios)"
   ]
  },
  {
   "attachments": {},
   "cell_type": "markdown",
   "metadata": {},
   "source": [
    "Note que na primeira chamada, onde não ocorreu exceção, o salário foi cadastrado na lista (observe o print acima). Já na segunda chamada, nossa função lançou a exceção e parou sua execução.\n",
    "\n",
    "Idealmente, quem pretende utilizar a função deveria fazê-lo agora utilizando ```try```, para manter o programa funcionando e tratar adequadamente o problema."
   ]
  },
  {
   "cell_type": "code",
   "execution_count": 17,
   "metadata": {},
   "outputs": [
    {
     "name": "stdout",
     "output_type": "stream",
     "text": [
      "Opa, salário inválido!\n",
      "[10.0, 5.0]\n"
     ]
    }
   ],
   "source": [
    "salarios = []\n",
    "\n",
    "def cadastrar_salario(salario):\n",
    "    if salario <= 0:\n",
    "        raise Exception('Salário inválido! Salários devem ser positivos!')\n",
    "    \n",
    "    salarios.append(salario)\n",
    "    \n",
    "for i in range(3):\n",
    "    salario = float(input('Digite o salário do funcionário: '))\n",
    "    \n",
    "    try:\n",
    "        cadastrar_salario(salario)\n",
    "    except:\n",
    "        print('Opa, salário inválido!')\n",
    "        \n",
    "print(salarios)"
   ]
  },
  {
   "attachments": {},
   "cell_type": "markdown",
   "metadata": {},
   "source": [
    "Neste exemplo, após criarmos a função cadastrar_salario, o bloco try/except é usado para verificar a ocorrência de exceções.\n",
    "\n",
    "Caso o salário seja menor que zero, lançamos a exceção personalizada criada com a palavra ```Exception``` ou com o nome de outras exceções embutidas em Python.\n",
    "\n",
    "Essa abordagem é útil quando precisamos lidar com erros específicos do programa ou fornecer informações personalizadas na exceção."
   ]
  },
  {
   "attachments": {},
   "cell_type": "markdown",
   "metadata": {},
   "source": [
    "**Resumo:**\n",
    "\n",
    "Em resumo, o lançamento de exceções com raise é uma maneira eficaz de sinalizar condições excepcionais no seu código Python. \n",
    "\n",
    "Ele permite que você pare a execução normal do programa e trate o erro de acordo com suas necessidades, fornecendo informações detalhadas sobre a exceção para uma melhor depuração e entendimento do problema."
   ]
  },
  {
   "cell_type": "code",
   "execution_count": 19,
   "metadata": {},
   "outputs": [
    {
     "name": "stdout",
     "output_type": "stream",
     "text": [
      "Erro: 7\n"
     ]
    }
   ],
   "source": [
    "def dividir(a, b):\n",
    "    if b == 0:\n",
    "        raise Exception(\"Divisão por zero não é permitida.\")\n",
    "    return a / b\n",
    "\n",
    "try:\n",
    "    resultado = dividir(10, 0)\n",
    "    print(\"Resultado:\", resultado)\n",
    "except Exception as erro:\n",
    "    print(\"Erro:\", erro.__traceback__.)"
   ]
  },
  {
   "attachments": {},
   "cell_type": "markdown",
   "metadata": {},
   "source": [
    "Neste exemplo, a função dividir realiza uma divisão de dois números. \n",
    "\n",
    "Se o divisor (b) for igual a zero, lançamos uma exceção utilizando a Exception e fornecemos uma mensagem de erro personalizada.\n",
    "\n",
    "No bloco try/except, chamamos a função dividir com um divisor zero e capturamos a exceção Exception. Em seguida, exibimos a mensagem de erro associada à exceção.\n",
    "\n",
    "Ao utilizar a Exception, você pode personalizar a mensagem de erro para refletir a natureza específica do erro que ocorreu no seu programa. \n",
    "\n",
    "Isso torna mais fácil para você e outros desenvolvedores entenderem o problema e depurar o código quando necessário.\n",
    "\n",
    "Lembrando que é uma boa prática criar exceções personalizadas quando você precisa lidar com erros específicos no seu programa. \n",
    "\n",
    "No entanto, ao utilizar a Exception, você pode criar exceções básicas sem criar uma nova classe personalizada."
   ]
  },
  {
   "attachments": {},
   "cell_type": "markdown",
   "metadata": {},
   "source": [
    "## Voltando ao problema do início da aula\n",
    "\n"
   ]
  },
  {
   "cell_type": "code",
   "execution_count": 16,
   "metadata": {},
   "outputs": [
    {
     "name": "stdout",
     "output_type": "stream",
     "text": [
      "Venda realizada:\n",
      "Produto: banana\n",
      "Quantidade: 3\n",
      "Preço Unitário: 2.5\n",
      "Total: 7.5\n",
      "Produto indisponível: morango\n",
      "Quantidade inválida: -2\n"
     ]
    }
   ],
   "source": [
    "produtos = {\n",
    "    'banana': 2.5,\n",
    "    'maçã': 3.0,\n",
    "    'laranja': 2.0,\n",
    "    'uva': 4.5\n",
    "}\n",
    "\n",
    "def vender_produto(nome_produto, quantidade):\n",
    "    if nome_produto not in produtos:\n",
    "        raise Exception(\"Produto indisponível: \" + nome_produto)\n",
    "    \n",
    "    if quantidade <= 0:\n",
    "        raise Exception(\"Quantidade inválida: \" + str(quantidade))\n",
    "    \n",
    "    preco_unitario = produtos[nome_produto]\n",
    "    total = preco_unitario * quantidade\n",
    "    \n",
    "    print(\"Venda realizada:\")\n",
    "    print(\"Produto:\", nome_produto)\n",
    "    print(\"Quantidade:\", quantidade)\n",
    "    print(\"Preço Unitário:\", preco_unitario)\n",
    "    print(\"Total:\", total)\n",
    "\n",
    "try:\n",
    "    vender_produto('banana', 3)\n",
    "except Exception as e:\n",
    "    print(e)\n",
    "\n",
    "try:\n",
    "    vender_produto('morango', 5)\n",
    "except Exception as e:\n",
    "    print(e)\n",
    "\n",
    "try:\n",
    "    vender_produto('laranja', -2)\n",
    "except Exception as e:\n",
    "    print(e)"
   ]
  },
  {
   "attachments": {},
   "cell_type": "markdown",
   "metadata": {},
   "source": [
    "# Exercícios"
   ]
  },
  {
   "attachments": {},
   "cell_type": "markdown",
   "metadata": {},
   "source": [
    "**Exercício 1:**\n",
    "\n",
    "Escreva um programa que solicite ao usuário um número inteiro e, em seguida, exiba o resultado da divisão de 10 por esse número. \n",
    "\n",
    "Certifique-se de tratar a exceção caso o usuário forneça zero ou uma string ou um float como entrada."
   ]
  },
  {
   "cell_type": "code",
   "execution_count": 7,
   "metadata": {},
   "outputs": [
    {
     "name": "stdout",
     "output_type": "stream",
     "text": [
      "Erro: Digite um número inteiro válido.\n"
     ]
    }
   ],
   "source": [
    "try:\n",
    "    numero = int(input(\"Digite um número inteiro: \"))\n",
    "    print(numero)\n",
    "    resultado = 10 / numero\n",
    "    print(\"Resultado:\", resultado)\n",
    "except ZeroDivisionError:\n",
    "    print(\"Erro: Divisão por zero não é permitida.\")\n",
    "except ValueError:\n",
    "    print(\"Erro: Digite um número inteiro válido.\")"
   ]
  },
  {
   "attachments": {},
   "cell_type": "markdown",
   "metadata": {},
   "source": [
    "**Exercício 2:**\n",
    "\n",
    "Crie uma função chamada obter_elemento que recebe uma lista e um índice como parâmetros. \n",
    "\n",
    "A função deve retornar o elemento da lista correspondente ao índice fornecido. \n",
    "\n",
    "Certifique-se de tratar a exceção caso o índice esteja fora dos limites da lista.\n",
    "\n",
    "**Obs.:** Esse é o ```IndexError```."
   ]
  },
  {
   "cell_type": "code",
   "execution_count": 8,
   "metadata": {},
   "outputs": [
    {
     "name": "stdout",
     "output_type": "stream",
     "text": [
      "3\n",
      "Erro: O índice fornecido está fora dos limites da lista.\n",
      "None\n"
     ]
    }
   ],
   "source": [
    "def obter_elemento(lista, indice):\n",
    "    try:\n",
    "        elemento = lista[indice]\n",
    "        return elemento\n",
    "    except IndexError:\n",
    "        print(\"Erro: O índice fornecido está fora dos limites da lista.\")\n",
    "\n",
    "lista = [1, 2, 3, 4, 5]\n",
    "print(obter_elemento(lista, 2))\n",
    "print(obter_elemento(lista, 10))"
   ]
  },
  {
   "attachments": {},
   "cell_type": "markdown",
   "metadata": {},
   "source": [
    "**Exercício 3:**\n",
    "\n",
    "Escreva um programa que solicite ao usuário dois números e realize a divisão do primeiro número pelo segundo número. \n",
    "\n",
    "Trate a exceção caso o usuário forneça valores não numéricos ou o segundo seja 0."
   ]
  },
  {
   "cell_type": "code",
   "execution_count": 10,
   "metadata": {},
   "outputs": [
    {
     "name": "stdout",
     "output_type": "stream",
     "text": [
      "Resultado: 0.7142857142857143\n"
     ]
    }
   ],
   "source": [
    "try:\n",
    "    numero1 = float(input(\"Digite o primeiro número: \"))\n",
    "    numero2 = float(input(\"Digite o segundo número: \"))\n",
    "    resultado = numero1 / numero2\n",
    "    print(\"Resultado:\", resultado)\n",
    "except ZeroDivisionError:\n",
    "    print(\"Erro: Divisão por zero não é permitida.\")\n",
    "except ValueError:\n",
    "    print(\"Erro: Digite valores numéricos válidos.\")"
   ]
  },
  {
   "attachments": {},
   "cell_type": "markdown",
   "metadata": {},
   "source": [
    "**Exercício 4:**\n",
    "\n",
    "Crie uma função chamada calcular_media que recebe uma lista de números como parâmetro e retorna a média dos elementos da lista. \n",
    "\n",
    "Certifique-se de tratar a exceção caso a lista esteja vazia."
   ]
  },
  {
   "cell_type": "code",
   "execution_count": 11,
   "metadata": {},
   "outputs": [
    {
     "name": "stdout",
     "output_type": "stream",
     "text": [
      "3.0\n",
      "Erro: A lista está vazia.\n",
      "None\n"
     ]
    }
   ],
   "source": [
    "def calcular_media(lista):\n",
    "    try:\n",
    "        media = sum(lista) / len(lista)\n",
    "        return media\n",
    "    except ZeroDivisionError:\n",
    "        print(\"Erro: A lista está vazia.\")\n",
    "\n",
    "numeros = [1, 2, 3, 4, 5]\n",
    "print(calcular_media(numeros))\n",
    "print(calcular_media([]))"
   ]
  },
  {
   "attachments": {},
   "cell_type": "markdown",
   "metadata": {},
   "source": [
    "**Exercício 5:**\n",
    "\n",
    "Escreva um programa que solicite ao usuário um número e imprima a raiz quadrada desse número. \n",
    "\n",
    "Trate a exceção caso o usuário forneça um valor negativo."
   ]
  },
  {
   "cell_type": "code",
   "execution_count": 12,
   "metadata": {},
   "outputs": [
    {
     "name": "stdout",
     "output_type": "stream",
     "text": [
      "Erro: O número não pode ser negativo.\n"
     ]
    }
   ],
   "source": [
    "try:\n",
    "    numero = float(input(\"Digite um número: \"))\n",
    "    if numero < 0:\n",
    "        raise ValueError(\"Erro: O número não pode ser negativo.\")\n",
    "    raiz_quadrada =numero**0.5\n",
    "    print(\"Raiz quadrada:\", raiz_quadrada)\n",
    "except ValueError as e:\n",
    "    print(str(e))"
   ]
  },
  {
   "attachments": {},
   "cell_type": "markdown",
   "metadata": {},
   "source": [
    "**Exercício 6:**\n",
    "\n",
    "Crie uma função chamada concatenar_strings que recebe duas strings como parâmetros e retorna a concatenação dessas strings.\n",
    "\n",
    "Trate a exceção caso um dos parâmetros não seja uma string."
   ]
  },
  {
   "cell_type": "code",
   "execution_count": 13,
   "metadata": {},
   "outputs": [
    {
     "name": "stdout",
     "output_type": "stream",
     "text": [
      "OláMundo\n",
      "Erro: Os parâmetros devem ser strings.\n",
      "None\n"
     ]
    }
   ],
   "source": [
    "def concatenar_strings(str1,str2):\n",
    "    try:\n",
    "        if not isinstance(str1, str) or not isinstance(str2, str):\n",
    "            raise TypeError(\"Erro: Os parâmetros devem ser strings.\")\n",
    "        concatenacao = str1 + str2\n",
    "        return concatenacao\n",
    "    except TypeError as e:\n",
    "        print(str(e))\n",
    "\n",
    "print(concatenar_strings(\"Olá\", \"Mundo\"))\n",
    "print(concatenar_strings(\"Olá\", 123))"
   ]
  },
  {
   "attachments": {},
   "cell_type": "markdown",
   "metadata": {},
   "source": [
    "**Exercício 7:**\n",
    "\n",
    "Escreva um programa que solicite ao usuário uma lista de números inteiros separados por vírgula. \n",
    "\n",
    "Em seguida, converta a string em uma lista de números e imprima a soma de todos os elementos. \n",
    "\n",
    "Trate a exceção caso o usuário forneça valores não numéricos."
   ]
  },
  {
   "cell_type": "code",
   "execution_count": 14,
   "metadata": {},
   "outputs": [
    {
     "name": "stdout",
     "output_type": "stream",
     "text": [
      "Soma: 6\n"
     ]
    }
   ],
   "source": [
    "try:\n",
    "    numeros_str = input(\"Digite uma lista de números separados por vírgula: \")\n",
    "    numeros = [int(x) for x in numeros_str.split(\",\")]\n",
    "    soma = sum(numeros)\n",
    "    print(\"Soma:\", soma)\n",
    "except ValueError:\n",
    "    print(\"Erro: Digite valores numéricos válidos.\")"
   ]
  },
  {
   "cell_type": "code",
   "execution_count": null,
   "metadata": {},
   "outputs": [],
   "source": []
  }
 ],
 "metadata": {
  "kernelspec": {
   "display_name": "base",
   "language": "python",
   "name": "python3"
  },
  "language_info": {
   "codemirror_mode": {
    "name": "ipython",
    "version": 3
   },
   "file_extension": ".py",
   "mimetype": "text/x-python",
   "name": "python",
   "nbconvert_exporter": "python",
   "pygments_lexer": "ipython3",
   "version": "3.9.13"
  },
  "orig_nbformat": 4
 },
 "nbformat": 4,
 "nbformat_minor": 2
}
