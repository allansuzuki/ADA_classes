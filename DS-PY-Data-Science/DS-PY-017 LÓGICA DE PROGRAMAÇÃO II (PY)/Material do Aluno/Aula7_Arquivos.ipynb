{
 "cells": [
  {
   "attachments": {},
   "cell_type": "markdown",
   "metadata": {},
   "source": [
    "## 🎯 Aula 7 - Manipulação de arquivos 🎯<br>\n",
    "\n",
    "📗 [Arquivos txt em Python](#um)\n",
    "\n",
    "📋 [Arquivo csv](#dois)\n",
    "\n",
    "📋 [Arquivo json](#tres)"
   ]
  },
  {
   "attachments": {},
   "cell_type": "markdown",
   "metadata": {},
   "source": [
    "## 📗 Arquivos txt em Python 📗 <a class=\"anchor\" id=\"um\"></a>\n",
    "<br>"
   ]
  },
  {
   "attachments": {},
   "cell_type": "markdown",
   "metadata": {},
   "source": [
    "### Função open(arg1,arg2,arg3)"
   ]
  },
  {
   "cell_type": "markdown",
   "metadata": {},
   "source": [
    "\n",
    "**arg1:** Caminho do arquivo, com seu nome;\n",
    "\n",
    "**arg2:** Modo de operação:\n",
    "\n",
    "- `r` -\tlê um arquivo existente;\n",
    "- `w` -\tcria um novo arquivo ou sobrescreve um existente;\n",
    "- `a` -\tcria um novo arquivo ou adiciona informações ao seu final (append);\n",
    "- `+` -\tao ser combinado com outros modos, permite alteração de arquivo já existente (ex: `r+` abre um arquivo existente e permite modificá-lo).\n",
    "\n",
    "**arg3:** \"enconding\" (codificação). **Recomendação:** utf-8."
   ]
  },
  {
   "attachments": {},
   "cell_type": "markdown",
   "metadata": {},
   "source": [
    "**Leitura:**"
   ]
  },
  {
   "cell_type": "code",
   "execution_count": 1,
   "metadata": {},
   "outputs": [],
   "source": [
    "#Abrir o arquivo para leitura\n",
    "arquivo = open('data/ola.txt','r',encoding='utf-8')"
   ]
  },
  {
   "cell_type": "code",
   "execution_count": 2,
   "metadata": {},
   "outputs": [
    {
     "data": {
      "text/plain": [
       "'1 - Olá alunos do Roma!\\n2 - Olá alunos do Roma!\\n3 - Olá alunos do Roma!\\n4 - Olá alunos do Roma!\\n5 - Olá alunos do Roma!\\n'"
      ]
     },
     "execution_count": 2,
     "metadata": {},
     "output_type": "execute_result"
    }
   ],
   "source": [
    "#Ler o arquivo\n",
    "arquivo.read()"
   ]
  },
  {
   "cell_type": "code",
   "execution_count": 3,
   "metadata": {},
   "outputs": [],
   "source": [
    "#Fechando o arquivo\n",
    "arquivo.close()"
   ]
  },
  {
   "attachments": {},
   "cell_type": "markdown",
   "metadata": {},
   "source": [
    "**Escrevendo:**"
   ]
  },
  {
   "cell_type": "code",
   "execution_count": 4,
   "metadata": {},
   "outputs": [],
   "source": [
    "#Abrir o arquivo para escrita\n",
    "arquivo = open('data/ola.txt','w',encoding='utf-8')"
   ]
  },
  {
   "cell_type": "code",
   "execution_count": 5,
   "metadata": {},
   "outputs": [
    {
     "data": {
      "text/plain": [
       "24"
      ]
     },
     "execution_count": 5,
     "metadata": {},
     "output_type": "execute_result"
    }
   ],
   "source": [
    "#Escrevendo no arquivo\n",
    "arquivo.write('1 - Olá, mundo!')\n",
    "arquivo.write('2 - Olá, alunos do Roma!')"
   ]
  },
  {
   "cell_type": "code",
   "execution_count": 6,
   "metadata": {},
   "outputs": [],
   "source": [
    "#Fechando o arquivo\n",
    "arquivo.close()"
   ]
  },
  {
   "attachments": {},
   "cell_type": "markdown",
   "metadata": {},
   "source": [
    "**Inserindo mais coisas nos dados:**"
   ]
  },
  {
   "cell_type": "code",
   "execution_count": 7,
   "metadata": {},
   "outputs": [],
   "source": [
    "# como o arquivo já existe, vamos usar o modo \"a\"\n",
    "arquivo = open('data/ola.txt','a',encoding='utf-8')\n",
    "#Escrever no arquivo\n",
    "arquivo.write('3 - Minha terceira linha!')\n",
    "#Fechar o arquivo\n",
    "arquivo.close()"
   ]
  },
  {
   "cell_type": "code",
   "execution_count": 8,
   "metadata": {},
   "outputs": [],
   "source": [
    "#Abrir o arquivo para leitura\n",
    "arquivo = open('data/ola.txt','r',encoding='utf-8')"
   ]
  },
  {
   "cell_type": "code",
   "execution_count": 9,
   "metadata": {},
   "outputs": [
    {
     "data": {
      "text/plain": [
       "'1 - Olá, mundo!2 - Olá, alunos do Roma!3 - Minha terceira linha!'"
      ]
     },
     "execution_count": 9,
     "metadata": {},
     "output_type": "execute_result"
    }
   ],
   "source": [
    "#Ler o arquivo\n",
    "arquivo.read()"
   ]
  },
  {
   "cell_type": "code",
   "execution_count": 10,
   "metadata": {},
   "outputs": [],
   "source": [
    "arquivo.close()"
   ]
  },
  {
   "attachments": {},
   "cell_type": "markdown",
   "metadata": {},
   "source": [
    "**Como escrever em uma sequência de novas linhas?**"
   ]
  },
  {
   "cell_type": "code",
   "execution_count": 14,
   "metadata": {},
   "outputs": [],
   "source": [
    "# modo w, pra poder escrever ao fim do arquivo coisas novas\n",
    "arquivo = open('data/ola.txt','w',encoding='utf-8')\n",
    "\n",
    "for i in range(5):\n",
    "\n",
    "    arquivo.write(str(i+1)+' - '+'Olá alunos do Roma!\\n')\n",
    "\n",
    "arquivo.close()"
   ]
  },
  {
   "cell_type": "code",
   "execution_count": 15,
   "metadata": {},
   "outputs": [],
   "source": [
    "#Abrir e ler o arquivo\n",
    "arquivo = open('data/ola.txt','r',encoding='utf-8')"
   ]
  },
  {
   "cell_type": "code",
   "execution_count": 16,
   "metadata": {},
   "outputs": [
    {
     "data": {
      "text/plain": [
       "'1 - Olá alunos do Roma!\\n2 - Olá alunos do Roma!\\n3 - Olá alunos do Roma!\\n4 - Olá alunos do Roma!\\n5 - Olá alunos do Roma!\\n'"
      ]
     },
     "execution_count": 16,
     "metadata": {},
     "output_type": "execute_result"
    }
   ],
   "source": [
    "#Ler o arquivo\n",
    "arquivo.read()"
   ]
  },
  {
   "cell_type": "code",
   "execution_count": 17,
   "metadata": {},
   "outputs": [],
   "source": [
    "#Fechar o arquivo\n",
    "arquivo.close()"
   ]
  },
  {
   "attachments": {},
   "cell_type": "markdown",
   "metadata": {},
   "source": [
    "Uma maneira de lermos o arquivo todo como lista é utilizando  o readlines()"
   ]
  },
  {
   "cell_type": "code",
   "execution_count": 18,
   "metadata": {},
   "outputs": [
    {
     "data": {
      "text/plain": [
       "['1 - Olá alunos do Roma!\\n',\n",
       " '2 - Olá alunos do Roma!\\n',\n",
       " '3 - Olá alunos do Roma!\\n',\n",
       " '4 - Olá alunos do Roma!\\n',\n",
       " '5 - Olá alunos do Roma!\\n']"
      ]
     },
     "execution_count": 18,
     "metadata": {},
     "output_type": "execute_result"
    }
   ],
   "source": [
    "arquivo = open('data/ola.txt','r',encoding='utf-8')\n",
    "\n",
    "lista = arquivo.readlines()\n",
    "\n",
    "arquivo.close()\n",
    "\n",
    "lista"
   ]
  },
  {
   "attachments": {},
   "cell_type": "markdown",
   "metadata": {},
   "source": [
    "### **Usando o with:**\n",
    "\n",
    "Uma outra forma de manipular arquivos sem se importar em sempre fechá-lo é utilizar `gerenciadores de contexto`.<br>\n",
    "\n",
    "Ou seja, utilizando o `with` o gerenciador chama e fecha conexões automaticamente. Não precisamos nos preocupar em explicitamente fechar conexões."
   ]
  },
  {
   "cell_type": "code",
   "execution_count": 19,
   "metadata": {},
   "outputs": [
    {
     "data": {
      "text/plain": [
       "['1 - Olá alunos do Roma!\\n',\n",
       " '2 - Olá alunos do Roma!\\n',\n",
       " '3 - Olá alunos do Roma!\\n',\n",
       " '4 - Olá alunos do Roma!\\n',\n",
       " '5 - Olá alunos do Roma!\\n']"
      ]
     },
     "execution_count": 19,
     "metadata": {},
     "output_type": "execute_result"
    }
   ],
   "source": [
    "with open('data/ola.txt','r',encoding='utf-8') as arquivo:\n",
    "    lista = arquivo.readlines()\n",
    "\n",
    "lista"
   ]
  },
  {
   "attachments": {},
   "cell_type": "markdown",
   "metadata": {},
   "source": [
    "**Armazenando valores numéricos:**"
   ]
  },
  {
   "cell_type": "code",
   "execution_count": 20,
   "metadata": {},
   "outputs": [],
   "source": [
    "notas = [8,7,5,6,4,6]\n",
    "\n",
    "arquivo = open('data/notas.txt','w',encoding='utf-8')\n",
    "\n",
    "for item in notas:\n",
    "    arquivo.write(str(item)+'\\n')\n",
    "arquivo.close()"
   ]
  },
  {
   "attachments": {},
   "cell_type": "markdown",
   "metadata": {},
   "source": [
    "## 📋 Arquivo csv 📋 <a class=\"anchor\" id=\"dois\"></a>"
   ]
  },
  {
   "attachments": {},
   "cell_type": "markdown",
   "metadata": {},
   "source": [
    "Em Python, podemos entender um arquivo CSV como uma lista de listas. <br>\n",
    "Ou seja, uma lista (tabela) onde cada item da tabela é uma lista (linha da tabela),<br>\n",
    "com vários itens na lista (células)\n",
    "\n",
    "tabela: \n",
    "\n",
    "\n",
    "|1|2|3|\n",
    "|-|-|-| \n",
    "|4|5|6|\n",
    "|7|8|9|\n",
    "\n",
    "$\\downarrow$\n",
    "\n",
    "[[1,2,3],[4,5,6],[7,8,9]] \n",
    "\n",
    "Assim, imagine que queremos armazenar um arquivo csv. Começamos com uma lista de listas:"
   ]
  },
  {
   "cell_type": "code",
   "execution_count": 2,
   "metadata": {},
   "outputs": [],
   "source": [
    "#Criar uma tabela\n",
    "tabela = [['Aluno','Nota 1','Nota 2','Presença'],\n",
    "          ['Luke',7,9,15],\n",
    "          ['Han',4,7,10],\n",
    "          ['Leia',9,9,16]]"
   ]
  },
  {
   "cell_type": "code",
   "execution_count": 22,
   "metadata": {},
   "outputs": [],
   "source": [
    "#Importando o módulo csv\n",
    "import csv"
   ]
  },
  {
   "cell_type": "code",
   "execution_count": 23,
   "metadata": {},
   "outputs": [],
   "source": [
    "# cria o arquivo CSV\n",
    "arquivo = open('data/alunos_notas.csv','w',encoding='utf-8')"
   ]
  },
  {
   "attachments": {},
   "cell_type": "markdown",
   "metadata": {},
   "source": [
    "### Escrita"
   ]
  },
  {
   "cell_type": "code",
   "execution_count": 24,
   "metadata": {},
   "outputs": [],
   "source": [
    "#Escrever\n",
    "csv.writer(arquivo,delimiter=';',lineterminator='\\n').writerows(tabela)"
   ]
  },
  {
   "attachments": {},
   "cell_type": "markdown",
   "metadata": {},
   "source": [
    "A primeira parte, \n",
    "\n",
    "```python\n",
    "csv.writer(arquivo, delimiter=';', lineterminator='\\n')\n",
    "```\n",
    "\n",
    "Indica:\n",
    "\n",
    "- em que arquivo você quer escrever\n",
    "- como que você vai separar os valores (neste caso, com \";\")\n",
    "- como vc vai separar as diferentes linhas do arquivo (neste caso, com \"\\n\")\n",
    "\n",
    "A segunda parte, indica quais os dados que você quer escrever no arquivo (no caso, a lista de listas \"tabela\"):\n",
    "\n",
    "```python\n",
    "writerows(tabela)\n",
    "```"
   ]
  },
  {
   "cell_type": "code",
   "execution_count": null,
   "metadata": {},
   "outputs": [],
   "source": [
    "#Fechar o arquivo\n",
    "arquivo.close()"
   ]
  },
  {
   "attachments": {},
   "cell_type": "markdown",
   "metadata": {},
   "source": [
    "### Leitura"
   ]
  },
  {
   "cell_type": "code",
   "execution_count": 26,
   "metadata": {},
   "outputs": [],
   "source": [
    "arquivo = open('data/alunos_notas.csv','r',encoding='utf-8')\n",
    "leitor = csv.reader(arquivo,delimiter=';',lineterminator='\\n')"
   ]
  },
  {
   "cell_type": "code",
   "execution_count": 27,
   "metadata": {},
   "outputs": [
    {
     "data": {
      "text/plain": [
       "<_csv.reader at 0x29c242e2fa0>"
      ]
     },
     "execution_count": 27,
     "metadata": {},
     "output_type": "execute_result"
    }
   ],
   "source": [
    "leitor"
   ]
  },
  {
   "cell_type": "code",
   "execution_count": 28,
   "metadata": {},
   "outputs": [],
   "source": [
    "planilha = []\n",
    "\n",
    "for linha in leitor:\n",
    "    planilha.append(linha)\n",
    "\n",
    "arquivo.close()"
   ]
  },
  {
   "cell_type": "code",
   "execution_count": 3,
   "metadata": {},
   "outputs": [
    {
     "ename": "NameError",
     "evalue": "name 'planilha' is not defined",
     "output_type": "error",
     "traceback": [
      "\u001b[1;31m---------------------------------------------------------------------------\u001b[0m",
      "\u001b[1;31mNameError\u001b[0m                                 Traceback (most recent call last)",
      "Cell \u001b[1;32mIn[3], line 1\u001b[0m\n\u001b[1;32m----> 1\u001b[0m \u001b[43mplanilha\u001b[49m\n",
      "\u001b[1;31mNameError\u001b[0m: name 'planilha' is not defined"
     ]
    }
   ],
   "source": [
    "planilha"
   ]
  },
  {
   "cell_type": "markdown",
   "metadata": {},
   "source": [
    "## 📋 Arquivo json 📋 <a class=\"anchor\" id=\"tres\"></a>"
   ]
  },
  {
   "cell_type": "markdown",
   "metadata": {},
   "source": [
    "Outro tipo de arquivo bem comum de ser utilizado são `json`.<br>\n",
    "Sua estrutura é basicamente um dicionário do python.\n",
    "\n",
    "Para manipularmos um arquivo csv utilizamos o package `csv` do python.<br>\n",
    "Para minipularmos um arquivo json utilizamos (adivinha?? rsrs)"
   ]
  },
  {
   "cell_type": "markdown",
   "metadata": {},
   "source": [
    "### Criar JSON"
   ]
  },
  {
   "cell_type": "code",
   "execution_count": 16,
   "metadata": {},
   "outputs": [],
   "source": [
    "# vamos transformar a `tabela` em um dicionário\n",
    "keys = tabela[0]\n",
    "rows = tabela[1:]\n",
    "\n",
    "# transformar dados em dicionario, separando por colunas\n",
    "dic_from_tabela = {k: list(map(lambda x: x[i], rows)) for i,k in enumerate(keys)}\n",
    "\n",
    "# armazenar dados em json\n",
    "import json\n",
    "\n",
    "# precisa definir o encoding, o indent e o ensure_ascii\n",
    "with open('data/alunos_notas.json', 'w', encoding='utf-8-sig') as json_file:\n",
    "    json.dump(dic_from_tabela, json_file, indent=4, ensure_ascii=False) "
   ]
  },
  {
   "cell_type": "markdown",
   "metadata": {},
   "source": [
    "Como usamos o `with` não é preciso fechar o  arquivo. A conexão é fechada automaticamente.\n",
    "\n",
    "Agora vamos ler o arquivo que criamos"
   ]
  },
  {
   "cell_type": "markdown",
   "metadata": {},
   "source": [
    "### Ler JSON"
   ]
  },
  {
   "cell_type": "code",
   "execution_count": 17,
   "metadata": {},
   "outputs": [],
   "source": [
    "with open('data/alunos_notas.json', 'r', encoding='utf-8-sig') as json_file:\n",
    "    dic_loaded = json.load(json_file) "
   ]
  },
  {
   "cell_type": "markdown",
   "metadata": {},
   "source": [
    "E ao inves do `append` que altera o arquivo, é mais interessante ler o JSON, fazer as alterações e salvar em cima do antigo JSON."
   ]
  },
  {
   "attachments": {},
   "cell_type": "markdown",
   "metadata": {},
   "source": [
    "# Estudo de Caso:\n",
    "\n",
    "Como fazer com que o sistema de vendas consiga salvar informações sobre produtos, usuários e vendas em arquivo."
   ]
  },
  {
   "cell_type": "code",
   "execution_count": null,
   "metadata": {},
   "outputs": [],
   "source": [
    "import csv\n",
    "\n",
    "# Estrutura de exemplo para os produtos\n",
    "produtos = [\n",
    "    {\"nome\": \"Produto 1\", \"preco\": 9.99, \"quantidade\": 5},\n",
    "    {\"nome\": \"Produto 2\", \"preco\": 14.99, \"quantidade\": 10},\n",
    "    {\"nome\": \"Produto 3\", \"preco\": 19.99, \"quantidade\": 3}\n",
    "]\n",
    "\n",
    "# Função para salvar dados em arquivo de texto (txt)\n",
    "def salvar_em_txt(produtos):\n",
    "    with open(\"produtos.txt\", \"w\") as arquivo:\n",
    "        for produto in produtos:\n",
    "            linha = f\"{produto['nome']},{produto['preco']},{produto['quantidade']}\\n\"\n",
    "            arquivo.write(linha)\n",
    "\n",
    "# Função para carregar dados de arquivo de texto (txt)\n",
    "def carregar_de_txt():\n",
    "    produtos = []\n",
    "    with open(\"produtos.txt\", \"r\") as arquivo:\n",
    "        linhas = arquivo.readlines()\n",
    "        for linha in linhas:\n",
    "            dados = linha.strip().split(\",\")\n",
    "            produto = {\n",
    "                \"nome\": dados[0],\n",
    "                \"preco\": float(dados[1]),\n",
    "                \"quantidade\": int(dados[2])\n",
    "            }\n",
    "            produtos.append(produto)\n",
    "    return produtos\n",
    "\n",
    "# Função para salvar dados em arquivo CSV\n",
    "def salvar_em_csv(produtos):\n",
    "    with open(\"produtos.csv\", \"w\", newline=\"\") as arquivo:\n",
    "        colunas = [\"nome\", \"preco\", \"quantidade\"]\n",
    "        writer = csv.DictWriter(arquivo, fieldnames=colunas)\n",
    "        writer.writeheader()\n",
    "        for produto in produtos:\n",
    "            writer.writerow(produto)\n",
    "\n",
    "# Função para carregar dados de arquivo CSV\n",
    "def carregar_de_csv():\n",
    "    produtos = []\n",
    "    with open(\"produtos.csv\", \"r\") as arquivo:\n",
    "        reader = csv.DictReader(arquivo)\n",
    "        for row in reader:\n",
    "            produto = {\n",
    "                \"nome\": row[\"nome\"],\n",
    "                \"preco\": float(row[\"preco\"]),\n",
    "                \"quantidade\": int(row[\"quantidade\"])\n",
    "            }\n",
    "            produtos.append(produto)\n",
    "    return produtos\n",
    "\n",
    "# Exemplo de uso das funções\n",
    "salvar_em_txt(produtos)\n",
    "produtos_carregados_txt = carregar_de_txt()\n",
    "print(\"Dados carregados de arquivo de texto (txt):\")\n",
    "print(produtos_carregados_txt)\n",
    "\n",
    "salvar_em_csv(produtos)\n",
    "produtos_carregados_csv = carregar_de_csv()\n",
    "print(\"Dados carregados de arquivo CSV:\")\n",
    "print(produtos_carregados_csv)"
   ]
  },
  {
   "attachments": {},
   "cell_type": "markdown",
   "metadata": {},
   "source": [
    "# Exercícios:"
   ]
  },
  {
   "attachments": {},
   "cell_type": "markdown",
   "metadata": {},
   "source": [
    "**Exercício 1:**\n",
    "\n",
    "Salve em um arquivo csv as notas de avaliação dos filmes abaixo:\n",
    "\n",
    "Notas_filmes = [['Harry Potter', 10, 8, 9.5, 8.5, 10], ['Senhor dos Anéis', 9.7, 8.8, 10,\n",
    "                8.9, 9.9], ['Velozes e Furiosos', 9, 8.1, 9.1, 7.5, 9.2], ['007', 8.7, 10, 8.5, 9.5, 9.1]]\n"
   ]
  },
  {
   "cell_type": "code",
   "execution_count": 1,
   "metadata": {},
   "outputs": [],
   "source": [
    "Notas_filmes = [['Filme','Nota 1','Nota 2','Nota 3', 'Nota 4'],\n",
    "                ['Harry Potter', 10, 8, 9.5, 8.5, 10], ['Senhor dos Anéis', 9.7, 8.8, 10,\n",
    "                8.9, 9.9], ['Velozes e Furiosos', 9, 8.1, 9.1, 7.5, 9.2], ['007', 8.7, 10, 8.5, 9.5, 9.1]]"
   ]
  },
  {
   "cell_type": "code",
   "execution_count": 2,
   "metadata": {},
   "outputs": [],
   "source": [
    "import csv"
   ]
  },
  {
   "cell_type": "code",
   "execution_count": 4,
   "metadata": {},
   "outputs": [],
   "source": [
    "# cria o arquivo CSV\n",
    "with open('filmes_notas.csv','w',encoding='utf-8') as arquivo:\n",
    "  csv.writer(arquivo,delimiter=',',lineterminator='\\n').writerows(Notas_filmes)"
   ]
  },
  {
   "attachments": {},
   "cell_type": "markdown",
   "metadata": {},
   "source": [
    "**Exercício 2:**\n",
    "\n",
    "Leia o arquivo salvo no exercício 1 e retorne em um dicionário a média de cada filme.\n"
   ]
  },
  {
   "cell_type": "code",
   "execution_count": 5,
   "metadata": {},
   "outputs": [],
   "source": [
    "with open('filmes_notas.csv','r',encoding='utf-8') as arquivo: \n",
    "  leitor = csv.reader(arquivo,delimiter=',',lineterminator='\\n')\n",
    "  planilha = []\n",
    "  for linha in leitor:\n",
    "    planilha.append(linha)"
   ]
  },
  {
   "cell_type": "code",
   "execution_count": 8,
   "metadata": {},
   "outputs": [],
   "source": [
    "media_notas = {}\n",
    "\n",
    "for idx, filme in enumerate(planilha):\n",
    "    if idx>0:\n",
    "        media_notas[filme[0]] = (float(filme[1])+float(filme[2])+float(filme[3])+float(filme[4]))/4"
   ]
  },
  {
   "cell_type": "code",
   "execution_count": 9,
   "metadata": {},
   "outputs": [
    {
     "data": {
      "text/plain": [
       "{'Harry Potter': 9.0,\n",
       " 'Senhor dos Anéis': 9.35,\n",
       " 'Velozes e Furiosos': 8.425,\n",
       " '007': 9.175}"
      ]
     },
     "execution_count": 9,
     "metadata": {},
     "output_type": "execute_result"
    }
   ],
   "source": [
    "media_notas"
   ]
  },
  {
   "attachments": {},
   "cell_type": "markdown",
   "metadata": {},
   "source": [
    "**Exercício 3:**\n",
    "\n",
    "Salve em um arquivo txt em Python, com a frase: \"Python BBAsset & Ada\" e escreva um programa em python que recebe esse arquivo como entrada e retorne a quantidade de cada letra que aparece no texto."
   ]
  },
  {
   "cell_type": "code",
   "execution_count": 28,
   "metadata": {},
   "outputs": [],
   "source": [
    "with open('mensagem.txt','w',encoding='utf-8') as arquivo:\n",
    "    arquivo.write('Python BBAsset & Ada\\n')"
   ]
  },
  {
   "cell_type": "code",
   "execution_count": 29,
   "metadata": {},
   "outputs": [],
   "source": [
    "def contar_letras(arquivo):\n",
    "    with open(arquivo,'r',encoding='utf-8') as f:\n",
    "        frase = f.read()\n",
    "    dict_letras = {}\n",
    "    for i in frase:\n",
    "        letra = i.lower()\n",
    "        if letra not in dict_letras:\n",
    "            dict_letras[letra] = 1\n",
    "        else:\n",
    "            dict_letras[letra]+=1\n",
    "    return dict_letras"
   ]
  },
  {
   "cell_type": "code",
   "execution_count": 30,
   "metadata": {},
   "outputs": [
    {
     "data": {
      "text/plain": [
       "{'p': 1,\n",
       " 'y': 1,\n",
       " 't': 2,\n",
       " 'h': 1,\n",
       " 'o': 1,\n",
       " 'n': 1,\n",
       " ' ': 3,\n",
       " 'b': 2,\n",
       " 'a': 3,\n",
       " 's': 2,\n",
       " 'e': 1,\n",
       " '&': 1,\n",
       " 'd': 1,\n",
       " '\\n': 1}"
      ]
     },
     "execution_count": 30,
     "metadata": {},
     "output_type": "execute_result"
    }
   ],
   "source": [
    "contar_letras('mensagem.txt')"
   ]
  },
  {
   "attachments": {},
   "cell_type": "markdown",
   "metadata": {},
   "source": [
    "**Exercício 4:**\n",
    "\n",
    "Escreva no arquivo anterior a seguinte mensagem: \"Fiz todos os exercícios, estou chegando ao fim\" sem apagar o conteúdo anterior do texto."
   ]
  },
  {
   "cell_type": "code",
   "execution_count": 31,
   "metadata": {},
   "outputs": [],
   "source": [
    "with open('mensagem.txt','a',encoding='utf-8') as arquivo:\n",
    "    arquivo.write('Fiz todos os exercícios, estou chegando ao fim')"
   ]
  },
  {
   "cell_type": "code",
   "execution_count": null,
   "metadata": {},
   "outputs": [],
   "source": []
  }
 ],
 "metadata": {
  "kernelspec": {
   "display_name": "base",
   "language": "python",
   "name": "python3"
  },
  "language_info": {
   "codemirror_mode": {
    "name": "ipython",
    "version": 3
   },
   "file_extension": ".py",
   "mimetype": "text/x-python",
   "name": "python",
   "nbconvert_exporter": "python",
   "pygments_lexer": "ipython3",
   "version": "3.11.5"
  },
  "orig_nbformat": 4,
  "vscode": {
   "interpreter": {
    "hash": "a4e87b69e3c337c38d8515a97bf0af28745e48a010ebcda936e79a3b31d0811d"
   }
  }
 },
 "nbformat": 4,
 "nbformat_minor": 2
}
