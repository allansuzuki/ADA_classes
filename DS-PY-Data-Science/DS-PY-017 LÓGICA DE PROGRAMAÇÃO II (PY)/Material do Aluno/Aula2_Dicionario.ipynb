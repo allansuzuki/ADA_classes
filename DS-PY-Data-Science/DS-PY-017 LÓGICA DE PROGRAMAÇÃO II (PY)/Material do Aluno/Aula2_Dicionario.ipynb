{
 "cells": [
  {
   "attachments": {},
   "cell_type": "markdown",
   "metadata": {},
   "source": [
    "# 🎯 Aula 2 - Dicionários🎯<br>\n",
    "\n",
    "Índice:\n",
    "📚 O que são dicionários e como usá-los?"
   ]
  },
  {
   "cell_type": "markdown",
   "metadata": {},
   "source": [
    "## Caso real"
   ]
  },
  {
   "cell_type": "markdown",
   "metadata": {},
   "source": [
    "Você foi contratado para armazenar os dados de compras de um supermercado. Olhando para os dados abaixo, como você faria para armazenar os dados e quantas variáveis usaria?\n",
    "\n",
    "| ID Transação | Data e Hora           | Cliente   | Produto        | Quantidade | Valor Unitário | Total       |\n",
    "|--------------|-----------------------|-----------|----------------|------------|----------------|-------------|\n",
    "| 001          | 2024-01-27 09:30:00   | Alice | Xicara      | 5          | R$ 20,00       | R$ 100,00   |\n",
    "| 002          | 2024-01-27 10:15:00   | Bob | Yogurt      | 3          | R$ 15,50       | R$ 46,50    |\n",
    "| 003          | 2024-01-27 11:00:00   | Carlos | Zulu      | 2          | R$ 30,00       | R$ 60,00    |\n",
    "| 004          | 2024-01-27 12:45:00   | Alice | Yogurt      | 1          | R$ 25,00       | R$ 25,00    |\n",
    "| 005          | 2024-01-27 14:20:00   | Bob | Xicara      | 4          | R$ 18,75       | R$ 75,00    |\n",
    "| 006          | 2024-01-27 15:10:00   | Carlos | Zulu      | 3          | R$ 28,50       | R$ 85,50    |\n",
    "| 007          | 2024-01-27 16:30:00   | Alice | Yogurt      | 2          | R$ 22,00       | R$ 44,00    |"
   ]
  },
  {
   "cell_type": "markdown",
   "metadata": {},
   "source": [
    "Agora pensando numa forma de otimizar o número de variáveis, ou seja, reduzir, como você faria para armazenar tudo isso em uma única variável, de forma ordenada/estuturada?"
   ]
  },
  {
   "attachments": {},
   "cell_type": "markdown",
   "metadata": {},
   "source": [
    "## 📚 O que são dicionários e como usá-los? 📚 <a class=\"anchor\" id=\"um\"></a>\n",
    "<br>"
   ]
  },
  {
   "cell_type": "markdown",
   "metadata": {},
   "source": [
    "A eficiente estrutura de _'hash table'_ de chave-valor do Python é chamada de \"dict\". Ela é composta sempre por uma sequência de pares de chave-valor (_key-value_).\n",
    "\n",
    "Num dicionário (o de papel) procuramos alguma palavra e, em seguida, entendemos o significado ou definição dela. O dicionário em python é semelhante, pois quando buscamos a palavra, é como se buscássemos a chave no dicionário. Após encontrá-la, obtemos qual é a definição da palavra. Essa definição é o mesmo que obter o valo da chave (no caso, a definição da palavra.)\n",
    "\n",
    "Já não precisamos mais procurar alguma coisa pelo seu índice numa lista, o que torna o dicionário um objeto mais estruturado e de rápida localização de itens.\n"
   ]
  },
  {
   "cell_type": "markdown",
   "metadata": {},
   "source": [
    "\n",
    "Podemos criar o dicionário dessa forma:"
   ]
  },
  {
   "cell_type": "code",
   "execution_count": 1,
   "metadata": {},
   "outputs": [],
   "source": [
    "# criar um dict de frutas com key-value fruta: valor da fruta\n",
    "frutas = {\"maçã\": 1.50,\n",
    "          \"banana\": 0.99,\n",
    "          \"laranja\": 1.20}"
   ]
  },
  {
   "cell_type": "markdown",
   "metadata": {},
   "source": [
    "Outra possível forma é utilizara  função `dict` e inserir uma lista de listas de pares de [key,values]:"
   ]
  },
  {
   "cell_type": "code",
   "execution_count": null,
   "metadata": {},
   "outputs": [],
   "source": [
    "# criar a lista de pares key,value\n",
    "lista_keys_values = [[\"maçã\", 1.50],[\"banana\", 0.99],[\"laranja\", 1.20]]\n",
    "\n",
    "# criar o dict\n",
    "dict(lista_keys_values)"
   ]
  },
  {
   "cell_type": "markdown",
   "metadata": {},
   "source": [
    "Quando temos os dados de key e value separados em listas, podemos obter uma lista igual a do caso acima utilizando a função `zip` (o que ela faz mesmo?):"
   ]
  },
  {
   "cell_type": "code",
   "execution_count": null,
   "metadata": {},
   "outputs": [],
   "source": [
    "# keys e values separados em listas\n",
    "keys = [\"maçã\",\"banana\",\"laranja\"]\n",
    "values = [1.50,0.99,1.20]\n",
    "\n",
    "# criar uma lista de listas\n",
    "lista_keys_values = list(zip(keys,values))\n",
    "\n",
    "# como no caso acima, criar um dict\n",
    "dict = (lista_keys_values)"
   ]
  },
  {
   "cell_type": "markdown",
   "metadata": {},
   "source": [
    "## Obter items"
   ]
  },
  {
   "attachments": {},
   "cell_type": "markdown",
   "metadata": {},
   "source": [
    "Utilizamos o método `items` para retornar todos os pares key-value do dict `frutas`:"
   ]
  },
  {
   "cell_type": "code",
   "execution_count": 2,
   "metadata": {},
   "outputs": [
    {
     "data": {
      "text/plain": [
       "dict_items([('maçã', 1.5), ('banana', 0.99), ('laranja', 1.2)])"
      ]
     },
     "execution_count": 2,
     "metadata": {},
     "output_type": "execute_result"
    }
   ],
   "source": [
    "frutas.items()"
   ]
  },
  {
   "cell_type": "markdown",
   "metadata": {},
   "source": [
    "Para retornar somente as keys, utilizamos o método `keys`:"
   ]
  },
  {
   "cell_type": "code",
   "execution_count": null,
   "metadata": {},
   "outputs": [],
   "source": [
    "frutas.keys()"
   ]
  },
  {
   "cell_type": "markdown",
   "metadata": {},
   "source": [
    "Já para chamar somente as values, utilizamos o método (adivinha? rsrs):"
   ]
  },
  {
   "cell_type": "code",
   "execution_count": null,
   "metadata": {},
   "outputs": [],
   "source": [
    "frutas.values()"
   ]
  },
  {
   "attachments": {},
   "cell_type": "markdown",
   "metadata": {},
   "source": [
    "Para retornar o valor associado à chave especificada, é semelhante ao chamar o valor de um índice na lista:"
   ]
  },
  {
   "cell_type": "code",
   "execution_count": 4,
   "metadata": {},
   "outputs": [
    {
     "name": "stdout",
     "output_type": "stream",
     "text": [
      "1.5\n"
     ]
    }
   ],
   "source": [
    "frutas['maçã']"
   ]
  },
  {
   "cell_type": "markdown",
   "metadata": {},
   "source": [
    "Mas ao chamar uma chave que não existe, ocorre um erro:"
   ]
  },
  {
   "cell_type": "code",
   "execution_count": null,
   "metadata": {},
   "outputs": [],
   "source": [
    "frutas['chave_que_nao_existe']"
   ]
  },
  {
   "cell_type": "markdown",
   "metadata": {},
   "source": [
    "Uma forma mais segura de chamar os valores e não dar erro caso a chave não exista é utilizar o método `get`"
   ]
  },
  {
   "cell_type": "code",
   "execution_count": null,
   "metadata": {},
   "outputs": [],
   "source": [
    "# get OK\n",
    "frutas.get('maçã')"
   ]
  },
  {
   "cell_type": "code",
   "execution_count": null,
   "metadata": {},
   "outputs": [],
   "source": [
    "# get nOK -- retorna None\n",
    "frutas.get('outra_chave_que_nao_existe')"
   ]
  },
  {
   "cell_type": "markdown",
   "metadata": {},
   "source": [
    "## Adicionar items"
   ]
  },
  {
   "cell_type": "markdown",
   "metadata": {},
   "source": [
    "Para adicionar items, podemos atribuir um value a uma key para o dicionário:"
   ]
  },
  {
   "cell_type": "code",
   "execution_count": null,
   "metadata": {},
   "outputs": [],
   "source": [
    "frutas['tangerina'] = 2.10"
   ]
  },
  {
   "cell_type": "markdown",
   "metadata": {},
   "source": [
    "Porém, e se por acaso essa chave já exista? Então é preciso sempre verificar se a chave existe antes de criar uma determinada chave:"
   ]
  },
  {
   "cell_type": "code",
   "execution_count": null,
   "metadata": {},
   "outputs": [],
   "source": [
    "#verificação de chave no dicionario\n",
    "if 'tangerina' in frutas.keys():\n",
    "    print('a chave já existe')\n",
    "else:\n",
    "    frutas['tangerina'] = 2.10"
   ]
  },
  {
   "attachments": {},
   "cell_type": "markdown",
   "metadata": {},
   "source": [
    "`update` atualiza o dicionário com os pares key-value de outro dicionário ou sequência de pares chave-valor (ou seja, adiciona `key-value` não existentes, e atualiza `value` de `key` existentes)"
   ]
  },
  {
   "cell_type": "code",
   "execution_count": 6,
   "metadata": {},
   "outputs": [
    {
     "data": {
      "text/plain": [
       "{'maçã': 1.5, 'banana': 0.99, 'laranja': 1.6, 'manga': 3.5}"
      ]
     },
     "execution_count": 6,
     "metadata": {},
     "output_type": "execute_result"
    }
   ],
   "source": [
    "frutas.update({'laranja':1.6,\n",
    "               'manga':3.5})\n",
    "frutas # é pra ter adicionalmente tangerina, laranja e manga."
   ]
  },
  {
   "cell_type": "markdown",
   "metadata": {},
   "source": [
    "## Remover items"
   ]
  },
  {
   "attachments": {},
   "cell_type": "markdown",
   "metadata": {},
   "source": [
    "Para remover uma determinada key e retornar somente o value associado à key especificada de um dicionário, utilizamos o método `pop`:"
   ]
  },
  {
   "cell_type": "code",
   "execution_count": 7,
   "metadata": {},
   "outputs": [
    {
     "data": {
      "text/plain": [
       "3.5"
      ]
     },
     "execution_count": 7,
     "metadata": {},
     "output_type": "execute_result"
    }
   ],
   "source": [
    "#pop OK\n",
    "frutas.pop('manga')"
   ]
  },
  {
   "attachments": {},
   "cell_type": "markdown",
   "metadata": {},
   "source": [
    "Podemo também deletar uma key sem trazer o valor associado usando o `del`:"
   ]
  },
  {
   "cell_type": "code",
   "execution_count": 33,
   "metadata": {},
   "outputs": [],
   "source": [
    "#deletar uma chave\n",
    "del frutas['tangerina']"
   ]
  },
  {
   "attachments": {},
   "cell_type": "markdown",
   "metadata": {},
   "source": [
    "O método `popitem` remove o último par chave-valor que fio adicionado, retornando o valor removido como uma `tuple` key-value."
   ]
  },
  {
   "cell_type": "code",
   "execution_count": 5,
   "metadata": {},
   "outputs": [
    {
     "data": {
      "text/plain": [
       "('laranja', 1.2)"
      ]
     },
     "execution_count": 5,
     "metadata": {},
     "output_type": "execute_result"
    }
   ],
   "source": [
    "print('antes:', frutas)\n",
    "# remove\n",
    "frutas.popitem()\n",
    "print('depois:', frutas)"
   ]
  },
  {
   "attachments": {},
   "cell_type": "markdown",
   "metadata": {},
   "source": [
    "Para remover todos os itens do dicionário, utiliza-se o `clear`:"
   ]
  },
  {
   "cell_type": "code",
   "execution_count": 17,
   "metadata": {},
   "outputs": [
    {
     "data": {
      "text/plain": [
       "{}"
      ]
     },
     "execution_count": 17,
     "metadata": {},
     "output_type": "execute_result"
    }
   ],
   "source": [
    "frutas.clear()\n",
    "frutas"
   ]
  },
  {
   "attachments": {},
   "cell_type": "markdown",
   "metadata": {},
   "source": [
    "## Iteração sobre dicionários:"
   ]
  },
  {
   "cell_type": "markdown",
   "metadata": {},
   "source": [
    "### 1. keys"
   ]
  },
  {
   "cell_type": "code",
   "execution_count": null,
   "metadata": {},
   "outputs": [],
   "source": [
    "for key in frutas.keys():\n",
    "    print(key)"
   ]
  },
  {
   "cell_type": "markdown",
   "metadata": {},
   "source": [
    "### 2. values"
   ]
  },
  {
   "cell_type": "code",
   "execution_count": null,
   "metadata": {},
   "outputs": [],
   "source": [
    "for value in frutas.values():\n",
    "    print(value)\n",
    "#or\n",
    "for key in frutas.keys():\n",
    "    print(frutas[key])"
   ]
  },
  {
   "cell_type": "markdown",
   "metadata": {},
   "source": [
    "### 3. items"
   ]
  },
  {
   "cell_type": "code",
   "execution_count": null,
   "metadata": {},
   "outputs": [],
   "source": [
    "for key_value in frutas.items():\n",
    "    print(key_value)\n",
    "# or\n",
    "for k,v in frutas.items():\n",
    "    print(k,v,sep=':')"
   ]
  },
  {
   "cell_type": "markdown",
   "metadata": {},
   "source": [
    "## Copiando um dicionario"
   ]
  },
  {
   "cell_type": "markdown",
   "metadata": {},
   "source": [
    "Quando você deseja copiar um dicionário não podemos atribuí-lo a uma variavel (pelo mesmo motivo que não podemos copiar uma lista! Lembra o porquê?)"
   ]
  },
  {
   "cell_type": "code",
   "execution_count": null,
   "metadata": {},
   "outputs": [],
   "source": [
    "# \"\"\"copia\"\"\" do dicionario\n",
    "copia_frutas = frutas"
   ]
  },
  {
   "cell_type": "code",
   "execution_count": null,
   "metadata": {},
   "outputs": [],
   "source": [
    "# caso façamos alguma alteracao em qualquer dict, \n",
    "frutas['chave_original']='somente no dict original'\n",
    "# o outro tambem sofre a mesma alteração\n",
    "copia_frutas.get('chave_original')"
   ]
  },
  {
   "cell_type": "markdown",
   "metadata": {},
   "source": [
    "pois não houve cópia, e sim duas variáveis referenciando o mesmo dicionário na memória.<br> Deve utilizar o método `copy`:"
   ]
  },
  {
   "cell_type": "code",
   "execution_count": null,
   "metadata": {},
   "outputs": [],
   "source": [
    "copia_frutas = frutas.copy()"
   ]
  },
  {
   "attachments": {},
   "cell_type": "markdown",
   "metadata": {},
   "source": [
    "# Exercícios"
   ]
  },
  {
   "attachments": {},
   "cell_type": "markdown",
   "metadata": {},
   "source": [
    "**Exercício 1:**\n",
    "\n",
    "Escreva um programa que leia uma frase do usuário e conte quantas vezes cada palavra aparece. Armazene os resultados em um dicionário onde as keys são as palavras e os values são as contagens da palavra."
   ]
  },
  {
   "cell_type": "code",
   "execution_count": 14,
   "metadata": {},
   "outputs": [
    {
     "name": "stdout",
     "output_type": "stream",
     "text": [
      "{'O': 1, 'rato': 1, 'roeu': 1, 'a': 1, 'roupa': 1, 'do': 1, 'rei': 1, 'de': 1, 'Roma': 1}\n"
     ]
    }
   ],
   "source": [
    "frase = input(\"Digite uma frase: \")\n",
    "palavras = frase.split()\n",
    "\n",
    "contagem = {}\n",
    "for palavra in palavras:\n",
    "    if palavra in contagem:\n",
    "        contagem[palavra] += 1\n",
    "    else:\n",
    "        contagem[palavra] = 1\n",
    "\n",
    "print(contagem)"
   ]
  },
  {
   "attachments": {},
   "cell_type": "markdown",
   "metadata": {},
   "source": [
    "**Exercício 2:**\n",
    "\n",
    "Crie dois dicionários abaixo e combine-os em um terceiro dicionário. Se uma chave estiver presente nos dois dicionários originais, some os valores correspondentes.\n",
    "\n",
    "``` python\n",
    "dicionario1 = {\"a\": 1, \"b\": 2, \"c\": 3}\n",
    "dicionario2 = {\"b\": 4, \"d\": 5, \"e\": 6}\n",
    "```"
   ]
  },
  {
   "cell_type": "code",
   "execution_count": 15,
   "metadata": {},
   "outputs": [
    {
     "name": "stdout",
     "output_type": "stream",
     "text": [
      "{'a': 1, 'b': 6, 'c': 3, 'd': 5, 'e': 6}\n"
     ]
    }
   ],
   "source": [
    "dicionario1 = {\"a\": 1, \"b\": 2, \"c\": 3}\n",
    "dicionario2 = {\"b\": 4, \"d\": 5, \"e\": 6}\n",
    "\n",
    "dicionario3 = dicionario1.copy()\n",
    "for chave, valor in dicionario2.items():\n",
    "    if chave in dicionario3:\n",
    "        dicionario3[chave] += valor\n",
    "    else:\n",
    "        dicionario3[chave] = valor\n",
    "\n",
    "print(dicionario3)"
   ]
  },
  {
   "attachments": {},
   "cell_type": "markdown",
   "metadata": {},
   "source": [
    "**Exercício 3:**\n",
    "\n",
    "Escreva uma função que receba uma lista como entrada e retorne um dicionário contendo a contagem de cada elemento único na lista.\n",
    "\n",
    "`lista = [1, 2, 3, 1, 2, 3, 4, 5, 6, 4, 5]`"
   ]
  },
  {
   "cell_type": "code",
   "execution_count": 16,
   "metadata": {},
   "outputs": [
    {
     "name": "stdout",
     "output_type": "stream",
     "text": [
      "{1: 2, 2: 2, 3: 2, 4: 2, 5: 2, 6: 1}\n"
     ]
    }
   ],
   "source": [
    "def contar_elementos(lista):\n",
    "    contagem = {}\n",
    "    for elemento in lista:\n",
    "        if elemento in contagem:\n",
    "            contagem[elemento] += 1\n",
    "        else:\n",
    "            contagem[elemento] = 1\n",
    "    return contagem\n",
    "\n",
    "lista = [1, 2, 3, 1, 2, 3, 4, 5, 6, 4, 5]\n",
    "resultado = contar_elementos(lista)\n",
    "print(resultado)"
   ]
  },
  {
   "attachments": {},
   "cell_type": "markdown",
   "metadata": {},
   "source": [
    "**Exercício 4:**\n",
    "\n",
    "Escreva uma função que receba um dicionário como entrada e retorne um novo dicionário no qual as chaves e os valores sejam invertidos.\n",
    "\n",
    "`dicionario = {\"a\": 1, \"b\": 2, \"c\": 3}` "
   ]
  },
  {
   "cell_type": "code",
   "execution_count": 17,
   "metadata": {},
   "outputs": [
    {
     "name": "stdout",
     "output_type": "stream",
     "text": [
      "{1: 'a', 2: 'b', 3: 'c'}\n"
     ]
    }
   ],
   "source": [
    "def inverter_dicionario(dicionario):\n",
    "    dicionario_invertido = {}\n",
    "    for chave, valor in dicionario.items():\n",
    "        dicionario_invertido[valor] = chave\n",
    "    return dicionario_invertido\n",
    "\n",
    "dicionario = {\"a\": 1, \"b\": 2, \"c\": 3}\n",
    "dicionario_invertido = inverter_dicionario(dicionario)\n",
    "print(dicionario_invertido)"
   ]
  },
  {
   "attachments": {},
   "cell_type": "markdown",
   "metadata": {},
   "source": [
    "**Exercício 5:** *\n",
    "\n",
    "Escreva uma função que receba um número romano como entrada e retorne o equivalente em número decimal. Use um dicionário para mapear os algarismos romanos para seus valores decimais.\n",
    "\n",
    "ex:  \"MMXXIII\" ---> 2023"
   ]
  },
  {
   "cell_type": "code",
   "execution_count": 19,
   "metadata": {},
   "outputs": [
    {
     "name": "stdout",
     "output_type": "stream",
     "text": [
      "2023\n"
     ]
    }
   ],
   "source": [
    "def romano_para_decimal(numero_romano):\n",
    "    mapeamento = {\"I\": 1, \"V\": 5, \"X\": 10, \"L\": 50, \"C\": 100, \"D\": 500, \"M\": 1000}\n",
    "    decimal = 0\n",
    "    for i in range(len(numero_romano)):\n",
    "        if i > 0 and mapeamento[numero_romano[i]] > mapeamento[numero_romano[i-1]]:\n",
    "            decimal += mapeamento[numero_romano[i]] - 2 * mapeamento[numero_romano[i-1]]\n",
    "        else:\n",
    "            decimal += mapeamento[numero_romano[i]]\n",
    "    return decimal\n",
    "\n",
    "numero_romano = \"MMXXIII\"\n",
    "decimal = romano_para_decimal(numero_romano)\n",
    "print(decimal)"
   ]
  },
  {
   "attachments": {},
   "cell_type": "markdown",
   "metadata": {},
   "source": [
    "**Exercício 6:**\n",
    "\n",
    "Escreva um programa que conte quantas vezes cada caractere aparece em uma string. Armazene os resultados em um dicionário onde as chaves são os caracteres e os valores são as contagens."
   ]
  },
  {
   "cell_type": "code",
   "execution_count": 20,
   "metadata": {},
   "outputs": [
    {
     "name": "stdout",
     "output_type": "stream",
     "text": [
      "{'p': 1, 'y': 1, 't': 1, 'h': 1, 'o': 1, 'n': 1}\n"
     ]
    }
   ],
   "source": [
    "def contar_caracteres(string):\n",
    "    contagem = {}\n",
    "    for caractere in string:\n",
    "        if caractere in contagem:\n",
    "            contagem[caractere] += 1\n",
    "        else:\n",
    "            contagem[caractere] = 1\n",
    "    return contagem\n",
    "\n",
    "texto = \"python\"\n",
    "resultado = contar_caracteres(texto)\n",
    "print(resultado)"
   ]
  },
  {
   "attachments": {},
   "cell_type": "markdown",
   "metadata": {},
   "source": [
    "**Exemplo 7:** *\n",
    "\n",
    "Dado um exemplo de dicionário abaixo, crie uma função que realiza o login de um usuário, no qual as keys é o login e os values é a senha. O programa deve pedir o login de usuario e a senha, se estiver correto, retornar `True` e a mensagem de êxito do login, se não `False` e a mensagem de falha do login, indicando que não foi possível realizar o login. Além disso, se o usuário não existir, também retorna `False` e uma mensagem de que 'Senha incorreta ou usuario inexistente' (mas saberemos que isto significa que o usuário não existe rsrs).\n",
    "\n",
    "``` python\n",
    "{\n",
    "    \"usuario1\": \"senha123\",\n",
    "    \"usuario2\": \"abc456\",\n",
    "    \"usuario3\": \"senhaforte\",\n",
    "    \"john_doe\": \"d0e_p@ssw0rd\",\n",
    "    \"alice\": \"al1ceP@ss\"\n",
    "}\n",
    "```"
   ]
  },
  {
   "cell_type": "code",
   "execution_count": 28,
   "metadata": {},
   "outputs": [],
   "source": [
    "user_senha = {\n",
    "    \"usuario1\": \"senha123\",\n",
    "    \"usuario2\": \"abc456\",\n",
    "    \"usuario3\": \"senhaforte\",\n",
    "    \"joao_doe\": \"d0e_p@ssw0rd\",\n",
    "    \"alice\": \"al1ceP@ss\"\n",
    "}\n",
    "\n",
    "#criar funcao que deterina se o login foi feito ou não\n",
    "def fazer_login():\n",
    "    # pedir o login\n",
    "    login = input('Digite seu login:\\n')\n",
    "    # pedir a senha\n",
    "    senha_digitada = input('Digite sua senha (não se preocupe, a informação não será salva):\\n')\n",
    "    # obter senha do login\n",
    "    senha = user_senha.get(login)\n",
    "    \n",
    "    if senha is None:   # se o usuario não está cadastrado\n",
    "        print('Senha incorreta ou USUARIO inexistente!')\n",
    "        return False\n",
    "    else:               # se o usuario existe\n",
    "        if senha != senha_digitada:     # se a senha não corresponde\n",
    "            print('SENHA incorreta ou usuario ineixstente!')\n",
    "            return False\n",
    "        else:\n",
    "            print('Login realizado com sucesso :)')\n",
    "            return True\n",
    "\n",
    "fazer_login()"
   ]
  }
 ],
 "metadata": {
  "kernelspec": {
   "display_name": "Python 3 (ipykernel)",
   "language": "python",
   "name": "python3"
  },
  "language_info": {
   "codemirror_mode": {
    "name": "ipython",
    "version": 3
   },
   "file_extension": ".py",
   "mimetype": "text/x-python",
   "name": "python",
   "nbconvert_exporter": "python",
   "pygments_lexer": "ipython3",
   "version": "3.10.9"
  },
  "vscode": {
   "interpreter": {
    "hash": "a4e87b69e3c337c38d8515a97bf0af28745e48a010ebcda936e79a3b31d0811d"
   }
  }
 },
 "nbformat": 4,
 "nbformat_minor": 2
}
