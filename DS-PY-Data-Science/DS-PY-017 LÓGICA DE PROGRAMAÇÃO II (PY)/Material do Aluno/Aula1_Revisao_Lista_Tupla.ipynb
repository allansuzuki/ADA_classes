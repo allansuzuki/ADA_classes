{
  "cells": [
    {
      "attachments": {},
      "cell_type": "markdown",
      "metadata": {
        "id": "Fo2Uua5HlP5c"
      },
      "source": [
        "# Revisão: Listas e tuplas\n",
        "\n",
        "* Breve introdução ao Python e à importância das estruturas de dados.\n",
        "* Explicação do conceito de listas e tuplas como estruturas de dados fundamentais."
      ]
    },
    {
      "cell_type": "code",
      "execution_count": null,
      "metadata": {
        "id": "XbBooeyzcF8H"
      },
      "outputs": [],
      "source": [
        "# criar uma lista\n",
        "my_list = [1,3.14,True,'laranja']"
      ]
    },
    {
      "cell_type": "code",
      "execution_count": null,
      "metadata": {
        "id": "PNaSrizIlPXB"
      },
      "outputs": [],
      "source": [
        "# criar uma tupla\n",
        "my_tuple = (1,3.14,True,'laranja')"
      ]
    },
    {
      "cell_type": "code",
      "execution_count": null,
      "metadata": {
        "id": "Hoc9AUGrcHvh"
      },
      "outputs": [],
      "source": [
        "# criar um dicionario\n",
        "my_dict = {'Nome':'João','CPF':'114.247.579-89'}"
      ]
    },
    {
      "attachments": {},
      "cell_type": "markdown",
      "metadata": {
        "id": "9so8p_b8lUOi"
      },
      "source": [
        "## Listas\n",
        "\n",
        "Nesta seção vamos ver:\n",
        "- Definição de listas em Python.\n",
        "- Exemplos de listas.\n",
        "- Operações básicas em listas: adição, remoção, alteração de elementos.\n",
        "- Acesso a elementos individuais em uma lista.\n",
        "- Apresentação da função len() para obter o comprimento de uma lista."
      ]
    },
    {
      "cell_type": "code",
      "execution_count": null,
      "metadata": {
        "id": "Xo1Muw16lZOi"
      },
      "outputs": [],
      "source": [
        "#Criando uma lista vazia\n",
        "lista_v1 = []\n",
        "lista_v2 = list()"
      ]
    },
    {
      "cell_type": "code",
      "execution_count": null,
      "metadata": {},
      "outputs": [],
      "source": [
        "# criando Listas com números\n",
        "lista_num = [1,2,3,4,5,6]\n",
        "#Listas com strings\n",
        "lista_str = ['maçã', 'banana', 'laranja', 'morango']\n",
        "# Lista com tipos variados\n",
        "lista_tudo = [2,3.14, True, 'Banana', [1, 2], (2, 5), my_dict]"
      ]
    },
    {
      "cell_type": "code",
      "execution_count": null,
      "metadata": {
        "colab": {
          "base_uri": "https://localhost:8080/"
        },
        "id": "Rusk7oE5dqye",
        "outputId": "bcfd03bc-2174-4682-dafb-e1d5a95c3c31"
      },
      "outputs": [],
      "source": [
        "# exibir a lista\n",
        "lista_tudo"
      ]
    },
    {
      "cell_type": "code",
      "execution_count": null,
      "metadata": {
        "id": "LoQ52hlbdOzo"
      },
      "outputs": [],
      "source": [
        "# append: Adicionar elementos\n",
        "lista_tudo.append(25)"
      ]
    },
    {
      "cell_type": "code",
      "execution_count": null,
      "metadata": {
        "id": "USmuPB6adTA3"
      },
      "outputs": [],
      "source": [
        "#pop e remove: Remover elementos \n",
        "lista_tudo.pop() #Remove o último elemento da lista e retorna este elemento\n",
        "lista_tudo.remove('Banana') # Remove o último elemento 'Banana' da lista"
      ]
    },
    {
      "cell_type": "markdown",
      "metadata": {},
      "source": [
        "Podemos acessar elementos de uma lista utilizando o slicing `[indice]` e dizendo qual indice queremos. O índice inicia em 0, em seguia 1, 2, ...\n",
        "<br>Também é possível acessar de trás pra frente, iniciando em -1, em seguida -2, -3, ..."
      ]
    },
    {
      "cell_type": "code",
      "execution_count": null,
      "metadata": {
        "colab": {
          "base_uri": "https://localhost:8080/",
          "height": 35
        },
        "id": "tir6eFQRdso4",
        "outputId": "299b5932-4017-4a25-9220-0bc6ed13fc9d"
      },
      "outputs": [],
      "source": [
        "# Pegar o ultimo elemento da lista  (indice negativo)\n",
        "lista_tudo[-1]['Nome']"
      ]
    },
    {
      "cell_type": "code",
      "execution_count": null,
      "metadata": {
        "id": "8_CryX4jdhpQ"
      },
      "outputs": [],
      "source": [
        "# Modificar elemento de uma lista\n",
        "lista_tudo[0] = 235"
      ]
    },
    {
      "cell_type": "code",
      "execution_count": null,
      "metadata": {
        "colab": {
          "base_uri": "https://localhost:8080/"
        },
        "id": "p5rhCKdMdyJn",
        "outputId": "a6d5a60a-a62a-4792-baea-78ba81366a42"
      },
      "outputs": [],
      "source": [
        "# obter tamanho da lista\n",
        "print(lista_tudo)\n",
        "len(lista_tudo)"
      ]
    },
    {
      "attachments": {},
      "cell_type": "markdown",
      "metadata": {
        "id": "3i5oNFAelZvp"
      },
      "source": [
        "## Slicing\n",
        "\n",
        "Nesta seção vamos ver:\n",
        "- Explicação do conceito de slicing em Python.\n",
        "- Demonstrações de slicing de uma lista usando índices.\n",
        "- Exemplos de uso do slicing para acessar partes específicas de uma lista.\n",
        "- Discussão sobre os índices negativos e seu significado em relação ao slicing."
      ]
    },
    {
      "attachments": {},
      "cell_type": "markdown",
      "metadata": {
        "id": "B-5YqmEHeJs8"
      },
      "source": [
        "`sequencia[start:end:step]`\n",
        "- `start`: inicio\n",
        "- `end`: fim (não inclusivo)\n",
        "- `step`: passo (incremento)\n",
        "\n",
        "Obs: se `start` e/ou `end` não tiver valor, extende-se até o início/fim da lista, respectivamente."
      ]
    },
    {
      "cell_type": "code",
      "execution_count": null,
      "metadata": {
        "colab": {
          "base_uri": "https://localhost:8080/"
        },
        "id": "BbZYo5Y-lfoD",
        "outputId": "99c6209a-ab32-43ae-bb10-8c62b997de9b"
      },
      "outputs": [],
      "source": [
        "# slicing de uma lista\n",
        "frutas = ['maçã', 'banana', 'laranja', 'morango', 'abacaxi']\n",
        "print(frutas[1:4])"
      ]
    },
    {
      "cell_type": "code",
      "execution_count": null,
      "metadata": {
        "colab": {
          "base_uri": "https://localhost:8080/"
        },
        "id": "PZhcc3RVegVX",
        "outputId": "28c71994-1e55-4994-82cc-3b6f3a76b2ff"
      },
      "outputs": [],
      "source": [
        "# slicing com step\n",
        "numeros = [0, 1, 2, 3, 4, 5, 6, 7, 8, 9]\n",
        "print(numeros[2:8:2])"
      ]
    },
    {
      "cell_type": "code",
      "execution_count": null,
      "metadata": {
        "colab": {
          "base_uri": "https://localhost:8080/"
        },
        "id": "HWdEpR33ej7u",
        "outputId": "49f60590-a2f9-49ea-8618-dc9cd40dbe7c"
      },
      "outputs": [],
      "source": [
        "# slicing de string (sem definir start/end)\n",
        "nome = 'Python'\n",
        "print(nome[:3])\n",
        "print(nome[3:])"
      ]
    },
    {
      "cell_type": "code",
      "execution_count": null,
      "metadata": {
        "colab": {
          "base_uri": "https://localhost:8080/"
        },
        "id": "A2m96fz3e3oH",
        "outputId": "c293d608-df48-47b9-8360-760d10e7727d"
      },
      "outputs": [],
      "source": [
        "# slicing com indices negativos\n",
        "print(frutas[-1])\n",
        "print(frutas[-2])"
      ]
    },
    {
      "cell_type": "code",
      "execution_count": null,
      "metadata": {
        "colab": {
          "base_uri": "https://localhost:8080/"
        },
        "id": "wOFfEjukeo12",
        "outputId": "672f620f-28f6-495c-b69e-1f3c34dceb33"
      },
      "outputs": [],
      "source": [
        "# indices negativos em string (sem definir start/end)\n",
        "nome = 'Python'\n",
        "print(nome[-3:])"
      ]
    },
    {
      "cell_type": "code",
      "execution_count": null,
      "metadata": {
        "colab": {
          "base_uri": "https://localhost:8080/"
        },
        "id": "aP3KfdTbe9d5",
        "outputId": "1c246690-9839-4cc0-b888-360842392ef7"
      },
      "outputs": [],
      "source": [
        "# step negativo: inverter lista\n",
        "frutas = ['maçã', 'banana', 'laranja', 'morango', 'abacaxi']\n",
        "print(frutas[::-1])"
      ]
    },
    {
      "cell_type": "markdown",
      "metadata": {},
      "source": [
        "A lista é muito útil pela facilidade de criação, alteração, remoção e inserção de itens. Além disso, ele aceita múltiplos tipos de variáveis, o que torna sua utilização versátil."
      ]
    },
    {
      "attachments": {},
      "cell_type": "markdown",
      "metadata": {
        "id": "Q9pfjenLlgYp"
      },
      "source": [
        "## Tuplas\n",
        "\n",
        "* Definição de tuplas em Python.\n",
        "* Diferenças entre listas e tuplas.\n",
        "* Criação de tuplas e acesso a elementos.\n",
        "* Imutabilidade das tuplas e suas vantagens."
      ]
    },
    {
      "cell_type": "markdown",
      "metadata": {},
      "source": [
        "As tuplas funcionam exatamente da mesma forma que as listas. Com exceção de uma única habilidade: **Imutabilidade** (não é possível ser alterada). Isto que define sua utilidade em relação as listas."
      ]
    },
    {
      "cell_type": "code",
      "execution_count": null,
      "metadata": {
        "id": "fqUpKJ-all-L"
      },
      "outputs": [],
      "source": [
        "#Usando parênteses\n",
        "tupla1 = (1, 2, 3)"
      ]
    },
    {
      "cell_type": "code",
      "execution_count": null,
      "metadata": {
        "id": "qxlblxSifgim"
      },
      "outputs": [],
      "source": [
        "#Usando vírgulas (sem parênteses)\n",
        "tupla2 = 4,5,6"
      ]
    },
    {
      "cell_type": "code",
      "execution_count": null,
      "metadata": {
        "id": "WwN3zfN7fkKQ"
      },
      "outputs": [],
      "source": [
        "#Usando a função tuple() para converter uma lista em uma tupla:\n",
        "lista = [7,8,9]\n",
        "tupla3 = tuple(lista)"
      ]
    },
    {
      "attachments": {},
      "cell_type": "markdown",
      "metadata": {
        "id": "2Y-Z9I1HVvFV"
      },
      "source": [
        "Como posso alterar uma tupla?"
      ]
    },
    {
      "cell_type": "code",
      "execution_count": null,
      "metadata": {},
      "outputs": [],
      "source": [
        "# acessar elemento\n",
        "tupla1[0]\n",
        "# alterar elemento\n",
        "tupla1[0] = 99"
      ]
    },
    {
      "cell_type": "markdown",
      "metadata": {},
      "source": [
        "Não tem como?"
      ]
    },
    {
      "cell_type": "code",
      "execution_count": null,
      "metadata": {
        "colab": {
          "base_uri": "https://localhost:8080/"
        },
        "id": "8x0J14LgVylM",
        "outputId": "09845396-8adc-4c14-e40e-d3492859e5dc"
      },
      "outputs": [],
      "source": [
        "#SIM! Transformar em uma lista\n",
        "lista_2 = list(tupla3)\n",
        "lista_2[0] = 10\n",
        "tupla3 = tuple(lista_2)\n",
        "tupla3"
      ]
    },
    {
      "cell_type": "code",
      "execution_count": null,
      "metadata": {
        "id": "phkyYCm9fuUl"
      },
      "outputs": [],
      "source": [
        "# acessar utilizando indices negativos\n",
        "print(tupla[-1])\n",
        "print(tupla[-3])"
      ]
    },
    {
      "cell_type": "code",
      "execution_count": null,
      "metadata": {
        "colab": {
          "base_uri": "https://localhost:8080/"
        },
        "id": "EIDo4Kzuf1XA",
        "outputId": "2047871a-8ece-42eb-ab9f-8c6194ade8b7"
      },
      "outputs": [],
      "source": [
        "# utilizar slicing (com e sem step)\n",
        "nova_tupla = tupla[1:4]\n",
        "print(nova_tupla)"
      ]
    },
    {
      "cell_type": "markdown",
      "metadata": {},
      "source": [
        "As tuplas são muito parecidas com as listas, com exceção da imutabilidadde. Esta habilidade é proposital, e geralmente utilizada quando não queremos que algo seja alterada por acidente. E se alguém realmente deseja alterar uma tupla, a pessoa terá que realizar manipulações intencionais. Isso garante total controle dos dados na tupla."
      ]
    },
    {
      "attachments": {},
      "cell_type": "markdown",
      "metadata": {
        "id": "Ykks9Lmulml1"
      },
      "source": [
        "## Desempacotamento de Tuplas\n",
        "\n",
        "- O que é desempacotamento de tuplas?\n",
        "- Como desempacotar valores em variáveis individuais?\n",
        "- Exemplo prático"
      ]
    },
    {
      "cell_type": "code",
      "execution_count": null,
      "metadata": {
        "colab": {
          "base_uri": "https://localhost:8080/"
        },
        "id": "BvrcOGPglr6b",
        "outputId": "d97f94ed-e67f-4fe0-f79a-12489dc441c6"
      },
      "outputs": [],
      "source": [
        "# criando tuple\n",
        "tupla = ('João', 'Silva', 25)\n",
        "\n",
        "# desempacotando tuple (atribuir uma variavel pra cada)\n",
        "nome, sobrenome, idade = tupla\n",
        "\n",
        "# exibir resultado\n",
        "print(nome)\n",
        "print(sobrenome)\n",
        "print(idade)"
      ]
    },
    {
      "attachments": {},
      "cell_type": "markdown",
      "metadata": {
        "id": "47L2A6BZgcRI"
      },
      "source": [
        "Além disso, podemos usar um único caractere \"descartável\" (geralmente um sublinhado _) para ignorar elementos da tupla que não são necessários no desempacotamento:"
      ]
    },
    {
      "cell_type": "code",
      "execution_count": 15,
      "metadata": {
        "colab": {
          "base_uri": "https://localhost:8080/"
        },
        "id": "x60n3Bn4gdDH",
        "outputId": "a9642c27-771e-4316-b4ce-7dbe1ab17e9b"
      },
      "outputs": [
        {
          "name": "stdout",
          "output_type": "stream",
          "text": [
            "João\n",
            "Silva\n",
            "Brasileiro\n"
          ]
        }
      ],
      "source": [
        "tupla = ('João', 'Silva', 25, 'Brasileiro')\n",
        "\n",
        "# desempacotando tupla, descartando o item 3o item\n",
        "nome, sobrenome, _, nacionalidade = tupla\n",
        "\n",
        "print(nome)\n",
        "print(sobrenome)\n",
        "print(nacionalidade)"
      ]
    },
    {
      "attachments": {},
      "cell_type": "markdown",
      "metadata": {
        "id": "Ww7QKILKgiqk"
      },
      "source": [
        "No exemplo acima, estamos desempacotando a tupla e ignorando o terceiro elemento usando o caractere _.\n",
        "\n",
        "O desempacotamento de tuplas é uma técnica útil quando queremos atribuir os elementos de uma tupla a variáveis individuais de forma rápida e direta. É especialmente útil quando temos funções que retornam múltiplos valores em uma tupla e queremos extrair esses valores para uso posterior no programa."
      ]
    },
    {
      "attachments": {},
      "cell_type": "markdown",
      "metadata": {
        "id": "YN3AWKduiWSy"
      },
      "source": [
        "Podemos usar o desempacotamento de tuplas em várias situações. Por exemplo, quando uma função retorna múltiplos valores em uma tupla, podemos desempacotá-los diretamente em variáveis separadas."
      ]
    },
    {
      "cell_type": "code",
      "execution_count": null,
      "metadata": {
        "colab": {
          "base_uri": "https://localhost:8080/"
        },
        "id": "W-TRLfLuiXLi",
        "outputId": "fc7ff897-ed45-4503-c3e6-40ec73ad8448"
      },
      "outputs": [],
      "source": [
        "def obter_coordenadas():\n",
        "    x = 10\n",
        "    y = 20\n",
        "    return x, y\n",
        "\n",
        "coordenada_x, coordenada_y = obter_coordenadas()\n",
        "print(coordenada_x)\n",
        "print(coordenada_y)"
      ]
    },
    {
      "attachments": {},
      "cell_type": "markdown",
      "metadata": {
        "id": "7UyMg-5NidEm"
      },
      "source": [
        "Além disso, podemos usar um asterisco/estrela (*) antes de uma variável para coletar elementos adicionais em uma tupla. Essa técnica é chamada de desempacotamento estendido. Aqui está um exemplo:"
      ]
    },
    {
      "cell_type": "code",
      "execution_count": null,
      "metadata": {
        "colab": {
          "base_uri": "https://localhost:8080/"
        },
        "id": "37OPFFooial8",
        "outputId": "86bacdb3-041c-43ae-b4d3-2d1831f1faec"
      },
      "outputs": [],
      "source": [
        "tupla = ('primeiro', 'segundo', 'terceiro', 'quarto', 'quinto')\n",
        "# utilizar asterisco para receber multiplos elementos\n",
        "item1, item2, *restante = tupla\n",
        "print(item1)\n",
        "print(item2)\n",
        "print(restante)"
      ]
    },
    {
      "attachments": {},
      "cell_type": "markdown",
      "metadata": {
        "id": "FP-dciY7ijla"
      },
      "source": [
        "Nesse exemplo, os dois primeiros elementos da tupla são atribuídos às variáveis primeiro e segundo, enquanto os elementos restantes são coletados na variável restante como uma lista.\n",
        "\n",
        "O desempacotamento de tuplas é uma técnica poderosa em Python, pois permite extrair facilmente os elementos de uma tupla e atribuí-los a variáveis individuais. Isso torna o código mais legível e facilita o trabalho com funções que retornam múltiplos valores."
      ]
    },
    {
      "attachments": {},
      "cell_type": "markdown",
      "metadata": {
        "id": "00ScRSXgltC6"
      },
      "source": [
        "## Função zip\n",
        "\n",
        "* Introdução à função zip e sua utilidade.\n",
        "* Uso da função zip para combinar duas ou mais listas.\n",
        "* Exemplos de aplicação da função zip em iterações."
      ]
    },
    {
      "attachments": {},
      "cell_type": "markdown",
      "metadata": {
        "id": "341w1XDAiqm_"
      },
      "source": [
        "A função `zip` em Python é uma função embutida que combina elementos de duas ou mais sequências de mesmo tamanho (como listas, tuplas ou strings) em uma série de tuplas, contendo a 1a tupla os elementos na 1a posição, a 2a tupla com os os elementos na 2a posição, e assim por diante... Ela retorna um objeto iterável que produz uma tupla contendo os elementos correspondentes das sequências de entrada.\n",
        "\n",
        "A sintaxe básica da função `zip` é a seguinte:\n",
        "\n",
        "`zip(iteravel1,iteravel2,...)`\n"
      ]
    },
    {
      "cell_type": "code",
      "execution_count": null,
      "metadata": {
        "id": "ptlwJ-tHlxzJ"
      },
      "outputs": [],
      "source": [
        "#Exemplo 1: Combinação de duas listas:\n",
        "nomes = ['Alice', 'Bob', 'Charlie']\n",
        "idades = [25, 30, 35]\n",
        "\n",
        "lista_combinada = zip(nomes, idades)"
      ]
    },
    {
      "cell_type": "code",
      "execution_count": null,
      "metadata": {
        "colab": {
          "base_uri": "https://localhost:8080/"
        },
        "id": "bUS9qe_Yk5D_",
        "outputId": "fc971f6c-afda-4398-e235-bb3222ae72b2"
      },
      "outputs": [],
      "source": [
        "#Exemplo 2: iterar sobre o zip:\n",
        "nomes = ['Alice', 'Bob', 'Charlie']\n",
        "idades = [25, 30, 35]\n",
        "\n",
        "for nome, idade in zip(nomes, idades):\n",
        "    print(nome, idade)"
      ]
    },
    {
      "cell_type": "code",
      "execution_count": null,
      "metadata": {
        "id": "ilNDr9jIOfAe"
      },
      "outputs": [],
      "source": [
        "#Exemplo 3: Criação de um dicionário a partir de duas listas:\n",
        "chaves = ['a', 'b', 'c']\n",
        "valores = [1, 2, 3]\n",
        "\n",
        "dicionario = dict(zip(chaves, valores))"
      ]
    },
    {
      "cell_type": "code",
      "execution_count": null,
      "metadata": {
        "colab": {
          "base_uri": "https://localhost:8080/"
        },
        "id": "dkdjJuxoPF7x",
        "outputId": "24cbbd55-b871-4f89-c883-a6bbd126d18a"
      },
      "outputs": [],
      "source": [
        "# mostrar dicio\n",
        "dicionario"
      ]
    },
    {
      "cell_type": "markdown",
      "metadata": {},
      "source": [
        "## Copiando uma lista"
      ]
    },
    {
      "cell_type": "markdown",
      "metadata": {},
      "source": [
        "Quando você deseja copiar um dicionário não podemos atribuí-lo a uma variavel..."
      ]
    },
    {
      "cell_type": "code",
      "execution_count": null,
      "metadata": {},
      "outputs": [],
      "source": [
        "# \"\"\"copia\"\"\" do dicionario\n",
        "copia_nomes = nomes"
      ]
    },
    {
      "cell_type": "code",
      "execution_count": null,
      "metadata": {},
      "outputs": [],
      "source": [
        "# caso façamos alguma alteracao em qualquer dict, \n",
        "nomes.append('nome_adicionado')\n",
        "# o outro tambem sofre a mesma alteração\n",
        "print(copia_nomes)"
      ]
    },
    {
      "cell_type": "markdown",
      "metadata": {},
      "source": [
        "pois não houve cópia, e sim duas variáveis referenciando o mesmo dicionário na memória.<br> Deve utilizar o método `copy`:"
      ]
    },
    {
      "cell_type": "code",
      "execution_count": null,
      "metadata": {},
      "outputs": [],
      "source": [
        "copia_nomes = nomes.copy()"
      ]
    },
    {
      "attachments": {},
      "cell_type": "markdown",
      "metadata": {
        "id": "bKWpn8nyQ7ZG"
      },
      "source": [
        "# Exercícios"
      ]
    },
    {
      "cell_type": "markdown",
      "metadata": {},
      "source": [
        "[DESAFIO] Crie uma lista de numero de 1 a 10. Remova todos os números ímpares e os adicione em outra lista chamada `impares`. Agora com as duas listas resultantes, como você faria para obter a lista original transformada em tupla?"
      ]
    },
    {
      "cell_type": "code",
      "execution_count": null,
      "metadata": {},
      "outputs": [],
      "source": [
        "# criar a lista\n",
        "lista = list(range(1,11))\n",
        "\n",
        "# criar a lista que obtem os impares\n",
        "impares = list()\n",
        "\n",
        "# itera sobre todos os itens\n",
        "for i,item in enumerate(lista):\n",
        "    # adiciona somente os itens impares na lista impares e remove da lista original\n",
        "    if item%2!=0: impares.append(lista.pop(i)) #add item in impares\n",
        "\n",
        "final = list(zip(lista,impares))"
      ]
    },
    {
      "attachments": {},
      "cell_type": "markdown",
      "metadata": {
        "id": "LJQF2s1eQ9t8"
      },
      "source": [
        "Exercício 1: \n",
        "\n",
        "Crie uma string chamada frase contendo uma frase de sua escolha. Use slicing para extrair apenas as três últimas palavras da frase e imprima o resultado (utilize o método `split`)."
      ]
    },
    {
      "cell_type": "code",
      "execution_count": null,
      "metadata": {
        "id": "srVHFIxzR-Ej"
      },
      "outputs": [],
      "source": [
        "frase = 'O rato roeu a roupa do rei de roma!'\n",
        "palavras = frase.split()\n",
        "palavras[-3:]"
      ]
    },
    {
      "attachments": {},
      "cell_type": "markdown",
      "metadata": {
        "id": "6uRrUQw7Q_0d"
      },
      "source": [
        "Exercício 2:\n",
        "\n",
        "Crie uma tupla chamada dados contendo informações de um usuário, como nome, idade e email. Desempacote os elementos da tupla em quatro variáveis chamadas nome, idade ,email e info_diversas e imprima cada uma delas."
      ]
    },
    {
      "cell_type": "code",
      "execution_count": null,
      "metadata": {
        "id": "ortoX6HNRD90"
      },
      "outputs": [],
      "source": [
        "dados = 'João', 23, 'joão.123@hotmail.com', 2, 'Rua de cima, 109', '9 9887-7665'\n",
        "nome, idade, email, info_diversas = dados\n",
        "print(nome)\n",
        "print(idade)\n",
        "print(email)\n",
        "print(info_diversas)"
      ]
    },
    {
      "attachments": {},
      "cell_type": "markdown",
      "metadata": {
        "id": "9Yw6TBNiRDY2"
      },
      "source": [
        "Exercício 3:\n",
        "\n",
        "Crie duas listas chamadas nomes e idades, contendo nomes e idades de pessoas. A lista idades possui um elemento a menos do que a lista nomes. Use a função zip() para combinar as duas listas em uma série de tuplas e imprima cada tupla resultante."
      ]
    },
    {
      "cell_type": "code",
      "execution_count": null,
      "metadata": {
        "id": "8s4tDyHyPHmj"
      },
      "outputs": [],
      "source": [
        "nomes = ['João','Maria','José','Ricardo']\n",
        "idades = [25,23,22]\n",
        "\n",
        "for nome,idade in zip(nomes,idades):\n",
        "    print(nome,idade)"
      ]
    },
    {
      "attachments": {},
      "cell_type": "markdown",
      "metadata": {
        "id": "ADRj616MRIP9"
      },
      "source": [
        "Exercício 4:\n",
        "\n",
        "Crie uma lista chamada produtos contendo tuplas que representam produtos e seus preços. Crie uma tuple com a funcao `zip` contendo o par nome do produto e preço em cada item. Acesse e imprima o segundo item da tupla gerada."
      ]
    },
    {
      "cell_type": "code",
      "execution_count": null,
      "metadata": {
        "id": "OIck0CgjRIhM"
      },
      "outputs": [],
      "source": [
        "produto = ['Banana','Abacaxi']\n",
        "preco = [2,5]\n",
        "produtos = list(zip(produto,preco))\n",
        "produtos[1][0]"
      ]
    },
    {
      "attachments": {},
      "cell_type": "markdown",
      "metadata": {
        "id": "maMfr_OARkYs"
      },
      "source": [
        "Exercício 5:\n",
        "\n",
        "Utilize a funcao criada para returnar as coordenadas x, y e z de um ponto em um espaço tridimensional. Desempacote a tupla em duas variáveis chamadas coord_x e coord_y e descarte o valor da coordenada z. Imprima apenas as coordenadas x e y."
      ]
    },
    {
      "cell_type": "code",
      "execution_count": null,
      "metadata": {
        "id": "q55-tfj7R0_5"
      },
      "outputs": [],
      "source": [
        "def obter_coordenadas():\n",
        "    x = 10\n",
        "    y = 20\n",
        "    z = 30\n",
        "    return x, y, z\n",
        "\n",
        "coordenada_x, coordenada_y, _ = obter_coordenadas()\n",
        "print(coordenada_x)\n",
        "print(coordenada_y)"
      ]
    },
    {
      "attachments": {},
      "cell_type": "markdown",
      "metadata": {
        "id": "kwqdYf7qVFiz"
      },
      "source": [
        "Exercício 6*:\n",
        "\n",
        "Escreva uma função em Python para encontrar todos os pares em uma lista cuja soma seja igual a um determinado valor.\n",
        "\n",
        "Exemplo:\n",
        "\n",
        "* Lista original = [1,2,3,4,5,6,7,8,9,10]\n",
        "* Resposta esperada = [(6,4),(7,3),(8,2),(9,1)]"
      ]
    },
    {
      "cell_type": "code",
      "execution_count": null,
      "metadata": {
        "id": "L3R5VSSdVcsC"
      },
      "outputs": [],
      "source": [
        "lista_original = [1,2,3,4,5,6,7,8,9,10]\n",
        "resposta = []\n",
        "numero = 10\n",
        "\n",
        "for num in lista_original:\n",
        "    for i in lista_original:\n",
        "        if (num + i == numero) and (num > i):\n",
        "            tupla= (num,i)\n",
        "            resposta.append(tupla)\n",
        "print(resposta)"
      ]
    },
    {
      "attachments": {},
      "cell_type": "markdown",
      "metadata": {
        "id": "lFlqOfLXVdrO"
      },
      "source": [
        "Exercício 7*:\n",
        "\n",
        "Escreva um programa em Python para calcular o valor médio de todos os n-esimos elementos de cada tuple dentro tupla original. Obs: n indica a posição dos elementos dentro das tuplas.\n",
        "\n",
        "Por exemplo: a primeira média calculada é a media de todos os elementos na 1a posição de cada tupla."
      ]
    },
    {
      "cell_type": "code",
      "execution_count": null,
      "metadata": {
        "id": "29iKDDvYWmma"
      },
      "outputs": [],
      "source": [
        "tupla = ((10, 10, 10, 12), (30, 45, 56, 45), (81, 80, 39, 32), (1, 2, 3, 4))\n",
        "s1,s2,s3,s4 = 0,0,0,0\n",
        "for sub_tupla in tupla:\n",
        "    s1+=sub_tupla[0]\n",
        "    s2+=sub_tupla[1]\n",
        "    s3+=sub_tupla[2]\n",
        "    s4+=sub_tupla[3]\n",
        "    resultado = [s1/4,s2/4,s3/4,s4/4]\n",
        "print(resultado)"
      ]
    },
    {
      "attachments": {},
      "cell_type": "markdown",
      "metadata": {
        "id": "-adRVIvCWnVt"
      },
      "source": [
        "Exercício 8:\n",
        "\n",
        "Escreva um programa Python para converter uma dada tupla de inteiros positivos em um inteiro.\n",
        "\n",
        "Exemplo:\n",
        "\n",
        "* Tupla original: (10,30,45,71,6)\n",
        "* Saída: 103045716"
      ]
    },
    {
      "cell_type": "code",
      "execution_count": null,
      "metadata": {
        "id": "bdgI33zXWy-L"
      },
      "outputs": [],
      "source": [
        "tupla = (10,30,45,71,6)\n",
        "resposta = ''\n",
        "for num in tupla:\n",
        "    resposta+=str(num)\n",
        "resposta = int(resposta)\n",
        "print(resposta)"
      ]
    },
    {
      "attachments": {},
      "cell_type": "markdown",
      "metadata": {
        "id": "QcxfT1cVWzyE"
      },
      "source": [
        "Exercício 9:\n",
        "\n",
        "Escreva um programa Python para calcular a soma de todos os elementos de cada tupla armazenada em uma lista de tuplas.\n",
        "\n",
        "Exemplo:\n",
        "\n",
        "* Lista original de tuplas: [(1,3),(3,5),(5,7)]\n",
        "* Saída esperada: [4,8,12]"
      ]
    },
    {
      "cell_type": "code",
      "execution_count": null,
      "metadata": {
        "id": "OngjKh8DXIau"
      },
      "outputs": [],
      "source": [
        "lista = [(1,3), (3,5), (5,7)]\n",
        "\n",
        "somas = []\n",
        "for tupla in lista:\n",
        "    soma = sum(tupla)\n",
        "    somas.append(soma)\n",
        "\n",
        "print(somas)"
      ]
    }
  ],
  "metadata": {
    "colab": {
      "provenance": []
    },
    "kernelspec": {
      "display_name": "Python 3",
      "name": "python3"
    },
    "language_info": {
      "codemirror_mode": {
        "name": "ipython",
        "version": 3
      },
      "file_extension": ".py",
      "mimetype": "text/x-python",
      "name": "python",
      "nbconvert_exporter": "python",
      "pygments_lexer": "ipython3",
      "version": "3.10.9"
    }
  },
  "nbformat": 4,
  "nbformat_minor": 0
}
