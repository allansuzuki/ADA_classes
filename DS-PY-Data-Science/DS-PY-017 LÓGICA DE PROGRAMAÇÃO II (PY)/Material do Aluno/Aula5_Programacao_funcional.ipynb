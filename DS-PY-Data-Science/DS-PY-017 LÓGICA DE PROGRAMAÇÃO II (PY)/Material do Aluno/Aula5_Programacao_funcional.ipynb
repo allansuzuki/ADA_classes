{
 "cells": [
  {
   "attachments": {},
   "cell_type": "markdown",
   "metadata": {},
   "source": [
    "**Paradigma:**\n",
    "\n",
    "Paradigma de programação é um meio de se classificar as linguagens de programação baseado em suas funcionalidades. \n",
    "\n",
    "As linguagens podem ser classificadas em vários paradigmas. \n",
    "\n",
    "Um paradigma de programação fornece e determina a visão que o programador possui sobre a estruturação e execução do programa."
   ]
  },
  {
   "attachments": {},
   "cell_type": "markdown",
   "metadata": {},
   "source": [
    "# Programação Funcional\n",
    "\n",
    "A programação funcional é um paradigma de programação que se baseia no uso de funções para realizar operações e manipulações de dados. \n",
    "\n",
    "Ao contrário do paradigma imperativo, que enfatiza a alteração de estado das variáveis, a programação funcional foca na avaliação de expressões e na composição de funções.\n",
    "\n",
    "Uma das características fundamentais da programação funcional é o tratamento de funções como cidadãos de primeira classe. \n",
    "\n",
    "Isso significa que as funções podem ser atribuídas a variáveis, passadas como argumentos para outras funções e retornadas como resultado de uma função.\n",
    "\n",
    "Vamos ver alguns exemplos para ilustrar esses conceitos:"
   ]
  },
  {
   "attachments": {},
   "cell_type": "markdown",
   "metadata": {},
   "source": [
    "---\n",
    "## Programação Imperativa x Funcional\n",
    "\n",
    "A programação imperativa e funcional são dois paradigmas de programação com abordagens diferentes para resolver problemas computacionais. \n",
    "\n",
    "\n",
    "### Imperativa\n",
    "\n",
    "* É um estilo tradicional que se concentra em descrever passo a passo como um programa deve ser executado, especificando sequências de comandos e alterações de estado.\n",
    "* O foco principal é descrever como o programa deve executar uma série de instruções para atingir um determinado resultado.\n",
    "* As instruções são executadas sequencialmente, e o estado do programa é alterado por meio de atribuições, loops, condicionais e chamadas a sub-rotinas.\n",
    "* Esse paradigma é amplamente utilizado em linguagens como C, Java e Python, oferecendo controle detalhado sobre o fluxo de execução e a manipulação direta do estado.\n",
    "\n",
    "### Funcional\n",
    "\n",
    "* A programação funcional se baseia na avaliação de funções e na manipulação de expressões matemáticas.\n",
    "* O foco está na avaliação de funções e expressões.\n",
    "* As funções são tratadas como cidadãos de primeira classe, o que significa que elas podem ser atribuídas a variáveis, passadas como argumentos para outras funções, retornadas como resultados e armazenadas em estruturas de dados.\n",
    "* O paradigma funcional enfatiza a imutabilidade dos dados, onde as funções não alteram o estado dos objetos, mas sim produzem novos valores a partir dos dados de entrada.\n",
    "* Linguagens como Haskell, Lisp e Erlang são exemplos de linguagens de programação que suportam programação funcional.\n",
    "\n",
    "**Vantagens:**\n",
    "* A programação funcional traz várias vantagens, como a capacidade de escrever código conciso e legível, a promoção da modularidade e reutilização de código, e a facilitação de técnicas como recursão e programação paralela.\n",
    "* Além disso, o paradigma funcional permite uma abordagem mais declarativa, onde o foco está no que se deseja calcular, em vez de como calcular. Isso torna o código mais compreensível e menos propenso a erros.\n",
    "\n"
   ]
  },
  {
   "attachments": {},
   "cell_type": "markdown",
   "metadata": {},
   "source": [
    "---\n",
    "## **1) Atribuição de função a uma variável:**"
   ]
  },
  {
   "attachments": {},
   "cell_type": "markdown",
   "metadata": {},
   "source": [
    "**Funções de ordem superior:** \n",
    "\n",
    "Na programação funcional, as funções são consideradas cidadãos de primeira classe e podem ser tratadas como qualquer outra entidade da linguagem. \n",
    "\n",
    "Funções de ordem superior são aquelas que podem receber outras funções como argumentos e/ou retornar funções como resultados. \n",
    "\n",
    "Isso permite uma maior flexibilidade e modularidade no código, possibilitando a criação de construções complexas e a composição de comportamentos."
   ]
  },
  {
   "cell_type": "code",
   "execution_count": 1,
   "metadata": {},
   "outputs": [
    {
     "name": "stdout",
     "output_type": "stream",
     "text": [
      "25\n"
     ]
    }
   ],
   "source": [
    "def quadrado(x):\n",
    "    return x ** 2\n",
    "\n",
    "funcao = quadrado\n",
    "resultado = funcao(5)  # Chamando a função através da variável\n",
    "print(resultado)"
   ]
  },
  {
   "attachments": {},
   "cell_type": "markdown",
   "metadata": {},
   "source": [
    "Nesse exemplo, a função quadrado é atribuída à variável funcao. Podemos então chamar a função através da variável, passando um argumento para obter o resultado."
   ]
  },
  {
   "attachments": {},
   "cell_type": "markdown",
   "metadata": {},
   "source": [
    "---\n",
    "## **2) Passagem de função como argumento:**"
   ]
  },
  {
   "cell_type": "code",
   "execution_count": 2,
   "metadata": {},
   "outputs": [
    {
     "name": "stdout",
     "output_type": "stream",
     "text": [
      "10\n"
     ]
    }
   ],
   "source": [
    "def aplicar_funcao(funcao, numero):\n",
    "    return funcao(numero)\n",
    "\n",
    "def dobro(x):\n",
    "    return 2 * x\n",
    "\n",
    "resultado = aplicar_funcao(dobro, 5)\n",
    "print(resultado)  # Saída: 10"
   ]
  },
  {
   "attachments": {},
   "cell_type": "markdown",
   "metadata": {},
   "source": [
    "Nesse exemplo, a função aplicar_funcao recebe duas argumentos: funcao e numero. \n",
    "\n",
    "Ela chama a função passada como argumento, passando o numero como parâmetro. \n",
    "\n",
    "No exemplo, passamos a função dobro como argumento e obtemos o resultado da aplicação dessa função ao número 5."
   ]
  },
  {
   "attachments": {},
   "cell_type": "markdown",
   "metadata": {},
   "source": [
    "---\n",
    "## **3) Retorno de função:**"
   ]
  },
  {
   "cell_type": "code",
   "execution_count": 3,
   "metadata": {},
   "outputs": [
    {
     "name": "stdout",
     "output_type": "stream",
     "text": [
      "12\n"
     ]
    }
   ],
   "source": [
    "def criar_funcao(multiplicador):\n",
    "    def multiplicar(numero):\n",
    "        return multiplicador * numero\n",
    "    return multiplicar\n",
    "\n",
    "funcao = criar_funcao(3)\n",
    "resultado = funcao(4)\n",
    "print(resultado)  # Saída: 12"
   ]
  },
  {
   "attachments": {},
   "cell_type": "markdown",
   "metadata": {},
   "source": [
    "Nesse exemplo, a função criar_funcao retorna uma função interna chamada multiplicar.\n",
    "\n",
    "Essa função multiplicará um número pelo valor passado como argumento para criar_funcao. \n",
    "\n",
    "Chamamos criar_funcao(3) para obter a função de multiplicação por 3, que atribuímos à variável funcao. Em seguida, chamamos funcao(4) para aplicar essa função ao número 4."
   ]
  },
  {
   "attachments": {},
   "cell_type": "markdown",
   "metadata": {},
   "source": [
    "---\n",
    "## Recursvidade\n",
    "\n",
    "A recursividade é um conceito importante na programação funcional. \n",
    "\n",
    "É uma técnica em que uma função chama a si mesma para resolver um problema de forma iterativa. \n",
    "\n",
    "Em outras palavras, a recursividade permite que uma função seja definida em termos de si mesma.\n",
    "\n",
    "Quando uma função é chamada, ela pode se dividir em subproblemas menores até chegar a um caso base em que a solução é conhecida. \n",
    "\n",
    "Em seguida, a função pode retornar o resultado parcial e combinar as soluções dos subproblemas para obter a solução final.\n",
    "\n",
    "A **estrutura básica** de uma função recursiva consiste em 2 elementos:\n",
    "* **1) Caso Base:** É a condição que indica quando a recursão deve parar. É o ponto de saída da função recursiva.\n",
    "* **2) Caso Recursivo:** É a chamada recursiva da função dentro dela mesma, com o objetivo de resolver um subproblema menor. A cada chamada recursiva, o problema é dividido em partes menores até chegar ao caso base."
   ]
  },
  {
   "attachments": {},
   "cell_type": "markdown",
   "metadata": {},
   "source": [
    "**Fatorial**\n",
    "\n",
    "Com um laço for em python conseguimos calcular o fatorial de um número."
   ]
  },
  {
   "cell_type": "code",
   "execution_count": 13,
   "metadata": {},
   "outputs": [],
   "source": [
    "def fatorial(numero):\n",
    "    resultado = 1\n",
    "\n",
    "    for i in range(1, 6):\n",
    "        resultado = resultado * i\n",
    "\n",
    "    return resultado"
   ]
  },
  {
   "cell_type": "code",
   "execution_count": 14,
   "metadata": {},
   "outputs": [
    {
     "data": {
      "text/plain": [
       "120"
      ]
     },
     "execution_count": 14,
     "metadata": {},
     "output_type": "execute_result"
    }
   ],
   "source": [
    "fatorial(5)"
   ]
  },
  {
   "attachments": {},
   "cell_type": "markdown",
   "metadata": {},
   "source": [
    "Utilizando a recursão:"
   ]
  },
  {
   "cell_type": "code",
   "execution_count": 15,
   "metadata": {},
   "outputs": [],
   "source": [
    "def fatorial(numero):\n",
    "    if numero == 1:\n",
    "        return 1\n",
    "    \n",
    "    return numero * fatorial(numero - 1)"
   ]
  },
  {
   "cell_type": "code",
   "execution_count": 17,
   "metadata": {},
   "outputs": [
    {
     "data": {
      "text/plain": [
       "120"
      ]
     },
     "execution_count": 17,
     "metadata": {},
     "output_type": "execute_result"
    }
   ],
   "source": [
    "fatorial(5)"
   ]
  },
  {
   "attachments": {},
   "cell_type": "markdown",
   "metadata": {},
   "source": [
    "Vamos entender o que está acontecendo. \n",
    "* O primeiro if é o caso base, sem ele a função seria executada eternamente. \n",
    "* A segunda parte é que realmente faz o cálculo. Vamos entender o que acontece na função se passarmos o valor 5 para ela:"
   ]
  },
  {
   "attachments": {},
   "cell_type": "markdown",
   "metadata": {},
   "source": [
    "![imagem](Fatorial.png)"
   ]
  },
  {
   "cell_type": "code",
   "execution_count": 1,
   "metadata": {},
   "outputs": [],
   "source": [
    "def fibonacci(n):\n",
    "    if n <= 1:\n",
    "        return n\n",
    "    else:\n",
    "        return fibonacci(n - 1) + fibonacci(n - 2)"
   ]
  },
  {
   "cell_type": "code",
   "execution_count": 2,
   "metadata": {},
   "outputs": [
    {
     "data": {
      "text/plain": [
       "5"
      ]
     },
     "execution_count": 2,
     "metadata": {},
     "output_type": "execute_result"
    }
   ],
   "source": [
    "fibonacci(5)"
   ]
  },
  {
   "attachments": {},
   "cell_type": "markdown",
   "metadata": {},
   "source": [
    "* A recursividade é uma técnica poderosa, mas é importante ter cuidado ao utilizá-la. \n",
    "\n",
    "* É necessário garantir que a recursão sempre chegue ao caso base, caso contrário, ocorrerá um loop infinito. \n",
    "\n",
    "* Além disso, é importante considerar a eficiência, pois a recursividade pode exigir mais recursos de memória e tempo de execução em comparação com abordagens iterativas.\n",
    "\n",
    "* Em resumo, a recursividade é uma técnica que permite resolver problemas dividindo-os em subproblemas menores até atingir um caso base. \n",
    "\n",
    "* Ela é útil quando a solução de um problema pode ser expressa em termos da própria função, facilitando a implementação de algoritmos mais elegantes e expressivos."
   ]
  },
  {
   "attachments": {},
   "cell_type": "markdown",
   "metadata": {},
   "source": [
    "---\n",
    "## **Conclusão:**\n",
    "\n",
    "Esses exemplos ilustram a capacidade da programação funcional de tratar funções como cidadãos de primeira classe, permitindo a flexibilidade na manipulação de código e a criação de abstrações poderosas. \n",
    "\n",
    "Além disso, a programação funcional também utiliza conceitos como funções puras, imutabilidade de dados e métodos funcionais de coleções (como map, filter e reduce)."
   ]
  },
  {
   "attachments": {},
   "cell_type": "markdown",
   "metadata": {},
   "source": [
    "# Funções Anônimas (Lambda):\n",
    "\n",
    "As funções anônimas, também conhecidas como funções lambda, são funções sem nome que podem ser usadas em situações em que uma função simples é necessária, mas não é necessário atribuí-la a uma variável.\n",
    "\n",
    "Elas são expressões que retornam um valor quando chamadas."
   ]
  },
  {
   "attachments": {},
   "cell_type": "markdown",
   "metadata": {},
   "source": [
    "**Sintaxe Básica:**\n",
    "\n",
    "```python\n",
    "lambda argumentos (parâmetros): retorno (expressao)\n",
    "```"
   ]
  },
  {
   "cell_type": "code",
   "execution_count": 11,
   "metadata": {},
   "outputs": [
    {
     "data": {
      "text/plain": [
       "9"
      ]
     },
     "execution_count": 11,
     "metadata": {},
     "output_type": "execute_result"
    }
   ],
   "source": [
    "#Somar um número com 2\n",
    "somaDois = lambda x: x + 2\n",
    "somaDois(7)"
   ]
  },
  {
   "cell_type": "code",
   "execution_count": 4,
   "metadata": {},
   "outputs": [
    {
     "name": "stdout",
     "output_type": "stream",
     "text": [
      "7\n"
     ]
    }
   ],
   "source": [
    "#Exemplo: Somar 2 números\n",
    "soma = lambda x, y: x + y\n",
    "print(soma(3, 4))"
   ]
  },
  {
   "attachments": {},
   "cell_type": "markdown",
   "metadata": {},
   "source": [
    "Nesse exemplo, criamos uma função lambda que recebe dois argumentos, x e y, e retorna a soma desses valores."
   ]
  },
  {
   "cell_type": "code",
   "execution_count": 12,
   "metadata": {},
   "outputs": [
    {
     "data": {
      "text/plain": [
       "6"
      ]
     },
     "execution_count": 12,
     "metadata": {},
     "output_type": "execute_result"
    }
   ],
   "source": [
    "#Calcular uma área\n",
    "calculaArea = lambda x, y: x*y\n",
    "calculaArea(3, 2)"
   ]
  },
  {
   "attachments": {},
   "cell_type": "markdown",
   "metadata": {},
   "source": [
    "**Exemplo:** Ordenação de uma lista de strings pelo comprimento das palavras:"
   ]
  },
  {
   "cell_type": "code",
   "execution_count": 8,
   "metadata": {},
   "outputs": [
    {
     "name": "stdout",
     "output_type": "stream",
     "text": [
      "['uva', 'maçã', 'banana', 'laranja', 'abacaxi']\n"
     ]
    }
   ],
   "source": [
    "palavras = [\"banana\", \"maçã\", \"laranja\", \"abacaxi\", \"uva\"]\n",
    "palavras_ordenadas = sorted(palavras, key=lambda x: len(x))\n",
    "print(palavras_ordenadas)"
   ]
  },
  {
   "attachments": {},
   "cell_type": "markdown",
   "metadata": {},
   "source": [
    "Nesse exemplo, a função lambda é usada como chave para ordenar a lista palavras com base no comprimento das palavras."
   ]
  },
  {
   "attachments": {},
   "cell_type": "markdown",
   "metadata": {},
   "source": [
    "# Métodos Funcionais de Coleções:\n",
    "\n",
    "Os métodos funcionais de coleções são operações de alta ordem que podem ser aplicadas em coleções de dados, como listas, usando funções como argumentos. \n",
    "\n",
    "\n",
    "Alguns dos métodos funcionais mais comuns são:\n",
    "* map\n",
    "* filter\n",
    "* reduce."
   ]
  },
  {
   "attachments": {},
   "cell_type": "markdown",
   "metadata": {},
   "source": [
    "---\n",
    "## **map:** \n",
    "\n",
    "Aplica uma função a cada elemento de uma coleção e retorna uma nova coleção com os resultados."
   ]
  },
  {
   "cell_type": "code",
   "execution_count": 5,
   "metadata": {},
   "outputs": [
    {
     "name": "stdout",
     "output_type": "stream",
     "text": [
      "[2, 4, 6, 8, 10]\n"
     ]
    }
   ],
   "source": [
    "numeros = [1, 2, 3, 4, 5]\n",
    "dobro = list(map(lambda x: x * 2, numeros))\n",
    "print(dobro)"
   ]
  },
  {
   "attachments": {},
   "cell_type": "markdown",
   "metadata": {},
   "source": [
    "Nesse exemplo, a função `map` é utilizada para aplicar a função lambda `lambda x: x * 2` a cada elemento da lista `numeros`. \n",
    "\n",
    "O resultado é uma nova lista contendo o dobro de cada número."
   ]
  },
  {
   "attachments": {},
   "cell_type": "markdown",
   "metadata": {},
   "source": [
    "---\n",
    "## **filter:** \n",
    "\n",
    "Filtra os elementos de uma coleção com base em uma condição definida por uma função e retorna uma nova coleção contendo apenas os elementos que satisfazem a condição."
   ]
  },
  {
   "cell_type": "code",
   "execution_count": 6,
   "metadata": {},
   "outputs": [
    {
     "name": "stdout",
     "output_type": "stream",
     "text": [
      "[2, 4]\n"
     ]
    }
   ],
   "source": [
    "numeros = [1, 2, 3, 4, 5]\n",
    "pares = list(filter(lambda x: x % 2 == 0, numeros))\n",
    "print(pares)"
   ]
  },
  {
   "attachments": {},
   "cell_type": "markdown",
   "metadata": {},
   "source": [
    "Nesse exemplo, a função filter é usada para filtrar os elementos da lista numeros, mantendo apenas os números pares. \n",
    "\n",
    "A função lambda ```lambda x: x % 2 == 0``` define a condição para filtragem."
   ]
  },
  {
   "attachments": {},
   "cell_type": "markdown",
   "metadata": {},
   "source": [
    "**Exemplo:** Criação de uma lista de números primos usando uma função lambda para verificar se um número é primo:"
   ]
  },
  {
   "cell_type": "code",
   "execution_count": 9,
   "metadata": {},
   "outputs": [
    {
     "name": "stdout",
     "output_type": "stream",
     "text": [
      "[1, 2, 3, 5, 7, 11, 13, 17, 19]\n"
     ]
    }
   ],
   "source": [
    "numeros = range(1, 20)\n",
    "primos = list(filter(lambda x: all(x % i != 0 for i in range(2, x)), numeros))\n",
    "print(primos)"
   ]
  },
  {
   "attachments": {},
   "cell_type": "markdown",
   "metadata": {},
   "source": [
    "Nesse exemplo, a função lambda é utilizada como condição de filtragem para verificar se um número é primo usando a função all e um gerador de números primos.\n",
    "\n",
    "Esses são apenas alguns exemplos de como a função lambda pode ser usada em diferentes contextos para expressar funcionalidades de forma concisa e direta. \n",
    "\n",
    "A função lambda é especialmente útil em situações em que uma função simples é necessária, mas não é necessário atribuí-la a uma variável com um nome específico."
   ]
  },
  {
   "attachments": {},
   "cell_type": "markdown",
   "metadata": {},
   "source": [
    "---\n",
    "## **reduce:**\n",
    "\n",
    "Reduz uma coleção a um único valor, aplicando uma função cumulativa a cada elemento da coleção.\n",
    "\n",
    "**Obs.:** Antes de usar o reduce é preciso importar a função 'reduce' do módulo 'functools'."
   ]
  },
  {
   "cell_type": "code",
   "execution_count": 7,
   "metadata": {},
   "outputs": [
    {
     "name": "stdout",
     "output_type": "stream",
     "text": [
      "15\n"
     ]
    }
   ],
   "source": [
    "from functools import reduce\n",
    "\n",
    "numeros = [1, 2, 3, 4, 5]\n",
    "soma = reduce(lambda x, y: x + y, numeros)\n",
    "print(soma)"
   ]
  },
  {
   "attachments": {},
   "cell_type": "markdown",
   "metadata": {},
   "source": [
    "Nesse exemplo, a função reduce é utilizada para calcular a soma de todos os elementos da lista numeros. \n",
    "\n",
    "A função lambda lambda x, y: x + y define a operação de soma cumulativa."
   ]
  },
  {
   "attachments": {},
   "cell_type": "markdown",
   "metadata": {},
   "source": [
    "---\n",
    "## **Conclusão:**\n",
    "\n",
    "Esses métodos funcionais de coleções permitem manipular e transformar os dados de forma concisa e expressiva, sem a necessidade de loops explícitos, tornando o código mais legível e facilitando a implementação de operações comuns em coleções de dados.\n",
    "\n",
    "É importante ressaltar que a programação funcional oferece muitos outros recursos e conceitos interessantes, como imutabilidade, recursão, currying, entre outros. \n",
    "\n",
    "À medida que você se aprofunda na programação funcional, pode explorar esses conceitos para criar soluções mais elegantes e eficientes."
   ]
  },
  {
   "attachments": {},
   "cell_type": "markdown",
   "metadata": {},
   "source": [
    "---\n",
    "# Exercícios"
   ]
  },
  {
   "attachments": {},
   "cell_type": "markdown",
   "metadata": {},
   "source": [
    "**1)** Escreva uma função lambda que retorne o quadrado de um número."
   ]
  },
  {
   "cell_type": "code",
   "execution_count": 22,
   "metadata": {},
   "outputs": [
    {
     "name": "stdout",
     "output_type": "stream",
     "text": [
      "25\n"
     ]
    }
   ],
   "source": [
    "quadrado = lambda x: x ** 2\n",
    "print(quadrado(5))"
   ]
  },
  {
   "attachments": {},
   "cell_type": "markdown",
   "metadata": {},
   "source": [
    "**2)** Escreva uma função lambda que inverta uma string."
   ]
  },
  {
   "cell_type": "code",
   "execution_count": 23,
   "metadata": {},
   "outputs": [
    {
     "name": "stdout",
     "output_type": "stream",
     "text": [
      "nohtyP\n"
     ]
    }
   ],
   "source": [
    "inverter = lambda s: s[::-1]\n",
    "print(inverter(\"Python\"))"
   ]
  },
  {
   "attachments": {},
   "cell_type": "markdown",
   "metadata": {},
   "source": [
    "**3)** Escreva uma função lambda que verifique se um número é par."
   ]
  },
  {
   "cell_type": "code",
   "execution_count": 24,
   "metadata": {},
   "outputs": [
    {
     "name": "stdout",
     "output_type": "stream",
     "text": [
      "True\n",
      "False\n"
     ]
    }
   ],
   "source": [
    "verificar_par = lambda x: x % 2 == 0\n",
    "print(verificar_par(4))\n",
    "print(verificar_par(7))"
   ]
  },
  {
   "attachments": {},
   "cell_type": "markdown",
   "metadata": {},
   "source": [
    "**4)** Escreva uma função lambda que multiplique dois números e some um valor adicional."
   ]
  },
  {
   "cell_type": "code",
   "execution_count": 25,
   "metadata": {},
   "outputs": [
    {
     "name": "stdout",
     "output_type": "stream",
     "text": [
      "16\n"
     ]
    }
   ],
   "source": [
    "operacao = lambda x, y: x * y + 10\n",
    "print(operacao(2, 3))"
   ]
  },
  {
   "attachments": {},
   "cell_type": "markdown",
   "metadata": {},
   "source": [
    "**5)** Escreva uma função lambda que verifique se uma palavra é um palíndromo.\n",
    "\n",
    "Ex.: \n",
    "* radar --> True\n",
    "* Python --> False"
   ]
  },
  {
   "cell_type": "code",
   "execution_count": 9,
   "metadata": {},
   "outputs": [
    {
     "data": {
      "text/plain": [
       "'c'"
      ]
     },
     "execution_count": 9,
     "metadata": {},
     "output_type": "execute_result"
    }
   ],
   "source": [
    "'abc'.lower()[:1:-1]"
   ]
  },
  {
   "cell_type": "code",
   "execution_count": 1,
   "metadata": {},
   "outputs": [
    {
     "name": "stdout",
     "output_type": "stream",
     "text": [
      "True\n",
      "False\n"
     ]
    }
   ],
   "source": [
    "verificar_palindromo = lambda s: s.lower() == s.lower()[::-1]\n",
    "print(verificar_palindromo(\"radar\"))\n",
    "print(verificar_palindromo(\"Python\"))"
   ]
  },
  {
   "attachments": {},
   "cell_type": "markdown",
   "metadata": {},
   "source": [
    "**6)** Escreva uma função lambda que calcule a média de uma lista de números."
   ]
  },
  {
   "cell_type": "code",
   "execution_count": 27,
   "metadata": {},
   "outputs": [
    {
     "name": "stdout",
     "output_type": "stream",
     "text": [
      "3.0\n"
     ]
    }
   ],
   "source": [
    "media = lambda nums: sum(nums) / len(nums)\n",
    "print(media([1, 2, 3, 4, 5]))"
   ]
  },
  {
   "attachments": {},
   "cell_type": "markdown",
   "metadata": {},
   "source": [
    "**7)** Escreva uma função lambda que receba uma lista de dicionários e retorne a lista ordenada pelo valor de uma chave específica em ordem crescente."
   ]
  },
  {
   "cell_type": "code",
   "execution_count": 28,
   "metadata": {},
   "outputs": [
    {
     "name": "stdout",
     "output_type": "stream",
     "text": [
      "[{'nome': 'João', 'idade': 25}, {'nome': 'Maria', 'idade': 30}, {'nome': 'Ana', 'idade': 35}]\n"
     ]
    }
   ],
   "source": [
    "dados = [{'nome': 'Maria', 'idade': 30}, {'nome': 'João', 'idade': 25}, {'nome': 'Ana', 'idade': 35}]\n",
    "ordenar_por_idade = lambda lista: sorted(lista, key=lambda d: d['idade'])\n",
    "print(ordenar_por_idade(dados))"
   ]
  },
  {
   "cell_type": "code",
   "execution_count": 14,
   "metadata": {},
   "outputs": [
    {
     "name": "stdout",
     "output_type": "stream",
     "text": [
      "25\n",
      "30\n",
      "35\n"
     ]
    }
   ],
   "source": [
    "dados = [{'nome': 'Maria', 'idade': 30}, \n",
    "         {'nome': 'João', 'idade': 25}, \n",
    "         {'nome': 'Ana', 'idade': 35}]\n",
    "ordenar = lambda lista: sorted(lista, \n",
    "                key=lambda d: d['idade'])\n",
    "saida = ordenar(dados)\n",
    "for dict in saida:\n",
    "    print(dict['idade'])"
   ]
  },
  {
   "cell_type": "code",
   "execution_count": 13,
   "metadata": {},
   "outputs": [
    {
     "name": "stdout",
     "output_type": "stream",
     "text": [
      "25\n",
      "30\n",
      "35\n"
     ]
    }
   ],
   "source": []
  },
  {
   "attachments": {},
   "cell_type": "markdown",
   "metadata": {},
   "source": [
    "**8)** Escreva uma função para retornar a soma dos números naturais até n."
   ]
  },
  {
   "cell_type": "code",
   "execution_count": 7,
   "metadata": {},
   "outputs": [],
   "source": [
    "def soma_naturais(n):\n",
    "    if n == 1:\n",
    "        return 1\n",
    "    else:\n",
    "        return n + soma_naturais(n - 1)"
   ]
  },
  {
   "cell_type": "code",
   "execution_count": 8,
   "metadata": {},
   "outputs": [
    {
     "data": {
      "text/plain": [
       "15"
      ]
     },
     "execution_count": 8,
     "metadata": {},
     "output_type": "execute_result"
    }
   ],
   "source": [
    "soma_naturais(5)"
   ]
  },
  {
   "cell_type": "code",
   "execution_count": null,
   "metadata": {},
   "outputs": [],
   "source": []
  }
 ],
 "metadata": {
  "kernelspec": {
   "display_name": "base",
   "language": "python",
   "name": "python3"
  },
  "language_info": {
   "codemirror_mode": {
    "name": "ipython",
    "version": 3
   },
   "file_extension": ".py",
   "mimetype": "text/x-python",
   "name": "python",
   "nbconvert_exporter": "python",
   "pygments_lexer": "ipython3",
   "version": "3.9.13"
  },
  "orig_nbformat": 4
 },
 "nbformat": 4,
 "nbformat_minor": 2
}
