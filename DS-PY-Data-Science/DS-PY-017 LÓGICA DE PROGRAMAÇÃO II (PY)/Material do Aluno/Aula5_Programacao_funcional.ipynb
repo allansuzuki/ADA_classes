{
 "cells": [
  {
   "attachments": {},
   "cell_type": "markdown",
   "metadata": {},
   "source": [
    "# 🎯 Aula 4 - Parâmetros de funções 🎯<br>"
   ]
  },
  {
   "cell_type": "markdown",
   "metadata": {},
   "source": [
    "# Caso real\n",
    "\n",
    "Imagine que você tem acesso a uma enorme quantidade de dados de transações de vendas em uma empresa de comércio eletrônico, abrangendo um período de 15 anos. Esses dados incluem informações detalhadas sobre clientes, produtos vendidos, locais de compra, métodos de pagamento e datas das transações. É crucial ressaltar que esses dados não podem ser alterados sob **nenhuma** circunstância.\n",
    "\n",
    "Dada a importância dessa vasta quantidade de informações ao longo de um período tão extenso, como você lidaria com a complexidade desses dados para extrair insights valiosos que ajudem a orientar as estratégias de negócios futuras da empresa?"
   ]
  },
  {
   "cell_type": "code",
   "execution_count": null,
   "metadata": {},
   "outputs": [],
   "source": [
    "# é esperado que os alunos falem de coisas parecidas das últimas aulas, \n",
    "# mas cabe ao professor garantir que eles entendam sobre a importâncis de manter os dados iniciais INALTERADOS.\n",
    "# Isso tem a ver com a função pura, mas também sobre a imutabilidade do estado das variaveis na programação funcional."
   ]
  },
  {
   "cell_type": "markdown",
   "metadata": {},
   "source": [
    "---\n",
    "\n",
    "**Paradigma:**\n",
    "\n",
    "Um paradigma de programação fornece e determina a visão que o programador possui sobre a estruturação e execução do programa. <br>\n",
    "Paradigma de programação é um meio de se classificar as linguagens de programação baseado em suas funcionalidades. <br>\n",
    "As linguagens podem ser classificadas em vários paradigmas."
   ]
  },
  {
   "attachments": {},
   "cell_type": "markdown",
   "metadata": {},
   "source": [
    "## Programação Imperativa x Funcional\n",
    "\n",
    "A programação imperativa e funcional são dois paradigmas de programação com abordagens diferentes para resolver problemas computacionais. \n",
    "\n",
    "\n",
    "### Imperativa\n",
    "\n",
    "* É um estilo tradicional que se concentra em descrever passo a passo como um programa deve ser executado, especificando sequências de comandos e **alterações de estado**.\n",
    "* O foco principal é descrever como o programa deve executar uma série de instruções para atingir um determinado resultado.\n",
    "* As instruções são executadas sequencialmente, e o estado do programa é alterado por meio de atribuições, loops, condicionais e chamadas a sub-rotinas.\n",
    "* Esse paradigma é amplamente utilizado em linguagens como C, Java e Python, oferecendo controle detalhado sobre o fluxo de execução e a manipulação direta do estado.\n",
    "\n",
    "### Funcional\n",
    "\n",
    "* A programação funcional se baseia na avaliação de funções e na manipulação de expressões matemáticas.\n",
    "* O foco está na avaliação de funções e expressões.\n",
    "* As funções são tratadas como cidadãos de primeira classe, o que significa que elas podem ser atribuídas a variáveis, passadas como argumentos para outras funções, retornadas como resultados e armazenadas em estruturas de dados.\n",
    "* O paradigma funcional enfatiza a **imutabilidade dos dados**, onde as funções não alteram o estado dos objetos, mas sim produzem novos valores a partir dos dados de entrada.\n",
    "* Linguagens como Haskell, Lisp e Erlang são exemplos de linguagens de programação que suportam programação funcional.\n",
    "\n",
    "**Vantagens:**\n",
    "* A programação funcional traz várias vantagens, como a capacidade de escrever código conciso e legível, a promoção da modularidade e reutilização de código, e a facilitação de técnicas como recursão e programação paralela.\n",
    "* Além disso, o paradigma funcional permite uma abordagem mais declarativa, onde o foco está no que se deseja calcular, em vez de como calcular. Isso torna o código mais compreensível e menos propenso a erros.\n",
    "\n"
   ]
  },
  {
   "attachments": {},
   "cell_type": "markdown",
   "metadata": {},
   "source": [
    "# Programação Funcional\n",
    "\n",
    "A programação funcional é um paradigma de programação que se baseia no uso de **funções** para realizar operações e manipulações de dados. <br>\n",
    "Ao contrário do paradigma imperativo, que enfatiza a alteração de estado das variáveis, a programação funcional foca na **avaliação de expressões e na composição de funções**. <br>\n",
    "Uma das características fundamentais da programação funcional é o tratamento de funções como **cidadãos de primeira classe**. (ou seja, função é um objeto). <br>\n",
    "Isso significa que as funções podem ser **atribuídas a variáveis**, passadas como **argumentos** para outras funções e retornadas como **resultado** de uma função. <br>\n",
    "\n",
    "Vamos ver alguns exemplos para ilustrar esses conceitos:"
   ]
  },
  {
   "attachments": {},
   "cell_type": "markdown",
   "metadata": {},
   "source": [
    "---\n",
    "## **1) Atribuição de função a uma variável\\*:**"
   ]
  },
  {
   "cell_type": "code",
   "execution_count": null,
   "metadata": {},
   "outputs": [],
   "source": [
    "def quadrado(x):\n",
    "    return x ** 2\n",
    "\n",
    "operacao = quadrado\n",
    "resultado = operacao(5)  # Chamando a função quadrado através da variável\n",
    "print(resultado)"
   ]
  },
  {
   "attachments": {},
   "cell_type": "markdown",
   "metadata": {},
   "source": [
    "Nesse exemplo, a função `quadrado` é atribuída à variável `operação`. Podemos então chamar `quadrado` através da variável, passando um argumento para obter o resultado."
   ]
  },
  {
   "attachments": {},
   "cell_type": "markdown",
   "metadata": {},
   "source": [
    "---\n",
    "## **2) Passagem de função como argumento\\*:**"
   ]
  },
  {
   "attachments": {},
   "cell_type": "markdown",
   "metadata": {},
   "source": [
    "**Funções de ordem superior:** \n",
    "\n",
    "Funções de ordem superior são aquelas que podem receber outras funções como argumentos e/ou retornar funções como resultados.<br>\n",
    "Na programação funcional, as funções são consideradas cidadãos de primeira classe e podem ser tratadas como qualquer outra entidade da linguagem.\n",
    "\n",
    "Isso permite uma maior flexibilidade e modularidade no código, possibilitando a criação de construções complexas e a composição de comportamentos."
   ]
  },
  {
   "cell_type": "code",
   "execution_count": null,
   "metadata": {},
   "outputs": [],
   "source": [
    "def calcular_operacao(numero, operacao):\n",
    "    return operacao(numero)\n",
    "\n",
    "def dobro(x):\n",
    "    return 2 * x\n",
    "\n",
    "resultado = calcular_operacao(5, operacao=dobro)\n",
    "print(resultado)  # Saída: 10"
   ]
  },
  {
   "attachments": {},
   "cell_type": "markdown",
   "metadata": {},
   "source": [
    "Nesse exemplo, a função `calcular_operacao` recebe duas argumentos: numero e funcao. <br>\n",
    "Ela chama a função `operacao` como argumento e aplica a operação que for para o `numero`.\n",
    "\n",
    "No exemplo, passamos a função `dobro` como argumento e obtemos o resultado da aplicação dessa função ao número 5."
   ]
  },
  {
   "attachments": {},
   "cell_type": "markdown",
   "metadata": {},
   "source": [
    "---\n",
    "## **3) Retorno de função:**"
   ]
  },
  {
   "cell_type": "code",
   "execution_count": null,
   "metadata": {},
   "outputs": [],
   "source": [
    "def criar_funcao(multiplicador):\n",
    "    def multiplicar(numero):\n",
    "        return multiplicador * numero\n",
    "    return multiplicar\n",
    "\n",
    "multiplicar_por_3 = criar_funcao(3)\n",
    "resultado = multiplicar_por_3(4)\n",
    "print(resultado)  # Saída: 12"
   ]
  },
  {
   "attachments": {},
   "cell_type": "markdown",
   "metadata": {},
   "source": [
    "Nesse exemplo, a função `criar_funcao` retorna uma função interna chamada `multiplicar`.<br>\n",
    "Essa função multiplicará um número pelo valor passado como argumento para variável escolhida.\n",
    "\n",
    "Chamamos `criar_funcao(3)` para obter a função de multiplicação por 3, que atribuímos à variável `multiplicar_por_3`. Em seguida, chamamos `multiplicar_por_3(4)` para aplicar essa multiplicação ao número 4. Repare que o parâmetro da função externa só é utilizada na função interna!\n",
    "\n",
    "**DICA**: Confuso? Talvez porque não é fácil perceber quais veriáveis são repassadas para a função interna. Busque separar em níveis de escopo e imaginar as variaveis criadas em cada escopo (ou bloco de função):\n",
    "\n",
    "```python\n",
    "def criar_funcao(multiplicador):\n",
    "    # ESCOPO \"superior\"\n",
    "    # variavel `multiplicador` é um parâmetro e pode ser utilizada dentro do escopo da `def criar_funcao`\n",
    "    def multiplicar(numero):\n",
    "        # ESCOPO \"inferior\"\n",
    "        # variavel `numero` é um parâmetro e pode ser utilizada dentro do escopo da `def multiplicar`\n",
    "        # variáveis \"herdadas\" do ESCOPO superior:\n",
    "        #   variavel `multiplicador`\n",
    "        #   variavel `multiplicador` pode ser utilizada dentro do escopo da `def multiplicar` por ser herdada do escopo da `def criar_funcao`.\n",
    "        return multiplicador * numero\n",
    "    return multiplicar\n",
    "```"
   ]
  },
  {
   "attachments": {},
   "cell_type": "markdown",
   "metadata": {},
   "source": [
    "---\n",
    "## Recursividade\n",
    "\n",
    "É uma técnica em que uma função chama a si mesma para resolver um problema de forma iterativa. <br>\n",
    "Em outras palavras, a recursividade permite que uma função seja definida em termos de si mesma.\n",
    "\n",
    "Quando uma função é chamada, ela pode se dividir em subproblemas menores até chegar a um caso base em que a solução é conhecida.\n",
    "\n",
    "Em seguida, a função pode retornar o resultado parcial e combinar as soluções dos subproblemas para obter a solução final.\n",
    "\n",
    "A **estrutura básica** de uma função recursiva consiste em 2 elementos:\n",
    "* **1) Caso de parada:** É a condição que indica quando a recursão deve parar. É o ponto de saída da função recursiva.\n",
    "* **2) Caso Recursivo:** É a chamada recursiva da função dentro dela mesma, com o objetivo de resolver um subproblema menor. A cada chamada recursiva, o problema é dividido em partes menores até chegar ao caso base."
   ]
  },
  {
   "attachments": {},
   "cell_type": "markdown",
   "metadata": {},
   "source": [
    "**Fatorial**\n",
    "\n",
    "Conseguimos calcular o fatorial de um número utilizando dois métodos:\n",
    "* Função recursiva (programação funcional)\n",
    "* Com um laço for em python (tradicional)"
   ]
  },
  {
   "cell_type": "markdown",
   "metadata": {},
   "source": [
    "<table border=\"1\">\n",
    "  <thead>\n",
    "    <tr>\n",
    "      <th>Recursive</th>\n",
    "      <th>For Loop</th>\n",
    "    </tr>\n",
    "  </thead>\n",
    "  <tbody>\n",
    "    <tr>\n",
    "      <td> \n",
    "        <blockquote>\n",
    "        <p> def fatorial(numero): <br>\n",
    "        &nbsp; if numero == 1: return 1 # caso de parada\n",
    "        <p> \n",
    "        <p>&nbsp; # caso recursivo<br>&nbsp;return numero * fatorial(numero - 1)  \n",
    "        </blockquote>\n",
    "      </td>\n",
    "      <td> \n",
    "      <blockquote>\n",
    "      <p> def fatorial(numero):<br>\n",
    "      &nbsp;   resultado = 1  \n",
    "      <p> \n",
    "      <p>&nbsp;   if numero > 1:<br>  \n",
    "      &nbsp; &nbsp;       for i in range(2, numero+1):<br>\n",
    "      &nbsp; &nbsp; &nbsp;           resultado = resultado * i\n",
    "      <p> \n",
    "      <p>&nbsp;   return resultado \n",
    "      </blockquote>\n",
    "      </td>\n",
    "    </tr>\n",
    "  </tbody>\n",
    "</table>"
   ]
  },
  {
   "cell_type": "markdown",
   "metadata": {},
   "source": [
    "No caso do `for` o cálculo é feito progressivamente:<br>\n",
    "Criamos uma variàvel `resultado` que vai progressivamente recebendo a multiplicação dos números:<br>\n",
    "**Ex: numero = 4<br>**\n",
    "> for(step 1): resultado = 1 * 2<br>\n",
    "for(step 2): resultado = resultado * 3 = resultado_do_step1 * 3<br>\n",
    "for(step 3): resultado = resultado * 4 = resultado_do_step2 * 4<br>\n",
    "\n",
    "Já no caso da função `recursiva` o cálculo é feito regressivamente: <br>\n",
    "Retornamos o resultado, que sempre é o (numero que queremos calcular o fatorial) * (o fatorial do número que queremos calcular - 1): <br>\n",
    "\n",
    ">recursive(step 1): 4! = 4 * 3! (! significa \"fatorial\") <br>\n",
    "recursive(step 2): 3! = 3 * 2! <br>\n",
    "recursive(step 3): 2! = 2 * 1! <br>\n"
   ]
  },
  {
   "cell_type": "code",
   "execution_count": null,
   "metadata": {},
   "outputs": [],
   "source": [
    "# RECURSIVO\n",
    "def fatorial_recursivo(numero):\n",
    "    if numero==1: #caso de parada \n",
    "        return 1 \n",
    "    else: return numero * fatorial_recursivo(numero-1)\n",
    "\n",
    "# LOOP\n",
    "def fatorial_for(numero):\n",
    "    resultado = 1\n",
    "\n",
    "    if numero>2:\n",
    "        for i in range(2,numero+1):\n",
    "            resultado = resultado * i\n",
    "    return resultado"
   ]
  },
  {
   "cell_type": "code",
   "execution_count": null,
   "metadata": {},
   "outputs": [],
   "source": [
    "# fatorial recursivo"
   ]
  },
  {
   "cell_type": "code",
   "execution_count": null,
   "metadata": {},
   "outputs": [],
   "source": [
    "# fatorial loop for"
   ]
  },
  {
   "attachments": {},
   "cell_type": "markdown",
   "metadata": {},
   "source": [
    "A recursividade é uma técnica poderosa  que permite resolver problemas dividindo-os em subproblemas menores até atingir um caso de parada, mas é importante ter cuidado ao utilizá-la:\n",
    "\n",
    "* É necessário garantir que a recursão sempre chegue ao caso de parada, caso contrário, ocorrerá um loop infinito. \n",
    "\n",
    "* Além disso, é importante considerar a eficiência, pois a recursividade pode exigir mais recursos de memória em comparação com abordagens iterativas.\n",
    "\n",
    "* Ela é útil quando a solução de um problema pode ser expressa em termos da própria função, facilitando a implementação de algoritmos mais elegantes e expressivos."
   ]
  },
  {
   "attachments": {},
   "cell_type": "markdown",
   "metadata": {},
   "source": [
    "---\n",
    "\n",
    "Esses exemplos ilustram a capacidade da programação funcional de tratar funções como cidadãos de primeira classe, permitindo a flexibilidade na manipulação de código e a criação de abstrações poderosas. \n",
    "\n",
    "Vamos ve mais algumas ferramentas da programação funcional a seguir:"
   ]
  },
  {
   "attachments": {},
   "cell_type": "markdown",
   "metadata": {},
   "source": [
    "# Funções Anônimas (Lambda)\\*:\n",
    "\n",
    "Já imaginou precisar utilizar uma função, uma única vez, para um determinado propósito e não precisar usar mais? É neste caso que são utilizadas as funções anônimas, também conhecidas como **funções lâmbda ($\\lambda$)**."
   ]
  },
  {
   "attachments": {},
   "cell_type": "markdown",
   "metadata": {},
   "source": [
    "**Sintaxe Básica:**\n",
    "\n",
    "```python\n",
    "lambda argumentos (parâmetros): retorno (expressao)\n",
    "```\n",
    "\n",
    "A própria estrutura da função lambda já nos informa quais parâmetros serão utilizados e já está implícito que retorna a expressão a frente."
   ]
  },
  {
   "cell_type": "code",
   "execution_count": null,
   "metadata": {},
   "outputs": [],
   "source": [
    "# Somar um número com 2\n",
    "somaDois = lambda x: x + 2\n",
    "somaDois(7)"
   ]
  },
  {
   "cell_type": "code",
   "execution_count": null,
   "metadata": {},
   "outputs": [],
   "source": [
    "#Exemplo: Somar 2 números\n",
    "soma = lambda x, y: x + y\n",
    "print(soma(3, 4))"
   ]
  },
  {
   "attachments": {},
   "cell_type": "markdown",
   "metadata": {},
   "source": [
    "**Exemplo:** Ordenação de uma lista de strings pelo ordem alfabética:"
   ]
  },
  {
   "cell_type": "code",
   "execution_count": null,
   "metadata": {},
   "outputs": [],
   "source": [
    "palavras = [\"banana\", \"maçã\", \"laranja\", \"abacaxi\", \"uva\"]\n",
    "palavras_ordenadas = sorted(palavras, key=lambda x: x[0])\n",
    "print(palavras_ordenadas)"
   ]
  },
  {
   "attachments": {},
   "cell_type": "markdown",
   "metadata": {},
   "source": [
    "Nesse exemplo, a função lambda é usada para retornar a chave que ordenará a lista, no caso sendo a 1a letra."
   ]
  },
  {
   "attachments": {},
   "cell_type": "markdown",
   "metadata": {},
   "source": [
    "# Métodos Funcionais de Coleções\\*:\n",
    "\n",
    "Os métodos funcionais de coleções são operações de alta ordem que podem ser aplicadas em coleções de dados, como listas, usando funções como argumentos.\n",
    "\n",
    "\n",
    "Alguns dos métodos funcionais mais comuns são:\n",
    "* map\n",
    "* filter\n",
    "* reduce."
   ]
  },
  {
   "attachments": {},
   "cell_type": "markdown",
   "metadata": {},
   "source": [
    "---\n",
    "## **map:** \n",
    "\n",
    "Aplica uma função a cada elemento de uma coleção e retorna uma nova coleção com os resultados.<br>\n",
    "Ex: imagine que queremos encontrar o dobro de todos os números de uma lista. É neste caso que a função `map` facilita o nosso trabalho:"
   ]
  },
  {
   "cell_type": "code",
   "execution_count": null,
   "metadata": {},
   "outputs": [],
   "source": [
    "numeros = [1, 2, 3, 4, 5]\n",
    "dobro = list(map(lambda x: x * 2, numeros))\n",
    "print(dobro)"
   ]
  },
  {
   "attachments": {},
   "cell_type": "markdown",
   "metadata": {},
   "source": [
    "Nesse exemplo, a função `map` é utilizada para aplicar a função lambda `lambda x: x * 2` a cada elemento da lista `numeros` (lembra o que é lambda?). \n",
    "O resultado é uma nova lista contendo o dobro de cada número."
   ]
  },
  {
   "attachments": {},
   "cell_type": "markdown",
   "metadata": {},
   "source": [
    "---\n",
    "## **filter:** \n",
    "\n",
    "Numa situação em que queremos apenas os elementos de uma lista que satisfazem uma determinada condição, é que podemos utilizar a função `filter`. <br>\n",
    "Filtra os elementos de uma coleção com base em uma condição definida por uma função e retorna uma nova coleção contendo apenas os elementos que satisfazem a condição."
   ]
  },
  {
   "cell_type": "code",
   "execution_count": null,
   "metadata": {},
   "outputs": [],
   "source": [
    "numeros = [1, 2, 3, 4, 5]\n",
    "pares = list(filter(lambda x: x % 2 == 0, numeros))\n",
    "print(pares)"
   ]
  },
  {
   "attachments": {},
   "cell_type": "markdown",
   "metadata": {},
   "source": [
    "Nesse exemplo, a função filter é usada para filtrar os elementos da lista numeros, mantendo apenas os números pares. \n",
    "\n",
    "A função lambda ```lambda x: x % 2 == 0``` define a condição para filtragem."
   ]
  },
  {
   "attachments": {},
   "cell_type": "markdown",
   "metadata": {},
   "source": [
    "**Exemplo:** Criação de uma lista de números primos usando uma função lambda para verificar se um número é primo:"
   ]
  },
  {
   "cell_type": "code",
   "execution_count": null,
   "metadata": {},
   "outputs": [],
   "source": [
    "numeros = range(1, 20)\n",
    "primos = list(filter(lambda x: all(x % i != 0 for i in range(2, x)), numeros))\n",
    "print(primos)"
   ]
  },
  {
   "attachments": {},
   "cell_type": "markdown",
   "metadata": {},
   "source": [
    "Nesse exemplo, a função lambda é utilizada como condição de filtragem para verificar se um número é primo usando a função all e um gerador de números primos.\n",
    "\n",
    "Esses são apenas alguns exemplos de como a função lambda pode ser usada em diferentes contextos para expressar funcionalidades de forma concisa e direta. \n",
    "\n",
    "A função lambda é especialmente útil em situações em que uma função simples é necessária, mas não é necessário atribuí-la a uma variável com um nome específico."
   ]
  },
  {
   "attachments": {},
   "cell_type": "markdown",
   "metadata": {},
   "source": [
    "---\n",
    "## **reduce:**\n",
    "\n",
    "Reduz uma coleção a um único valor, aplicando uma função cumulativa a cada elemento da coleção.\n",
    "\n",
    "**Obs.:** Antes de usar o reduce é preciso importar a função 'reduce' do módulo 'functools'."
   ]
  },
  {
   "cell_type": "code",
   "execution_count": null,
   "metadata": {},
   "outputs": [],
   "source": [
    "from functools import reduce\n",
    "\n",
    "numeros = [1, 2, 3, 4, 5]\n",
    "soma = reduce(lambda x, y: x + y, numeros)\n",
    "print(soma)"
   ]
  },
  {
   "attachments": {},
   "cell_type": "markdown",
   "metadata": {},
   "source": [
    "Nesse exemplo, a função reduce é utilizada para calcular a soma de todos os elementos da lista numeros. \n",
    "\n",
    "A função lambda lambda x, y: x + y define a operação de soma cumulativa."
   ]
  },
  {
   "attachments": {},
   "cell_type": "markdown",
   "metadata": {},
   "source": [
    "---\n",
    "## **Conclusão:**\n",
    "\n",
    "Esses métodos funcionais de coleções permitem manipular e transformar os dados de forma concisa e expressiva, sem a necessidade de loops explícitos, tornando o código mais legível e facilitando a implementação de operações comuns em coleções de dados.\n",
    "\n",
    "É importante ressaltar que a programação funcional oferece muitos outros recursos e conceitos interessantes, como imutabilidade, recursividade, currying, entre outros. \n",
    "\n",
    "À medida que você se aprofunda na programação funcional, pode explorar esses conceitos para criar soluções mais elegantes e eficientes."
   ]
  },
  {
   "attachments": {},
   "cell_type": "markdown",
   "metadata": {},
   "source": [
    "---\n",
    "# Exercícios"
   ]
  },
  {
   "attachments": {},
   "cell_type": "markdown",
   "metadata": {},
   "source": [
    "**1)** Escreva uma função lambda que retorne o quadrado de um número."
   ]
  },
  {
   "cell_type": "code",
   "execution_count": null,
   "metadata": {},
   "outputs": [],
   "source": [
    "quadrado = lambda x: x ** 2\n",
    "print(quadrado(5))"
   ]
  },
  {
   "attachments": {},
   "cell_type": "markdown",
   "metadata": {},
   "source": [
    "**2)** Escreva uma função lambda que verifique se um número é par."
   ]
  },
  {
   "cell_type": "code",
   "execution_count": null,
   "metadata": {},
   "outputs": [],
   "source": [
    "verificar_par = lambda x: x % 2 == 0\n",
    "print(verificar_par(4))\n",
    "print(verificar_par(7))"
   ]
  },
  {
   "attachments": {},
   "cell_type": "markdown",
   "metadata": {},
   "source": [
    "**3)** Escreva uma função lambda que verifique se uma palavra é um palíndromo.\n",
    "\n",
    "Ex.: \n",
    "* radar --> True\n",
    "* Python --> False"
   ]
  },
  {
   "cell_type": "code",
   "execution_count": null,
   "metadata": {},
   "outputs": [],
   "source": [
    "verificar_palindromo = lambda s: s.lower() == s.lower()[::-1]\n",
    "print(verificar_palindromo(\"radar\"))\n",
    "print(verificar_palindromo(\"Python\"))"
   ]
  },
  {
   "attachments": {},
   "cell_type": "markdown",
   "metadata": {},
   "source": [
    "**4)** Escreva uma função lambda que receba uma lista de dicionários e retorne a lista ordenada pelo valor de uma chave específica em ordem crescente."
   ]
  },
  {
   "cell_type": "code",
   "execution_count": null,
   "metadata": {},
   "outputs": [],
   "source": [
    "dados = [{'nome': 'Maria', 'idade': 30}, {'nome': 'João', 'idade': 25}, {'nome': 'Ana', 'idade': 35}]\n",
    "ordenar_por_idade = lambda lista: sorted(lista, key=lambda d: d['idade'])\n",
    "print(ordenar_por_idade(dados))"
   ]
  },
  {
   "attachments": {},
   "cell_type": "markdown",
   "metadata": {},
   "source": [
    "**5)** Escreva uma função para retornar a soma dos números naturais até n."
   ]
  },
  {
   "cell_type": "code",
   "execution_count": null,
   "metadata": {},
   "outputs": [],
   "source": [
    "def soma_naturais(n):\n",
    "    if n == 1:\n",
    "        return 1\n",
    "    else:\n",
    "        return n + soma_naturais(n - 1)"
   ]
  },
  {
   "cell_type": "code",
   "execution_count": null,
   "metadata": {},
   "outputs": [],
   "source": [
    "soma_naturais(5)"
   ]
  },
  {
   "cell_type": "markdown",
   "metadata": {},
   "source": [
    "**6)** Em um banco renomado, um gerente de filial deseja identificar os clientes que possuem saldo negativo em suas contas correntes para oferecer assistência financeira.<br>\n",
    "No entanto, devido à quantidade substancial de clientes, ele precisa de uma maneira eficiente de identificar esses clientes. <br> \n",
    "Utilize a função `filter` para resolver o problema.\n",
    "\n",
    "```python\n",
    "clientes = [\n",
    "    {\"nome\": \"João\", \"saldo\": -100},\n",
    "    {\"nome\": \"Maria\", \"saldo\": 500},\n",
    "    {\"nome\": \"Pedro\", \"saldo\": -50},\n",
    "    {\"nome\": \"Ana\", \"saldo\": 200},\n",
    "]\n",
    "```"
   ]
  },
  {
   "cell_type": "code",
   "execution_count": null,
   "metadata": {},
   "outputs": [],
   "source": [
    "# Função para filtrar clientes com saldo negativo\n",
    "def clientes_com_saldo_negativo(clientes):\n",
    "    return list(filter(lambda cliente: cliente[\"saldo\"] < 0, clientes))\n",
    "\n",
    "# Teste da função\n",
    "print(clientes_com_saldo_negativo(clientes))\n"
   ]
  },
  {
   "cell_type": "markdown",
   "metadata": {},
   "source": [
    "**7)** Um banco deseja identificar as transações suspeitas que envolvem valores superiores a R$ 20.000,00 e que ocorreram fora do horário comercial (das 9h às 18h). <br>\n",
    "Essa análise ajudará o banco a detectar possíveis fraudes e proteger os fundos dos clientes.\n",
    "\n",
    "```python\n",
    "transacoes = [\n",
    "    {\"id\": 1, \"valor\": 5000, \"data\": \"2023-01-15\", \"hora\": \"20:30\"},\n",
    "    {\"id\": 2, \"valor\": 25000, \"data\": \"2023-01-10\", \"hora\": \"10:15\"},\n",
    "    {\"id\": 3, \"valor\": 8000, \"data\": \"2023-01-20\", \"hora\": \"18:45\"},\n",
    "    {\"id\": 4, \"valor\": 30000, \"data\": \"2022-12-20\", \"hora\": \"21:00\"},\n",
    "]\n",
    "```"
   ]
  },
  {
   "cell_type": "code",
   "execution_count": null,
   "metadata": {},
   "outputs": [],
   "source": [
    "# Função para filtrar transações suspeitas\n",
    "def transacoes_suspeitas(transacoes):\n",
    "    return list(filter(lambda transacao: transacao[\"valor\"] > 20000 and (int(transacao[\"hora\"].split(\":\")[0]) < 9 or int(transacao[\"hora\"].split(\":\")[0]) > 18), transacoes))\n",
    "\n",
    "# Teste da função\n",
    "print(transacoes_suspeitas(transacoes))"
   ]
  },
  {
   "cell_type": "markdown",
   "metadata": {},
   "source": [
    "**8)** Um banco deseja oferecer um programa de fidelidade para clientes que realizam transações frequentes e de alto valor. <br>\n",
    "Eles estão interessados em identificar clientes que realizaram transações com valores acima da média geral dos clientes nos últimos três meses.\n",
    "\n",
    "```python\n",
    "clientes = [\n",
    "    {\"nome\": \"João\", \"transacoes\": [1000, 2000, 3000, 4000, 5000], \"data_transacoes\": [\"2023-01-10\", \"2023-01-11\", \"2023-01-12\", \"2023-01-13\", \"2023-01-14\"]},\n",
    "    {\"nome\": \"Maria\", \"transacoes\": [500, 700, 1200, 800, 900], \"data_transacoes\": [\"2023-01-10\", \"2023-01-11\", \"2023-01-12\", \"2023-01-13\", \"2023-01-14\"]},\n",
    "    {\"nome\": \"Pedro\", \"transacoes\": [2000, 3000, 4000, 5000, 6000], \"data_transacoes\": [\"2023-01-10\", \"2023-01-11\", \"2023-01-12\", \"2023-01-13\", \"2023-01-14\"]},\n",
    "    {\"nome\": \"Ana\", \"transacoes\": [1500, 2500, 1800, 2200, 3200], \"data_transacoes\": [\"2023-01-10\", \"2023-01-11\", \"2023-01-12\", \"2023-01-13\", \"2023-01-14\"]},\n",
    "]\n",
    "```"
   ]
  },
  {
   "cell_type": "code",
   "execution_count": null,
   "metadata": {},
   "outputs": [],
   "source": [
    "# Função para calcular a média geral das transações\n",
    "def media_geral_transacoes(clientes):\n",
    "    total_transacoes = sum(sum(cliente[\"transacoes\"]) for cliente in clientes)\n",
    "    total_clientes = sum(len(cliente[\"transacoes\"]) for cliente in clientes)\n",
    "    return total_transacoes / total_clientes\n",
    "\n",
    "# Função para filtrar clientes elite\n",
    "def clientes_elite(clientes):\n",
    "    media_geral = media_geral_transacoes(clientes)\n",
    "    return list(filter(lambda cliente: max(cliente[\"transacoes\"]) > media_geral, clientes))\n",
    "\n",
    "# Teste da função\n",
    "print(clientes_elite(clientes))\n"
   ]
  },
  {
   "cell_type": "markdown",
   "metadata": {},
   "source": [
    "**9)** Em um banco, um gerente de filial precisa calcular o saldo total de todas as contas dos clientes no final do mês para relatórios financeiros. <br> \n",
    "Ele deseja automatizar esse processo para economizar tempo e minimizar erros. Utilize a função reduce e compare com a função `sum`\n",
    "\n",
    "```python\n",
    "saldos = [1000, -500, 200, -300, 1500]\n",
    "```"
   ]
  },
  {
   "cell_type": "code",
   "execution_count": null,
   "metadata": {},
   "outputs": [],
   "source": [
    "# Função para calcular o saldo total\n",
    "def calcular_saldo_total(saldos):\n",
    "    return reduce(lambda x, y: x + y, saldos)"
   ]
  },
  {
   "cell_type": "markdown",
   "metadata": {},
   "source": [
    "**10)** Um banco deseja calcular o saldo total de todas as contas dos clientes, mas dessa vez considerando apenas os clientes que possuem mais de 5 transações nos últimos 3 meses. <br> Isso ajudará a identificar clientes mais ativos e potencialmente valiosos para o banco.\n",
    "\n",
    "```python\n",
    "clientes = [\n",
    "    {\"nome\": \"João\", \"saldo\": 1000},\n",
    "    {\"nome\": \"Maria\", \"saldo\": 2000},\n",
    "    {\"nome\": \"Pedro\", \"saldo\": 1500},\n",
    "    {\"nome\": \"Ana\", \"saldo\": 3000},\n",
    "]\n",
    "\n",
    "transacoes_ultimos_3_meses = [\n",
    "    {\"cliente\": \"João\", \"transacoes\": [100, 200, 300, 400, 500, 600]},\n",
    "    {\"cliente\": \"Maria\", \"transacoes\": [200, 400, 600, 800, 1000, 80]},\n",
    "    {\"cliente\": \"Pedro\", \"transacoes\": [50, 100, 150, 200, 250]},\n",
    "    {\"cliente\": \"Ana\", \"transacoes\": [300, 600, 900]},\n",
    "]\n",
    "```"
   ]
  },
  {
   "cell_type": "code",
   "execution_count": null,
   "metadata": {},
   "outputs": [],
   "source": [
    "# Função para calcular o saldo total de clientes ativos\n",
    "def calcular_saldo_total_clientes_ativos(clientes, transacoes):\n",
    "    clientes_ativos = filter(lambda cliente: len(next(filter(lambda transacao: transacao[\"cliente\"] == cliente[\"nome\"], transacoes))[\"transacoes\"]) > 5, clientes)\n",
    "    saldo_total_clientes_ativos = reduce(lambda acc, cliente: acc + cliente[\"saldo\"], clientes_ativos, 0)\n",
    "    return saldo_total_clientes_ativos\n",
    "\n",
    "# Teste da função\n",
    "print(calcular_saldo_total_clientes_ativos(clientes, transacoes_ultimos_3_meses))"
   ]
  }
 ],
 "metadata": {
  "kernelspec": {
   "display_name": "base",
   "language": "python",
   "name": "python3"
  },
  "language_info": {
   "codemirror_mode": {
    "name": "ipython",
    "version": 3
   },
   "file_extension": ".py",
   "mimetype": "text/x-python",
   "name": "python",
   "nbconvert_exporter": "python",
   "pygments_lexer": "ipython3",
   "version": "3.11.5"
  },
  "orig_nbformat": 4
 },
 "nbformat": 4,
 "nbformat_minor": 2
}
