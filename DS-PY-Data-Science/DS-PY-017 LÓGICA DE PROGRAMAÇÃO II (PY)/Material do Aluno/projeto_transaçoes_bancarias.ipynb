{
 "cells": [
  {
   "cell_type": "markdown",
   "metadata": {},
   "source": [
    "# Mini Projeto: transações bancarias"
   ]
  },
  {
   "cell_type": "code",
   "execution_count": 1,
   "metadata": {},
   "outputs": [],
   "source": [
    "# depencies\n",
    "import json\n",
    "import os\n",
    "import uuid\n",
    "import random"
   ]
  },
  {
   "cell_type": "code",
   "execution_count": 50,
   "metadata": {},
   "outputs": [],
   "source": [
    "# functions\n",
    "def criar_transacoes(num_transacoes, proporcao_categorias):\n",
    "\n",
    "    assert sum([proporcao_categorias[k] for k in proporcao_categorias])==1, '`proporcao_categorias` não soma 100%! Favor rever.'\n",
    "\n",
    "    # Calcula o número de transações por categoria com base na proporção\n",
    "    numero_transacoes_por_categoria = {categoria: int(num_transacoes * proporcao) for categoria, proporcao in proporcao_categorias.items()}\n",
    "    \n",
    "    transacoes = []\n",
    "    \n",
    "    # Gera as transações\n",
    "    for categoria, quantidade in numero_transacoes_por_categoria.items():\n",
    "        for _ in range(quantidade):\n",
    "            transacao = {\n",
    "                \"UUID\": str(uuid.uuid4()),\n",
    "                \"preco\": round(random.uniform(1.0, 1000.0), 2),  # Preço aleatório entre 1 e 1000\n",
    "                \"categoria\": categoria\n",
    "            }\n",
    "            transacoes.append(transacao)\n",
    "    \n",
    "    return transacoes\n",
    "\n",
    "def salvar_json(transacoes, path2save, filename):\n",
    "    # create path if not exist\n",
    "    if not os.path.exists(path2save):\n",
    "        os.makedirs(path2save)\n",
    "    with open(os.path.join(path2save,filename), \"w\") as file:\n",
    "        json.dump(transacoes, file, indent=4)\n",
    "    print(f\"Arquivo salvo em: {os.path.join(path2save,filename)}\")\n",
    "\n",
    "def criar_bd(num_transacoes:int, proporcao_categorias:list, path2save=\"./data\", filename='transactions.json'):\n",
    "    salvar_json(criar_transacoes(num_transacoes,  proporcao_categorias),\n",
    "                path2save, filename\n",
    "    )\n",
    "\n"
   ]
  },
  {
   "cell_type": "code",
   "execution_count": 7,
   "metadata": {},
   "outputs": [],
   "source": [
    "#settings:\n",
    "categorias_proporcao = {\n",
    "        \"casa\": 0.15,\n",
    "        \"lazer\": 0.1,\n",
    "        \"viagens\": 0.05,\n",
    "        \"investimentos\": 0.2,\n",
    "        \"transferencias\": 0.1,\n",
    "        \"saude\": 0.1,\n",
    "        \"alimentacao\": 0.3\n",
    "    }"
   ]
  },
  {
   "cell_type": "code",
   "execution_count": 51,
   "metadata": {},
   "outputs": [
    {
     "name": "stdout",
     "output_type": "stream",
     "text": [
      "Arquivo salvo em: ./data\n"
     ]
    }
   ],
   "source": [
    "# Criar transações e salvar em JSON\n",
    "criar_bd(1000, categorias_proporcao)"
   ]
  }
 ],
 "metadata": {
  "kernelspec": {
   "display_name": "base",
   "language": "python",
   "name": "python3"
  },
  "language_info": {
   "codemirror_mode": {
    "name": "ipython",
    "version": 3
   },
   "file_extension": ".py",
   "mimetype": "text/x-python",
   "name": "python",
   "nbconvert_exporter": "python",
   "pygments_lexer": "ipython3",
   "version": "3.11.5"
  }
 },
 "nbformat": 4,
 "nbformat_minor": 2
}
