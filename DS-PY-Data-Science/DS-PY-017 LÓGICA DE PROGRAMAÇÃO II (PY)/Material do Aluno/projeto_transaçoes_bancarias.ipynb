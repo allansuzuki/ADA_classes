{
 "cells": [
  {
   "cell_type": "markdown",
   "metadata": {},
   "source": [
    "# Mini Projeto: transações bancarias"
   ]
  },
  {
   "cell_type": "markdown",
   "metadata": {},
   "source": [
    "_DS-PY-17 - logica de programacao II_\n",
    "\n",
    "Esse programa é um sistema de gestao de transacoes de uma conta bancária pessoal<br>\n",
    "no qual os dados são de transações e possuem seu valor, a categoria do gasto e seu ID.\n",
    "\n",
    "Teu objetivo é completar esse sistema CRUD - acrônimo para _Create-Read-Update-Delete_ - simples<br>\n",
    "para ver (_read_) dados de transacao da tua conta pessoal, criar (_create_), editar (_update_) e <br>excluir (_delete_) transações.\n",
    "\n",
    "Também deve fazer com que o programa NUNCA pare, ou seja, <br>\n",
    "caso ocorra um possível erro, deve validar as entradas, detectar erros e avisar o usuário <br>\n",
    "mas o programa não deve parar.\n",
    "\n",
    "Por favor crie uma cópia desde script .py e todos os dados na pasta `data` <br>\n",
    "\n",
    "\n",
    "**Notas importantes:**\n",
    "\n",
    "1. As funções que geram os dados e criam a interface do sistema já estão prontas. \n",
    "por favor não as altere.\n",
    "\n",
    "2. Depois das funções do sistema estão as funções do programa\n",
    "No qual podem alterar à vontade, exceto o nome das funções\n",
    "Ou seja, podem criar funções, adicionar ou remover parâmetros, \n",
    "mas não alterar o nome das funções existentes.\n",
    "\n",
    "3. Coloque opções de navegabilidade em cada janela que o usuário estiver.\n",
    "Por exemplo, se ele escolher a opcao \"alterar transacao\" sem querer, tem que ter a opcao de voltar para a tela anterior ou inicial.\n",
    "\n",
    "4. Caso por qualquer motivo queira os dados originais novamente,\n",
    "apage a pasta `data` e inicie o programa novamente para gerar os dados.\n",
    "Os valores serão os mesmos, porém os UUID NÃO serão os mesmos!!\n",
    "\n",
    "-----\n",
    "-----\n",
    "\n",
    "Critérios (pontos):\n",
    "||tarefas|validacoes|total|\n",
    "|-|-------|----------|----|\n",
    "|C|   10  |   15     | 25 |\n",
    "|R|  25   |   25     | 50 |\n",
    "|U|  10   |   10     | 20 |\n",
    "|D|  2.5  |   2.5    |  5 |\n",
    "\n",
    "Boa sorte e divirtam-se :)"
   ]
  },
  {
   "cell_type": "markdown",
   "metadata": {},
   "source": [
    "Exemplo de funcionamento do projeto:\n",
    "\n",
    "<div align=\"middle\">\n",
    "<video width=\"80%\" controls>\n",
    "      <source src=\"https://github.com/allansuzuki/ADA_classes/raw/main/DS-PY-Data-Science/DS-PY-017%20L%C3%93GICA%20DE%20PROGRAMA%C3%87%C3%83O%20II%20(PY)/Material%20do%20Aluno/data/projeto_dspy017.mp4\" type=\"video/mp4\">\n",
    "\n",
    "      \n",
    "</video></div>"
   ]
  }
 ],
 "metadata": {
  "kernelspec": {
   "display_name": "base",
   "language": "python",
   "name": "python3"
  },
  "language_info": {
   "codemirror_mode": {
    "name": "ipython",
    "version": 3
   },
   "file_extension": ".py",
   "mimetype": "text/x-python",
   "name": "python",
   "nbconvert_exporter": "python",
   "pygments_lexer": "ipython3",
   "version": "3.11.5"
  }
 },
 "nbformat": 4,
 "nbformat_minor": 2
}
