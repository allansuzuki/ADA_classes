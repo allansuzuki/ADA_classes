{
 "cells": [
  {
   "cell_type": "markdown",
   "metadata": {
    "application/vnd.databricks.v1+cell": {
     "cellMetadata": {},
     "inputWidgets": {},
     "nuid": "37e3ca4a-221d-4644-ba1e-245b91acb6b9",
     "showTitle": false,
     "title": ""
    }
   },
   "source": [
    "# PANDAS - Processamento de dados\n",
    "[Guia do pandas](https://pandas.pydata.org/docs/user_guide/index.html#user-guide)\n",
    "____\n",
    "\n",
    "Dúvidas?\n",
    "* Romero Carvalho: romerofcarvalho (discord)\n",
    "* Allan Suzuki: allansuzuki (discord)"
   ]
  },
  {
   "cell_type": "code",
   "execution_count": 0,
   "metadata": {
    "application/vnd.databricks.v1+cell": {
     "cellMetadata": {
      "byteLimit": 2048000,
      "rowLimit": 10000
     },
     "inputWidgets": {},
     "nuid": "29c087f3-8438-409e-b1e2-487337b6df66",
     "showTitle": false,
     "title": ""
    }
   },
   "outputs": [],
   "source": [
    "#imports \n",
    "import pandas as pd\n",
    "import numpy as np"
   ]
  },
  {
   "cell_type": "markdown",
   "metadata": {
    "application/vnd.databricks.v1+cell": {
     "cellMetadata": {},
     "inputWidgets": {},
     "nuid": "aba3158d-5e04-433c-9393-95ac6aa7758c",
     "showTitle": false,
     "title": ""
    }
   },
   "source": [
    "# Topicos\n",
    "1. Caso prático\n",
    "2. O que vamos aprender?\n",
    "<br>&nbsp;2.1 Concat\n",
    "<br>&nbsp;2.2 Merge\n",
    "<br>&nbsp;2.3 Groupby\n",
    "<br>&nbsp;2.4 Pivot\n",
    "<br>&nbsp;2.5 Melt \n",
    "<!-- 1. [Caso prático](#caso-pratico)\n",
    "2. [O que vamos aprender?](#o-que-vamos-aprender)\n",
    "3. [Exercícios](#exer) -->"
   ]
  },
  {
   "cell_type": "markdown",
   "metadata": {
    "application/vnd.databricks.v1+cell": {
     "cellMetadata": {},
     "inputWidgets": {},
     "nuid": "2b459c62-0f84-462f-972f-81bc5b4cd3a6",
     "showTitle": false,
     "title": ""
    }
   },
   "source": [
    "# Caso prático"
   ]
  },
  {
   "cell_type": "markdown",
   "metadata": {
    "application/vnd.databricks.v1+cell": {
     "cellMetadata": {},
     "inputWidgets": {},
     "nuid": "45e06fc0-49c3-48b3-94ee-9938d56ca813",
     "showTitle": false,
     "title": ""
    }
   },
   "source": [
    "## Caso 1"
   ]
  },
  {
   "cell_type": "markdown",
   "metadata": {
    "application/vnd.databricks.v1+cell": {
     "cellMetadata": {},
     "inputWidgets": {},
     "nuid": "a4d5024a-14fd-4f26-8b4d-a8b795eaf4ff",
     "showTitle": false,
     "title": ""
    }
   },
   "source": [
    "Vamos considerar uma situação com dados relacionados a clientes, médicos, consultas e procedimentos médicos, cada um armazenado em tabelas separadas. Durante a análise dos dados de clientes e médicos, notamos que algumas informações não estão atualizadas. **O desafio** é que extrair todos os dados novamente levaria bastante tempo de processamento.\n",
    "\n",
    "<!-- `imagem aqui para ilustrar a falta de dados dessas tabelas` -->\n",
    "\n",
    "O que você faria para solucionar este problema?\n",
    "\n",
    "<!--- tempo de espera para ver como resolver --->"
   ]
  },
  {
   "cell_type": "markdown",
   "metadata": {
    "application/vnd.databricks.v1+cell": {
     "cellMetadata": {},
     "inputWidgets": {},
     "nuid": "c3b7b729-e4c1-4f2e-ba09-1794200756bc",
     "showTitle": false,
     "title": ""
    }
   },
   "source": [
    "**SOLUÇÃO**:<!-- Diante dessa questão, a equipe decidiu adotar uma abordagem mais prática: em vez de recarregar todos os dados, a ideia é identificar **apenas** as informações que estão faltando e adicioná-las aos dados desatualizados. -->"
   ]
  },
  {
   "cell_type": "markdown",
   "metadata": {
    "application/vnd.databricks.v1+cell": {
     "cellMetadata": {},
     "inputWidgets": {},
     "nuid": "06c1e119-d065-47c8-ab9a-50e19810d3ce",
     "showTitle": false,
     "title": ""
    }
   },
   "source": [
    "## Caso 2"
   ]
  },
  {
   "cell_type": "markdown",
   "metadata": {
    "application/vnd.databricks.v1+cell": {
     "cellMetadata": {},
     "inputWidgets": {},
     "nuid": "30147b32-87d7-4ce3-add2-1690f7e0cfb7",
     "showTitle": false,
     "title": ""
    }
   },
   "source": [
    "Durante uma reunião estratégica voltada para a identificação de oportunidades e aprimoramentos com os clientes, Alessandra apresentou à equipe de estratégia os resultados de uma enquete pública realizada no site da Unimed e na rua. Esses resultados incluíam dados demográficos (endereço, cidade, estado) e socioeconômicos (renda familiar, tamanho da família, qualidade de vida), bem como a opinião dos participantes em relação à Unimed de 1 a 5, variando de muito ruim a muito bom. No entanto, a equipe enfrentava dificuldades em compreender os insights dos resultados da enquete devido à forma como os dados estavam organizados, já que cada resposta ocupava uma linha e não conseguia visualizar o todo.\n",
    "\n",
    "<table border=\"1\" class=\"dataframe\">\n",
    "  <thead>\n",
    "    <tr style=\"text-align: right;\">\n",
    "      <th></th>\n",
    "      <th>id_pesquisa</th>\n",
    "      <th>nome</th>\n",
    "      <th>idade</th>\n",
    "      <th>renda</th>\n",
    "      <th>satisfacao</th>\n",
    "      <th>recomendacao</th>\n",
    "    </tr>\n",
    "  </thead>\n",
    "  <tbody>\n",
    "    <tr>\n",
    "      <th>0</th>\n",
    "      <td>1</td>\n",
    "      <td>dados omitidos</td>\n",
    "      <td>40</td>\n",
    "      <td>6</td>\n",
    "      <td>7</td>\n",
    "      <td>3</td>\n",
    "    </tr>\n",
    "    <tr>\n",
    "      <th>1</th>\n",
    "      <td>2</td>\n",
    "      <td>dados omitidos</td>\n",
    "      <td>56</td>\n",
    "      <td>7</td>\n",
    "      <td>4</td>\n",
    "      <td>2</td>\n",
    "    </tr>\n",
    "    <tr>\n",
    "      <th>2</th>\n",
    "      <td>3</td>\n",
    "      <td>dados omitidos</td>\n",
    "      <td>32</td>\n",
    "      <td>4</td>\n",
    "      <td>5</td>\n",
    "      <td>3</td>\n",
    "    </tr>\n",
    "    <tr>\n",
    "      <th>3</th>\n",
    "      <td>4</td>\n",
    "      <td>dados omitidos</td>\n",
    "      <td>16</td>\n",
    "      <td>7</td>\n",
    "      <td>7</td>\n",
    "      <td>1</td>\n",
    "    </tr>\n",
    "    <tr>\n",
    "      <th>4</th>\n",
    "      <td>5</td>\n",
    "      <td>dados omitidos</td>\n",
    "      <td>72</td>\n",
    "      <td>9</td>\n",
    "      <td>3</td>\n",
    "      <td>1</td>\n",
    "    </tr>\n",
    "    <tr>\n",
    "      <th>5</th>\n",
    "      <td>6</td>\n",
    "      <td>dados omitidos</td>\n",
    "      <td>48</td>\n",
    "      <td>2</td>\n",
    "      <td>5</td>\n",
    "      <td>1</td>\n",
    "    </tr>\n",
    "    <tr>\n",
    "      <th>6</th>\n",
    "      <td>7</td>\n",
    "      <td>dados omitidos</td>\n",
    "      <td>48</td>\n",
    "      <td>3</td>\n",
    "      <td>5</td>\n",
    "      <td>2</td>\n",
    "    </tr>\n",
    "    <tr>\n",
    "      <th>7</th>\n",
    "      <td>8</td>\n",
    "      <td>dados omitidos</td>\n",
    "      <td>40</td>\n",
    "      <td>5</td>\n",
    "      <td>7</td>\n",
    "      <td>1</td>\n",
    "    </tr>\n",
    "    <tr>\n",
    "      <th>8</th>\n",
    "      <td>9</td>\n",
    "      <td>dados omitidos</td>\n",
    "      <td>56</td>\n",
    "      <td>3</td>\n",
    "      <td>2</td>\n",
    "      <td>2</td>\n",
    "    </tr>\n",
    "    <tr>\n",
    "      <th>9</th>\n",
    "      <td>10</td>\n",
    "      <td>dados omitidos</td>\n",
    "      <td>32</td>\n",
    "      <td>8</td>\n",
    "      <td>3</td>\n",
    "      <td>1</td>\n",
    "    </tr>\n",
    "    <tr>\n",
    "      <th>10</th>\n",
    "      <td>11</td>\n",
    "      <td>dados omitidos</td>\n",
    "      <td>80</td>\n",
    "      <td>10</td>\n",
    "      <td>7</td>\n",
    "      <td>1</td>\n",
    "    </tr>\n",
    "    <tr>\n",
    "      <th>11</th>\n",
    "      <td>12</td>\n",
    "      <td>dados omitidos</td>\n",
    "      <td>48</td>\n",
    "      <td>8</td>\n",
    "      <td>3</td>\n",
    "      <td>2</td>\n",
    "    </tr>\n",
    "    <tr>\n",
    "      <th>12</th>\n",
    "      <td>13</td>\n",
    "      <td>dados omitidos</td>\n",
    "      <td>32</td>\n",
    "      <td>8</td>\n",
    "      <td>3</td>\n",
    "      <td>2</td>\n",
    "    </tr>\n",
    "    <tr>\n",
    "      <th>13</th>\n",
    "      <td>14</td>\n",
    "      <td>dados omitidos</td>\n",
    "      <td>16</td>\n",
    "      <td>9</td>\n",
    "      <td>5</td>\n",
    "      <td>1</td>\n",
    "    </tr>\n",
    "    <tr>\n",
    "      <th>14</th>\n",
    "      <td>15</td>\n",
    "      <td>dados omitidos</td>\n",
    "      <td>56</td>\n",
    "      <td>4</td>\n",
    "      <td>4</td>\n",
    "      <td>2</td>\n",
    "    </tr>\n",
    "    <tr>\n",
    "      <th>15</th>\n",
    "      <td>16</td>\n",
    "      <td>dados omitidos</td>\n",
    "      <td>24</td>\n",
    "      <td>5</td>\n",
    "      <td>3</td>\n",
    "      <td>1</td>\n",
    "    </tr>\n",
    "    <tr>\n",
    "      <th>16</th>\n",
    "      <td>17</td>\n",
    "      <td>dados omitidos</td>\n",
    "      <td>32</td>\n",
    "      <td>5</td>\n",
    "      <td>6</td>\n",
    "      <td>2</td>\n",
    "    </tr>\n",
    "    <tr>\n",
    "      <th>17</th>\n",
    "      <td>18</td>\n",
    "      <td>dados omitidos</td>\n",
    "      <td>16</td>\n",
    "      <td>8</td>\n",
    "      <td>5</td>\n",
    "      <td>3</td>\n",
    "    </tr>\n",
    "    <tr>\n",
    "      <th>18</th>\n",
    "      <td>19</td>\n",
    "      <td>dados omitidos</td>\n",
    "      <td>80</td>\n",
    "      <td>7</td>\n",
    "      <td>2</td>\n",
    "      <td>3</td>\n",
    "    </tr>\n",
    "    <tr>\n",
    "      <th>19</th>\n",
    "      <td>20</td>\n",
    "      <td>dados omitidos</td>\n",
    "      <td>72</td>\n",
    "      <td>9</td>\n",
    "      <td>4</td>\n",
    "      <td>3</td>\n",
    "    </tr>\n",
    "    <tr>\n",
    "      <th>20</th>\n",
    "      <td>21</td>\n",
    "      <td>dados omitidos</td>\n",
    "      <td>24</td>\n",
    "      <td>8</td>\n",
    "      <td>6</td>\n",
    "      <td>3</td>\n",
    "    </tr>\n",
    "</table>\n",
    "\n",
    "O que você faria para reestruturar os dados e gerar insights estratégicos mais rapidamente?"
   ]
  },
  {
   "cell_type": "markdown",
   "metadata": {
    "application/vnd.databricks.v1+cell": {
     "cellMetadata": {},
     "inputWidgets": {},
     "nuid": "85e0688d-98f2-429f-bad8-1866be993774",
     "showTitle": false,
     "title": ""
    }
   },
   "source": [
    "**SOLUÇÃO**:<!-- Uma solução eficaz seria reorganizar os dados, pivotando os dados para categorizar por classes socioeconômicas e regiões demográficas. Essa abordagem permitiria visualizar os resultados agregados da opinião pública de maneira mais clara e compreensível. Ao adotar uma perspectiva semelhante à funcionalidade Pivot Table do Excel, a equipe estaria mais familiarizada e apta a extrair insights significativos de maneira mais rápida e eficiente. -->"
   ]
  },
  {
   "cell_type": "markdown",
   "metadata": {
    "application/vnd.databricks.v1+cell": {
     "cellMetadata": {},
     "inputWidgets": {},
     "nuid": "c464c9cf-c359-4c06-8ebe-9bc519523173",
     "showTitle": false,
     "title": ""
    }
   },
   "source": [
    "# O que vamos aprender?"
   ]
  },
  {
   "cell_type": "markdown",
   "metadata": {
    "application/vnd.databricks.v1+cell": {
     "cellMetadata": {},
     "inputWidgets": {},
     "nuid": "9bd2f254-0e77-4b64-89b0-9a19844eeba9",
     "showTitle": false,
     "title": ""
    }
   },
   "source": [
    "* [Concat](#Concat)\n",
    "* [Merge](#Merge)\n",
    "* [Groupby](#groupby)\n",
    "* [Pivot](#Pivot)\n",
    "* [Melt](#Melt)"
   ]
  },
  {
   "cell_type": "markdown",
   "metadata": {
    "application/vnd.databricks.v1+cell": {
     "cellMetadata": {},
     "inputWidgets": {},
     "nuid": "ce8d3a1c-6be8-48d7-b772-c7d72bafd8a4",
     "showTitle": false,
     "title": ""
    }
   },
   "source": [
    "## Até onde chegamos"
   ]
  },
  {
   "cell_type": "markdown",
   "metadata": {
    "application/vnd.databricks.v1+cell": {
     "cellMetadata": {},
     "inputWidgets": {},
     "nuid": "eec1cc91-b5d2-413b-b71a-a32446b2c420",
     "showTitle": false,
     "title": ""
    }
   },
   "source": [
    "&ensp;<img src=\"https://github.com/allansuzuki/ADA_classes/blob/main/DS-PY-Data-Science/DS-PY-004%20T%C3%89CNICAS%20DE%20PROGRAMA%C3%87%C3%83O%20I%20(PY)/Material%20do%20Aluno/Aula%205/img/recap_lecture.png?raw=true\" alt=\"create_notebook\" width=\"400\"/>\n",
    "\n",
    "Aprendemos a trabalhar com diversas funções para:\n",
    "1. carregar dados vindo de fontes externas;\n",
    "2. localizar dados específicos;\n",
    "3. realizar cálculos;\n",
    "4. salvar os dados em outro tipo de arquivo.\n",
    "\n",
    "Perceba que para aplicar cada uma dessas funções, somente é necessário UM único dataframe."
   ]
  },
  {
   "cell_type": "markdown",
   "metadata": {
    "application/vnd.databricks.v1+cell": {
     "cellMetadata": {},
     "inputWidgets": {},
     "nuid": "d3a3bd22-4a70-4f2f-b96f-943fbe01131c",
     "showTitle": false,
     "title": ""
    }
   },
   "source": [
    "## Até onde vamos chegar (com este módulo)"
   ]
  },
  {
   "cell_type": "markdown",
   "metadata": {
    "application/vnd.databricks.v1+cell": {
     "cellMetadata": {},
     "inputWidgets": {},
     "nuid": "2c401ded-77bf-497f-89c5-4a77b5b08b54",
     "showTitle": false,
     "title": ""
    }
   },
   "source": [
    "&ensp;<img src=\"https://github.com/allansuzuki/ADA_classes/blob/main/DS-PY-Data-Science/DS-PY-004%20T%C3%89CNICAS%20DE%20PROGRAMA%C3%87%C3%83O%20I%20(PY)/Material%20do%20Aluno/Aula%205/img/lecture_target.png?raw=true\" alt=\"lecture_target\" width=\"400\"/>\n",
    "\n",
    "Neste módulo vamos conseguir realizar uniões/manipulações entre duas ou mais dataframes ou estruturar um dataframe para outra forma (tal como os dois casos que vimos no começo do módulo)."
   ]
  },
  {
   "cell_type": "markdown",
   "metadata": {
    "application/vnd.databricks.v1+cell": {
     "cellMetadata": {},
     "inputWidgets": {},
     "nuid": "7743c193-34c7-46ca-b8df-dfe6fd3294e6",
     "showTitle": false,
     "title": ""
    }
   },
   "source": [
    "## Concat \n",
    "Source: Documentation [(+info)](https://pandas.pydata.org/docs/reference/api/pandas.concat.html)"
   ]
  },
  {
   "cell_type": "markdown",
   "metadata": {
    "application/vnd.databricks.v1+cell": {
     "cellMetadata": {},
     "inputWidgets": {},
     "nuid": "cb10bc87-76bd-4d62-9aa0-03563a98b475",
     "showTitle": false,
     "title": ""
    }
   },
   "source": [
    "As vezes, é preciso um novo conjunto de dados a partir de união de outros dados/tabelas. \n",
    "\n",
    "No caso, quando queremos concatenar/unir/empilhar dados num determinado eixo (lembra-se do que significa eixo em DataFrames?), utilizamos a função **pandas.concat** (semelhante a operação UNION do SQL):\n",
    "\n",
    ">pandas.concat(objs, *, axis=0, join='outer', ignore_index=False, keys=None, levels=None, names=None, verify_integrity=False, sort=False, copy=None)\n",
    "<br>&ensp;&ensp;&ensp;&ensp;Concatenate pandas objects along a particular axis.\n",
    "<br><br>&ensp;&ensp;&ensp;&ensp;Allows optional set logic along the other axes\n",
    "<br><br>&ensp;&ensp;&ensp;&ensp;Can also add a layer of hierarchical indexing on the concatenation axis, which may be useful if the labels are the same (or overlapping) on the passed axis number."
   ]
  },
  {
   "cell_type": "markdown",
   "metadata": {
    "application/vnd.databricks.v1+cell": {
     "cellMetadata": {},
     "inputWidgets": {},
     "nuid": "6bdaa8a6-dd8c-44fe-a692-6fc5912c5cc0",
     "showTitle": false,
     "title": ""
    }
   },
   "source": [
    "É possível combinar duas séries:"
   ]
  },
  {
   "cell_type": "code",
   "execution_count": 0,
   "metadata": {
    "application/vnd.databricks.v1+cell": {
     "cellMetadata": {
      "byteLimit": 2048000,
      "rowLimit": 10000
     },
     "inputWidgets": {},
     "nuid": "3f4f47dc-2893-4f08-8733-155c599ef5b8",
     "showTitle": false,
     "title": ""
    }
   },
   "outputs": [],
   "source": [
    "s1 = pd.Series(['a', 'b'])\n",
    "s2 = pd.Series(['c', 'd'])\n",
    "pd.concat([s1,s2])"
   ]
  },
  {
   "cell_type": "markdown",
   "metadata": {
    "application/vnd.databricks.v1+cell": {
     "cellMetadata": {},
     "inputWidgets": {},
     "nuid": "7634743f-51f6-464e-971f-39242fb3d78f",
     "showTitle": false,
     "title": ""
    }
   },
   "source": [
    "Bem como combinar dois DataFrames com as mesmas colunas:"
   ]
  },
  {
   "cell_type": "code",
   "execution_count": 0,
   "metadata": {
    "application/vnd.databricks.v1+cell": {
     "cellMetadata": {
      "byteLimit": 2048000,
      "rowLimit": 10000
     },
     "inputWidgets": {},
     "nuid": "d6ec6f39-176e-499f-bbee-aefdb40f2941",
     "showTitle": false,
     "title": ""
    }
   },
   "outputs": [],
   "source": [
    "df1 = pd.DataFrame([['a', 1], ['b', 2]], columns=['letter', 'number'])\n",
    "df2 = pd.DataFrame([['c', 3], ['d', 4]], columns=['letter', 'number'])\n",
    "pd.concat([df1,df2])"
   ]
  },
  {
   "cell_type": "markdown",
   "metadata": {
    "application/vnd.databricks.v1+cell": {
     "cellMetadata": {},
     "inputWidgets": {},
     "nuid": "0838890b-9db2-4d6b-8be5-a0c841a9e2da",
     "showTitle": false,
     "title": ""
    }
   },
   "source": [
    "Porém, combinar dois DataFrames que possuem diferentes colunas retorna valores **NaN** (o que é isto mesmo?):"
   ]
  },
  {
   "cell_type": "code",
   "execution_count": 0,
   "metadata": {
    "application/vnd.databricks.v1+cell": {
     "cellMetadata": {
      "byteLimit": 2048000,
      "rowLimit": 10000
     },
     "inputWidgets": {},
     "nuid": "9e69265e-b7ca-44ce-8d06-57a3dd89c948",
     "showTitle": false,
     "title": ""
    }
   },
   "outputs": [],
   "source": [
    "df1 = pd.DataFrame([['a', 1], ['b', 2]], columns=['letter', 'number'])\n",
    "df3 = pd.DataFrame([['c', 3, 'cat'], ['d', 4, 'dog']], columns=['letter', 'number', 'animal']) # one more column\n",
    "pd.concat([df1, df3])"
   ]
  },
  {
   "cell_type": "markdown",
   "metadata": {
    "application/vnd.databricks.v1+cell": {
     "cellMetadata": {},
     "inputWidgets": {},
     "nuid": "64402e80-c7b0-4759-8cb5-26ba33f9f6b1",
     "showTitle": false,
     "title": ""
    }
   },
   "source": [
    "É possível resetar os índices com o argumento `ignore_index=True`, quando os índices originais não são importantes."
   ]
  },
  {
   "cell_type": "code",
   "execution_count": 0,
   "metadata": {
    "application/vnd.databricks.v1+cell": {
     "cellMetadata": {
      "byteLimit": 2048000,
      "rowLimit": 10000
     },
     "inputWidgets": {},
     "nuid": "d1906234-44d7-41fe-9847-3b78b239f86d",
     "showTitle": false,
     "title": ""
    }
   },
   "outputs": [],
   "source": [
    "df1 = pd.DataFrame([['a', 1], ['b', 2]], columns=['letter', 'number'])\n",
    "df2 = pd.DataFrame([['c', 3], ['d', 4]], columns=['letter', 'number'])\n",
    "pd.concat([df1,df2], ignore_index=False)"
   ]
  },
  {
   "cell_type": "markdown",
   "metadata": {
    "application/vnd.databricks.v1+cell": {
     "cellMetadata": {},
     "inputWidgets": {},
     "nuid": "3600ad3e-e43f-48fb-a975-603c2123e10e",
     "showTitle": false,
     "title": ""
    }
   },
   "source": [
    "Também é possível combinar os DataFrames pelos índices (ao invés das colunas) utilizando o argumento `axis=1`"
   ]
  },
  {
   "cell_type": "code",
   "execution_count": 0,
   "metadata": {
    "application/vnd.databricks.v1+cell": {
     "cellMetadata": {
      "byteLimit": 2048000,
      "rowLimit": 10000
     },
     "inputWidgets": {},
     "nuid": "bbe74fbe-ad54-42e1-95be-9e546d9cb660",
     "showTitle": false,
     "title": ""
    }
   },
   "outputs": [],
   "source": [
    "#usar o df1\n",
    "df4 = pd.DataFrame([['bird', 'polly'], ['monkey', 'george']], columns=['animal', 'name']) # new columns\n",
    "pd.concat([df1,df4], axis=1)"
   ]
  },
  {
   "cell_type": "markdown",
   "metadata": {
    "application/vnd.databricks.v1+cell": {
     "cellMetadata": {},
     "inputWidgets": {},
     "nuid": "6716259a-5d78-4f94-bdba-933760a7e286",
     "showTitle": false,
     "title": ""
    }
   },
   "source": [
    "Por fim, também é possível adicionar uma linha a um DataFrame, se a série tiver índices iguais as colunas do DataFrame."
   ]
  },
  {
   "cell_type": "code",
   "execution_count": 0,
   "metadata": {
    "application/vnd.databricks.v1+cell": {
     "cellMetadata": {
      "byteLimit": 2048000,
      "rowLimit": 10000
     },
     "inputWidgets": {},
     "nuid": "b440d93a-9cce-42c1-bfdc-57dbd031b532",
     "showTitle": false,
     "title": ""
    }
   },
   "outputs": [],
   "source": [
    "nova_linha = pd.DataFrame({'letter': ['z'], 'number': [111]})\n",
    "pd.concat([df1, nova_linha])"
   ]
  },
  {
   "cell_type": "markdown",
   "metadata": {
    "application/vnd.databricks.v1+cell": {
     "cellMetadata": {
      "byteLimit": 2048000,
      "rowLimit": 10000
     },
     "inputWidgets": {},
     "nuid": "fad3bf43-f1ea-4d9c-b0bd-ae25b37bc106",
     "showTitle": false,
     "title": ""
    }
   },
   "source": [
    "-----\n",
    "### Hands-on"
   ]
  },
  {
   "cell_type": "markdown",
   "metadata": {
    "application/vnd.databricks.v1+cell": {
     "cellMetadata": {
      "byteLimit": 2048000,
      "rowLimit": 10000
     },
     "inputWidgets": {},
     "nuid": "132c912d-ab74-46af-ac74-40a933dc3617",
     "showTitle": false,
     "title": ""
    }
   },
   "source": [
    "1. Você tem uma tarefa de criar um DataFrame no seguinte formato:\n",
    "<br>\n",
    "<br>\n",
    "<table border=\"1\" class=\"dataframe\">\n",
    "  <thead>\n",
    "    <tr style=\"text-align: right;\">\n",
    "      <th>Name</th>\n",
    "      <th>Class</th>\n",
    "      <th>InsuranceTotalSpent</th>\n",
    "    </tr>\n",
    "  </thead>\n",
    "  <tbody>\n",
    "    <tr>\n",
    "      <td>Ana</td>\n",
    "      <td>Enterprise</td>\n",
    "      <td>1200</td>\n",
    "    </tr>\n",
    "    <tr>\n",
    "      <td>Lucas</td>\n",
    "      <td>Personal</td>\n",
    "      <td>900</td>\n",
    "    </tr>\n",
    "    <tr>\n",
    "      <td>Isabella</td>\n",
    "      <td>Enterprise</td>\n",
    "      <td>1500</td>\n",
    "    </tr>\n",
    "    <tr>\n",
    "      <td>Thiago</td>\n",
    "      <td>Elite</td>\n",
    "      <td>800</td>\n",
    "    </tr>\n",
    "    <tr>\n",
    "      <td>Gabriela</td>\n",
    "      <td>Personal</td>\n",
    "      <td>1100</td>\n",
    "    </tr>\n",
    "  </tbody>\n",
    "</table>\n",
    "<br>\n",
    "\n",
    "Em seguida o teu par te mandou o restante dos dados e pediu para uní-los enquanto ele puxava os dados complementares. Os dados adicionais estão no arquivo `dados_adicionais.csv`.\n"
   ]
  },
  {
   "cell_type": "code",
   "execution_count": 0,
   "metadata": {
    "application/vnd.databricks.v1+cell": {
     "cellMetadata": {
      "byteLimit": 2048000,
      "rowLimit": 10000
     },
     "inputWidgets": {},
     "nuid": "0796bfdd-4d96-4e09-a119-90a84ceb8b96",
     "showTitle": false,
     "title": ""
    }
   },
   "outputs": [],
   "source": [
    "dados = {\n",
    "    'Name':['A','L','I','T','G'],\t\n",
    "    'Class':['Enterprise','Personal','Enterprise','Elite','Personal'],\t\n",
    "    'InsuranceTotalSpent':[1200, 900, 1500, 800, 1100]\n",
    "}\n",
    "df = pd.DataFrame(dados)\n",
    "\n",
    "dados_add = pd.read_csv('/Workspace/Repos/ada@unimedcampinas.com.br/ADA_classes/DS-PY-Data-Science/DS-PY-004 TÉCNICAS DE PROGRAMAÇÃO I (PY)/Material do Aluno/Aula 5/support_data/dados_adicionais.csv')[['Name','Class','InsuranceTotalSpent']]\n",
    "\n",
    "pd.concat([df, dados_add], ignore_index=True)"
   ]
  },
  {
   "cell_type": "markdown",
   "metadata": {
    "application/vnd.databricks.v1+cell": {
     "cellMetadata": {
      "byteLimit": 2048000,
      "rowLimit": 10000
     },
     "inputWidgets": {},
     "nuid": "89febb3f-6e61-4012-85d1-e7fa5d6846c4",
     "showTitle": false,
     "title": ""
    }
   },
   "source": [
    "2. Após a primeira entrega dos dados, um novo cliente apareceu nas bases de dados e teu superior pediu prioridade para incluir esse estimado cliente nos teus dados. Você se lembrou do 1o caso prático desta aula e pediu os dados do novo cliente para incluí-lo:\n",
    "> Name: Romero F Carvalho\n",
    "<br> Class: Premium\n",
    "<br> InsuranceTotalSpent: 90000"
   ]
  },
  {
   "cell_type": "code",
   "execution_count": 0,
   "metadata": {
    "application/vnd.databricks.v1+cell": {
     "cellMetadata": {
      "byteLimit": 2048000,
      "rowLimit": 10000
     },
     "inputWidgets": {},
     "nuid": "d91a7b5e-006e-4fda-900b-32e54b66b79d",
     "showTitle": false,
     "title": ""
    }
   },
   "outputs": [],
   "source": []
  },
  {
   "cell_type": "markdown",
   "metadata": {
    "application/vnd.databricks.v1+cell": {
     "cellMetadata": {
      "byteLimit": 2048000,
      "rowLimit": 10000
     },
     "inputWidgets": {},
     "nuid": "d5691245-8d9a-40b7-b9fa-b56868d22e4a",
     "showTitle": false,
     "title": ""
    }
   },
   "source": [
    "## Merge\n",
    "Source: Documentation [(+info)](https://pandas.pydata.org/docs/reference/api/pandas.DataFrame.merge.html)"
   ]
  },
  {
   "cell_type": "markdown",
   "metadata": {
    "application/vnd.databricks.v1+cell": {
     "cellMetadata": {
      "byteLimit": 2048000,
      "rowLimit": 10000
     },
     "inputWidgets": {},
     "nuid": "17cdab6a-0f36-4a0f-a155-ca1d301a5da7",
     "showTitle": false,
     "title": ""
    }
   },
   "source": [
    "Muitas vezes queremos buscar dados adicionais de outro DataFrame que possuem algum interligação / relacionamento entre si. \n",
    "\n",
    "Neste caso, utilizamos a função **pandas.merge** (semelhante a operação JOIN do SQL):\n",
    "\n",
    "<img src=\"https://community.qlik.com/legacyfs/online/87693_all-joins.png\" width=450>\n",
    "<br><br>\n",
    "\n",
    ">DataFrame.merge(right, how='inner', on=None, left_on=None, right_on=None, left_index=False, right_index=False, sort=False, suffixes=('_x', '_y'), copy=None, indicator=False, validate=None)\n",
    "<br><br>&ensp;&ensp;&ensp;&ensp;Merge DataFrame or named Series objects with a database-style join.\n",
    "<br><br>&ensp;&ensp;&ensp;&ensp;A named Series object is treated as a DataFrame with a single named column."
   ]
  },
  {
   "cell_type": "markdown",
   "metadata": {
    "application/vnd.databricks.v1+cell": {
     "cellMetadata": {
      "byteLimit": 2048000,
      "rowLimit": 10000
     },
     "inputWidgets": {},
     "nuid": "bbc4464a-e69a-4ed4-9df3-a2bbacdee8ac",
     "showTitle": false,
     "title": ""
    }
   },
   "source": [
    "Podemos juntar as informações de dois DataFrames que se relacionam por chaves (keys) comuns entre si:"
   ]
  },
  {
   "cell_type": "code",
   "execution_count": 0,
   "metadata": {
    "application/vnd.databricks.v1+cell": {
     "cellMetadata": {
      "byteLimit": 2048000,
      "rowLimit": 10000
     },
     "inputWidgets": {},
     "nuid": "306f3454-1323-4c0b-85b4-4c5a532cfff9",
     "showTitle": false,
     "title": ""
    }
   },
   "outputs": [],
   "source": [
    "df_pacientes = pd.DataFrame({'paciente_id': [1, 2, 3], 'idade': [25, 35, 40]})\n",
    "# display(df_pacientes)\n",
    "df_exames = pd.DataFrame({'paciente_id': [1, 2, 4], 'resultado': ['Normal', 'Elevado', 'Ausente']})\n",
    "# display(df_exames)\n",
    "display(df_pacientes.merge(df_exames, on='paciente_id'))"
   ]
  },
  {
   "cell_type": "markdown",
   "metadata": {
    "application/vnd.databricks.v1+cell": {
     "cellMetadata": {
      "byteLimit": 2048000,
      "rowLimit": 10000
     },
     "inputWidgets": {},
     "nuid": "9d5874b9-bfd8-4bbb-80c7-4e4d39d0b839",
     "showTitle": false,
     "title": ""
    }
   },
   "source": [
    "Se quisermos mudar o tipo da união (qual é a união padrão?), utilizamos o parâmetro `how` que aceita os seguintes valores: \n",
    "> how : {‘left’, ‘right’, ‘outer’, ‘inner’, ‘cross’}"
   ]
  },
  {
   "cell_type": "code",
   "execution_count": 0,
   "metadata": {
    "application/vnd.databricks.v1+cell": {
     "cellMetadata": {
      "byteLimit": 2048000,
      "rowLimit": 10000
     },
     "inputWidgets": {},
     "nuid": "5fbcb5c8-8843-41ff-8235-8c0b847559ae",
     "showTitle": false,
     "title": ""
    }
   },
   "outputs": [],
   "source": [
    "df_pacientes = pd.DataFrame({'paciente_id': [1, 2, 3], 'idade': [25, 35, 40]})\n",
    "df_exames = pd.DataFrame({'paciente_id': [1, 2, 4], 'resultado': ['Normal', 'Elevado', 'Ausente']})\n",
    "df_pacientes.merge(df_exames, on='paciente_id', how='outer')"
   ]
  },
  {
   "cell_type": "markdown",
   "metadata": {
    "application/vnd.databricks.v1+cell": {
     "cellMetadata": {
      "byteLimit": 2048000,
      "rowLimit": 10000
     },
     "inputWidgets": {},
     "nuid": "dd680303-b903-4057-803c-4486dc5f5a80",
     "showTitle": false,
     "title": ""
    }
   },
   "source": [
    "Note que, no tipo união `outer`, não há um `paciente_id 4` no `df_pacientes`, por isso não temos a idade dele e, por padrão, nos retorna `NaN`, bem como não temos resultados do exame para o `paciente_id 3`."
   ]
  },
  {
   "cell_type": "markdown",
   "metadata": {
    "application/vnd.databricks.v1+cell": {
     "cellMetadata": {
      "byteLimit": 2048000,
      "rowLimit": 10000
     },
     "inputWidgets": {},
     "nuid": "a0c1a032-8c10-4ba8-8fa5-d9079e5c4aca",
     "showTitle": false,
     "title": ""
    }
   },
   "source": [
    "Caso as colunas-chave não tenham nomes iguais, podemos utilizando os argumentos `left_on` e `right_on`:"
   ]
  },
  {
   "cell_type": "code",
   "execution_count": 0,
   "metadata": {
    "application/vnd.databricks.v1+cell": {
     "cellMetadata": {
      "byteLimit": 2048000,
      "rowLimit": 10000
     },
     "inputWidgets": {},
     "nuid": "b2419e67-c011-4536-a032-15c4e71239c6",
     "showTitle": false,
     "title": ""
    }
   },
   "outputs": [],
   "source": [
    "df_pacientes = pd.DataFrame({'paciente_id': [1, 2, 3], 'idade': [25, 35, 40]})\n",
    "df_exames_outro = pd.DataFrame({'id_pacientes': [1, 2, 4], 'resultado': ['Normal', 'Elevado', 'Ausente']})\n",
    "df_pacientes.merge(df_exames_outro, how='inner', left_on='paciente_id', right_on='id_pacientes')"
   ]
  },
  {
   "cell_type": "markdown",
   "metadata": {
    "application/vnd.databricks.v1+cell": {
     "cellMetadata": {
      "byteLimit": 2048000,
      "rowLimit": 10000
     },
     "inputWidgets": {},
     "nuid": "c06d7c42-774a-4130-9af8-1abbe643fa44",
     "showTitle": false,
     "title": ""
    }
   },
   "source": [
    "Se houver colunas que têm o mesmo nome e não serão chave, podemos diferenciá-los pelos argumento suffixes=('lsuff','rsuff'):"
   ]
  },
  {
   "cell_type": "code",
   "execution_count": 0,
   "metadata": {
    "application/vnd.databricks.v1+cell": {
     "cellMetadata": {
      "byteLimit": 2048000,
      "rowLimit": 10000
     },
     "inputWidgets": {},
     "nuid": "77827992-2a62-4cda-a410-52fd70a8215d",
     "showTitle": false,
     "title": ""
    }
   },
   "outputs": [],
   "source": [
    "df_exames = pd.DataFrame({'paciente_id': [1, 2, 4], 'resultado': ['Normal', 'Elevado', 'Ausente']})\n",
    "df_renovacao_seguro = pd.DataFrame({'paciente_id': [1, 2, 4], 'resultado': ['Aprovado', 'Aprovado', 'Em analise']})\n",
    "#sem suffixes\n",
    "df_exames.merge(df_renovacao_seguro, on='paciente_id', how='inner')\n",
    "\n",
    "#com suffixes\n",
    "df_exames.merge(df_renovacao_seguro, on='paciente_id', how='inner', suffixes=('_tab1','_tab2'))\n"
   ]
  },
  {
   "cell_type": "markdown",
   "metadata": {
    "application/vnd.databricks.v1+cell": {
     "cellMetadata": {
      "byteLimit": 2048000,
      "rowLimit": 10000
     },
     "inputWidgets": {},
     "nuid": "86794bad-d006-4fa9-81f7-7c11479eccdf",
     "showTitle": false,
     "title": ""
    }
   },
   "source": [
    "-----\n",
    "### Hands-on"
   ]
  },
  {
   "cell_type": "markdown",
   "metadata": {
    "application/vnd.databricks.v1+cell": {
     "cellMetadata": {
      "byteLimit": 2048000,
      "rowLimit": 10000
     },
     "inputWidgets": {},
     "nuid": "b82ae6aa-e78b-4868-8e28-8a4c5bb9bfcd",
     "showTitle": false,
     "title": ""
    }
   },
   "source": [
    "1. Teu colega da recepcao pediu os dados das consultas realizadas do arquivo `tab_consultas`. Porém, a tabela não parece conter informações relevantes para um usuário comum. Para resolver isto, uma prática muito comum no SQL é unir tabelas para ter todas as informações em texto, ao invés de códigos.\n",
    "\n",
    "<br> Na pasta 'merge_handsOn' temos 3 csvs que trazem dados dos pacientes, medicos e hospitais. Utilize o merge para identificar todas as informações referentes as consultas realizadas e entregar dados legíveis para o teu colega."
   ]
  },
  {
   "cell_type": "code",
   "execution_count": 0,
   "metadata": {
    "application/vnd.databricks.v1+cell": {
     "cellMetadata": {
      "byteLimit": 2048000,
      "rowLimit": 10000
     },
     "inputWidgets": {},
     "nuid": "6b69e818-1b14-419c-ad40-5faa07262363",
     "showTitle": false,
     "title": ""
    }
   },
   "outputs": [],
   "source": [
    "# read tabelas\n",
    "df_consultas = pd.read_csv('/Workspace/Repos/ada@unimedcampinas.com.br/ADA_classes/DS-PY-Data-Science/DS-PY-004 TÉCNICAS DE PROGRAMAÇÃO I (PY)/Material do Aluno/Aula 5/support_data/merge_handsOn/tab_consultas.csv').drop(columns=['Unnamed: 0'])\n",
    "\n",
    "df_hospitais = pd.read_csv('/Workspace/Repos/ada@unimedcampinas.com.br/ADA_classes/DS-PY-Data-Science/DS-PY-004 TÉCNICAS DE PROGRAMAÇÃO I (PY)/Material do Aluno/Aula 5/support_data/merge_handsOn/tab_hospitais.csv').drop(columns=['Unnamed: 0'])\n",
    "\n",
    "df_medicos = pd.read_csv('/Workspace/Repos/ada@unimedcampinas.com.br/ADA_classes/DS-PY-Data-Science/DS-PY-004 TÉCNICAS DE PROGRAMAÇÃO I (PY)/Material do Aluno/Aula 5/support_data/merge_handsOn/tab_medicos.csv').drop(columns=['Unnamed: 0'])\n",
    "\n",
    "df_pacientes = pd.read_csv('/Workspace/Repos/ada@unimedcampinas.com.br/ADA_classes/DS-PY-Data-Science/DS-PY-004 TÉCNICAS DE PROGRAMAÇÃO I (PY)/Material do Aluno/Aula 5/support_data/merge_handsOn/tab_pacientes.csv').drop(columns=['Unnamed: 0'])\n",
    "\n",
    "# join tabelas\n",
    "merge1 = df_consultas.merge(df_hospitais, on='id_hospital', how='inner')\n",
    "merge2 = merge1.merge(df_pacientes, on='id_paciente', how='inner')\n",
    "df_consultas_com_dados_adicionais = merge2.merge(df_medicos, on='id_medico', how='inner')\n",
    "\n",
    "# mostrar o resultado\n",
    "display(df_consultas_com_dados_adicionais)"
   ]
  },
  {
   "cell_type": "markdown",
   "metadata": {
    "application/vnd.databricks.v1+cell": {
     "cellMetadata": {
      "byteLimit": 2048000,
      "rowLimit": 10000
     },
     "inputWidgets": {},
     "nuid": "23c9c80e-ca3f-42b7-8aa7-30c284c96e18",
     "showTitle": false,
     "title": ""
    }
   },
   "source": [
    "## Groupby\n",
    "Source: Documentation [(+info)](https://pandas.pydata.org/pandas-docs/stable/reference/api/pandas.DataFrame.groupby.html)"
   ]
  },
  {
   "cell_type": "markdown",
   "metadata": {
    "application/vnd.databricks.v1+cell": {
     "cellMetadata": {
      "byteLimit": 2048000,
      "rowLimit": 10000
     },
     "inputWidgets": {},
     "nuid": "dedd3f9b-ebef-414f-99c9-3e933de096f7",
     "showTitle": false,
     "title": ""
    }
   },
   "source": [
    "Muitas vezes, estaremos interessados em aplicar técnicas de agrupamentos de dados, tal como somas ou contagens, aplicados a dados que pertençam ao mesmo grupo. \n",
    "<br><br>Por exemplo: quantas pessoas de <u>cada</u> **departamento** trabalham na empresa XPTO?\n",
    "\n",
    " Para isso, utilizaremos funções como  **DataFrame.groupby()**, semelhante a operação GROUP BY do SQL, e a função [DataFrameGroupBy.agg()](https://pandas.pydata.org/pandas-docs/version/0.22/generated/pandas.core.groupby.DataFrameGroupBy.agg.html), semelhante as opeações de agregamento no SELECT do SQL.\n",
    "\n",
    ">DataFrame.groupby(by=None, axis=_NoDefault.no_default, level=None, as_index=True, sort=True, group_keys=True, observed=_NoDefault.no_default, dropna=True)\n",
    "<br><br>&ensp;&ensp;&ensp;&ensp;Group DataFrame using a mapper or by a Series of columns.\n",
    "<br><br>&ensp;&ensp;&ensp;&ensp;A groupby operation involves some combination of splitting the object, applying a function, and combining the results. This can be used to group large amounts of data and compute operations on these groups."
   ]
  },
  {
   "cell_type": "markdown",
   "metadata": {
    "application/vnd.databricks.v1+cell": {
     "cellMetadata": {
      "byteLimit": 2048000,
      "rowLimit": 10000
     },
     "inputWidgets": {},
     "nuid": "ad209896-528f-4a42-8f6a-b0bbc8a9aa34",
     "showTitle": false,
     "title": ""
    }
   },
   "source": [
    "Sempre que utilizarmos o groupby, normalmente estamos interessados em agrupar os dados e aplicar uma função de agregamento (ex: max):"
   ]
  },
  {
   "cell_type": "code",
   "execution_count": 0,
   "metadata": {
    "application/vnd.databricks.v1+cell": {
     "cellMetadata": {
      "byteLimit": 2048000,
      "rowLimit": 10000
     },
     "inputWidgets": {},
     "nuid": "139dbe56-1e9c-4542-be2e-e707d3651045",
     "showTitle": false,
     "title": ""
    }
   },
   "outputs": [],
   "source": [
    "df = pd.DataFrame({'animal': ['Falcon', 'Falcon', 'Parrot', 'Parrot'],\n",
    "                   'speed': [380., 370., 24., 26.]})\n",
    "\n",
    "# df.groupby(by='animal').agg('max') # todas as colunas exceto o 'by'\n",
    "df.groupby(by='animal')['speed'].agg('max')"
   ]
  },
  {
   "cell_type": "markdown",
   "metadata": {
    "application/vnd.databricks.v1+cell": {
     "cellMetadata": {
      "byteLimit": 2048000,
      "rowLimit": 10000
     },
     "inputWidgets": {},
     "nuid": "c9dba71b-764b-4466-8b5b-a70fdf6f26b2",
     "showTitle": false,
     "title": ""
    }
   },
   "source": [
    "Note que se não dissermos qual é a coluna a ser aplicada a função agg(), é aplicado a todas as colunas:"
   ]
  },
  {
   "cell_type": "code",
   "execution_count": 0,
   "metadata": {
    "application/vnd.databricks.v1+cell": {
     "cellMetadata": {
      "byteLimit": 2048000,
      "rowLimit": 10000
     },
     "inputWidgets": {},
     "nuid": "43bcc3b9-4619-40fb-bec7-a13f588b3f2e",
     "showTitle": false,
     "title": ""
    }
   },
   "outputs": [],
   "source": [
    "df2 = df.copy() #make a copy\n",
    "df2['height'] = [100, 105, 95, 90]  # add new data\n",
    "df.groupby()"
   ]
  },
  {
   "cell_type": "markdown",
   "metadata": {
    "application/vnd.databricks.v1+cell": {
     "cellMetadata": {
      "byteLimit": 2048000,
      "rowLimit": 10000
     },
     "inputWidgets": {},
     "nuid": "1c361adf-d5c1-4ca0-9c67-2668f24a9bb2",
     "showTitle": false,
     "title": ""
    }
   },
   "source": [
    "É possível também aplicar uma função criada, desde que seja aplicada para o mesmo tipo de objeto resultante do groupby:"
   ]
  },
  {
   "cell_type": "code",
   "execution_count": 0,
   "metadata": {
    "application/vnd.databricks.v1+cell": {
     "cellMetadata": {
      "byteLimit": 2048000,
      "rowLimit": 10000
     },
     "inputWidgets": {},
     "nuid": "983c2013-8d46-4cc7-aa48-4b68c574fced",
     "showTitle": false,
     "title": ""
    }
   },
   "outputs": [],
   "source": [
    "def funcao_criada(df_qualquer):\n",
    "    \"\"\"\n",
    "    Funcao que recebe um DataFrame a\n",
    "    diferença entre o valor max e o min\n",
    "    \"\"\"\n",
    "    df_min = df_qualquer.min()\n",
    "    df_max = df_qualquer.max()\n",
    "\n",
    "    return df_max-df_min\n",
    "\n",
    "# df.groupby('animal').agg(func=funcao_criada)    #não tem ()\n",
    "df.groupby('animal').agg(func={'speed': ['max','min',funcao_criada]})    #não tem ()"
   ]
  },
  {
   "cell_type": "markdown",
   "metadata": {
    "application/vnd.databricks.v1+cell": {
     "cellMetadata": {
      "byteLimit": 2048000,
      "rowLimit": 10000
     },
     "inputWidgets": {},
     "nuid": "e13828a0-db64-4daa-be96-96d82ede3fbd",
     "showTitle": false,
     "title": ""
    }
   },
   "source": [
    "Nota: Normalmente, após um groupby, temos um objeto do tipo `DataFrameGroupBy`, que é composto por vários DataFrames ou Series."
   ]
  },
  {
   "cell_type": "code",
   "execution_count": 0,
   "metadata": {
    "application/vnd.databricks.v1+cell": {
     "cellMetadata": {
      "byteLimit": 2048000,
      "rowLimit": 10000
     },
     "inputWidgets": {},
     "nuid": "93885297-5607-4d50-96ae-548238244006",
     "showTitle": false,
     "title": ""
    }
   },
   "outputs": [],
   "source": [
    "df_groupby = df.groupby('animal')\n",
    "print('Tipo da variavel df_grouped:',type(df_groupby))\n",
    "\n",
    "# get one group from groupby\n",
    "for obj_dentro_do_groupby in df_groupby:\n",
    "    print('Objeto dentro do groupby:',obj_dentro_do_groupby) #tuple ('key',valores)\n",
    "    print('Tipo do objeto dentro do groupby:',type(obj_dentro_do_groupby[1])) # (valor: dataframe/series)\n",
    "    break \n",
    "\n",
    "    \n",
    "#     break   # o que acontece se tirar esse`break`?"
   ]
  },
  {
   "cell_type": "markdown",
   "metadata": {
    "application/vnd.databricks.v1+cell": {
     "cellMetadata": {
      "byteLimit": 2048000,
      "rowLimit": 10000
     },
     "inputWidgets": {},
     "nuid": "92035ddc-73a8-47d7-a86f-0ea55052704f",
     "showTitle": false,
     "title": ""
    }
   },
   "source": [
    "-----\n",
    "### Hands-on"
   ]
  },
  {
   "cell_type": "markdown",
   "metadata": {
    "application/vnd.databricks.v1+cell": {
     "cellMetadata": {
      "byteLimit": 2048000,
      "rowLimit": 10000
     },
     "inputWidgets": {},
     "nuid": "b632d300-d076-4803-a6f8-e7fd15f9d86b",
     "showTitle": false,
     "title": ""
    }
   },
   "source": [
    "Vamos analisar os dados de casos de covid no mundo se encontra no caminho: support_data/covid_country_latest.csv Quantos `confirmed_cases` por dia aconteciam no mundo inteiro? Qual foi o dia com maior quantidade de `confirmed_cases` e `deaths`?"
   ]
  },
  {
   "cell_type": "code",
   "execution_count": 0,
   "metadata": {
    "application/vnd.databricks.v1+cell": {
     "cellMetadata": {
      "byteLimit": 2048000,
      "rowLimit": 10000
     },
     "inputWidgets": {},
     "nuid": "454d772d-760d-47b7-a07f-a5193bf8fc5e",
     "showTitle": false,
     "title": ""
    }
   },
   "outputs": [],
   "source": []
  },
  {
   "cell_type": "markdown",
   "metadata": {
    "application/vnd.databricks.v1+cell": {
     "cellMetadata": {
      "byteLimit": 2048000,
      "rowLimit": 10000
     },
     "inputWidgets": {},
     "nuid": "d8f373b9-47db-4d58-a480-bd6a53392d4a",
     "showTitle": false,
     "title": ""
    }
   },
   "source": [
    "<!-- **Desafio**: Vamos tentar quais foram os top 3 registros por páis com mais `deaths`. Comece primeiro com o dataset inteiro:   -->"
   ]
  },
  {
   "cell_type": "code",
   "execution_count": 0,
   "metadata": {
    "application/vnd.databricks.v1+cell": {
     "cellMetadata": {
      "byteLimit": 2048000,
      "rowLimit": 10000
     },
     "inputWidgets": {},
     "nuid": "46eff5ed-acf9-4a9e-9f20-02492307a4d8",
     "showTitle": false,
     "title": ""
    }
   },
   "outputs": [],
   "source": [
    "**PAUSA**"
   ]
  },
  {
   "cell_type": "markdown",
   "metadata": {
    "application/vnd.databricks.v1+cell": {
     "cellMetadata": {
      "byteLimit": 2048000,
      "rowLimit": 10000
     },
     "inputWidgets": {},
     "nuid": "cd3cd16b-7e55-4444-8946-5de2268c7ca2",
     "showTitle": false,
     "title": ""
    }
   },
   "source": [
    "## Pivot\n",
    "Source: Documentation [(+info)](https://pandas.pydata.org/docs/reference/api/pandas.DataFrame.pivot.html)"
   ]
  },
  {
   "cell_type": "markdown",
   "metadata": {
    "application/vnd.databricks.v1+cell": {
     "cellMetadata": {
      "byteLimit": 2048000,
      "rowLimit": 10000
     },
     "inputWidgets": {},
     "nuid": "9a2faf0d-0952-4360-b08c-6958462fa69d",
     "showTitle": false,
     "title": ""
    }
   },
   "source": [
    "Muitos usuários estão mais acostumados a olhar tabelas parecidas com as planilhas de MS Excel, comumente utilizando as tabelas dinâmicas (ou *pivot table* em inglês). Para transformar nossos dados em formatos parecidos com este, utilizamos a função DataFrame.pivot()\n",
    "\n",
    "> DataFrame.pivot(*, columns, index=_NoDefault.no_default, values=_NoDefault.no_default)\n",
    "<br><br>&ensp;&ensp;&ensp;&ensp;Return reshaped DataFrame organized by given index / column values.\n",
    "<br><br>&ensp;&ensp;&ensp;&ensp;Reshape data (produce a “pivot” table) based on column values. Uses unique values from specified index / columns to form axes of the resulting DataFrame. This function does not support data aggregation, multiple values will result in a MultiIndex in the columns. See the User Guide for more on reshaping."
   ]
  },
  {
   "cell_type": "markdown",
   "metadata": {
    "application/vnd.databricks.v1+cell": {
     "cellMetadata": {
      "byteLimit": 2048000,
      "rowLimit": 10000
     },
     "inputWidgets": {},
     "nuid": "c10f16ef-55b8-43ec-a3ec-e51ac7382db0",
     "showTitle": false,
     "title": ""
    }
   },
   "source": [
    "Para realzar o pivot, basta dizer qual(is) a(s) columna(s) para os argumentos:\n",
    "- `index`\n",
    "- `columns` \n",
    "- `values`\n",
    "\n",
    "<!-- `img de um dataset no pivot` -->"
   ]
  },
  {
   "cell_type": "code",
   "execution_count": 0,
   "metadata": {
    "application/vnd.databricks.v1+cell": {
     "cellMetadata": {
      "byteLimit": 2048000,
      "rowLimit": 10000
     },
     "inputWidgets": {},
     "nuid": "146b5ca2-7b8b-4b32-a488-7698438e0d10",
     "showTitle": false,
     "title": ""
    }
   },
   "outputs": [],
   "source": [
    "data = {\n",
    "    'animal': ['Elefante', 'Leão', 'Girafa', 'Tigre', 'Pinguim'],\n",
    "    'habitat': ['Savana', 'Savana', 'Savana', 'Floresta', 'Polo Sul'],\n",
    "    'qtd': [10, 15, 8, 12, 20]\n",
    "}\n",
    "\n",
    "df_animais_habitat = pd.DataFrame(data)\n",
    "\n",
    "display(df_animais_habitat)\n",
    "\n",
    "df_animais_habitat.pivot(index='animal',columns='habitat', values='qtd')"
   ]
  },
  {
   "cell_type": "markdown",
   "metadata": {
    "application/vnd.databricks.v1+cell": {
     "cellMetadata": {
      "byteLimit": 2048000,
      "rowLimit": 10000
     },
     "inputWidgets": {},
     "nuid": "a08f118a-fea6-410d-8fb7-3ef4711a2e3a",
     "showTitle": false,
     "title": ""
    }
   },
   "source": [
    "Nota-se que quando não há valores para uma determinada combinação, por padrão retorna (adivinha?) `NaN`."
   ]
  },
  {
   "cell_type": "markdown",
   "metadata": {
    "application/vnd.databricks.v1+cell": {
     "cellMetadata": {
      "byteLimit": 2048000,
      "rowLimit": 10000
     },
     "inputWidgets": {},
     "nuid": "abf6f33a-b501-44ed-86b3-040a4e45a3f8",
     "showTitle": false,
     "title": ""
    }
   },
   "source": [
    "Caso fosse realizado o mesmo levantamento de antes, mas com novos dados, não seria possível utilizar `pivot()` juntando os dados para ter um resultado somado ao anterior:"
   ]
  },
  {
   "cell_type": "code",
   "execution_count": 0,
   "metadata": {
    "application/vnd.databricks.v1+cell": {
     "cellMetadata": {
      "byteLimit": 2048000,
      "rowLimit": 10000
     },
     "inputWidgets": {},
     "nuid": "6a66da32-d142-44f0-afa6-54120552edf8",
     "showTitle": false,
     "title": ""
    }
   },
   "outputs": [],
   "source": [
    "novos_levantamentos = pd.DataFrame({\n",
    "    'animal': ['Elefante', 'Leão', 'Girafa', 'Tigre', 'Pinguim','Elefante'],\n",
    "    'habitat': ['Savana', 'Savana', 'Savana', 'Floresta', 'Polo Sul','Floresta'],\n",
    "    'qtd': [5, 10, 15, 8, 25, 10]  # Quantidades diferentes, ultimo é novo registro\n",
    "})\n",
    "\n",
    "# adicionando novos_levantamentos\n",
    "new_df = pd.concat([df_animais_habitat, novos_levantamentos])   # o que isto faz mesmo?\n",
    "\n",
    "# display(new_df)\n",
    "\n",
    "new_df.pivot(index='animal',columns='habitat',values='qtd')"
   ]
  },
  {
   "cell_type": "markdown",
   "metadata": {
    "application/vnd.databricks.v1+cell": {
     "cellMetadata": {
      "byteLimit": 2048000,
      "rowLimit": 10000
     },
     "inputWidgets": {},
     "nuid": "1f2d1920-4a5d-4c5f-9cf2-7d17cbc39ed5",
     "showTitle": false,
     "title": ""
    }
   },
   "source": [
    "Isso acontece porque esta função não realiza nenhuma função de agregamento (quais são?) quando temos dados diferentes para a a mesma relação índice-coluna!\n",
    "\n",
    "Nesse caso, devemos utilizar a função DataFrame.pivot_table() com o argumento `aggfunc` com a função de agregamento que queremos.\n",
    "\n",
    "No caso anterior, queríamos somar quando houvesse novos levantamentos para o mesmo grupo, certo?"
   ]
  },
  {
   "cell_type": "code",
   "execution_count": 0,
   "metadata": {
    "application/vnd.databricks.v1+cell": {
     "cellMetadata": {
      "byteLimit": 2048000,
      "rowLimit": 10000
     },
     "inputWidgets": {},
     "nuid": "5be33464-8d51-401f-9f77-737763b80eb4",
     "showTitle": false,
     "title": ""
    }
   },
   "outputs": [],
   "source": [
    "new_df.pivot_table(index='animal', columns='habitat',values='qtd',aggfunc='sum')"
   ]
  },
  {
   "cell_type": "markdown",
   "metadata": {
    "application/vnd.databricks.v1+cell": {
     "cellMetadata": {
      "byteLimit": 2048000,
      "rowLimit": 10000
     },
     "inputWidgets": {},
     "nuid": "7dd19b63-49b2-49c4-9dc2-eb3b6683cc87",
     "showTitle": false,
     "title": ""
    }
   },
   "source": [
    "----\n",
    "### Hands-on"
   ]
  },
  {
   "cell_type": "markdown",
   "metadata": {
    "application/vnd.databricks.v1+cell": {
     "cellMetadata": {
      "byteLimit": 2048000,
      "rowLimit": 10000
     },
     "inputWidgets": {},
     "nuid": "f6a6d7a5-9f3a-4559-a6a8-29b0a70ca1dc",
     "showTitle": false,
     "title": ""
    }
   },
   "source": [
    "Lembra do **caso prático 2** no ínicio da aula? Vamos simular um dataset para efetuar esta tarefa:\n",
    "\n",
    "Durante uma reunião estratégica voltada para a identificação de oportunidades e aprimoramentos com os clientes, Alessandra apresentou à equipe de estratégia os resultados de uma enquete pública realizada no site da Unimed e na rua. Esses resultados incluíam dados pessoais: nome, idade, renda (em salarios mínimos);\n",
    "e resultados da pesquisa: nível de satisfação e recomendação do serviço.\n",
    "\n",
    "No entanto, a equipe enfrentava dificuldades em compreender os insights dos resultados da enquete devido à forma como os dados estavam organizados, já que cada resposta ocupava uma linha e não conseguia visualizar o todo.\n",
    "\n",
    "O que você faria para reestruturar os dados e gerar insights estratégicos mais rapidamente?"
   ]
  },
  {
   "cell_type": "code",
   "execution_count": 0,
   "metadata": {
    "application/vnd.databricks.v1+cell": {
     "cellMetadata": {
      "byteLimit": 2048000,
      "rowLimit": 10000
     },
     "inputWidgets": {},
     "nuid": "0352398b-664e-4695-9198-41afc396972a",
     "showTitle": false,
     "title": ""
    }
   },
   "outputs": [],
   "source": [
    "def simular_resultados_da_pesquisa(nseed:int=42):\n",
    "    \"\"\"\n",
    "    Criando um DataFrame de pesquisa de satisfação.\n",
    "    Retorna um pd.DataFrame\n",
    "    \"\"\"\n",
    "\n",
    "    import numpy as np\n",
    "    np.random.seed(nseed)  # Definindo semente para reprodutibilidade\n",
    "\n",
    "    # Gerando valores para as colunas\n",
    "    num_participantes = 1000\n",
    "    idades = np.arange(16, 81, 8)\n",
    "    rendas = np.arange(1, 11, 1)\n",
    "    satisfacao = np.random.randint(1, 8, size=num_participantes)\n",
    "    recomendacao = np.random.randint(1, 4, size=num_participantes)\n",
    "\n",
    "    # Criando o DataFrame\n",
    "    df_pesquisa = pd.DataFrame({\n",
    "        'id_pesquisa': np.arange(1, num_participantes + 1),\n",
    "        'nome': ['dados omitidos'] * num_participantes,\n",
    "        'idade': np.random.choice(idades, size=num_participantes),\n",
    "        'renda': np.random.choice(rendas, size=num_participantes),\n",
    "        'satisfacao': satisfacao,\n",
    "        'recomendacao': recomendacao\n",
    "    })\n",
    "\n",
    "    return df_pesquisa\n",
    "\n",
    "simular_resultados_da_pesquisa().pivot_table(values='recomendacao',index='idade',columns='renda',aggfunc='mean')"
   ]
  },
  {
   "cell_type": "markdown",
   "metadata": {
    "application/vnd.databricks.v1+cell": {
     "cellMetadata": {
      "byteLimit": 2048000,
      "rowLimit": 10000
     },
     "inputWidgets": {},
     "nuid": "30a996cf-96d4-4afc-b9cc-46268cbffdb1",
     "showTitle": false,
     "title": ""
    }
   },
   "source": [
    "## Melt"
   ]
  },
  {
   "cell_type": "markdown",
   "metadata": {
    "application/vnd.databricks.v1+cell": {
     "cellMetadata": {
      "byteLimit": 2048000,
      "rowLimit": 10000
     },
     "inputWidgets": {},
     "nuid": "3b4f88a9-adc2-4c75-bfc6-aeaf51986854",
     "showTitle": false,
     "title": ""
    }
   },
   "source": [
    "Quando precisamos do oposto ao pivot (unpivot), ou seja, quando alguém nos entrega os dados resultantes de um pivot table feito no MS Excel para ser utilizado em uma análise de dados, utilizamos **DataFrame.melt()**.\n",
    "\n",
    ">DataFrame.melt(id_vars=None, value_vars=None, var_name=None, value_name='value', col_level=None, ignore_index=True)\n",
    "<br><br>&ensp;&ensp;&ensp;&ensp;Unpivot a DataFrame from wide to long format, optionally leaving identifiers set.\n",
    "<br><br>&ensp;&ensp;&ensp;&ensp;This function is useful to reshape a DataFrame into a format where one or more columns are identifier variables (id_vars), while all other columns, considered measured variables (value_vars), are “unpivoted” to the row axis, leaving just two non-identifier columns, ‘variable’ and ‘value’."
   ]
  },
  {
   "cell_type": "markdown",
   "metadata": {
    "application/vnd.databricks.v1+cell": {
     "cellMetadata": {
      "byteLimit": 2048000,
      "rowLimit": 10000
     },
     "inputWidgets": {},
     "nuid": "fda33422-bc00-4e9c-8b95-bcf730f1204f",
     "showTitle": false,
     "title": ""
    }
   },
   "source": [
    "Vamos utilizar os dados pivotados da seção anterior:"
   ]
  },
  {
   "cell_type": "code",
   "execution_count": 0,
   "metadata": {
    "application/vnd.databricks.v1+cell": {
     "cellMetadata": {
      "byteLimit": 2048000,
      "rowLimit": 10000
     },
     "inputWidgets": {},
     "nuid": "501a0a77-d7fd-48ab-9589-3868acff7acf",
     "showTitle": false,
     "title": ""
    }
   },
   "outputs": [],
   "source": [
    "pivot_data = new_df.pivot_table(index='animal',columns='habitat',values='qtd', aggfunc='sum')"
   ]
  },
  {
   "cell_type": "markdown",
   "metadata": {
    "application/vnd.databricks.v1+cell": {
     "cellMetadata": {
      "byteLimit": 2048000,
      "rowLimit": 10000
     },
     "inputWidgets": {},
     "nuid": "fd9d9aa4-edbb-449c-b4b3-292441c85c15",
     "showTitle": false,
     "title": ""
    }
   },
   "source": [
    "Primeiro, vamos olhar como como é o resultado de um pivot_table()"
   ]
  },
  {
   "cell_type": "code",
   "execution_count": 0,
   "metadata": {
    "application/vnd.databricks.v1+cell": {
     "cellMetadata": {
      "byteLimit": 2048000,
      "rowLimit": 10000
     },
     "inputWidgets": {},
     "nuid": "5d2d0b56-f314-4a96-969c-5e20b3820259",
     "showTitle": false,
     "title": ""
    }
   },
   "outputs": [],
   "source": [
    "print('columns:', pivot_data.columns.tolist())\n",
    "print('index:', pivot_data.index.name)\n",
    "display(pivot_data.head())"
   ]
  },
  {
   "cell_type": "markdown",
   "metadata": {
    "application/vnd.databricks.v1+cell": {
     "cellMetadata": {
      "byteLimit": 2048000,
      "rowLimit": 10000
     },
     "inputWidgets": {},
     "nuid": "415a7dc7-d431-47b4-b3f7-ca641a51f9f0",
     "showTitle": false,
     "title": ""
    }
   },
   "source": [
    "Meu id_vars (olha os args do melt) ideal são os dados que estão no `index`, que eu não consigo acessar pelos `['']` porque não é uma coluna (olhar e comparar os dados do exemplo na documentação)."
   ]
  },
  {
   "cell_type": "code",
   "execution_count": 0,
   "metadata": {
    "application/vnd.databricks.v1+cell": {
     "cellMetadata": {
      "byteLimit": 2048000,
      "rowLimit": 10000
     },
     "inputWidgets": {},
     "nuid": "11ed3b27-876c-43ae-bfae-f994355ff349",
     "showTitle": false,
     "title": ""
    }
   },
   "outputs": [],
   "source": [
    "#nao consigo acessar os indices aqui:\n",
    "pivot_data['animal'] #erro!"
   ]
  },
  {
   "cell_type": "markdown",
   "metadata": {
    "application/vnd.databricks.v1+cell": {
     "cellMetadata": {
      "byteLimit": 2048000,
      "rowLimit": 10000
     },
     "inputWidgets": {},
     "nuid": "22f3d657-36aa-4540-8cef-efadb331a42a",
     "showTitle": false,
     "title": ""
    }
   },
   "source": [
    "Portanto, uma forma de obter esses dados é fazer com que o índice vire uma coluna do DataFrame:"
   ]
  },
  {
   "cell_type": "code",
   "execution_count": 0,
   "metadata": {
    "application/vnd.databricks.v1+cell": {
     "cellMetadata": {
      "byteLimit": 2048000,
      "rowLimit": 10000
     },
     "inputWidgets": {},
     "nuid": "4b971c5b-8a3e-4f99-ab54-e77a71eebf33",
     "showTitle": false,
     "title": ""
    }
   },
   "outputs": [],
   "source": [
    "# pivot_data.reset_index()['animal']   # faz com que o indice comece do 0, além disso, transforma o indíce anterior em coluna"
   ]
  },
  {
   "cell_type": "code",
   "execution_count": 0,
   "metadata": {
    "application/vnd.databricks.v1+cell": {
     "cellMetadata": {
      "byteLimit": 2048000,
      "rowLimit": 10000
     },
     "inputWidgets": {},
     "nuid": "658d6ae5-4bf4-4047-8287-6f33d9862a5b",
     "showTitle": false,
     "title": ""
    }
   },
   "outputs": [],
   "source": [
    "pivot_data.reset_index().melt(id_vars='animal',value_vars=['Floresta','Polo Sul','Savana'])"
   ]
  }
 ],
 "metadata": {
  "application/vnd.databricks.v1+notebook": {
   "dashboards": [],
   "language": "python",
   "notebookMetadata": {
    "pythonIndentUnit": 4
   },
   "notebookName": "Aula5_Pandas-Processar_Dados_aluno",
   "widgets": {}
  },
  "kernelspec": {
   "display_name": "base",
   "language": "python",
   "name": "python3"
  },
  "language_info": {
   "codemirror_mode": {
    "name": "ipython",
    "version": 3
   },
   "file_extension": ".py",
   "mimetype": "text/x-python",
   "name": "python",
   "nbconvert_exporter": "python",
   "pygments_lexer": "ipython3",
   "version": "3.10.9"
  }
 },
 "nbformat": 4,
 "nbformat_minor": 0
}
