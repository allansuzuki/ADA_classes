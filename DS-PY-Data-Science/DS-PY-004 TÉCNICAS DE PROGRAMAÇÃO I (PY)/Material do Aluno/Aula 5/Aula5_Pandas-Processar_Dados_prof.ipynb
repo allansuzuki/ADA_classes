{
 "cells": [
  {
   "cell_type": "markdown",
   "metadata": {},
   "source": [
    "# PANDAS - Processamento de dados\n",
    "[Guia do pandas](https://pandas.pydata.org/docs/user_guide/index.html#user-guide)\n",
    "____\n",
    "\n",
    "Dúvidas?\n",
    "* Romero Carvalho: romerofcarvalho (discord)\n",
    "* Allan Suzuki: allansuzuki (discord)"
   ]
  },
  {
   "cell_type": "code",
   "execution_count": 12,
   "metadata": {},
   "outputs": [],
   "source": [
    "#imports \n",
    "import pandas as pd\n",
    "import numpy as np\n",
    "\n",
    "def pegar_alguem():\n",
    "    text_alunos = \"\"\"Allan Bernard Da Silva\n",
    "\n",
    "André Rafael Pereira\n",
    "\n",
    "Bruno Martins Do Nascimento\n",
    "\n",
    "Caique Antonio Russo\n",
    "\n",
    "Daniel Alves Da Silva\n",
    "\n",
    "Diego Fernandes Couto\n",
    "\n",
    "Ezequias Santos Lima\n",
    "\n",
    "Guilherme Corgos\n",
    "\n",
    "Hainati Antunes De Souza\n",
    "\n",
    "Halyson Da Silva Sander\n",
    "\n",
    "Isabele Barbosa\n",
    "\n",
    "Jennefe Morais Da Silva\n",
    "\n",
    "Joabe Natan Cicero Lazzarini\n",
    "\n",
    "Jonnata Monteiro Da Silva\n",
    "\n",
    "Kássia Santos\n",
    "\n",
    "Leonardo Nyari De Matos Pereira\n",
    "\n",
    "Lilian Cristine Setto\n",
    "\n",
    "Mateus Silva Santos\n",
    "\n",
    "Milton Alves De Souza Neto\n",
    "\n",
    "Rafael Francisco\n",
    "\n",
    "Rafael Mendes Oliveira\n",
    "\n",
    "Rodrigo Martins De Oliveira\n",
    "\n",
    "Rodrigo Michel Xavier\n",
    "\n",
    "Samuel Rodrigues De Freitas\n",
    "\n",
    "Taynan Candido Quitério\n",
    "\n",
    "Thabata Pinke Grangieri\n",
    "\n",
    "Thiago Fernandes Rosa\n",
    "\n",
    "Thiago Oliveira Da Rosa\n",
    "\n",
    "Vinícius Alberto Camargo Teles\n",
    "\n",
    "Ítalo Monteiro\"\"\"\n",
    "    alunos = text_alunos.split('\\n\\n')\n",
    "    return np.random.choice(alunos,1)[0]\n",
    "\n"
   ]
  },
  {
   "cell_type": "markdown",
   "metadata": {},
   "source": [
    "# Topicos\n",
    "1. [Caso prático](#caso-pratico)\n",
    "2. [O que vamos aprender?](#o-que-vamos-aprender)\n",
    "3. [Exercícios](#exer)"
   ]
  },
  {
   "cell_type": "markdown",
   "metadata": {},
   "source": [
    "Caso prático - 10m  (5min em cada)\n",
    "<br>Concat + merge      (1h)\n",
    "<br>Pivot + melt        (1h)\n",
    "<br>Exercícios          (1h) "
   ]
  },
  {
   "cell_type": "markdown",
   "metadata": {},
   "source": [
    "# Caso prático <div id=\"caso-pratico\">"
   ]
  },
  {
   "cell_type": "markdown",
   "metadata": {},
   "source": [
    "## Caso 1"
   ]
  },
  {
   "cell_type": "markdown",
   "metadata": {},
   "source": [
    "Vamos considerar uma situação com dados relacionados a clientes, médicos, consultas e procedimentos médicos, cada um armazenado em tabelas separadas. Durante a análise dos dados de clientes e médicos, notamos que algumas informações não estão atualizadas. **O desafio** é que extrair todos os dados novamente levaria bastante tempo de processamento.\n",
    "\n",
    "<!-- `imagem aqui para ilustrar a falta de dados dessas tabelas` -->\n",
    "\n",
    "O que você faria para solucionar este problema?\n",
    "\n",
    "<!--- tempo de espera para ver como resolver --->"
   ]
  },
  {
   "cell_type": "markdown",
   "metadata": {},
   "source": [
    "**SOLUÇÃO**:<!-- Diante dessa questão, a equipe decidiu adotar uma abordagem mais prática: em vez de recarregar todos os dados, a ideia é identificar **apenas** as informações que estão faltando e adicioná-las aos dados desatualizados. -->"
   ]
  },
  {
   "cell_type": "markdown",
   "metadata": {},
   "source": [
    "## Caso 2"
   ]
  },
  {
   "cell_type": "markdown",
   "metadata": {},
   "source": [
    "Durante uma reunião estratégica voltada para a identificação de oportunidades e aprimoramentos com os clientes, Alessandra apresentou à equipe de estratégia os resultados de uma enquete pública realizada no site da Unimed e na rua. Esses resultados incluíam dados demográficos (endereço, cidade, estado) e socioeconômicos (renda familiar, tamanho da família, qualidade de vida), bem como a opinião dos participantes em relação à Unimed de 1 a 5, variando de muito ruim a muito bom. No entanto, a equipe enfrentava dificuldades em compreender os insights dos resultados da enquete devido à forma como os dados estavam organizados, já que cada resposta ocupava uma linha e não conseguia visualizar o todo.\n",
    "\n",
    "<table border=\"1\" class=\"dataframe\">\n",
    "  <thead>\n",
    "    <tr style=\"text-align: right;\">\n",
    "      <th></th>\n",
    "      <th>id_pesquisa</th>\n",
    "      <th>nome</th>\n",
    "      <th>idade</th>\n",
    "      <th>renda</th>\n",
    "      <th>satisfacao</th>\n",
    "      <th>recomendacao</th>\n",
    "    </tr>\n",
    "  </thead>\n",
    "  <tbody>\n",
    "    <tr>\n",
    "      <th>0</th>\n",
    "      <td>1</td>\n",
    "      <td>dados omitidos</td>\n",
    "      <td>40</td>\n",
    "      <td>6</td>\n",
    "      <td>7</td>\n",
    "      <td>3</td>\n",
    "    </tr>\n",
    "    <tr>\n",
    "      <th>1</th>\n",
    "      <td>2</td>\n",
    "      <td>dados omitidos</td>\n",
    "      <td>56</td>\n",
    "      <td>7</td>\n",
    "      <td>4</td>\n",
    "      <td>2</td>\n",
    "    </tr>\n",
    "    <tr>\n",
    "      <th>2</th>\n",
    "      <td>3</td>\n",
    "      <td>dados omitidos</td>\n",
    "      <td>32</td>\n",
    "      <td>4</td>\n",
    "      <td>5</td>\n",
    "      <td>3</td>\n",
    "    </tr>\n",
    "    <tr>\n",
    "      <th>3</th>\n",
    "      <td>4</td>\n",
    "      <td>dados omitidos</td>\n",
    "      <td>16</td>\n",
    "      <td>7</td>\n",
    "      <td>7</td>\n",
    "      <td>1</td>\n",
    "    </tr>\n",
    "    <tr>\n",
    "      <th>4</th>\n",
    "      <td>5</td>\n",
    "      <td>dados omitidos</td>\n",
    "      <td>72</td>\n",
    "      <td>9</td>\n",
    "      <td>3</td>\n",
    "      <td>1</td>\n",
    "    </tr>\n",
    "    <tr>\n",
    "      <th>5</th>\n",
    "      <td>6</td>\n",
    "      <td>dados omitidos</td>\n",
    "      <td>48</td>\n",
    "      <td>2</td>\n",
    "      <td>5</td>\n",
    "      <td>1</td>\n",
    "    </tr>\n",
    "    <tr>\n",
    "      <th>6</th>\n",
    "      <td>7</td>\n",
    "      <td>dados omitidos</td>\n",
    "      <td>48</td>\n",
    "      <td>3</td>\n",
    "      <td>5</td>\n",
    "      <td>2</td>\n",
    "    </tr>\n",
    "    <tr>\n",
    "      <th>7</th>\n",
    "      <td>8</td>\n",
    "      <td>dados omitidos</td>\n",
    "      <td>40</td>\n",
    "      <td>5</td>\n",
    "      <td>7</td>\n",
    "      <td>1</td>\n",
    "    </tr>\n",
    "    <tr>\n",
    "      <th>8</th>\n",
    "      <td>9</td>\n",
    "      <td>dados omitidos</td>\n",
    "      <td>56</td>\n",
    "      <td>3</td>\n",
    "      <td>2</td>\n",
    "      <td>2</td>\n",
    "    </tr>\n",
    "    <tr>\n",
    "      <th>9</th>\n",
    "      <td>10</td>\n",
    "      <td>dados omitidos</td>\n",
    "      <td>32</td>\n",
    "      <td>8</td>\n",
    "      <td>3</td>\n",
    "      <td>1</td>\n",
    "    </tr>\n",
    "    <tr>\n",
    "      <th>10</th>\n",
    "      <td>11</td>\n",
    "      <td>dados omitidos</td>\n",
    "      <td>80</td>\n",
    "      <td>10</td>\n",
    "      <td>7</td>\n",
    "      <td>1</td>\n",
    "    </tr>\n",
    "    <tr>\n",
    "      <th>11</th>\n",
    "      <td>12</td>\n",
    "      <td>dados omitidos</td>\n",
    "      <td>48</td>\n",
    "      <td>8</td>\n",
    "      <td>3</td>\n",
    "      <td>2</td>\n",
    "    </tr>\n",
    "    <tr>\n",
    "      <th>12</th>\n",
    "      <td>13</td>\n",
    "      <td>dados omitidos</td>\n",
    "      <td>32</td>\n",
    "      <td>8</td>\n",
    "      <td>3</td>\n",
    "      <td>2</td>\n",
    "    </tr>\n",
    "    <tr>\n",
    "      <th>13</th>\n",
    "      <td>14</td>\n",
    "      <td>dados omitidos</td>\n",
    "      <td>16</td>\n",
    "      <td>9</td>\n",
    "      <td>5</td>\n",
    "      <td>1</td>\n",
    "    </tr>\n",
    "    <tr>\n",
    "      <th>14</th>\n",
    "      <td>15</td>\n",
    "      <td>dados omitidos</td>\n",
    "      <td>56</td>\n",
    "      <td>4</td>\n",
    "      <td>4</td>\n",
    "      <td>2</td>\n",
    "    </tr>\n",
    "    <tr>\n",
    "      <th>15</th>\n",
    "      <td>16</td>\n",
    "      <td>dados omitidos</td>\n",
    "      <td>24</td>\n",
    "      <td>5</td>\n",
    "      <td>3</td>\n",
    "      <td>1</td>\n",
    "    </tr>\n",
    "    <tr>\n",
    "      <th>16</th>\n",
    "      <td>17</td>\n",
    "      <td>dados omitidos</td>\n",
    "      <td>32</td>\n",
    "      <td>5</td>\n",
    "      <td>6</td>\n",
    "      <td>2</td>\n",
    "    </tr>\n",
    "    <tr>\n",
    "      <th>17</th>\n",
    "      <td>18</td>\n",
    "      <td>dados omitidos</td>\n",
    "      <td>16</td>\n",
    "      <td>8</td>\n",
    "      <td>5</td>\n",
    "      <td>3</td>\n",
    "    </tr>\n",
    "    <tr>\n",
    "      <th>18</th>\n",
    "      <td>19</td>\n",
    "      <td>dados omitidos</td>\n",
    "      <td>80</td>\n",
    "      <td>7</td>\n",
    "      <td>2</td>\n",
    "      <td>3</td>\n",
    "    </tr>\n",
    "    <tr>\n",
    "      <th>19</th>\n",
    "      <td>20</td>\n",
    "      <td>dados omitidos</td>\n",
    "      <td>72</td>\n",
    "      <td>9</td>\n",
    "      <td>4</td>\n",
    "      <td>3</td>\n",
    "    </tr>\n",
    "    <tr>\n",
    "      <th>20</th>\n",
    "      <td>21</td>\n",
    "      <td>dados omitidos</td>\n",
    "      <td>24</td>\n",
    "      <td>8</td>\n",
    "      <td>6</td>\n",
    "      <td>3</td>\n",
    "    </tr>\n",
    "</table>\n",
    "\n",
    "O que você faria para reestruturar os dados e gerar insights estratégicos mais rapidamente?"
   ]
  },
  {
   "cell_type": "markdown",
   "metadata": {},
   "source": [
    "**SOLUÇÃO**:<!-- Uma solução eficaz seria reorganizar os dados, pivotando os dados para categorizar por classes socioeconômicas e regiões demográficas. Essa abordagem permitiria visualizar os resultados agregados da opinião pública de maneira mais clara e compreensível. Ao adotar uma perspectiva semelhante à funcionalidade Pivot Table do Excel, a equipe estaria mais familiarizada e apta a extrair insights significativos de maneira mais rápida e eficiente. -->"
   ]
  },
  {
   "cell_type": "markdown",
   "metadata": {},
   "source": [
    "# O que vamos aprender? <div id=\"o-que-vamos-aprender\">"
   ]
  },
  {
   "cell_type": "markdown",
   "metadata": {},
   "source": [
    "* [Concat](#Concat)\n",
    "* [Merge](#Merge)\n",
    "* [Groupby](#groupby)\n",
    "* [Pivot](#Pivot)\n",
    "* [Melt](#Melt)"
   ]
  },
  {
   "cell_type": "markdown",
   "metadata": {},
   "source": [
    "## Até onde chegamos"
   ]
  },
  {
   "cell_type": "markdown",
   "metadata": {},
   "source": [
    "&ensp;<img src=\"./img/recap_lecture.png\" alt=\"create_notebook\" width=\"400\"/>\n",
    "\n",
    "Aprendemos a trabalhar com diversas funções para:\n",
    "1. carregar dados vindo de fontes externas;\n",
    "2. localizar dados específicos;\n",
    "3. realizar cálculos;\n",
    "4. salvar os dados em outro tipo de arquivo.\n",
    "\n",
    "Perceba que para aplicar cada uma dessas funções, somente é necessário UM único dataframe."
   ]
  },
  {
   "cell_type": "markdown",
   "metadata": {},
   "source": [
    "## Até onde vamos chegar (com este módulo)"
   ]
  },
  {
   "cell_type": "markdown",
   "metadata": {},
   "source": [
    "&ensp;<img src=\"./img/lecture_target.png\" alt=\"lecture_target\" width=\"400\"/>\n",
    "\n",
    "Neste módulo vamos conseguir realizar uniões/manipulações entre duas ou mais dataframes ou estruturar um dataframe para outra forma (tal como os dois casos que vimos no começo do módulo)."
   ]
  },
  {
   "cell_type": "markdown",
   "metadata": {},
   "source": [
    "## Concat \n",
    "Source: Documentation [(+info)](https://pandas.pydata.org/docs/reference/api/pandas.concat.html)"
   ]
  },
  {
   "cell_type": "markdown",
   "metadata": {},
   "source": [
    "As vezes, é preciso um novo conjunto de dados a partir de união de outros dados/tabelas. \n",
    "\n",
    "No caso, quando queremos concatenar/unir/empilhar dados num determinado eixo (lembra-se do que significa eixo em DataFrames?), utilizamos a função **pandas.concat** (semelhante a operação UNION do SQL):\n",
    "\n",
    ">pandas.concat(objs, *, axis=0, join='outer', ignore_index=False, keys=None, levels=None, names=None, verify_integrity=False, sort=False, copy=None)\n",
    "<br>&ensp;&ensp;&ensp;&ensp;Concatenate pandas objects along a particular axis.\n",
    "<br><br>&ensp;&ensp;&ensp;&ensp;Allows optional set logic along the other axes\n",
    "<br><br>&ensp;&ensp;&ensp;&ensp;Can also add a layer of hierarchical indexing on the concatenation axis, which may be useful if the labels are the same (or overlapping) on the passed axis number."
   ]
  },
  {
   "cell_type": "markdown",
   "metadata": {},
   "source": [
    "É possível combinar duas séries:"
   ]
  },
  {
   "cell_type": "code",
   "execution_count": 14,
   "metadata": {},
   "outputs": [
    {
     "data": {
      "text/plain": [
       "0    a\n",
       "1    b\n",
       "0    c\n",
       "1    d\n",
       "dtype: object"
      ]
     },
     "execution_count": 14,
     "metadata": {},
     "output_type": "execute_result"
    }
   ],
   "source": [
    "s1 = pd.Series(['a', 'b'])\n",
    "s2 = pd.Series(['c', 'd'])\n",
    "pd.concat([s1, s2])"
   ]
  },
  {
   "cell_type": "markdown",
   "metadata": {},
   "source": [
    "Bem como combinar dois DataFrames com as mesmas colunas:"
   ]
  },
  {
   "cell_type": "code",
   "execution_count": 15,
   "metadata": {},
   "outputs": [
    {
     "data": {
      "text/html": [
       "<div>\n",
       "<style scoped>\n",
       "    .dataframe tbody tr th:only-of-type {\n",
       "        vertical-align: middle;\n",
       "    }\n",
       "\n",
       "    .dataframe tbody tr th {\n",
       "        vertical-align: top;\n",
       "    }\n",
       "\n",
       "    .dataframe thead th {\n",
       "        text-align: right;\n",
       "    }\n",
       "</style>\n",
       "<table border=\"1\" class=\"dataframe\">\n",
       "  <thead>\n",
       "    <tr style=\"text-align: right;\">\n",
       "      <th></th>\n",
       "      <th>letter</th>\n",
       "      <th>number</th>\n",
       "    </tr>\n",
       "  </thead>\n",
       "  <tbody>\n",
       "    <tr>\n",
       "      <th>0</th>\n",
       "      <td>a</td>\n",
       "      <td>1</td>\n",
       "    </tr>\n",
       "    <tr>\n",
       "      <th>1</th>\n",
       "      <td>b</td>\n",
       "      <td>2</td>\n",
       "    </tr>\n",
       "    <tr>\n",
       "      <th>0</th>\n",
       "      <td>c</td>\n",
       "      <td>3</td>\n",
       "    </tr>\n",
       "    <tr>\n",
       "      <th>1</th>\n",
       "      <td>d</td>\n",
       "      <td>4</td>\n",
       "    </tr>\n",
       "  </tbody>\n",
       "</table>\n",
       "</div>"
      ],
      "text/plain": [
       "  letter  number\n",
       "0      a       1\n",
       "1      b       2\n",
       "0      c       3\n",
       "1      d       4"
      ]
     },
     "execution_count": 15,
     "metadata": {},
     "output_type": "execute_result"
    }
   ],
   "source": [
    "df1 = pd.DataFrame([['a', 1], ['b', 2]], columns=['letter', 'number'])\n",
    "df2 = pd.DataFrame([['c', 3], ['d', 4]], columns=['letter', 'number'])\n",
    "pd.concat([df1, df2])"
   ]
  },
  {
   "cell_type": "markdown",
   "metadata": {},
   "source": [
    "Porém, combinar dois DataFrames que possuem diferentes colunas retorna valores **NaN** (o que é isto mesmo?):"
   ]
  },
  {
   "cell_type": "code",
   "execution_count": 16,
   "metadata": {},
   "outputs": [
    {
     "data": {
      "text/html": [
       "<div>\n",
       "<style scoped>\n",
       "    .dataframe tbody tr th:only-of-type {\n",
       "        vertical-align: middle;\n",
       "    }\n",
       "\n",
       "    .dataframe tbody tr th {\n",
       "        vertical-align: top;\n",
       "    }\n",
       "\n",
       "    .dataframe thead th {\n",
       "        text-align: right;\n",
       "    }\n",
       "</style>\n",
       "<table border=\"1\" class=\"dataframe\">\n",
       "  <thead>\n",
       "    <tr style=\"text-align: right;\">\n",
       "      <th></th>\n",
       "      <th>letter</th>\n",
       "      <th>number</th>\n",
       "      <th>animal</th>\n",
       "    </tr>\n",
       "  </thead>\n",
       "  <tbody>\n",
       "    <tr>\n",
       "      <th>0</th>\n",
       "      <td>a</td>\n",
       "      <td>1</td>\n",
       "      <td>NaN</td>\n",
       "    </tr>\n",
       "    <tr>\n",
       "      <th>1</th>\n",
       "      <td>b</td>\n",
       "      <td>2</td>\n",
       "      <td>NaN</td>\n",
       "    </tr>\n",
       "    <tr>\n",
       "      <th>0</th>\n",
       "      <td>c</td>\n",
       "      <td>3</td>\n",
       "      <td>cat</td>\n",
       "    </tr>\n",
       "    <tr>\n",
       "      <th>1</th>\n",
       "      <td>d</td>\n",
       "      <td>4</td>\n",
       "      <td>dog</td>\n",
       "    </tr>\n",
       "  </tbody>\n",
       "</table>\n",
       "</div>"
      ],
      "text/plain": [
       "  letter  number animal\n",
       "0      a       1    NaN\n",
       "1      b       2    NaN\n",
       "0      c       3    cat\n",
       "1      d       4    dog"
      ]
     },
     "execution_count": 16,
     "metadata": {},
     "output_type": "execute_result"
    }
   ],
   "source": [
    "df1 = pd.DataFrame([['a', 1], ['b', 2]], columns=['letter', 'number'])\n",
    "df2 = pd.DataFrame([['c', 3], ['d', 4]], columns=['letter', 'number'])\n",
    "df3 = pd.DataFrame([['c', 3, 'cat'], ['d', 4, 'dog']], columns=['letter', 'number', 'animal']) # one more column\n",
    "pd.concat([df1, df3])"
   ]
  },
  {
   "cell_type": "markdown",
   "metadata": {},
   "source": [
    "É possível resetar os índices com o argumento `ignore_index=True`, quando os índices originais não são importantes."
   ]
  },
  {
   "cell_type": "code",
   "execution_count": 18,
   "metadata": {},
   "outputs": [
    {
     "data": {
      "text/html": [
       "<div>\n",
       "<style scoped>\n",
       "    .dataframe tbody tr th:only-of-type {\n",
       "        vertical-align: middle;\n",
       "    }\n",
       "\n",
       "    .dataframe tbody tr th {\n",
       "        vertical-align: top;\n",
       "    }\n",
       "\n",
       "    .dataframe thead th {\n",
       "        text-align: right;\n",
       "    }\n",
       "</style>\n",
       "<table border=\"1\" class=\"dataframe\">\n",
       "  <thead>\n",
       "    <tr style=\"text-align: right;\">\n",
       "      <th></th>\n",
       "      <th>letter</th>\n",
       "      <th>number</th>\n",
       "    </tr>\n",
       "  </thead>\n",
       "  <tbody>\n",
       "    <tr>\n",
       "      <th>0</th>\n",
       "      <td>a</td>\n",
       "      <td>1</td>\n",
       "    </tr>\n",
       "    <tr>\n",
       "      <th>1</th>\n",
       "      <td>b</td>\n",
       "      <td>2</td>\n",
       "    </tr>\n",
       "    <tr>\n",
       "      <th>2</th>\n",
       "      <td>c</td>\n",
       "      <td>3</td>\n",
       "    </tr>\n",
       "    <tr>\n",
       "      <th>3</th>\n",
       "      <td>d</td>\n",
       "      <td>4</td>\n",
       "    </tr>\n",
       "  </tbody>\n",
       "</table>\n",
       "</div>"
      ],
      "text/plain": [
       "  letter  number\n",
       "0      a       1\n",
       "1      b       2\n",
       "2      c       3\n",
       "3      d       4"
      ]
     },
     "execution_count": 18,
     "metadata": {},
     "output_type": "execute_result"
    }
   ],
   "source": [
    "df1 = pd.DataFrame([['a', 1], ['b', 2]], columns=['letter', 'number'])\n",
    "df2 = pd.DataFrame([['c', 3], ['d', 4]], columns=['letter', 'number'])\n",
    "pd.concat([df1, df2], ignore_index=True)"
   ]
  },
  {
   "cell_type": "markdown",
   "metadata": {},
   "source": [
    "Também é possível combinar os DataFrames pelos índices (ao invés das colunas) utilizando o argumento `axis=1`"
   ]
  },
  {
   "cell_type": "code",
   "execution_count": 19,
   "metadata": {},
   "outputs": [
    {
     "data": {
      "text/html": [
       "<div>\n",
       "<style scoped>\n",
       "    .dataframe tbody tr th:only-of-type {\n",
       "        vertical-align: middle;\n",
       "    }\n",
       "\n",
       "    .dataframe tbody tr th {\n",
       "        vertical-align: top;\n",
       "    }\n",
       "\n",
       "    .dataframe thead th {\n",
       "        text-align: right;\n",
       "    }\n",
       "</style>\n",
       "<table border=\"1\" class=\"dataframe\">\n",
       "  <thead>\n",
       "    <tr style=\"text-align: right;\">\n",
       "      <th></th>\n",
       "      <th>letter</th>\n",
       "      <th>number</th>\n",
       "      <th>animal</th>\n",
       "      <th>name</th>\n",
       "    </tr>\n",
       "  </thead>\n",
       "  <tbody>\n",
       "    <tr>\n",
       "      <th>0</th>\n",
       "      <td>a</td>\n",
       "      <td>1</td>\n",
       "      <td>bird</td>\n",
       "      <td>polly</td>\n",
       "    </tr>\n",
       "    <tr>\n",
       "      <th>1</th>\n",
       "      <td>b</td>\n",
       "      <td>2</td>\n",
       "      <td>monkey</td>\n",
       "      <td>george</td>\n",
       "    </tr>\n",
       "  </tbody>\n",
       "</table>\n",
       "</div>"
      ],
      "text/plain": [
       "  letter  number  animal    name\n",
       "0      a       1    bird   polly\n",
       "1      b       2  monkey  george"
      ]
     },
     "execution_count": 19,
     "metadata": {},
     "output_type": "execute_result"
    }
   ],
   "source": [
    "df4 = pd.DataFrame([['bird', 'polly'], ['monkey', 'george']], columns=['animal', 'name']) # new columns\n",
    "pd.concat([df1,df4], axis=1)"
   ]
  },
  {
   "cell_type": "markdown",
   "metadata": {},
   "source": [
    "Por fim, também é possível adicionar uma linha a um DataFrame, se a série tiver índices iguais as colunas do DataFrame."
   ]
  },
  {
   "cell_type": "code",
   "execution_count": 27,
   "metadata": {},
   "outputs": [
    {
     "data": {
      "text/html": [
       "<div>\n",
       "<style scoped>\n",
       "    .dataframe tbody tr th:only-of-type {\n",
       "        vertical-align: middle;\n",
       "    }\n",
       "\n",
       "    .dataframe tbody tr th {\n",
       "        vertical-align: top;\n",
       "    }\n",
       "\n",
       "    .dataframe thead th {\n",
       "        text-align: right;\n",
       "    }\n",
       "</style>\n",
       "<table border=\"1\" class=\"dataframe\">\n",
       "  <thead>\n",
       "    <tr style=\"text-align: right;\">\n",
       "      <th></th>\n",
       "      <th>letter</th>\n",
       "      <th>number</th>\n",
       "    </tr>\n",
       "  </thead>\n",
       "  <tbody>\n",
       "    <tr>\n",
       "      <th>0</th>\n",
       "      <td>a</td>\n",
       "      <td>1</td>\n",
       "    </tr>\n",
       "    <tr>\n",
       "      <th>1</th>\n",
       "      <td>b</td>\n",
       "      <td>2</td>\n",
       "    </tr>\n",
       "    <tr>\n",
       "      <th>0</th>\n",
       "      <td>z</td>\n",
       "      <td>111</td>\n",
       "    </tr>\n",
       "  </tbody>\n",
       "</table>\n",
       "</div>"
      ],
      "text/plain": [
       "  letter number\n",
       "0      a      1\n",
       "1      b      2\n",
       "0      z    111"
      ]
     },
     "execution_count": 27,
     "metadata": {},
     "output_type": "execute_result"
    }
   ],
   "source": [
    "# nova_linha = pd.Series({'letter': 'z', 'number': 111})\n",
    "# pd.concat([df1,nova_linha.to_frame().T])"
   ]
  },
  {
   "cell_type": "markdown",
   "metadata": {},
   "source": [
    "-----\n",
    "### Hands-on"
   ]
  },
  {
   "cell_type": "markdown",
   "metadata": {},
   "source": [
    "1. Você tem uma tarefa de criar um DataFrame no seguinte formato:\n",
    "<br>\n",
    "<br>\n",
    "<table border=\"1\" class=\"dataframe\">\n",
    "  <thead>\n",
    "    <tr style=\"text-align: right;\">\n",
    "      <th>Name</th>\n",
    "      <th>Class</th>\n",
    "      <th>InsuranceTotalSpent</th>\n",
    "    </tr>\n",
    "  </thead>\n",
    "  <tbody>\n",
    "    <tr>\n",
    "      <td>Ana</td>\n",
    "      <td>Enterprise</td>\n",
    "      <td>1200</td>\n",
    "    </tr>\n",
    "    <tr>\n",
    "      <td>Lucas</td>\n",
    "      <td>Personal</td>\n",
    "      <td>900</td>\n",
    "    </tr>\n",
    "    <tr>\n",
    "      <td>Isabella</td>\n",
    "      <td>Enterprise</td>\n",
    "      <td>1500</td>\n",
    "    </tr>\n",
    "    <tr>\n",
    "      <td>Thiago</td>\n",
    "      <td>Elite</td>\n",
    "      <td>800</td>\n",
    "    </tr>\n",
    "    <tr>\n",
    "      <td>Gabriela</td>\n",
    "      <td>Personal</td>\n",
    "      <td>1100</td>\n",
    "    </tr>\n",
    "  </tbody>\n",
    "</table>\n",
    "<br>\n",
    "\n",
    "Em seguida o teu par te mandou o restante dos dados e pediu para uní-los enquanto ele puxava os dados complementares. Os dados adicionais estão no arquivo `dados_adicionais.csv`.\n"
   ]
  },
  {
   "cell_type": "code",
   "execution_count": 11,
   "metadata": {},
   "outputs": [],
   "source": []
  },
  {
   "cell_type": "markdown",
   "metadata": {},
   "source": [
    "2. Após a primeira entrega dos dados, um novo cliente apareceu nas bases de dados e teu superior pediu prioridade para incluir esse estimado cliente nos teus dados. Você se lembrou do 1o caso prático desta aula e pediu os dados do novo cliente para incluí-lo:\n",
    "> Name: Romero F Carvalho\n",
    "<br> Class: Premium\n",
    "<br> InsuranceTotalSpent: 90000"
   ]
  },
  {
   "cell_type": "code",
   "execution_count": null,
   "metadata": {},
   "outputs": [],
   "source": []
  },
  {
   "cell_type": "markdown",
   "metadata": {},
   "source": [
    "## Merge\n",
    "Source: Documentation [(+info)](https://pandas.pydata.org/docs/reference/api/pandas.DataFrame.merge.html)"
   ]
  },
  {
   "cell_type": "markdown",
   "metadata": {},
   "source": [
    "Muitas vezes queremos buscar dados adicionais de outro DataFrame que possuem algum interligação / relacionamento entre si. \n",
    "\n",
    "Neste caso, utilizamos a função **pandas.merge** (semelhante a operação JOIN do SQL):\n",
    "\n",
    "<img src=\"https://community.qlik.com/legacyfs/online/87693_all-joins.png\" width=450>\n",
    "<br><br>\n",
    "\n",
    ">DataFrame.merge(right, how='inner', on=None, left_on=None, right_on=None, left_index=False, right_index=False, sort=False, suffixes=('_x', '_y'), copy=None, indicator=False, validate=None)\n",
    "<br><br>&ensp;&ensp;&ensp;&ensp;Merge DataFrame or named Series objects with a database-style join.\n",
    "<br><br>&ensp;&ensp;&ensp;&ensp;A named Series object is treated as a DataFrame with a single named column."
   ]
  },
  {
   "cell_type": "markdown",
   "metadata": {},
   "source": [
    "Podemos juntar as informações de dois DataFrames que se relacionam por chaves (keys) comuns entre si:"
   ]
  },
  {
   "cell_type": "code",
   "execution_count": 31,
   "metadata": {},
   "outputs": [
    {
     "data": {
      "text/html": [
       "<div>\n",
       "<style scoped>\n",
       "    .dataframe tbody tr th:only-of-type {\n",
       "        vertical-align: middle;\n",
       "    }\n",
       "\n",
       "    .dataframe tbody tr th {\n",
       "        vertical-align: top;\n",
       "    }\n",
       "\n",
       "    .dataframe thead th {\n",
       "        text-align: right;\n",
       "    }\n",
       "</style>\n",
       "<table border=\"1\" class=\"dataframe\">\n",
       "  <thead>\n",
       "    <tr style=\"text-align: right;\">\n",
       "      <th></th>\n",
       "      <th>paciente_id</th>\n",
       "      <th>idade</th>\n",
       "      <th>resultado</th>\n",
       "    </tr>\n",
       "  </thead>\n",
       "  <tbody>\n",
       "    <tr>\n",
       "      <th>0</th>\n",
       "      <td>1</td>\n",
       "      <td>25</td>\n",
       "      <td>Normal</td>\n",
       "    </tr>\n",
       "    <tr>\n",
       "      <th>1</th>\n",
       "      <td>2</td>\n",
       "      <td>35</td>\n",
       "      <td>Elevado</td>\n",
       "    </tr>\n",
       "  </tbody>\n",
       "</table>\n",
       "</div>"
      ],
      "text/plain": [
       "   paciente_id  idade resultado\n",
       "0            1     25    Normal\n",
       "1            2     35   Elevado"
      ]
     },
     "execution_count": 31,
     "metadata": {},
     "output_type": "execute_result"
    }
   ],
   "source": [
    "df_pacientes = pd.DataFrame({'paciente_id': [1, 2, 3], 'idade': [25, 35, 40]})\n",
    "df_exames = pd.DataFrame({'paciente_id': [1, 2, 4], 'resultado': ['Normal', 'Elevado', 'Ausente']})\n",
    "df_pacientes.merge(df_exames, on='paciente_id')"
   ]
  },
  {
   "cell_type": "markdown",
   "metadata": {},
   "source": [
    "Se quisermos mudar o tipo da união (qual é a união padrão?), utilizamos o parâmetro `how` que aceita os seguintes valores: \n",
    "> how : {‘left’, ‘right’, ‘outer’, ‘inner’, ‘cross’}"
   ]
  },
  {
   "cell_type": "code",
   "execution_count": 32,
   "metadata": {},
   "outputs": [
    {
     "data": {
      "text/html": [
       "<div>\n",
       "<style scoped>\n",
       "    .dataframe tbody tr th:only-of-type {\n",
       "        vertical-align: middle;\n",
       "    }\n",
       "\n",
       "    .dataframe tbody tr th {\n",
       "        vertical-align: top;\n",
       "    }\n",
       "\n",
       "    .dataframe thead th {\n",
       "        text-align: right;\n",
       "    }\n",
       "</style>\n",
       "<table border=\"1\" class=\"dataframe\">\n",
       "  <thead>\n",
       "    <tr style=\"text-align: right;\">\n",
       "      <th></th>\n",
       "      <th>paciente_id</th>\n",
       "      <th>idade</th>\n",
       "      <th>resultado</th>\n",
       "    </tr>\n",
       "  </thead>\n",
       "  <tbody>\n",
       "    <tr>\n",
       "      <th>0</th>\n",
       "      <td>1</td>\n",
       "      <td>25.0</td>\n",
       "      <td>Normal</td>\n",
       "    </tr>\n",
       "    <tr>\n",
       "      <th>1</th>\n",
       "      <td>2</td>\n",
       "      <td>35.0</td>\n",
       "      <td>Elevado</td>\n",
       "    </tr>\n",
       "    <tr>\n",
       "      <th>2</th>\n",
       "      <td>3</td>\n",
       "      <td>40.0</td>\n",
       "      <td>NaN</td>\n",
       "    </tr>\n",
       "    <tr>\n",
       "      <th>3</th>\n",
       "      <td>4</td>\n",
       "      <td>NaN</td>\n",
       "      <td>Ausente</td>\n",
       "    </tr>\n",
       "  </tbody>\n",
       "</table>\n",
       "</div>"
      ],
      "text/plain": [
       "   paciente_id  idade resultado\n",
       "0            1   25.0    Normal\n",
       "1            2   35.0   Elevado\n",
       "2            3   40.0       NaN\n",
       "3            4    NaN   Ausente"
      ]
     },
     "execution_count": 32,
     "metadata": {},
     "output_type": "execute_result"
    }
   ],
   "source": [
    "df_pacientes = pd.DataFrame({'paciente_id': [1, 2, 3], 'idade': [25, 35, 40]})\n",
    "df_exames = pd.DataFrame({'paciente_id': [1, 2, 4], 'resultado': ['Normal', 'Elevado', 'Ausente']})\n",
    "df_pacientes.merge(df_exames, on='paciente_id', how='outer')"
   ]
  },
  {
   "cell_type": "markdown",
   "metadata": {},
   "source": [
    "Note que, no tipo união `outer`, não há um `paciente_id 4` no `df_pacientes`, por isso não temos a idade dele e, por padrão, nos retorna `NaN`, bem como não temos resultados do exame para o `paciente_id 3`."
   ]
  },
  {
   "cell_type": "markdown",
   "metadata": {},
   "source": [
    "Caso as colunas-chave não tenham nomes iguais, podemos utilizando os argumentos `left_on` e `right_on`:"
   ]
  },
  {
   "cell_type": "code",
   "execution_count": 34,
   "metadata": {},
   "outputs": [
    {
     "data": {
      "text/html": [
       "<div>\n",
       "<style scoped>\n",
       "    .dataframe tbody tr th:only-of-type {\n",
       "        vertical-align: middle;\n",
       "    }\n",
       "\n",
       "    .dataframe tbody tr th {\n",
       "        vertical-align: top;\n",
       "    }\n",
       "\n",
       "    .dataframe thead th {\n",
       "        text-align: right;\n",
       "    }\n",
       "</style>\n",
       "<table border=\"1\" class=\"dataframe\">\n",
       "  <thead>\n",
       "    <tr style=\"text-align: right;\">\n",
       "      <th></th>\n",
       "      <th>paciente_id</th>\n",
       "      <th>idade</th>\n",
       "      <th>id_pacientes</th>\n",
       "      <th>resultado</th>\n",
       "    </tr>\n",
       "  </thead>\n",
       "  <tbody>\n",
       "    <tr>\n",
       "      <th>0</th>\n",
       "      <td>1.0</td>\n",
       "      <td>25.0</td>\n",
       "      <td>1.0</td>\n",
       "      <td>Normal</td>\n",
       "    </tr>\n",
       "    <tr>\n",
       "      <th>1</th>\n",
       "      <td>2.0</td>\n",
       "      <td>35.0</td>\n",
       "      <td>2.0</td>\n",
       "      <td>Elevado</td>\n",
       "    </tr>\n",
       "    <tr>\n",
       "      <th>2</th>\n",
       "      <td>3.0</td>\n",
       "      <td>40.0</td>\n",
       "      <td>NaN</td>\n",
       "      <td>NaN</td>\n",
       "    </tr>\n",
       "    <tr>\n",
       "      <th>3</th>\n",
       "      <td>NaN</td>\n",
       "      <td>NaN</td>\n",
       "      <td>4.0</td>\n",
       "      <td>Ausente</td>\n",
       "    </tr>\n",
       "  </tbody>\n",
       "</table>\n",
       "</div>"
      ],
      "text/plain": [
       "   paciente_id  idade  id_pacientes resultado\n",
       "0          1.0   25.0           1.0    Normal\n",
       "1          2.0   35.0           2.0   Elevado\n",
       "2          3.0   40.0           NaN       NaN\n",
       "3          NaN    NaN           4.0   Ausente"
      ]
     },
     "execution_count": 34,
     "metadata": {},
     "output_type": "execute_result"
    }
   ],
   "source": [
    "df_pacientes = pd.DataFrame({'paciente_id': [1, 2, 3], 'idade': [25, 35, 40]})\n",
    "df_exames_outro = pd.DataFrame({'id_pacientes': [1, 2, 4], 'resultado': ['Normal', 'Elevado', 'Ausente']})\n",
    "df_pacientes.merge(df_exames_outro, left_on='paciente_id',right_on='id_pacientes', how='outer')"
   ]
  },
  {
   "cell_type": "markdown",
   "metadata": {},
   "source": [
    "Se houver colunas que têm o mesmo nome e não serão chave, podemos diferenciá-los pelos argumento suffixes=('rsuff','lsuff'):"
   ]
  },
  {
   "cell_type": "code",
   "execution_count": 36,
   "metadata": {},
   "outputs": [
    {
     "data": {
      "text/html": [
       "<div>\n",
       "<style scoped>\n",
       "    .dataframe tbody tr th:only-of-type {\n",
       "        vertical-align: middle;\n",
       "    }\n",
       "\n",
       "    .dataframe tbody tr th {\n",
       "        vertical-align: top;\n",
       "    }\n",
       "\n",
       "    .dataframe thead th {\n",
       "        text-align: right;\n",
       "    }\n",
       "</style>\n",
       "<table border=\"1\" class=\"dataframe\">\n",
       "  <thead>\n",
       "    <tr style=\"text-align: right;\">\n",
       "      <th></th>\n",
       "      <th>paciente_id</th>\n",
       "      <th>resultado_exame</th>\n",
       "      <th>resultado_renovacao</th>\n",
       "    </tr>\n",
       "  </thead>\n",
       "  <tbody>\n",
       "    <tr>\n",
       "      <th>0</th>\n",
       "      <td>1</td>\n",
       "      <td>Normal</td>\n",
       "      <td>Aprovado</td>\n",
       "    </tr>\n",
       "    <tr>\n",
       "      <th>1</th>\n",
       "      <td>2</td>\n",
       "      <td>Elevado</td>\n",
       "      <td>Aprovado</td>\n",
       "    </tr>\n",
       "    <tr>\n",
       "      <th>2</th>\n",
       "      <td>4</td>\n",
       "      <td>Ausente</td>\n",
       "      <td>Em analise</td>\n",
       "    </tr>\n",
       "  </tbody>\n",
       "</table>\n",
       "</div>"
      ],
      "text/plain": [
       "   paciente_id resultado_exame resultado_renovacao\n",
       "0            1          Normal            Aprovado\n",
       "1            2         Elevado            Aprovado\n",
       "2            4         Ausente          Em analise"
      ]
     },
     "execution_count": 36,
     "metadata": {},
     "output_type": "execute_result"
    }
   ],
   "source": [
    "df_exames = pd.DataFrame({'paciente_id': [1, 2, 4], 'resultado': ['Normal', 'Elevado', 'Ausente']})\n",
    "df_renovacao_seguro = pd.DataFrame({'paciente_id': [1, 2, 4], 'resultado': ['Aprovado', 'Aprovado', 'Em analise']})\n",
    "df_exames.merge(df_renovacao_seguro, on='paciente_id')\n",
    "df_exames.merge(df_renovacao_seguro, on='paciente_id', suffixes=('_exame','_renovacao'))"
   ]
  },
  {
   "cell_type": "markdown",
   "metadata": {},
   "source": [
    "-----\n",
    "### Hands-on"
   ]
  },
  {
   "cell_type": "markdown",
   "metadata": {},
   "source": [
    "1. Teu colega da recepcao pediu os dados das consultas realizadas do arquivo ``. Porém, a tabela não parece conter informações relevantes para um usuário comum. Para resolver isto, uma prática muito comum no SQL é unir tabelas para ter todas as informações em texto, ao invés de códigos.\n",
    "\n",
    "<br> Na pasta 'nome da pasta aqui' temos 3 csvs que trazem dados dos pacientes, medicos e hospitais. Utilize o merge para identificar todas as informações referentes as consultas realizadas e entregar dados legíveis para o teu colega."
   ]
  },
  {
   "cell_type": "code",
   "execution_count": 13,
   "metadata": {},
   "outputs": [],
   "source": [
    "# # read csvs\n",
    "# df_consultas = pd.read_csv('./support_data/merge_handsOn/tab_consultas.csv')\n",
    "# df_medicos = pd.read_csv('./support_data/merge_handsOn/tab_medicos.csv')\n",
    "# df_pacientes = pd.read_csv('./support_data/merge_handsOn/tab_pacientes.csv')\n",
    "# df_hospitais = pd.read_csv('./support_data/merge_handsOn/tab_hospitais.csv')\n",
    "\n",
    "# # # Unindo as tabelas usando merge\n",
    "# df_merge1 = pd.merge(df_consultas, df_medicos, on='id_medico', how='left')\n",
    "# df_merge2 = pd.merge(df_merge1, df_pacientes, on='id_paciente', how='left')\n",
    "# df_final = pd.merge(df_merge2, df_hospitais, on='id_hospital', how='left')\n",
    "\n",
    "# # Exibindo o resultado final\n",
    "# print(df_final)\n"
   ]
  },
  {
   "cell_type": "markdown",
   "metadata": {},
   "source": [
    "## Groupby <div id=\"groupby\">\n",
    "Source: Documentation [(+info)](https://pandas.pydata.org/pandas-docs/stable/reference/api/pandas.DataFrame.groupby.html)"
   ]
  },
  {
   "cell_type": "markdown",
   "metadata": {},
   "source": [
    "Muitas vezes, estaremos interessados em aplicar técnicas de agrupamentos de dados, tal como somas ou contagens, aplicados a dados que pertençam ao mesmo grupo. \n",
    "<br><br>Por exemplo: quantas pessoas de <u>cada</u> **departamento** trabalham na empresa XPTO?\n",
    "\n",
    " Para isso, utilizaremos funções como  **DataFrame.groupby()**, semelhante a operação GROUP BY do SQL, e a função [DataFrameGroupBy.agg()](https://pandas.pydata.org/pandas-docs/version/0.22/generated/pandas.core.groupby.DataFrameGroupBy.agg.html), semelhante as opeações de agregamento no SELECT do SQL.\n",
    "\n",
    ">DataFrame.groupby(by=None, axis=_NoDefault.no_default, level=None, as_index=True, sort=True, group_keys=True, observed=_NoDefault.no_default, dropna=True)\n",
    "<br><br>&ensp;&ensp;&ensp;&ensp;Group DataFrame using a mapper or by a Series of columns.\n",
    "<br><br>&ensp;&ensp;&ensp;&ensp;A groupby operation involves some combination of splitting the object, applying a function, and combining the results. This can be used to group large amounts of data and compute operations on these groups."
   ]
  },
  {
   "cell_type": "markdown",
   "metadata": {},
   "source": [
    "Sempre que utilizarmos o groupby, normalmente estamos interessados em agrupar os dados e aplicar uma função de agregamento (ex: max):"
   ]
  },
  {
   "cell_type": "code",
   "execution_count": 38,
   "metadata": {},
   "outputs": [
    {
     "data": {
      "text/plain": [
       "animal\n",
       "Falcon    380.0\n",
       "Parrot     26.0\n",
       "Name: speed, dtype: float64"
      ]
     },
     "execution_count": 38,
     "metadata": {},
     "output_type": "execute_result"
    }
   ],
   "source": [
    "df = pd.DataFrame({'animal': ['Falcon', 'Falcon', 'Parrot', 'Parrot'],\n",
    "                   'speed': [380., 370., 24., 26.]})\n",
    "\n",
    "df.groupby('animal')['speed'].agg(func='max')"
   ]
  },
  {
   "cell_type": "markdown",
   "metadata": {},
   "source": [
    "Note que se não dissermos qual é a coluna a ser aplicada a função agg(), é aplicado a todas as colunas:"
   ]
  },
  {
   "cell_type": "code",
   "execution_count": 39,
   "metadata": {},
   "outputs": [
    {
     "data": {
      "text/plain": [
       "animal\n",
       "Falcon    375.0\n",
       "Parrot     25.0\n",
       "Name: speed, dtype: float64"
      ]
     },
     "execution_count": 39,
     "metadata": {},
     "output_type": "execute_result"
    }
   ],
   "source": [
    "df2 = df.copy() #make a copy\n",
    "df2['height'] = [100, 105, 95, 90]  # add new data\n",
    "df.groupby('animal')['speed'].agg(func='mean')"
   ]
  },
  {
   "cell_type": "markdown",
   "metadata": {},
   "source": [
    "É possível também aplicar uma função criada, desde que seja aplicada para o mesmo tipo de objeto resultante do groupby:"
   ]
  },
  {
   "cell_type": "code",
   "execution_count": 42,
   "metadata": {},
   "outputs": [
    {
     "data": {
      "text/html": [
       "<div>\n",
       "<style scoped>\n",
       "    .dataframe tbody tr th:only-of-type {\n",
       "        vertical-align: middle;\n",
       "    }\n",
       "\n",
       "    .dataframe tbody tr th {\n",
       "        vertical-align: top;\n",
       "    }\n",
       "\n",
       "    .dataframe thead tr th {\n",
       "        text-align: left;\n",
       "    }\n",
       "\n",
       "    .dataframe thead tr:last-of-type th {\n",
       "        text-align: right;\n",
       "    }\n",
       "</style>\n",
       "<table border=\"1\" class=\"dataframe\">\n",
       "  <thead>\n",
       "    <tr>\n",
       "      <th></th>\n",
       "      <th colspan=\"3\" halign=\"left\">speed</th>\n",
       "    </tr>\n",
       "    <tr>\n",
       "      <th></th>\n",
       "      <th>max</th>\n",
       "      <th>min</th>\n",
       "      <th>funcao_criada</th>\n",
       "    </tr>\n",
       "    <tr>\n",
       "      <th>animal</th>\n",
       "      <th></th>\n",
       "      <th></th>\n",
       "      <th></th>\n",
       "    </tr>\n",
       "  </thead>\n",
       "  <tbody>\n",
       "    <tr>\n",
       "      <th>Falcon</th>\n",
       "      <td>380.0</td>\n",
       "      <td>370.0</td>\n",
       "      <td>10.0</td>\n",
       "    </tr>\n",
       "    <tr>\n",
       "      <th>Parrot</th>\n",
       "      <td>26.0</td>\n",
       "      <td>24.0</td>\n",
       "      <td>2.0</td>\n",
       "    </tr>\n",
       "  </tbody>\n",
       "</table>\n",
       "</div>"
      ],
      "text/plain": [
       "        speed                     \n",
       "          max    min funcao_criada\n",
       "animal                            \n",
       "Falcon  380.0  370.0          10.0\n",
       "Parrot   26.0   24.0           2.0"
      ]
     },
     "execution_count": 42,
     "metadata": {},
     "output_type": "execute_result"
    }
   ],
   "source": [
    "def funcao_criada(df_qualquer):\n",
    "    \"\"\"\n",
    "    Funcao que recebe um DataFrame a\n",
    "    diferença entre o valor max e o min\n",
    "    \"\"\"\n",
    "    df_min = df_qualquer.min()\n",
    "    df_max = df_qualquer.max()\n",
    "\n",
    "    return df_max-df_min\n",
    "\n",
    "df.groupby('animal').agg(func=funcao_criada)    #não tem ()\n",
    "# df.groupby('animal').agg(func=[max,min,funcao_criada])    #não tem ()"
   ]
  },
  {
   "cell_type": "markdown",
   "metadata": {},
   "source": [
    "Nota: Normalmente, após um groupby, temos um objeto do tipo `DataFrameGroupBy`, que é composto por vários DataFrames ou Series."
   ]
  },
  {
   "cell_type": "code",
   "execution_count": 52,
   "metadata": {},
   "outputs": [
    {
     "name": "stdout",
     "output_type": "stream",
     "text": [
      "Tipo da variavel df_grouped: <class 'pandas.core.groupby.generic.DataFrameGroupBy'>\n",
      "\n",
      "Objeto dentro do groupby:\n",
      " ('Falcon',    animal  speed\n",
      "0  Falcon  380.0\n",
      "1  Falcon  370.0)\n",
      "\n",
      "Tipo do objeto dentro do groupby: <class 'tuple'>\n",
      "\n",
      "Tipo do objeto dentro do groupby: <class 'pandas.core.frame.DataFrame'>\n"
     ]
    }
   ],
   "source": [
    "df_groupby = df.groupby('animal')\n",
    "print('Tipo da variavel df_grouped:',type(df_groupby))\n",
    "\n",
    "# get one group from groupby\n",
    "for obj_dentro_do_groupby in df_groupby:\n",
    "    print('\\nObjeto dentro do groupby:\\n',obj_dentro_do_groupby)\n",
    "    print('\\nTipo do objeto dentro do groupby:',type(obj_dentro_do_groupby))\n",
    "    print('\\nTipo do objeto dentro do groupby:',type(obj_dentro_do_groupby[1]))\n",
    "    break   # o que acontece se tirar esse`break`?"
   ]
  },
  {
   "cell_type": "markdown",
   "metadata": {},
   "source": [
    "-----\n",
    "### Hands-on"
   ]
  },
  {
   "cell_type": "markdown",
   "metadata": {},
   "source": [
    "Vamos analisar os dados de casos de covid no mundo se encontra no caminho: support_data/covid_country_latest.csv Quantos `confirmed_cases` por dia aconteciam no mundo inteiro? Qual foi o dia com maior quantidade de `confirmed_cases` e `deaths`?"
   ]
  },
  {
   "cell_type": "code",
   "execution_count": null,
   "metadata": {},
   "outputs": [],
   "source": []
  },
  {
   "cell_type": "markdown",
   "metadata": {},
   "source": [
    "<!-- **Desafio**: Vamos tentar quais foram os top 3 registros por páis com mais `deaths`. Comece primeiro com o dataset inteiro:   -->"
   ]
  },
  {
   "cell_type": "code",
   "execution_count": null,
   "metadata": {},
   "outputs": [],
   "source": [
    "**PAUSA**"
   ]
  },
  {
   "cell_type": "markdown",
   "metadata": {},
   "source": [
    "## Pivot\n",
    "Source: Documentation [(+info)](https://pandas.pydata.org/docs/reference/api/pandas.DataFrame.pivot.html)"
   ]
  },
  {
   "cell_type": "markdown",
   "metadata": {},
   "source": [
    "Muitos usuários estão mais acostumados a olhar tabelas parecidas com as planilhas de MS Excel, comumente utilizando as tabelas dinâmicas (ou *pivot table* em inglês). Para transformar nossos dados em formatos parecidos com este, utilizamos a função DataFrame.pivot()\n",
    "\n",
    "> DataFrame.pivot(*, columns, index=_NoDefault.no_default, values=_NoDefault.no_default)\n",
    "<br><br>&ensp;&ensp;&ensp;&ensp;Return reshaped DataFrame organized by given index / column values.\n",
    "<br><br>&ensp;&ensp;&ensp;&ensp;Reshape data (produce a “pivot” table) based on column values. Uses unique values from specified index / columns to form axes of the resulting DataFrame. This function does not support data aggregation, multiple values will result in a MultiIndex in the columns. See the User Guide for more on reshaping."
   ]
  },
  {
   "cell_type": "markdown",
   "metadata": {},
   "source": [
    "Para realzar o pivot, basta dizer qual(is) a(s) columna(s) para os argumentos:\n",
    "- `index`\n",
    "- `columns` \n",
    "- `values`\n",
    "\n",
    "<!-- `img de um dataset no pivot` -->"
   ]
  },
  {
   "cell_type": "code",
   "execution_count": 60,
   "metadata": {},
   "outputs": [
    {
     "data": {
      "text/html": [
       "<div>\n",
       "<style scoped>\n",
       "    .dataframe tbody tr th:only-of-type {\n",
       "        vertical-align: middle;\n",
       "    }\n",
       "\n",
       "    .dataframe tbody tr th {\n",
       "        vertical-align: top;\n",
       "    }\n",
       "\n",
       "    .dataframe thead th {\n",
       "        text-align: right;\n",
       "    }\n",
       "</style>\n",
       "<table border=\"1\" class=\"dataframe\">\n",
       "  <thead>\n",
       "    <tr style=\"text-align: right;\">\n",
       "      <th>habitat</th>\n",
       "      <th>Floresta</th>\n",
       "      <th>Polo Sul</th>\n",
       "      <th>Savana</th>\n",
       "    </tr>\n",
       "    <tr>\n",
       "      <th>animal</th>\n",
       "      <th></th>\n",
       "      <th></th>\n",
       "      <th></th>\n",
       "    </tr>\n",
       "  </thead>\n",
       "  <tbody>\n",
       "    <tr>\n",
       "      <th>Elefante</th>\n",
       "      <td>NaN</td>\n",
       "      <td>NaN</td>\n",
       "      <td>10.0</td>\n",
       "    </tr>\n",
       "    <tr>\n",
       "      <th>Girafa</th>\n",
       "      <td>NaN</td>\n",
       "      <td>NaN</td>\n",
       "      <td>8.0</td>\n",
       "    </tr>\n",
       "    <tr>\n",
       "      <th>Leão</th>\n",
       "      <td>NaN</td>\n",
       "      <td>NaN</td>\n",
       "      <td>15.0</td>\n",
       "    </tr>\n",
       "    <tr>\n",
       "      <th>Pinguim</th>\n",
       "      <td>NaN</td>\n",
       "      <td>20.0</td>\n",
       "      <td>NaN</td>\n",
       "    </tr>\n",
       "    <tr>\n",
       "      <th>Tigre</th>\n",
       "      <td>12.0</td>\n",
       "      <td>NaN</td>\n",
       "      <td>NaN</td>\n",
       "    </tr>\n",
       "  </tbody>\n",
       "</table>\n",
       "</div>"
      ],
      "text/plain": [
       "habitat   Floresta  Polo Sul  Savana\n",
       "animal                              \n",
       "Elefante       NaN       NaN    10.0\n",
       "Girafa         NaN       NaN     8.0\n",
       "Leão           NaN       NaN    15.0\n",
       "Pinguim        NaN      20.0     NaN\n",
       "Tigre         12.0       NaN     NaN"
      ]
     },
     "execution_count": 60,
     "metadata": {},
     "output_type": "execute_result"
    }
   ],
   "source": [
    "data = {\n",
    "    'animal': ['Elefante', 'Leão', 'Girafa', 'Tigre', 'Pinguim'],\n",
    "    'habitat': ['Savana', 'Savana', 'Savana', 'Floresta', 'Polo Sul'],\n",
    "    'qtd': [10, 15, 8, 12, 20]\n",
    "}\n",
    "\n",
    "df_animais_habitat = pd.DataFrame(data)\n",
    "\n",
    "df_animais_habitat.pivot(index='animal',columns='habitat',values='qtd')"
   ]
  },
  {
   "cell_type": "markdown",
   "metadata": {},
   "source": [
    "Nota-se que quando não há valores para uma determinada combinação, por padrão retorna (adivinha?) `NaN`."
   ]
  },
  {
   "cell_type": "markdown",
   "metadata": {},
   "source": [
    "Caso fosse realizado o mesmo levantamento de antes, mas com novos dados, não seria possível utilizar `pivot()` juntando os dados para ter um resultado somado ao anterior:"
   ]
  },
  {
   "cell_type": "code",
   "execution_count": 63,
   "metadata": {},
   "outputs": [
    {
     "ename": "ValueError",
     "evalue": "Index contains duplicate entries, cannot reshape",
     "output_type": "error",
     "traceback": [
      "\u001b[1;31m---------------------------------------------------------------------------\u001b[0m",
      "\u001b[1;31mValueError\u001b[0m                                Traceback (most recent call last)",
      "\u001b[1;32mc:\\Users\\AllanSuzuki\\Documents\\ADA\\Aulas-handmade\\DS-PY-Data-Science\\DS-PY-004 TÉCNICAS DE PROGRAMAÇÃO I (PY)\\Material do Aluno\\Aula 5\\Aula5_Pandas-Processar_Dados.ipynb Cell 72\u001b[0m line \u001b[0;36m1\n\u001b[0;32m      <a href='vscode-notebook-cell:/c%3A/Users/AllanSuzuki/Documents/ADA/Aulas-handmade/DS-PY-Data-Science/DS-PY-004%20T%C3%89CNICAS%20DE%20PROGRAMA%C3%87%C3%83O%20I%20%28PY%29/Material%20do%20Aluno/Aula%205/Aula5_Pandas-Processar_Dados.ipynb#Y131sZmlsZQ%3D%3D?line=6'>7</a>\u001b[0m \u001b[39m# adicionando novos_levantamentos\u001b[39;00m\n\u001b[0;32m      <a href='vscode-notebook-cell:/c%3A/Users/AllanSuzuki/Documents/ADA/Aulas-handmade/DS-PY-Data-Science/DS-PY-004%20T%C3%89CNICAS%20DE%20PROGRAMA%C3%87%C3%83O%20I%20%28PY%29/Material%20do%20Aluno/Aula%205/Aula5_Pandas-Processar_Dados.ipynb#Y131sZmlsZQ%3D%3D?line=7'>8</a>\u001b[0m new_df \u001b[39m=\u001b[39m pd\u001b[39m.\u001b[39mconcat([df_animais_habitat, novos_levantamentos])   \u001b[39m# o que isto faz mesmo?\u001b[39;00m\n\u001b[1;32m---> <a href='vscode-notebook-cell:/c%3A/Users/AllanSuzuki/Documents/ADA/Aulas-handmade/DS-PY-Data-Science/DS-PY-004%20T%C3%89CNICAS%20DE%20PROGRAMA%C3%87%C3%83O%20I%20%28PY%29/Material%20do%20Aluno/Aula%205/Aula5_Pandas-Processar_Dados.ipynb#Y131sZmlsZQ%3D%3D?line=9'>10</a>\u001b[0m new_df\u001b[39m.\u001b[39;49mpivot(index\u001b[39m=\u001b[39;49m\u001b[39m'\u001b[39;49m\u001b[39manimal\u001b[39;49m\u001b[39m'\u001b[39;49m,columns\u001b[39m=\u001b[39;49m\u001b[39m'\u001b[39;49m\u001b[39mhabitat\u001b[39;49m\u001b[39m'\u001b[39;49m,values\u001b[39m=\u001b[39;49m\u001b[39m'\u001b[39;49m\u001b[39mqtd\u001b[39;49m\u001b[39m'\u001b[39;49m)\n",
      "File \u001b[1;32mc:\\Users\\AllanSuzuki\\anaconda3\\lib\\site-packages\\pandas\\util\\_decorators.py:331\u001b[0m, in \u001b[0;36mdeprecate_nonkeyword_arguments.<locals>.decorate.<locals>.wrapper\u001b[1;34m(*args, **kwargs)\u001b[0m\n\u001b[0;32m    325\u001b[0m \u001b[39mif\u001b[39;00m \u001b[39mlen\u001b[39m(args) \u001b[39m>\u001b[39m num_allow_args:\n\u001b[0;32m    326\u001b[0m     warnings\u001b[39m.\u001b[39mwarn(\n\u001b[0;32m    327\u001b[0m         msg\u001b[39m.\u001b[39mformat(arguments\u001b[39m=\u001b[39m_format_argument_list(allow_args)),\n\u001b[0;32m    328\u001b[0m         \u001b[39mFutureWarning\u001b[39;00m,\n\u001b[0;32m    329\u001b[0m         stacklevel\u001b[39m=\u001b[39mfind_stack_level(),\n\u001b[0;32m    330\u001b[0m     )\n\u001b[1;32m--> 331\u001b[0m \u001b[39mreturn\u001b[39;00m func(\u001b[39m*\u001b[39margs, \u001b[39m*\u001b[39m\u001b[39m*\u001b[39mkwargs)\n",
      "File \u001b[1;32mc:\\Users\\AllanSuzuki\\anaconda3\\lib\\site-packages\\pandas\\core\\frame.py:8567\u001b[0m, in \u001b[0;36mDataFrame.pivot\u001b[1;34m(self, index, columns, values)\u001b[0m\n\u001b[0;32m   8561\u001b[0m \u001b[39m@Substitution\u001b[39m(\u001b[39m\"\u001b[39m\u001b[39m\"\u001b[39m)\n\u001b[0;32m   8562\u001b[0m \u001b[39m@Appender\u001b[39m(_shared_docs[\u001b[39m\"\u001b[39m\u001b[39mpivot\u001b[39m\u001b[39m\"\u001b[39m])\n\u001b[0;32m   8563\u001b[0m \u001b[39m@deprecate_nonkeyword_arguments\u001b[39m(version\u001b[39m=\u001b[39m\u001b[39mNone\u001b[39;00m, allowed_args\u001b[39m=\u001b[39m[\u001b[39m\"\u001b[39m\u001b[39mself\u001b[39m\u001b[39m\"\u001b[39m])\n\u001b[0;32m   8564\u001b[0m \u001b[39mdef\u001b[39;00m \u001b[39mpivot\u001b[39m(\u001b[39mself\u001b[39m, index\u001b[39m=\u001b[39m\u001b[39mNone\u001b[39;00m, columns\u001b[39m=\u001b[39m\u001b[39mNone\u001b[39;00m, values\u001b[39m=\u001b[39m\u001b[39mNone\u001b[39;00m) \u001b[39m-\u001b[39m\u001b[39m>\u001b[39m DataFrame:\n\u001b[0;32m   8565\u001b[0m     \u001b[39mfrom\u001b[39;00m \u001b[39mpandas\u001b[39;00m\u001b[39m.\u001b[39;00m\u001b[39mcore\u001b[39;00m\u001b[39m.\u001b[39;00m\u001b[39mreshape\u001b[39;00m\u001b[39m.\u001b[39;00m\u001b[39mpivot\u001b[39;00m \u001b[39mimport\u001b[39;00m pivot\n\u001b[1;32m-> 8567\u001b[0m     \u001b[39mreturn\u001b[39;00m pivot(\u001b[39mself\u001b[39;49m, index\u001b[39m=\u001b[39;49mindex, columns\u001b[39m=\u001b[39;49mcolumns, values\u001b[39m=\u001b[39;49mvalues)\n",
      "File \u001b[1;32mc:\\Users\\AllanSuzuki\\anaconda3\\lib\\site-packages\\pandas\\util\\_decorators.py:331\u001b[0m, in \u001b[0;36mdeprecate_nonkeyword_arguments.<locals>.decorate.<locals>.wrapper\u001b[1;34m(*args, **kwargs)\u001b[0m\n\u001b[0;32m    325\u001b[0m \u001b[39mif\u001b[39;00m \u001b[39mlen\u001b[39m(args) \u001b[39m>\u001b[39m num_allow_args:\n\u001b[0;32m    326\u001b[0m     warnings\u001b[39m.\u001b[39mwarn(\n\u001b[0;32m    327\u001b[0m         msg\u001b[39m.\u001b[39mformat(arguments\u001b[39m=\u001b[39m_format_argument_list(allow_args)),\n\u001b[0;32m    328\u001b[0m         \u001b[39mFutureWarning\u001b[39;00m,\n\u001b[0;32m    329\u001b[0m         stacklevel\u001b[39m=\u001b[39mfind_stack_level(),\n\u001b[0;32m    330\u001b[0m     )\n\u001b[1;32m--> 331\u001b[0m \u001b[39mreturn\u001b[39;00m func(\u001b[39m*\u001b[39margs, \u001b[39m*\u001b[39m\u001b[39m*\u001b[39mkwargs)\n",
      "File \u001b[1;32mc:\\Users\\AllanSuzuki\\anaconda3\\lib\\site-packages\\pandas\\core\\reshape\\pivot.py:540\u001b[0m, in \u001b[0;36mpivot\u001b[1;34m(data, index, columns, values)\u001b[0m\n\u001b[0;32m    536\u001b[0m         indexed \u001b[39m=\u001b[39m data\u001b[39m.\u001b[39m_constructor_sliced(data[values]\u001b[39m.\u001b[39m_values, index\u001b[39m=\u001b[39mmultiindex)\n\u001b[0;32m    537\u001b[0m \u001b[39m# error: Argument 1 to \"unstack\" of \"DataFrame\" has incompatible type \"Union\u001b[39;00m\n\u001b[0;32m    538\u001b[0m \u001b[39m# [List[Any], ExtensionArray, ndarray[Any, Any], Index, Series]\"; expected\u001b[39;00m\n\u001b[0;32m    539\u001b[0m \u001b[39m# \"Hashable\"\u001b[39;00m\n\u001b[1;32m--> 540\u001b[0m \u001b[39mreturn\u001b[39;00m indexed\u001b[39m.\u001b[39;49munstack(columns_listlike)\n",
      "File \u001b[1;32mc:\\Users\\AllanSuzuki\\anaconda3\\lib\\site-packages\\pandas\\core\\series.py:4455\u001b[0m, in \u001b[0;36mSeries.unstack\u001b[1;34m(self, level, fill_value)\u001b[0m\n\u001b[0;32m   4412\u001b[0m \u001b[39m\"\"\"\u001b[39;00m\n\u001b[0;32m   4413\u001b[0m \u001b[39mUnstack, also known as pivot, Series with MultiIndex to produce DataFrame.\u001b[39;00m\n\u001b[0;32m   4414\u001b[0m \n\u001b[1;32m   (...)\u001b[0m\n\u001b[0;32m   4451\u001b[0m \u001b[39mb    2    4\u001b[39;00m\n\u001b[0;32m   4452\u001b[0m \u001b[39m\"\"\"\u001b[39;00m\n\u001b[0;32m   4453\u001b[0m \u001b[39mfrom\u001b[39;00m \u001b[39mpandas\u001b[39;00m\u001b[39m.\u001b[39;00m\u001b[39mcore\u001b[39;00m\u001b[39m.\u001b[39;00m\u001b[39mreshape\u001b[39;00m\u001b[39m.\u001b[39;00m\u001b[39mreshape\u001b[39;00m \u001b[39mimport\u001b[39;00m unstack\n\u001b[1;32m-> 4455\u001b[0m \u001b[39mreturn\u001b[39;00m unstack(\u001b[39mself\u001b[39;49m, level, fill_value)\n",
      "File \u001b[1;32mc:\\Users\\AllanSuzuki\\anaconda3\\lib\\site-packages\\pandas\\core\\reshape\\reshape.py:489\u001b[0m, in \u001b[0;36munstack\u001b[1;34m(obj, level, fill_value)\u001b[0m\n\u001b[0;32m    487\u001b[0m \u001b[39mif\u001b[39;00m is_1d_only_ea_dtype(obj\u001b[39m.\u001b[39mdtype):\n\u001b[0;32m    488\u001b[0m     \u001b[39mreturn\u001b[39;00m _unstack_extension_series(obj, level, fill_value)\n\u001b[1;32m--> 489\u001b[0m unstacker \u001b[39m=\u001b[39m _Unstacker(\n\u001b[0;32m    490\u001b[0m     obj\u001b[39m.\u001b[39;49mindex, level\u001b[39m=\u001b[39;49mlevel, constructor\u001b[39m=\u001b[39;49mobj\u001b[39m.\u001b[39;49m_constructor_expanddim\n\u001b[0;32m    491\u001b[0m )\n\u001b[0;32m    492\u001b[0m \u001b[39mreturn\u001b[39;00m unstacker\u001b[39m.\u001b[39mget_result(\n\u001b[0;32m    493\u001b[0m     obj\u001b[39m.\u001b[39m_values, value_columns\u001b[39m=\u001b[39m\u001b[39mNone\u001b[39;00m, fill_value\u001b[39m=\u001b[39mfill_value\n\u001b[0;32m    494\u001b[0m )\n",
      "File \u001b[1;32mc:\\Users\\AllanSuzuki\\anaconda3\\lib\\site-packages\\pandas\\core\\reshape\\reshape.py:137\u001b[0m, in \u001b[0;36m_Unstacker.__init__\u001b[1;34m(self, index, level, constructor)\u001b[0m\n\u001b[0;32m    129\u001b[0m \u001b[39mif\u001b[39;00m num_cells \u001b[39m>\u001b[39m np\u001b[39m.\u001b[39miinfo(np\u001b[39m.\u001b[39mint32)\u001b[39m.\u001b[39mmax:\n\u001b[0;32m    130\u001b[0m     warnings\u001b[39m.\u001b[39mwarn(\n\u001b[0;32m    131\u001b[0m         \u001b[39mf\u001b[39m\u001b[39m\"\u001b[39m\u001b[39mThe following operation may generate \u001b[39m\u001b[39m{\u001b[39;00mnum_cells\u001b[39m}\u001b[39;00m\u001b[39m cells \u001b[39m\u001b[39m\"\u001b[39m\n\u001b[0;32m    132\u001b[0m         \u001b[39mf\u001b[39m\u001b[39m\"\u001b[39m\u001b[39min the resulting pandas object.\u001b[39m\u001b[39m\"\u001b[39m,\n\u001b[0;32m    133\u001b[0m         PerformanceWarning,\n\u001b[0;32m    134\u001b[0m         stacklevel\u001b[39m=\u001b[39mfind_stack_level(),\n\u001b[0;32m    135\u001b[0m     )\n\u001b[1;32m--> 137\u001b[0m \u001b[39mself\u001b[39;49m\u001b[39m.\u001b[39;49m_make_selectors()\n",
      "File \u001b[1;32mc:\\Users\\AllanSuzuki\\anaconda3\\lib\\site-packages\\pandas\\core\\reshape\\reshape.py:189\u001b[0m, in \u001b[0;36m_Unstacker._make_selectors\u001b[1;34m(self)\u001b[0m\n\u001b[0;32m    186\u001b[0m mask\u001b[39m.\u001b[39mput(selector, \u001b[39mTrue\u001b[39;00m)\n\u001b[0;32m    188\u001b[0m \u001b[39mif\u001b[39;00m mask\u001b[39m.\u001b[39msum() \u001b[39m<\u001b[39m \u001b[39mlen\u001b[39m(\u001b[39mself\u001b[39m\u001b[39m.\u001b[39mindex):\n\u001b[1;32m--> 189\u001b[0m     \u001b[39mraise\u001b[39;00m \u001b[39mValueError\u001b[39;00m(\u001b[39m\"\u001b[39m\u001b[39mIndex contains duplicate entries, cannot reshape\u001b[39m\u001b[39m\"\u001b[39m)\n\u001b[0;32m    191\u001b[0m \u001b[39mself\u001b[39m\u001b[39m.\u001b[39mgroup_index \u001b[39m=\u001b[39m comp_index\n\u001b[0;32m    192\u001b[0m \u001b[39mself\u001b[39m\u001b[39m.\u001b[39mmask \u001b[39m=\u001b[39m mask\n",
      "\u001b[1;31mValueError\u001b[0m: Index contains duplicate entries, cannot reshape"
     ]
    }
   ],
   "source": [
    "novos_levantamentos = pd.DataFrame({\n",
    "    'animal': ['Elefante', 'Leão', 'Girafa', 'Tigre', 'Pinguim','Elefante'],\n",
    "    'habitat': ['Savana', 'Savana', 'Savana', 'Floresta', 'Polo Sul','Floresta'],\n",
    "    'qtd': [5, 10, 15, 8, 25, 10]  # Quantidades diferentes, ultimo é novo registro\n",
    "})\n",
    "\n",
    "# adicionando novos_levantamentos\n",
    "new_df = pd.concat([df_animais_habitat, novos_levantamentos])   # o que isto faz mesmo?\n",
    "\n",
    "new_df.pivot(index='animal',columns='habitat',values='qtd')\n",
    "# uai... pq deu erro?"
   ]
  },
  {
   "cell_type": "markdown",
   "metadata": {},
   "source": [
    "Isso acontece porque esta função não realiza nenhuma função de agregamento (quais são?) quando temos dados diferentes para a a mesma relação índice-coluna!\n",
    "\n",
    "Nesse caso, devemos utilizar a função DataFrame.pivot_table() com o argumento `aggfunc` com a função de agregamento que queremos.\n",
    "\n",
    "No caso anterior, queríamos somar quando houvesse novos levantamentos para o mesmo grupo, certo?"
   ]
  },
  {
   "cell_type": "code",
   "execution_count": 64,
   "metadata": {},
   "outputs": [
    {
     "data": {
      "text/html": [
       "<div>\n",
       "<style scoped>\n",
       "    .dataframe tbody tr th:only-of-type {\n",
       "        vertical-align: middle;\n",
       "    }\n",
       "\n",
       "    .dataframe tbody tr th {\n",
       "        vertical-align: top;\n",
       "    }\n",
       "\n",
       "    .dataframe thead th {\n",
       "        text-align: right;\n",
       "    }\n",
       "</style>\n",
       "<table border=\"1\" class=\"dataframe\">\n",
       "  <thead>\n",
       "    <tr style=\"text-align: right;\">\n",
       "      <th>habitat</th>\n",
       "      <th>Floresta</th>\n",
       "      <th>Polo Sul</th>\n",
       "      <th>Savana</th>\n",
       "    </tr>\n",
       "    <tr>\n",
       "      <th>animal</th>\n",
       "      <th></th>\n",
       "      <th></th>\n",
       "      <th></th>\n",
       "    </tr>\n",
       "  </thead>\n",
       "  <tbody>\n",
       "    <tr>\n",
       "      <th>Elefante</th>\n",
       "      <td>10.0</td>\n",
       "      <td>NaN</td>\n",
       "      <td>15.0</td>\n",
       "    </tr>\n",
       "    <tr>\n",
       "      <th>Girafa</th>\n",
       "      <td>NaN</td>\n",
       "      <td>NaN</td>\n",
       "      <td>23.0</td>\n",
       "    </tr>\n",
       "    <tr>\n",
       "      <th>Leão</th>\n",
       "      <td>NaN</td>\n",
       "      <td>NaN</td>\n",
       "      <td>25.0</td>\n",
       "    </tr>\n",
       "    <tr>\n",
       "      <th>Pinguim</th>\n",
       "      <td>NaN</td>\n",
       "      <td>45.0</td>\n",
       "      <td>NaN</td>\n",
       "    </tr>\n",
       "    <tr>\n",
       "      <th>Tigre</th>\n",
       "      <td>20.0</td>\n",
       "      <td>NaN</td>\n",
       "      <td>NaN</td>\n",
       "    </tr>\n",
       "  </tbody>\n",
       "</table>\n",
       "</div>"
      ],
      "text/plain": [
       "habitat   Floresta  Polo Sul  Savana\n",
       "animal                              \n",
       "Elefante      10.0       NaN    15.0\n",
       "Girafa         NaN       NaN    23.0\n",
       "Leão           NaN       NaN    25.0\n",
       "Pinguim        NaN      45.0     NaN\n",
       "Tigre         20.0       NaN     NaN"
      ]
     },
     "execution_count": 64,
     "metadata": {},
     "output_type": "execute_result"
    }
   ],
   "source": [
    "new_df.pivot_table(index='animal',columns='habitat',values='qtd', aggfunc='sum')"
   ]
  },
  {
   "cell_type": "markdown",
   "metadata": {},
   "source": [
    "----\n",
    "### Hands-on"
   ]
  },
  {
   "cell_type": "markdown",
   "metadata": {},
   "source": [
    "Lembra do **caso prático 2** no ínicio da aula? Vamos simular um dataset para efetuar esta tarefa:\n",
    "\n",
    "Durante uma reunião estratégica voltada para a identificação de oportunidades e aprimoramentos com os clientes, Alessandra apresentou à equipe de estratégia os resultados de uma enquete pública realizada no site da Unimed e na rua. Esses resultados incluíam dados pessoais: nome, idade, renda (em salarios mínimos);\n",
    "e resultados da pesquisa: nível de satisfação e recomendação do serviço.\n",
    "\n",
    "No entanto, a equipe enfrentava dificuldades em compreender os insights dos resultados da enquete devido à forma como os dados estavam organizados, já que cada resposta ocupava uma linha e não conseguia visualizar o todo.\n",
    "\n",
    "O que você faria para reestruturar os dados e gerar insights estratégicos mais rapidamente?"
   ]
  },
  {
   "cell_type": "code",
   "execution_count": 3,
   "metadata": {},
   "outputs": [],
   "source": [
    "def simular_resultados_da_pesquisa(nseed:int=42):\n",
    "    \"\"\"\n",
    "    Criando um DataFrame de pesquisa de satisfação.\n",
    "    Retorna um pd.DataFrame\n",
    "    \"\"\"\n",
    "\n",
    "    import numpy as np\n",
    "    np.random.seed(nseed)  # Definindo semente para reprodutibilidade\n",
    "\n",
    "    # Gerando valores para as colunas\n",
    "    num_participantes = 1000\n",
    "    idades = np.arange(16, 81, 8)\n",
    "    rendas = np.arange(1, 11, 1)\n",
    "    satisfacao = np.random.randint(1, 8, size=num_participantes)\n",
    "    recomendacao = np.random.randint(1, 4, size=num_participantes)\n",
    "\n",
    "    # Criando o DataFrame\n",
    "    df_pesquisa = pd.DataFrame({\n",
    "        'id_pesquisa': np.arange(1, num_participantes + 1),\n",
    "        'nome': ['dados omitidos'] * num_participantes,\n",
    "        'idade': np.random.choice(idades, size=num_participantes),\n",
    "        'renda': np.random.choice(rendas, size=num_participantes),\n",
    "        'satisfacao': satisfacao,\n",
    "        'recomendacao': recomendacao\n",
    "    })\n",
    "\n",
    "    return df_pesquisa\n",
    "\n",
    "simular_resultados_da_pesquisa().to_html('./support_data/not_use.html')"
   ]
  },
  {
   "cell_type": "markdown",
   "metadata": {},
   "source": [
    "## Melt"
   ]
  },
  {
   "cell_type": "markdown",
   "metadata": {},
   "source": [
    "Quando precisamos do oposto ao pivot (unpivot), ou seja, quando alguém nos entrega os dados resultantes de um pivot table feito no MS Excel para ser utilizado em uma análise de dados, utilizamos **DataFrame.melt()**.\n",
    "\n",
    ">DataFrame.melt(id_vars=None, value_vars=None, var_name=None, value_name='value', col_level=None, ignore_index=True)\n",
    "<br><br>&ensp;&ensp;&ensp;&ensp;Unpivot a DataFrame from wide to long format, optionally leaving identifiers set.\n",
    "<br><br>&ensp;&ensp;&ensp;&ensp;This function is useful to reshape a DataFrame into a format where one or more columns are identifier variables (id_vars), while all other columns, considered measured variables (value_vars), are “unpivoted” to the row axis, leaving just two non-identifier columns, ‘variable’ and ‘value’."
   ]
  },
  {
   "cell_type": "markdown",
   "metadata": {},
   "source": [
    "Vamos utilizar os dados pivotados da seção anterior:"
   ]
  },
  {
   "cell_type": "code",
   "execution_count": 1,
   "metadata": {},
   "outputs": [],
   "source": [
    "# # pivot data\n",
    "# pivot_data = new_df.pivot_table(index='animal',columns='habitat',values='qtd', aggfunc='sum')"
   ]
  },
  {
   "cell_type": "markdown",
   "metadata": {},
   "source": [
    "Primeiro, vamos olhar como como é o resultado de um pivot_table()"
   ]
  },
  {
   "cell_type": "code",
   "execution_count": 8,
   "metadata": {},
   "outputs": [
    {
     "name": "stdout",
     "output_type": "stream",
     "text": [
      "columns: ['Floresta', 'Polo Sul', 'Savana']\n",
      "index: animal\n"
     ]
    },
    {
     "data": {
      "text/html": [
       "<div>\n",
       "<style scoped>\n",
       "    .dataframe tbody tr th:only-of-type {\n",
       "        vertical-align: middle;\n",
       "    }\n",
       "\n",
       "    .dataframe tbody tr th {\n",
       "        vertical-align: top;\n",
       "    }\n",
       "\n",
       "    .dataframe thead th {\n",
       "        text-align: right;\n",
       "    }\n",
       "</style>\n",
       "<table border=\"1\" class=\"dataframe\">\n",
       "  <thead>\n",
       "    <tr style=\"text-align: right;\">\n",
       "      <th>habitat</th>\n",
       "      <th>Floresta</th>\n",
       "      <th>Polo Sul</th>\n",
       "      <th>Savana</th>\n",
       "    </tr>\n",
       "    <tr>\n",
       "      <th>animal</th>\n",
       "      <th></th>\n",
       "      <th></th>\n",
       "      <th></th>\n",
       "    </tr>\n",
       "  </thead>\n",
       "  <tbody>\n",
       "    <tr>\n",
       "      <th>Elefante</th>\n",
       "      <td>NaN</td>\n",
       "      <td>NaN</td>\n",
       "      <td>10.0</td>\n",
       "    </tr>\n",
       "    <tr>\n",
       "      <th>Girafa</th>\n",
       "      <td>NaN</td>\n",
       "      <td>NaN</td>\n",
       "      <td>8.0</td>\n",
       "    </tr>\n",
       "    <tr>\n",
       "      <th>Leão</th>\n",
       "      <td>NaN</td>\n",
       "      <td>NaN</td>\n",
       "      <td>15.0</td>\n",
       "    </tr>\n",
       "    <tr>\n",
       "      <th>Pinguim</th>\n",
       "      <td>NaN</td>\n",
       "      <td>20.0</td>\n",
       "      <td>NaN</td>\n",
       "    </tr>\n",
       "    <tr>\n",
       "      <th>Tigre</th>\n",
       "      <td>12.0</td>\n",
       "      <td>NaN</td>\n",
       "      <td>NaN</td>\n",
       "    </tr>\n",
       "  </tbody>\n",
       "</table>\n",
       "</div>"
      ],
      "text/plain": [
       "habitat   Floresta  Polo Sul  Savana\n",
       "animal                              \n",
       "Elefante       NaN       NaN    10.0\n",
       "Girafa         NaN       NaN     8.0\n",
       "Leão           NaN       NaN    15.0\n",
       "Pinguim        NaN      20.0     NaN\n",
       "Tigre         12.0       NaN     NaN"
      ]
     },
     "metadata": {},
     "output_type": "display_data"
    }
   ],
   "source": [
    "# print('columns:', pivot_data.columns.tolist())\n",
    "# print('index:', pivot_data.index.name)\n",
    "# display(pivot_data.head())"
   ]
  },
  {
   "cell_type": "markdown",
   "metadata": {},
   "source": [
    "Meu id_vars (olha os args do melt) ideal são os dados que estão no `index`, que eu não consigo acessar pelos `['']` porque não é uma coluna (olhar e comparar os dados do exemplo na documentação)."
   ]
  },
  {
   "cell_type": "code",
   "execution_count": null,
   "metadata": {},
   "outputs": [],
   "source": [
    "#nao consigo acessar os indices aqui:\n",
    "# pivot_data['animal'] #erro!"
   ]
  },
  {
   "cell_type": "markdown",
   "metadata": {},
   "source": [
    "Portanto, uma forma de obter esses dados é fazer com que o índice vire uma coluna do DataFrame:"
   ]
  },
  {
   "cell_type": "code",
   "execution_count": null,
   "metadata": {},
   "outputs": [],
   "source": [
    "# pivot_data.reset_index()['animal']   # faz com que o indice comece do 0, além disso, transforma o indíce anterior em coluna"
   ]
  },
  {
   "cell_type": "code",
   "execution_count": 6,
   "metadata": {},
   "outputs": [
    {
     "data": {
      "text/html": [
       "<div>\n",
       "<style scoped>\n",
       "    .dataframe tbody tr th:only-of-type {\n",
       "        vertical-align: middle;\n",
       "    }\n",
       "\n",
       "    .dataframe tbody tr th {\n",
       "        vertical-align: top;\n",
       "    }\n",
       "\n",
       "    .dataframe thead th {\n",
       "        text-align: right;\n",
       "    }\n",
       "</style>\n",
       "<table border=\"1\" class=\"dataframe\">\n",
       "  <thead>\n",
       "    <tr style=\"text-align: right;\">\n",
       "      <th></th>\n",
       "      <th>animal</th>\n",
       "      <th>habitat</th>\n",
       "      <th>value</th>\n",
       "    </tr>\n",
       "  </thead>\n",
       "  <tbody>\n",
       "    <tr>\n",
       "      <th>0</th>\n",
       "      <td>Elefante</td>\n",
       "      <td>Floresta</td>\n",
       "      <td>NaN</td>\n",
       "    </tr>\n",
       "    <tr>\n",
       "      <th>1</th>\n",
       "      <td>Girafa</td>\n",
       "      <td>Floresta</td>\n",
       "      <td>NaN</td>\n",
       "    </tr>\n",
       "    <tr>\n",
       "      <th>2</th>\n",
       "      <td>Leão</td>\n",
       "      <td>Floresta</td>\n",
       "      <td>NaN</td>\n",
       "    </tr>\n",
       "    <tr>\n",
       "      <th>3</th>\n",
       "      <td>Pinguim</td>\n",
       "      <td>Floresta</td>\n",
       "      <td>NaN</td>\n",
       "    </tr>\n",
       "    <tr>\n",
       "      <th>4</th>\n",
       "      <td>Tigre</td>\n",
       "      <td>Floresta</td>\n",
       "      <td>12.0</td>\n",
       "    </tr>\n",
       "    <tr>\n",
       "      <th>5</th>\n",
       "      <td>Elefante</td>\n",
       "      <td>Polo Sul</td>\n",
       "      <td>NaN</td>\n",
       "    </tr>\n",
       "    <tr>\n",
       "      <th>6</th>\n",
       "      <td>Girafa</td>\n",
       "      <td>Polo Sul</td>\n",
       "      <td>NaN</td>\n",
       "    </tr>\n",
       "    <tr>\n",
       "      <th>7</th>\n",
       "      <td>Leão</td>\n",
       "      <td>Polo Sul</td>\n",
       "      <td>NaN</td>\n",
       "    </tr>\n",
       "    <tr>\n",
       "      <th>8</th>\n",
       "      <td>Pinguim</td>\n",
       "      <td>Polo Sul</td>\n",
       "      <td>20.0</td>\n",
       "    </tr>\n",
       "    <tr>\n",
       "      <th>9</th>\n",
       "      <td>Tigre</td>\n",
       "      <td>Polo Sul</td>\n",
       "      <td>NaN</td>\n",
       "    </tr>\n",
       "    <tr>\n",
       "      <th>10</th>\n",
       "      <td>Elefante</td>\n",
       "      <td>Savana</td>\n",
       "      <td>10.0</td>\n",
       "    </tr>\n",
       "    <tr>\n",
       "      <th>11</th>\n",
       "      <td>Girafa</td>\n",
       "      <td>Savana</td>\n",
       "      <td>8.0</td>\n",
       "    </tr>\n",
       "    <tr>\n",
       "      <th>12</th>\n",
       "      <td>Leão</td>\n",
       "      <td>Savana</td>\n",
       "      <td>15.0</td>\n",
       "    </tr>\n",
       "    <tr>\n",
       "      <th>13</th>\n",
       "      <td>Pinguim</td>\n",
       "      <td>Savana</td>\n",
       "      <td>NaN</td>\n",
       "    </tr>\n",
       "    <tr>\n",
       "      <th>14</th>\n",
       "      <td>Tigre</td>\n",
       "      <td>Savana</td>\n",
       "      <td>NaN</td>\n",
       "    </tr>\n",
       "  </tbody>\n",
       "</table>\n",
       "</div>"
      ],
      "text/plain": [
       "      animal   habitat  value\n",
       "0   Elefante  Floresta    NaN\n",
       "1     Girafa  Floresta    NaN\n",
       "2       Leão  Floresta    NaN\n",
       "3    Pinguim  Floresta    NaN\n",
       "4      Tigre  Floresta   12.0\n",
       "5   Elefante  Polo Sul    NaN\n",
       "6     Girafa  Polo Sul    NaN\n",
       "7       Leão  Polo Sul    NaN\n",
       "8    Pinguim  Polo Sul   20.0\n",
       "9      Tigre  Polo Sul    NaN\n",
       "10  Elefante    Savana   10.0\n",
       "11    Girafa    Savana    8.0\n",
       "12      Leão    Savana   15.0\n",
       "13   Pinguim    Savana    NaN\n",
       "14     Tigre    Savana    NaN"
      ]
     },
     "execution_count": 6,
     "metadata": {},
     "output_type": "execute_result"
    }
   ],
   "source": [
    "# pivot_data.reset_index().melt(id_vars='animal')"
   ]
  },
  {
   "cell_type": "markdown",
   "metadata": {},
   "source": [
    "# Exercícios <div id=\"exer\">"
   ]
  },
  {
   "cell_type": "markdown",
   "metadata": {},
   "source": [
    "exer1"
   ]
  },
  {
   "cell_type": "markdown",
   "metadata": {},
   "source": [
    "_blank_"
   ]
  },
  {
   "cell_type": "markdown",
   "metadata": {},
   "source": [
    "Solução"
   ]
  },
  {
   "cell_type": "markdown",
   "metadata": {},
   "source": [
    "exer2"
   ]
  },
  {
   "cell_type": "markdown",
   "metadata": {},
   "source": [
    "_blank_"
   ]
  },
  {
   "cell_type": "markdown",
   "metadata": {},
   "source": [
    "Solução"
   ]
  },
  {
   "cell_type": "markdown",
   "metadata": {},
   "source": [
    "exer2"
   ]
  },
  {
   "cell_type": "markdown",
   "metadata": {},
   "source": [
    "_blank_"
   ]
  },
  {
   "cell_type": "markdown",
   "metadata": {},
   "source": [
    "Solução"
   ]
  },
  {
   "cell_type": "markdown",
   "metadata": {},
   "source": [
    "exer4"
   ]
  },
  {
   "cell_type": "markdown",
   "metadata": {},
   "source": [
    "_blank_"
   ]
  },
  {
   "cell_type": "markdown",
   "metadata": {},
   "source": [
    "Solução"
   ]
  }
 ],
 "metadata": {
  "kernelspec": {
   "display_name": "base",
   "language": "python",
   "name": "python3"
  },
  "language_info": {
   "codemirror_mode": {
    "name": "ipython",
    "version": 3
   },
   "file_extension": ".py",
   "mimetype": "text/x-python",
   "name": "python",
   "nbconvert_exporter": "python",
   "pygments_lexer": "ipython3",
   "version": "3.10.9"
  }
 },
 "nbformat": 4,
 "nbformat_minor": 2
}
