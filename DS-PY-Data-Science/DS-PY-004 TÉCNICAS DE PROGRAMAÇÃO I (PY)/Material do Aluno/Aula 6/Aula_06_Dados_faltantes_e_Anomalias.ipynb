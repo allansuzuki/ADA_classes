{
  "cells": [
    {
      "cell_type": "markdown",
      "metadata": {
        "id": "Am1Gz3iQlFS6"
      },
      "source": [
        "# Aula 6 - Como limpar dados em Data Frames?\n",
        "\n",
        "Nesta aula vamos continuar aprendendo a usar o [pandas](https://pandas.pydata.org/) para:\n",
        "- Identificação de valores missings\n",
        "- Identificação de valores atípicos\n",
        "- Deletar informações de uma tabela"
      ]
    },
    {
      "cell_type": "markdown",
      "metadata": {
        "id": "U6QTn50DlVIn"
      },
      "source": [
        "___\n",
        "**PROBLEMA 1:**\n",
        "\n",
        "Imagine que você está trabalhando com um conjunto de dados de vendas de seguros de saúde, porém, ele contém valores faltantes em várias colunas.\n",
        "\n",
        "Seu objetivo é identificar e lidar com esses valores ausentes para realizar uma análise correta.\n",
        "\n",
        "O que você deve fazer?"
      ]
    },
    {
      "cell_type": "markdown",
      "metadata": {
        "id": "HzYxpwcOlwBm"
      },
      "source": [
        "____\n",
        "\n",
        "**PROBLEMA 2:**\n",
        "\n",
        "Ao analisar dados de uma pesquisa de valores de plano de saúde, é necessário identificar os valores que fogem muito da média e podem ser considerados valores atípicos.\n",
        "\n",
        "Como realizamos essa análise?"
      ]
    },
    {
      "cell_type": "markdown",
      "metadata": {
        "id": "jo19PMFBpeyC"
      },
      "source": [
        "____\n",
        "\n",
        "Para começarmos, vamos abrir o conjunto de dados na pasta *datasets* com o título **medical_insurance**.\n",
        "\n",
        "Esse *dataset* é um conjunto modificado de um famoso *dataset* disponível no link [medical insurance](https://www.kaggle.com/datasets/mirichoi0218/insurance), no site do Kaggle."
      ]
    },
    {
      "cell_type": "code",
      "execution_count": 1,
      "metadata": {
        "id": "Gq06d9AEroT8"
      },
      "outputs": [],
      "source": [
        "import pandas as pd"
      ]
    },
    {
      "cell_type": "code",
      "execution_count": 2,
      "metadata": {
        "id": "lu5ceDlVrS-S"
      },
      "outputs": [],
      "source": [
        "df_insurance = pd.read_csv('../datasets/Medical_insurance.csv')"
      ]
    },
    {
      "cell_type": "code",
      "execution_count": 3,
      "metadata": {
        "colab": {
          "base_uri": "https://localhost:8080/"
        },
        "id": "b-oJFUbgr7jO",
        "outputId": "35d62ec6-32ca-42db-c89c-0367e6e76289"
      },
      "outputs": [
        {
          "name": "stdout",
          "output_type": "stream",
          "text": [
            "<class 'pandas.core.frame.DataFrame'>\n",
            "RangeIndex: 2772 entries, 0 to 2771\n",
            "Data columns (total 7 columns):\n",
            " #   Column    Non-Null Count  Dtype  \n",
            "---  ------    --------------  -----  \n",
            " 0   age       2772 non-null   int64  \n",
            " 1   sex       2772 non-null   object \n",
            " 2   bmi       2772 non-null   float64\n",
            " 3   children  2772 non-null   int64  \n",
            " 4   smoker    2772 non-null   object \n",
            " 5   region    2772 non-null   object \n",
            " 6   charges   2772 non-null   float64\n",
            "dtypes: float64(2), int64(2), object(3)\n",
            "memory usage: 151.7+ KB\n"
          ]
        }
      ],
      "source": [
        "#Ver as informações\n",
        "df_insurance.info()"
      ]
    },
    {
      "cell_type": "code",
      "execution_count": 4,
      "metadata": {
        "colab": {
          "base_uri": "https://localhost:8080/"
        },
        "id": "XIAgon9QsClV",
        "outputId": "84858810-6b15-4574-ce52-e882171e5f82"
      },
      "outputs": [
        {
          "data": {
            "text/plain": [
              "age\n",
              "18    148\n",
              "19    142\n",
              "47     62\n",
              "52     62\n",
              "45     62\n",
              "23     62\n",
              "46     60\n",
              "54     60\n",
              "51     60\n",
              "28     60\n",
              "21     60\n",
              "22     60\n",
              "26     60\n",
              "25     58\n",
              "50     58\n",
              "27     58\n",
              "20     58\n",
              "53     58\n",
              "48     58\n",
              "49     56\n",
              "44     56\n",
              "41     56\n",
              "24     56\n",
              "32     56\n",
              "30     56\n",
              "56     56\n",
              "39     54\n",
              "33     54\n",
              "42     54\n",
              "40     54\n",
              "43     54\n",
              "31     54\n",
              "57     54\n",
              "29     54\n",
              "37     52\n",
              "59     52\n",
              "58     52\n",
              "34     52\n",
              "55     52\n",
              "35     50\n",
              "36     50\n",
              "38     50\n",
              "62     48\n",
              "60     46\n",
              "64     46\n",
              "63     46\n",
              "61     46\n",
              "Name: count, dtype: int64"
            ]
          },
          "execution_count": 4,
          "metadata": {},
          "output_type": "execute_result"
        }
      ],
      "source": [
        "#Ver as idades\n",
        "df_insurance['age'].value_counts()"
      ]
    },
    {
      "cell_type": "code",
      "execution_count": 5,
      "metadata": {
        "id": "WLCYAIPdsOSe"
      },
      "outputs": [],
      "source": [
        "import numpy as np"
      ]
    },
    {
      "cell_type": "code",
      "execution_count": 6,
      "metadata": {
        "id": "jjGT-3UwspcW"
      },
      "outputs": [],
      "source": [
        "# Função para substituir 60 por NaN\n",
        "def substituir_por_nan(valor):\n",
        "    if valor == 60:\n",
        "        return np.nan\n",
        "    return valor"
      ]
    },
    {
      "cell_type": "code",
      "execution_count": 7,
      "metadata": {
        "id": "Spp4LWp2sAUj"
      },
      "outputs": [],
      "source": [
        "#Trocar as idades de 60 por Nan\n",
        "df_insurance['age'] = df_insurance['age'].map(substituir_por_nan)"
      ]
    },
    {
      "cell_type": "code",
      "execution_count": 8,
      "metadata": {
        "colab": {
          "base_uri": "https://localhost:8080/"
        },
        "id": "Lx0iughDsT7c",
        "outputId": "88e58fe1-33c7-4d18-9d5c-85c1359da9d5"
      },
      "outputs": [
        {
          "name": "stdout",
          "output_type": "stream",
          "text": [
            "<class 'pandas.core.frame.DataFrame'>\n",
            "RangeIndex: 2772 entries, 0 to 2771\n",
            "Data columns (total 7 columns):\n",
            " #   Column    Non-Null Count  Dtype  \n",
            "---  ------    --------------  -----  \n",
            " 0   age       2726 non-null   float64\n",
            " 1   sex       2772 non-null   object \n",
            " 2   bmi       2772 non-null   float64\n",
            " 3   children  2772 non-null   int64  \n",
            " 4   smoker    2772 non-null   object \n",
            " 5   region    2772 non-null   object \n",
            " 6   charges   2772 non-null   float64\n",
            "dtypes: float64(3), int64(1), object(3)\n",
            "memory usage: 151.7+ KB\n"
          ]
        }
      ],
      "source": [
        "df_insurance.info()"
      ]
    },
    {
      "cell_type": "markdown",
      "metadata": {
        "id": "ue4Sq9rgl7PU"
      },
      "source": [
        "____\n",
        "\n",
        "## 1. O que são valores *missings* e como tratá-los?\n",
        "\n",
        "Valores faltantes, também conhecidos como \"missing values\" ou \"NaN\" (Not a Number), referem-se à ausência de dados em um conjunto de dados.\n",
        "\n",
        "\n",
        "Eles podem ocorrer por diversas razões, como erros na coleta de dados, falhas nos sistemas de armazenamento, problemas de integração entre fontes de dados ou simplesmente porque a informação não estava disponível no momento da coleta."
      ]
    },
    {
      "cell_type": "markdown",
      "metadata": {
        "id": "AWxL7rNLo3aG"
      },
      "source": [
        "### 1.1. Como identificamos os valores ausentes?\n",
        "\n",
        "Para identificar um valor faltante, podemos usar alguns métodos de pandas, como por exemplo: ```isna(), notna(), isnull(), notnull()```"
      ]
    },
    {
      "cell_type": "markdown",
      "metadata": {
        "id": "2sLHeM-Mt6C1"
      },
      "source": [
        "As funções **isnull()** e **isna()** verifica se há valores faltantes em um dataframe e retorna um dataframe com booleanos do mesmo tamanho que o original: True se for um valor faltante e False, caso contrário."
      ]
    },
    {
      "cell_type": "code",
      "execution_count": 9,
      "metadata": {
        "colab": {
          "base_uri": "https://localhost:8080/",
          "height": 424
        },
        "id": "WlNWx64ZtjFz",
        "outputId": "7120c136-84f1-4009-f648-65647af09ec4"
      },
      "outputs": [
        {
          "data": {
            "text/html": [
              "<div>\n",
              "<style scoped>\n",
              "    .dataframe tbody tr th:only-of-type {\n",
              "        vertical-align: middle;\n",
              "    }\n",
              "\n",
              "    .dataframe tbody tr th {\n",
              "        vertical-align: top;\n",
              "    }\n",
              "\n",
              "    .dataframe thead th {\n",
              "        text-align: right;\n",
              "    }\n",
              "</style>\n",
              "<table border=\"1\" class=\"dataframe\">\n",
              "  <thead>\n",
              "    <tr style=\"text-align: right;\">\n",
              "      <th></th>\n",
              "      <th>age</th>\n",
              "      <th>sex</th>\n",
              "      <th>bmi</th>\n",
              "      <th>children</th>\n",
              "      <th>smoker</th>\n",
              "      <th>region</th>\n",
              "      <th>charges</th>\n",
              "    </tr>\n",
              "  </thead>\n",
              "  <tbody>\n",
              "    <tr>\n",
              "      <th>0</th>\n",
              "      <td>False</td>\n",
              "      <td>False</td>\n",
              "      <td>False</td>\n",
              "      <td>False</td>\n",
              "      <td>False</td>\n",
              "      <td>False</td>\n",
              "      <td>False</td>\n",
              "    </tr>\n",
              "    <tr>\n",
              "      <th>1</th>\n",
              "      <td>False</td>\n",
              "      <td>False</td>\n",
              "      <td>False</td>\n",
              "      <td>False</td>\n",
              "      <td>False</td>\n",
              "      <td>False</td>\n",
              "      <td>False</td>\n",
              "    </tr>\n",
              "    <tr>\n",
              "      <th>2</th>\n",
              "      <td>False</td>\n",
              "      <td>False</td>\n",
              "      <td>False</td>\n",
              "      <td>False</td>\n",
              "      <td>False</td>\n",
              "      <td>False</td>\n",
              "      <td>False</td>\n",
              "    </tr>\n",
              "    <tr>\n",
              "      <th>3</th>\n",
              "      <td>False</td>\n",
              "      <td>False</td>\n",
              "      <td>False</td>\n",
              "      <td>False</td>\n",
              "      <td>False</td>\n",
              "      <td>False</td>\n",
              "      <td>False</td>\n",
              "    </tr>\n",
              "    <tr>\n",
              "      <th>4</th>\n",
              "      <td>False</td>\n",
              "      <td>False</td>\n",
              "      <td>False</td>\n",
              "      <td>False</td>\n",
              "      <td>False</td>\n",
              "      <td>False</td>\n",
              "      <td>False</td>\n",
              "    </tr>\n",
              "    <tr>\n",
              "      <th>...</th>\n",
              "      <td>...</td>\n",
              "      <td>...</td>\n",
              "      <td>...</td>\n",
              "      <td>...</td>\n",
              "      <td>...</td>\n",
              "      <td>...</td>\n",
              "      <td>...</td>\n",
              "    </tr>\n",
              "    <tr>\n",
              "      <th>2767</th>\n",
              "      <td>False</td>\n",
              "      <td>False</td>\n",
              "      <td>False</td>\n",
              "      <td>False</td>\n",
              "      <td>False</td>\n",
              "      <td>False</td>\n",
              "      <td>False</td>\n",
              "    </tr>\n",
              "    <tr>\n",
              "      <th>2768</th>\n",
              "      <td>False</td>\n",
              "      <td>False</td>\n",
              "      <td>False</td>\n",
              "      <td>False</td>\n",
              "      <td>False</td>\n",
              "      <td>False</td>\n",
              "      <td>False</td>\n",
              "    </tr>\n",
              "    <tr>\n",
              "      <th>2769</th>\n",
              "      <td>False</td>\n",
              "      <td>False</td>\n",
              "      <td>False</td>\n",
              "      <td>False</td>\n",
              "      <td>False</td>\n",
              "      <td>False</td>\n",
              "      <td>False</td>\n",
              "    </tr>\n",
              "    <tr>\n",
              "      <th>2770</th>\n",
              "      <td>False</td>\n",
              "      <td>False</td>\n",
              "      <td>False</td>\n",
              "      <td>False</td>\n",
              "      <td>False</td>\n",
              "      <td>False</td>\n",
              "      <td>False</td>\n",
              "    </tr>\n",
              "    <tr>\n",
              "      <th>2771</th>\n",
              "      <td>False</td>\n",
              "      <td>False</td>\n",
              "      <td>False</td>\n",
              "      <td>False</td>\n",
              "      <td>False</td>\n",
              "      <td>False</td>\n",
              "      <td>False</td>\n",
              "    </tr>\n",
              "  </tbody>\n",
              "</table>\n",
              "<p>2772 rows × 7 columns</p>\n",
              "</div>"
            ],
            "text/plain": [
              "        age    sex    bmi  children  smoker  region  charges\n",
              "0     False  False  False     False   False   False    False\n",
              "1     False  False  False     False   False   False    False\n",
              "2     False  False  False     False   False   False    False\n",
              "3     False  False  False     False   False   False    False\n",
              "4     False  False  False     False   False   False    False\n",
              "...     ...    ...    ...       ...     ...     ...      ...\n",
              "2767  False  False  False     False   False   False    False\n",
              "2768  False  False  False     False   False   False    False\n",
              "2769  False  False  False     False   False   False    False\n",
              "2770  False  False  False     False   False   False    False\n",
              "2771  False  False  False     False   False   False    False\n",
              "\n",
              "[2772 rows x 7 columns]"
            ]
          },
          "execution_count": 9,
          "metadata": {},
          "output_type": "execute_result"
        }
      ],
      "source": [
        "#Aplicando a função isnull\n",
        "df_insurance.isnull()"
      ]
    },
    {
      "cell_type": "code",
      "execution_count": 10,
      "metadata": {
        "colab": {
          "base_uri": "https://localhost:8080/",
          "height": 424
        },
        "id": "w3pem94buP3N",
        "outputId": "cdbfb446-9ff3-46fc-e934-31cea6c5b0e3"
      },
      "outputs": [
        {
          "data": {
            "text/html": [
              "<div>\n",
              "<style scoped>\n",
              "    .dataframe tbody tr th:only-of-type {\n",
              "        vertical-align: middle;\n",
              "    }\n",
              "\n",
              "    .dataframe tbody tr th {\n",
              "        vertical-align: top;\n",
              "    }\n",
              "\n",
              "    .dataframe thead th {\n",
              "        text-align: right;\n",
              "    }\n",
              "</style>\n",
              "<table border=\"1\" class=\"dataframe\">\n",
              "  <thead>\n",
              "    <tr style=\"text-align: right;\">\n",
              "      <th></th>\n",
              "      <th>age</th>\n",
              "      <th>sex</th>\n",
              "      <th>bmi</th>\n",
              "      <th>children</th>\n",
              "      <th>smoker</th>\n",
              "      <th>region</th>\n",
              "      <th>charges</th>\n",
              "    </tr>\n",
              "  </thead>\n",
              "  <tbody>\n",
              "    <tr>\n",
              "      <th>0</th>\n",
              "      <td>False</td>\n",
              "      <td>False</td>\n",
              "      <td>False</td>\n",
              "      <td>False</td>\n",
              "      <td>False</td>\n",
              "      <td>False</td>\n",
              "      <td>False</td>\n",
              "    </tr>\n",
              "    <tr>\n",
              "      <th>1</th>\n",
              "      <td>False</td>\n",
              "      <td>False</td>\n",
              "      <td>False</td>\n",
              "      <td>False</td>\n",
              "      <td>False</td>\n",
              "      <td>False</td>\n",
              "      <td>False</td>\n",
              "    </tr>\n",
              "    <tr>\n",
              "      <th>2</th>\n",
              "      <td>False</td>\n",
              "      <td>False</td>\n",
              "      <td>False</td>\n",
              "      <td>False</td>\n",
              "      <td>False</td>\n",
              "      <td>False</td>\n",
              "      <td>False</td>\n",
              "    </tr>\n",
              "    <tr>\n",
              "      <th>3</th>\n",
              "      <td>False</td>\n",
              "      <td>False</td>\n",
              "      <td>False</td>\n",
              "      <td>False</td>\n",
              "      <td>False</td>\n",
              "      <td>False</td>\n",
              "      <td>False</td>\n",
              "    </tr>\n",
              "    <tr>\n",
              "      <th>4</th>\n",
              "      <td>False</td>\n",
              "      <td>False</td>\n",
              "      <td>False</td>\n",
              "      <td>False</td>\n",
              "      <td>False</td>\n",
              "      <td>False</td>\n",
              "      <td>False</td>\n",
              "    </tr>\n",
              "    <tr>\n",
              "      <th>...</th>\n",
              "      <td>...</td>\n",
              "      <td>...</td>\n",
              "      <td>...</td>\n",
              "      <td>...</td>\n",
              "      <td>...</td>\n",
              "      <td>...</td>\n",
              "      <td>...</td>\n",
              "    </tr>\n",
              "    <tr>\n",
              "      <th>2767</th>\n",
              "      <td>False</td>\n",
              "      <td>False</td>\n",
              "      <td>False</td>\n",
              "      <td>False</td>\n",
              "      <td>False</td>\n",
              "      <td>False</td>\n",
              "      <td>False</td>\n",
              "    </tr>\n",
              "    <tr>\n",
              "      <th>2768</th>\n",
              "      <td>False</td>\n",
              "      <td>False</td>\n",
              "      <td>False</td>\n",
              "      <td>False</td>\n",
              "      <td>False</td>\n",
              "      <td>False</td>\n",
              "      <td>False</td>\n",
              "    </tr>\n",
              "    <tr>\n",
              "      <th>2769</th>\n",
              "      <td>False</td>\n",
              "      <td>False</td>\n",
              "      <td>False</td>\n",
              "      <td>False</td>\n",
              "      <td>False</td>\n",
              "      <td>False</td>\n",
              "      <td>False</td>\n",
              "    </tr>\n",
              "    <tr>\n",
              "      <th>2770</th>\n",
              "      <td>False</td>\n",
              "      <td>False</td>\n",
              "      <td>False</td>\n",
              "      <td>False</td>\n",
              "      <td>False</td>\n",
              "      <td>False</td>\n",
              "      <td>False</td>\n",
              "    </tr>\n",
              "    <tr>\n",
              "      <th>2771</th>\n",
              "      <td>False</td>\n",
              "      <td>False</td>\n",
              "      <td>False</td>\n",
              "      <td>False</td>\n",
              "      <td>False</td>\n",
              "      <td>False</td>\n",
              "      <td>False</td>\n",
              "    </tr>\n",
              "  </tbody>\n",
              "</table>\n",
              "<p>2772 rows × 7 columns</p>\n",
              "</div>"
            ],
            "text/plain": [
              "        age    sex    bmi  children  smoker  region  charges\n",
              "0     False  False  False     False   False   False    False\n",
              "1     False  False  False     False   False   False    False\n",
              "2     False  False  False     False   False   False    False\n",
              "3     False  False  False     False   False   False    False\n",
              "4     False  False  False     False   False   False    False\n",
              "...     ...    ...    ...       ...     ...     ...      ...\n",
              "2767  False  False  False     False   False   False    False\n",
              "2768  False  False  False     False   False   False    False\n",
              "2769  False  False  False     False   False   False    False\n",
              "2770  False  False  False     False   False   False    False\n",
              "2771  False  False  False     False   False   False    False\n",
              "\n",
              "[2772 rows x 7 columns]"
            ]
          },
          "execution_count": 10,
          "metadata": {},
          "output_type": "execute_result"
        }
      ],
      "source": [
        "#Aplicando a função isna\n",
        "df_insurance.isna()"
      ]
    },
    {
      "cell_type": "markdown",
      "metadata": {
        "id": "w77C73uNuUA0"
      },
      "source": [
        "Podemos ainda aplicá-las para uma coluna específica (age):"
      ]
    },
    {
      "cell_type": "code",
      "execution_count": 11,
      "metadata": {
        "colab": {
          "base_uri": "https://localhost:8080/"
        },
        "id": "qoUfRimZuYk7",
        "outputId": "de2fef0d-8a37-45d8-cde1-24e4af229444"
      },
      "outputs": [
        {
          "data": {
            "text/plain": [
              "0       False\n",
              "1       False\n",
              "2       False\n",
              "3       False\n",
              "4       False\n",
              "        ...  \n",
              "2767    False\n",
              "2768    False\n",
              "2769    False\n",
              "2770    False\n",
              "2771    False\n",
              "Name: age, Length: 2772, dtype: bool"
            ]
          },
          "execution_count": 11,
          "metadata": {},
          "output_type": "execute_result"
        }
      ],
      "source": [
        "df_insurance['age'].isnull()"
      ]
    },
    {
      "cell_type": "code",
      "execution_count": 12,
      "metadata": {
        "colab": {
          "base_uri": "https://localhost:8080/"
        },
        "id": "X2Jtq7yuuboM",
        "outputId": "89db2a9e-5e7a-412c-ccc6-d19683215c16"
      },
      "outputs": [
        {
          "data": {
            "text/plain": [
              "0       False\n",
              "1       False\n",
              "2       False\n",
              "3       False\n",
              "4       False\n",
              "        ...  \n",
              "2767    False\n",
              "2768    False\n",
              "2769    False\n",
              "2770    False\n",
              "2771    False\n",
              "Name: age, Length: 2772, dtype: bool"
            ]
          },
          "execution_count": 12,
          "metadata": {},
          "output_type": "execute_result"
        }
      ],
      "source": [
        "df_insurance['age'].isna()"
      ]
    },
    {
      "cell_type": "markdown",
      "metadata": {
        "id": "D5R3WpbRtehc"
      },
      "source": [
        "#### 1.2. Como lidamos com valores faltantes?\n",
        "\n",
        "Existem várias estratégias para lidar com valores faltantes, e a escolha de método pode depender do contexto dos dados e da quantidade de valores ausentes:\n",
        "\n",
        "a. Remoção\n",
        "\n",
        "b. Preenchimento com valores estatísticos\n",
        "\n",
        "c. Imputação avançada"
      ]
    },
    {
      "cell_type": "markdown",
      "metadata": {
        "id": "_Wdo7shZpLes"
      },
      "source": [
        "#### Remoção de valores faltantes\n",
        "\n",
        "Uma abordagem simples é eliminar colunas ou linhas que contenham valores faltantes.\n",
        "\n",
        "Para isso, vamos usar o método ```.dropna()``` do pandas.\n",
        "\n",
        "**Obs.:** Pode levar a perda de informação relevante."
      ]
    },
    {
      "cell_type": "markdown",
      "metadata": {
        "id": "M_-XKvqTvDi1"
      },
      "source": [
        "Basicamente, neste método temos os seguintes argumentos:\n",
        "* axis: determina se removemos linhas ('axis' = 0) ou colunas ('axis'=1). O **padrão** é linhas ('axis'=0);\n",
        "* how: Condição para remoção: 'how'='any' - padrão - (remove linhas ou colunas com pelo menos 1 *NaN*) e 'how'= 'all' (remove linhas ou colunas onde todos os valores são *NaN*;\n",
        "* thresh: Especifica o número mínimo de valores não nulos necessários para manter a linha ou coluna.\n",
        "* subset: Permite especificar uma lista de colunas para considerar na busca por valores faltantes.\n",
        "* inplace: Determina se a modificação deve ser feita no DataFrame original. Se True, altera o DataFrame existente; se False (padrão), retorna um novo DataFrame sem alterar o original."
      ]
    },
    {
      "cell_type": "code",
      "execution_count": 13,
      "metadata": {
        "colab": {
          "base_uri": "https://localhost:8080/",
          "height": 424
        },
        "id": "MvU30b3Nkju3",
        "outputId": "21f24624-1e61-4c9a-e4c3-fc2ef1771ab8"
      },
      "outputs": [
        {
          "data": {
            "text/html": [
              "<div>\n",
              "<style scoped>\n",
              "    .dataframe tbody tr th:only-of-type {\n",
              "        vertical-align: middle;\n",
              "    }\n",
              "\n",
              "    .dataframe tbody tr th {\n",
              "        vertical-align: top;\n",
              "    }\n",
              "\n",
              "    .dataframe thead th {\n",
              "        text-align: right;\n",
              "    }\n",
              "</style>\n",
              "<table border=\"1\" class=\"dataframe\">\n",
              "  <thead>\n",
              "    <tr style=\"text-align: right;\">\n",
              "      <th></th>\n",
              "      <th>age</th>\n",
              "      <th>sex</th>\n",
              "      <th>bmi</th>\n",
              "      <th>children</th>\n",
              "      <th>smoker</th>\n",
              "      <th>region</th>\n",
              "      <th>charges</th>\n",
              "    </tr>\n",
              "  </thead>\n",
              "  <tbody>\n",
              "    <tr>\n",
              "      <th>0</th>\n",
              "      <td>19.0</td>\n",
              "      <td>female</td>\n",
              "      <td>27.900</td>\n",
              "      <td>0</td>\n",
              "      <td>yes</td>\n",
              "      <td>southwest</td>\n",
              "      <td>16884.92400</td>\n",
              "    </tr>\n",
              "    <tr>\n",
              "      <th>1</th>\n",
              "      <td>18.0</td>\n",
              "      <td>male</td>\n",
              "      <td>33.770</td>\n",
              "      <td>1</td>\n",
              "      <td>no</td>\n",
              "      <td>southeast</td>\n",
              "      <td>1725.55230</td>\n",
              "    </tr>\n",
              "    <tr>\n",
              "      <th>2</th>\n",
              "      <td>28.0</td>\n",
              "      <td>male</td>\n",
              "      <td>33.000</td>\n",
              "      <td>3</td>\n",
              "      <td>no</td>\n",
              "      <td>southeast</td>\n",
              "      <td>4449.46200</td>\n",
              "    </tr>\n",
              "    <tr>\n",
              "      <th>3</th>\n",
              "      <td>33.0</td>\n",
              "      <td>male</td>\n",
              "      <td>22.705</td>\n",
              "      <td>0</td>\n",
              "      <td>no</td>\n",
              "      <td>northwest</td>\n",
              "      <td>21984.47061</td>\n",
              "    </tr>\n",
              "    <tr>\n",
              "      <th>4</th>\n",
              "      <td>32.0</td>\n",
              "      <td>male</td>\n",
              "      <td>28.880</td>\n",
              "      <td>0</td>\n",
              "      <td>no</td>\n",
              "      <td>northwest</td>\n",
              "      <td>3866.85520</td>\n",
              "    </tr>\n",
              "    <tr>\n",
              "      <th>...</th>\n",
              "      <td>...</td>\n",
              "      <td>...</td>\n",
              "      <td>...</td>\n",
              "      <td>...</td>\n",
              "      <td>...</td>\n",
              "      <td>...</td>\n",
              "      <td>...</td>\n",
              "    </tr>\n",
              "    <tr>\n",
              "      <th>2767</th>\n",
              "      <td>47.0</td>\n",
              "      <td>female</td>\n",
              "      <td>45.320</td>\n",
              "      <td>1</td>\n",
              "      <td>no</td>\n",
              "      <td>southeast</td>\n",
              "      <td>8569.86180</td>\n",
              "    </tr>\n",
              "    <tr>\n",
              "      <th>2768</th>\n",
              "      <td>21.0</td>\n",
              "      <td>female</td>\n",
              "      <td>34.600</td>\n",
              "      <td>0</td>\n",
              "      <td>no</td>\n",
              "      <td>southwest</td>\n",
              "      <td>2020.17700</td>\n",
              "    </tr>\n",
              "    <tr>\n",
              "      <th>2769</th>\n",
              "      <td>19.0</td>\n",
              "      <td>male</td>\n",
              "      <td>26.030</td>\n",
              "      <td>1</td>\n",
              "      <td>yes</td>\n",
              "      <td>northwest</td>\n",
              "      <td>16450.89470</td>\n",
              "    </tr>\n",
              "    <tr>\n",
              "      <th>2770</th>\n",
              "      <td>23.0</td>\n",
              "      <td>male</td>\n",
              "      <td>18.715</td>\n",
              "      <td>0</td>\n",
              "      <td>no</td>\n",
              "      <td>northwest</td>\n",
              "      <td>21595.38229</td>\n",
              "    </tr>\n",
              "    <tr>\n",
              "      <th>2771</th>\n",
              "      <td>54.0</td>\n",
              "      <td>male</td>\n",
              "      <td>31.600</td>\n",
              "      <td>0</td>\n",
              "      <td>no</td>\n",
              "      <td>southwest</td>\n",
              "      <td>9850.43200</td>\n",
              "    </tr>\n",
              "  </tbody>\n",
              "</table>\n",
              "<p>2726 rows × 7 columns</p>\n",
              "</div>"
            ],
            "text/plain": [
              "       age     sex     bmi  children smoker     region      charges\n",
              "0     19.0  female  27.900         0    yes  southwest  16884.92400\n",
              "1     18.0    male  33.770         1     no  southeast   1725.55230\n",
              "2     28.0    male  33.000         3     no  southeast   4449.46200\n",
              "3     33.0    male  22.705         0     no  northwest  21984.47061\n",
              "4     32.0    male  28.880         0     no  northwest   3866.85520\n",
              "...    ...     ...     ...       ...    ...        ...          ...\n",
              "2767  47.0  female  45.320         1     no  southeast   8569.86180\n",
              "2768  21.0  female  34.600         0     no  southwest   2020.17700\n",
              "2769  19.0    male  26.030         1    yes  northwest  16450.89470\n",
              "2770  23.0    male  18.715         0     no  northwest  21595.38229\n",
              "2771  54.0    male  31.600         0     no  southwest   9850.43200\n",
              "\n",
              "[2726 rows x 7 columns]"
            ]
          },
          "execution_count": 13,
          "metadata": {},
          "output_type": "execute_result"
        }
      ],
      "source": [
        "#Vamos remover as linhas com dados faltantes\n",
        "df_insurance.dropna()"
      ]
    },
    {
      "cell_type": "code",
      "execution_count": 14,
      "metadata": {},
      "outputs": [
        {
          "name": "stdout",
          "output_type": "stream",
          "text": [
            "<class 'pandas.core.frame.DataFrame'>\n",
            "RangeIndex: 2772 entries, 0 to 2771\n",
            "Data columns (total 7 columns):\n",
            " #   Column    Non-Null Count  Dtype  \n",
            "---  ------    --------------  -----  \n",
            " 0   age       2726 non-null   float64\n",
            " 1   sex       2772 non-null   object \n",
            " 2   bmi       2772 non-null   float64\n",
            " 3   children  2772 non-null   int64  \n",
            " 4   smoker    2772 non-null   object \n",
            " 5   region    2772 non-null   object \n",
            " 6   charges   2772 non-null   float64\n",
            "dtypes: float64(3), int64(1), object(3)\n",
            "memory usage: 151.7+ KB\n"
          ]
        }
      ],
      "source": [
        "df_insurance.info()"
      ]
    },
    {
      "cell_type": "markdown",
      "metadata": {
        "id": "lNMMl8jHwDuc"
      },
      "source": [
        "**Obs.:** Para mexer diretamente no DataFrame, precisamos alterar o **inplace** para ```True```."
      ]
    },
    {
      "cell_type": "markdown",
      "metadata": {
        "id": "7OZ0tkw9wO5U"
      },
      "source": [
        "#### Preenchimento com valores estatísticos:\n",
        "\n",
        "Valores faltantes podem ser preenchidos com estatísticas resumidas, como média, mediana ou moda dos dados disponíveis na mesma coluna.\n",
        "\n",
        "Isso pode ser feito usando o método ```.fillna()``` em Pandas.\n",
        "\n",
        "o método ```fillna()``` em Pandas é usado para preencher valores faltantes (NaN) em um DataFrame com um valor específico ou estratégia escolhida."
      ]
    },
    {
      "cell_type": "markdown",
      "metadata": {
        "id": "Wy8G5YN2xORM"
      },
      "source": [
        "Sua sintaxe é:\n",
        "\n",
        "```DataFrame.fillna(value=None, method=None, axis=None, inplace=False, limit=None, downcast=None)```"
      ]
    },
    {
      "cell_type": "markdown",
      "metadata": {
        "id": "bf9ZiPR1xU4s"
      },
      "source": [
        "* value: Valor escalar, dicionário, série ou DataFrame usado para preencher os valores faltantes. Pode ser um valor único, um dicionário com substituições específicas por coluna, ou uma série/DataFrame correspondente ao índice.\n",
        "* method: Método para preencher valores faltantes. Alguns métodos disponíveis são:\n",
        "  * 'ffill' ou 'pad': Preenche os valores faltantes com o último valor válido conhecido para frente.\n",
        "  * 'bfill' ou 'backfill': Preenche os valores faltantes com o próximo valor válido conhecido para trás.\n",
        "* axis: Determina se a operação deve ser aplicada ao longo das colunas (axis=1) ou linhas (axis=0).\n",
        "* inplace: Se True, modifica o DataFrame original; se False (padrão), retorna um novo DataFrame com os valores preenchidos.\n",
        "* limit: Especifica o número máximo de valores preenchidos consecutivos ao usar method='ffill' ou method='bfill'.\n",
        "* downcast: Permite reduzir a memória usada para tipos de dados numéricos ao preencher valores (exemplo: downcasting para tipos menores, como float para int)."
      ]
    },
    {
      "cell_type": "code",
      "execution_count": 17,
      "metadata": {
        "colab": {
          "base_uri": "https://localhost:8080/"
        },
        "id": "EZSuCyxIxIBk",
        "outputId": "1878a789-72fb-4f16-f3de-1d7b302a9789"
      },
      "outputs": [
        {
          "data": {
            "text/plain": [
              "0       19.0\n",
              "1       18.0\n",
              "2       28.0\n",
              "3       33.0\n",
              "4       32.0\n",
              "        ... \n",
              "2767    47.0\n",
              "2768    21.0\n",
              "2769    19.0\n",
              "2770    23.0\n",
              "2771    54.0\n",
              "Name: age, Length: 2772, dtype: float64"
            ]
          },
          "execution_count": 17,
          "metadata": {},
          "output_type": "execute_result"
        }
      ],
      "source": [
        "#Vamos substituir os dados faltantes pela idade que nós retiramos (60)\n",
        "df_insurance['age'].fillna(60)"
      ]
    },
    {
      "cell_type": "code",
      "execution_count": 18,
      "metadata": {
        "colab": {
          "base_uri": "https://localhost:8080/"
        },
        "id": "RkQSL_hAxp_L",
        "outputId": "1e4bcc0f-276c-4461-ec39-475cb6c30ba7"
      },
      "outputs": [
        {
          "data": {
            "text/plain": [
              "0       False\n",
              "1       False\n",
              "2       False\n",
              "3       False\n",
              "4       False\n",
              "        ...  \n",
              "2767    False\n",
              "2768    False\n",
              "2769    False\n",
              "2770    False\n",
              "2771    False\n",
              "Name: age, Length: 2772, dtype: bool"
            ]
          },
          "execution_count": 18,
          "metadata": {},
          "output_type": "execute_result"
        }
      ],
      "source": [
        "df_insurance['age'].isna()"
      ]
    },
    {
      "cell_type": "markdown",
      "metadata": {
        "id": "qS36mw4AxvBj"
      },
      "source": [
        "Se eu quiser saber a quantidade?"
      ]
    },
    {
      "cell_type": "code",
      "execution_count": 19,
      "metadata": {
        "colab": {
          "base_uri": "https://localhost:8080/"
        },
        "id": "svT_HblbwCOD",
        "outputId": "10ce8755-5b1e-4652-e54a-4a8db9e3cdba"
      },
      "outputs": [
        {
          "data": {
            "text/plain": [
              "46"
            ]
          },
          "execution_count": 19,
          "metadata": {},
          "output_type": "execute_result"
        }
      ],
      "source": [
        "df_insurance['age'].isna().sum()"
      ]
    },
    {
      "cell_type": "markdown",
      "metadata": {
        "id": "-muVaTB7xykc"
      },
      "source": [
        "E o percentual?"
      ]
    },
    {
      "cell_type": "code",
      "execution_count": 20,
      "metadata": {
        "colab": {
          "base_uri": "https://localhost:8080/"
        },
        "id": "vOhFLP1Pxx6z",
        "outputId": "76221e33-dacf-430f-f65a-e123af9f6a53"
      },
      "outputs": [
        {
          "data": {
            "text/plain": [
              "0.016594516594516596"
            ]
          },
          "execution_count": 20,
          "metadata": {},
          "output_type": "execute_result"
        }
      ],
      "source": [
        "df_insurance['age'].isna().mean()"
      ]
    },
    {
      "cell_type": "code",
      "execution_count": 23,
      "metadata": {
        "colab": {
          "base_uri": "https://localhost:8080/"
        },
        "id": "LSNyoenux3oa",
        "outputId": "6da7699b-7d63-4fc2-a7ce-47924e8be0c2"
      },
      "outputs": [
        {
          "data": {
            "text/plain": [
              "0"
            ]
          },
          "execution_count": 23,
          "metadata": {},
          "output_type": "execute_result"
        }
      ],
      "source": [
        "# Preenchendo os valores faltantes com o último valor válido conhecido (forward fill)\n",
        "serie_nova = df_insurance['age'].fillna(method='ffill')\n",
        "serie_nova.isna().sum()"
      ]
    },
    {
      "cell_type": "markdown",
      "metadata": {
        "id": "NgppR02qyJAM"
      },
      "source": [
        "E para preencher com a média ou outra medida estatística?"
      ]
    },
    {
      "cell_type": "code",
      "execution_count": 25,
      "metadata": {
        "colab": {
          "base_uri": "https://localhost:8080/"
        },
        "id": "WcQ60YbayDaS",
        "outputId": "dc99dd72-1d64-4f1d-d075-bda0255afe28"
      },
      "outputs": [
        {
          "data": {
            "text/plain": [
              "38.757153338224505"
            ]
          },
          "execution_count": 25,
          "metadata": {},
          "output_type": "execute_result"
        }
      ],
      "source": [
        "media_idade = df_insurance['age'].mean()\n",
        "media_idade"
      ]
    },
    {
      "cell_type": "code",
      "execution_count": 26,
      "metadata": {
        "colab": {
          "base_uri": "https://localhost:8080/"
        },
        "id": "njSW0tUeySZa",
        "outputId": "17d3e9b5-8d41-4f6e-81dd-732de739a99d"
      },
      "outputs": [
        {
          "data": {
            "text/plain": [
              "0"
            ]
          },
          "execution_count": 26,
          "metadata": {},
          "output_type": "execute_result"
        }
      ],
      "source": [
        "serie_nova = df_insurance['age'].fillna(media_idade)\n",
        "serie_nova.isna().sum()"
      ]
    },
    {
      "cell_type": "code",
      "execution_count": 27,
      "metadata": {
        "id": "C68DTKEcUIei"
      },
      "outputs": [],
      "source": [
        "#Preenchendo com o 60\n",
        "df_insurance['age'].fillna(value=60,inplace=True)"
      ]
    },
    {
      "cell_type": "code",
      "execution_count": 28,
      "metadata": {
        "colab": {
          "base_uri": "https://localhost:8080/"
        },
        "id": "j_LM-H4gUUTd",
        "outputId": "840c6e2e-85f0-446a-af8a-4e3ce6d64bb1"
      },
      "outputs": [
        {
          "name": "stdout",
          "output_type": "stream",
          "text": [
            "<class 'pandas.core.frame.DataFrame'>\n",
            "RangeIndex: 2772 entries, 0 to 2771\n",
            "Data columns (total 7 columns):\n",
            " #   Column    Non-Null Count  Dtype  \n",
            "---  ------    --------------  -----  \n",
            " 0   age       2772 non-null   float64\n",
            " 1   sex       2772 non-null   object \n",
            " 2   bmi       2772 non-null   float64\n",
            " 3   children  2772 non-null   int64  \n",
            " 4   smoker    2772 non-null   object \n",
            " 5   region    2772 non-null   object \n",
            " 6   charges   2772 non-null   float64\n",
            "dtypes: float64(3), int64(1), object(3)\n",
            "memory usage: 151.7+ KB\n"
          ]
        }
      ],
      "source": [
        "df_insurance.info()"
      ]
    },
    {
      "cell_type": "markdown",
      "metadata": {
        "id": "WVsJTS74yzME"
      },
      "source": [
        "____\n",
        "\n",
        "## 2. Como identificar valores atípicos?\n",
        "\n",
        "Valores atípicos ou *Outlier* são dados diferentes dos outros pontos que podem causar problemas em procedimentos estatísticos (mudar uma média).\n",
        "\n",
        "**Exemplo:** Mudar uma idade e ver a média."
      ]
    },
    {
      "cell_type": "code",
      "execution_count": 29,
      "metadata": {
        "colab": {
          "base_uri": "https://localhost:8080/"
        },
        "id": "CKReEh7CyWta",
        "outputId": "09d691a7-237b-452b-f92a-1bc0bf981f31"
      },
      "outputs": [
        {
          "data": {
            "text/plain": [
              "3.0"
            ]
          },
          "execution_count": 29,
          "metadata": {},
          "output_type": "execute_result"
        }
      ],
      "source": [
        "#Imagine o seguinte array\n",
        "array = np.array([1,2,3,4,5])\n",
        "array.mean()"
      ]
    },
    {
      "cell_type": "code",
      "execution_count": 30,
      "metadata": {
        "colab": {
          "base_uri": "https://localhost:8080/"
        },
        "id": "ndoBCsQezdG0",
        "outputId": "9e341cac-5475-4a90-b21c-9927e24cf3ea"
      },
      "outputs": [
        {
          "data": {
            "text/plain": [
              "72.4"
            ]
          },
          "execution_count": 30,
          "metadata": {},
          "output_type": "execute_result"
        }
      ],
      "source": [
        "#Imagine o seguinte array\n",
        "array = np.array([1,2,350,4,5])\n",
        "array.mean()"
      ]
    },
    {
      "cell_type": "markdown",
      "metadata": {
        "id": "mxBNZF71zUXz"
      },
      "source": [
        "* Solução 1: Ordenar os dados para encontrar outliers;\n",
        "* Solução 2: Utilizar gráficos: dispersão, boxplot;\n",
        "* Solução 3: Utilizar IQR para encontrar;\n",
        "* Solução 4: Utilizar o Z-score."
      ]
    },
    {
      "cell_type": "markdown",
      "metadata": {
        "id": "t8vD9GBt1enk"
      },
      "source": [
        "**Com o boxplot**\n"
      ]
    },
    {
      "cell_type": "code",
      "execution_count": 31,
      "metadata": {
        "id": "YyNL7TU510cr"
      },
      "outputs": [],
      "source": [
        "import matplotlib.pyplot as plt"
      ]
    },
    {
      "cell_type": "code",
      "execution_count": 32,
      "metadata": {
        "colab": {
          "base_uri": "https://localhost:8080/",
          "height": 472
        },
        "id": "r0etUsyczUwB",
        "outputId": "3fe020e0-4a8a-443e-9735-645fd111f1dd"
      },
      "outputs": [
        {
          "data": {
            "image/png": "[encoded data removed]",
            "text/plain": [
              "<Figure size 640x480 with 1 Axes>"
            ]
          },
          "metadata": {},
          "output_type": "display_data"
        }
      ],
      "source": [
        "df_insurance.boxplot()\n",
        "plt.title('Boxplot das colunas')\n",
        "plt.xlabel('Grupos')\n",
        "plt.ylabel('Valores')\n",
        "plt.show()"
      ]
    },
    {
      "cell_type": "code",
      "execution_count": 34,
      "metadata": {
        "colab": {
          "base_uri": "https://localhost:8080/",
          "height": 472
        },
        "id": "RcXPm71013Mq",
        "outputId": "010c8606-accf-473a-8d93-f02e19cb66a9"
      },
      "outputs": [
        {
          "data": {
            "image/png": "[encoded data removed]",
            "text/plain": [
              "<Figure size 640x480 with 1 Axes>"
            ]
          },
          "metadata": {},
          "output_type": "display_data"
        }
      ],
      "source": [
        "df_insurance.boxplot(column='charges')\n",
        "plt.title('Boxplot de charges')\n",
        "plt.ylabel('Valores')\n",
        "plt.show()"
      ]
    },
    {
      "cell_type": "code",
      "execution_count": 35,
      "metadata": {
        "colab": {
          "base_uri": "https://localhost:8080/",
          "height": 424
        },
        "id": "zzs0TwqD2TrR",
        "outputId": "eee6312c-32c7-450b-d8bb-869f6e51bbb7"
      },
      "outputs": [],
      "source": [
        "def identificar_outliers(df, coluna):\n",
        "    # Calculando o primeiro e terceiro quartis\n",
        "    Q1 = df[coluna].quantile(0.25) #Primeiro Quartil\n",
        "    Q3 = df[coluna].quantile(0.75) #Terceiro Quartil\n",
        "    \n",
        "    # Calculando o IQR (Intervalo Interquartil)\n",
        "    IQR = Q3 - Q1\n",
        "    \n",
        "    # Calculando os limites superior e inferior para identificar os outliers\n",
        "    limite_inferior = Q1 - 1.5 * IQR\n",
        "    limite_superior = Q3 + 1.5 * IQR\n",
        "    \n",
        "    # Identificando outliers na coluna especificada\n",
        "    outliers = df[(df[coluna] < limite_inferior) | (df[coluna] > limite_superior)]\n",
        "    \n",
        "    return outliers"
      ]
    },
    {
      "cell_type": "code",
      "execution_count": 36,
      "metadata": {},
      "outputs": [],
      "source": [
        "#Exemplo de uso\n",
        "outliers_encontrados = identificar_outliers(df_insurance,'charges')"
      ]
    },
    {
      "cell_type": "code",
      "execution_count": 37,
      "metadata": {},
      "outputs": [
        {
          "data": {
            "text/html": [
              "<div>\n",
              "<style scoped>\n",
              "    .dataframe tbody tr th:only-of-type {\n",
              "        vertical-align: middle;\n",
              "    }\n",
              "\n",
              "    .dataframe tbody tr th {\n",
              "        vertical-align: top;\n",
              "    }\n",
              "\n",
              "    .dataframe thead th {\n",
              "        text-align: right;\n",
              "    }\n",
              "</style>\n",
              "<table border=\"1\" class=\"dataframe\">\n",
              "  <thead>\n",
              "    <tr style=\"text-align: right;\">\n",
              "      <th></th>\n",
              "      <th>age</th>\n",
              "      <th>sex</th>\n",
              "      <th>bmi</th>\n",
              "      <th>children</th>\n",
              "      <th>smoker</th>\n",
              "      <th>region</th>\n",
              "      <th>charges</th>\n",
              "    </tr>\n",
              "  </thead>\n",
              "  <tbody>\n",
              "    <tr>\n",
              "      <th>14</th>\n",
              "      <td>27.0</td>\n",
              "      <td>male</td>\n",
              "      <td>42.13</td>\n",
              "      <td>0</td>\n",
              "      <td>yes</td>\n",
              "      <td>southeast</td>\n",
              "      <td>39611.7577</td>\n",
              "    </tr>\n",
              "    <tr>\n",
              "      <th>19</th>\n",
              "      <td>30.0</td>\n",
              "      <td>male</td>\n",
              "      <td>35.30</td>\n",
              "      <td>0</td>\n",
              "      <td>yes</td>\n",
              "      <td>southwest</td>\n",
              "      <td>36837.4670</td>\n",
              "    </tr>\n",
              "    <tr>\n",
              "      <th>23</th>\n",
              "      <td>34.0</td>\n",
              "      <td>female</td>\n",
              "      <td>31.92</td>\n",
              "      <td>1</td>\n",
              "      <td>yes</td>\n",
              "      <td>northeast</td>\n",
              "      <td>37701.8768</td>\n",
              "    </tr>\n",
              "    <tr>\n",
              "      <th>29</th>\n",
              "      <td>31.0</td>\n",
              "      <td>male</td>\n",
              "      <td>36.30</td>\n",
              "      <td>2</td>\n",
              "      <td>yes</td>\n",
              "      <td>southwest</td>\n",
              "      <td>38711.0000</td>\n",
              "    </tr>\n",
              "    <tr>\n",
              "      <th>30</th>\n",
              "      <td>22.0</td>\n",
              "      <td>male</td>\n",
              "      <td>35.60</td>\n",
              "      <td>0</td>\n",
              "      <td>yes</td>\n",
              "      <td>southwest</td>\n",
              "      <td>35585.5760</td>\n",
              "    </tr>\n",
              "    <tr>\n",
              "      <th>...</th>\n",
              "      <td>...</td>\n",
              "      <td>...</td>\n",
              "      <td>...</td>\n",
              "      <td>...</td>\n",
              "      <td>...</td>\n",
              "      <td>...</td>\n",
              "      <td>...</td>\n",
              "    </tr>\n",
              "    <tr>\n",
              "      <th>2735</th>\n",
              "      <td>52.0</td>\n",
              "      <td>male</td>\n",
              "      <td>41.80</td>\n",
              "      <td>2</td>\n",
              "      <td>yes</td>\n",
              "      <td>southeast</td>\n",
              "      <td>47269.8540</td>\n",
              "    </tr>\n",
              "    <tr>\n",
              "      <th>2736</th>\n",
              "      <td>64.0</td>\n",
              "      <td>male</td>\n",
              "      <td>36.96</td>\n",
              "      <td>2</td>\n",
              "      <td>yes</td>\n",
              "      <td>southeast</td>\n",
              "      <td>49577.6624</td>\n",
              "    </tr>\n",
              "    <tr>\n",
              "      <th>2744</th>\n",
              "      <td>32.0</td>\n",
              "      <td>male</td>\n",
              "      <td>33.63</td>\n",
              "      <td>1</td>\n",
              "      <td>yes</td>\n",
              "      <td>northeast</td>\n",
              "      <td>37607.5277</td>\n",
              "    </tr>\n",
              "    <tr>\n",
              "      <th>2764</th>\n",
              "      <td>22.0</td>\n",
              "      <td>female</td>\n",
              "      <td>31.02</td>\n",
              "      <td>3</td>\n",
              "      <td>yes</td>\n",
              "      <td>southeast</td>\n",
              "      <td>35595.5898</td>\n",
              "    </tr>\n",
              "    <tr>\n",
              "      <th>2765</th>\n",
              "      <td>47.0</td>\n",
              "      <td>male</td>\n",
              "      <td>36.08</td>\n",
              "      <td>1</td>\n",
              "      <td>yes</td>\n",
              "      <td>southeast</td>\n",
              "      <td>42211.1382</td>\n",
              "    </tr>\n",
              "  </tbody>\n",
              "</table>\n",
              "<p>296 rows × 7 columns</p>\n",
              "</div>"
            ],
            "text/plain": [
              "       age     sex    bmi  children smoker     region     charges\n",
              "14    27.0    male  42.13         0    yes  southeast  39611.7577\n",
              "19    30.0    male  35.30         0    yes  southwest  36837.4670\n",
              "23    34.0  female  31.92         1    yes  northeast  37701.8768\n",
              "29    31.0    male  36.30         2    yes  southwest  38711.0000\n",
              "30    22.0    male  35.60         0    yes  southwest  35585.5760\n",
              "...    ...     ...    ...       ...    ...        ...         ...\n",
              "2735  52.0    male  41.80         2    yes  southeast  47269.8540\n",
              "2736  64.0    male  36.96         2    yes  southeast  49577.6624\n",
              "2744  32.0    male  33.63         1    yes  northeast  37607.5277\n",
              "2764  22.0  female  31.02         3    yes  southeast  35595.5898\n",
              "2765  47.0    male  36.08         1    yes  southeast  42211.1382\n",
              "\n",
              "[296 rows x 7 columns]"
            ]
          },
          "execution_count": 37,
          "metadata": {},
          "output_type": "execute_result"
        }
      ],
      "source": [
        "outliers_encontrados"
      ]
    },
    {
      "cell_type": "markdown",
      "metadata": {
        "id": "faFhbnHuU0o-"
      },
      "source": [
        "## Deletar informações de um DataFrame\n",
        "\n",
        "Ao trabalhar com dados de uma base de clientes, pode ser necessário remover informações de clientes que não estão mais ativos na empresa.\n",
        "\n",
        "Vimos como fazemos para remover dados faltantes. Mas, se por acaso, tivermos dados duplicados no dataset. O que fazer?"
      ]
    },
    {
      "cell_type": "markdown",
      "metadata": {
        "id": "w5xZ-WqQWEPQ"
      },
      "source": [
        "### **Método duplicated():**\n",
        "\n",
        "o método ```duplicated()``` em Pandas é utilizado para identificar linhas duplicadas em um DataFrame.\n",
        "\n",
        "Ele retorna uma série booleana que indica se cada linha é uma duplicata (ou seja, se aparece em uma linha anterior)."
      ]
    },
    {
      "cell_type": "markdown",
      "metadata": {
        "id": "xUKfoFc5WTFF"
      },
      "source": [
        "**Sintaxe:**\n",
        "\n",
        "```DataFrame.duplicated(subset=None, keep='first')```\n",
        "\n",
        "* subset (opcional): Permite especificar uma lista de colunas para verificar duplicatas apenas nessas colunas. Se não for fornecido, a verificação será em todas as colunas.\n",
        "\n",
        "* keep (opcional): Define como marcar as duplicatas. Pode assumir três valores:\n",
        "  * 'first' (padrão): Marca como True todas as ocorrências duplicadas, exceto a primeira.\n",
        "  * 'last': Marca como True todas as ocorrências duplicadas, exceto a última False: Marca todas as ocorrências duplicadas como True."
      ]
    },
    {
      "cell_type": "code",
      "execution_count": 38,
      "metadata": {
        "colab": {
          "base_uri": "https://localhost:8080/"
        },
        "id": "0_3hdxK4Ut_3",
        "outputId": "da81ef12-95bf-4928-bb60-4ad9aa4a12fe"
      },
      "outputs": [
        {
          "data": {
            "text/plain": [
              "0       False\n",
              "1       False\n",
              "2       False\n",
              "3       False\n",
              "4       False\n",
              "        ...  \n",
              "2767     True\n",
              "2768     True\n",
              "2769     True\n",
              "2770     True\n",
              "2771     True\n",
              "Length: 2772, dtype: bool"
            ]
          },
          "execution_count": 38,
          "metadata": {},
          "output_type": "execute_result"
        }
      ],
      "source": [
        "df_insurance.duplicated()"
      ]
    },
    {
      "cell_type": "code",
      "execution_count": 40,
      "metadata": {},
      "outputs": [
        {
          "data": {
            "text/plain": [
              "0       False\n",
              "1       False\n",
              "2       False\n",
              "3       False\n",
              "4       False\n",
              "        ...  \n",
              "2767     True\n",
              "2768     True\n",
              "2769     True\n",
              "2770     True\n",
              "2771     True\n",
              "Length: 2772, dtype: bool"
            ]
          },
          "execution_count": 40,
          "metadata": {},
          "output_type": "execute_result"
        }
      ],
      "source": [
        "df_insurance.duplicated(subset=['age'])"
      ]
    },
    {
      "cell_type": "markdown",
      "metadata": {
        "id": "kY8BHsP2WsXc"
      },
      "source": [
        "#Como ver isso como um DF?"
      ]
    },
    {
      "cell_type": "code",
      "execution_count": 39,
      "metadata": {
        "colab": {
          "base_uri": "https://localhost:8080/",
          "height": 424
        },
        "id": "zeptacyaWhKA",
        "outputId": "672f20ad-f380-4321-a499-dcea89ec59a5"
      },
      "outputs": [
        {
          "data": {
            "text/html": [
              "<div>\n",
              "<style scoped>\n",
              "    .dataframe tbody tr th:only-of-type {\n",
              "        vertical-align: middle;\n",
              "    }\n",
              "\n",
              "    .dataframe tbody tr th {\n",
              "        vertical-align: top;\n",
              "    }\n",
              "\n",
              "    .dataframe thead th {\n",
              "        text-align: right;\n",
              "    }\n",
              "</style>\n",
              "<table border=\"1\" class=\"dataframe\">\n",
              "  <thead>\n",
              "    <tr style=\"text-align: right;\">\n",
              "      <th></th>\n",
              "      <th>age</th>\n",
              "      <th>sex</th>\n",
              "      <th>bmi</th>\n",
              "      <th>children</th>\n",
              "      <th>smoker</th>\n",
              "      <th>region</th>\n",
              "      <th>charges</th>\n",
              "    </tr>\n",
              "  </thead>\n",
              "  <tbody>\n",
              "    <tr>\n",
              "      <th>581</th>\n",
              "      <td>19.0</td>\n",
              "      <td>male</td>\n",
              "      <td>30.590</td>\n",
              "      <td>0</td>\n",
              "      <td>no</td>\n",
              "      <td>northwest</td>\n",
              "      <td>1639.56310</td>\n",
              "    </tr>\n",
              "    <tr>\n",
              "      <th>1338</th>\n",
              "      <td>23.0</td>\n",
              "      <td>male</td>\n",
              "      <td>34.400</td>\n",
              "      <td>0</td>\n",
              "      <td>no</td>\n",
              "      <td>southwest</td>\n",
              "      <td>1826.84300</td>\n",
              "    </tr>\n",
              "    <tr>\n",
              "      <th>1339</th>\n",
              "      <td>56.0</td>\n",
              "      <td>female</td>\n",
              "      <td>39.820</td>\n",
              "      <td>0</td>\n",
              "      <td>no</td>\n",
              "      <td>southeast</td>\n",
              "      <td>11090.71780</td>\n",
              "    </tr>\n",
              "    <tr>\n",
              "      <th>1340</th>\n",
              "      <td>27.0</td>\n",
              "      <td>male</td>\n",
              "      <td>42.130</td>\n",
              "      <td>0</td>\n",
              "      <td>yes</td>\n",
              "      <td>southeast</td>\n",
              "      <td>39611.75770</td>\n",
              "    </tr>\n",
              "    <tr>\n",
              "      <th>1341</th>\n",
              "      <td>19.0</td>\n",
              "      <td>male</td>\n",
              "      <td>24.600</td>\n",
              "      <td>1</td>\n",
              "      <td>no</td>\n",
              "      <td>southwest</td>\n",
              "      <td>1837.23700</td>\n",
              "    </tr>\n",
              "    <tr>\n",
              "      <th>...</th>\n",
              "      <td>...</td>\n",
              "      <td>...</td>\n",
              "      <td>...</td>\n",
              "      <td>...</td>\n",
              "      <td>...</td>\n",
              "      <td>...</td>\n",
              "      <td>...</td>\n",
              "    </tr>\n",
              "    <tr>\n",
              "      <th>2767</th>\n",
              "      <td>47.0</td>\n",
              "      <td>female</td>\n",
              "      <td>45.320</td>\n",
              "      <td>1</td>\n",
              "      <td>no</td>\n",
              "      <td>southeast</td>\n",
              "      <td>8569.86180</td>\n",
              "    </tr>\n",
              "    <tr>\n",
              "      <th>2768</th>\n",
              "      <td>21.0</td>\n",
              "      <td>female</td>\n",
              "      <td>34.600</td>\n",
              "      <td>0</td>\n",
              "      <td>no</td>\n",
              "      <td>southwest</td>\n",
              "      <td>2020.17700</td>\n",
              "    </tr>\n",
              "    <tr>\n",
              "      <th>2769</th>\n",
              "      <td>19.0</td>\n",
              "      <td>male</td>\n",
              "      <td>26.030</td>\n",
              "      <td>1</td>\n",
              "      <td>yes</td>\n",
              "      <td>northwest</td>\n",
              "      <td>16450.89470</td>\n",
              "    </tr>\n",
              "    <tr>\n",
              "      <th>2770</th>\n",
              "      <td>23.0</td>\n",
              "      <td>male</td>\n",
              "      <td>18.715</td>\n",
              "      <td>0</td>\n",
              "      <td>no</td>\n",
              "      <td>northwest</td>\n",
              "      <td>21595.38229</td>\n",
              "    </tr>\n",
              "    <tr>\n",
              "      <th>2771</th>\n",
              "      <td>54.0</td>\n",
              "      <td>male</td>\n",
              "      <td>31.600</td>\n",
              "      <td>0</td>\n",
              "      <td>no</td>\n",
              "      <td>southwest</td>\n",
              "      <td>9850.43200</td>\n",
              "    </tr>\n",
              "  </tbody>\n",
              "</table>\n",
              "<p>1435 rows × 7 columns</p>\n",
              "</div>"
            ],
            "text/plain": [
              "       age     sex     bmi  children smoker     region      charges\n",
              "581   19.0    male  30.590         0     no  northwest   1639.56310\n",
              "1338  23.0    male  34.400         0     no  southwest   1826.84300\n",
              "1339  56.0  female  39.820         0     no  southeast  11090.71780\n",
              "1340  27.0    male  42.130         0    yes  southeast  39611.75770\n",
              "1341  19.0    male  24.600         1     no  southwest   1837.23700\n",
              "...    ...     ...     ...       ...    ...        ...          ...\n",
              "2767  47.0  female  45.320         1     no  southeast   8569.86180\n",
              "2768  21.0  female  34.600         0     no  southwest   2020.17700\n",
              "2769  19.0    male  26.030         1    yes  northwest  16450.89470\n",
              "2770  23.0    male  18.715         0     no  northwest  21595.38229\n",
              "2771  54.0    male  31.600         0     no  southwest   9850.43200\n",
              "\n",
              "[1435 rows x 7 columns]"
            ]
          },
          "execution_count": 39,
          "metadata": {},
          "output_type": "execute_result"
        }
      ],
      "source": [
        "df_insurance.loc[df_insurance.duplicated()]"
      ]
    },
    {
      "cell_type": "markdown",
      "metadata": {
        "id": "RTD5ipCjXAPX"
      },
      "source": [
        "Como deletar os dados duplicados?"
      ]
    },
    {
      "cell_type": "code",
      "execution_count": 41,
      "metadata": {
        "colab": {
          "base_uri": "https://localhost:8080/",
          "height": 424
        },
        "id": "uhnp6FkXWwub",
        "outputId": "05d18267-e71d-4d68-a7e3-8a2d98cfa99c"
      },
      "outputs": [
        {
          "data": {
            "text/html": [
              "<div>\n",
              "<style scoped>\n",
              "    .dataframe tbody tr th:only-of-type {\n",
              "        vertical-align: middle;\n",
              "    }\n",
              "\n",
              "    .dataframe tbody tr th {\n",
              "        vertical-align: top;\n",
              "    }\n",
              "\n",
              "    .dataframe thead th {\n",
              "        text-align: right;\n",
              "    }\n",
              "</style>\n",
              "<table border=\"1\" class=\"dataframe\">\n",
              "  <thead>\n",
              "    <tr style=\"text-align: right;\">\n",
              "      <th></th>\n",
              "      <th>age</th>\n",
              "      <th>sex</th>\n",
              "      <th>bmi</th>\n",
              "      <th>children</th>\n",
              "      <th>smoker</th>\n",
              "      <th>region</th>\n",
              "      <th>charges</th>\n",
              "    </tr>\n",
              "  </thead>\n",
              "  <tbody>\n",
              "    <tr>\n",
              "      <th>0</th>\n",
              "      <td>19.0</td>\n",
              "      <td>female</td>\n",
              "      <td>27.900</td>\n",
              "      <td>0</td>\n",
              "      <td>yes</td>\n",
              "      <td>southwest</td>\n",
              "      <td>16884.92400</td>\n",
              "    </tr>\n",
              "    <tr>\n",
              "      <th>1</th>\n",
              "      <td>18.0</td>\n",
              "      <td>male</td>\n",
              "      <td>33.770</td>\n",
              "      <td>1</td>\n",
              "      <td>no</td>\n",
              "      <td>southeast</td>\n",
              "      <td>1725.55230</td>\n",
              "    </tr>\n",
              "    <tr>\n",
              "      <th>2</th>\n",
              "      <td>28.0</td>\n",
              "      <td>male</td>\n",
              "      <td>33.000</td>\n",
              "      <td>3</td>\n",
              "      <td>no</td>\n",
              "      <td>southeast</td>\n",
              "      <td>4449.46200</td>\n",
              "    </tr>\n",
              "    <tr>\n",
              "      <th>3</th>\n",
              "      <td>33.0</td>\n",
              "      <td>male</td>\n",
              "      <td>22.705</td>\n",
              "      <td>0</td>\n",
              "      <td>no</td>\n",
              "      <td>northwest</td>\n",
              "      <td>21984.47061</td>\n",
              "    </tr>\n",
              "    <tr>\n",
              "      <th>4</th>\n",
              "      <td>32.0</td>\n",
              "      <td>male</td>\n",
              "      <td>28.880</td>\n",
              "      <td>0</td>\n",
              "      <td>no</td>\n",
              "      <td>northwest</td>\n",
              "      <td>3866.85520</td>\n",
              "    </tr>\n",
              "    <tr>\n",
              "      <th>...</th>\n",
              "      <td>...</td>\n",
              "      <td>...</td>\n",
              "      <td>...</td>\n",
              "      <td>...</td>\n",
              "      <td>...</td>\n",
              "      <td>...</td>\n",
              "      <td>...</td>\n",
              "    </tr>\n",
              "    <tr>\n",
              "      <th>1333</th>\n",
              "      <td>50.0</td>\n",
              "      <td>male</td>\n",
              "      <td>30.970</td>\n",
              "      <td>3</td>\n",
              "      <td>no</td>\n",
              "      <td>northwest</td>\n",
              "      <td>10600.54830</td>\n",
              "    </tr>\n",
              "    <tr>\n",
              "      <th>1334</th>\n",
              "      <td>18.0</td>\n",
              "      <td>female</td>\n",
              "      <td>31.920</td>\n",
              "      <td>0</td>\n",
              "      <td>no</td>\n",
              "      <td>northeast</td>\n",
              "      <td>2205.98080</td>\n",
              "    </tr>\n",
              "    <tr>\n",
              "      <th>1335</th>\n",
              "      <td>18.0</td>\n",
              "      <td>female</td>\n",
              "      <td>36.850</td>\n",
              "      <td>0</td>\n",
              "      <td>no</td>\n",
              "      <td>southeast</td>\n",
              "      <td>1629.83350</td>\n",
              "    </tr>\n",
              "    <tr>\n",
              "      <th>1336</th>\n",
              "      <td>21.0</td>\n",
              "      <td>female</td>\n",
              "      <td>25.800</td>\n",
              "      <td>0</td>\n",
              "      <td>no</td>\n",
              "      <td>southwest</td>\n",
              "      <td>2007.94500</td>\n",
              "    </tr>\n",
              "    <tr>\n",
              "      <th>1337</th>\n",
              "      <td>61.0</td>\n",
              "      <td>female</td>\n",
              "      <td>29.070</td>\n",
              "      <td>0</td>\n",
              "      <td>yes</td>\n",
              "      <td>northwest</td>\n",
              "      <td>29141.36030</td>\n",
              "    </tr>\n",
              "  </tbody>\n",
              "</table>\n",
              "<p>1337 rows × 7 columns</p>\n",
              "</div>"
            ],
            "text/plain": [
              "       age     sex     bmi  children smoker     region      charges\n",
              "0     19.0  female  27.900         0    yes  southwest  16884.92400\n",
              "1     18.0    male  33.770         1     no  southeast   1725.55230\n",
              "2     28.0    male  33.000         3     no  southeast   4449.46200\n",
              "3     33.0    male  22.705         0     no  northwest  21984.47061\n",
              "4     32.0    male  28.880         0     no  northwest   3866.85520\n",
              "...    ...     ...     ...       ...    ...        ...          ...\n",
              "1333  50.0    male  30.970         3     no  northwest  10600.54830\n",
              "1334  18.0  female  31.920         0     no  northeast   2205.98080\n",
              "1335  18.0  female  36.850         0     no  southeast   1629.83350\n",
              "1336  21.0  female  25.800         0     no  southwest   2007.94500\n",
              "1337  61.0  female  29.070         0    yes  northwest  29141.36030\n",
              "\n",
              "[1337 rows x 7 columns]"
            ]
          },
          "execution_count": 41,
          "metadata": {},
          "output_type": "execute_result"
        }
      ],
      "source": [
        "df_insurance.drop_duplicates()"
      ]
    },
    {
      "cell_type": "code",
      "execution_count": 44,
      "metadata": {
        "colab": {
          "base_uri": "https://localhost:8080/",
          "height": 424
        },
        "id": "IQwzKArcXNbj",
        "outputId": "336b7c1c-acd7-4e43-c96b-e502483bae4b"
      },
      "outputs": [],
      "source": [
        "df_sem_duplicadas = df_insurance[~df_insurance.duplicated()]"
      ]
    },
    {
      "cell_type": "code",
      "execution_count": 45,
      "metadata": {},
      "outputs": [
        {
          "data": {
            "text/html": [
              "<div>\n",
              "<style scoped>\n",
              "    .dataframe tbody tr th:only-of-type {\n",
              "        vertical-align: middle;\n",
              "    }\n",
              "\n",
              "    .dataframe tbody tr th {\n",
              "        vertical-align: top;\n",
              "    }\n",
              "\n",
              "    .dataframe thead th {\n",
              "        text-align: right;\n",
              "    }\n",
              "</style>\n",
              "<table border=\"1\" class=\"dataframe\">\n",
              "  <thead>\n",
              "    <tr style=\"text-align: right;\">\n",
              "      <th></th>\n",
              "      <th>age</th>\n",
              "      <th>sex</th>\n",
              "      <th>bmi</th>\n",
              "      <th>children</th>\n",
              "      <th>smoker</th>\n",
              "      <th>region</th>\n",
              "      <th>charges</th>\n",
              "    </tr>\n",
              "  </thead>\n",
              "  <tbody>\n",
              "    <tr>\n",
              "      <th>0</th>\n",
              "      <td>19.0</td>\n",
              "      <td>female</td>\n",
              "      <td>27.900</td>\n",
              "      <td>0</td>\n",
              "      <td>yes</td>\n",
              "      <td>southwest</td>\n",
              "      <td>16884.92400</td>\n",
              "    </tr>\n",
              "    <tr>\n",
              "      <th>1</th>\n",
              "      <td>18.0</td>\n",
              "      <td>male</td>\n",
              "      <td>33.770</td>\n",
              "      <td>1</td>\n",
              "      <td>no</td>\n",
              "      <td>southeast</td>\n",
              "      <td>1725.55230</td>\n",
              "    </tr>\n",
              "    <tr>\n",
              "      <th>2</th>\n",
              "      <td>28.0</td>\n",
              "      <td>male</td>\n",
              "      <td>33.000</td>\n",
              "      <td>3</td>\n",
              "      <td>no</td>\n",
              "      <td>southeast</td>\n",
              "      <td>4449.46200</td>\n",
              "    </tr>\n",
              "    <tr>\n",
              "      <th>3</th>\n",
              "      <td>33.0</td>\n",
              "      <td>male</td>\n",
              "      <td>22.705</td>\n",
              "      <td>0</td>\n",
              "      <td>no</td>\n",
              "      <td>northwest</td>\n",
              "      <td>21984.47061</td>\n",
              "    </tr>\n",
              "    <tr>\n",
              "      <th>4</th>\n",
              "      <td>32.0</td>\n",
              "      <td>male</td>\n",
              "      <td>28.880</td>\n",
              "      <td>0</td>\n",
              "      <td>no</td>\n",
              "      <td>northwest</td>\n",
              "      <td>3866.85520</td>\n",
              "    </tr>\n",
              "    <tr>\n",
              "      <th>...</th>\n",
              "      <td>...</td>\n",
              "      <td>...</td>\n",
              "      <td>...</td>\n",
              "      <td>...</td>\n",
              "      <td>...</td>\n",
              "      <td>...</td>\n",
              "      <td>...</td>\n",
              "    </tr>\n",
              "    <tr>\n",
              "      <th>1333</th>\n",
              "      <td>50.0</td>\n",
              "      <td>male</td>\n",
              "      <td>30.970</td>\n",
              "      <td>3</td>\n",
              "      <td>no</td>\n",
              "      <td>northwest</td>\n",
              "      <td>10600.54830</td>\n",
              "    </tr>\n",
              "    <tr>\n",
              "      <th>1334</th>\n",
              "      <td>18.0</td>\n",
              "      <td>female</td>\n",
              "      <td>31.920</td>\n",
              "      <td>0</td>\n",
              "      <td>no</td>\n",
              "      <td>northeast</td>\n",
              "      <td>2205.98080</td>\n",
              "    </tr>\n",
              "    <tr>\n",
              "      <th>1335</th>\n",
              "      <td>18.0</td>\n",
              "      <td>female</td>\n",
              "      <td>36.850</td>\n",
              "      <td>0</td>\n",
              "      <td>no</td>\n",
              "      <td>southeast</td>\n",
              "      <td>1629.83350</td>\n",
              "    </tr>\n",
              "    <tr>\n",
              "      <th>1336</th>\n",
              "      <td>21.0</td>\n",
              "      <td>female</td>\n",
              "      <td>25.800</td>\n",
              "      <td>0</td>\n",
              "      <td>no</td>\n",
              "      <td>southwest</td>\n",
              "      <td>2007.94500</td>\n",
              "    </tr>\n",
              "    <tr>\n",
              "      <th>1337</th>\n",
              "      <td>61.0</td>\n",
              "      <td>female</td>\n",
              "      <td>29.070</td>\n",
              "      <td>0</td>\n",
              "      <td>yes</td>\n",
              "      <td>northwest</td>\n",
              "      <td>29141.36030</td>\n",
              "    </tr>\n",
              "  </tbody>\n",
              "</table>\n",
              "<p>1337 rows × 7 columns</p>\n",
              "</div>"
            ],
            "text/plain": [
              "       age     sex     bmi  children smoker     region      charges\n",
              "0     19.0  female  27.900         0    yes  southwest  16884.92400\n",
              "1     18.0    male  33.770         1     no  southeast   1725.55230\n",
              "2     28.0    male  33.000         3     no  southeast   4449.46200\n",
              "3     33.0    male  22.705         0     no  northwest  21984.47061\n",
              "4     32.0    male  28.880         0     no  northwest   3866.85520\n",
              "...    ...     ...     ...       ...    ...        ...          ...\n",
              "1333  50.0    male  30.970         3     no  northwest  10600.54830\n",
              "1334  18.0  female  31.920         0     no  northeast   2205.98080\n",
              "1335  18.0  female  36.850         0     no  southeast   1629.83350\n",
              "1336  21.0  female  25.800         0     no  southwest   2007.94500\n",
              "1337  61.0  female  29.070         0    yes  northwest  29141.36030\n",
              "\n",
              "[1337 rows x 7 columns]"
            ]
          },
          "execution_count": 45,
          "metadata": {},
          "output_type": "execute_result"
        }
      ],
      "source": [
        "df_sem_duplicadas"
      ]
    },
    {
      "cell_type": "code",
      "execution_count": null,
      "metadata": {},
      "outputs": [],
      "source": []
    }
  ],
  "metadata": {
    "colab": {
      "provenance": []
    },
    "kernelspec": {
      "display_name": "Python 3",
      "name": "python3"
    },
    "language_info": {
      "codemirror_mode": {
        "name": "ipython",
        "version": 3
      },
      "file_extension": ".py",
      "mimetype": "text/x-python",
      "name": "python",
      "nbconvert_exporter": "python",
      "pygments_lexer": "ipython3",
      "version": "3.11.4"
    }
  },
  "nbformat": 4,
  "nbformat_minor": 0
}
