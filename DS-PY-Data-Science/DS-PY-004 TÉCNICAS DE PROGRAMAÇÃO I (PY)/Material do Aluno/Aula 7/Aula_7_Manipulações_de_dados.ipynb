{
 "cells": [
  {
   "cell_type": "markdown",
   "metadata": {
    "application/vnd.databricks.v1+cell": {
     "cellMetadata": {},
     "inputWidgets": {},
     "nuid": "78776acb-00be-42f9-8d22-9159b477587e",
     "showTitle": false,
     "title": ""
    }
   },
   "source": [
    "# Aula 7 - Análise Exploratória de dados\n",
    "\n",
    "Uma habilidade **MUITO** importante que cientistas/analista de dados devem ter é a de **olhar para os dados**, ou seja explorar os dados, ver do que eles se tratam, se habituar com eles.\n",
    "\n",
    "Essa etapa é muitíssimo importante para que as etapas seguintes, em especial a de modelagem, funcionem adequadamente!\n",
    "\n",
    "Dentro do jargão da área, essa etapa se chama **Exploratory Data Analysis** (**Análise Exploratória dos Dados**), ou simplesmente EDA. Quando dizemos \"olhar pros dados\", é a isso que nos referimos!\n",
    "\n",
    "A etapa de EDA é muitíssimo importante, e deve tomar grande parte de um projeto de ciência de dados, como já discutimos, e ela comumente feita também com o auxílio de **gráficos** e outras ferramentas visuais.\n",
    "\n",
    "Faremos isso nesta e na próxima aula, aprendendo conjuntamente sobre ferramentas importantíssimas de **visualização de dados** (*dataviz*).\n",
    "\n",
    "Por hora, faremos a EDA apenas utilizando o pandas, utilizando diversos métodos e funções específicas.\n",
    "\n",
    "Lembre-se: o objetivo é que exploremos os dados o máximo possível! \n",
    "\n",
    "Então, essa é a etapa em que:\n",
    "\n",
    "- Formulamos as perguntas importantes;\n",
    "- E tentamos respondê-las com base nos dados!\n",
    "\n",
    "Vamos lá?\n",
    "\n",
    "____"
   ]
  },
  {
   "cell_type": "markdown",
   "metadata": {
    "application/vnd.databricks.v1+cell": {
     "cellMetadata": {},
     "inputWidgets": {},
     "nuid": "5f5a3934-50de-4124-bf29-60c3b890567e",
     "showTitle": false,
     "title": ""
    }
   },
   "source": [
    "## Dataset escolhido: Medical Insurance\n",
    "\n",
    "- **age:** Idade do beneficiário principal;\n",
    "- **sex:** Gênero do contratante;\n",
    "- **bmi:** O IMC (massa/altura**2);\n",
    "- **children:** Número de filhos/dependentes cobertos;\n",
    "- **smoker:** Se a pessoa é fumante;\n",
    "- **region:** Área residencial do beneficiário (EUA): nordeste, sudeste, sudoeste, noroeste;\n",
    "- **charges:** Custos médicos individuais cobrados pelo seguro."
   ]
  },
  {
   "cell_type": "code",
   "execution_count": 0,
   "metadata": {
    "application/vnd.databricks.v1+cell": {
     "cellMetadata": {
      "byteLimit": 2048000,
      "rowLimit": 10000
     },
     "inputWidgets": {},
     "nuid": "e2ef13d3-0011-4d63-9728-10d458988550",
     "showTitle": false,
     "title": ""
    }
   },
   "outputs": [],
   "source": [
    "#Importando as bibliotecas\n",
    "import pandas as pd\n",
    "import numpy as np\n",
    "import matplotlib.pyplot as plt\n",
    "import seaborn as sns"
   ]
  },
  {
   "cell_type": "code",
   "execution_count": 0,
   "metadata": {
    "application/vnd.databricks.v1+cell": {
     "cellMetadata": {
      "byteLimit": 2048000,
      "rowLimit": 10000
     },
     "inputWidgets": {},
     "nuid": "494c6607-5ead-4749-8c79-45b2e409fa97",
     "showTitle": false,
     "title": ""
    }
   },
   "outputs": [],
   "source": [
    "#Lendo o dataframe\n",
    "df_insurance = pd.read_csv('../datasets/Medical_insurance.csv')"
   ]
  },
  {
   "cell_type": "markdown",
   "metadata": {
    "application/vnd.databricks.v1+cell": {
     "cellMetadata": {},
     "inputWidgets": {},
     "nuid": "c865c106-4942-4181-a813-397c7b0f85c2",
     "showTitle": false,
     "title": ""
    }
   },
   "source": [
    "### Familiarizando com o Dataset"
   ]
  },
  {
   "cell_type": "code",
   "execution_count": 0,
   "metadata": {
    "application/vnd.databricks.v1+cell": {
     "cellMetadata": {
      "byteLimit": 2048000,
      "rowLimit": 10000
     },
     "inputWidgets": {},
     "nuid": "23ad92b4-b5b0-449c-95d8-a7d951c246bb",
     "showTitle": false,
     "title": ""
    }
   },
   "outputs": [],
   "source": [
    "# Primeiras 5 linhas\n",
    "df_insurance.head()"
   ]
  },
  {
   "cell_type": "code",
   "execution_count": 0,
   "metadata": {
    "application/vnd.databricks.v1+cell": {
     "cellMetadata": {
      "byteLimit": 2048000,
      "rowLimit": 10000
     },
     "inputWidgets": {},
     "nuid": "3f1eee8e-c067-49bb-8e07-ebd41f3b7baa",
     "showTitle": false,
     "title": ""
    }
   },
   "outputs": [],
   "source": [
    "# Quantos dados existem nesse dataset?\n",
    "df_insurance.shape"
   ]
  },
  {
   "cell_type": "code",
   "execution_count": 0,
   "metadata": {
    "application/vnd.databricks.v1+cell": {
     "cellMetadata": {
      "byteLimit": 2048000,
      "rowLimit": 10000
     },
     "inputWidgets": {},
     "nuid": "5692c9f5-fdc9-429f-8a8d-792fd71c99ab",
     "showTitle": false,
     "title": ""
    }
   },
   "outputs": [],
   "source": [
    "# Quais características temos no nosso conjunto de dados?\n",
    "df_insurance.columns"
   ]
  },
  {
   "cell_type": "markdown",
   "metadata": {
    "application/vnd.databricks.v1+cell": {
     "cellMetadata": {},
     "inputWidgets": {},
     "nuid": "fae06a9d-2c94-4c32-8b6d-ec766e742eba",
     "showTitle": false,
     "title": ""
    }
   },
   "source": [
    "Visualizando informações gerais sobre as colunas:"
   ]
  },
  {
   "cell_type": "code",
   "execution_count": 0,
   "metadata": {
    "application/vnd.databricks.v1+cell": {
     "cellMetadata": {
      "byteLimit": 2048000,
      "rowLimit": 10000
     },
     "inputWidgets": {},
     "nuid": "5a86631a-49ce-48bc-a5fc-a13badc3b7da",
     "showTitle": false,
     "title": ""
    }
   },
   "outputs": [],
   "source": [
    "# Informações sobre todas as colunas\n",
    "df_insurance.info()"
   ]
  },
  {
   "cell_type": "markdown",
   "metadata": {
    "application/vnd.databricks.v1+cell": {
     "cellMetadata": {},
     "inputWidgets": {},
     "nuid": "0f5cef16-d7f0-4dfd-898c-2511dcda873e",
     "showTitle": false,
     "title": ""
    }
   },
   "source": [
    "Percebemos que nenhuma coluna tem dados nulos. Mas, podemos verificar, como fizemos na aula passada."
   ]
  },
  {
   "cell_type": "code",
   "execution_count": 0,
   "metadata": {
    "application/vnd.databricks.v1+cell": {
     "cellMetadata": {
      "byteLimit": 2048000,
      "rowLimit": 10000
     },
     "inputWidgets": {},
     "nuid": "394940c6-5b53-4114-820e-c3755b7f001f",
     "showTitle": false,
     "title": ""
    }
   },
   "outputs": [],
   "source": [
    "df_insurance.isnull().sum()"
   ]
  },
  {
   "cell_type": "code",
   "execution_count": 0,
   "metadata": {
    "application/vnd.databricks.v1+cell": {
     "cellMetadata": {
      "byteLimit": 2048000,
      "rowLimit": 10000
     },
     "inputWidgets": {},
     "nuid": "8b62e378-2056-43df-a0db-e0191773ba19",
     "showTitle": false,
     "title": ""
    }
   },
   "outputs": [],
   "source": [
    "#Visualizar a proporção\n",
    "df_insurance.isnull().mean()"
   ]
  },
  {
   "cell_type": "code",
   "execution_count": 0,
   "metadata": {
    "application/vnd.databricks.v1+cell": {
     "cellMetadata": {
      "byteLimit": 2048000,
      "rowLimit": 10000
     },
     "inputWidgets": {},
     "nuid": "854d2989-15a4-491c-b3db-70e894a2adb0",
     "showTitle": false,
     "title": ""
    }
   },
   "outputs": [],
   "source": [
    "#Visualizar a estatística descritiva\n",
    "df_insurance.describe()"
   ]
  },
  {
   "cell_type": "code",
   "execution_count": 0,
   "metadata": {
    "application/vnd.databricks.v1+cell": {
     "cellMetadata": {
      "byteLimit": 2048000,
      "rowLimit": 10000
     },
     "inputWidgets": {},
     "nuid": "86ccba94-5b7c-4745-8f8f-7b6e401f3d55",
     "showTitle": false,
     "title": ""
    }
   },
   "outputs": [],
   "source": [
    "#Vamos ver as linhas duplicadas e eliminá-las\n",
    "df_insurance = df_insurance[~df_insurance.duplicated()]"
   ]
  },
  {
   "cell_type": "code",
   "execution_count": 0,
   "metadata": {
    "application/vnd.databricks.v1+cell": {
     "cellMetadata": {
      "byteLimit": 2048000,
      "rowLimit": 10000
     },
     "inputWidgets": {},
     "nuid": "d1392ee2-b1ac-47c4-bef0-ec9bfd764c15",
     "showTitle": false,
     "title": ""
    }
   },
   "outputs": [],
   "source": [
    "df_insurance.info()"
   ]
  },
  {
   "cell_type": "markdown",
   "metadata": {
    "application/vnd.databricks.v1+cell": {
     "cellMetadata": {},
     "inputWidgets": {},
     "nuid": "ba05ced7-87a7-4c2b-95d7-0bf4f96480e8",
     "showTitle": false,
     "title": ""
    }
   },
   "source": [
    "## Processamento dos dados\n",
    "\n",
    "Vimos que não temos dados faltantes, mas, temos dados categóricos."
   ]
  },
  {
   "cell_type": "code",
   "execution_count": 0,
   "metadata": {
    "application/vnd.databricks.v1+cell": {
     "cellMetadata": {
      "byteLimit": 2048000,
      "rowLimit": 10000
     },
     "inputWidgets": {},
     "nuid": "815e4b84-33bb-4da3-a601-7566e2e824fc",
     "showTitle": false,
     "title": ""
    }
   },
   "outputs": [],
   "source": [
    "#Quais são as variáveis categóricas?\n",
    "df_insurance.select_dtypes('object').columns"
   ]
  },
  {
   "cell_type": "markdown",
   "metadata": {
    "application/vnd.databricks.v1+cell": {
     "cellMetadata": {},
     "inputWidgets": {},
     "nuid": "2d7f1fec-69ef-4404-a28e-6e3c6df6e6c4",
     "showTitle": false,
     "title": ""
    }
   },
   "source": [
    "#### Encoding de variáveis categóricas\n",
    "\n",
    "Muitas vezes, é bastante útil termos uma maneira de mapear variáveis categóricas qualitativas em variáveis categóricas numéricas. Vejamos algumas formas de fazê-lo, a seguir."
   ]
  },
  {
   "cell_type": "markdown",
   "metadata": {
    "application/vnd.databricks.v1+cell": {
     "cellMetadata": {},
     "inputWidgets": {},
     "nuid": "54c52513-8e16-420f-94f6-abd383dc435b",
     "showTitle": false,
     "title": ""
    }
   },
   "source": [
    "#### One-hot encoding\n",
    "\n",
    "Uma forma muito comum de utilizar variáveis categóricas é através da criação de **variáveis mudas** (dummy variables / dummies)\n",
    "\n",
    "<img src=\"https://miro.medium.com/max/2474/1*ggtP4a5YaRx6l09KQaYOnw.png\" width=700>\n",
    "\n",
    "Isso é facilmente feito com o pandas utilizando a função [pd.get_dummies()](https://pandas.pydata.org/pandas-docs/stable/reference/api/pandas.get_dummies.html)"
   ]
  },
  {
   "cell_type": "markdown",
   "metadata": {
    "application/vnd.databricks.v1+cell": {
     "cellMetadata": {},
     "inputWidgets": {},
     "nuid": "e8265783-7dc3-4f13-ae7a-a3ddbaaaed32",
     "showTitle": false,
     "title": ""
    }
   },
   "source": [
    "A informação acima é fundamental para diferenciarmos quais colunas contêm dados **categóricos** e quais contêm dados **numéricos**\n",
    "\n",
    "- **Dados categóricos/qualitativos**: são dados qualitativos, quase sempre expressos na forma de **strings**. Praticamente todos os modelos não conseguem lidar com dados categóricos diretamente. Por isso, se quisermos utilizá-los, teremos que fazer algum procedimento que trasnforme os dados categórios em dados numéricos. Veremos como fazer isso mais pra frente.\n",
    "\n",
    "- **Dados numéricos**: são dados numéricos, que podemos utilizar diretamente!"
   ]
  },
  {
   "cell_type": "code",
   "execution_count": 0,
   "metadata": {
    "application/vnd.databricks.v1+cell": {
     "cellMetadata": {
      "byteLimit": 2048000,
      "rowLimit": 10000
     },
     "inputWidgets": {},
     "nuid": "17e3a226-8998-4331-83c1-58f608da4214",
     "showTitle": false,
     "title": ""
    }
   },
   "outputs": [],
   "source": [
    "#Vendo os valores da variável sex\n",
    "df_insurance['sex'].value_counts()"
   ]
  },
  {
   "cell_type": "code",
   "execution_count": 0,
   "metadata": {
    "application/vnd.databricks.v1+cell": {
     "cellMetadata": {
      "byteLimit": 2048000,
      "rowLimit": 10000
     },
     "inputWidgets": {},
     "nuid": "3878dc25-d6ef-46a0-a0d7-23e8ccd1dce7",
     "showTitle": false,
     "title": ""
    }
   },
   "outputs": [],
   "source": [
    "#Transformar variável sex para números\n",
    "mapeamento = {'female':0,'male':1}\n",
    "df_insurance['sex'].map(lambda x: mapeamento[x])"
   ]
  },
  {
   "cell_type": "code",
   "execution_count": 0,
   "metadata": {
    "application/vnd.databricks.v1+cell": {
     "cellMetadata": {
      "byteLimit": 2048000,
      "rowLimit": 10000
     },
     "inputWidgets": {},
     "nuid": "d9dc991d-fe5c-49b5-8d03-239017bbda25",
     "showTitle": false,
     "title": ""
    }
   },
   "outputs": [],
   "source": [
    "#Como fazemos com o get_dummies?\n",
    "pd.get_dummies(df_insurance['sex'])"
   ]
  },
  {
   "cell_type": "code",
   "execution_count": 0,
   "metadata": {
    "application/vnd.databricks.v1+cell": {
     "cellMetadata": {
      "byteLimit": 2048000,
      "rowLimit": 10000
     },
     "inputWidgets": {},
     "nuid": "c2494e63-4416-4fc6-adce-6a2bc230e346",
     "showTitle": false,
     "title": ""
    }
   },
   "outputs": [],
   "source": [
    "#Podemos ainda desconsiderar a primeira\n",
    "pd.get_dummies(df_insurance['sex'], drop_first= True)"
   ]
  },
  {
   "cell_type": "markdown",
   "metadata": {
    "application/vnd.databricks.v1+cell": {
     "cellMetadata": {},
     "inputWidgets": {},
     "nuid": "0f200337-b45d-42ba-9677-a1cc7b555c20",
     "showTitle": false,
     "title": ""
    }
   },
   "source": [
    "Para retornar valores numéricos?"
   ]
  },
  {
   "cell_type": "code",
   "execution_count": 0,
   "metadata": {
    "application/vnd.databricks.v1+cell": {
     "cellMetadata": {
      "byteLimit": 2048000,
      "rowLimit": 10000
     },
     "inputWidgets": {},
     "nuid": "d9b7157f-9dfd-4b30-ac3b-a4248d58f083",
     "showTitle": false,
     "title": ""
    }
   },
   "outputs": [],
   "source": [
    "#Podemos ainda desconsiderar a primeira\n",
    "pd.get_dummies(df_insurance['sex'], drop_first= True, dtype='bool')"
   ]
  },
  {
   "cell_type": "markdown",
   "metadata": {
    "application/vnd.databricks.v1+cell": {
     "cellMetadata": {},
     "inputWidgets": {},
     "nuid": "38b3ac5b-30f5-416a-9a13-18c7483a8098",
     "showTitle": false,
     "title": ""
    }
   },
   "source": [
    "### Outras funções importantes em pandas:\n",
    "\n",
    "#### 'iat' e 'at':\n",
    "\n",
    "Ambas são usadas para acessar e modificar valores específicos em um dataframe:\n",
    "- 'iat': acessa um único valor no DF, especificando o índice da linha e o número da coluna;\n",
    "- 'at': similar ao 'iat', mas usa os rótulos e nomes das colunas."
   ]
  },
  {
   "cell_type": "code",
   "execution_count": 0,
   "metadata": {
    "application/vnd.databricks.v1+cell": {
     "cellMetadata": {
      "byteLimit": 2048000,
      "rowLimit": 10000
     },
     "inputWidgets": {},
     "nuid": "c5819ff9-7d6c-4d6e-a76f-cdc8606482fb",
     "showTitle": false,
     "title": ""
    }
   },
   "outputs": [],
   "source": [
    "# Criando um DataFrame\n",
    "data = {'A':[1,2,3],\n",
    "        'B':[4,5,6],\n",
    "        'C':[7,8,9]}\n",
    "df = pd.DataFrame(data)\n",
    "df"
   ]
  },
  {
   "cell_type": "code",
   "execution_count": 0,
   "metadata": {
    "application/vnd.databricks.v1+cell": {
     "cellMetadata": {
      "byteLimit": 2048000,
      "rowLimit": 10000
     },
     "inputWidgets": {},
     "nuid": "1f2bd031-1d58-4f42-9173-96e7b940b240",
     "showTitle": false,
     "title": ""
    }
   },
   "outputs": [],
   "source": [
    "# Acessando e modificando valores\n",
    "valor = df.iat[1,2]\n",
    "print(valor)\n",
    "#Acessar e alterar o valor da linha 1 e a coluna 'C'\n",
    "df.at[1,'C'] = 10"
   ]
  },
  {
   "cell_type": "code",
   "execution_count": 0,
   "metadata": {
    "application/vnd.databricks.v1+cell": {
     "cellMetadata": {
      "byteLimit": 2048000,
      "rowLimit": 10000
     },
     "inputWidgets": {},
     "nuid": "eae31ca2-63ba-48f4-b6e2-e0c8a6fc1c5a",
     "showTitle": false,
     "title": ""
    }
   },
   "outputs": [],
   "source": [
    "df"
   ]
  },
  {
   "cell_type": "markdown",
   "metadata": {
    "application/vnd.databricks.v1+cell": {
     "cellMetadata": {},
     "inputWidgets": {},
     "nuid": "c3224696-82d7-4695-8544-244f4d3e034e",
     "showTitle": false,
     "title": ""
    }
   },
   "source": [
    "#### Replace\n",
    "\n",
    "- Utilizada para substituir valores em um DataFrame ou Series.\n",
    "- Substitui um valor por outro especificado."
   ]
  },
  {
   "cell_type": "code",
   "execution_count": 0,
   "metadata": {
    "application/vnd.databricks.v1+cell": {
     "cellMetadata": {
      "byteLimit": 2048000,
      "rowLimit": 10000
     },
     "inputWidgets": {},
     "nuid": "cc1fba4c-e0d5-4dad-b967-19ae078a8062",
     "showTitle": false,
     "title": ""
    }
   },
   "outputs": [],
   "source": [
    "#Substituir na coluna 'sex' tudo que encontra por male por 1\n",
    "df_insurance['sex'].replace('male',1.0)"
   ]
  },
  {
   "cell_type": "markdown",
   "metadata": {
    "application/vnd.databricks.v1+cell": {
     "cellMetadata": {},
     "inputWidgets": {},
     "nuid": "bc761405-c5aa-45d2-985a-46fe9476ab7a",
     "showTitle": false,
     "title": ""
    }
   },
   "source": [
    "#### np.where:\n",
    "\n",
    "- Utilizada para aplicar uma condição e atribuir valores em um DataFrame ou Series.\n",
    "- Substitui valores baseados em uma condição."
   ]
  },
  {
   "cell_type": "code",
   "execution_count": 0,
   "metadata": {
    "application/vnd.databricks.v1+cell": {
     "cellMetadata": {
      "byteLimit": 2048000,
      "rowLimit": 10000
     },
     "inputWidgets": {},
     "nuid": "1fe6cdfa-3e09-422b-9076-4f4b693346b6",
     "showTitle": false,
     "title": ""
    }
   },
   "outputs": [],
   "source": [
    "#Exemplo, substituir idade acima de 60 por idoso\n",
    "np.where(df_insurance['age']>60, 'Idoso', np.nan)"
   ]
  },
  {
   "cell_type": "markdown",
   "metadata": {
    "application/vnd.databricks.v1+cell": {
     "cellMetadata": {},
     "inputWidgets": {},
     "nuid": "050875de-d402-4e5b-ad98-7403751627be",
     "showTitle": false,
     "title": ""
    }
   },
   "source": [
    "#### applymap:\n",
    "\n",
    "- Aplica uma função a cada elemento de um DataFrame.\n",
    "- É usada para operações elemento a elemento em todo o DataFrame."
   ]
  },
  {
   "cell_type": "code",
   "execution_count": 0,
   "metadata": {
    "application/vnd.databricks.v1+cell": {
     "cellMetadata": {
      "byteLimit": 2048000,
      "rowLimit": 10000
     },
     "inputWidgets": {},
     "nuid": "3ff910df-375f-4ff5-b525-5ee86b6d6f39",
     "showTitle": false,
     "title": ""
    }
   },
   "outputs": [],
   "source": [
    "  # Multiplica cada elemento por 2\n",
    "  df_insurance.applymap(lambda x: x*2)"
   ]
  },
  {
   "cell_type": "markdown",
   "metadata": {
    "application/vnd.databricks.v1+cell": {
     "cellMetadata": {},
     "inputWidgets": {},
     "nuid": "df92106f-37cf-41bf-9788-518ace6cc265",
     "showTitle": false,
     "title": ""
    }
   },
   "source": [
    "## Análise descritiva da base de dados"
   ]
  },
  {
   "cell_type": "markdown",
   "metadata": {
    "application/vnd.databricks.v1+cell": {
     "cellMetadata": {},
     "inputWidgets": {},
     "nuid": "e948401c-8729-487d-ab0f-8f995061a4b8",
     "showTitle": false,
     "title": ""
    }
   },
   "source": [
    "### Coluna 'Sex':"
   ]
  },
  {
   "cell_type": "code",
   "execution_count": 0,
   "metadata": {
    "application/vnd.databricks.v1+cell": {
     "cellMetadata": {
      "byteLimit": 2048000,
      "rowLimit": 10000
     },
     "inputWidgets": {},
     "nuid": "10e95c16-9375-4fb8-9829-34b77022cc71",
     "showTitle": false,
     "title": ""
    }
   },
   "outputs": [],
   "source": [
    "#Verificando a proporção de homens e mulheres\n",
    "df_insurance['sex'].value_counts(normalize = True)"
   ]
  },
  {
   "cell_type": "markdown",
   "metadata": {
    "application/vnd.databricks.v1+cell": {
     "cellMetadata": {},
     "inputWidgets": {},
     "nuid": "ad455e2a-dd66-4bea-8870-a6af1f0daf07",
     "showTitle": false,
     "title": ""
    }
   },
   "source": [
    "Temos 50,49 % de pessoas do sexo male, e 49,51 % do sexo female."
   ]
  },
  {
   "cell_type": "markdown",
   "metadata": {
    "application/vnd.databricks.v1+cell": {
     "cellMetadata": {},
     "inputWidgets": {},
     "nuid": "abb0d0b4-6ad6-40d2-938c-4eaef766db44",
     "showTitle": false,
     "title": ""
    }
   },
   "source": [
    "Podemos também colocar a informação acima em forma gráfica:"
   ]
  },
  {
   "cell_type": "code",
   "execution_count": 0,
   "metadata": {
    "application/vnd.databricks.v1+cell": {
     "cellMetadata": {
      "byteLimit": 2048000,
      "rowLimit": 10000
     },
     "inputWidgets": {},
     "nuid": "88bca29b-36d1-4f50-9323-6c64ec689763",
     "showTitle": false,
     "title": ""
    }
   },
   "outputs": [],
   "source": [
    "df_insurance['sex'].value_counts(normalize = True).plot(kind='bar')"
   ]
  },
  {
   "cell_type": "markdown",
   "metadata": {
    "application/vnd.databricks.v1+cell": {
     "cellMetadata": {},
     "inputWidgets": {},
     "nuid": "864e5184-1fbc-42d3-abd3-9be2af47777b",
     "showTitle": false,
     "title": ""
    }
   },
   "source": [
    "Ainda podemos fazer esse mesmo gráfico de outras 2 formas:"
   ]
  },
  {
   "cell_type": "code",
   "execution_count": 0,
   "metadata": {
    "application/vnd.databricks.v1+cell": {
     "cellMetadata": {
      "byteLimit": 2048000,
      "rowLimit": 10000
     },
     "inputWidgets": {},
     "nuid": "1d211fc8-8464-443b-96fa-c855ce74c9ea",
     "showTitle": false,
     "title": ""
    }
   },
   "outputs": [],
   "source": [
    "#Com o matplotlib\n",
    "plt.bar(df_insurance['sex'].value_counts(normalize = True).index,df_insurance['sex'].value_counts(normalize = True).values)\n",
    "#Alegorias do gráfico\n",
    "plt.title('Distribuição dos sexos')\n",
    "plt.xlabel('Sexo')\n",
    "plt.ylabel('Quantidade')\n",
    "plt.show()"
   ]
  },
  {
   "cell_type": "code",
   "execution_count": 0,
   "metadata": {
    "application/vnd.databricks.v1+cell": {
     "cellMetadata": {
      "byteLimit": 2048000,
      "rowLimit": 10000
     },
     "inputWidgets": {},
     "nuid": "32c2962a-c029-4bec-aafb-fd9842443103",
     "showTitle": false,
     "title": ""
    }
   },
   "outputs": [],
   "source": [
    "#Usando o seaborn\n",
    "#Criando uma figura com o matplotlib\n",
    "plt.figure(figsize = (6,6))\n",
    "sns.countplot(df_insurance['sex'])\n",
    "#Alegorias do gráfico\n",
    "plt.title('Distribuição dos sexos')\n",
    "plt.xlabel('Sexo')\n",
    "plt.ylabel('Quantidade')\n",
    "plt.show()"
   ]
  },
  {
   "cell_type": "markdown",
   "metadata": {
    "application/vnd.databricks.v1+cell": {
     "cellMetadata": {},
     "inputWidgets": {},
     "nuid": "cf299ba5-5186-497b-8344-aeaa780805c8",
     "showTitle": false,
     "title": ""
    }
   },
   "source": [
    "**E se quisermos a proporção?**"
   ]
  },
  {
   "cell_type": "code",
   "execution_count": 0,
   "metadata": {
    "application/vnd.databricks.v1+cell": {
     "cellMetadata": {
      "byteLimit": 2048000,
      "rowLimit": 10000
     },
     "inputWidgets": {},
     "nuid": "3d69b082-e800-473b-8efb-3dc38bd4f2c1",
     "showTitle": false,
     "title": ""
    }
   },
   "outputs": [],
   "source": [
    "plt.figure(figsize = (6,6))\n",
    "sns.barplot(df_insurance['sex'].value_counts(normalize = True).index,df_insurance['sex'].value_counts(normalize = True).values)\n",
    "#Alegorias do gráfico\n",
    "plt.title('Distribuição dos sexos')\n",
    "plt.xlabel('Sexo')\n",
    "plt.ylabel('Quantidade')\n",
    "plt.show()"
   ]
  },
  {
   "cell_type": "markdown",
   "metadata": {
    "application/vnd.databricks.v1+cell": {
     "cellMetadata": {},
     "inputWidgets": {},
     "nuid": "1bc0e33e-96e4-4eca-a671-65feda3c3043",
     "showTitle": false,
     "title": ""
    }
   },
   "source": [
    "Podemos ver, por exemplo, a média de valores pelo sexo:"
   ]
  },
  {
   "cell_type": "code",
   "execution_count": 0,
   "metadata": {
    "application/vnd.databricks.v1+cell": {
     "cellMetadata": {
      "byteLimit": 2048000,
      "rowLimit": 10000
     },
     "inputWidgets": {},
     "nuid": "8ce1840a-8924-49fd-bfaa-23fb0fbbfee2",
     "showTitle": false,
     "title": ""
    }
   },
   "outputs": [],
   "source": [
    "df_insurance.groupby('sex')['charges'].agg('mean')"
   ]
  },
  {
   "cell_type": "markdown",
   "metadata": {
    "application/vnd.databricks.v1+cell": {
     "cellMetadata": {},
     "inputWidgets": {},
     "nuid": "63103513-3c09-4709-a380-e3cb834d1376",
     "showTitle": false,
     "title": ""
    }
   },
   "source": [
    "Podemos agrupar várias colunas: Se quisermos saber a diferença entre homens e mulheres que fumam:"
   ]
  },
  {
   "cell_type": "code",
   "execution_count": 0,
   "metadata": {
    "application/vnd.databricks.v1+cell": {
     "cellMetadata": {
      "byteLimit": 2048000,
      "rowLimit": 10000
     },
     "inputWidgets": {},
     "nuid": "a91ba373-e01c-4a25-88d7-a4d3466b8a55",
     "showTitle": false,
     "title": ""
    }
   },
   "outputs": [],
   "source": [
    "df_insurance.groupby(['sex','smoker'])['charges'].agg('mean')"
   ]
  },
  {
   "cell_type": "markdown",
   "metadata": {
    "application/vnd.databricks.v1+cell": {
     "cellMetadata": {},
     "inputWidgets": {},
     "nuid": "a9e2e2e4-7671-4fe8-a6a8-c5b7a257233d",
     "showTitle": false,
     "title": ""
    }
   },
   "source": [
    "Vamos ver isso graficamente:"
   ]
  },
  {
   "cell_type": "code",
   "execution_count": 0,
   "metadata": {
    "application/vnd.databricks.v1+cell": {
     "cellMetadata": {
      "byteLimit": 2048000,
      "rowLimit": 10000
     },
     "inputWidgets": {},
     "nuid": "8dd5650a-7e3e-49ae-9971-02fa44160a15",
     "showTitle": false,
     "title": ""
    }
   },
   "outputs": [],
   "source": [
    "ax = df_insurance.groupby(['sex','smoker'])['charges'].agg('mean').unstack().plot(kind='bar',\n",
    "                                                                             title = 'Custo de seguro por sexo e condição de fumante',\n",
    "                                                                             xlabel = 'Sexo',\n",
    "                                                                             ylabel = 'Preço')            "
   ]
  },
  {
   "cell_type": "markdown",
   "metadata": {
    "application/vnd.databricks.v1+cell": {
     "cellMetadata": {},
     "inputWidgets": {},
     "nuid": "827ab5b3-0ab4-40cc-aaa7-ed238e944354",
     "showTitle": false,
     "title": ""
    }
   },
   "source": [
    "Percebemos que no geral, fumar faz elevar o preço do seguro, mas isso não faz diferença, se compararmos o sexo masculino com o feminino."
   ]
  },
  {
   "cell_type": "markdown",
   "metadata": {
    "application/vnd.databricks.v1+cell": {
     "cellMetadata": {},
     "inputWidgets": {},
     "nuid": "1fc02c59-32ed-4d09-bbcf-507e593b59cf",
     "showTitle": false,
     "title": ""
    }
   },
   "source": [
    "Podemos querer apresentar essa informação em mais de uma coluna e fazemos isso com a função **crosstab()**.\n",
    "\n",
    "Vamos avaliar, por exemplo, a contagem de entradas no dataset para cada sexo e região."
   ]
  },
  {
   "cell_type": "code",
   "execution_count": 0,
   "metadata": {
    "application/vnd.databricks.v1+cell": {
     "cellMetadata": {
      "byteLimit": 2048000,
      "rowLimit": 10000
     },
     "inputWidgets": {},
     "nuid": "1e2f8cd4-d0a7-4531-9488-a5fda430c88a",
     "showTitle": false,
     "title": ""
    }
   },
   "outputs": [],
   "source": [
    "pd.crosstab(df_insurance['sex'],df_insurance['region'],margins=True)"
   ]
  },
  {
   "cell_type": "markdown",
   "metadata": {
    "application/vnd.databricks.v1+cell": {
     "cellMetadata": {},
     "inputWidgets": {},
     "nuid": "786b46db-2121-4518-b1a3-565bc6fc25ae",
     "showTitle": false,
     "title": ""
    }
   },
   "source": [
    "Podemos mostrar a mesma informação na forma de uma matriz, colorindo os elementos de acordo com a intensidade da ocorrência na tabela."
   ]
  },
  {
   "cell_type": "code",
   "execution_count": 0,
   "metadata": {
    "application/vnd.databricks.v1+cell": {
     "cellMetadata": {
      "byteLimit": 2048000,
      "rowLimit": 10000
     },
     "inputWidgets": {},
     "nuid": "51f88529-6004-4b4d-88b0-421850a85c2e",
     "showTitle": false,
     "title": ""
    }
   },
   "outputs": [],
   "source": [
    "sns.heatmap(pd.crosstab(df_insurance['sex'],df_insurance['region'],margins=True))"
   ]
  },
  {
   "cell_type": "code",
   "execution_count": 0,
   "metadata": {
    "application/vnd.databricks.v1+cell": {
     "cellMetadata": {
      "byteLimit": 2048000,
      "rowLimit": 10000
     },
     "inputWidgets": {},
     "nuid": "99327cc3-a4af-4e54-9dde-186c79e407a2",
     "showTitle": false,
     "title": ""
    }
   },
   "outputs": [],
   "source": [
    "df_insurance['sex'].value_counts().values"
   ]
  },
  {
   "cell_type": "code",
   "execution_count": 0,
   "metadata": {
    "application/vnd.databricks.v1+cell": {
     "cellMetadata": {
      "byteLimit": 2048000,
      "rowLimit": 10000
     },
     "inputWidgets": {},
     "nuid": "d4064c29-7ba5-4071-9ecb-b0c29eb557a1",
     "showTitle": false,
     "title": ""
    }
   },
   "outputs": [],
   "source": [
    "df_insurance['sex'].value_counts().index"
   ]
  },
  {
   "cell_type": "code",
   "execution_count": 0,
   "metadata": {
    "application/vnd.databricks.v1+cell": {
     "cellMetadata": {
      "byteLimit": 2048000,
      "rowLimit": 10000
     },
     "inputWidgets": {},
     "nuid": "29377c31-bde1-494c-a423-0763fd83710a",
     "showTitle": false,
     "title": ""
    }
   },
   "outputs": [],
   "source": [
    "# Supondo que você já tenha transformado 'sex' em valores numéricos\n",
    "plt.figure(figsize=(6, 6))\n",
    "# Gráfico de pizza\n",
    "plt.pie(df_insurance['sex'].map({'male': 0, 'female': 1}).value_counts(normalize=True), labels=df_insurance['sex'].value_counts(normalize=True).index, autopct='%1.1f%%', startangle=90)\n",
    "# Adornos do gráfico\n",
    "plt.title('Distribuição de Gêneros')\n",
    "plt.show()"
   ]
  },
  {
   "cell_type": "markdown",
   "metadata": {
    "application/vnd.databricks.v1+cell": {
     "cellMetadata": {},
     "inputWidgets": {},
     "nuid": "d0d03029-94c2-4982-8fdf-eb966f2092cb",
     "showTitle": false,
     "title": ""
    }
   },
   "source": [
    "### Coluna 'age':\n",
    "\n",
    "Como é um valor numérico, vamos avaliar primeiro a distribuição desses dados."
   ]
  },
  {
   "cell_type": "code",
   "execution_count": 0,
   "metadata": {
    "application/vnd.databricks.v1+cell": {
     "cellMetadata": {
      "byteLimit": 2048000,
      "rowLimit": 10000
     },
     "inputWidgets": {},
     "nuid": "a1e3bc92-a157-43db-bb14-0fb4b7c0b7f4",
     "showTitle": false,
     "title": ""
    }
   },
   "outputs": [],
   "source": [
    "df_insurance['age'].describe()"
   ]
  },
  {
   "cell_type": "markdown",
   "metadata": {
    "application/vnd.databricks.v1+cell": {
     "cellMetadata": {},
     "inputWidgets": {},
     "nuid": "b16dfc5d-69d6-4aae-8e64-d4079e187c4c",
     "showTitle": false,
     "title": ""
    }
   },
   "source": [
    "Temos um mínimo de 18 e um máximo de 64, com média de 39.22 e mediana de 39. Vamos analisar a distribuição usando um **histograma:**"
   ]
  },
  {
   "cell_type": "code",
   "execution_count": 0,
   "metadata": {
    "application/vnd.databricks.v1+cell": {
     "cellMetadata": {
      "byteLimit": 2048000,
      "rowLimit": 10000
     },
     "inputWidgets": {},
     "nuid": "fe450635-b9a1-4845-9320-81b811ca8d0a",
     "showTitle": false,
     "title": ""
    }
   },
   "outputs": [],
   "source": [
    "# Supondo que você já tenha transformado 'sex' em valores numéricos\n",
    "plt.figure(figsize=(6, 6))\n",
    "# Histograma\n",
    "sns.histplot(df_insurance['age'],bins=10)\n",
    "# Adornos do gráfico\n",
    "plt.title('Idade')\n",
    "plt.xlabel('Idade')\n",
    "plt.ylabel('Quantidade')\n",
    "plt.show()"
   ]
  },
  {
   "cell_type": "markdown",
   "metadata": {
    "application/vnd.databricks.v1+cell": {
     "cellMetadata": {},
     "inputWidgets": {},
     "nuid": "4874b9f1-599d-47ab-a509-18dba4bd5a95",
     "showTitle": false,
     "title": ""
    }
   },
   "source": [
    "Separando por sexo"
   ]
  },
  {
   "cell_type": "code",
   "execution_count": 0,
   "metadata": {
    "application/vnd.databricks.v1+cell": {
     "cellMetadata": {
      "byteLimit": 2048000,
      "rowLimit": 10000
     },
     "inputWidgets": {},
     "nuid": "a49ac688-a8f8-4c4a-8cc3-784d6acffb74",
     "showTitle": false,
     "title": ""
    }
   },
   "outputs": [],
   "source": [
    "# Supondo que você já tenha transformado 'sex' em valores numéricos\n",
    "plt.figure(figsize=(6, 6))\n",
    "# Histograma\n",
    "sns.histplot(df_insurance, x = 'age',bins=10, hue = 'sex')\n",
    "# Adornos do gráfico\n",
    "plt.title('Idade')\n",
    "plt.xlabel('Idade')\n",
    "plt.ylabel('Quantidade')\n",
    "plt.show()"
   ]
  },
  {
   "cell_type": "markdown",
   "metadata": {
    "application/vnd.databricks.v1+cell": {
     "cellMetadata": {},
     "inputWidgets": {},
     "nuid": "9acb9ff3-15d7-44c9-af41-851b2f41627f",
     "showTitle": false,
     "title": ""
    }
   },
   "source": [
    "Observamos que não há diferença entre idade e sexo. Aparentemente, há a mesma distribuição para a idade em ambos os sexos."
   ]
  },
  {
   "cell_type": "markdown",
   "metadata": {
    "application/vnd.databricks.v1+cell": {
     "cellMetadata": {},
     "inputWidgets": {},
     "nuid": "30e311c2-ad2b-4441-a75a-7e0c74110b7e",
     "showTitle": false,
     "title": ""
    }
   },
   "source": [
    "Será que há alguma relação da idade com o preço?"
   ]
  },
  {
   "cell_type": "code",
   "execution_count": 0,
   "metadata": {
    "application/vnd.databricks.v1+cell": {
     "cellMetadata": {
      "byteLimit": 2048000,
      "rowLimit": 10000
     },
     "inputWidgets": {},
     "nuid": "0e6b9991-140c-427a-8593-dadeee698f68",
     "showTitle": false,
     "title": ""
    }
   },
   "outputs": [],
   "source": [
    "# Supondo que você já tenha transformado 'sex' em valores numéricos\n",
    "plt.figure(figsize=(6, 6))\n",
    "# Gráfico de dispersão\n",
    "sns.scatterplot(data = df_insurance, x = 'age', y = 'charges', hue = 'sex')\n",
    "# Adornos do gráfico\n",
    "plt.title('Dispersão da idade x preço')\n",
    "plt.xlabel('Idade')\n",
    "plt.ylabel('Preço')\n",
    "plt.show()"
   ]
  },
  {
   "cell_type": "markdown",
   "metadata": {
    "application/vnd.databricks.v1+cell": {
     "cellMetadata": {},
     "inputWidgets": {},
     "nuid": "91debd86-b1cd-48e7-b6b2-772a128bbfd0",
     "showTitle": false,
     "title": ""
    }
   },
   "source": [
    "#### bmi"
   ]
  },
  {
   "cell_type": "code",
   "execution_count": 0,
   "metadata": {
    "application/vnd.databricks.v1+cell": {
     "cellMetadata": {
      "byteLimit": 2048000,
      "rowLimit": 10000
     },
     "inputWidgets": {},
     "nuid": "60f14281-2666-4f71-ac41-f2a015de0c01",
     "showTitle": false,
     "title": ""
    }
   },
   "outputs": [],
   "source": [
    "df_insurance['bmi'].describe()"
   ]
  },
  {
   "cell_type": "code",
   "execution_count": 0,
   "metadata": {
    "application/vnd.databricks.v1+cell": {
     "cellMetadata": {
      "byteLimit": 2048000,
      "rowLimit": 10000
     },
     "inputWidgets": {},
     "nuid": "f2a49ffb-30cb-484f-93a1-f6e7e006211c",
     "showTitle": false,
     "title": ""
    }
   },
   "outputs": [],
   "source": [
    "# Supondo que você já tenha transformado 'sex' em valores numéricos\n",
    "plt.figure(figsize=(6, 6))\n",
    "# Histograma\n",
    "sns.histplot(df_insurance, x = 'bmi',bins=10, hue = 'sex')\n",
    "# Adornos do gráfico\n",
    "plt.title('Distribuição de bmi por sexo')\n",
    "plt.xlabel('bmi')\n",
    "plt.ylabel('Quantidade')\n",
    "plt.show()"
   ]
  },
  {
   "cell_type": "code",
   "execution_count": 0,
   "metadata": {
    "application/vnd.databricks.v1+cell": {
     "cellMetadata": {
      "byteLimit": 2048000,
      "rowLimit": 10000
     },
     "inputWidgets": {},
     "nuid": "8ec89ef3-ac58-4c7d-88be-896d6f7d15c2",
     "showTitle": false,
     "title": ""
    }
   },
   "outputs": [],
   "source": [
    "# Supondo que você já tenha transformado 'sex' em valores numéricos\n",
    "plt.figure(figsize=(6, 6))\n",
    "# Gráfico de dispersão\n",
    "sns.scatterplot(data = df_insurance, x = 'bmi', y = 'charges', hue = 'sex')\n",
    "# Adornos do gráfico\n",
    "plt.title('Dispersão da bmi x preço')\n",
    "plt.xlabel('bmi')\n",
    "plt.ylabel('Preço')\n",
    "plt.show()"
   ]
  },
  {
   "cell_type": "markdown",
   "metadata": {
    "application/vnd.databricks.v1+cell": {
     "cellMetadata": {},
     "inputWidgets": {},
     "nuid": "ab6f8b93-4be0-4921-bfc0-878fecbd4fc9",
     "showTitle": false,
     "title": ""
    }
   },
   "source": [
    "#### Childen"
   ]
  },
  {
   "cell_type": "code",
   "execution_count": 0,
   "metadata": {
    "application/vnd.databricks.v1+cell": {
     "cellMetadata": {
      "byteLimit": 2048000,
      "rowLimit": 10000
     },
     "inputWidgets": {},
     "nuid": "db30cabb-4a12-4c94-aa16-8b972e7b1e49",
     "showTitle": false,
     "title": ""
    }
   },
   "outputs": [],
   "source": [
    "df_insurance['children'].value_counts()"
   ]
  },
  {
   "cell_type": "code",
   "execution_count": 0,
   "metadata": {
    "application/vnd.databricks.v1+cell": {
     "cellMetadata": {
      "byteLimit": 2048000,
      "rowLimit": 10000
     },
     "inputWidgets": {},
     "nuid": "1a2c9c00-907c-4737-a331-7379cc4a7ed7",
     "showTitle": false,
     "title": ""
    }
   },
   "outputs": [],
   "source": [
    "df_insurance['children'].value_counts().plot(kind='bar')"
   ]
  },
  {
   "cell_type": "code",
   "execution_count": 0,
   "metadata": {
    "application/vnd.databricks.v1+cell": {
     "cellMetadata": {
      "byteLimit": 2048000,
      "rowLimit": 10000
     },
     "inputWidgets": {},
     "nuid": "b067cb41-d13d-4d95-88e8-9c3db91c6910",
     "showTitle": false,
     "title": ""
    }
   },
   "outputs": [],
   "source": [
    "#Vamos ver a relação agrupada pela média do custo\n",
    "df_insurance.groupby('children')['charges'].agg('mean')"
   ]
  },
  {
   "cell_type": "markdown",
   "metadata": {
    "application/vnd.databricks.v1+cell": {
     "cellMetadata": {},
     "inputWidgets": {},
     "nuid": "c9dd5bcb-7100-481a-8ea0-5cd43d9a8eae",
     "showTitle": false,
     "title": ""
    }
   },
   "source": [
    "Será que tem diferença se for homem ou mulher?"
   ]
  },
  {
   "cell_type": "code",
   "execution_count": 0,
   "metadata": {
    "application/vnd.databricks.v1+cell": {
     "cellMetadata": {
      "byteLimit": 2048000,
      "rowLimit": 10000
     },
     "inputWidgets": {},
     "nuid": "f473ecf4-4180-4c98-bac3-6a4071ff48bf",
     "showTitle": false,
     "title": ""
    }
   },
   "outputs": [],
   "source": [
    "df_insurance.groupby(['children','sex'])['charges'].agg('mean')"
   ]
  },
  {
   "cell_type": "markdown",
   "metadata": {
    "application/vnd.databricks.v1+cell": {
     "cellMetadata": {},
     "inputWidgets": {},
     "nuid": "7b283811-8dbf-4953-b0b9-4afcaf29f753",
     "showTitle": false,
     "title": ""
    }
   },
   "source": [
    "Vamos fazer o scatter:"
   ]
  },
  {
   "cell_type": "code",
   "execution_count": 0,
   "metadata": {
    "application/vnd.databricks.v1+cell": {
     "cellMetadata": {
      "byteLimit": 2048000,
      "rowLimit": 10000
     },
     "inputWidgets": {},
     "nuid": "3ac24b23-6a19-4bb0-829d-7343921d2677",
     "showTitle": false,
     "title": ""
    }
   },
   "outputs": [],
   "source": [
    "# Supondo que você já tenha transformado 'sex' em valores numéricos\n",
    "plt.figure(figsize=(6, 6))\n",
    "# Gráfico de dispersão\n",
    "sns.scatterplot(data = df_insurance, x = 'children', y = 'charges', hue = 'sex')\n",
    "# Adornos do gráfico\n",
    "plt.title('Dispersão da de dependentes x preço')\n",
    "plt.xlabel('children')\n",
    "plt.ylabel('Preço')\n",
    "plt.show()"
   ]
  },
  {
   "cell_type": "markdown",
   "metadata": {
    "application/vnd.databricks.v1+cell": {
     "cellMetadata": {},
     "inputWidgets": {},
     "nuid": "ef29bd0f-bf44-4091-bab8-cb71bd546709",
     "showTitle": false,
     "title": ""
    }
   },
   "source": [
    "#### Smoker"
   ]
  },
  {
   "cell_type": "code",
   "execution_count": 0,
   "metadata": {
    "application/vnd.databricks.v1+cell": {
     "cellMetadata": {
      "byteLimit": 2048000,
      "rowLimit": 10000
     },
     "inputWidgets": {},
     "nuid": "2fb5d58c-662e-409b-ab56-d5c7bacc0149",
     "showTitle": false,
     "title": ""
    }
   },
   "outputs": [],
   "source": [
    "df_insurance['smoker'].value_counts(normalize=True)"
   ]
  },
  {
   "cell_type": "code",
   "execution_count": 0,
   "metadata": {
    "application/vnd.databricks.v1+cell": {
     "cellMetadata": {
      "byteLimit": 2048000,
      "rowLimit": 10000
     },
     "inputWidgets": {},
     "nuid": "ffe25baf-f614-4471-8e8e-3adb7e70d944",
     "showTitle": false,
     "title": ""
    }
   },
   "outputs": [],
   "source": [
    "#Criar uma contagem normalizada dos valores\n",
    "count_norm = df_insurance['smoker'].value_counts(normalize=True)\n",
    "\n",
    "#Criar o gráfico de barras\n",
    "ax = count_norm.plot(kind='bar')\n",
    "\n",
    "#Adicionar os rótulos\n",
    "for index, value in enumerate(count_norm):\n",
    "    ax.annotate(f'{value:.2f}',xy = (index,value),va='center',ha = 'center')"
   ]
  },
  {
   "cell_type": "code",
   "execution_count": 0,
   "metadata": {
    "application/vnd.databricks.v1+cell": {
     "cellMetadata": {
      "byteLimit": 2048000,
      "rowLimit": 10000
     },
     "inputWidgets": {},
     "nuid": "28175909-d155-4104-9a4e-dfb0816062d4",
     "showTitle": false,
     "title": ""
    }
   },
   "outputs": [],
   "source": [
    "df_insurance.groupby('smoker')['charges'].agg('mean')"
   ]
  },
  {
   "cell_type": "markdown",
   "metadata": {
    "application/vnd.databricks.v1+cell": {
     "cellMetadata": {},
     "inputWidgets": {},
     "nuid": "e2051d0d-8423-4cf6-b2ec-1f4095184a54",
     "showTitle": false,
     "title": ""
    }
   },
   "source": [
    "#### Region"
   ]
  },
  {
   "cell_type": "code",
   "execution_count": 0,
   "metadata": {
    "application/vnd.databricks.v1+cell": {
     "cellMetadata": {
      "byteLimit": 2048000,
      "rowLimit": 10000
     },
     "inputWidgets": {},
     "nuid": "a662a313-b079-41ea-a6f6-a6ca8bc981ee",
     "showTitle": false,
     "title": ""
    }
   },
   "outputs": [],
   "source": [
    "df_insurance['region'].value_counts(normalize=True)"
   ]
  },
  {
   "cell_type": "code",
   "execution_count": 0,
   "metadata": {
    "application/vnd.databricks.v1+cell": {
     "cellMetadata": {
      "byteLimit": 2048000,
      "rowLimit": 10000
     },
     "inputWidgets": {},
     "nuid": "0d558ff1-1a48-4af4-bb54-bcc6e1ace0a1",
     "showTitle": false,
     "title": ""
    }
   },
   "outputs": [],
   "source": [
    "#Criar uma contagem normalizada dos valores\n",
    "count_norm = df_insurance['region'].value_counts(normalize=True)\n",
    "\n",
    "#Criar o gráfico de barras\n",
    "ax = count_norm.plot(kind='bar')\n",
    "\n",
    "#Adicionar os rótulos\n",
    "for index, value in enumerate(count_norm):\n",
    "    ax.annotate(f'{value:.2f}',xy = (index,value),va='center',ha = 'center')"
   ]
  },
  {
   "cell_type": "markdown",
   "metadata": {
    "application/vnd.databricks.v1+cell": {
     "cellMetadata": {},
     "inputWidgets": {},
     "nuid": "6c3ddf11-7986-4b07-9e6c-5a9c9a7e7b71",
     "showTitle": false,
     "title": ""
    }
   },
   "source": [
    "Será que tem mais pessoas que fumam em uma região?"
   ]
  },
  {
   "cell_type": "code",
   "execution_count": 0,
   "metadata": {
    "application/vnd.databricks.v1+cell": {
     "cellMetadata": {
      "byteLimit": 2048000,
      "rowLimit": 10000
     },
     "inputWidgets": {},
     "nuid": "5cb29e85-2801-43fc-ac73-b40e02d6bc93",
     "showTitle": false,
     "title": ""
    }
   },
   "outputs": [],
   "source": [
    "df_insurance.groupby('region')['smoker'].agg('count')"
   ]
  },
  {
   "cell_type": "code",
   "execution_count": 0,
   "metadata": {
    "application/vnd.databricks.v1+cell": {
     "cellMetadata": {
      "byteLimit": 2048000,
      "rowLimit": 10000
     },
     "inputWidgets": {},
     "nuid": "ef934849-f844-4448-98b0-6e19e0039e32",
     "showTitle": false,
     "title": ""
    }
   },
   "outputs": [],
   "source": [
    "df_insurance.groupby('region')['charges'].agg('mean')"
   ]
  },
  {
   "cell_type": "markdown",
   "metadata": {
    "application/vnd.databricks.v1+cell": {
     "cellMetadata": {},
     "inputWidgets": {},
     "nuid": "21f4a8ff-a041-4fca-8f98-a795972d73f6",
     "showTitle": false,
     "title": ""
    }
   },
   "source": [
    "## Temos outliers nos dados?\n",
    "\n",
    "Uma etapa importante em uma análise exploratória é a verificação por outliers. Como já mencionado em notebooks anteriores, estes são amostras que destoam muito do restante da distribuição. \n",
    "\n",
    "Existem vários critérios para determinação de outliers (ou seja, definir o que seria \"destoar muito da distribuição\")."
   ]
  },
  {
   "cell_type": "code",
   "execution_count": 0,
   "metadata": {
    "application/vnd.databricks.v1+cell": {
     "cellMetadata": {
      "byteLimit": 2048000,
      "rowLimit": 10000
     },
     "inputWidgets": {},
     "nuid": "f38be20a-3dcf-4baf-b24a-e8768569e3ec",
     "showTitle": false,
     "title": ""
    }
   },
   "outputs": [],
   "source": [
    "df_insurance.head()"
   ]
  },
  {
   "cell_type": "code",
   "execution_count": 0,
   "metadata": {
    "application/vnd.databricks.v1+cell": {
     "cellMetadata": {
      "byteLimit": 2048000,
      "rowLimit": 10000
     },
     "inputWidgets": {},
     "nuid": "8a3cc682-6fc2-4efb-90bb-c25adbf05103",
     "showTitle": false,
     "title": ""
    }
   },
   "outputs": [],
   "source": [
    "colunas_numericas = df_insurance.select_dtypes(['int64','float64']).columns.to_list()"
   ]
  },
  {
   "cell_type": "code",
   "execution_count": 0,
   "metadata": {
    "application/vnd.databricks.v1+cell": {
     "cellMetadata": {
      "byteLimit": 2048000,
      "rowLimit": 10000
     },
     "inputWidgets": {},
     "nuid": "0dc122cb-e31b-46c8-9e85-196a77c3e35b",
     "showTitle": false,
     "title": ""
    }
   },
   "outputs": [],
   "source": [
    "colunas_numericas"
   ]
  },
  {
   "cell_type": "code",
   "execution_count": 0,
   "metadata": {
    "application/vnd.databricks.v1+cell": {
     "cellMetadata": {
      "byteLimit": 2048000,
      "rowLimit": 10000
     },
     "inputWidgets": {},
     "nuid": "1e5c478f-76b9-448f-b245-3b0f5e3317a7",
     "showTitle": false,
     "title": ""
    }
   },
   "outputs": [],
   "source": [
    "def identificar_outliers(df, coluna):\n",
    "    # Calculando o primeiro e terceiro quartis\n",
    "    Q1 = df[coluna].quantile(0.25) #Primeiro Quartil\n",
    "    Q3 = df[coluna].quantile(0.75) #Terceiro Quartil\n",
    "    \n",
    "    # Calculando o IQR (Intervalo Interquartil)\n",
    "    IQR = Q3 - Q1\n",
    "    \n",
    "    # Calculando os limites superior e inferior para identificar os outliers\n",
    "    limite_inferior = Q1 - 1.5 * IQR\n",
    "    limite_superior = Q3 + 1.5 * IQR\n",
    "    \n",
    "    # Identificando outliers na coluna especificada\n",
    "    outliers = df[(df[coluna] < limite_inferior) | (df[coluna] > limite_superior)]\n",
    "    \n",
    "    return outliers"
   ]
  },
  {
   "cell_type": "code",
   "execution_count": 0,
   "metadata": {
    "application/vnd.databricks.v1+cell": {
     "cellMetadata": {
      "byteLimit": 2048000,
      "rowLimit": 10000
     },
     "inputWidgets": {},
     "nuid": "dbebff61-c2f8-44ce-97d9-fb162127b1e3",
     "showTitle": false,
     "title": ""
    }
   },
   "outputs": [],
   "source": [
    "#Exemplo para a coluna charges\n",
    "df_2 = identificar_outliers(df_insurance,colunas_numericas[3])"
   ]
  },
  {
   "cell_type": "code",
   "execution_count": 0,
   "metadata": {
    "application/vnd.databricks.v1+cell": {
     "cellMetadata": {
      "byteLimit": 2048000,
      "rowLimit": 10000
     },
     "inputWidgets": {},
     "nuid": "5b8e5f51-6c14-4a8e-9c85-1de99b445729",
     "showTitle": false,
     "title": ""
    }
   },
   "outputs": [],
   "source": [
    "df_2.describe()"
   ]
  },
  {
   "cell_type": "markdown",
   "metadata": {
    "application/vnd.databricks.v1+cell": {
     "cellMetadata": {},
     "inputWidgets": {},
     "nuid": "3dbecb43-1a98-47a8-9566-fb89f0bc7b38",
     "showTitle": false,
     "title": ""
    }
   },
   "source": [
    "## Relações entre as colunas e distribuições das variáveis"
   ]
  },
  {
   "cell_type": "markdown",
   "metadata": {
    "application/vnd.databricks.v1+cell": {
     "cellMetadata": {},
     "inputWidgets": {},
     "nuid": "b1d91b9e-95a0-4400-a3e0-257189c13297",
     "showTitle": false,
     "title": ""
    }
   },
   "source": [
    "Uma outra exploração que poderíamos fazer consiste em tentar entender relações entre as variáveis do nosso dataset, bem como avaliar, mais especificamente, como estas estão relacionadas."
   ]
  },
  {
   "cell_type": "markdown",
   "metadata": {
    "application/vnd.databricks.v1+cell": {
     "cellMetadata": {},
     "inputWidgets": {},
     "nuid": "fee5008a-d6a6-4c1e-b56a-4c33c7532017",
     "showTitle": false,
     "title": ""
    }
   },
   "source": [
    "Antes de procedermos, podemos utilizar o **pairplot** do seaborn para avaliar visualmente algumas distribuições e os scatter plots entre as colunas, par a par."
   ]
  },
  {
   "cell_type": "code",
   "execution_count": 0,
   "metadata": {
    "application/vnd.databricks.v1+cell": {
     "cellMetadata": {
      "byteLimit": 2048000,
      "rowLimit": 10000
     },
     "inputWidgets": {},
     "nuid": "ba627f69-1666-46a0-9ec7-534338e684fb",
     "showTitle": false,
     "title": ""
    }
   },
   "outputs": [],
   "source": [
    "sns.pairplot(df_insurance,hue='smoker')"
   ]
  },
  {
   "cell_type": "markdown",
   "metadata": {
    "application/vnd.databricks.v1+cell": {
     "cellMetadata": {},
     "inputWidgets": {},
     "nuid": "239c82a3-2633-4d2d-942d-c9a461bf5a8d",
     "showTitle": false,
     "title": ""
    }
   },
   "source": [
    "O pairplot nos indica, na diagonal, como está a distribuição daquela característica e, nos elementos cruzados (ou seja, fora da diagonal), a relação entre as variáveis da linha e da coluna resultante nesta \"matriz\" da figura."
   ]
  },
  {
   "cell_type": "markdown",
   "metadata": {
    "application/vnd.databricks.v1+cell": {
     "cellMetadata": {},
     "inputWidgets": {},
     "nuid": "858a06e0-8c24-4147-9b4e-4ee5cee09c26",
     "showTitle": false,
     "title": ""
    }
   },
   "source": [
    "Que conclusões vocês são capazes de extrair desta visualização?"
   ]
  },
  {
   "cell_type": "markdown",
   "metadata": {
    "application/vnd.databricks.v1+cell": {
     "cellMetadata": {},
     "inputWidgets": {},
     "nuid": "914be4a3-ed6c-4b5d-bc11-cdf352eff9ce",
     "showTitle": false,
     "title": ""
    }
   },
   "source": [
    "### Correlações\n",
    "\n",
    "**Covariância**\n",
    "Medida estatística que mensura a **variabilidade conjunta** de duas variáveis aleatórias. Intuitivamente, podemos pensar na covariância como a tendência de valores superiores de uma variável estarem, também, associados a valores maiores da outra; e vice-versa.\n",
    "\n",
    "*Definição matemática da covariância*\n",
    "$cov(X,Y) = \\sum_{i=1}^{n} \\frac{(x_{i} - \\mu_{x})(y_{i} - \\mu_{y})}{n-1}$\n",
    "\n",
    "<img src=\"https://dpbnri2zg3lc2.cloudfront.net/en/wp-content/uploads/2021/05/positive_negative_weak_covariance.jpg\" alt=\"Alternative text\" />\n",
    "\n",
    "**Correlação**\n",
    "Medida estatística de dependência entre duas variáveis. Pode ser vista sob alguns tipos de metodologias.\n",
    "\n",
    "É muito comum encontrar a ideia de correlação associada à *correlação de Pearson*, que expressa a **dependência linear** entre duas variáveis a partir de suas **covariâncias**.\n",
    "\n",
    "Cálculo da correlação de Pearson:\n",
    "\n",
    "$\\rho_{X,Y} = \\frac{cov(X,Y)}{\\sigma_{X}\\sigma_{Y}}$.\n",
    "\n",
    "<img src=\"https://www.scribbr.de/wp-content/uploads/2021/08/01-correlation-types-1024x415.png\" alt=\"Alternative text\" />\n",
    "\n",
    "A correlação de Pearson **normaliza** as covariâncias no intervalo [0,1].\n",
    "\n",
    "Vale ressaltar que *existem outras métricas de correlação*. A correlação de Spearman, por exemplo, pode capturar relações de monotonia **não-lineares** entre duas variáveis.\n",
    "\n",
    "<img src=\"https://upload.wikimedia.org/wikipedia/commons/thumb/4/4e/Spearman_fig1.svg/1200px-Spearman_fig1.svg.png\" width = 400 />"
   ]
  },
  {
   "cell_type": "markdown",
   "metadata": {
    "application/vnd.databricks.v1+cell": {
     "cellMetadata": {},
     "inputWidgets": {},
     "nuid": "b6a30519-cc28-4394-af8b-fc058e67f469",
     "showTitle": false,
     "title": ""
    }
   },
   "source": [
    "O Pandas possui uma função para avaliarmos diretamente a correlação entre as colunas do conjunto de dados:"
   ]
  },
  {
   "cell_type": "code",
   "execution_count": 0,
   "metadata": {
    "application/vnd.databricks.v1+cell": {
     "cellMetadata": {
      "byteLimit": 2048000,
      "rowLimit": 10000
     },
     "inputWidgets": {},
     "nuid": "9934beb5-9d1f-4431-a27b-0a46f55e9c92",
     "showTitle": false,
     "title": ""
    }
   },
   "outputs": [],
   "source": [
    "df_insurance.info()"
   ]
  },
  {
   "cell_type": "code",
   "execution_count": 0,
   "metadata": {
    "application/vnd.databricks.v1+cell": {
     "cellMetadata": {
      "byteLimit": 2048000,
      "rowLimit": 10000
     },
     "inputWidgets": {},
     "nuid": "5dd8391c-6730-4c1d-a2b3-01501ebee4ac",
     "showTitle": false,
     "title": ""
    }
   },
   "outputs": [],
   "source": [
    "df_insurance.corr()"
   ]
  },
  {
   "cell_type": "markdown",
   "metadata": {
    "application/vnd.databricks.v1+cell": {
     "cellMetadata": {},
     "inputWidgets": {},
     "nuid": "f56d9a73-ca3d-4db5-9f46-780ac80734f5",
     "showTitle": false,
     "title": ""
    }
   },
   "source": [
    "O resultado indica a correlação, par a par, entre as colunas do dataset (e, por isso, é simétrico em relação à diagonal principal)."
   ]
  },
  {
   "cell_type": "markdown",
   "metadata": {
    "application/vnd.databricks.v1+cell": {
     "cellMetadata": {},
     "inputWidgets": {},
     "nuid": "cdb00021-f575-4d58-a351-e695cfbf182a",
     "showTitle": false,
     "title": ""
    }
   },
   "source": [
    "Para a nossa análise, vamos lembrar que:\n",
    "- Vimos que fazia sentido excluir algumas colunas (por isso ele está menor que originalmente);\n",
    "- Falamos sobre enconding de variáveis categóricas, que não aparecem, por padrão, no cálculo da correlação acima."
   ]
  },
  {
   "cell_type": "markdown",
   "metadata": {
    "application/vnd.databricks.v1+cell": {
     "cellMetadata": {},
     "inputWidgets": {},
     "nuid": "8a14096a-4d08-432e-88a9-fc09c1b3a619",
     "showTitle": false,
     "title": ""
    }
   },
   "source": [
    "Vamos encodá-las, como nos testes que fizemos anteriormente?"
   ]
  },
  {
   "cell_type": "code",
   "execution_count": 0,
   "metadata": {
    "application/vnd.databricks.v1+cell": {
     "cellMetadata": {
      "byteLimit": 2048000,
      "rowLimit": 10000
     },
     "inputWidgets": {},
     "nuid": "b813f61f-fb06-4a90-a05b-c9a26a863b2d",
     "showTitle": false,
     "title": ""
    }
   },
   "outputs": [],
   "source": [
    "df_insurance_2 = pd.get_dummies(df_insurance,columns=['sex','smoker','region'],drop_first=True)"
   ]
  },
  {
   "cell_type": "code",
   "execution_count": 0,
   "metadata": {
    "application/vnd.databricks.v1+cell": {
     "cellMetadata": {
      "byteLimit": 2048000,
      "rowLimit": 10000
     },
     "inputWidgets": {},
     "nuid": "a7779f45-4822-43f2-821d-3aaaf2937f0a",
     "showTitle": false,
     "title": ""
    }
   },
   "outputs": [],
   "source": [
    "df_insurance_2.info()"
   ]
  },
  {
   "cell_type": "code",
   "execution_count": 0,
   "metadata": {
    "application/vnd.databricks.v1+cell": {
     "cellMetadata": {
      "byteLimit": 2048000,
      "rowLimit": 10000
     },
     "inputWidgets": {},
     "nuid": "14756c27-daa5-4d2f-9653-b668f44d9905",
     "showTitle": false,
     "title": ""
    }
   },
   "outputs": [],
   "source": [
    "df_insurance_2.corr()"
   ]
  },
  {
   "cell_type": "markdown",
   "metadata": {
    "application/vnd.databricks.v1+cell": {
     "cellMetadata": {},
     "inputWidgets": {},
     "nuid": "86e82cc1-c353-4412-962b-d496a27abd99",
     "showTitle": false,
     "title": ""
    }
   },
   "source": [
    "Nossa matriz de correlações aumentou, porque, agora, temos como quantificar correlações com as variáveis que, antes, eram qualitativas!"
   ]
  },
  {
   "cell_type": "markdown",
   "metadata": {
    "application/vnd.databricks.v1+cell": {
     "cellMetadata": {},
     "inputWidgets": {},
     "nuid": "40a83159-b6e6-40d4-98d8-2d776753e54b",
     "showTitle": false,
     "title": ""
    }
   },
   "source": [
    "Assim, como fizemos com a crosstable mais acima, podemos utilizar o heatmap do seaborn para deixar o resultado das correlações mais visual."
   ]
  },
  {
   "cell_type": "code",
   "execution_count": 0,
   "metadata": {
    "application/vnd.databricks.v1+cell": {
     "cellMetadata": {
      "byteLimit": 2048000,
      "rowLimit": 10000
     },
     "inputWidgets": {},
     "nuid": "c7e2aeac-bfb3-4d75-af62-0f64b55d30b1",
     "showTitle": false,
     "title": ""
    }
   },
   "outputs": [],
   "source": [
    "sns.heatmap(round(df_insurance_2.corr(),2), annot = True)"
   ]
  },
  {
   "cell_type": "markdown",
   "metadata": {
    "application/vnd.databricks.v1+cell": {
     "cellMetadata": {},
     "inputWidgets": {},
     "nuid": "73861ff4-5f77-4aae-af12-8f7275c20e84",
     "showTitle": false,
     "title": ""
    }
   },
   "source": [
    "Podemos refinar ainda mais a visualização: dada sua simetria em torno da diagonal principal da matriz, podemos escolher por manter apenas os elementos acima, ou abaixo, desta diagonal.\n",
    "\n",
    "Para isto, podemos criar uma **máscara** com numpy, e passá-la como argumento da matriz, conforme abaixo."
   ]
  },
  {
   "cell_type": "code",
   "execution_count": 0,
   "metadata": {
    "application/vnd.databricks.v1+cell": {
     "cellMetadata": {
      "byteLimit": 2048000,
      "rowLimit": 10000
     },
     "inputWidgets": {},
     "nuid": "d4ec7d27-0524-41bc-b184-3bea1e51890b",
     "showTitle": false,
     "title": ""
    }
   },
   "outputs": [],
   "source": [
    "mask = np.zeros_like(df_insurance_2.corr(),dtype=np.bool_)\n",
    "mask[np.triu_indices_from(mask)] = True\n",
    "mask"
   ]
  },
  {
   "cell_type": "markdown",
   "metadata": {
    "application/vnd.databricks.v1+cell": {
     "cellMetadata": {},
     "inputWidgets": {},
     "nuid": "3febdb8f-7c2d-4176-9654-40c4434564c9",
     "showTitle": false,
     "title": ""
    }
   },
   "source": [
    "Temos, assim, uma matriz de booleanos indicando os elementos da matriz que serão mantidos no heatmap."
   ]
  },
  {
   "cell_type": "code",
   "execution_count": 0,
   "metadata": {
    "application/vnd.databricks.v1+cell": {
     "cellMetadata": {
      "byteLimit": 2048000,
      "rowLimit": 10000
     },
     "inputWidgets": {},
     "nuid": "86b35473-77d9-411e-8b91-a6f531f75060",
     "showTitle": false,
     "title": ""
    }
   },
   "outputs": [],
   "source": [
    "corr = df_insurance_2.corr().mask(mask)"
   ]
  },
  {
   "cell_type": "code",
   "execution_count": 0,
   "metadata": {
    "application/vnd.databricks.v1+cell": {
     "cellMetadata": {
      "byteLimit": 2048000,
      "rowLimit": 10000
     },
     "inputWidgets": {},
     "nuid": "23020bfa-c62f-41dc-b0aa-735f097b0e91",
     "showTitle": false,
     "title": ""
    }
   },
   "outputs": [],
   "source": [
    "corr"
   ]
  },
  {
   "cell_type": "code",
   "execution_count": 0,
   "metadata": {
    "application/vnd.databricks.v1+cell": {
     "cellMetadata": {
      "byteLimit": 2048000,
      "rowLimit": 10000
     },
     "inputWidgets": {},
     "nuid": "0d6dd070-c03f-4f96-85a6-df1d13174963",
     "showTitle": false,
     "title": ""
    }
   },
   "outputs": [],
   "source": [
    "# Podemos alterar o estilo das cores, também\n",
    "sns.heatmap(round(corr,2), annot = True)"
   ]
  },
  {
   "cell_type": "markdown",
   "metadata": {
    "application/vnd.databricks.v1+cell": {
     "cellMetadata": {},
     "inputWidgets": {},
     "nuid": "295bf9ef-1783-4c7f-899b-7cc2646fa8db",
     "showTitle": false,
     "title": ""
    }
   },
   "source": [
    "E assim obtemos uma visualização um pouco mais simplificada e simpels de interpretar."
   ]
  },
  {
   "cell_type": "markdown",
   "metadata": {
    "application/vnd.databricks.v1+cell": {
     "cellMetadata": {},
     "inputWidgets": {},
     "nuid": "4d27395e-2282-4b71-9065-e294bef7a1b5",
     "showTitle": false,
     "title": ""
    }
   },
   "source": [
    "Vale ressaltar que o mesmo resultado pode ser obtido passando diretamente a máscara que criamos em numpy na chamda da função."
   ]
  },
  {
   "cell_type": "code",
   "execution_count": 0,
   "metadata": {
    "application/vnd.databricks.v1+cell": {
     "cellMetadata": {},
     "inputWidgets": {},
     "nuid": "ac4f7364-3f29-4f08-baa5-ba3bcc775e11",
     "showTitle": false,
     "title": ""
    }
   },
   "outputs": [],
   "source": []
  },
  {
   "cell_type": "markdown",
   "metadata": {
    "application/vnd.databricks.v1+cell": {
     "cellMetadata": {},
     "inputWidgets": {},
     "nuid": "c21a0813-0854-4ad3-8430-4038985944f6",
     "showTitle": false,
     "title": ""
    }
   },
   "source": [
    "Vemos, assim, que: \n",
    "- A maior correlação (em valores absolutos) se dá entre \"charges\" e \"smoker_yes\"; razoavelmente intuitivo, já que faz sentido que o fumante tenha maior valor no seguro;\n",
    "- A correlação de 0.30 é interessante entre a idade e charges;\n",
    "- Há também outra correlação entre o valor e o bmi (IMC)."
   ]
  },
  {
   "cell_type": "code",
   "execution_count": 0,
   "metadata": {
    "application/vnd.databricks.v1+cell": {
     "cellMetadata": {},
     "inputWidgets": {},
     "nuid": "d95b06fe-d49a-4298-ab00-60d21982cfde",
     "showTitle": false,
     "title": ""
    }
   },
   "outputs": [],
   "source": [
    "# Calculemos a correlação em valores absolutos e dropemos o índice da própria coluna charges, pois a correlação será 1\n"
   ]
  },
  {
   "cell_type": "markdown",
   "metadata": {
    "application/vnd.databricks.v1+cell": {
     "cellMetadata": {},
     "inputWidgets": {},
     "nuid": "fdd892fb-c2dd-44f8-82a2-c971200464b7",
     "showTitle": false,
     "title": ""
    }
   },
   "source": [
    "Vemos, assim, as variáveis mais associadas ao preço. Vemos que, no geral, houve há tendência em preços maiores para:\n",
    "- Fumante;\n",
    "- Com elevada idade;\n",
    "- Que possuem elevado bmi."
   ]
  },
  {
   "cell_type": "markdown",
   "metadata": {
    "application/vnd.databricks.v1+cell": {
     "cellMetadata": {},
     "inputWidgets": {},
     "nuid": "996b15f7-aec8-4f0c-9647-2eab8d7d851e",
     "showTitle": false,
     "title": ""
    }
   },
   "source": [
    "## Sumarizando"
   ]
  },
  {
   "cell_type": "markdown",
   "metadata": {
    "application/vnd.databricks.v1+cell": {
     "cellMetadata": {},
     "inputWidgets": {},
     "nuid": "e61b8550-7322-4e80-b093-bc6b8f1b2d47",
     "showTitle": false,
     "title": ""
    }
   },
   "source": [
    "Neste notebook, enfocamos a discussão majoritariamente em abordagens de processamento e manipulação dos dados, mas também demos alguns exemplos de conclusões que poderiam ser extraídas deste dataset em uma Análise Explroatória de Dados (mas note que há várias outras análises que poderíamos fazer!).\n",
    "\n",
    "A ideia é clarificar este procedimento e o raciocínio das principais etapas de uma EDA. O aprofundamento na análise, tipos de relações que podem ser estabelecidas, processamentos etc são todos muito dependentes da criatividade e da nossa capacidade de formular boas perguntas norteadores e hipóteses para o problema. \n",
    "\n",
    "Lembrem-se de que há várias abordagens possíveis em uma EDA, desde que sejamos coerentes com as hipóteses assumidas pelos modelos e operações com os quais trabalharemos!"
   ]
  }
 ],
 "metadata": {
  "application/vnd.databricks.v1+notebook": {
   "dashboards": [],
   "language": "python",
   "notebookMetadata": {
    "pythonIndentUnit": 4
   },
   "notebookName": "Aula_7_Manipulações_de_dados",
   "widgets": {}
  },
  "kernelspec": {
   "display_name": "Python 3",
   "language": "python",
   "name": "python3"
  },
  "language_info": {
   "codemirror_mode": {
    "name": "ipython",
    "version": 3
   },
   "file_extension": ".py",
   "mimetype": "text/x-python",
   "name": "python",
   "nbconvert_exporter": "python",
   "pygments_lexer": "ipython3",
   "version": "3.11.4"
  }
 },
 "nbformat": 4,
 "nbformat_minor": 0
}
