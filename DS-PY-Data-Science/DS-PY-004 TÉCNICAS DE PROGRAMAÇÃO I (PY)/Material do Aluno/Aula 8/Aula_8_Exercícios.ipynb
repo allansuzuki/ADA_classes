{
 "cells": [
  {
   "cell_type": "markdown",
   "metadata": {},
   "source": [
    "# Aula 08 - Exercícios de fixação\n",
    "\n",
    "## Dataset escolhido: Medical Insurance\n",
    "\n",
    "- **age:** Idade do beneficiário principal;\n",
    "- **sex:** Gênero do contratante;\n",
    "- **bmi:** O IMC (massa/altura**2);\n",
    "- **children:** Número de filhos/dependentes cobertos;\n",
    "- **smoker:** Se a pessoa é fumante;\n",
    "- **region:** Área residencial do beneficiário (EUA): nordeste, sudeste, sudoeste, noroeste;\n",
    "- **charges:** Custos médicos individuais cobrados pelo seguro."
   ]
  },
  {
   "cell_type": "markdown",
   "metadata": {},
   "source": [
    "### 1) Carregue o arquivo \"Medical_insurance.csv\" na pasta datasets."
   ]
  },
  {
   "cell_type": "code",
   "execution_count": null,
   "metadata": {},
   "outputs": [],
   "source": []
  },
  {
   "cell_type": "markdown",
   "metadata": {},
   "source": [
    "### 2) Verifique o número de linhas e colunas do DataFrame"
   ]
  },
  {
   "cell_type": "code",
   "execution_count": null,
   "metadata": {},
   "outputs": [],
   "source": []
  },
  {
   "cell_type": "markdown",
   "metadata": {},
   "source": [
    "### 3) Calcule a média, mediana e desvio-padrão da coluna 'age'."
   ]
  },
  {
   "cell_type": "code",
   "execution_count": null,
   "metadata": {},
   "outputs": [],
   "source": []
  },
  {
   "cell_type": "markdown",
   "metadata": {},
   "source": [
    "### 4) Pegue a coluna \"age\", substitua os valores que são iguais à idade de 60 por valores *NaN*. Após realizar essa substituição, crie, com auxilio do numpy, um vetor aleatório de números inteiros entre a idade mínima e a idade máxima com o tamanho dos dados retirados do DataFrame (quantidade de idades igual a 60). Posteriormente, crie um novo DataFrame substitindo cada um desses valores *NaN* por esse vetor aleatório gerado."
   ]
  },
  {
   "cell_type": "code",
   "execution_count": null,
   "metadata": {},
   "outputs": [],
   "source": []
  },
  {
   "cell_type": "markdown",
   "metadata": {},
   "source": [
    "### 5) Filtre o DataFrame para exibir apenas os registros que possuem idade acima de 50 anos."
   ]
  },
  {
   "cell_type": "code",
   "execution_count": null,
   "metadata": {},
   "outputs": [],
   "source": []
  },
  {
   "cell_type": "markdown",
   "metadata": {},
   "source": [
    "### 6) Calcule, usando o groupby, o custo médio de seguro para fumantes e não fumantes, considerando a região."
   ]
  },
  {
   "cell_type": "code",
   "execution_count": null,
   "metadata": {},
   "outputs": [],
   "source": []
  },
  {
   "cell_type": "markdown",
   "metadata": {},
   "source": [
    "### 7) Crie um gráfico de dispersão (scatter plot) mostrando a relação entre 'age' e 'charges'."
   ]
  },
  {
   "cell_type": "code",
   "execution_count": null,
   "metadata": {},
   "outputs": [],
   "source": []
  },
  {
   "cell_type": "markdown",
   "metadata": {},
   "source": [
    "### 8) Crie uma tabela dinâmica ('pivot table') mostrando a média do custo do seguro médico agrupado por região ('region') e gênero ('sex')."
   ]
  },
  {
   "cell_type": "code",
   "execution_count": null,
   "metadata": {},
   "outputs": [],
   "source": []
  },
  {
   "cell_type": "markdown",
   "metadata": {},
   "source": [
    "### 9) Crie um segundo DataFrame com uma coluna 'idade_aproximada' que categorize a idade ('age') em faixas de 10 anos (por exemplo, 20-29, 30-39, etc.). Depois, faça um merge entre os dois DataFrames, combinando-os com base nessa coluna.\n",
    "\n",
    "**Obs.:** explicar o pd.cut()."
   ]
  },
  {
   "cell_type": "code",
   "execution_count": null,
   "metadata": {},
   "outputs": [],
   "source": []
  },
  {
   "cell_type": "markdown",
   "metadata": {},
   "source": [
    "### 10) Crie um gráfico de barras ('bar plot') mostrando a média de custo do seguro médico para cada número de filhos ('children')."
   ]
  },
  {
   "cell_type": "code",
   "execution_count": null,
   "metadata": {},
   "outputs": [],
   "source": []
  }
 ],
 "metadata": {
  "kernelspec": {
   "display_name": "Python 3",
   "language": "python",
   "name": "python3"
  },
  "language_info": {
   "codemirror_mode": {
    "name": "ipython",
    "version": 3
   },
   "file_extension": ".py",
   "mimetype": "text/x-python",
   "name": "python",
   "nbconvert_exporter": "python",
   "pygments_lexer": "ipython3",
   "version": "3.11.4"
  }
 },
 "nbformat": 4,
 "nbformat_minor": 2
}
