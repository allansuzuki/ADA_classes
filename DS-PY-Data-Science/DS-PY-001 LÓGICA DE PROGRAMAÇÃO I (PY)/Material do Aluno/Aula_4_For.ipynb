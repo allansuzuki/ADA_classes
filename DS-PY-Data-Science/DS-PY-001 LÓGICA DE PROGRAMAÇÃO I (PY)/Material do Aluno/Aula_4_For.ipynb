{
 "cells": [
  {
   "cell_type": "markdown",
   "metadata": {},
   "source": [
    "# Aula - Loop for"
   ]
  },
  {
   "cell_type": "markdown",
   "metadata": {},
   "source": [
    "### Laços de repetição (for)\n",
    "\n",
    "Na última aula, vimos como usar o laço de repetição \"while\" para repetir operações em Python\n",
    "\n",
    "Agora, veremos um outro laço, o **for**\n",
    "\n",
    "Mas, antes de vermos como este laço pode ser utilizado para **repetir operações**, é interessante entender o `for` como sendo, na realidade, um operador utilizado para **percorrer elementos de uma lista** (na verdade, de qualquer objeto **iterável**. Conheceremos outros objetos assim mais pra frente...)\n",
    "\n",
    "A estrutura do for é:\n",
    "\n",
    "```python\n",
    "for item in lista:\n",
    "    operacao_feita_pra_cada_item\n",
    "```"
   ]
  },
  {
   "cell_type": "markdown",
   "metadata": {},
   "source": [
    "## **PROBLEMÁTICA**\n",
    "\n",
    "Você está aprimorando suas habilidades de programação e deseja criar um programa que calcule a média de uma quantidade desconhecida de valores lidos pelo teclado.\n",
    "\n",
    "Essa habilidade é crucial para manipular dados em tempo real e resolver problemas práticos.\n",
    "\n",
    "**Como fazemos até agora?**"
   ]
  },
  {
   "cell_type": "code",
   "execution_count": 1,
   "metadata": {},
   "outputs": [
    {
     "name": "stdout",
     "output_type": "stream",
     "text": [
      "Média do aluno: 6.333333333333333\n"
     ]
    }
   ],
   "source": [
    "# Inicializando variáveis\n",
    "soma_notas = 0\n",
    "cont = 1\n",
    "qtd_notas = int(input('Quantas notas você deseja que calcule a média'))\n",
    "while cont <= qtd_notas:\n",
    "    nota_input = float(input(f\"Insira a {cont}ª nota: \"))\n",
    "    while not(0<=nota_input<=10):\n",
    "        nota_input = float(input('Digite uma nota entre 0 e 10! '))\n",
    "    soma_notas += nota_input\n",
    "    cont +=1\n",
    "\n",
    "# Calculando a média\n",
    "media = soma_notas / qtd_notas\n",
    "\n",
    "# Exibindo resultados\n",
    "print(f\"Média do aluno: {media}\")"
   ]
  },
  {
   "cell_type": "markdown",
   "metadata": {},
   "source": [
    "**Voltando para o loop ```for```**"
   ]
  },
  {
   "cell_type": "code",
   "execution_count": 2,
   "metadata": {},
   "outputs": [
    {
     "name": "stdout",
     "output_type": "stream",
     "text": [
      "a\n",
      "b\n",
      "d\n",
      "True\n",
      "1\n",
      "3.6\n"
     ]
    }
   ],
   "source": [
    "#For em uma lista (objeto que aceita todos os tipos de variáveis que vimos)\n",
    "lista = [\"a\", \"b\", \"d\", True, 1, 3.6]\n",
    "\n",
    "for elemento in lista:\n",
    "  print(elemento)"
   ]
  },
  {
   "cell_type": "markdown",
   "metadata": {},
   "source": [
    "O código acima é equivalente a:"
   ]
  },
  {
   "cell_type": "code",
   "execution_count": 3,
   "metadata": {},
   "outputs": [
    {
     "name": "stdout",
     "output_type": "stream",
     "text": [
      "a\n",
      "b\n",
      "d\n",
      "True\n",
      "1\n",
      "3.6\n"
     ]
    }
   ],
   "source": [
    "#Imprimir sem o for\n",
    "print(lista[0])\n",
    "print(lista[1])\n",
    "print(lista[2])\n",
    "print(lista[3])\n",
    "print(lista[4])\n",
    "print(lista[5])"
   ]
  },
  {
   "cell_type": "markdown",
   "metadata": {},
   "source": [
    "**O que está acontecendo no ````for``?**"
   ]
  },
  {
   "cell_type": "markdown",
   "metadata": {},
   "source": [
    "**Exemplos:**\n",
    "\n",
    "Separe os números em positivos e negativos."
   ]
  },
  {
   "cell_type": "code",
   "execution_count": 4,
   "metadata": {},
   "outputs": [
    {
     "name": "stdout",
     "output_type": "stream",
     "text": [
      "[-6, -10, -80]\n",
      "[4, 5, 6, 5, 56, 7, 78, 9]\n"
     ]
    }
   ],
   "source": [
    "#Lista de números\n",
    "lista = [4, 5, 6, 5, -6, 56, 7, -10, \"a\", 78, -80, 9]\n",
    "\n",
    "#Criando as listas dos números positivos e negativos\n",
    "lista_neg = []\n",
    "lista_pos = []\n",
    "\n",
    "for item in lista:\n",
    "  if type(item) == str:\n",
    "    continue\n",
    "  \n",
    "  if item < 0:\n",
    "    lista_neg.append(item)\n",
    "  else:\n",
    "    lista_pos.append(item)\n",
    "\n",
    "print(lista_neg)\n",
    "print(lista_pos)"
   ]
  },
  {
   "cell_type": "code",
   "execution_count": 5,
   "metadata": {},
   "outputs": [
    {
     "name": "stdout",
     "output_type": "stream",
     "text": [
      "O\n",
      "l\n",
      "á\n",
      ",\n",
      " \n",
      "M\n",
      "u\n",
      "n\n",
      "d\n",
      "o\n",
      "!\n"
     ]
    }
   ],
   "source": [
    "#Podemos fazer para qualquer estrutura iterável\n",
    "txt = \"Olá, Mundo!\"\n",
    "\n",
    "for caractere in txt:\n",
    "  print(caractere)"
   ]
  },
  {
   "cell_type": "code",
   "execution_count": 14,
   "metadata": {},
   "outputs": [
    {
     "name": "stdout",
     "output_type": "stream",
     "text": [
      "a\n",
      "1\n",
      "3.14\n",
      "True\n"
     ]
    }
   ],
   "source": [
    "#Em uma tupla\n",
    "tupla_1 = (\"a\",1,3.14,True)\n",
    "\n",
    "for item in tupla_1:\n",
    "  print(item)"
   ]
  },
  {
   "cell_type": "code",
   "execution_count": 15,
   "metadata": {},
   "outputs": [
    {
     "name": "stdout",
     "output_type": "stream",
     "text": [
      "Nome Romero\n",
      "Idade 32\n",
      "Estado ES\n"
     ]
    }
   ],
   "source": [
    "#Em um dicionário\n",
    "dict = {'Nome':'Romero','Idade':32,'Estado':'ES'}\n",
    "\n",
    "for key,value in dict.items():\n",
    "  print(key,value)"
   ]
  },
  {
   "cell_type": "code",
   "execution_count": 16,
   "metadata": {},
   "outputs": [
    {
     "name": "stdout",
     "output_type": "stream",
     "text": [
      "('Nome', 'Romero')\n",
      "('Idade', 32)\n",
      "('Estado', 'ES')\n"
     ]
    }
   ],
   "source": [
    "#Items\n",
    "for item in dict.items():\n",
    "  print(item)"
   ]
  },
  {
   "cell_type": "code",
   "execution_count": 17,
   "metadata": {},
   "outputs": [
    {
     "name": "stdout",
     "output_type": "stream",
     "text": [
      "Nome\n",
      "Idade\n",
      "Estado\n"
     ]
    }
   ],
   "source": [
    "#Keys\n",
    "for key in dict.keys():\n",
    "  print(key)"
   ]
  },
  {
   "cell_type": "code",
   "execution_count": 18,
   "metadata": {},
   "outputs": [
    {
     "name": "stdout",
     "output_type": "stream",
     "text": [
      "Romero\n",
      "32\n",
      "ES\n"
     ]
    }
   ],
   "source": [
    "#Values\n",
    "for value in dict.values():\n",
    "  print(value)"
   ]
  },
  {
   "cell_type": "code",
   "execution_count": 19,
   "metadata": {},
   "outputs": [
    {
     "name": "stdout",
     "output_type": "stream",
     "text": [
      "Romero\n",
      "32\n",
      "ES\n"
     ]
    }
   ],
   "source": [
    "#Outra forma de ver os valores\n",
    "for item in dict:\n",
    "  print(dict[item])"
   ]
  },
  {
   "cell_type": "code",
   "execution_count": 20,
   "metadata": {},
   "outputs": [
    {
     "name": "stdout",
     "output_type": "stream",
     "text": [
      "Nome Romero\n",
      "Idade 32\n",
      "Estado ES\n"
     ]
    }
   ],
   "source": [
    "#Ver o valor em cada chave\n",
    "for item in dict:\n",
    "  print(item,dict[item])"
   ]
  },
  {
   "cell_type": "markdown",
   "metadata": {},
   "source": [
    "Podemos fazer operações com os elementos de umas lista e usá-los pra preencher outra lista:"
   ]
  },
  {
   "cell_type": "code",
   "execution_count": 21,
   "metadata": {},
   "outputs": [
    {
     "name": "stdout",
     "output_type": "stream",
     "text": [
      "[2, 4, 6, 8, 10, 12]\n"
     ]
    }
   ],
   "source": [
    "#Criar uma lista\n",
    "lista = [1,2,3,4,5,6]\n",
    "#Criar uma lista vazia\n",
    "lista_dobro = []\n",
    "#Usar o for\n",
    "for item in lista:\n",
    "  lista_dobro.append(item*2)\n",
    "\n",
    "#imprimir a lista\n",
    "print(lista_dobro)"
   ]
  },
  {
   "cell_type": "code",
   "execution_count": 23,
   "metadata": {},
   "outputs": [
    {
     "name": "stdout",
     "output_type": "stream",
     "text": [
      "[1, 2, 3, 5, 153, 56]\n"
     ]
    }
   ],
   "source": [
    "#Transformar uma lista para um com somente números positivos\n",
    "lista = [1,2,-3,5,153,-56]\n",
    "lista_pos = []\n",
    "\n",
    "for elemento in lista:\n",
    "  if elemento < 0:\n",
    "    lista_pos.append(-elemento)\n",
    "  else:\n",
    "    lista_pos.append(elemento)\n",
    "print(lista_pos)"
   ]
  },
  {
   "cell_type": "markdown",
   "metadata": {},
   "source": [
    "### Break, Continue e Else"
   ]
  },
  {
   "cell_type": "code",
   "execution_count": 24,
   "metadata": {},
   "outputs": [
    {
     "name": "stdout",
     "output_type": "stream",
     "text": [
      "1\n",
      "4\n",
      "6\n",
      "5\n",
      "8\n"
     ]
    }
   ],
   "source": [
    "#Usar o Continue\n",
    "#Criar uma lista (valores + e -)\n",
    "lista = [1,4,-5,6,5,-57,8]\n",
    "\n",
    "#Imprimir apenas os elementos positivos:\n",
    "for elemento in lista:\n",
    "  if elemento<0:\n",
    "    continue\n",
    "  print(elemento)"
   ]
  },
  {
   "cell_type": "code",
   "execution_count": 25,
   "metadata": {},
   "outputs": [
    {
     "name": "stdout",
     "output_type": "stream",
     "text": [
      "1\n",
      "4\n"
     ]
    }
   ],
   "source": [
    "#Usar o Break\n",
    "#Parar o processamento caso encontre um número negativo\n",
    "for elemento in lista:\n",
    "  if elemento<0:\n",
    "    break\n",
    "  print(elemento)"
   ]
  },
  {
   "cell_type": "code",
   "execution_count": 26,
   "metadata": {},
   "outputs": [
    {
     "name": "stdout",
     "output_type": "stream",
     "text": [
      "1\n",
      "4\n",
      "6\n",
      "5\n",
      "8\n",
      "Loop For Finalizado!\n"
     ]
    }
   ],
   "source": [
    "#Usar o Continue e Else\n",
    "#Imprimir apenas os elementos positivos:\n",
    "for elemento in lista:\n",
    "  if elemento<0:\n",
    "    continue\n",
    "  print(elemento)\n",
    "else:\n",
    "  print('Loop For Finalizado!')"
   ]
  },
  {
   "cell_type": "markdown",
   "metadata": {},
   "source": [
    "### Função Range()"
   ]
  },
  {
   "cell_type": "markdown",
   "metadata": {},
   "source": [
    "É muito comum utilizarmos a função \"range()\" juntamente do for\n",
    "\n",
    "Essa função cria um **intervalo**, que é uma espécie de \"lista virtual\" de **números em sequência**. Sua sintaxe é:\n",
    "\n",
    "- range(primeiro_numero, último_numero - 1, passo)\n",
    "\n",
    "Se for dado apenas um argumento, o padrão é começar por zero, e ir de 1 em 1:\n",
    "\n",
    "- range(10) é equivalente a range(0, 10, 1), cria uma sequência de 0 a 9, de 1 em 1\n",
    "- range(-12, 12, 2): cria uma sequência de -12 a 11, de 2 em 2\n",
    "\n",
    "Ao fazermos list(range()), obtermos uma lista correspondente ao iterável.\n",
    "\n",
    "**OBS: só podemos fazer iteráveis de int!**"
   ]
  },
  {
   "cell_type": "code",
   "execution_count": 27,
   "metadata": {},
   "outputs": [
    {
     "data": {
      "text/plain": [
       "[2, 3, 4, 5, 6, 7, 8, 9, 10]"
      ]
     },
     "execution_count": 27,
     "metadata": {},
     "output_type": "execute_result"
    }
   ],
   "source": [
    "list(range(2,11))"
   ]
  },
  {
   "cell_type": "code",
   "execution_count": 28,
   "metadata": {},
   "outputs": [
    {
     "data": {
      "text/plain": [
       "[1, 0, -1, -2, -3, -4, -5, -6, -7, -8, -9, -10, -11, -12, -13, -14, -15]"
      ]
     },
     "execution_count": 28,
     "metadata": {},
     "output_type": "execute_result"
    }
   ],
   "source": [
    "list(range(1,-16,-1))"
   ]
  },
  {
   "cell_type": "code",
   "execution_count": 29,
   "metadata": {},
   "outputs": [
    {
     "data": {
      "text/plain": [
       "[1, 3, 5, 7, 9, 11, 13, 15]"
      ]
     },
     "execution_count": 29,
     "metadata": {},
     "output_type": "execute_result"
    }
   ],
   "source": [
    "incremento = 2\n",
    "list(range(1,16,incremento))"
   ]
  },
  {
   "cell_type": "code",
   "execution_count": 30,
   "metadata": {},
   "outputs": [
    {
     "data": {
      "text/plain": [
       "[0, 1, 2, 3, 4]"
      ]
     },
     "execution_count": 30,
     "metadata": {},
     "output_type": "execute_result"
    }
   ],
   "source": [
    "list(range(5))"
   ]
  },
  {
   "cell_type": "markdown",
   "metadata": {},
   "source": [
    "É muito comum usar o for com o range para **percorrer os índices de uma lista**, e assim também **acessar os elementos da lista através do índice**.\n",
    "\n",
    "Isso é feito passando pro range o comprimento da lista como argumento!"
   ]
  },
  {
   "cell_type": "code",
   "execution_count": 31,
   "metadata": {},
   "outputs": [
    {
     "name": "stdout",
     "output_type": "stream",
     "text": [
      "0 a\n",
      "1 b\n",
      "2 c\n",
      "3 d\n",
      "4 1\n",
      "5 2\n",
      "6 3\n",
      "7 4\n"
     ]
    }
   ],
   "source": [
    "#Imprimir o índice e o elemento da lista\n",
    "lista = ['a','b','c','d',1,2,3,4]\n",
    "\n",
    "for indice in range(len(lista)):\n",
    "  print(indice,lista[indice])"
   ]
  },
  {
   "cell_type": "code",
   "execution_count": 32,
   "metadata": {},
   "outputs": [
    {
     "name": "stdout",
     "output_type": "stream",
     "text": [
      "0 a\n",
      "1 b\n",
      "2 c\n",
      "3 d\n",
      "4 1\n",
      "5 2\n",
      "6 3\n",
      "7 4\n"
     ]
    }
   ],
   "source": [
    "#Função enumerate (já pega o índice e o valor)\n",
    "for indice, valor in enumerate(lista):\n",
    "  print(indice,valor)"
   ]
  },
  {
   "cell_type": "markdown",
   "metadata": {},
   "source": [
    "Note a diferença do que foi feito acima e o que é feito abaixo:"
   ]
  },
  {
   "cell_type": "code",
   "execution_count": 33,
   "metadata": {},
   "outputs": [
    {
     "name": "stdout",
     "output_type": "stream",
     "text": [
      "a\n",
      "b\n",
      "c\n",
      "d\n",
      "1\n",
      "2\n",
      "3\n",
      "4\n"
     ]
    }
   ],
   "source": [
    "for elemento in lista:\n",
    "  print(elemento)"
   ]
  },
  {
   "cell_type": "markdown",
   "metadata": {},
   "source": [
    "O range é muito interessante caso **queiramos repetir determinada instrução**\n",
    "\n",
    "Se vc quer repetir N vezes, basta fazer:\n",
    "\n",
    "```python\n",
    "for i in range(N):\n",
    "    operacao_repetida\n",
    "```\n",
    "\n",
    "É neste sentido que o `for` passa a ser explicitamente um laço de repetição!\n",
    "\n",
    "Mas note que este laço se diferencia do while no fato de **não precisar de uma condição explícita**\n",
    "\n",
    "Este laço determina que as operações sejam repetidas **para valores em uma lista** (que no caso é o `range`).\n",
    "\n",
    "Este laço é, portanto, bem mais controlado -- dificilmente ocorrerá loops infinitos!"
   ]
  },
  {
   "cell_type": "code",
   "execution_count": 34,
   "metadata": {},
   "outputs": [
    {
     "name": "stdout",
     "output_type": "stream",
     "text": [
      "Olá, mundo!\n",
      "Olá, mundo!\n",
      "Olá, mundo!\n",
      "Olá, mundo!\n",
      "Olá, mundo!\n"
     ]
    }
   ],
   "source": [
    "#Imprimir 5x \"Olá, mundo!\"\n",
    "for _ in range(5):\n",
    "  print('Olá, mundo!')"
   ]
  },
  {
   "cell_type": "code",
   "execution_count": 35,
   "metadata": {},
   "outputs": [
    {
     "name": "stdout",
     "output_type": "stream",
     "text": [
      "Olá, mundo! 0\n",
      "Olá, mundo! 1\n",
      "Olá, mundo! 2\n",
      "Olá, mundo! 3\n",
      "Olá, mundo! 4\n"
     ]
    }
   ],
   "source": [
    "for _ in [0,1,2,3,4]:\n",
    "  print('Olá, mundo!',_)"
   ]
  },
  {
   "cell_type": "markdown",
   "metadata": {},
   "source": [
    "### **Resolvendo o desafio com ```for```:**"
   ]
  },
  {
   "cell_type": "code",
   "execution_count": 36,
   "metadata": {},
   "outputs": [
    {
     "name": "stdout",
     "output_type": "stream",
     "text": [
      "Média do aluno: 6.333333333333333\n"
     ]
    }
   ],
   "source": [
    "# Inicializando variáveis\n",
    "soma_notas = 0\n",
    "qtd_notas = int(input('Quantas notas você deseja que calcule a média'))\n",
    "for i in range(1,qtd_notas+1):\n",
    "    nota_input = float(input(f\"Insira a {cont}ª nota: \"))\n",
    "    while not(0<=nota_input<=10):\n",
    "        nota_input = float(input('Digite uma nota entre 0 e 10! '))\n",
    "    soma_notas += nota_input\n",
    "\n",
    "# Calculando a média\n",
    "media = soma_notas / qtd_notas\n",
    "\n",
    "# Exibindo resultados\n",
    "print(f\"Média do aluno: {media}\")"
   ]
  },
  {
   "cell_type": "markdown",
   "metadata": {},
   "source": [
    "## Exercícios"
   ]
  },
  {
   "cell_type": "markdown",
   "metadata": {},
   "source": [
    "1) Escreva um programa que solicite ao usuário um número inteiro positivo n e, em seguida, use um loop for para calcular e exibir a soma dos primeiros n números pares."
   ]
  },
  {
   "cell_type": "code",
   "execution_count": 43,
   "metadata": {},
   "outputs": [
    {
     "name": "stdout",
     "output_type": "stream",
     "text": [
      "20\n"
     ]
    }
   ],
   "source": [
    "n = int(input('Digite um número iteiro:'))\n",
    "soma_pares = 0\n",
    "for item in range(n):\n",
    "    if item%2 == 0:\n",
    "        soma_pares+=item\n",
    "print(soma_pares)"
   ]
  },
  {
   "cell_type": "markdown",
   "metadata": {},
   "source": [
    "2) Elabore um programa que peça ao usuário um número inteiro positivo e use um loop for para exibir uma contagem regressiva desse número até 1."
   ]
  },
  {
   "cell_type": "code",
   "execution_count": 44,
   "metadata": {},
   "outputs": [
    {
     "name": "stdout",
     "output_type": "stream",
     "text": [
      "10\n",
      "9\n",
      "8\n",
      "7\n",
      "6\n",
      "5\n",
      "4\n",
      "3\n",
      "2\n",
      "1\n"
     ]
    }
   ],
   "source": [
    "n = int(input('Digite um número iteiro:'))\n",
    "for item in range(n,0,-1):\n",
    "    print(item)"
   ]
  },
  {
   "cell_type": "markdown",
   "metadata": {},
   "source": [
    "3) Um número de três dígitos é chamado de número de Armstrong se a soma do cubo de  seu dígito for igual ao próprio número.\n",
    "\n",
    "Por exemplo, 153 é um número de Armstrong porque:\n",
    "\n",
    "$$(1^3)+(5^3)+(3^3)=153$$\n",
    "\n",
    "Escreva todos os números de Armstrong entre 100 e 500."
   ]
  },
  {
   "cell_type": "code",
   "execution_count": 41,
   "metadata": {},
   "outputs": [
    {
     "data": {
      "text/plain": [
       "[153, 370, 371, 407]"
      ]
     },
     "execution_count": 41,
     "metadata": {},
     "output_type": "execute_result"
    }
   ],
   "source": [
    "lista_armstrong = []\n",
    "for num in range(100,501):\n",
    "  #Criei uma variável num_str\n",
    "  num_str = str(num)\n",
    "  num_1,num_2,num_3 = int(num_str[0]),int(num_str[1]),int(num_str[2])\n",
    "  #Checar se o número é um número de Armstrong\n",
    "  if num_1**3+num_2**3+num_3**3 == num:\n",
    "    lista_armstrong.append(num)\n",
    "lista_armstrong"
   ]
  },
  {
   "cell_type": "markdown",
   "metadata": {},
   "source": [
    "4) Escreva um código usando for (e sem a função 'max') em que você determina o valor máximo de uma lista."
   ]
  },
  {
   "cell_type": "code",
   "execution_count": 40,
   "metadata": {},
   "outputs": [
    {
     "name": "stdout",
     "output_type": "stream",
     "text": [
      "O valor máximo da lista é: 101\n"
     ]
    }
   ],
   "source": [
    "lista = [50,101,1,5,80]\n",
    "#Definir um valor inicial como maximo\n",
    "maximo = lista[0]\n",
    "\n",
    "#Percorrer toda a lista\n",
    "for i in range(len(lista)):\n",
    "  if lista[i]>maximo:\n",
    "    maximo = lista[i]\n",
    "print('O valor máximo da lista é:',maximo)"
   ]
  },
  {
   "cell_type": "markdown",
   "metadata": {},
   "source": [
    "5) Usando o loop for, gere os primeiros N (dado um número informado pelo usuário) números da sequência de Fibonacci:"
   ]
  },
  {
   "cell_type": "code",
   "execution_count": 39,
   "metadata": {},
   "outputs": [
    {
     "data": {
      "text/plain": [
       "[0, 1, 1, 2, 3, 5, 8, 13, 21, 34, 55]"
      ]
     },
     "execution_count": 39,
     "metadata": {},
     "output_type": "execute_result"
    }
   ],
   "source": [
    "#Pedir ao usuário o valor n\n",
    "n = int(input('Digite o número que deseja da sequência: '))\n",
    "seq_fibo = [0,1]\n",
    "if n<0:\n",
    "  n = int(input('Digite o número que seja maior que zero: '))\n",
    "elif n==0:\n",
    "  seq_fibo = [0]\n",
    "for i in range(2,n+1):\n",
    "  proximo_valor = seq_fibo[len(seq_fibo)-1]+seq_fibo[len(seq_fibo)-2]\n",
    "  seq_fibo.append(proximo_valor)\n",
    "seq_fibo"
   ]
  },
  {
   "cell_type": "markdown",
   "metadata": {},
   "source": [
    "6) Um quadrado perfeito é um número natural que se extrairmos a raiz quadrada, possui como resultado outro número natural.\n",
    "\n",
    "Crie, com o auxílio do loop for, um código em que verifique se um número é um quadrado perfeito."
   ]
  },
  {
   "cell_type": "code",
   "execution_count": 38,
   "metadata": {},
   "outputs": [
    {
     "data": {
      "text/plain": [
       "[0, 1, 4, 9, 16, 25, 36, 49, 64, 81, 100]"
      ]
     },
     "execution_count": 38,
     "metadata": {},
     "output_type": "execute_result"
    }
   ],
   "source": [
    "#Criar uma lista\n",
    "lista_quad_pfto = []\n",
    "#Percorrer um range de número\n",
    "for num in range(101):\n",
    "  raiz_int = int(num**0.5)\n",
    "  if raiz_int*raiz_int == num:\n",
    "    lista_quad_pfto.append(num)\n",
    "lista_quad_pfto"
   ]
  },
  {
   "cell_type": "markdown",
   "metadata": {},
   "source": [
    "7) Solicite ao usuário um intervalo de números e imprima uma lista com os números primos presentes dentro daquele intervalo."
   ]
  },
  {
   "cell_type": "code",
   "execution_count": 37,
   "metadata": {},
   "outputs": [
    {
     "data": {
      "text/plain": [
       "[1, 2, 3, 5, 7]"
      ]
     },
     "execution_count": 37,
     "metadata": {},
     "output_type": "execute_result"
    }
   ],
   "source": [
    "#Solicitar ao usuário o último valor da lista:\n",
    "valor_final = int(input('Digite o último número da lista: '))\n",
    "\n",
    "#Criar uma lista (com todos os valores de 1 até valor final)\n",
    "numeros = list(range(1,valor_final+1))\n",
    "\n",
    "#Criar uma lista vazia para alocar os primos\n",
    "primos = []\n",
    "\n",
    "#Percorrer todos os elementos da minha lista\n",
    "for numero in numeros:\n",
    "  if numero <1:\n",
    "    continue\n",
    "  #Criando uma variável com eh_primo = True\n",
    "  eh_primo = True\n",
    "  for i in range(2,int(numero/2)+1):\n",
    "    #Se o número for divisível por outro número, ele não é primo\n",
    "    if numero % i == 0:\n",
    "      eh_primo = False\n",
    "      break\n",
    "  if eh_primo:\n",
    "    primos.append(numero)\n",
    "primos"
   ]
  },
  {
   "cell_type": "code",
   "execution_count": null,
   "metadata": {},
   "outputs": [],
   "source": []
  }
 ],
 "metadata": {
  "kernelspec": {
   "display_name": "Python 3",
   "language": "python",
   "name": "python3"
  },
  "language_info": {
   "codemirror_mode": {
    "name": "ipython",
    "version": 3
   },
   "file_extension": ".py",
   "mimetype": "text/x-python",
   "name": "python",
   "nbconvert_exporter": "python",
   "pygments_lexer": "ipython3",
   "version": "3.11.4"
  }
 },
 "nbformat": 4,
 "nbformat_minor": 2
}
