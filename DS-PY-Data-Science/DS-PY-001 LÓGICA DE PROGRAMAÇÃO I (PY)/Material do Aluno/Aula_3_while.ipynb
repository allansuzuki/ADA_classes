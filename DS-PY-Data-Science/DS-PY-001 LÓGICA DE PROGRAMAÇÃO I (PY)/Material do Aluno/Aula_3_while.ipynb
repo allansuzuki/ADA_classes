{
 "cells": [
  {
   "cell_type": "markdown",
   "metadata": {},
   "source": [
    "# Aula 3 - Loop While\n",
    "\n",
    "Na aula de hoje, vamos explorar o seguinte tópico em Python:\n",
    "\n",
    "- 1) Laços de repetição (while).\n",
    "\n",
    "_______\n",
    "\n",
    "### Objetivos\n",
    "\n",
    "Laço de repetição while, frisando aqui a necessidade de atualização da condição para evitar loops infinitos. \n",
    "\n",
    "Nesta aula, será mostrado como os operadores lógicos são utilizados nas novas estruturas apresentadas.\n",
    "\n",
    "____"
   ]
  },
  {
   "cell_type": "markdown",
   "metadata": {},
   "source": [
    "## **PROBLEMÁTICA:**\n",
    "\n",
    "Ao implementar um programa que calcula médias e decide sobre a aprovação ou reprovação dos alunos com base em notas e presenças, identificou-se a necessidade de adicionar validações ao input do usuário.\n",
    "\n",
    "Essas validações garantirão que apenas dados válidos sejam processados, aumentando a robustez e confiabilidade do sistema."
   ]
  },
  {
   "cell_type": "markdown",
   "metadata": {},
   "source": [
    "### **PERGUNTA:**\n",
    "\n",
    "Como você responderia esse problema?"
   ]
  },
  {
   "cell_type": "markdown",
   "metadata": {},
   "source": [
    "____"
   ]
  },
  {
   "cell_type": "markdown",
   "metadata": {},
   "source": [
    "## Laços de repetição (while)\n",
    "\n",
    "Uma das utilidades de linguagens de programação é a de automatizar tarefas que são repetitivas.\n",
    "\n",
    "Mas, pra isso ser viável, seria bom se tivéssemos uma estrutura para **repetir comandos**, não é mesmo?\n",
    "\n",
    "Imagine que eu queira exibir na tela \"Olá, mundo!\" 5 vezes. Podemos fazer:"
   ]
  },
  {
   "cell_type": "code",
   "execution_count": null,
   "metadata": {},
   "outputs": [],
   "source": [
    "#Sem o While\n",
    "print('Olá, mundo!')\n",
    "print('Olá, mundo!')\n",
    "print('Olá, mundo!')\n",
    "print('Olá, mundo!')\n",
    "print('Olá, mundo!')"
   ]
  },
  {
   "cell_type": "markdown",
   "metadata": {},
   "source": [
    "Mas, e se eu quiser exibir essa mensagem 1000 vezes? Ou 1 milhão de vezes? Não é ideal escrevermos o mesmo pedaço de código tantas vezes, né?\n",
    "\n",
    "Para isso, existem os **laços de repetição**, que permitem repetir pedaços de código quantas vezes desejarmos!\n",
    "\n",
    "O primeiro laço que vamos ver é o **while**. Este laço tem a seguinte estrutura:\n",
    "\n",
    "```python\n",
    "while (condicao é True):\n",
    "    operacao_repetida\n",
    "```\n",
    "\n",
    "Ou seja, o que tá no bloco do while é repetido **enquanto a condição for verdadeira**:"
   ]
  },
  {
   "cell_type": "code",
   "execution_count": null,
   "metadata": {},
   "outputs": [],
   "source": [
    "#Usando o While\n",
    "contador = 5\n",
    "while contador > 0:\n",
    "  print('Olá, mundo!')\n",
    "  contador-=1"
   ]
  },
  {
   "cell_type": "markdown",
   "metadata": {},
   "source": [
    "### **ATENÇÃO:**\n",
    "\n",
    "Você precisa estar atento à **condição**, pois uma condição errada pode levar a **loops infinitos**.\n",
    "\n",
    "**Veja o exemplo abaixo:**"
   ]
  },
  {
   "cell_type": "code",
   "execution_count": null,
   "metadata": {},
   "outputs": [],
   "source": [
    "#loop infinito com while\n",
    "while 2==2:\n",
    "  print('Olá, mundo!')"
   ]
  },
  {
   "cell_type": "markdown",
   "metadata": {},
   "source": [
    "Para que loops infinitos não aconteçam, temos que fazer uma **atualização da condição** a cada iteração do laço!\n",
    "\n",
    "Isso é, temos que **atualizar** a variavel que contabiliza as repetições no loop."
   ]
  },
  {
   "cell_type": "markdown",
   "metadata": {},
   "source": [
    "Assim, o que fazemos é **definir a condição do while em termos de uma variável que tenha seu valor atualizado!**\n",
    "\n",
    "Para isso, é comum nos referirmos à variàvel da condição como **variável contadora**.\n",
    "\n",
    "Para atualizar a variável contadora dentro do while, em geral a atualizamos em +1."
   ]
  },
  {
   "cell_type": "code",
   "execution_count": 4,
   "metadata": {},
   "outputs": [
    {
     "name": "stdout",
     "output_type": "stream",
     "text": [
      "Olá, mundo!\n",
      "Olá, mundo!\n",
      "Olá, mundo!\n",
      "Olá, mundo!\n",
      "Olá, mundo!\n"
     ]
    }
   ],
   "source": [
    "#Atualizar o contador\n",
    "contador = 0\n",
    "\n",
    "while contador < 5:\n",
    "  print('Olá, mundo!')\n",
    "  contador+=1"
   ]
  },
  {
   "cell_type": "markdown",
   "metadata": {},
   "source": [
    "Vamos entender um pouco melhor como a variável contadora se comporta?\n",
    "\n",
    "Pra isso, basta exibi-la a cada iteração:"
   ]
  },
  {
   "cell_type": "code",
   "execution_count": 5,
   "metadata": {},
   "outputs": [
    {
     "name": "stdout",
     "output_type": "stream",
     "text": [
      "0\n",
      "1\n",
      "2\n",
      "3\n",
      "4\n"
     ]
    }
   ],
   "source": [
    "#Imprimir o contador\n",
    "contador = 0\n",
    "\n",
    "while contador < 5:\n",
    "  print(contador)\n",
    "  #print('Olá, mundo!')\n",
    "  contador+=1"
   ]
  },
  {
   "cell_type": "markdown",
   "metadata": {},
   "source": [
    "Na prática, o que está acontecendo é:"
   ]
  },
  {
   "cell_type": "code",
   "execution_count": 6,
   "metadata": {},
   "outputs": [
    {
     "name": "stdout",
     "output_type": "stream",
     "text": [
      "0\n",
      "1\n",
      "2\n",
      "3\n",
      "4\n"
     ]
    }
   ],
   "source": [
    "#Inicialmente, a variável contador é 0\n",
    "contador = 0\n",
    "print(contador)\n",
    "\n",
    "#Precisamos atualizar o contador\n",
    "contador+=1\n",
    "#Contador vale 1\n",
    "print(contador)\n",
    "\n",
    "#Precisamos atualizar o contador\n",
    "contador+=1\n",
    "#Contador vale 2\n",
    "print(contador)\n",
    "\n",
    "#Precisamos atualizar o contador\n",
    "contador+=1\n",
    "#Contador vale 3\n",
    "print(contador)\n",
    "\n",
    "#Precisamos atualizar o contador\n",
    "contador+=1\n",
    "#Contador vale 4\n",
    "print(contador)\n",
    "\n",
    "#Precisamos atualizar o contador\n",
    "contador+=1\n",
    "#Contador vale 5"
   ]
  },
  {
   "cell_type": "markdown",
   "metadata": {},
   "source": [
    "Que equivale a:"
   ]
  },
  {
   "cell_type": "code",
   "execution_count": 8,
   "metadata": {},
   "outputs": [
    {
     "name": "stdout",
     "output_type": "stream",
     "text": [
      "Olá, mundo!\n",
      "Olá, mundo!\n",
      "Olá, mundo!\n",
      "Olá, mundo!\n",
      "Olá, mundo!\n"
     ]
    }
   ],
   "source": [
    "#podemos somar de 1 em 1, 2 em 2, etc.\n",
    "contador = 0\n",
    "\n",
    "while contador < 5:\n",
    "  print('Olá, mundo!')\n",
    "  contador+=1"
   ]
  },
  {
   "cell_type": "markdown",
   "metadata": {},
   "source": [
    "Podemos também atualizar a condição de repetição segundo informado pelo usuário.\n",
    "\n",
    "Esse uso é bem importante para **garantir que o usuário digitou corretamente o que foi solicitado**.\n",
    "\n",
    "Por exemplo, vamos pedir pro usuário digitar um número maior que 10. **Enquanto ele não fizer o que queremos**, vamos continuar pedindo pra ele digitar um novo valor:"
   ]
  },
  {
   "cell_type": "code",
   "execution_count": 10,
   "metadata": {},
   "outputs": [],
   "source": [
    "numero = 3\n",
    "\n",
    "while numero <= 10:\n",
    "  numero = float(input('Digite um número maior que 10! '))"
   ]
  },
  {
   "cell_type": "markdown",
   "metadata": {},
   "source": [
    "## Resolvendo o problema das notas:\n",
    "\n",
    "Desenvolva um módulo de validação para o programa existente, que solicite ao usuário inserir notas e presenças novamente se os dados fornecidos forem inválidos. \n",
    "\n",
    "Considere validações para garantir que as notas estejam dentro do intervalo permitido (por exemplo, entre 0 e 10) e que o número de presenças seja um valor realista (por exemplo, entre 0 e o número total de aulas)."
   ]
  },
  {
   "cell_type": "code",
   "execution_count": 11,
   "metadata": {},
   "outputs": [
    {
     "name": "stdout",
     "output_type": "stream",
     "text": [
      "Média do aluno: 6.75\n"
     ]
    }
   ],
   "source": [
    "# Inicializando variáveis\n",
    "soma_notas = 0\n",
    "bimestre = 1\n",
    "while bimestre <= 4:\n",
    "    nota_input = float(input(f\"Insira a nota do {bimestre}º bimestre: \"))\n",
    "    while not(0<=nota_input<=10):\n",
    "        nota_input = float(input('Digite uma nota entre 0 e 10! '))\n",
    "    soma_notas += nota_input\n",
    "    bimestre +=1\n",
    "\n",
    "# Calculando a média\n",
    "media = soma_notas / 4\n",
    "\n",
    "# Exibindo resultados\n",
    "print(f\"Média do aluno: {media}\")"
   ]
  },
  {
   "cell_type": "markdown",
   "metadata": {},
   "source": [
    "## break, continue e else\n",
    "\n",
    "O while pode ser parado no meio com o break, isso é utilizado caso exista algum(ns) casos excepcionais onde seu código deve parar ou mesmo para poupar processamento em um loop que já fez o que precisava e usava a condição inicial apenas como limite de iterações."
   ]
  },
  {
   "cell_type": "code",
   "execution_count": 12,
   "metadata": {},
   "outputs": [
    {
     "name": "stdout",
     "output_type": "stream",
     "text": [
      "1\n",
      "2\n",
      "3\n",
      "4\n",
      "Fim\n"
     ]
    }
   ],
   "source": [
    "#Break\n",
    "contador = 0\n",
    "\n",
    "while contador < 10:\n",
    "  contador+=1\n",
    "\n",
    "  if contador == 5:\n",
    "    break\n",
    "  print(contador)\n",
    "print('Fim')"
   ]
  },
  {
   "cell_type": "markdown",
   "metadata": {},
   "source": [
    "Com o comando continue conseguimos parar uma iteração no meio e recomeçar o bloco do while."
   ]
  },
  {
   "cell_type": "code",
   "execution_count": 13,
   "metadata": {},
   "outputs": [
    {
     "name": "stdout",
     "output_type": "stream",
     "text": [
      "1\n",
      "2\n",
      "3\n",
      "4\n",
      "6\n",
      "7\n",
      "8\n",
      "9\n",
      "10\n",
      "Fim\n"
     ]
    }
   ],
   "source": [
    "#Continue\n",
    "contador = 0\n",
    "\n",
    "while contador < 10:\n",
    "  contador+=1\n",
    "\n",
    "  if contador == 5:\n",
    "    continue\n",
    "  print(contador)\n",
    "print('Fim')"
   ]
  },
  {
   "cell_type": "markdown",
   "metadata": {},
   "source": [
    "O else aqui vai se comportar como um **\"e então\"**, pois será o bloco de código que rodará quando, se **e somente se**, a condição do while não for mais satisfeita."
   ]
  },
  {
   "cell_type": "code",
   "execution_count": 15,
   "metadata": {},
   "outputs": [
    {
     "name": "stdout",
     "output_type": "stream",
     "text": [
      "1\n",
      "2\n",
      "3\n",
      "4\n"
     ]
    }
   ],
   "source": [
    "#Else e while (break)\n",
    "contador = 0\n",
    "\n",
    "while contador < 10:\n",
    "  contador+=1\n",
    "\n",
    "  if contador == 5:\n",
    "    break\n",
    "  print(contador)\n",
    "else:\n",
    "  print('Fim')"
   ]
  },
  {
   "cell_type": "code",
   "execution_count": 16,
   "metadata": {},
   "outputs": [
    {
     "name": "stdout",
     "output_type": "stream",
     "text": [
      "1\n",
      "2\n",
      "3\n",
      "4\n",
      "6\n",
      "7\n",
      "8\n",
      "9\n",
      "10\n",
      "Fim\n"
     ]
    }
   ],
   "source": [
    "#Else e while (continue)\n",
    "contador = 0\n",
    "\n",
    "while contador < 10:\n",
    "  contador+=1\n",
    "\n",
    "  if contador == 5:\n",
    "    continue\n",
    "  print(contador)\n",
    "else:\n",
    "  print('Fim')"
   ]
  },
  {
   "cell_type": "markdown",
   "metadata": {},
   "source": [
    "## Exercícios"
   ]
  },
  {
   "cell_type": "markdown",
   "metadata": {},
   "source": [
    "1) Crie um algoritmo que verifica se um número é primo.\n",
    "\n",
    "Ex.: ele vai receber o número 2 e vai dizer se é primo ou não."
   ]
  },
  {
   "cell_type": "code",
   "execution_count": 19,
   "metadata": {},
   "outputs": [
    {
     "name": "stdout",
     "output_type": "stream",
     "text": [
      "O número 6 não é primo!\n"
     ]
    }
   ],
   "source": [
    "numero = int(input('Digite um número inteiro: '))\n",
    "\n",
    "eh_primo = True\n",
    "\n",
    "divisor = 2\n",
    "\n",
    "while divisor <= numero/2:\n",
    "  if numero % divisor == 0:\n",
    "    eh_primo = False\n",
    "    break\n",
    "  divisor+=1\n",
    "#Mensagem na tela\n",
    "if eh_primo:\n",
    "  print(f'O número {numero} é primo!')\n",
    "else:\n",
    "  print(f'O número {numero} não é primo!')"
   ]
  },
  {
   "cell_type": "markdown",
   "metadata": {},
   "source": [
    "2) Imprima os seguintes padrões:\n",
    "\n",
    "a)\n",
    "\n",
    "\\*<br>\n",
    "\\*\\*<br>\n",
    "\\*\\*\\*<br>\n",
    "\\*\\*\\*\\*<br>"
   ]
  },
  {
   "cell_type": "code",
   "execution_count": 20,
   "metadata": {},
   "outputs": [
    {
     "name": "stdout",
     "output_type": "stream",
     "text": [
      "*\n",
      "**\n",
      "***\n",
      "****\n"
     ]
    }
   ],
   "source": [
    "cont = 1\n",
    "while cont<5:\n",
    "  print('*'*cont)\n",
    "  cont+=1"
   ]
  },
  {
   "cell_type": "markdown",
   "metadata": {},
   "source": [
    "b) \n",
    "\n",
    "\\*<br>\n",
    "\\*\\*\\*<br>\n",
    "\\*\\*\\*\\*\\*<br>\n",
    "\\*\\*\\*<br>\n",
    "\\*<br>"
   ]
  },
  {
   "cell_type": "code",
   "execution_count": 21,
   "metadata": {},
   "outputs": [
    {
     "name": "stdout",
     "output_type": "stream",
     "text": [
      "*\n",
      "***\n",
      "*****\n",
      "***\n",
      "*\n"
     ]
    }
   ],
   "source": [
    "cont = 1\n",
    "while cont<5:\n",
    "  print('*'*cont)\n",
    "  cont+=2\n",
    "while cont>0:\n",
    "  print('*'*cont)\n",
    "  cont-=2"
   ]
  },
  {
   "cell_type": "markdown",
   "metadata": {},
   "source": [
    "3) Escreva um programa para calcular o fatorial de um número."
   ]
  },
  {
   "cell_type": "code",
   "execution_count": 23,
   "metadata": {},
   "outputs": [
    {
     "name": "stdout",
     "output_type": "stream",
     "text": [
      "O fatorial de 5 é 120.\n"
     ]
    }
   ],
   "source": [
    "#Pedir ao usuário um número inteiro\n",
    "numero = int(input('Digite um número inteiro não negativo: '))\n",
    "resultado = 1\n",
    "cont = 1\n",
    "\n",
    "while cont<=numero:\n",
    "  resultado*=cont\n",
    "  cont+=1\n",
    "print(f'O fatorial de {numero} é {resultado}.')"
   ]
  },
  {
   "cell_type": "markdown",
   "metadata": {},
   "source": [
    "4) Escreva um algoritmo, usando o loop while, que receba um número inteiro e imprima a sua tabuada."
   ]
  },
  {
   "cell_type": "code",
   "execution_count": 24,
   "metadata": {},
   "outputs": [
    {
     "name": "stdout",
     "output_type": "stream",
     "text": [
      "5 x 1 = 5\n",
      "5 x 2 = 10\n",
      "5 x 3 = 15\n",
      "5 x 4 = 20\n",
      "5 x 5 = 25\n",
      "5 x 6 = 30\n",
      "5 x 7 = 35\n",
      "5 x 8 = 40\n",
      "5 x 9 = 45\n",
      "5 x 10 = 50\n"
     ]
    }
   ],
   "source": [
    "#Pedir ao usuário um número inteiro\n",
    "numero = int(input('Digite um número inteiro não negativo: '))\n",
    "cont = 1\n",
    "while cont<=10:\n",
    "  #print(f'{numero}x{cont}={numero*cont}')\n",
    "  print(numero,'x',cont,'=',numero*cont)\n",
    "  cont+=1"
   ]
  },
  {
   "cell_type": "markdown",
   "metadata": {},
   "source": [
    "5) Escreva um programa para encontrar o máximo divisor comum (MDC) entre 2 números."
   ]
  },
  {
   "cell_type": "code",
   "execution_count": 26,
   "metadata": {},
   "outputs": [
    {
     "name": "stdout",
     "output_type": "stream",
     "text": [
      "MDC = 4.0\n"
     ]
    }
   ],
   "source": [
    "#Solicitar 2 números ao usuário\n",
    "n1 = float(input('Digite um número: '))\n",
    "n2 = float(input('Digite outro número: '))\n",
    "\n",
    "#Para calcular o MDC entre 2 número, divide-se o maior pelo menor\n",
    "\n",
    "#Se o n2>n1 --> Trocar os números de ordem\n",
    "if n1>n2:\n",
    "  num1 = n1\n",
    "  num2 = n2\n",
    "else:\n",
    "  num1 = n2\n",
    "  num2 = n1\n",
    "#Calcular o resto dessa divisão\n",
    "resto = num1 % num2\n",
    "#Se o resto não for zero\n",
    "while resto != 0:\n",
    "  num1 = num2\n",
    "  num2 = resto\n",
    "  resto = num1 % num2\n",
    "print('MDC =',num2)"
   ]
  },
  {
   "cell_type": "markdown",
   "metadata": {},
   "source": [
    "6) Faça a somatória de todos os numeros seguindo a sequência:\n",
    "\n",
    "$ \\frac{1}{1} + \\frac{1}{2} + \\frac{1}{3} + \\frac{1}{4} + \\frac{1}{5} + \\frac{1}{6} + ... + \\frac{1}{1000} $"
   ]
  },
  {
   "cell_type": "code",
   "execution_count": 27,
   "metadata": {},
   "outputs": [
    {
     "name": "stdout",
     "output_type": "stream",
     "text": [
      "7.485470860550343\n"
     ]
    }
   ],
   "source": [
    "#Definir um contador\n",
    "cont = 1\n",
    "#Definir a variável soma\n",
    "soma = 0\n",
    "\n",
    "#Loop While\n",
    "while cont <= 1000:\n",
    "  soma+=1/cont\n",
    "  cont+=1\n",
    "print(soma)"
   ]
  },
  {
   "cell_type": "markdown",
   "metadata": {},
   "source": [
    "7) Faça a somatória de todos os numeros seguindo a sequência:\n",
    "\n",
    "$ \\frac{1}{1} + \\frac{1}{2} + \\frac{1}{4} + \\frac{1}{8} + \\frac{1}{16} + \\frac{1}{32} + ... + \\frac{1}{2^{n}} $"
   ]
  },
  {
   "cell_type": "code",
   "execution_count": 28,
   "metadata": {},
   "outputs": [
    {
     "name": "stdout",
     "output_type": "stream",
     "text": [
      "1.9999990463256836\n"
     ]
    }
   ],
   "source": [
    "n = int(input('Digite o tamanho da sequência: '))\n",
    "#Definir um contador\n",
    "cont = 0\n",
    "#Definir a variável soma\n",
    "soma = 0\n",
    "\n",
    "#Loop While\n",
    "while cont <= n:\n",
    "  soma+=1/(2**cont)\n",
    "  cont+=1\n",
    "print(soma)"
   ]
  },
  {
   "cell_type": "markdown",
   "metadata": {},
   "source": [
    "8) Faça a somatória de todos os numeros seguindo a sequência:\n",
    "\n",
    "$ \\frac{1}{1!} + \\frac{1}{2!} + \\frac{1}{3!} + \\frac{1}{4!} + \\frac{1}{5!} + \\frac{1}{6!} + ... + \\frac{1}{100!} $"
   ]
  },
  {
   "cell_type": "code",
   "execution_count": 29,
   "metadata": {},
   "outputs": [
    {
     "name": "stdout",
     "output_type": "stream",
     "text": [
      "1.7182818284590455\n"
     ]
    }
   ],
   "source": [
    "#Definir um contador\n",
    "cont = 1\n",
    "#Definir a variável soma\n",
    "soma = 0\n",
    "fatorial = 1\n",
    "\n",
    "#Loop While\n",
    "while cont <= 100:\n",
    "  soma+=1/(fatorial)\n",
    "  cont+=1\n",
    "  fatorial = fatorial*cont\n",
    "print(soma)"
   ]
  }
 ],
 "metadata": {
  "kernelspec": {
   "display_name": "Python 3",
   "language": "python",
   "name": "python3"
  },
  "language_info": {
   "codemirror_mode": {
    "name": "ipython",
    "version": 3
   },
   "file_extension": ".py",
   "mimetype": "text/x-python",
   "name": "python",
   "nbconvert_exporter": "python",
   "pygments_lexer": "ipython3",
   "version": "3.11.4"
  }
 },
 "nbformat": 4,
 "nbformat_minor": 2
}
