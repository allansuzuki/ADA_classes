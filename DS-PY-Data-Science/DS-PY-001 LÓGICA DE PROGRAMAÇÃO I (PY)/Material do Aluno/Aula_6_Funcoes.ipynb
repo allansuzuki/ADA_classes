{
  "cells": [
    {
      "cell_type": "markdown",
      "metadata": {
        "id": "9mTCD6TJVcDS"
      },
      "source": [
        "# Aula 5 - Funções\n",
        "\n",
        "Na aula de hoje, vamos explorar o seguinte tópico em Python:\n",
        "\n",
        "- 1) Funções\n",
        "_______\n",
        "\n",
        "### Habilidades a serem desenvolvidas\n",
        "\n",
        "Ao final da aula o aluno deve:\n",
        "\n",
        "- Conhecer o conceito de funções e sua importância;\n",
        "- Saber criar funções em Python;"
      ]
    },
    {
      "cell_type": "markdown",
      "metadata": {
        "id": "pJL1daUBVcDd"
      },
      "source": [
        "___\n",
        "___\n",
        "___\n"
      ]
    },
    {
      "cell_type": "markdown",
      "metadata": {
        "id": "lnS1Kfx9VcDe"
      },
      "source": [
        "## 1) Funções\n",
        "\n",
        "Até o momento, já vimos diversas funções em Python.\n",
        "\n",
        "- Na primeira aula, tivemos contato com a função `print()`, que exibe um texto na tela;\n",
        "\n",
        "- Depois, aprendemos sobre a função `input()`, que serve pra capturar algo que o usuário digita;\n",
        "\n",
        "- Em seguida, vimos algumas funções aplicada à listas, como a `sorted()`, para ordenar uma lista;\n"
      ]
    },
    {
      "cell_type": "code",
      "execution_count": null,
      "metadata": {
        "id": "WlC50RG_VcDf"
      },
      "outputs": [],
      "source": [
        "#Usando a função print\n"
      ]
    },
    {
      "cell_type": "code",
      "execution_count": null,
      "metadata": {
        "id": "3pRONqeqVcDi"
      },
      "outputs": [],
      "source": [
        "#Usando a função input\n"
      ]
    },
    {
      "cell_type": "code",
      "execution_count": null,
      "metadata": {
        "id": "15MuJ3KZVcDj"
      },
      "outputs": [],
      "source": [
        "#Usando a função max\n",
        "lista = [1,4,10,-5,6,200,5,311,5,2,56,63]"
      ]
    },
    {
      "cell_type": "code",
      "execution_count": null,
      "metadata": {
        "id": "1p-DxgVEVcDk"
      },
      "outputs": [],
      "source": [
        "#Usando a função sorted\n",
        "lista = [1,4,10,-5,6,200,5,311,5,2,56,63]"
      ]
    },
    {
      "cell_type": "markdown",
      "metadata": {
        "id": "gIrCz-UbVcDl"
      },
      "source": [
        "\n",
        "A intuição sobre funções, então, já nos é familiar:\n",
        "\n",
        "Uma função é um objeto utilizado para **fazer determinadas ações**.\n",
        "\n",
        "Podemos ver uma função como uma \"caixinha\" que pega uma **entrada** (o argumento), faz algum **processamento**, e então **retorna uma saída** (o output)\n",
        "\n",
        "<img src=\"https://s3.amazonaws.com/illustrativemathematics/images/000/000/782/medium/Task_1_8c7a6a9a2e1421586c40f125bd783de3.jpg?1335065782\" width=300>\n",
        "\n",
        "\n",
        "<img src=\"https://1.bp.blogspot.com/_MhOt9n2UJbM/TC6emeqHdqI/AAAAAAAAAiQ/1brsWuWvOC0/s1600/function-machine.png\" width=300>\n"
      ]
    },
    {
      "cell_type": "markdown",
      "metadata": {
        "id": "Qz4iMVnvVcDn"
      },
      "source": [
        "Aprenderemos agora como criar **nossas próprias funções** em Python!"
      ]
    },
    {
      "cell_type": "markdown",
      "metadata": {
        "id": "nzhuB4pDVcDo"
      },
      "source": [
        "A estrutura de **definição de uma função** é dada por:\n",
        "\n",
        "```python\n",
        "def nomeDaFuncao(argumento1, argumento2, ...):\n",
        "    \n",
        "    instrucoes\n",
        "    \n",
        "    return saida\n",
        "```"
      ]
    },
    {
      "cell_type": "markdown",
      "metadata": {
        "id": "FWHDj2YYVcDp"
      },
      "source": [
        "Há 5 elementos fundamentais para a criação de novas funções em Python:\n",
        "\n",
        "- Primeiramente, usamos \"def\" para deixar claro que estamos **definindo** uma função;\n",
        "- Depois, damos um **nome** para nossa função;\n",
        "- Em parênteses, falamos quais serão os **argumentos** da função -- esses são os inputs, e em python, esses elementos são opcionais!\n",
        "- Depois, explicitamos qual é o **processamento** feito pela função;\n",
        "- Ao fim, dizemos o que a função irá **retornar** -- esses são os outputs, e em Python esse elemento é opcional!"
      ]
    },
    {
      "cell_type": "markdown",
      "metadata": {
        "id": "H3ryeF1EVcDq"
      },
      "source": [
        "Sempre que quisermos **executar** uma função, basta **chamá-la**, dando os argumentos desejados!\n",
        "\n",
        "`nome_da_funcao(argumentos)`"
      ]
    },
    {
      "cell_type": "markdown",
      "metadata": {
        "id": "9CMUC7RvVcDq"
      },
      "source": [
        "__Uma função sem argumentos e sem return__\n",
        "\n",
        "**sem argumentos**: Uma função sem agumentos executa alguma ação que não precisa de informação adicional para ser executada.\n",
        "\n",
        "**sem return**: Esta função não retorna nenhuma VARIÁVEL! (mas pode retornar prints, como veremos no exemplo abaixo)\n",
        "\n",
        "Vamos para um caso de apenas imprime algo na tela, mas sempre o mesmo texto!"
      ]
    },
    {
      "cell_type": "code",
      "execution_count": null,
      "metadata": {
        "id": "2PIQzOBNVcDr"
      },
      "outputs": [],
      "source": [
        "# criar uma função que sempre escreve na tela \"estou muito satisfeito com o teu desempenho\""
      ]
    },
    {
      "cell_type": "markdown",
      "metadata": {
        "id": "5cOQM0sTVcDs"
      },
      "source": [
        "__Chamando a função__"
      ]
    },
    {
      "cell_type": "code",
      "execution_count": null,
      "metadata": {
        "id": "MJO_iECQVcDs"
      },
      "outputs": [],
      "source": []
    },
    {
      "cell_type": "markdown",
      "metadata": {
        "id": "W57bfzksVcDt"
      },
      "source": [
        "__Uma função com argumento, mas sem return__\n",
        "\n",
        "Neste caso, a função agora recebe parâmetros para seus argumentos e eles são utilizados para definir o comportamento da função. "
      ]
    },
    {
      "cell_type": "code",
      "execution_count": null,
      "metadata": {
        "id": "PG5xMOvMVcDt"
      },
      "outputs": [],
      "source": [
        "# Utilizando a funcao anterior, pedir o nome do colaborador e\n",
        "# se o nome vai ser inserido no começo ou no fim da frase."
      ]
    },
    {
      "cell_type": "markdown",
      "metadata": {
        "id": "Cr2Y3sH9VcDv"
      },
      "source": [
        "Posso mudar a ordem dos argumentos, mas pra isso devo explicitar exatamente quais são os valores que estou passando para quais argumentos!"
      ]
    },
    {
      "cell_type": "code",
      "execution_count": null,
      "metadata": {
        "id": "6bS8CU5AVcDw"
      },
      "outputs": [],
      "source": []
    },
    {
      "cell_type": "markdown",
      "metadata": {
        "id": "Jfdkj_KLVcDw"
      },
      "source": [
        "__Mas e o return?__\n",
        "\n",
        "\n",
        "Todas as funções acima de fato fazem alguma operação, mas nós não conseguimos **acessar** o resultado das operações! \n",
        "\n",
        "Um exemplo mais claro: uma função que calcula a soma de dois números:"
      ]
    },
    {
      "cell_type": "code",
      "execution_count": null,
      "metadata": {
        "id": "aGaTJymCVcDw"
      },
      "outputs": [],
      "source": [
        "# criar uma funcao que soma dois numeros"
      ]
    },
    {
      "cell_type": "markdown",
      "metadata": {
        "id": "rPt8FnIMVcDx"
      },
      "source": [
        "Note que a função calcula a soma dos números, mas apenas exibe este resultado com o print! \n",
        "\n",
        "**A variável \"soma\" é uma variável que existe apenas no interior da função!!**"
      ]
    },
    {
      "cell_type": "markdown",
      "metadata": {},
      "source": [
        "Para acessar o resultado, precisamos explicitar qual o resultado que queremos retornar! "
      ]
    },
    {
      "cell_type": "code",
      "execution_count": null,
      "metadata": {},
      "outputs": [],
      "source": [
        "# criar uma funcao que soma dois numeros e retorne o resultado"
      ]
    },
    {
      "cell_type": "markdown",
      "metadata": {
        "id": "omnE5bmlVcDy"
      },
      "source": [
        "Se quisermos armazenar o valor da soma, podemos **retornar** o valor desta variável!"
      ]
    },
    {
      "cell_type": "markdown",
      "metadata": {
        "id": "E64sex_zVcD0"
      },
      "source": [
        "Daí, basta armazenar o resultado retornado em uma variável, **como fazíamos com o input()!**"
      ]
    },
    {
      "cell_type": "markdown",
      "metadata": {},
      "source": [
        "**OBS.:** apenas o **valor** da variável é retornado, não o nome dela!!\n",
        "Fora da função, o nome de variável \"soma\" ainda continua não existindo!!"
      ]
    },
    {
      "cell_type": "code",
      "execution_count": null,
      "metadata": {
        "id": "Xd6lHxZzVcDz"
      },
      "outputs": [],
      "source": [
        "# tentar pegar a variavel de dentro da funcao"
      ]
    },
    {
      "cell_type": "markdown",
      "metadata": {
        "id": "k7Yr6dSbVcD1"
      },
      "source": [
        "Um outro exemplo:"
      ]
    },
    {
      "cell_type": "code",
      "execution_count": null,
      "metadata": {
        "id": "XQYZ-YS6VcD1"
      },
      "outputs": [],
      "source": [
        "# o que fazer aqui? livre?"
      ]
    },
    {
      "cell_type": "code",
      "execution_count": null,
      "metadata": {
        "id": "OnTZoRE7VcD1"
      },
      "outputs": [],
      "source": []
    },
    {
      "cell_type": "markdown",
      "metadata": {
        "id": "wMVU-zEtVcD2"
      },
      "source": [
        "Vamos elaborar um pouco mais?\n",
        "\n",
        "Que tal fazermos uma função calculadora?"
      ]
    },
    {
      "cell_type": "code",
      "execution_count": null,
      "metadata": {
        "id": "4sb1bh81VcD2"
      },
      "outputs": [],
      "source": []
    },
    {
      "cell_type": "code",
      "execution_count": null,
      "metadata": {
        "id": "SbzL6FkTVcEA"
      },
      "outputs": [],
      "source": []
    },
    {
      "cell_type": "code",
      "execution_count": null,
      "metadata": {
        "id": "e8LGDEnDVcEB"
      },
      "outputs": [],
      "source": []
    },
    {
      "cell_type": "code",
      "execution_count": null,
      "metadata": {
        "id": "5q0WMWu-VcEB"
      },
      "outputs": [],
      "source": []
    },
    {
      "cell_type": "code",
      "execution_count": null,
      "metadata": {
        "id": "olzy9pvIVcEC"
      },
      "outputs": [],
      "source": []
    },
    {
      "cell_type": "markdown",
      "metadata": {
        "id": "WOzyxW5jVcED"
      },
      "source": [
        "Também é possível utilizar a função calculadora para definir uma função que calcula a média entre dois números:"
      ]
    },
    {
      "cell_type": "code",
      "execution_count": null,
      "metadata": {
        "id": "8XushL0tVcEE"
      },
      "outputs": [],
      "source": [
        "# nao entendi... criar uma funcao que utliza a funcao criada anteriormente?"
      ]
    },
    {
      "cell_type": "code",
      "execution_count": null,
      "metadata": {
        "id": "anfG1eWvVcEF"
      },
      "outputs": [],
      "source": []
    },
    {
      "cell_type": "markdown",
      "metadata": {},
      "source": [
        "## Documentação"
      ]
    },
    {
      "cell_type": "markdown",
      "metadata": {},
      "source": [
        "Já imaginou que muitas vezes muitas vezes lidamos ou criamos uma função que fica tão complexa que precisamos de um texto explicativo pra dizer como funciona essa função (e até para lembrarmos no futuro)"
      ]
    },
    {
      "cell_type": "markdown",
      "metadata": {
        "id": "LcFpFegQVcEF"
      },
      "source": [
        "## Exercícios\n",
        "\n",
        "\n",
        "1) Faça uma função que recebe dois parâmetros: linhas e colunas e desenhe uma tabela usando os caracteres (-, |, + e espaços) com essas dimensões, exemplo:\n",
        "\n",
        "linhas: 3\n",
        "colunas: 5\n",
        "\n",
        "    -----------\n",
        "    | | | | | |\n",
        "    |-+-+-+-+-|\n",
        "    | | | | | |\n",
        "    |-+-+-+-+-|\n",
        "    | | | | | |\n",
        "    -----------"
      ]
    },
    {
      "cell_type": "code",
      "execution_count": null,
      "metadata": {
        "id": "A55JsMP0VcEF"
      },
      "outputs": [],
      "source": []
    },
    {
      "cell_type": "markdown",
      "metadata": {
        "id": "DwtRraSVVcEG"
      },
      "source": [
        "2) Faça uma função que recebe um texto e um letra e retorne a quantidade daquela letra naquele texto (ignore diferenças de capitalização, 'A' e 'a' são a mesma letra)"
      ]
    },
    {
      "cell_type": "code",
      "execution_count": null,
      "metadata": {
        "id": "CqmlayVHVcEG"
      },
      "outputs": [],
      "source": []
    },
    {
      "cell_type": "markdown",
      "metadata": {
        "id": "D2BLroQrVcEH"
      },
      "source": [
        "3) Escreva uma função que aceite um parâmetro (um ano) e verifique se o ano é bissexto  ou não.\n",
        "\n",
        "Obs.: No calendário gregoriano, duas condições são usadas para identificar anos \n",
        "bissextos:\n",
        "\n",
        "* O ano que pode ser dividido por 4, mas não por 100, é um ano bissexto;\n",
        "* O ano também é bissexto se for divisível por 400"
      ]
    },
    {
      "cell_type": "code",
      "execution_count": null,
      "metadata": {
        "id": "kRgpw-gRVcEI"
      },
      "outputs": [],
      "source": []
    }
  ],
  "metadata": {
    "colab": {
      "provenance": []
    },
    "kernelspec": {
      "display_name": "Python 3",
      "language": "python",
      "name": "python3"
    },
    "language_info": {
      "codemirror_mode": {
        "name": "ipython",
        "version": 3
      },
      "file_extension": ".py",
      "mimetype": "text/x-python",
      "name": "python",
      "nbconvert_exporter": "python",
      "pygments_lexer": "ipython3",
      "version": "3.10.9"
    },
    "varInspector": {
      "cols": {
        "lenName": 16,
        "lenType": 16,
        "lenVar": 40
      },
      "kernels_config": {
        "python": {
          "delete_cmd_postfix": "",
          "delete_cmd_prefix": "del ",
          "library": "var_list.py",
          "varRefreshCmd": "print(var_dic_list())"
        },
        "r": {
          "delete_cmd_postfix": ") ",
          "delete_cmd_prefix": "rm(",
          "library": "var_list.r",
          "varRefreshCmd": "cat(var_dic_list()) "
        }
      },
      "types_to_exclude": [
        "module",
        "function",
        "builtin_function_or_method",
        "instance",
        "_Feature"
      ],
      "window_display": false
    }
  },
  "nbformat": 4,
  "nbformat_minor": 0
}
