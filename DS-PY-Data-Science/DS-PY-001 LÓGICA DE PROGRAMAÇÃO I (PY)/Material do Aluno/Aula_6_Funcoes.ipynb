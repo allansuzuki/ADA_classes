{
  "cells": [
    {
      "cell_type": "markdown",
      "metadata": {
        "id": "9mTCD6TJVcDS"
      },
      "source": [
        "# Aula 6 - Funções\n",
        "\n",
        "Na aula de hoje, vamos explorar o seguinte tópico em Python:\n",
        "\n",
        "1. Funções\n",
        "\n",
        "\n",
        "### Habilidades a serem desenvolvidas\n",
        "\n",
        "Ao final da aula o aluno deve:\n",
        "\n",
        "- Conhecer o conceito de funções e sua importância;\n",
        "- Saber criar funções em Python para diversos casos;"
      ]
    },
    {
      "cell_type": "markdown",
      "metadata": {
        "id": "pJL1daUBVcDd"
      },
      "source": [
        "___\n"
      ]
    },
    {
      "cell_type": "markdown",
      "metadata": {
        "id": "lnS1Kfx9VcDe"
      },
      "source": [
        "## 1) Funções\n",
        "\n",
        "Até o momento, já vimos diversas funções em Python.\n",
        "\n",
        "- Na primeira aula, tivemos contato com a função `print()`, que exibe um texto na tela;\n",
        "\n",
        "- Depois, aprendemos sobre a função `input()`, que serve pra capturar algo que o usuário digita;\n",
        "\n",
        "- Em seguida, vimos algumas funções aplicada à listas, como a `sorted()`, para ordenar uma lista;\n"
      ]
    },
    {
      "cell_type": "code",
      "execution_count": 1,
      "metadata": {
        "id": "WlC50RG_VcDf"
      },
      "outputs": [
        {
          "name": "stdout",
          "output_type": "stream",
          "text": [
            "Olá, aluno!\n"
          ]
        }
      ],
      "source": [
        "#Usando a função print\n",
        "print('Olá, aluno!')"
      ]
    },
    {
      "cell_type": "code",
      "execution_count": 2,
      "metadata": {
        "id": "3pRONqeqVcDi"
      },
      "outputs": [],
      "source": [
        "#Usando a função input\n",
        "nome_aluno = input('Digite teu nome: ')"
      ]
    },
    {
      "cell_type": "code",
      "execution_count": 3,
      "metadata": {
        "id": "15MuJ3KZVcDj"
      },
      "outputs": [
        {
          "data": {
            "text/plain": [
              "311"
            ]
          },
          "execution_count": 3,
          "metadata": {},
          "output_type": "execute_result"
        }
      ],
      "source": [
        "#Usando a função max\n",
        "lista = [1,4,10,-5,6,200,5,311,5,2,56,63]\n",
        "max(lista)"
      ]
    },
    {
      "cell_type": "code",
      "execution_count": 4,
      "metadata": {
        "id": "1p-DxgVEVcDk"
      },
      "outputs": [
        {
          "data": {
            "text/plain": [
              "[-5, 1, 2, 4, 5, 5, 6, 10, 56, 63, 200, 311]"
            ]
          },
          "execution_count": 4,
          "metadata": {},
          "output_type": "execute_result"
        }
      ],
      "source": [
        "#Usando a função sorted\n",
        "lista = [1,4,10,-5,6,200,5,311,5,2,56,63]\n",
        "sorted(lista)"
      ]
    },
    {
      "cell_type": "markdown",
      "metadata": {
        "id": "gIrCz-UbVcDl"
      },
      "source": [
        "---\n",
        "A intuição sobre funções, então, já nos é familiar:\n",
        "\n",
        "Uma função é um objeto utilizado para **fazer determinadas ações**.\n",
        "\n",
        "Podemos ver uma função como uma \"caixinha\" que muitas vezes pega uma **entrada** (o argumento), faz algum **processamento**, e então **retorna uma saída** (o output)\n",
        "\n",
        "<img src=\"https://s3.amazonaws.com/illustrativemathematics/images/000/000/782/medium/Task_1_8c7a6a9a2e1421586c40f125bd783de3.jpg?1335065782\" width=300>\n",
        "\n",
        "\n",
        "<img src=\"https://1.bp.blogspot.com/_MhOt9n2UJbM/TC6emeqHdqI/AAAAAAAAAiQ/1brsWuWvOC0/s1600/function-machine.png\" width=300>\n"
      ]
    },
    {
      "cell_type": "markdown",
      "metadata": {
        "id": "Qz4iMVnvVcDn"
      },
      "source": [
        "Aprenderemos agora como criar **nossas próprias funções** em Python!"
      ]
    },
    {
      "cell_type": "markdown",
      "metadata": {
        "id": "nzhuB4pDVcDo"
      },
      "source": [
        "A estrutura de **definição de uma função** é dada por:\n",
        "\n",
        "```python\n",
        "def nomeDaFuncao(param1, param2, ...):\n",
        "    processamento ou instrucoes\n",
        "\n",
        "    return saida\n",
        "```"
      ]
    },
    {
      "cell_type": "markdown",
      "metadata": {
        "id": "FWHDj2YYVcDp"
      },
      "source": [
        "Há 5 elementos fundamentais para a criação de novas funções em Python:\n",
        "\n",
        "- Primeiramente, usamos `def` para deixar claro que estamos **definindo** uma função;\n",
        "- Depois, damos um **nome** para nossa função;\n",
        "- Em parênteses, falamos quais serão os **parâmetros** da função -- esses são os inputs (opcional)\n",
        "    - Uma função pode conter parâmetros com ou sem valores padrão;\n",
        "- Depois, explicitamos qual é o **processamento** feito pela função;\n",
        "- Ao fim, dizemos o que a função irá **retornar** -- esses são os outputs (opcional)"
      ]
    },
    {
      "cell_type": "markdown",
      "metadata": {
        "id": "H3ryeF1EVcDq"
      },
      "source": [
        "Sempre que quisermos **executar** uma função, basta **chamá-la**, dando os argumentos desejados!\n",
        "\n",
        "`nome_da_funcao(args)`"
      ]
    },
    {
      "cell_type": "markdown",
      "metadata": {
        "id": "9CMUC7RvVcDq"
      },
      "source": [
        "__Uma função sem argumentos e sem return__\n",
        "\n",
        "**sem argumentos**: Uma função sem agumentos executa alguma ação que não precisa de informação adicional para ser executada.\n",
        "\n",
        "**sem return**: Esta função não retorna nenhuma VARIÁVEL! (mas pode retornar prints, como veremos no exemplo abaixo)\n",
        "\n",
        "Vamos para um caso de apenas imprime algo na tela, mas sempre o mesmo texto!"
      ]
    },
    {
      "cell_type": "code",
      "execution_count": 5,
      "metadata": {
        "id": "2PIQzOBNVcDr"
      },
      "outputs": [],
      "source": [
        "# criar uma função que sempre escreve na tela \"estou muito satisfeito com o teu desempenho\"\n",
        "def elogiar():\n",
        "    print('Estou muito satisfeito com o seu desempenho')"
      ]
    },
    {
      "cell_type": "markdown",
      "metadata": {
        "id": "5cOQM0sTVcDs"
      },
      "source": [
        "__Chamando a função__"
      ]
    },
    {
      "cell_type": "code",
      "execution_count": 6,
      "metadata": {
        "id": "MJO_iECQVcDs"
      },
      "outputs": [
        {
          "name": "stdout",
          "output_type": "stream",
          "text": [
            "Estou muito satisfeito com o seu desempenho\n"
          ]
        }
      ],
      "source": [
        "elogiar()"
      ]
    },
    {
      "cell_type": "markdown",
      "metadata": {
        "id": "W57bfzksVcDt"
      },
      "source": [
        "__Uma função com argumento, mas sem return__\n",
        "\n",
        "Neste caso, a função agora recebe parâmetros para seus argumentos e eles são utilizados para definir o comportamento da função. "
      ]
    },
    {
      "cell_type": "code",
      "execution_count": 7,
      "metadata": {
        "id": "PG5xMOvMVcDt"
      },
      "outputs": [],
      "source": [
        "# Refazer a funcao anterior, pedindo o nome do colaborador e\n",
        "# informar se o nome vai ser inserido no começo ou no fim da frase.\n",
        "\n",
        "def elogiar(nome, inserir_no_final=True):\n",
        "    if inserir_no_final: print(f'Estou muito satisfeito com o seu desempenho,',nome)\n",
        "    else: print(nome, f', estou muito satisfeito com o seu desempenho')"
      ]
    },
    {
      "cell_type": "code",
      "execution_count": 10,
      "metadata": {},
      "outputs": [
        {
          "name": "stdout",
          "output_type": "stream",
          "text": [
            "Estou muito satisfeito com o seu desempenho, queridíssimo aluno\n"
          ]
        }
      ],
      "source": [
        "elogiar('queridíssimo aluno')"
      ]
    },
    {
      "cell_type": "markdown",
      "metadata": {
        "id": "Cr2Y3sH9VcDv"
      },
      "source": [
        "Posso mudar a ordem dos argumentos, mas pra isso devo explicitar exatamente quais são os valores que estou passando para quais argumentos!"
      ]
    },
    {
      "cell_type": "code",
      "execution_count": 11,
      "metadata": {
        "id": "6bS8CU5AVcDw"
      },
      "outputs": [
        {
          "name": "stdout",
          "output_type": "stream",
          "text": [
            "Estou muito satisfeito com o seu desempenho, queridíssimo aluno\n"
          ]
        }
      ],
      "source": [
        "elogiar(inserir_no_final=True, nome=\"queridíssimo aluno\")"
      ]
    },
    {
      "cell_type": "markdown",
      "metadata": {
        "id": "Jfdkj_KLVcDw"
      },
      "source": [
        "__Mas e o return?__\n",
        "\n",
        "\n",
        "Todas as funções acima de fato fazem alguma operação, mas nós não conseguimos **acessar** o resultado das operações! \n",
        "\n",
        "Um exemplo mais claro: uma função que calcula a soma de dois números:"
      ]
    },
    {
      "cell_type": "code",
      "execution_count": 13,
      "metadata": {
        "id": "aGaTJymCVcDw"
      },
      "outputs": [],
      "source": [
        "# criar uma funcao que soma dois numeros\n",
        "def soma_dois_numeros(num1,num2):\n",
        "    soma = num1+num2\n",
        "    print(soma)"
      ]
    },
    {
      "cell_type": "code",
      "execution_count": 14,
      "metadata": {},
      "outputs": [
        {
          "name": "stdout",
          "output_type": "stream",
          "text": [
            "13\n"
          ]
        }
      ],
      "source": [
        "soma_dois_numeros(3,10)"
      ]
    },
    {
      "cell_type": "markdown",
      "metadata": {
        "id": "rPt8FnIMVcDx"
      },
      "source": [
        "Note que a função calcula a soma dos números, mas apenas exibe este resultado com o print! \n",
        "\n",
        "**A variável \"soma\" é uma variável que existe apenas no interior da função!!**"
      ]
    },
    {
      "cell_type": "code",
      "execution_count": 15,
      "metadata": {},
      "outputs": [
        {
          "ename": "NameError",
          "evalue": "name 'soma' is not defined",
          "output_type": "error",
          "traceback": [
            "\u001b[1;31m---------------------------------------------------------------------------\u001b[0m",
            "\u001b[1;31mNameError\u001b[0m                                 Traceback (most recent call last)",
            "Cell \u001b[1;32mIn[15], line 1\u001b[0m\n\u001b[1;32m----> 1\u001b[0m \u001b[43msoma\u001b[49m\n",
            "\u001b[1;31mNameError\u001b[0m: name 'soma' is not defined"
          ]
        }
      ],
      "source": [
        "# tentar pegar a variavel de dentro da funcao\n",
        "soma #nao existe"
      ]
    },
    {
      "cell_type": "markdown",
      "metadata": {},
      "source": [
        "Para acessar o resultado, precisamos explicitar qual o resultado que queremos retornar! "
      ]
    },
    {
      "cell_type": "code",
      "execution_count": 18,
      "metadata": {},
      "outputs": [],
      "source": [
        "# criar uma funcao que soma dois numeros e retorne o resultado\n",
        "def soma_dois_numeros(num1,num2):\n",
        "    soma = num1+num2\n",
        "    return soma"
      ]
    },
    {
      "cell_type": "code",
      "execution_count": 19,
      "metadata": {},
      "outputs": [
        {
          "data": {
            "text/plain": [
              "13"
            ]
          },
          "execution_count": 19,
          "metadata": {},
          "output_type": "execute_result"
        }
      ],
      "source": [
        "soma_dois_numeros(3,10)"
      ]
    },
    {
      "cell_type": "markdown",
      "metadata": {
        "id": "omnE5bmlVcDy"
      },
      "source": [
        "Se quisermos armazenar o valor da soma, podemos **retornar* o valor desta variável!<br>\n",
        "Daí, basta armazenar o resultado retornado em uma variável, **como fazíamos com o input()!**"
      ]
    },
    {
      "cell_type": "code",
      "execution_count": 20,
      "metadata": {},
      "outputs": [],
      "source": [
        "# armazenar em `resultado`\n",
        "resultado = soma_dois_numeros(10,3)"
      ]
    },
    {
      "cell_type": "markdown",
      "metadata": {},
      "source": [
        "**OBS.:** apenas o **valor** da variável é retornado, não o nome dela!! Fora da função, o nome de variável \"soma\" ainda continua não existindo!!"
      ]
    },
    {
      "cell_type": "code",
      "execution_count": 21,
      "metadata": {
        "id": "Xd6lHxZzVcDz"
      },
      "outputs": [
        {
          "ename": "NameError",
          "evalue": "name 'soma' is not defined",
          "output_type": "error",
          "traceback": [
            "\u001b[1;31m---------------------------------------------------------------------------\u001b[0m",
            "\u001b[1;31mNameError\u001b[0m                                 Traceback (most recent call last)",
            "Cell \u001b[1;32mIn[21], line 1\u001b[0m\n\u001b[1;32m----> 1\u001b[0m \u001b[43msoma\u001b[49m\n",
            "\u001b[1;31mNameError\u001b[0m: name 'soma' is not defined"
          ]
        }
      ],
      "source": [
        "soma # não existe"
      ]
    },
    {
      "cell_type": "markdown",
      "metadata": {
        "id": "k7Yr6dSbVcD1"
      },
      "source": [
        "Um outro exemplo:"
      ]
    },
    {
      "cell_type": "code",
      "execution_count": 23,
      "metadata": {
        "id": "XQYZ-YS6VcD1"
      },
      "outputs": [],
      "source": [
        "# criar funcao que cumprimenta de acordo com a hora do dia\n",
        "def cumprimenta(nome,hora):\n",
        "  if hora < 12:\n",
        "    return f'Bom dia, {nome}!'\n",
        "  elif hora < 18:\n",
        "    return f'Boa tarde, {nome}!'\n",
        "  else:\n",
        "    return f'Boa noite, {nome}!'"
      ]
    },
    {
      "cell_type": "code",
      "execution_count": 24,
      "metadata": {
        "id": "OnTZoRE7VcD1"
      },
      "outputs": [
        {
          "data": {
            "text/plain": [
              "'Bom dia, aluno esperto!'"
            ]
          },
          "execution_count": 24,
          "metadata": {},
          "output_type": "execute_result"
        }
      ],
      "source": [
        "# print\n",
        "cumprimenta('aluno esperto', 9)"
      ]
    },
    {
      "cell_type": "markdown",
      "metadata": {
        "id": "wMVU-zEtVcD2"
      },
      "source": [
        "Vamos elaborar um pouco mais?\n",
        "\n",
        "Que tal fazermos uma função calculadora?"
      ]
    },
    {
      "cell_type": "code",
      "execution_count": 25,
      "metadata": {
        "id": "4sb1bh81VcD2"
      },
      "outputs": [],
      "source": [
        "#func\n",
        "#Operações: +, -, *, /\n",
        "def calculadora(num1,num2,operacao):\n",
        "  if operacao == '+':\n",
        "    return num1+num2\n",
        "  elif operacao == '-':\n",
        "    return num1-num2\n",
        "  elif operacao == '*':\n",
        "    return num1*num2\n",
        "  elif operacao == '/':\n",
        "    if num2==0: print('Você já devia saber que não é possivel dividir por zero')\n",
        "    else: return num1/num2\n",
        "  else:\n",
        "    print('Passe uma operacao válida!')"
      ]
    },
    {
      "cell_type": "code",
      "execution_count": 27,
      "metadata": {
        "id": "SbzL6FkTVcEA"
      },
      "outputs": [
        {
          "data": {
            "text/plain": [
              "30"
            ]
          },
          "execution_count": 27,
          "metadata": {},
          "output_type": "execute_result"
        }
      ],
      "source": [
        "# multiplicação\n",
        "calculadora(3,10,'*')"
      ]
    },
    {
      "cell_type": "markdown",
      "metadata": {
        "id": "WOzyxW5jVcED"
      },
      "source": [
        "Também é possível utilizar a função calculadora para definir uma função que calcula a média entre dois números:"
      ]
    },
    {
      "cell_type": "code",
      "execution_count": 28,
      "metadata": {
        "id": "8XushL0tVcEE"
      },
      "outputs": [],
      "source": [
        "# criar uma funcao que utliza a funcao criada anteriormente\n",
        "def media_dois_numeros(num1,num2):\n",
        "    # media = soma de n items / n\n",
        "    media = calculadora(num1, num2, '+')/2\n",
        "    #retornar o valor\n",
        "    return media\n"
      ]
    },
    {
      "cell_type": "code",
      "execution_count": 29,
      "metadata": {
        "id": "anfG1eWvVcEF"
      },
      "outputs": [
        {
          "data": {
            "text/plain": [
              "6.0"
            ]
          },
          "execution_count": 29,
          "metadata": {},
          "output_type": "execute_result"
        }
      ],
      "source": [
        "media_dois_numeros(5,7)"
      ]
    },
    {
      "cell_type": "markdown",
      "metadata": {},
      "source": [
        "## Documentação"
      ]
    },
    {
      "cell_type": "markdown",
      "metadata": {},
      "source": [
        "Muitas vezes temos que trabalhar ou criar funções tão complexas que precisamos de alguma ajuda para entender como funciona a funcao. Por isso, criamos a documentação que ajuda você e outros possíveis usuários ou interessados a entender como funciona uma determinada função.\n",
        "\n",
        "Por exemplo: vamos ver a documentação da função `print` (basta procurar \"Documentation [nome da funcao]\")`:\n",
        "\n",
        "> <b>print(*objects, sep=' ', end='\\n', file=None, flush=False)</b>\n",
        "<br><br>Print objects to the text stream file, separated by sep and followed by end. sep, end, file, and flush, if present, must be given as keyword arguments.<br><br> All non-keyword arguments are converted to strings like str() does and written to the stream, separated by sep and followed by end. Both sep and end must be strings; they can also be None, which means to use the default values. If no objects are given, print() will just write end. <br><br>The file argument must be an object with a write(string) method; if it is not present or None, sys.stdout will be used. Since printed arguments are converted to text strings, print() cannot be used with binary mode file objects. For these, use file.write(...) instead.<br> <br>Output buffering is usually determined by file. However, if flush is true, the stream is forcibly flushed.<br><br>Changed in version 3.3: Added the flush keyword argument.\n",
        "\n",
        "Notem que a documentação geralmente está em inglês, ou seja, o inglês é super importante para crescer na área de programação/tecnologia.\n",
        "\n",
        "Outro ponto a destacar são os parâmetros da função. Neste caso temos 5 parâmetros: `objects`, `sep`, `end`, `file`, `flush`. Como utilizar cada um deles está escrito na documentação.\n",
        "\n",
        "Além disso, todos os argumentos, exceto o objects, já possuem um valor, que serão os argumentos padrão. Por exepmlo, se o usuario chamar a função e não passar nenhum valor explicitamente para o parâmetro `end`, ele entende que este parâmetro vai receber implicitamente o valor '\\n'."
      ]
    },
    {
      "cell_type": "markdown",
      "metadata": {},
      "source": [
        "Por exemplo, os dois comandos fazem a mesma coisa (por que os argumentos já são valores padrão):\n",
        "\n",
        "``` python\n",
        "print('mensagem a ser mostrada', sep=' ', end='\\n')\n",
        "```\n",
        "\n",
        "ou\n",
        "\n",
        "``` python\n",
        "print('mensagem a ser mostrada')\n",
        "```"
      ]
    },
    {
      "cell_type": "markdown",
      "metadata": {
        "id": "LcFpFegQVcEF"
      },
      "source": [
        "## Exercícios\n",
        "\n",
        "\n",
        "1) Faça uma função que recebe dois parâmetros: linhas e colunas e desenhe uma tabela usando os caracteres (-, |, + e espaços) com essas dimensões, exemplo:\n",
        "\n",
        "linhas: 3\n",
        "colunas: 5\n",
        "\n",
        "    -----------\n",
        "    | | | | | |\n",
        "    |-+-+-+-+-|\n",
        "    | | | | | |\n",
        "    |-+-+-+-+-|\n",
        "    | | | | | |\n",
        "    -----------"
      ]
    },
    {
      "cell_type": "code",
      "execution_count": 31,
      "metadata": {
        "id": "A55JsMP0VcEF"
      },
      "outputs": [],
      "source": [
        "def desenhar_tabela(linhas, colunas):\n",
        "  for i in range(linhas+1):\n",
        "    if i == 0:\n",
        "      print('-'*(2*colunas+1))\n",
        "    elif i>0 and i<linhas:\n",
        "      print('|'+' |'*colunas)\n",
        "      print('|'+'-+'*(colunas-1)+'-'+'|')\n",
        "    else:\n",
        "      print('|'+' |'*colunas)\n",
        "      print('-'*(2*colunas+1))"
      ]
    },
    {
      "cell_type": "code",
      "execution_count": 34,
      "metadata": {},
      "outputs": [
        {
          "name": "stdout",
          "output_type": "stream",
          "text": [
            "-----------\n",
            "| | | | | |\n",
            "|-+-+-+-+-|\n",
            "| | | | | |\n",
            "|-+-+-+-+-|\n",
            "| | | | | |\n",
            "-----------\n"
          ]
        }
      ],
      "source": [
        "desenhar_tabela(3,5)"
      ]
    },
    {
      "cell_type": "markdown",
      "metadata": {
        "id": "DwtRraSVVcEG"
      },
      "source": [
        "2) Faça uma função que recebe um texto e um letra e retorne a quantidade daquela letra naquele texto (ignore diferenças de capitalização, 'A' e 'a' são a mesma letra)"
      ]
    },
    {
      "cell_type": "code",
      "execution_count": 37,
      "metadata": {
        "id": "CqmlayVHVcEG"
      },
      "outputs": [],
      "source": [
        "def contar_letra(texto,letra):\n",
        "  texto = texto.lower()\n",
        "  letra = letra.lower()\n",
        "\n",
        "  #Criar um contador\n",
        "  contador = 0\n",
        "\n",
        "  for item in texto:\n",
        "    if item == letra: contador+=1\n",
        "\n",
        "  return f'a letra \"{letra}\" parace {contador} vezes'"
      ]
    },
    {
      "cell_type": "code",
      "execution_count": 38,
      "metadata": {},
      "outputs": [
        {
          "name": "stdout",
          "output_type": "stream",
          "text": [
            "a letra o parace 4 vezes\n"
          ]
        }
      ],
      "source": [
        "#Solicitar o texto\n",
        "texto = input('Digite um texto a ser avaliado: ')\n",
        "#Solicitar a letra a ser contada\n",
        "letra = input('Digite a letra a ser contada: ')\n",
        "\n",
        "#Chamar a função\n",
        "resposta = contar_letra(texto,letra)\n",
        "print(resposta)"
      ]
    },
    {
      "cell_type": "markdown",
      "metadata": {
        "id": "D2BLroQrVcEH"
      },
      "source": [
        "3) Escreva uma função que aceite um parâmetro `ano` e verifique se o ano é bissexto ou não, retornando True ou False.\n",
        "\n",
        "Obs.: No calendário gregoriano, duas condições são usadas para identificar anos \n",
        "bissextos:\n",
        "\n",
        "* O ano que pode ser dividido por 4, mas não por 100, é um ano bissexto; (ex: 2024)\n",
        "* O ano também é bissexto se for divisível por 400 (ex: 2000)"
      ]
    },
    {
      "cell_type": "code",
      "execution_count": null,
      "metadata": {
        "id": "kRgpw-gRVcEI"
      },
      "outputs": [],
      "source": [
        "def eh_bissexto(ano):\n",
        "  if (ano % 4 == 0 and not ano % 100 == 0) or (ano % 400 == 0):\n",
        "    return True\n",
        "  else:\n",
        "    return False\n",
        "#Solicitar um ano\n",
        "ano = int(input('Insira um ano: '))\n",
        "eh_bissexto(ano)"
      ]
    }
  ],
  "metadata": {
    "colab": {
      "provenance": []
    },
    "kernelspec": {
      "display_name": "Python 3",
      "language": "python",
      "name": "python3"
    },
    "language_info": {
      "codemirror_mode": {
        "name": "ipython",
        "version": 3
      },
      "file_extension": ".py",
      "mimetype": "text/x-python",
      "name": "python",
      "nbconvert_exporter": "python",
      "pygments_lexer": "ipython3",
      "version": "3.10.9"
    },
    "varInspector": {
      "cols": {
        "lenName": 16,
        "lenType": 16,
        "lenVar": 40
      },
      "kernels_config": {
        "python": {
          "delete_cmd_postfix": "",
          "delete_cmd_prefix": "del ",
          "library": "var_list.py",
          "varRefreshCmd": "print(var_dic_list())"
        },
        "r": {
          "delete_cmd_postfix": ") ",
          "delete_cmd_prefix": "rm(",
          "library": "var_list.r",
          "varRefreshCmd": "cat(var_dic_list()) "
        }
      },
      "types_to_exclude": [
        "module",
        "function",
        "builtin_function_or_method",
        "instance",
        "_Feature"
      ],
      "window_display": false
    }
  },
  "nbformat": 4,
  "nbformat_minor": 0
}
