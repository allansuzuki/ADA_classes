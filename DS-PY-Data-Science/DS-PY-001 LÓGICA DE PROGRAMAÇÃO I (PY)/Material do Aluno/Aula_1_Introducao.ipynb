{
  "cells": [
    {
      "cell_type": "markdown",
      "metadata": {
        "id": "SaAO0Mc0s1Oz"
      },
      "source": [
        "## 📍 Tópicos de Hoje 📍\n",
        "<br>\n",
        "\n",
        "🚶‍♂️ [Varíaveis](#um)\n",
        "\n",
        "🏃 [Operadores Matemáticos e Comunicação com o Usuário](#dois)\n",
        "    \n",
        "\n",
        "🌌 [Variáveis Globais e locais](#três)\n",
        "\n",
        "🎯 [Exercícios](#quatro)"
      ]
    },
    {
      "cell_type": "markdown",
      "metadata": {
        "id": "P9Ae7nAN9TGx"
      },
      "source": [
        "## **Problema:** Desenvolvimento de um Programa para Cálculo de Médias Simples e Ponderadas\n",
        "\n",
        "**Contexto:**\n",
        "\n",
        "Você foi designado para desenvolver um programa em Python que possa calcular médias simples e médias ponderadas a partir das entradas do usuário. Esse programa será útil para alunos, professores e profissionais que lidam com avaliações e precisam calcular diferentes tipos de médias com facilidade.\n",
        "\n",
        "**O que fazer nesse caso?**\n",
        "\n",
        "Antes de qualquer coisa, vamos entender alguns conceitos importantíssimos."
      ]
    },
    {
      "cell_type": "markdown",
      "metadata": {
        "id": "BBAZrBgxs1O1"
      },
      "source": [
        "## 📥 Varíaveis:📤 <a class=\"anchor\" id=\"um\"></a>\n",
        "\n",
        "&emsp; Váriaveis como o próprio diz são \"coisas\" variáveis, e usaremos elas para armazenar nossos dados.<br>\n",
        "\n",
        "&emsp; Dados possuem tipos:\n",
        "* **_string_** que armazena texto,\n",
        "* **_int_** que armazena números inteiros,\n",
        "* **_float_** que armazena números decimais (separados por ponto!), e\n",
        "* **_boolean_** que armazenará _true_ ou _false_.\n",
        "\n",
        "Embora o Python faça o trabalho de saber o que é o que sozinho, você precisa entender os tipos de dados para trabalhar com eles.<br>"
      ]
    },
    {
      "cell_type": "code",
      "execution_count": null,
      "metadata": {
        "id": "7dvdevkP6o0n"
      },
      "outputs": [],
      "source": [
        "#Variável inteira\n",
        "var_int = 10"
      ]
    },
    {
      "cell_type": "code",
      "execution_count": null,
      "metadata": {
        "colab": {
          "base_uri": "https://localhost:8080/"
        },
        "id": "oFtVadQV7Qr5",
        "outputId": "ada08f68-f6af-42d2-da57-93fae10be68a"
      },
      "outputs": [
        {
          "data": {
            "text/plain": [
              "10"
            ]
          },
          "execution_count": 2,
          "metadata": {},
          "output_type": "execute_result"
        }
      ],
      "source": [
        "#Mostrando o valor da variável\n",
        "var_int"
      ]
    },
    {
      "cell_type": "code",
      "execution_count": null,
      "metadata": {
        "colab": {
          "base_uri": "https://localhost:8080/"
        },
        "id": "SVmBTkJ37MLv",
        "outputId": "35375b78-aef6-4172-db31-a8128ee87a3e"
      },
      "outputs": [
        {
          "data": {
            "text/plain": [
              "int"
            ]
          },
          "execution_count": 4,
          "metadata": {},
          "output_type": "execute_result"
        }
      ],
      "source": [
        "#Tipo de uma variável\n",
        "type(var_int)"
      ]
    },
    {
      "cell_type": "code",
      "execution_count": null,
      "metadata": {
        "id": "wZc8QqAC7QZB"
      },
      "outputs": [],
      "source": [
        "#Mudando o conteúdo de uma variável\n",
        "var_int = 10.0"
      ]
    },
    {
      "cell_type": "code",
      "execution_count": null,
      "metadata": {
        "colab": {
          "base_uri": "https://localhost:8080/"
        },
        "id": "sdSWIHx4-syY",
        "outputId": "907615c9-d156-4154-aaf9-1eee51ed910b"
      },
      "outputs": [
        {
          "data": {
            "text/plain": [
              "10.0"
            ]
          },
          "execution_count": 6,
          "metadata": {},
          "output_type": "execute_result"
        }
      ],
      "source": [
        "#Mostrando o valor da variável\n",
        "var_int"
      ]
    },
    {
      "cell_type": "code",
      "execution_count": null,
      "metadata": {
        "colab": {
          "base_uri": "https://localhost:8080/"
        },
        "id": "7yYDBoAr-uYD",
        "outputId": "e811b77e-5c3e-4168-ac9a-6aa5ece9d3b8"
      },
      "outputs": [
        {
          "data": {
            "text/plain": [
              "float"
            ]
          },
          "execution_count": 7,
          "metadata": {},
          "output_type": "execute_result"
        }
      ],
      "source": [
        "#Vendo o tipo\n",
        "type(var_int)"
      ]
    },
    {
      "cell_type": "code",
      "execution_count": null,
      "metadata": {
        "id": "CgO0rcYns1O3"
      },
      "outputs": [],
      "source": [
        "#Criando variáveis dos 4 tipos principais\n",
        "var_int = 10\n",
        "var_float = 10.0\n",
        "var_bool = False\n",
        "var_str = 'Bootcamp Cielo'"
      ]
    },
    {
      "cell_type": "code",
      "execution_count": null,
      "metadata": {
        "colab": {
          "base_uri": "https://localhost:8080/"
        },
        "id": "Azf2dzhJ73J1",
        "outputId": "6e9b9128-45a9-4bad-afc2-659b8f3fb5b3"
      },
      "outputs": [
        {
          "data": {
            "text/plain": [
              "10"
            ]
          },
          "execution_count": 9,
          "metadata": {},
          "output_type": "execute_result"
        }
      ],
      "source": [
        "var_int"
      ]
    },
    {
      "cell_type": "code",
      "execution_count": null,
      "metadata": {
        "colab": {
          "base_uri": "https://localhost:8080/"
        },
        "id": "2T1_a1xx74qd",
        "outputId": "d86d08fe-cb8f-4ed3-b142-7b093c08dcfb"
      },
      "outputs": [
        {
          "data": {
            "text/plain": [
              "10.0"
            ]
          },
          "execution_count": 10,
          "metadata": {},
          "output_type": "execute_result"
        }
      ],
      "source": [
        "var_float"
      ]
    },
    {
      "cell_type": "code",
      "execution_count": null,
      "metadata": {
        "colab": {
          "base_uri": "https://localhost:8080/"
        },
        "id": "qnfNPOh576ai",
        "outputId": "e1ad776e-c60b-4b70-9025-68969d777860"
      },
      "outputs": [
        {
          "data": {
            "text/plain": [
              "False"
            ]
          },
          "execution_count": 11,
          "metadata": {},
          "output_type": "execute_result"
        }
      ],
      "source": [
        "var_bool"
      ]
    },
    {
      "cell_type": "code",
      "execution_count": null,
      "metadata": {
        "colab": {
          "base_uri": "https://localhost:8080/",
          "height": 36
        },
        "id": "BTaroEby77xJ",
        "outputId": "18578399-83cb-400b-abf9-4fc060063138"
      },
      "outputs": [
        {
          "data": {
            "application/vnd.google.colaboratory.intrinsic+json": {
              "type": "string"
            },
            "text/plain": [
              "'Bootcamp Cielo'"
            ]
          },
          "execution_count": 12,
          "metadata": {},
          "output_type": "execute_result"
        }
      ],
      "source": [
        "var_str"
      ]
    },
    {
      "cell_type": "markdown",
      "metadata": {
        "id": "4QsQbPYas1O5"
      },
      "source": [
        "&emsp; Os tipos podem ser explicitados usando :\n",
        "\n",
        "**tipoDado** depois do nome da variável, além disso podemos fazer o _cast_ (mudança de tipo) usando _tipoDado(dadoQueQuerConverter)_ entre variaveis de diferentes tipos, mas note que isso pode gerar problemas se feito deliberadamente:<br>"
      ]
    },
    {
      "cell_type": "code",
      "execution_count": null,
      "metadata": {
        "id": "suelcK1bUwbc"
      },
      "outputs": [],
      "source": [
        "#Declarando uma variável inteira\n",
        "idade:int = 31"
      ]
    },
    {
      "cell_type": "code",
      "execution_count": null,
      "metadata": {
        "colab": {
          "base_uri": "https://localhost:8080/"
        },
        "id": "djlGi8gKvFiF",
        "outputId": "e9acc1f9-f252-441f-9eee-973f9e9cafbb"
      },
      "outputs": [
        {
          "data": {
            "text/plain": [
              "31"
            ]
          },
          "execution_count": 16,
          "metadata": {},
          "output_type": "execute_result"
        }
      ],
      "source": [
        "idade"
      ]
    },
    {
      "cell_type": "code",
      "execution_count": null,
      "metadata": {
        "colab": {
          "base_uri": "https://localhost:8080/"
        },
        "id": "sOmm9LlvAUZ6",
        "outputId": "34135487-e717-4004-ba8a-3282ac4e771d"
      },
      "outputs": [
        {
          "data": {
            "text/plain": [
              "int"
            ]
          },
          "execution_count": 14,
          "metadata": {},
          "output_type": "execute_result"
        }
      ],
      "source": [
        "type(idade)"
      ]
    },
    {
      "cell_type": "code",
      "execution_count": null,
      "metadata": {
        "colab": {
          "base_uri": "https://localhost:8080/"
        },
        "id": "M8AYz5WEUzDM",
        "outputId": "04878f56-df28-40b9-a35e-4e109d226081"
      },
      "outputs": [
        {
          "name": "stdout",
          "output_type": "stream",
          "text": [
            "31 <class 'str'>\n"
          ]
        }
      ],
      "source": [
        "idade_str = str(idade)\n",
        "print(idade_str,type(idade_str))"
      ]
    },
    {
      "cell_type": "code",
      "execution_count": null,
      "metadata": {
        "colab": {
          "base_uri": "https://localhost:8080/"
        },
        "id": "OXnF2aAIs1O6",
        "outputId": "54036c16-a471-4c08-f599-299423c3b997"
      },
      "outputs": [
        {
          "data": {
            "text/plain": [
              "False"
            ]
          },
          "execution_count": 17,
          "metadata": {},
          "output_type": "execute_result"
        }
      ],
      "source": [
        "idade == idade_str"
      ]
    },
    {
      "cell_type": "code",
      "execution_count": null,
      "metadata": {
        "colab": {
          "base_uri": "https://localhost:8080/"
        },
        "id": "g1bTd1erVqP1",
        "outputId": "24e9bf9b-cbb8-4cef-8d1e-d8501cccb81a"
      },
      "outputs": [
        {
          "data": {
            "text/plain": [
              "True"
            ]
          },
          "execution_count": 18,
          "metadata": {},
          "output_type": "execute_result"
        }
      ],
      "source": [
        "bool(1)"
      ]
    },
    {
      "cell_type": "code",
      "execution_count": null,
      "metadata": {
        "colab": {
          "base_uri": "https://localhost:8080/"
        },
        "id": "0bRiRtHhVyp9",
        "outputId": "5cb3c71e-4762-47b5-b20e-77e71db9d74c"
      },
      "outputs": [
        {
          "data": {
            "text/plain": [
              "True"
            ]
          },
          "execution_count": 19,
          "metadata": {},
          "output_type": "execute_result"
        }
      ],
      "source": [
        "bool(1.0)"
      ]
    },
    {
      "cell_type": "code",
      "execution_count": null,
      "metadata": {
        "colab": {
          "base_uri": "https://localhost:8080/"
        },
        "id": "KjKOcVViVr7n",
        "outputId": "a96dc5ef-3c0e-43b5-dc9a-7d6cda4bfecb"
      },
      "outputs": [
        {
          "data": {
            "text/plain": [
              "False"
            ]
          },
          "execution_count": 20,
          "metadata": {},
          "output_type": "execute_result"
        }
      ],
      "source": [
        "bool(0)"
      ]
    },
    {
      "cell_type": "code",
      "execution_count": null,
      "metadata": {
        "colab": {
          "base_uri": "https://localhost:8080/"
        },
        "id": "EzaMDs89Vu2F",
        "outputId": "94aaa860-6029-4523-c318-08caebc648ae"
      },
      "outputs": [
        {
          "data": {
            "text/plain": [
              "True"
            ]
          },
          "execution_count": 23,
          "metadata": {},
          "output_type": "execute_result"
        }
      ],
      "source": [
        "bool(\"False\")"
      ]
    },
    {
      "cell_type": "code",
      "execution_count": null,
      "metadata": {
        "colab": {
          "base_uri": "https://localhost:8080/"
        },
        "id": "ak3xu2t-WECH",
        "outputId": "a30ad945-5bd3-4f81-86bc-6ec9e7bf6a68"
      },
      "outputs": [
        {
          "data": {
            "text/plain": [
              "1"
            ]
          },
          "execution_count": 24,
          "metadata": {},
          "output_type": "execute_result"
        }
      ],
      "source": [
        "int(True)"
      ]
    },
    {
      "cell_type": "code",
      "execution_count": null,
      "metadata": {
        "colab": {
          "base_uri": "https://localhost:8080/"
        },
        "id": "MS9THzr1V9y9",
        "outputId": "ba59b126-58ee-4d0a-b442-414ce95f373b"
      },
      "outputs": [
        {
          "data": {
            "text/plain": [
              "0"
            ]
          },
          "execution_count": 25,
          "metadata": {},
          "output_type": "execute_result"
        }
      ],
      "source": [
        "int(False)"
      ]
    },
    {
      "cell_type": "markdown",
      "metadata": {
        "id": "ma2p-IxQs1O8"
      },
      "source": [
        "&emsp; Sempre tente usar nomes que façam sentidos no seu programa para não se atrapalharem, isso fará mais sentido nos exercícios.<br>\n",
        "&emsp; No Python podemos definir muitas variáveis numa mesma linha com valores diferentes ou o mesmo valor.<br>"
      ]
    },
    {
      "cell_type": "code",
      "execution_count": null,
      "metadata": {
        "id": "QRt0oVed_TBo"
      },
      "outputs": [],
      "source": [
        "a, b, c = 1, 2, 3"
      ]
    },
    {
      "cell_type": "code",
      "execution_count": null,
      "metadata": {
        "colab": {
          "base_uri": "https://localhost:8080/"
        },
        "id": "dX-bHRpt_lDa",
        "outputId": "222757d0-8ff9-4b95-d75d-c21923fe8388"
      },
      "outputs": [
        {
          "data": {
            "text/plain": [
              "1"
            ]
          },
          "execution_count": 27,
          "metadata": {},
          "output_type": "execute_result"
        }
      ],
      "source": [
        "a"
      ]
    },
    {
      "cell_type": "code",
      "execution_count": null,
      "metadata": {
        "colab": {
          "base_uri": "https://localhost:8080/"
        },
        "id": "lZSiGjaPs1O9",
        "outputId": "c247d091-6868-448c-e904-27b994767177"
      },
      "outputs": [
        {
          "data": {
            "text/plain": [
              "2"
            ]
          },
          "execution_count": 28,
          "metadata": {},
          "output_type": "execute_result"
        }
      ],
      "source": [
        "b"
      ]
    },
    {
      "cell_type": "code",
      "execution_count": null,
      "metadata": {
        "colab": {
          "base_uri": "https://localhost:8080/"
        },
        "id": "wq5krGyqXnX6",
        "outputId": "258fc06f-cf15-491b-d1b3-54ecd42444a3"
      },
      "outputs": [
        {
          "data": {
            "text/plain": [
              "3"
            ]
          },
          "execution_count": 29,
          "metadata": {},
          "output_type": "execute_result"
        }
      ],
      "source": [
        "c"
      ]
    },
    {
      "cell_type": "code",
      "execution_count": null,
      "metadata": {
        "id": "qKpHMvDPXoQF"
      },
      "outputs": [],
      "source": [
        "complexo = 3 + 6j"
      ]
    },
    {
      "cell_type": "code",
      "execution_count": null,
      "metadata": {
        "colab": {
          "base_uri": "https://localhost:8080/"
        },
        "id": "M4dcG6oWDA5U",
        "outputId": "05b9e19e-62ff-4579-881c-0a40f47582f5"
      },
      "outputs": [
        {
          "name": "stdout",
          "output_type": "stream",
          "text": [
            "(3+6j)\n"
          ]
        }
      ],
      "source": [
        "print(complexo)"
      ]
    },
    {
      "cell_type": "markdown",
      "metadata": {
        "id": "d1b08781"
      },
      "source": [
        "**Input**\n",
        "\n",
        "A funcão input() irá ler uma entrada de usuário em formato de string (portanto se você espera outro tipo de dado deverá fazer o cast), e podemos colocar outra string dentro dos parênteses que será a pergunta feita ao usuário.\n",
        "\n",
        "**Print**\n",
        "\n",
        "A funcão print() irá imprimir algo para o usuário, e receberá o que ela deve imprimir dentro dos parênteses, podendo ser variáveis, textos e a mistura dos dois.\n"
      ]
    },
    {
      "cell_type": "markdown",
      "metadata": {
        "id": "iCuOplqKEk5n"
      },
      "source": [
        "Calculando o IMC de uma pessoa."
      ]
    },
    {
      "cell_type": "code",
      "execution_count": null,
      "metadata": {
        "colab": {
          "base_uri": "https://localhost:8080/"
        },
        "id": "a08a497d",
        "outputId": "b66e8e1b-6179-4bc5-a9ea-f2e887b295fa",
        "scrolled": true
      },
      "outputs": [
        {
          "name": "stdout",
          "output_type": "stream",
          "text": [
            "Qual o seu peso? 76.3\n"
          ]
        }
      ],
      "source": [
        "#Pedir ao usuário o seu peso\n",
        "peso = float(input(\"Qual o seu peso? (kg)\"))"
      ]
    },
    {
      "cell_type": "code",
      "execution_count": null,
      "metadata": {
        "colab": {
          "base_uri": "https://localhost:8080/"
        },
        "id": "iOePfJDIAa_Z",
        "outputId": "e29cba3b-e1a0-45dd-e48d-d0d8e7f1d0cc"
      },
      "outputs": [
        {
          "data": {
            "text/plain": [
              "76.3"
            ]
          },
          "execution_count": 33,
          "metadata": {},
          "output_type": "execute_result"
        }
      ],
      "source": [
        "peso"
      ]
    },
    {
      "cell_type": "code",
      "execution_count": null,
      "metadata": {
        "colab": {
          "base_uri": "https://localhost:8080/"
        },
        "id": "q92V-OLYzln9",
        "outputId": "8f2380b9-e6c3-408d-f6f5-78e162cfb797"
      },
      "outputs": [
        {
          "name": "stdout",
          "output_type": "stream",
          "text": [
            "Qual a sua altura? 1.68\n"
          ]
        }
      ],
      "source": [
        "#Pedir a altura ao usuário\n",
        "altura = float(input(\"Qual a sua altura? (m)\"))"
      ]
    },
    {
      "cell_type": "code",
      "execution_count": null,
      "metadata": {
        "colab": {
          "base_uri": "https://localhost:8080/"
        },
        "id": "Eyqp4ADGA3vy",
        "outputId": "8196a1b2-795b-482b-9e73-e7c7e9e6c775"
      },
      "outputs": [
        {
          "data": {
            "text/plain": [
              "1.68"
            ]
          },
          "execution_count": 35,
          "metadata": {},
          "output_type": "execute_result"
        }
      ],
      "source": [
        "altura"
      ]
    },
    {
      "cell_type": "code",
      "execution_count": null,
      "metadata": {
        "colab": {
          "base_uri": "https://localhost:8080/"
        },
        "id": "TzucbPKTzrSX",
        "outputId": "1a7573a5-eca8-4570-edc8-c68534672494"
      },
      "outputs": [
        {
          "data": {
            "text/plain": [
              "27.03373015873016"
            ]
          },
          "execution_count": 40,
          "metadata": {},
          "output_type": "execute_result"
        }
      ],
      "source": [
        "IMC"
      ]
    },
    {
      "cell_type": "code",
      "execution_count": null,
      "metadata": {
        "id": "Ln5FZ_DIzvwk"
      },
      "outputs": [],
      "source": [
        "#Calcular o IMC\n",
        "IMC = peso/(altura**2)"
      ]
    },
    {
      "cell_type": "code",
      "execution_count": null,
      "metadata": {
        "colab": {
          "base_uri": "https://localhost:8080/"
        },
        "id": "CRrCiBmxz3Xt",
        "outputId": "b0a24cf4-a714-4b32-d7f6-56ae346f3d93"
      },
      "outputs": [
        {
          "name": "stdout",
          "output_type": "stream",
          "text": [
            "O seu IMC é: 27.034\n"
          ]
        }
      ],
      "source": [
        "#Mostrar ao usuário o seu IMC\n",
        "print(\"O seu IMC é:\",round(IMC,3))"
      ]
    },
    {
      "cell_type": "code",
      "execution_count": null,
      "metadata": {
        "colab": {
          "base_uri": "https://localhost:8080/"
        },
        "id": "SgCB9IizKTJm",
        "outputId": "20c44d98-61a7-47d6-b312-1a83830515fd"
      },
      "outputs": [
        {
          "name": "stdout",
          "output_type": "stream",
          "text": [
            "O seu IMC é 27.034\n"
          ]
        }
      ],
      "source": [
        "print(f\"O seu IMC é {IMC:.3f}\")"
      ]
    },
    {
      "cell_type": "markdown",
      "metadata": {
        "id": "zIgx0dBbs1O9"
      },
      "source": [
        "## 🧮 Operadores Matemáticos e Comunicação com o Usuário 🧮 <a class=\"anchor\" id=\"dois\"></a>\n",
        "\n",
        "### Operadores Matemáticos\n",
        "\n",
        "&emsp; O Python faz operações matemáticas entre variáveis e dados puros, a seguir temos uma tabela com os operadores e suas funções:<br>\n",
        "\n",
        "| Operador | Função           |\n",
        "|----------|------------------|\n",
        "| +        | Adição           |\n",
        "| -        | Subtração        |\n",
        "| *        | Multiplicação    |\n",
        "| /        | Divisão          |\n",
        "| %        | Resto de divisão |\n",
        "| **       | Potênciação      |\n",
        "| //       | Divisão Inteira  |\n",
        "\n",
        "&emsp; Além disso, fazemos uso de parênteses para definir ordem de contas assim como na matemática.<br>"
      ]
    },
    {
      "cell_type": "code",
      "execution_count": null,
      "metadata": {
        "id": "2PbVXIsfCYcL"
      },
      "outputs": [],
      "source": [
        "num1 = 5.0\n",
        "num2 = 4"
      ]
    },
    {
      "cell_type": "code",
      "execution_count": null,
      "metadata": {
        "colab": {
          "base_uri": "https://localhost:8080/"
        },
        "id": "Pq5tfPICCaVc",
        "outputId": "e1323d79-2ec9-4909-be23-014148a98789"
      },
      "outputs": [
        {
          "data": {
            "text/plain": [
              "9.0"
            ]
          },
          "execution_count": 43,
          "metadata": {},
          "output_type": "execute_result"
        }
      ],
      "source": [
        "num1+num2"
      ]
    },
    {
      "cell_type": "code",
      "execution_count": null,
      "metadata": {
        "colab": {
          "base_uri": "https://localhost:8080/"
        },
        "id": "DWqkfQZdBqrh",
        "outputId": "ab9fb88c-1ffa-438d-ce7c-3b025d47935b"
      },
      "outputs": [
        {
          "data": {
            "text/plain": [
              "1"
            ]
          },
          "execution_count": 44,
          "metadata": {},
          "output_type": "execute_result"
        }
      ],
      "source": [
        "False + 1"
      ]
    },
    {
      "cell_type": "code",
      "execution_count": null,
      "metadata": {
        "colab": {
          "base_uri": "https://localhost:8080/"
        },
        "id": "cWHOAFnUZnZI",
        "outputId": "8cb3c68a-f3b0-40c9-cde2-fed3010e1470"
      },
      "outputs": [
        {
          "data": {
            "text/plain": [
              "1.0"
            ]
          },
          "execution_count": 45,
          "metadata": {},
          "output_type": "execute_result"
        }
      ],
      "source": [
        "num1-num2"
      ]
    },
    {
      "cell_type": "code",
      "execution_count": null,
      "metadata": {
        "colab": {
          "base_uri": "https://localhost:8080/"
        },
        "id": "4micn7AHZp4B",
        "outputId": "89ad6a78-02a0-4a07-f16f-130903b99b40"
      },
      "outputs": [
        {
          "data": {
            "text/plain": [
              "20.0"
            ]
          },
          "execution_count": 46,
          "metadata": {},
          "output_type": "execute_result"
        }
      ],
      "source": [
        "num1*num2"
      ]
    },
    {
      "cell_type": "code",
      "execution_count": null,
      "metadata": {
        "colab": {
          "base_uri": "https://localhost:8080/"
        },
        "id": "eQdVCIrUCntz",
        "outputId": "9f499feb-2823-4451-b84f-850b82814fc3"
      },
      "outputs": [
        {
          "data": {
            "text/plain": [
              "1.25"
            ]
          },
          "execution_count": 47,
          "metadata": {},
          "output_type": "execute_result"
        }
      ],
      "source": [
        "num1/num2"
      ]
    },
    {
      "cell_type": "code",
      "execution_count": null,
      "metadata": {
        "colab": {
          "base_uri": "https://localhost:8080/"
        },
        "id": "9EudPMxHCpap",
        "outputId": "5df91c9b-245a-4eb8-dab7-5549f163ca39"
      },
      "outputs": [
        {
          "data": {
            "text/plain": [
              "1.0"
            ]
          },
          "execution_count": 48,
          "metadata": {},
          "output_type": "execute_result"
        }
      ],
      "source": [
        "num1%num2"
      ]
    },
    {
      "cell_type": "code",
      "execution_count": null,
      "metadata": {
        "id": "y8-SS-zD1xGT"
      },
      "outputs": [],
      "source": [
        "5|_4\n",
        "1  1"
      ]
    },
    {
      "cell_type": "code",
      "execution_count": null,
      "metadata": {
        "colab": {
          "base_uri": "https://localhost:8080/"
        },
        "id": "e_wZJNPuCqsc",
        "outputId": "8c958850-80a3-46da-bd0b-0e74122460c6"
      },
      "outputs": [
        {
          "data": {
            "text/plain": [
              "1.0"
            ]
          },
          "execution_count": 49,
          "metadata": {},
          "output_type": "execute_result"
        }
      ],
      "source": [
        "num1//num2"
      ]
    },
    {
      "cell_type": "code",
      "execution_count": null,
      "metadata": {
        "colab": {
          "base_uri": "https://localhost:8080/"
        },
        "id": "9mV2NxONCwvn",
        "outputId": "73ccbe8e-46f3-4fdb-f736-8ecbebbca1b0"
      },
      "outputs": [
        {
          "data": {
            "text/plain": [
              "625.0"
            ]
          },
          "execution_count": 50,
          "metadata": {},
          "output_type": "execute_result"
        }
      ],
      "source": [
        "num1**num2"
      ]
    },
    {
      "cell_type": "code",
      "execution_count": null,
      "metadata": {
        "colab": {
          "base_uri": "https://localhost:8080/",
          "height": 36
        },
        "id": "fzpxRTEACyJh",
        "outputId": "6e285855-ae02-48d2-8ce7-e41a30a69dbb"
      },
      "outputs": [
        {
          "data": {
            "application/vnd.google.colaboratory.intrinsic+json": {
              "type": "string"
            },
            "text/plain": [
              "'kkk'"
            ]
          },
          "execution_count": 54,
          "metadata": {},
          "output_type": "execute_result"
        }
      ],
      "source": [
        "'k'*3"
      ]
    },
    {
      "cell_type": "code",
      "execution_count": null,
      "metadata": {
        "colab": {
          "base_uri": "https://localhost:8080/",
          "height": 36
        },
        "id": "QqhpGY6qDjiJ",
        "outputId": "62676111-f937-4793-8d66-8a8ab9b9e3e4"
      },
      "outputs": [
        {
          "data": {
            "application/vnd.google.colaboratory.intrinsic+json": {
              "type": "string"
            },
            "text/plain": [
              "'kkk'"
            ]
          },
          "execution_count": 55,
          "metadata": {},
          "output_type": "execute_result"
        }
      ],
      "source": [
        "\"k\"+\"k\"+\"k\""
      ]
    },
    {
      "cell_type": "markdown",
      "metadata": {
        "id": "ZjcdGozf-KKA"
      },
      "source": [
        "## **Desafio:**\n",
        "\n",
        "O desafio consiste em criar um programa interativo que permita ao usuário inserir os valores necessários para o cálculo da média simples e ponderada. O programa deve oferecer a funcionalidade de calcular ambas as médias, baseando-se nas entradas fornecidas."
      ]
    },
    {
      "cell_type": "markdown",
      "metadata": {
        "id": "Jyi_3EUg-X5G"
      },
      "source": [
        "### **INSTRUÇÕES:**\n",
        "\n",
        "Faça um programa que peça notas bimestrais (1°, 2°, 3° e 4° bimestres) e mostre a média do aluno.\n",
        "\n",
        "* Calcule também a média ponderada, sabendo que o 1° bimestre tem peso de 10%, o 2° 20%, o 3° 30% e o 4° 40%."
      ]
    },
    {
      "cell_type": "code",
      "execution_count": 2,
      "metadata": {
        "id": "NtWXKaDG-MCm"
      },
      "outputs": [
        {
          "name": "stdout",
          "output_type": "stream",
          "text": [
            "A sua média simples é: 9.1875\n",
            "A sua média ponderada é: 9.51\n"
          ]
        }
      ],
      "source": [
        "nota_1 = float(input('Digite a nota do 1° bimestre: '))\n",
        "nota_2 = float(input('Digite a nota do 2° bimestre: '))\n",
        "nota_3 = float(input('Digite a nota do 3° bimestre: '))\n",
        "nota_4 = float(input('Digite a nota do 4° bimestre: '))\n",
        "peso_1, peso_2, peso_3, peso_4 = 10, 20, 30, 40\n",
        "#Calculando a média simples\n",
        "media_simples = (nota_1+nota_2+nota_3+nota_4)/4\n",
        "print('A sua média simples é:', media_simples)\n",
        "#Calculando a média ponderada\n",
        "media_ponderada = (nota_1*peso_1+nota_2*peso_2+nota_3*peso_3+nota_4*peso_4)/(peso_1+peso_2+peso_3+peso_4)\n",
        "print('A sua média ponderada é:', media_ponderada)"
      ]
    },
    {
      "cell_type": "markdown",
      "metadata": {
        "id": "heOfG5XgGK7l"
      },
      "source": [
        "## 🌌 Variáveis Globais e locais 🌌 <a class=\"anchor\" id=\"três\"></a>\n",
        "\n",
        "&emsp;  Variáveis declaradas dentro de uma função possuem escopo **local**, ou seja, não podem ser acessadas fora da função. Ao se usar o mesmo nome para designar uma variávei dentro e fora da função, elas são objetos distintos.\n",
        "\n"
      ]
    },
    {
      "cell_type": "code",
      "execution_count": null,
      "metadata": {
        "id": "sYWwOTAUGx8_"
      },
      "outputs": [],
      "source": [
        "var = 10\n",
        "\n",
        "def mudaEimprime():\n",
        "    var = 7\n",
        "    print(\"O valor de 'var' dentro da função:\",var)"
      ]
    },
    {
      "cell_type": "code",
      "execution_count": null,
      "metadata": {
        "id": "0T4KdehhEuVO"
      },
      "outputs": [],
      "source": [
        "print(\"O valor de 'var' antes da função:\",var)\n",
        "mudaEimprime()\n",
        "print(\"O valor de 'var' depois da função:\",var)"
      ]
    },
    {
      "cell_type": "markdown",
      "metadata": {
        "id": "tmUu6KkjGuyj"
      },
      "source": [
        "Para indicar que as 2 variáveis são de fato a mesma, é necessário utilizar a palavra reservada **global**."
      ]
    },
    {
      "cell_type": "code",
      "execution_count": null,
      "metadata": {
        "id": "p2WhgzjVHjz4"
      },
      "outputs": [],
      "source": [
        "var = 10\n",
        "\n",
        "def mudaEimprime():\n",
        "    global var\n",
        "    var = 7\n",
        "    print(\"O valor de 'var' dentro da função:\",var)"
      ]
    },
    {
      "cell_type": "code",
      "execution_count": null,
      "metadata": {
        "id": "rEskvojSFMAx"
      },
      "outputs": [],
      "source": [
        "print(\"O valor de 'var' antes da função:\",var)\n",
        "mudaEimprime()\n",
        "print(\"O valor de 'var' depois da função:\",var)"
      ]
    },
    {
      "cell_type": "markdown",
      "metadata": {
        "id": "ksWegZoKs1PA"
      },
      "source": [
        "## 🎯 Exercícios 🎯 <a class=\"anchor\" id=\"cinco\"></a>\n"
      ]
    },
    {
      "cell_type": "markdown",
      "metadata": {
        "id": "8dC6HWDC1SS1"
      },
      "source": [
        "1) Faça um programa que mostre a mensagem “Olá, mundo” na tela."
      ]
    },
    {
      "cell_type": "code",
      "execution_count": 3,
      "metadata": {
        "id": "h0LotB4R_mM5"
      },
      "outputs": [
        {
          "name": "stdout",
          "output_type": "stream",
          "text": [
            "Olá, mundo!\n"
          ]
        }
      ],
      "source": [
        "print('Olá, mundo!')"
      ]
    },
    {
      "cell_type": "markdown",
      "metadata": {
        "id": "y11O0G_Y1SS2"
      },
      "source": [
        "2) Faça um programa que pergunte ao usuário o seu salário bruto, calculando os seguintes\n",
        "descontos:\n",
        "\n",
        "* Imposto de Renda: 15%;\n",
        "* INSS: 11%;\n",
        "* Sindicato: 5%.\n",
        "\n",
        "Por fim, calcule e imprima o salário líquido do usuário"
      ]
    },
    {
      "cell_type": "code",
      "execution_count": 5,
      "metadata": {
        "id": "5wQiJNf6AHhH"
      },
      "outputs": [
        {
          "name": "stdout",
          "output_type": "stream",
          "text": [
            "Seu salário bruto é R$5600.0, descontando os impostos, você recebe R$3864.0.\n"
          ]
        }
      ],
      "source": [
        "salario_bruto = float(input('Qual o seu salário bruto? '))\n",
        "imp_renda = 0.15\n",
        "imp_inss = 0.11\n",
        "imp_sind = 0.05\n",
        "salario_liquido = salario_bruto - salario_bruto*(imp_renda+imp_inss+imp_sind)\n",
        "print(f'Seu salário bruto é R${salario_bruto}, descontando os impostos, você recebe R${salario_liquido:.1f}.')"
      ]
    },
    {
      "cell_type": "markdown",
      "metadata": {
        "id": "JsKIlMNc1SS3"
      },
      "source": [
        "3) Faça um programa que peça a temperatura em graus Celsius (°C), transformando-a em\n",
        "graus Fahrenheit (°F), com a seguinte fórmula:\n",
        "\n",
        "$$\n",
        "°F=\\frac{9}{5}*°C+32\n",
        "$$\n",
        "\n",
        "Por fim, imprima a temperatura em °F."
      ]
    },
    {
      "cell_type": "code",
      "execution_count": 7,
      "metadata": {
        "id": "pnF6Z5N4AhVy"
      },
      "outputs": [
        {
          "name": "stdout",
          "output_type": "stream",
          "text": [
            "Convertendo a temperatura 33.33°C em Farenheit, obtem-se o valor 91.994°F.\n"
          ]
        }
      ],
      "source": [
        "temperatura_Celsius = float(input('Digite uma temperatura em graus Celsius (°C): '))\n",
        "temperatura_Fahrenheit = (9/5)*temperatura_Celsius+32\n",
        "print(f'Convertendo a temperatura {temperatura_Celsius}°C em Farenheit, obtem-se o valor {temperatura_Fahrenheit}°F.')"
      ]
    },
    {
      "cell_type": "markdown",
      "metadata": {
        "id": "MtdvWunWGlD3"
      },
      "source": [
        "# Acabooou! 🎉 Agradeço pela atenção de todos! 😄\n",
        "## Qualquer duvida não hesitem em me chamar. 👩‍💻"
      ]
    }
  ],
  "metadata": {
    "colab": {
      "provenance": []
    },
    "kernelspec": {
      "display_name": "Python 3",
      "language": "python",
      "name": "python3"
    },
    "language_info": {
      "codemirror_mode": {
        "name": "ipython",
        "version": 3
      },
      "file_extension": ".py",
      "mimetype": "text/x-python",
      "name": "python",
      "nbconvert_exporter": "python",
      "pygments_lexer": "ipython3",
      "version": "3.11.4"
    }
  },
  "nbformat": 4,
  "nbformat_minor": 0
}
