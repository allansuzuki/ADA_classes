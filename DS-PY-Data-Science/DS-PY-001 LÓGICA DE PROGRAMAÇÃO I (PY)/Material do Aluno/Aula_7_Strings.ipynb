{
  "cells": [
    {
      "cell_type": "markdown",
      "metadata": {
        "id": "uCfq622lVxXW"
      },
      "source": [
        "## 🎯 Tópicos - Aula 7 - Strings em Python 🎯<br>\n",
        "\n",
        "💡 [Problema](#zero)\n",
        "\n",
        "📍 [Índice](#um)\n",
        "\n",
        "➕ [Concatenação](#dois)\n",
        "\n",
        "🆗 [Comparação entre Strings](#tres)\n",
        "\n",
        "📜 [Métodos de Strings](#quatro)\n",
        "\n",
        "➗ [Slicing](#cinco)"
      ]
    },
    {
      "cell_type": "markdown",
      "metadata": {},
      "source": [
        "## Problema <a class=\"anchor\" id=\"zero\"></a>\n",
        "\n",
        "\n",
        "Você está desenvolvendo uma ferramenta de moderação de conteúdo para um Marketplace. O objetivo é criar um programa em Python que processe o texto do anúncio do usuário para torná-lo mais adequado para exibição pública, preservando a privacidade. Implemente as seguintes tarefas:\n",
        "\n",
        "**Filtro de Palavrões**: Substitua palavrões no texto por '*'. O número de asteriscos deve ser igual ao tamanho de cada palavra. Use uma lista de palavras impróprias.\n",
        "\n",
        "**Máscara de Informações Sensíveis**:  Detecte e mascare informações sensíveis, como endereços de e-mail. Assuma que os endereços de e-mail seguem o formato típico, como usuario@exemplo.com. Utilize a máscara [email], considerando que cada anúncio possui apenas um e-mail.\n",
        "\n",
        "**Contagem de Palavras e Resumo**:  Forneça um resumo exibindo a contagem de palavras e as cinco primeiras palavras do texto processado.\n",
        "\n",
        "Este cenário reflete um contexto real, pois a moderação de conteúdo é essencial em plataformas online para garantir um ambiente seguro e respeitoso para os usuários. Seu programa Python simulará parte desse processo de moderação."
      ]
    },
    {
      "cell_type": "markdown",
      "metadata": {},
      "source": [
        "Resolucao "
      ]
    },
    {
      "cell_type": "code",
      "execution_count": 1,
      "metadata": {},
      "outputs": [
        {
          "name": "stdout",
          "output_type": "stream",
          "text": [
            "Anuncio apos moderacao: \n",
            "\n",
            "Esta é a bolsa perfeita para você, espaçosa e elegante. \n",
            "Se nao voce nao quer parecer uma ********* por ai, compre agora! \n",
            "Essa bolsa é a melhor, se nao acreditou vai se *********.\n",
            "E se nao quiser comprar va tomar no *********!\n",
            "Entre em contato pelo e-mail: [email]\n",
            "\n",
            "Contagem de Palavras: 48\n",
            "Resumo: Esta é a bolsa perfeita\n"
          ]
        }
      ],
      "source": [
        "anuncio = \"\"\"Esta é a bolsa perfeita para você, espaçosa e elegante. \n",
        "Se nao voce nao quer parecer uma palavrao1 por ai, compre agora! \n",
        "Essa bolsa é a melhor, se nao acreditou vai se palavrao3.\n",
        "E se nao quiser comprar va tomar no palavrao2!\n",
        "Entre em contato pelo e-mail: bocasuja@compreagora.com\"\"\"\n",
        "\n",
        "\n",
        "# Armazenando o anúncio original\n",
        "anuncio_inicial = anuncio\n",
        "\n",
        "# Máscaras para substituir informações sensíveis\n",
        "mascara_email = \"[email]\"\n",
        "mascara_tel = \"[telefone]\"\n",
        "\n",
        "# Lista de palavras impróprias que serão filtradas\n",
        "palavroes = [\"palavrao1\", \"palavrao2\", \"palavrao3\"]\n",
        "\n",
        "# Filtro de Palavrões: Substituir palavras impróprias por asteriscos\n",
        "for palavrao in palavroes:\n",
        "    anuncio = anuncio.replace(palavrao, '*' * len(palavrao))\n",
        "\n",
        "# Encontrando o índice do símbolo '@' no anúncio\n",
        "indice_arroba = anuncio.find('@')\n",
        "\n",
        "if indice_arroba != -1:\n",
        "    # Encontrando o início do email retrocedendo até encontrar um espaço ou : \n",
        "    inicio_email = indice_arroba\n",
        "    while anuncio[inicio_email] not in [\" \", \":\"]:\n",
        "        inicio_email -= 1\n",
        "\n",
        "    # Encontrando o fim do email, considerando o \".com\" e adicionando 4 caracteres\n",
        "    fim_email = anuncio.find(\".com\") + 4\n",
        "\n",
        "    fim_email = fim_email if fim_email < len(anuncio) else len(anuncio)-1\n",
        "\n",
        "    # Verificando se a distância entre o fim do email e o índice do '@' é razoável\n",
        "    if fim_email - indice_arroba <= 50:\n",
        "        # Aplicando a máscara ao email\n",
        "        anuncio = anuncio[:inicio_email + 1] + mascara_email + anuncio[fim_email + 1:]\n",
        "\n",
        "# Exibindo o anúncio processado\n",
        "print(\"Anuncio apos moderacao: \\n\")\n",
        "print(anuncio)\n",
        "\n",
        "# Contagem de Palavras e Resumo\n",
        "# Dividindo o anúncio original em palavras\n",
        "palavras = anuncio_inicial.split()\n",
        "# Calculando a contagem de palavras\n",
        "contagem_palavras = len(palavras)\n",
        "\n",
        "# Criando um resumo com as primeiras 5 palavras\n",
        "resumo = \" \".join(palavras[:5])\n",
        "\n",
        "# Exibindo os resultados da contagem de palavras e o resumo\n",
        "print(\"\\nContagem de Palavras:\", contagem_palavras)\n",
        "print(\"Resumo:\", resumo)\n",
        "\n"
      ]
    },
    {
      "cell_type": "markdown",
      "metadata": {
        "id": "ceN4HBxCVxXa"
      },
      "source": [
        "## 📍 Índice 📍 <a class=\"anchor\" id=\"um\"></a>\n",
        "<br>"
      ]
    },
    {
      "cell_type": "code",
      "execution_count": 2,
      "metadata": {
        "colab": {
          "base_uri": "https://localhost:8080/",
          "height": 35
        },
        "id": "sfv4x4MqVxXa",
        "outputId": "821552d5-9c93-424e-bb31-0da4b04154ba"
      },
      "outputs": [
        {
          "data": {
            "text/plain": [
              "'g'"
            ]
          },
          "execution_count": 2,
          "metadata": {},
          "output_type": "execute_result"
        }
      ],
      "source": [
        "'lógica de programação'[2]"
      ]
    },
    {
      "cell_type": "code",
      "execution_count": 3,
      "metadata": {
        "colab": {
          "base_uri": "https://localhost:8080/",
          "height": 35
        },
        "id": "6ojTCGB-VxXc",
        "outputId": "48586937-7795-4647-b3d4-8e9ceb0cd216"
      },
      "outputs": [
        {
          "data": {
            "text/plain": [
              "'g'"
            ]
          },
          "execution_count": 3,
          "metadata": {},
          "output_type": "execute_result"
        }
      ],
      "source": [
        "txt = 'Lógica de Programação I'\n",
        "txt[2]"
      ]
    },
    {
      "cell_type": "markdown",
      "metadata": {
        "id": "tCIVxJvUVxXc"
      },
      "source": [
        "## ➕ Concatenação ➕ <a class=\"anchor\" id=\"dois\"></a>\n",
        "<br>"
      ]
    },
    {
      "cell_type": "code",
      "execution_count": 4,
      "metadata": {
        "colab": {
          "base_uri": "https://localhost:8080/",
          "height": 35
        },
        "id": "GP79wO71VxXd",
        "outputId": "92300e8f-5e24-46a6-9e08-f5e98a6d53d2"
      },
      "outputs": [
        {
          "data": {
            "text/plain": [
              "'Cristiano Ronaldo dos Santos Aveiro'"
            ]
          },
          "execution_count": 4,
          "metadata": {},
          "output_type": "execute_result"
        }
      ],
      "source": [
        "nome = 'Cristiano Ronaldo'\n",
        "sobrenome1 = 'dos Santos'\n",
        "sobrenome2 = 'Aveiro'\n",
        "\n",
        "nome_completo = nome+' '+sobrenome1+' '+sobrenome2\n",
        "nome_completo"
      ]
    },
    {
      "cell_type": "markdown",
      "metadata": {
        "id": "iuVM7bQpVxXd"
      },
      "source": [
        "## 🆗 Comparação entre Strings 🆗 <a class=\"anchor\" id=\"tres\"></a>\n",
        "<br>"
      ]
    },
    {
      "cell_type": "markdown",
      "metadata": {
        "id": "sp2CcEqJVxXd"
      },
      "source": [
        "![Tabela](https://i0.wp.com/d1v9pyzt136u2g.cloudfront.net/blog/wp-content/uploads/2021/12/17110601/Ascii_table-1.png?fit=1280%2C876&ssl=1)"
      ]
    },
    {
      "cell_type": "code",
      "execution_count": 5,
      "metadata": {
        "colab": {
          "base_uri": "https://localhost:8080/"
        },
        "id": "X4OtyCHpVxXd",
        "outputId": "0bede69c-efa7-479b-a9fa-2faebf606e05"
      },
      "outputs": [
        {
          "data": {
            "text/plain": [
              "True"
            ]
          },
          "execution_count": 5,
          "metadata": {},
          "output_type": "execute_result"
        }
      ],
      "source": [
        "'abacaxi'>'abacate'"
      ]
    },
    {
      "cell_type": "code",
      "execution_count": 6,
      "metadata": {
        "colab": {
          "base_uri": "https://localhost:8080/"
        },
        "id": "eXIr2iAWVxXe",
        "outputId": "45eaaaff-a3f2-4051-b191-9920698eba43"
      },
      "outputs": [
        {
          "data": {
            "text/plain": [
              "True"
            ]
          },
          "execution_count": 6,
          "metadata": {},
          "output_type": "execute_result"
        }
      ],
      "source": [
        "'casa'>'Casa'"
      ]
    },
    {
      "cell_type": "markdown",
      "metadata": {
        "id": "DSOrk90nVxXe"
      },
      "source": [
        "## 📜 Métodos de Strings 📜 <a class=\"anchor\" id=\"quatro\"></a>\n",
        "<br>\n"
      ]
    },
    {
      "cell_type": "code",
      "execution_count": 7,
      "metadata": {
        "id": "01QLqX_Sa251"
      },
      "outputs": [],
      "source": [
        "#Definindo uma string\n",
        "mensagem = \"Quase lá, estamos terminando o módulo I\""
      ]
    },
    {
      "cell_type": "markdown",
      "metadata": {
        "id": "qn1rg42dWh33"
      },
      "source": [
        "### Capitalize:\n",
        "\n",
        "Retorna uma cópia da string com o primeiro caractere em maiúsculo e os demais em minúsculo."
      ]
    },
    {
      "cell_type": "code",
      "execution_count": 8,
      "metadata": {
        "colab": {
          "base_uri": "https://localhost:8080/",
          "height": 35
        },
        "id": "NS0uGCqWWzbF",
        "outputId": "d1970f20-464c-4445-f04e-ab0003ad7d7d"
      },
      "outputs": [
        {
          "data": {
            "text/plain": [
              "'Quase lá, estamos terminando o módulo i'"
            ]
          },
          "execution_count": 8,
          "metadata": {},
          "output_type": "execute_result"
        }
      ],
      "source": [
        "mensagem.capitalize()"
      ]
    },
    {
      "cell_type": "markdown",
      "metadata": {
        "id": "SX-LEtFgWz0l"
      },
      "source": [
        "### Lower:\n",
        "\n",
        "Retorna uma cópia da string com todos os caracteres em minúsculo."
      ]
    },
    {
      "cell_type": "code",
      "execution_count": 9,
      "metadata": {
        "colab": {
          "base_uri": "https://localhost:8080/",
          "height": 35
        },
        "id": "vkx4g0SyW7bG",
        "outputId": "8b664eaf-cd0a-431a-8dfd-e38a5708f58f"
      },
      "outputs": [
        {
          "data": {
            "text/plain": [
              "'quase lá, estamos terminando o módulo i'"
            ]
          },
          "execution_count": 9,
          "metadata": {},
          "output_type": "execute_result"
        }
      ],
      "source": [
        "mensagem.lower()"
      ]
    },
    {
      "cell_type": "markdown",
      "metadata": {
        "id": "rRbNxe5QW7sM"
      },
      "source": [
        "### Upper:\n",
        "\n",
        "Retorna uma cópia da string com todos os caracteres em maiúsculo."
      ]
    },
    {
      "cell_type": "code",
      "execution_count": 10,
      "metadata": {
        "colab": {
          "base_uri": "https://localhost:8080/",
          "height": 35
        },
        "id": "HUEEvtuYW_Ft",
        "outputId": "6ab6fda6-5f75-4199-9d3e-f019dc8c1adf"
      },
      "outputs": [
        {
          "data": {
            "text/plain": [
              "'QUASE LÁ, ESTAMOS TERMINANDO O MÓDULO I'"
            ]
          },
          "execution_count": 10,
          "metadata": {},
          "output_type": "execute_result"
        }
      ],
      "source": [
        "mensagem.upper()"
      ]
    },
    {
      "cell_type": "markdown",
      "metadata": {
        "id": "GHENrCSNXC-E"
      },
      "source": [
        "### Swapcase:\n",
        "\n",
        "Retorna uma cópia da string com a capitalização dos caracteres invertida."
      ]
    },
    {
      "cell_type": "code",
      "execution_count": 11,
      "metadata": {
        "colab": {
          "base_uri": "https://localhost:8080/",
          "height": 35
        },
        "id": "x9tgUNwcXH7W",
        "outputId": "b5761bc7-e696-49cd-9dcf-3feda29461b7"
      },
      "outputs": [
        {
          "data": {
            "text/plain": [
              "'qUASE LÁ, ESTAMOS TERMINANDO O MÓDULO i'"
            ]
          },
          "execution_count": 11,
          "metadata": {},
          "output_type": "execute_result"
        }
      ],
      "source": [
        "mensagem.swapcase()"
      ]
    },
    {
      "cell_type": "markdown",
      "metadata": {
        "id": "HmbFYLaTXQXd"
      },
      "source": [
        "### Title:\n",
        "\n",
        "Retorna uma cópia da string com o primeiro caractere de cada palavra em maiúsculo."
      ]
    },
    {
      "cell_type": "code",
      "execution_count": 12,
      "metadata": {
        "colab": {
          "base_uri": "https://localhost:8080/",
          "height": 35
        },
        "id": "WrT_oMl2XUU0",
        "outputId": "c58058f8-b44b-4e14-e4aa-33c75d5ad9f1"
      },
      "outputs": [
        {
          "data": {
            "text/plain": [
              "'Quase Lá, Estamos Terminando O Módulo I'"
            ]
          },
          "execution_count": 12,
          "metadata": {},
          "output_type": "execute_result"
        }
      ],
      "source": [
        "mensagem.title()"
      ]
    },
    {
      "cell_type": "markdown",
      "metadata": {
        "id": "LQ1aQJmhXU72"
      },
      "source": [
        "### Strip:\n",
        "\n",
        "Retorna uma cópia da string sem espaços em branco no início e no fim."
      ]
    },
    {
      "cell_type": "code",
      "execution_count": 13,
      "metadata": {
        "colab": {
          "base_uri": "https://localhost:8080/",
          "height": 35
        },
        "id": "OneH9BNVXZsE",
        "outputId": "b25add37-dc21-44c4-eec2-a12409d750d1"
      },
      "outputs": [
        {
          "data": {
            "text/plain": [
              "'Quase lá, estamos terminando o módulo I'"
            ]
          },
          "execution_count": 13,
          "metadata": {},
          "output_type": "execute_result"
        }
      ],
      "source": [
        "mensagem_2 = '  Quase lá, estamos terminando o módulo I  '\n",
        "mensagem_2.strip()"
      ]
    },
    {
      "cell_type": "markdown",
      "metadata": {
        "id": "lvWQ7vB9Xgue"
      },
      "source": [
        "### lstrip:\n",
        "\n",
        "Retorna uma cópia da string sem espaços em branco à esquerda (início)."
      ]
    },
    {
      "cell_type": "code",
      "execution_count": 14,
      "metadata": {
        "colab": {
          "base_uri": "https://localhost:8080/",
          "height": 35
        },
        "id": "usH-wscjXjbM",
        "outputId": "46efd93b-ee95-49e7-cea9-68ce87cd1a3e"
      },
      "outputs": [
        {
          "data": {
            "text/plain": [
              "'Quase lá, estamos terminando o módulo I  '"
            ]
          },
          "execution_count": 14,
          "metadata": {},
          "output_type": "execute_result"
        }
      ],
      "source": [
        "mensagem_2.lstrip()"
      ]
    },
    {
      "cell_type": "markdown",
      "metadata": {
        "id": "mWXlDXJ8Xj3u"
      },
      "source": [
        "### rstrip:\n",
        "\n",
        "Retorna uma cópia da string sem espaços em branco à direita (fim)."
      ]
    },
    {
      "cell_type": "code",
      "execution_count": 15,
      "metadata": {
        "colab": {
          "base_uri": "https://localhost:8080/",
          "height": 35
        },
        "id": "pqP9jgbnXm90",
        "outputId": "abb4f737-9b0d-4932-ffa8-dfdfa30afed0"
      },
      "outputs": [
        {
          "data": {
            "text/plain": [
              "'  Quase lá, estamos terminando o módulo I'"
            ]
          },
          "execution_count": 15,
          "metadata": {},
          "output_type": "execute_result"
        }
      ],
      "source": [
        "mensagem_2.rstrip()"
      ]
    },
    {
      "cell_type": "markdown",
      "metadata": {
        "id": "y_9qOq1nXnfk"
      },
      "source": [
        "### Split:\n",
        "\n",
        "Divide a string em substrings com base em um separador e retorna uma lista contendo essas substrings."
      ]
    },
    {
      "cell_type": "code",
      "execution_count": 16,
      "metadata": {
        "colab": {
          "base_uri": "https://localhost:8080/"
        },
        "id": "aIFj9siFXrmd",
        "outputId": "c793de8b-5eeb-4c57-dfd7-c83131553e5b"
      },
      "outputs": [
        {
          "data": {
            "text/plain": [
              "['Quase', 'lá,', 'estamos', 'terminando', 'o', 'módulo', 'I']"
            ]
          },
          "execution_count": 16,
          "metadata": {},
          "output_type": "execute_result"
        }
      ],
      "source": [
        "#Split\n",
        "lista_mensagem = mensagem.split(' ')\n",
        "lista_mensagem"
      ]
    },
    {
      "cell_type": "markdown",
      "metadata": {
        "id": "P5kqmO_KXuhf"
      },
      "source": [
        "### join:\n",
        "\n",
        "Concatena os elementos de um iterável (por exemplo, uma lista) em uma string, usando a string como separador entre os elementos."
      ]
    },
    {
      "cell_type": "code",
      "execution_count": 17,
      "metadata": {
        "colab": {
          "base_uri": "https://localhost:8080/"
        },
        "id": "a8up-lyrXyzl",
        "outputId": "b7016eab-dd94-41b7-90ff-04a688a2ec46"
      },
      "outputs": [
        {
          "name": "stdout",
          "output_type": "stream",
          "text": [
            "Luiz, Marcos, Vinicius\n"
          ]
        }
      ],
      "source": [
        "nomes = [\"Luiz\", \"Marcos\", \"Vinicius\"]\n",
        "\n",
        "x = \", \".join(nomes)\n",
        "\n",
        "print(x)"
      ]
    },
    {
      "cell_type": "markdown",
      "metadata": {
        "id": "hqmebtSqYJn0"
      },
      "source": [
        "### Replace:\n",
        "\n",
        "Retorna uma cópia da string em que todas as ocorrências de um determinado caractere ou sequência de caracteres são substituídas por outro caractere ou sequência de caracteres."
      ]
    },
    {
      "cell_type": "code",
      "execution_count": 18,
      "metadata": {
        "colab": {
          "base_uri": "https://localhost:8080/",
          "height": 35
        },
        "id": "dOeeDHQzYT_O",
        "outputId": "6884c46e-b7ba-4ff8-82b1-ce28443d5bf6"
      },
      "outputs": [
        {
          "data": {
            "text/plain": [
              "'Quase lá, estamos terminando o Módulo I'"
            ]
          },
          "execution_count": 18,
          "metadata": {},
          "output_type": "execute_result"
        }
      ],
      "source": [
        "mensagem = 'Quase lá, estamos terminando o módulo I'\n",
        "#Replace\n",
        "nova_mensagem = mensagem.replace('módulo','Módulo')\n",
        "nova_mensagem"
      ]
    },
    {
      "cell_type": "markdown",
      "metadata": {
        "id": "Ay4io-dPYiaF"
      },
      "source": [
        "### startswith:\n",
        "\n",
        "Verifica se a string começa com um determinado prefixo e retorna True ou False."
      ]
    },
    {
      "cell_type": "code",
      "execution_count": 19,
      "metadata": {
        "colab": {
          "base_uri": "https://localhost:8080/"
        },
        "id": "lx9hu6nHYoDd",
        "outputId": "940afe3e-b4b8-4656-d80e-f3c38c949e6f"
      },
      "outputs": [
        {
          "data": {
            "text/plain": [
              "True"
            ]
          },
          "execution_count": 19,
          "metadata": {},
          "output_type": "execute_result"
        }
      ],
      "source": [
        "txt = 'Oi'\n",
        "txt.startswith('O')"
      ]
    },
    {
      "cell_type": "markdown",
      "metadata": {
        "id": "dJEm7VWPYuuF"
      },
      "source": [
        "### endswith:\n",
        "\n",
        "Verifica se a string termina com um determinado sufixo e retorna True ou False."
      ]
    },
    {
      "cell_type": "code",
      "execution_count": 20,
      "metadata": {
        "colab": {
          "base_uri": "https://localhost:8080/"
        },
        "id": "c-SyE9CNYz0m",
        "outputId": "e3b869fd-bef5-431a-9165-b5562a52e654"
      },
      "outputs": [
        {
          "data": {
            "text/plain": [
              "False"
            ]
          },
          "execution_count": 20,
          "metadata": {},
          "output_type": "execute_result"
        }
      ],
      "source": [
        "txt = 'Oi'\n",
        "txt.endswith('O')"
      ]
    },
    {
      "cell_type": "markdown",
      "metadata": {
        "id": "5CoTejFqY2ua"
      },
      "source": [
        "### Find:\n",
        "\n",
        "Retorna a posição (índice) da primeira ocorrência de uma determinada substring na string, ou -1 se a substring não for encontrada."
      ]
    },
    {
      "cell_type": "code",
      "execution_count": 21,
      "metadata": {
        "colab": {
          "base_uri": "https://localhost:8080/"
        },
        "id": "AdrkJANwVxXe",
        "outputId": "7933a985-2e23-4f70-9450-cf281205facf"
      },
      "outputs": [
        {
          "data": {
            "text/plain": [
              "4"
            ]
          },
          "execution_count": 21,
          "metadata": {},
          "output_type": "execute_result"
        }
      ],
      "source": [
        "#Find\n",
        "mensagem = 'Quase lá, estamos terminando o módulo I'\n",
        "mensagem.find('e')"
      ]
    },
    {
      "cell_type": "code",
      "execution_count": 22,
      "metadata": {},
      "outputs": [
        {
          "data": {
            "text/plain": [
              "10"
            ]
          },
          "execution_count": 22,
          "metadata": {},
          "output_type": "execute_result"
        }
      ],
      "source": [
        "mensagem.find('e', 5)"
      ]
    },
    {
      "cell_type": "markdown",
      "metadata": {
        "id": "HnJzs-6WY9K_"
      },
      "source": [
        "### Count:\n",
        "\n",
        "Conta o número de ocorrências de uma determinada substring na string."
      ]
    },
    {
      "cell_type": "code",
      "execution_count": 23,
      "metadata": {
        "colab": {
          "base_uri": "https://localhost:8080/",
          "height": 35
        },
        "id": "-6000bzGZGum",
        "outputId": "63f36a9d-c0ec-4022-c580-6799853dcd86"
      },
      "outputs": [
        {
          "data": {
            "text/plain": [
              "'Quase lá, estamos terminando o módulo I'"
            ]
          },
          "execution_count": 23,
          "metadata": {},
          "output_type": "execute_result"
        }
      ],
      "source": [
        "mensagem"
      ]
    },
    {
      "cell_type": "code",
      "execution_count": 24,
      "metadata": {
        "colab": {
          "base_uri": "https://localhost:8080/"
        },
        "id": "_VSJ9FIeVxXf",
        "outputId": "e9137e67-e50c-4d46-97c2-90932cae21f1"
      },
      "outputs": [
        {
          "data": {
            "text/plain": [
              "3"
            ]
          },
          "execution_count": 24,
          "metadata": {},
          "output_type": "execute_result"
        }
      ],
      "source": [
        "mensagem.count('e')"
      ]
    },
    {
      "cell_type": "markdown",
      "metadata": {
        "id": "O1QJ1gXvZY9F"
      },
      "source": [
        "### isdigit:\n",
        "\n",
        "Verifica se todos os caracteres da string são dígitos (0 a 9) e retorna True ou False."
      ]
    },
    {
      "cell_type": "code",
      "execution_count": 25,
      "metadata": {},
      "outputs": [
        {
          "data": {
            "text/plain": [
              "'Quase lá, estamos terminando o Módulo I'"
            ]
          },
          "execution_count": 25,
          "metadata": {},
          "output_type": "execute_result"
        }
      ],
      "source": [
        "nova_mensagem"
      ]
    },
    {
      "cell_type": "code",
      "execution_count": 26,
      "metadata": {
        "colab": {
          "base_uri": "https://localhost:8080/"
        },
        "id": "RuFJ07YhVxXh",
        "outputId": "626434d3-fd0e-4282-fbdb-3a8efa1c1e6e"
      },
      "outputs": [
        {
          "data": {
            "text/plain": [
              "False"
            ]
          },
          "execution_count": 26,
          "metadata": {},
          "output_type": "execute_result"
        }
      ],
      "source": [
        "#Isdigit\n",
        "nova_mensagem.isdigit()"
      ]
    },
    {
      "cell_type": "code",
      "execution_count": 27,
      "metadata": {
        "colab": {
          "base_uri": "https://localhost:8080/"
        },
        "id": "9pRewVqHVxXh",
        "outputId": "72267901-a7b6-474a-8875-c42db361920a"
      },
      "outputs": [
        {
          "data": {
            "text/plain": [
              "True"
            ]
          },
          "execution_count": 27,
          "metadata": {},
          "output_type": "execute_result"
        }
      ],
      "source": [
        "'500'.isdigit()"
      ]
    },
    {
      "cell_type": "markdown",
      "metadata": {
        "id": "7gqSMk5XZq7t"
      },
      "source": [
        "### Index:\n",
        "\n",
        "Retorna a posição (índice) da primeira ocorrência de uma determinada substring na string."
      ]
    },
    {
      "cell_type": "code",
      "execution_count": 28,
      "metadata": {
        "colab": {
          "base_uri": "https://localhost:8080/"
        },
        "id": "ItI3_zudZvVV",
        "outputId": "8698a758-2c35-4a70-a3e2-e4ac8ce648c3"
      },
      "outputs": [
        {
          "data": {
            "text/plain": [
              "4"
            ]
          },
          "execution_count": 28,
          "metadata": {},
          "output_type": "execute_result"
        }
      ],
      "source": [
        "mensagem.index('e')"
      ]
    },
    {
      "cell_type": "markdown",
      "metadata": {
        "id": "Vedqi4E1Zvx8"
      },
      "source": [
        "### isnumeric:\n",
        "\n",
        "Verifica se todos os caracteres da string são caracteres numéricos."
      ]
    },
    {
      "cell_type": "code",
      "execution_count": 29,
      "metadata": {
        "colab": {
          "base_uri": "https://localhost:8080/"
        },
        "id": "qud_cpUnZ1pl",
        "outputId": "4e3e70c7-d755-4b40-97ee-2b2f1944e148"
      },
      "outputs": [
        {
          "data": {
            "text/plain": [
              "True"
            ]
          },
          "execution_count": 29,
          "metadata": {},
          "output_type": "execute_result"
        }
      ],
      "source": [
        "'500'.isnumeric()"
      ]
    },
    {
      "cell_type": "markdown",
      "metadata": {
        "id": "iOwM48hDaQCN"
      },
      "source": [
        "### Isalpha:\n",
        "\n",
        "Verifica se todos os caracteres da string são letras (alfabéticas) e retorna True ou False."
      ]
    },
    {
      "cell_type": "code",
      "execution_count": 30,
      "metadata": {
        "colab": {
          "base_uri": "https://localhost:8080/"
        },
        "id": "DBUYkeIyaVNF",
        "outputId": "594b32c8-4cb1-48e0-88a8-64eb6aabe2df"
      },
      "outputs": [
        {
          "data": {
            "text/plain": [
              "True"
            ]
          },
          "execution_count": 30,
          "metadata": {},
          "output_type": "execute_result"
        }
      ],
      "source": [
        "'abc'.isalpha()"
      ]
    },
    {
      "cell_type": "markdown",
      "metadata": {
        "id": "C9EJr-PPaYn8"
      },
      "source": [
        "### Função len:\n",
        "\n",
        "Determina o tamanho da string."
      ]
    },
    {
      "cell_type": "code",
      "execution_count": 31,
      "metadata": {
        "colab": {
          "base_uri": "https://localhost:8080/"
        },
        "id": "wCsFj5DGVxXi",
        "outputId": "96e57d50-39a7-4c61-e338-4790df5bd6b8"
      },
      "outputs": [
        {
          "data": {
            "text/plain": [
              "39"
            ]
          },
          "execution_count": 31,
          "metadata": {},
          "output_type": "execute_result"
        }
      ],
      "source": [
        "#Propriedade: len\n",
        "len(nova_mensagem)"
      ]
    },
    {
      "cell_type": "markdown",
      "metadata": {
        "id": "KmOOHuoTVxXi"
      },
      "source": [
        "## ➗ Slicing ➗ <a class=\"anchor\" id=\"cinco\"></a>\n",
        "<br>"
      ]
    },
    {
      "cell_type": "code",
      "execution_count": 32,
      "metadata": {
        "colab": {
          "base_uri": "https://localhost:8080/",
          "height": 35
        },
        "id": "TLJgu5_YcilF",
        "outputId": "a62d2043-8200-4e15-854d-016e7487b6c6"
      },
      "outputs": [
        {
          "data": {
            "text/plain": [
              "'Quase'"
            ]
          },
          "execution_count": 32,
          "metadata": {},
          "output_type": "execute_result"
        }
      ],
      "source": [
        "nova_mensagem[0:5]"
      ]
    },
    {
      "cell_type": "code",
      "execution_count": 33,
      "metadata": {
        "id": "YjgQTDTAVxXj",
        "outputId": "8ea1c81a-cf43-4913-a940-566203850d44"
      },
      "outputs": [
        {
          "data": {
            "text/plain": [
              "'Módulo I'"
            ]
          },
          "execution_count": 33,
          "metadata": {},
          "output_type": "execute_result"
        }
      ],
      "source": [
        "nova_mensagem[31:]"
      ]
    },
    {
      "cell_type": "markdown",
      "metadata": {},
      "source": [
        "## Exercicios <a class=\"anchor\" id=\"cinco\"></a>\n",
        "<br>"
      ]
    },
    {
      "cell_type": "markdown",
      "metadata": {},
      "source": [
        "1) Escreva um programa Python para contar o número de caracteres (frequência de caracteres) em uma string. Por exemplo, para a string \"Linguagem de programação\" devera retornar:\n",
        "```\n",
        "L: 1\n",
        "i: 1\n",
        "n: 1\n",
        "g: 3\n",
        "u: 1\n",
        "a: 3\n",
        "e: 2\n",
        "m: 2\n",
        " : 2\n",
        "d: 1\n",
        "p: 1\n",
        "r: 2\n",
        "o: 2\n",
        "ç: 1\n",
        "ã: 1\n",
        "```"
      ]
    },
    {
      "cell_type": "code",
      "execution_count": 34,
      "metadata": {
        "id": "_n1bEfwfVxXj"
      },
      "outputs": [
        {
          "name": "stdout",
          "output_type": "stream",
          "text": [
            "L: 1\n",
            "i: 1\n",
            "n: 1\n",
            "g: 3\n",
            "u: 1\n",
            "a: 3\n",
            "e: 2\n",
            "m: 2\n",
            " : 2\n",
            "d: 1\n",
            "p: 1\n",
            "r: 2\n",
            "o: 2\n",
            "ç: 1\n",
            "ã: 1\n"
          ]
        }
      ],
      "source": [
        "minha_string = \"Linguagem de programação\"\n",
        "\n",
        "caracteres = []\n",
        "contador = []\n",
        "for c in minha_string:\n",
        "    if c not in caracteres:\n",
        "        caracteres.append(c)\n",
        "        contador.append(1)\n",
        "    else:\n",
        "        indice = caracteres.index(c)\n",
        "        contador[indice] += 1\n",
        "\n",
        "for i in range(len(caracteres)):\n",
        "    print(caracteres[i]+\":\", contador[i])\n",
        "     "
      ]
    },
    {
      "cell_type": "markdown",
      "metadata": {},
      "source": [
        "2) Escreva um programa Python para obter uma string formada pelos 2 primeiros e 2 últimos caracteres de uma determinada string.\n",
        "Por exemplo: ‘Casaco’. Resultado: ‘Caco’.\n",
        "Se o comprimento da string for menor que 2, retorne a string vazia."
      ]
    },
    {
      "cell_type": "code",
      "execution_count": 35,
      "metadata": {},
      "outputs": [
        {
          "name": "stdout",
          "output_type": "stream",
          "text": [
            "Caco\n"
          ]
        }
      ],
      "source": [
        "def obter_substr(string):\n",
        "    # Verifica se o comprimento da string é menor que 2\n",
        "    if len(string) < 2:\n",
        "        return \"\"\n",
        "\n",
        "    # Obtém os 2 primeiros e 2 últimos caracteres\n",
        "    resultado = string[:2] + string[-2:]\n",
        "\n",
        "    return resultado\n",
        "\n",
        "# Exemplos de uso\n",
        "string_exemplo = 'Casaco'\n",
        "resultado_exemplo = obter_substr(string_exemplo)\n",
        "print(resultado_exemplo)"
      ]
    },
    {
      "cell_type": "markdown",
      "metadata": {},
      "source": [
        "3) Organize os caracteres da string de forma que as letras minúsculas venham primeiro. Por exemplo: ‘Rio de Janeiro’. Resultado esperado: ‘iodeaneiroRJ’."
      ]
    },
    {
      "cell_type": "code",
      "execution_count": 36,
      "metadata": {},
      "outputs": [
        {
          "data": {
            "text/plain": [
              "'iodeaneiroRJ'"
            ]
          },
          "execution_count": 36,
          "metadata": {},
          "output_type": "execute_result"
        }
      ],
      "source": [
        "# String de exemplo\n",
        "minha_string = 'Rio de Janeiro'\n",
        "\n",
        "minusculas = ''\n",
        "maiusculas = ''\n",
        "\n",
        "for c in minha_string:\n",
        "    if c.islower():\n",
        "        minusculas += c\n",
        "    elif c.isupper():\n",
        "        maiusculas += c\n",
        "\n",
        "minusculas+maiusculas\n",
        "\n"
      ]
    },
    {
      "cell_type": "markdown",
      "metadata": {},
      "source": [
        "4) Conte todas as letras, dígitos e símbolos especiais de uma determinada string. Por exemplo: “D@&3t@R%^o4m@’.\n",
        "Resultado esperado:\n",
        "• Caracteres: 5;\n",
        "• Dígitos: 2;\n",
        "• Símbolo: 6."
      ]
    },
    {
      "cell_type": "code",
      "execution_count": 37,
      "metadata": {},
      "outputs": [
        {
          "name": "stdout",
          "output_type": "stream",
          "text": [
            "Caracteres: 5\n",
            "Dígitos: 2\n",
            "Símbolos: 6\n"
          ]
        }
      ],
      "source": [
        "# String de exemplo\n",
        "minha_string = \"D@&3t@R%^o4m@\"\n",
        "\n",
        "# Inicializa contadores\n",
        "contagem_letras = 0\n",
        "contagem_digitos = 0\n",
        "contagem_simbolos = 0\n",
        "\n",
        "# Percorre cada caractere na string\n",
        "for caractere in minha_string:\n",
        "    if caractere.isalpha():  # Verifica se é uma letra\n",
        "        contagem_letras += 1\n",
        "    elif caractere.isdigit():  # Verifica se é um dígito\n",
        "        contagem_digitos += 1\n",
        "    else:  # Considera todos os outros como símbolos especiais\n",
        "        contagem_simbolos += 1\n",
        "\n",
        "# Exibindo o resultado\n",
        "print(f\"Caracteres: {contagem_letras}\")\n",
        "print(f\"Dígitos: {contagem_digitos}\")\n",
        "print(f\"Símbolos: {contagem_simbolos}\")"
      ]
    }
  ],
  "metadata": {
    "colab": {
      "provenance": []
    },
    "kernelspec": {
      "display_name": "base",
      "language": "python",
      "name": "python3"
    },
    "language_info": {
      "codemirror_mode": {
        "name": "ipython",
        "version": 3
      },
      "file_extension": ".py",
      "mimetype": "text/x-python",
      "name": "python",
      "nbconvert_exporter": "python",
      "pygments_lexer": "ipython3",
      "version": "3.10.6"
    },
    "orig_nbformat": 4,
    "vscode": {
      "interpreter": {
        "hash": "a4e87b69e3c337c38d8515a97bf0af28745e48a010ebcda936e79a3b31d0811d"
      }
    }
  },
  "nbformat": 4,
  "nbformat_minor": 0
}
