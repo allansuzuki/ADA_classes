{
 "cells": [
  {
   "cell_type": "markdown",
   "metadata": {},
   "source": [
    "# 📓**Aula 2 - Operadores Lógicos e Estruturas Condicionais**📓"
   ]
  },
  {
   "cell_type": "markdown",
   "metadata": {},
   "source": [
    "## 📍 Tópicos de Hoje 📍\n",
    "<br>\n",
    "\n",
    "🚶‍♂️ [Operadores Lógicos](#um)\n",
    "\n",
    "🚶‍🚶‍ [Operadores Condicionais](#dois)\n",
    "\n",
    "🎯 **Objetivos**\n",
    "\n",
    "* Apresentar aos alunos os operadores lógicos de comparação e de conjunção, declarando a importância das operações lógicas nas estruturas condicionais e de repetição, que são apresentadas a seguir;\n",
    "* Apresentar o conceito, uso e importâncias das estruturas condicionais em Python.\n",
    "\n",
    "🔧 **Habilidades a serem desenvolvidas**\n",
    "\n",
    "Ao final da aula o aluno deve:\n",
    "\n",
    "- Saber o conceito de operações lógicas e o seu resultado (True/False);\n",
    "- Saber interpretar e utilizar os operadores de comparação;\n",
    "- Saber interpretar e uitlizar os operadores de conjunção;\n",
    "- Saber formular expressões lógicas;"
   ]
  },
  {
   "cell_type": "markdown",
   "metadata": {},
   "source": [
    "____\n",
    "## Estudo de Caso\n",
    "\n",
    "Você foi contratado por uma escola para desenvolver um programa de computador que automatize o cálculo das médias finais dos alunos e determine se eles passaram ou não, com base em uma nota de corte predefinida.\n",
    "\n",
    "Recentemente, a escola decidiu adicionar um novo requisito ao sistema: considerar também a frequência do aluno nas aulas para determinar sua aprovação."
   ]
  },
  {
   "cell_type": "markdown",
   "metadata": {},
   "source": [
    "____"
   ]
  },
  {
   "cell_type": "markdown",
   "metadata": {},
   "source": [
    "## 🚶‍ 1) Operadores Lógicos: 🚶‍ <a class=\"anchor\" id=\"um\"></a>"
   ]
  },
  {
   "cell_type": "markdown",
   "metadata": {},
   "source": [
    "Em muitos problemas de programação, há necessidade de se fazer **comparações** entre variáveis.\n",
    "\n",
    "Por exemplo:\n",
    "\n",
    "- checar se um número é maior que outro;\n",
    "- checar se uma variável é igual a outra;\n",
    "- checar se há números diferentes; etc.\n",
    "\n",
    "Para fazer essas comparações, utilizamos os **operadores lógicos de comparação**. Em Python, há 6 desses operadores:\n",
    "\n",
    "- Maior que: >\n",
    "- Maior ou igual: >=\n",
    "- Menor que: <\n",
    "- Menor ou igual: <=\n",
    "- Igual: ==\n",
    "- Diferente: !=\n",
    "\n",
    "O resultado de uma comparação sempre vai ser um booleano, isto é, **True** ou **False**!\n",
    "\n",
    "Dica: sempre leia as comparações como uma **pergunta**\n",
    "\n",
    "- Ex: \"numero < 100\", leia: \"o valor na variável numero é menor que 100?\""
   ]
  },
  {
   "cell_type": "code",
   "execution_count": 1,
   "metadata": {},
   "outputs": [
    {
     "data": {
      "text/plain": [
       "False"
      ]
     },
     "execution_count": 1,
     "metadata": {},
     "output_type": "execute_result"
    }
   ],
   "source": [
    "#Verificar se um número é maior que o outro\n",
    "100>200"
   ]
  },
  {
   "cell_type": "code",
   "execution_count": 2,
   "metadata": {},
   "outputs": [
    {
     "data": {
      "text/plain": [
       "True"
      ]
     },
     "execution_count": 2,
     "metadata": {},
     "output_type": "execute_result"
    }
   ],
   "source": [
    "200>100"
   ]
  },
  {
   "cell_type": "code",
   "execution_count": 3,
   "metadata": {},
   "outputs": [
    {
     "data": {
      "text/plain": [
       "False"
      ]
     },
     "execution_count": 3,
     "metadata": {},
     "output_type": "execute_result"
    }
   ],
   "source": [
    "#Verificar se um número é maior ou igual a um outro\n",
    "100>=200"
   ]
  },
  {
   "cell_type": "code",
   "execution_count": 4,
   "metadata": {},
   "outputs": [
    {
     "data": {
      "text/plain": [
       "True"
      ]
     },
     "execution_count": 4,
     "metadata": {},
     "output_type": "execute_result"
    }
   ],
   "source": [
    "#Verificar se um número é menor que o outro\n",
    "100<200"
   ]
  },
  {
   "cell_type": "code",
   "execution_count": 5,
   "metadata": {},
   "outputs": [
    {
     "data": {
      "text/plain": [
       "True"
      ]
     },
     "execution_count": 5,
     "metadata": {},
     "output_type": "execute_result"
    }
   ],
   "source": [
    "#Verificar se um número é menor ou igual a um outro\n",
    "100<=200"
   ]
  },
  {
   "cell_type": "code",
   "execution_count": 6,
   "metadata": {},
   "outputs": [
    {
     "data": {
      "text/plain": [
       "False"
      ]
     },
     "execution_count": 6,
     "metadata": {},
     "output_type": "execute_result"
    }
   ],
   "source": [
    "#Verificar se um número é igual a um outro\n",
    "100==200"
   ]
  },
  {
   "cell_type": "code",
   "execution_count": 7,
   "metadata": {},
   "outputs": [
    {
     "data": {
      "text/plain": [
       "False"
      ]
     },
     "execution_count": 7,
     "metadata": {},
     "output_type": "execute_result"
    }
   ],
   "source": [
    "'100'==100"
   ]
  },
  {
   "cell_type": "code",
   "execution_count": 8,
   "metadata": {},
   "outputs": [
    {
     "data": {
      "text/plain": [
       "True"
      ]
     },
     "execution_count": 8,
     "metadata": {},
     "output_type": "execute_result"
    }
   ],
   "source": [
    "100.0==100"
   ]
  },
  {
   "cell_type": "code",
   "execution_count": 9,
   "metadata": {},
   "outputs": [
    {
     "data": {
      "text/plain": [
       "True"
      ]
     },
     "execution_count": 9,
     "metadata": {},
     "output_type": "execute_result"
    }
   ],
   "source": [
    "#Verificar se um número é diferente de um outro\n",
    "100!=200"
   ]
  },
  {
   "cell_type": "markdown",
   "metadata": {},
   "source": [
    "Podemos comparar variáveis:"
   ]
  },
  {
   "cell_type": "code",
   "execution_count": 11,
   "metadata": {},
   "outputs": [
    {
     "data": {
      "text/plain": [
       "False"
      ]
     },
     "execution_count": 11,
     "metadata": {},
     "output_type": "execute_result"
    }
   ],
   "source": [
    "#Comparando 2 variáveis\n",
    "valorA = 100\n",
    "valorB = 200\n",
    "valorA == valorB"
   ]
  },
  {
   "cell_type": "code",
   "execution_count": 12,
   "metadata": {},
   "outputs": [
    {
     "data": {
      "text/plain": [
       "True"
      ]
     },
     "execution_count": 12,
     "metadata": {},
     "output_type": "execute_result"
    }
   ],
   "source": [
    "#Comparação entre mais de 2 variáveis\n",
    "n = 1100\n",
    "valorA<valorB<n"
   ]
  },
  {
   "cell_type": "markdown",
   "metadata": {},
   "source": [
    "### Comparação de Strings"
   ]
  },
  {
   "cell_type": "markdown",
   "metadata": {},
   "source": [
    "![](https://carlacastanho.github.io/Material-de-APC/assets/images/Strings/ASCII.png)"
   ]
  },
  {
   "cell_type": "code",
   "execution_count": 13,
   "metadata": {},
   "outputs": [
    {
     "data": {
      "text/plain": [
       "False"
      ]
     },
     "execution_count": 13,
     "metadata": {},
     "output_type": "execute_result"
    }
   ],
   "source": [
    "'A'>'a'"
   ]
  },
  {
   "cell_type": "code",
   "execution_count": 14,
   "metadata": {},
   "outputs": [
    {
     "data": {
      "text/plain": [
       "True"
      ]
     },
     "execution_count": 14,
     "metadata": {},
     "output_type": "execute_result"
    }
   ],
   "source": [
    "'abacaxi'<'banana'"
   ]
  },
  {
   "cell_type": "code",
   "execution_count": 15,
   "metadata": {},
   "outputs": [
    {
     "data": {
      "text/plain": [
       "True"
      ]
     },
     "execution_count": 15,
     "metadata": {},
     "output_type": "execute_result"
    }
   ],
   "source": [
    "'abacate'<'abacaxi'"
   ]
  },
  {
   "cell_type": "code",
   "execution_count": 16,
   "metadata": {},
   "outputs": [
    {
     "data": {
      "text/plain": [
       "False"
      ]
     },
     "execution_count": 16,
     "metadata": {},
     "output_type": "execute_result"
    }
   ],
   "source": [
    "'Banana'=='banana'"
   ]
  },
  {
   "cell_type": "markdown",
   "metadata": {},
   "source": [
    "**Comparações entre strings e tipos numéricos:**"
   ]
  },
  {
   "cell_type": "code",
   "execution_count": 17,
   "metadata": {},
   "outputs": [
    {
     "data": {
      "text/plain": [
       "False"
      ]
     },
     "execution_count": 17,
     "metadata": {},
     "output_type": "execute_result"
    }
   ],
   "source": [
    "'1'==1"
   ]
  },
  {
   "cell_type": "code",
   "execution_count": 18,
   "metadata": {},
   "outputs": [
    {
     "data": {
      "text/plain": [
       "True"
      ]
     },
     "execution_count": 18,
     "metadata": {},
     "output_type": "execute_result"
    }
   ],
   "source": [
    "int('1')==1"
   ]
  },
  {
   "cell_type": "code",
   "execution_count": 19,
   "metadata": {},
   "outputs": [
    {
     "data": {
      "text/plain": [
       "True"
      ]
     },
     "execution_count": 19,
     "metadata": {},
     "output_type": "execute_result"
    }
   ],
   "source": [
    "'1'!=1"
   ]
  },
  {
   "cell_type": "code",
   "execution_count": 20,
   "metadata": {},
   "outputs": [
    {
     "data": {
      "text/plain": [
       "False"
      ]
     },
     "execution_count": 20,
     "metadata": {},
     "output_type": "execute_result"
    }
   ],
   "source": [
    "int('1')>1"
   ]
  },
  {
   "cell_type": "markdown",
   "metadata": {},
   "source": [
    "## 🚶‍ 2) Operadores Condicionais: 🚶‍ <a class=\"anchor\" id=\"dois\"></a>"
   ]
  },
  {
   "cell_type": "markdown",
   "metadata": {},
   "source": [
    "Além dos operadores lógicos de comparação, também temos os **operadores lógicos de conjunção**, que são utilizados pra fazer uma **combinação** entre comparações. \n",
    "\n",
    "Os operadores de conjunção são: **and** e **or**, e eles seguem a seguinte regra:\n",
    "\n",
    "- **and** só é True se **ambas** as comparações forem True:\n",
    "    - False and True resulta em \"False\"\n",
    "    - False and False resulta em \"False\"\n",
    "    - True and True resulta em \"True\"\n",
    "- **or** é True se **pelo menos uma** das comparações for True:\n",
    "    - False or True resulta em \"True\"\n",
    "    - True or True resulta em \"True\"\n",
    "    - False or False resulta em \"False\""
   ]
  },
  {
   "cell_type": "code",
   "execution_count": 21,
   "metadata": {},
   "outputs": [
    {
     "name": "stdout",
     "output_type": "stream",
     "text": [
      "Operador and:\n",
      "False\n",
      "False\n",
      "False\n",
      "True\n"
     ]
    }
   ],
   "source": [
    "print('Operador and:')\n",
    "print(False and False)\n",
    "print(True and False)\n",
    "print(False and True)\n",
    "print(True and True)"
   ]
  },
  {
   "cell_type": "code",
   "execution_count": 22,
   "metadata": {},
   "outputs": [
    {
     "name": "stdout",
     "output_type": "stream",
     "text": [
      "Operador or:\n",
      "False\n",
      "True\n",
      "True\n",
      "True\n"
     ]
    }
   ],
   "source": [
    "print('Operador or:')\n",
    "print(False or False)\n",
    "print(True or False)\n",
    "print(False or True)\n",
    "print(True or True)"
   ]
  },
  {
   "cell_type": "code",
   "execution_count": 23,
   "metadata": {},
   "outputs": [
    {
     "data": {
      "text/plain": [
       "True"
      ]
     },
     "execution_count": 23,
     "metadata": {},
     "output_type": "execute_result"
    }
   ],
   "source": [
    "#Salvar uma variável nome\n",
    "nome = \"Romero\"\n",
    "#Salvar uma variável idade\n",
    "idade = 31\n",
    "#Comparar se as 2 são nome e a idade específica\n",
    "nome == 'Romero' and idade == 31"
   ]
  },
  {
   "cell_type": "code",
   "execution_count": 24,
   "metadata": {},
   "outputs": [
    {
     "data": {
      "text/plain": [
       "True"
      ]
     },
     "execution_count": 24,
     "metadata": {},
     "output_type": "execute_result"
    }
   ],
   "source": [
    "3<10 and ('Mateus'=='Matheus' or 50<=60)"
   ]
  },
  {
   "cell_type": "markdown",
   "metadata": {},
   "source": [
    "**```not``` e inversão lógica**"
   ]
  },
  {
   "cell_type": "code",
   "execution_count": 25,
   "metadata": {},
   "outputs": [
    {
     "data": {
      "text/plain": [
       "False"
      ]
     },
     "execution_count": 25,
     "metadata": {},
     "output_type": "execute_result"
    }
   ],
   "source": [
    "not True"
   ]
  },
  {
   "cell_type": "code",
   "execution_count": 26,
   "metadata": {},
   "outputs": [
    {
     "data": {
      "text/plain": [
       "False"
      ]
     },
     "execution_count": 26,
     "metadata": {},
     "output_type": "execute_result"
    }
   ],
   "source": [
    "3<10 and not 10<30"
   ]
  },
  {
   "cell_type": "markdown",
   "metadata": {},
   "source": [
    "## Condicionais"
   ]
  },
  {
   "cell_type": "markdown",
   "metadata": {},
   "source": [
    "Vamos voltar ao **problema que de início à discussão da nossa aula:**\n",
    "\n",
    "Queremos desenvolver um código que permita aos professores calcular médias finais dos alunos com base nas notas dos bimestres (o que vimos na aula passada) e determinar se ele foi aprovado ou reprovado, em virtude da sua nota.\n",
    "\n",
    "ALém disso, o sistema agora precisa incorporar o registro de presenças dos alunos. A aprovação do mesmo dependerá não apenas da nota final, mas também do critério de frequência mínima estabelecido pela escola (neste caso, 75% de presença).\n",
    "\n",
    "**Na prática:** Isso significa que um aluno pode obter nota suficiente para passar (acima de 7.0), mas ser reprovado se sua frequência estiver abaixo do limite estabelecido."
   ]
  },
  {
   "cell_type": "markdown",
   "metadata": {},
   "source": [
    "### If"
   ]
  },
  {
   "cell_type": "markdown",
   "metadata": {},
   "source": [
    "O ```if``` é um operador condicional fundamental em Python. Ele permite que você execute um bloco de código se uma condição especificada for verdadeira.\n",
    "\n",
    "Se a condição fornecida após o if for avaliada como verdadeira, o bloco de código dentro do if será executado. Caso contrário, o bloco de código não será executado."
   ]
  },
  {
   "cell_type": "markdown",
   "metadata": {},
   "source": [
    "```\n",
    "if condicao:\n",
    "  código a ser executado\n",
    "```"
   ]
  },
  {
   "cell_type": "markdown",
   "metadata": {},
   "source": [
    "**Exemplo:** Escreva um código que verifique a média do aluno e retorne uma mensagem caso ele seja aprovado."
   ]
  },
  {
   "cell_type": "code",
   "execution_count": 29,
   "metadata": {},
   "outputs": [
    {
     "name": "stdout",
     "output_type": "stream",
     "text": [
      "A sua média é: 7.0\n",
      "O aluno está aprovado por nota.\n"
     ]
    }
   ],
   "source": [
    "nota_1 = float(input('Digite a nota do 1° bimestre: '))\n",
    "nota_2 = float(input('Digite a nota do 2° bimestre: '))\n",
    "nota_3 = float(input('Digite a nota do 3° bimestre: '))\n",
    "nota_4 = float(input('Digite a nota do 4° bimestre: '))\n",
    "peso_1, peso_2, peso_3, peso_4 = 10, 20, 30, 40\n",
    "#Calculando a média simples\n",
    "media = (nota_1+nota_2+nota_3+nota_4)/4\n",
    "print('A sua média é:', media)\n",
    "if media>=7.0:\n",
    "  print(\"O aluno está aprovado por nota.\")"
   ]
  },
  {
   "cell_type": "markdown",
   "metadata": {},
   "source": [
    "### Elif\n",
    "\n",
    "O ```elif``` é uma abreviação de \"else if\". \n",
    "\n",
    "Ele é usado para adicionar condições adicionais após um if.\n",
    "\n",
    "Quando você deseja verificar várias condições em sequência, o elif é útil.\n",
    "\n",
    "**Obs.:** Ele só é verificado se todas as condições anteriores (incluindo o if e os elifs anteriores) forem falsas."
   ]
  },
  {
   "cell_type": "markdown",
   "metadata": {},
   "source": [
    "### Else\n",
    "\n",
    "O ```else``` é usado em conjunto com o if e permite que você execute um bloco de código alternativo quando a condição do if for avaliada como falsa.\n",
    "\n",
    "Ou seja, se a condição do if não for verdadeira, o bloco de código dentro do else será executado."
   ]
  },
  {
   "cell_type": "markdown",
   "metadata": {},
   "source": [
    "**Exemplo:**\n",
    "\n",
    "Escrever um programa que define a situação de um aluno conforme as seguintes instruções:\n",
    "\n",
    "* Média menor que 3, o aluno está reprovado;\n",
    "* Média maior que 3 e menor que 7, o aluno está de final;\n",
    "* Média for maior ou igual a 7, o aluno está aprovado."
   ]
  },
  {
   "cell_type": "code",
   "execution_count": 30,
   "metadata": {},
   "outputs": [
    {
     "name": "stdout",
     "output_type": "stream",
     "text": [
      "Você está aprovado!\n"
     ]
    }
   ],
   "source": [
    "if media<3:\n",
    "  print('Você está reprovado!')\n",
    "elif 3<=media<7:\n",
    "  print('Você está de final!')\n",
    "else:\n",
    "  print('Você está aprovado!')"
   ]
  },
  {
   "cell_type": "markdown",
   "metadata": {},
   "source": [
    "### Condicional Aninhada\n",
    "\n",
    "\n",
    "As estruturas condicionais aninhadas em Python referem-se ao uso de uma estrutura if, elif e else dentro de outra. \n",
    "\n",
    "Isso permite lidar com múltiplas condições de maneira mais complexa e hierárquica."
   ]
  },
  {
   "cell_type": "markdown",
   "metadata": {},
   "source": [
    "**Exemplo:**\n",
    "\n",
    "Agora, além de verificar se o aluno foi aprovado, é necessário verificar se ele tem uma frequência maior que 75%.\n",
    "\n",
    "Crie um programa que pergunte as notas bimestrais e a frequência do aluno. Caso ele tenha nota maior ou igual a 7.0, verifique se ele tem frequência igual ou superior a 75% e imprima uma mensagem da sua aprovação."
   ]
  },
  {
   "cell_type": "code",
   "execution_count": 34,
   "metadata": {},
   "outputs": [
    {
     "name": "stdout",
     "output_type": "stream",
     "text": [
      "Você está de final\n"
     ]
    }
   ],
   "source": [
    "nota_1 = float(input('Digite a nota do 1° bimestre: '))\n",
    "nota_2 = float(input('Digite a nota do 2° bimestre: '))\n",
    "nota_3 = float(input('Digite a nota do 3° bimestre: '))\n",
    "nota_4 = float(input('Digite a nota do 4° bimestre: '))\n",
    "frequencia = float(input('Qual a porcentagem de frequência (%)? '))\n",
    "peso_1, peso_2, peso_3, peso_4 = 10, 20, 30, 40\n",
    "#Calculando a média simples\n",
    "media = (nota_1+nota_2+nota_3+nota_4)/4\n",
    "if media<3:\n",
    "  print('Você está reprovado!')\n",
    "elif 3<=media<7:\n",
    "   if frequencia >= 75:\n",
    "        print('Você está de final')\n",
    "   else:\n",
    "       print('Você está reprovado!')\n",
    "else:\n",
    "    if frequencia >= 75:\n",
    "        print('Você está aprovado')\n",
    "    else:\n",
    "       print('Você está reprovado!')"
   ]
  },
  {
   "cell_type": "markdown",
   "metadata": {},
   "source": [
    "### If curto"
   ]
  },
  {
   "cell_type": "code",
   "execution_count": 35,
   "metadata": {},
   "outputs": [],
   "source": [
    "a = float(input('Digite um valor: '))\n",
    "\n",
    "if a>10: print(\"'a' é maior que 10!\")"
   ]
  },
  {
   "cell_type": "markdown",
   "metadata": {},
   "source": [
    "### If/Else Curto"
   ]
  },
  {
   "cell_type": "code",
   "execution_count": 36,
   "metadata": {},
   "outputs": [
    {
     "name": "stdout",
     "output_type": "stream",
     "text": [
      "'a' é menor ou igual a 10\n"
     ]
    }
   ],
   "source": [
    "a = float(input('Digite um valor: '))\n",
    "\n",
    "print(\"'a' é maior que 10!\") if a>10 else print(\"'a' é menor ou igual a 10\")"
   ]
  },
  {
   "cell_type": "code",
   "execution_count": 37,
   "metadata": {},
   "outputs": [
    {
     "name": "stdout",
     "output_type": "stream",
     "text": [
      "4\n"
     ]
    }
   ],
   "source": [
    "a = float(input('Digite um valor: '))\n",
    "\n",
    "y = (1 if a>10 else 4)\n",
    "\n",
    "print(y)"
   ]
  },
  {
   "cell_type": "markdown",
   "metadata": {},
   "source": [
    "## Exercícios:"
   ]
  },
  {
   "cell_type": "markdown",
   "metadata": {},
   "source": [
    "1) Uma empresa decidiu dar um bônus de 5% ao funcionário se o seu ano de serviço for  superior a 5 anos. \n",
    "\n",
    "Peça ao usuário seu salário e ano de serviço e imprima o valor líquido do bônus."
   ]
  },
  {
   "cell_type": "code",
   "execution_count": 38,
   "metadata": {},
   "outputs": [
    {
     "name": "stdout",
     "output_type": "stream",
     "text": [
      "Você não tem direito ao bônus!\n"
     ]
    }
   ],
   "source": [
    "salario = float(input('Digite o seu salário: '))\n",
    "ano_servico = int(input('Digite o seu tempo de serviço em anos: '))\n",
    "if ano_servico>5:\n",
    "    bonus = 0.05*salario\n",
    "    print('O seu bônus é de:',bonus)\n",
    "else:\n",
    "  print('Você não tem direito ao bônus!')"
   ]
  },
  {
   "cell_type": "markdown",
   "metadata": {},
   "source": [
    "2) Crie um programa que será uma calculadora com as seguintes operações básicas entre 2 números:\n",
    "* Adição;\n",
    "* Subtração;\n",
    "* Multiplicação;\n",
    "* Divisão.\n",
    "\n",
    "O programa deve ter um \"menu\" pedindo para o usuário indicar a operação e pedir também ao usuário os 2 números."
   ]
  },
  {
   "cell_type": "code",
   "execution_count": 39,
   "metadata": {},
   "outputs": [
    {
     "name": "stdout",
     "output_type": "stream",
     "text": [
      "-------Menu-------\n",
      "1 - Soma\n",
      "2 - Subtração\n",
      "3 - Multiplicação\n",
      "4 - Divisão\n",
      "7.0\n"
     ]
    }
   ],
   "source": [
    "num1 = float(input('Digite o primeiro número: '))\n",
    "num2 = float(input('Digite o segundo número: '))\n",
    "\n",
    "print('-------Menu-------')\n",
    "print('1 - Soma')\n",
    "print('2 - Subtração')\n",
    "print('3 - Multiplicação')\n",
    "print('4 - Divisão')\n",
    "\n",
    "operacao = input('Escolha uma das operações acima: ')\n",
    "if operacao.isdigit():\n",
    "  operacao = int(operacao)\n",
    "  if operacao == 1:\n",
    "    resultado = num1+num2\n",
    "    print(resultado)\n",
    "  elif operacao == 2:\n",
    "    resultado = num1-num2\n",
    "    print(resultado)\n",
    "  elif operacao == 3:\n",
    "    resultado = num1*num2\n",
    "    print(resultado)\n",
    "  elif operacao == 4:\n",
    "    resultado = num1/num2\n",
    "    print(resultado)\n",
    "  else:\n",
    "    print('A calculado não consegue fazer essa operação')\n",
    "else:\n",
    "  print('Digite um número para a operação e não o seu nome ou qualquer outra coisa!')"
   ]
  },
  {
   "cell_type": "markdown",
   "metadata": {},
   "source": [
    "3) Escreva um programa que pergunte a idade e o nome de uma pessoa.\n",
    "\n",
    "Caso essa pessoa seja maior de idade, pergunte se ela possui habilitação e imprima na tela uma mensagem com o seu nome, a idade e se ela pode dirigir ou não."
   ]
  },
  {
   "cell_type": "code",
   "execution_count": 40,
   "metadata": {},
   "outputs": [
    {
     "name": "stdout",
     "output_type": "stream",
     "text": [
      "Olá Romero você tem 31 anos e é habilitado(a), portanto, pode dirigir!\n"
     ]
    }
   ],
   "source": [
    "nome = input('Digite o seu nome: ')\n",
    "idade = int(input('Digite a sua idade: '))\n",
    "\n",
    "if idade >= 18:\n",
    "  habilitado = input('Você tem habilitação? Responda com S ou N: ').upper()\n",
    "\n",
    "  if habilitado == 'S':\n",
    "    print(\"Olá\",nome,\"você tem\",idade,\"anos e é habilitado(a), portanto, pode dirigir!\")\n",
    "  else:\n",
    "    print(f\"Olá, {nome}, você tem {idade} anos, não é habilitado(a), portanto, não pode dirigir!\")\n",
    "else:\n",
    "  print(f\"Olá, {nome}, você é menor de idade. Espere até completar 18 anos e procure o órgão responsável!\")"
   ]
  },
  {
   "cell_type": "markdown",
   "metadata": {},
   "source": [
    "4) Faça um programa que faça 5 perguntas para uma pessoa sobre um crime. As perguntas são:\n",
    "\n",
    "* \"Telefonou para a vítima?\"\n",
    "* \"Esteve no local do crime?\"\n",
    "* \"Mora perto da vítima?\"\n",
    "* \"Devia para a vítima?\"\n",
    "* \"Já trabalhou com a vítima?\"\n",
    "\n",
    "O programa deve no final emitir uma classificação sobre a participação da pessoa no \n",
    "crime. Se a pessoa responder positivamente a 2 questões ela deve ser classificada como \n",
    "\"Suspeita\", entre 3 e 4 como \"Cúmplice\" e 5 como \"Assassino\". Caso contrário, ele será \n",
    "classificado como \"Inocente\"."
   ]
  },
  {
   "cell_type": "code",
   "execution_count": 41,
   "metadata": {},
   "outputs": [
    {
     "name": "stdout",
     "output_type": "stream",
     "text": [
      "Cúmplice!\n"
     ]
    }
   ],
   "source": [
    "contador = 0\n",
    "pergunta_1 = input(\"Telefonou para a vítima? \\nS - Sim ou N - Não. \").upper()\n",
    "if pergunta_1 == \"S\": contador+=1\n",
    "pergunta_2 = input(\"Esteve no local do crime? \\nS - Sim ou N - Não. \").upper()\n",
    "if pergunta_2 == \"S\": contador+=1\n",
    "pergunta_3 = input(\"Mora perto da vítima? \\nS - Sim ou N - Não. \").upper()\n",
    "if pergunta_3 == \"S\": contador+=1\n",
    "pergunta_4 = input(\"Devia para a vítima? \\nS - Sim ou N - Não. \").upper()\n",
    "if pergunta_4 == \"S\": contador+=1\n",
    "pergunta_5 = input(\"Já trabalhou com a vítima? \\nS - Sim ou N - Não. \").upper()\n",
    "if pergunta_5 == \"S\": contador+=1\n",
    "\n",
    "#Classificação\n",
    "if contador == 2:\n",
    "  print('Suspeito(a)!')\n",
    "elif 3<=contador<=4:\n",
    "  print('Cúmplice!')\n",
    "elif contador ==5:\n",
    "  print('Assassino(a)')\n",
    "else:\n",
    "  print('Inocente!')"
   ]
  },
  {
   "cell_type": "markdown",
   "metadata": {},
   "source": [
    "5) Uma loja decide dar 10% de desconto se o custo da quantidade comprada for superior a R$ 1000,00. Contudo, esse desconto pode ser de 15% caso o cliente seja cadastrado no programa de pontos da loja.\n",
    "\n",
    "Desse modo, peça ao usuário a quantidade, supondo que cada item custe R$ 100,00 e \n",
    "pergunte ao usuário se o mesmo é filiado ou não ao programa, imprimindo o custo total \n",
    "de sua compra."
   ]
  },
  {
   "cell_type": "code",
   "execution_count": 42,
   "metadata": {},
   "outputs": [
    {
     "name": "stdout",
     "output_type": "stream",
     "text": [
      "O custo total da sua compra é: 500\n"
     ]
    }
   ],
   "source": [
    "#Dados\n",
    "preco_unitario = 100\n",
    "#Comunicação (pedir ao usuário)\n",
    "quantidade = int(input('Digite a quantidade comprada: '))\n",
    "\n",
    "#Calculando o custo da compra\n",
    "custo = quantidade*preco_unitario\n",
    "\n",
    "#Avaliar o desconto do cliente\n",
    "if custo>1000:\n",
    "  #Perguntar ao cliente se ele faz parte do programa de pontos\n",
    "  cliente_cadastrado = input(\"Você é cadastrado no programa de pontos? \\nS - Sim ou N - Não. \").upper()\n",
    "\n",
    "  #Calcular o desconto\n",
    "  if cliente_cadastrado == 'S':\n",
    "    custo_total = custo*(1-0.15)\n",
    "  else:\n",
    "    custo_total = custo*(1-0.10)\n",
    "else:\n",
    "  custo_total = custo\n",
    "print(\"O custo total da sua compra é:\",custo_total)"
   ]
  },
  {
   "cell_type": "markdown",
   "metadata": {},
   "source": [
    "6)  Crie um programa que pergunte a idade de uma pessoa e retorne a classificação etária dessa pessoa.\n",
    "\n",
    "* Criança: Até 11 anos;\n",
    "* Adolescente: Entre 12 e 17 anos;\n",
    "* Jovem: Entre 18 e 35 anos;\n",
    "* Adulto: Entre 36 e 59 anos;\n",
    "* Idoso: Maior ou igual a 60 anos."
   ]
  },
  {
   "cell_type": "code",
   "execution_count": 43,
   "metadata": {},
   "outputs": [
    {
     "name": "stdout",
     "output_type": "stream",
     "text": [
      "Você é um(a) jovem!\n"
     ]
    }
   ],
   "source": [
    "#Perguntando a idade da pessoa\n",
    "idade = int(input('Digite a sua idade: '))\n",
    "\n",
    "if idade<12:\n",
    "  print('Você é uma criança!')\n",
    "elif 12<=idade<=17:\n",
    "  print('Você é um(a) adolescente!')\n",
    "elif 18<=idade<=35:\n",
    "  print('Você é um(a) jovem!')\n",
    "elif 36<=idade<=59:\n",
    "  print('Você é um(a) adulto(a)!')\n",
    "else:\n",
    "  print('Você é um(a) idoso(a)!')"
   ]
  },
  {
   "cell_type": "code",
   "execution_count": null,
   "metadata": {},
   "outputs": [],
   "source": []
  }
 ],
 "metadata": {
  "kernelspec": {
   "display_name": "Python 3",
   "language": "python",
   "name": "python3"
  },
  "language_info": {
   "codemirror_mode": {
    "name": "ipython",
    "version": 3
   },
   "file_extension": ".py",
   "mimetype": "text/x-python",
   "name": "python",
   "nbconvert_exporter": "python",
   "pygments_lexer": "ipython3",
   "version": "3.11.4"
  }
 },
 "nbformat": 4,
 "nbformat_minor": 2
}
