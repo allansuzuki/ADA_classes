{
 "cells": [
  {
   "cell_type": "markdown",
   "metadata": {},
   "source": [
    "# 🎯 Aula 4 - Dados Atípicos: Constantes e Nulos e Duplicados 🎯"
   ]
  },
  {
   "cell_type": "markdown",
   "metadata": {},
   "source": [
    "Imagine que temos dados de satisfação dos clientes sobre o serviço de consultoria de investimentos.\n",
    "Os dados foram prenchidos pelos clientes no formulário por email logo após resgatarem seus investimentos.\n",
    "\n",
    "Ao analisar os dados, você percebeu que o campo `Recomendação` está com dados 80% dos dados em branco.\n",
    "Além disso, o campo `numero_agencia` está sempre com o mesmo valor `001`.\n",
    "\n",
    "O que isto poderia significar? Se esses dados fossem usados para analisar, por exemplo, a persona atual dos clientes, qual o impacto desses campos com valores atípicos para a análise? \n",
    "\n",
    "Nesses casos de dados atípicos, o que poderíamos fazer? "
   ]
  },
  {
   "cell_type": "markdown",
   "metadata": {},
   "source": [
    "## Dados Constantes\n",
    "\n",
    "### Problemática\n",
    "\n",
    "Dados constantes em uma coluna (onde todos os valores são iguais) geralmente não agregam valor à análise. Eles não variam e, portanto, não contribuem para a diferenciação ou correlação com outras variáveis.\n",
    "\n",
    "### Remoção com .drop\n",
    "\n",
    "Para remover uma coluna de um DataFrame no Python, você pode usar o método `.drop.`\n",
    "Vamos trazer os dados do titanic e tirar a coluna `Name`:"
   ]
  },
  {
   "cell_type": "code",
   "execution_count": 8,
   "metadata": {},
   "outputs": [
    {
     "data": {
      "text/html": [
       "<div>\n",
       "<style scoped>\n",
       "    .dataframe tbody tr th:only-of-type {\n",
       "        vertical-align: middle;\n",
       "    }\n",
       "\n",
       "    .dataframe tbody tr th {\n",
       "        vertical-align: top;\n",
       "    }\n",
       "\n",
       "    .dataframe thead th {\n",
       "        text-align: right;\n",
       "    }\n",
       "</style>\n",
       "<table border=\"1\" class=\"dataframe\">\n",
       "  <thead>\n",
       "    <tr style=\"text-align: right;\">\n",
       "      <th></th>\n",
       "      <th>PassengerId</th>\n",
       "      <th>Survived</th>\n",
       "      <th>Pclass</th>\n",
       "      <th>Sex</th>\n",
       "      <th>Age</th>\n",
       "      <th>SibSp</th>\n",
       "      <th>Parch</th>\n",
       "      <th>Ticket</th>\n",
       "      <th>Fare</th>\n",
       "      <th>Cabin</th>\n",
       "      <th>Embarked</th>\n",
       "    </tr>\n",
       "  </thead>\n",
       "  <tbody>\n",
       "    <tr>\n",
       "      <th>0</th>\n",
       "      <td>1</td>\n",
       "      <td>0.0</td>\n",
       "      <td>3</td>\n",
       "      <td>male</td>\n",
       "      <td>22.0</td>\n",
       "      <td>1</td>\n",
       "      <td>0</td>\n",
       "      <td>A/5 21171</td>\n",
       "      <td>7.2500</td>\n",
       "      <td>NaN</td>\n",
       "      <td>S</td>\n",
       "    </tr>\n",
       "    <tr>\n",
       "      <th>1</th>\n",
       "      <td>2</td>\n",
       "      <td>1.0</td>\n",
       "      <td>1</td>\n",
       "      <td>female</td>\n",
       "      <td>38.0</td>\n",
       "      <td>1</td>\n",
       "      <td>0</td>\n",
       "      <td>PC 17599</td>\n",
       "      <td>71.2833</td>\n",
       "      <td>C85</td>\n",
       "      <td>C</td>\n",
       "    </tr>\n",
       "    <tr>\n",
       "      <th>2</th>\n",
       "      <td>3</td>\n",
       "      <td>1.0</td>\n",
       "      <td>3</td>\n",
       "      <td>female</td>\n",
       "      <td>26.0</td>\n",
       "      <td>0</td>\n",
       "      <td>0</td>\n",
       "      <td>STON/O2. 3101282</td>\n",
       "      <td>7.9250</td>\n",
       "      <td>NaN</td>\n",
       "      <td>S</td>\n",
       "    </tr>\n",
       "    <tr>\n",
       "      <th>3</th>\n",
       "      <td>4</td>\n",
       "      <td>1.0</td>\n",
       "      <td>1</td>\n",
       "      <td>female</td>\n",
       "      <td>35.0</td>\n",
       "      <td>1</td>\n",
       "      <td>0</td>\n",
       "      <td>113803</td>\n",
       "      <td>53.1000</td>\n",
       "      <td>C123</td>\n",
       "      <td>S</td>\n",
       "    </tr>\n",
       "    <tr>\n",
       "      <th>4</th>\n",
       "      <td>5</td>\n",
       "      <td>0.0</td>\n",
       "      <td>3</td>\n",
       "      <td>male</td>\n",
       "      <td>35.0</td>\n",
       "      <td>0</td>\n",
       "      <td>0</td>\n",
       "      <td>373450</td>\n",
       "      <td>8.0500</td>\n",
       "      <td>NaN</td>\n",
       "      <td>S</td>\n",
       "    </tr>\n",
       "    <tr>\n",
       "      <th>...</th>\n",
       "      <td>...</td>\n",
       "      <td>...</td>\n",
       "      <td>...</td>\n",
       "      <td>...</td>\n",
       "      <td>...</td>\n",
       "      <td>...</td>\n",
       "      <td>...</td>\n",
       "      <td>...</td>\n",
       "      <td>...</td>\n",
       "      <td>...</td>\n",
       "      <td>...</td>\n",
       "    </tr>\n",
       "    <tr>\n",
       "      <th>1304</th>\n",
       "      <td>1305</td>\n",
       "      <td>NaN</td>\n",
       "      <td>3</td>\n",
       "      <td>male</td>\n",
       "      <td>NaN</td>\n",
       "      <td>0</td>\n",
       "      <td>0</td>\n",
       "      <td>A.5. 3236</td>\n",
       "      <td>8.0500</td>\n",
       "      <td>NaN</td>\n",
       "      <td>S</td>\n",
       "    </tr>\n",
       "    <tr>\n",
       "      <th>1305</th>\n",
       "      <td>1306</td>\n",
       "      <td>NaN</td>\n",
       "      <td>1</td>\n",
       "      <td>female</td>\n",
       "      <td>39.0</td>\n",
       "      <td>0</td>\n",
       "      <td>0</td>\n",
       "      <td>PC 17758</td>\n",
       "      <td>108.9000</td>\n",
       "      <td>C105</td>\n",
       "      <td>C</td>\n",
       "    </tr>\n",
       "    <tr>\n",
       "      <th>1306</th>\n",
       "      <td>1307</td>\n",
       "      <td>NaN</td>\n",
       "      <td>3</td>\n",
       "      <td>male</td>\n",
       "      <td>38.5</td>\n",
       "      <td>0</td>\n",
       "      <td>0</td>\n",
       "      <td>SOTON/O.Q. 3101262</td>\n",
       "      <td>7.2500</td>\n",
       "      <td>NaN</td>\n",
       "      <td>S</td>\n",
       "    </tr>\n",
       "    <tr>\n",
       "      <th>1307</th>\n",
       "      <td>1308</td>\n",
       "      <td>NaN</td>\n",
       "      <td>3</td>\n",
       "      <td>male</td>\n",
       "      <td>NaN</td>\n",
       "      <td>0</td>\n",
       "      <td>0</td>\n",
       "      <td>359309</td>\n",
       "      <td>8.0500</td>\n",
       "      <td>NaN</td>\n",
       "      <td>S</td>\n",
       "    </tr>\n",
       "    <tr>\n",
       "      <th>1308</th>\n",
       "      <td>1309</td>\n",
       "      <td>NaN</td>\n",
       "      <td>3</td>\n",
       "      <td>male</td>\n",
       "      <td>NaN</td>\n",
       "      <td>1</td>\n",
       "      <td>1</td>\n",
       "      <td>2668</td>\n",
       "      <td>22.3583</td>\n",
       "      <td>NaN</td>\n",
       "      <td>C</td>\n",
       "    </tr>\n",
       "  </tbody>\n",
       "</table>\n",
       "<p>1309 rows × 11 columns</p>\n",
       "</div>"
      ],
      "text/plain": [
       "      PassengerId  Survived  Pclass     Sex   Age  SibSp  Parch  \\\n",
       "0               1       0.0       3    male  22.0      1      0   \n",
       "1               2       1.0       1  female  38.0      1      0   \n",
       "2               3       1.0       3  female  26.0      0      0   \n",
       "3               4       1.0       1  female  35.0      1      0   \n",
       "4               5       0.0       3    male  35.0      0      0   \n",
       "...           ...       ...     ...     ...   ...    ...    ...   \n",
       "1304         1305       NaN       3    male   NaN      0      0   \n",
       "1305         1306       NaN       1  female  39.0      0      0   \n",
       "1306         1307       NaN       3    male  38.5      0      0   \n",
       "1307         1308       NaN       3    male   NaN      0      0   \n",
       "1308         1309       NaN       3    male   NaN      1      1   \n",
       "\n",
       "                  Ticket      Fare Cabin Embarked  \n",
       "0              A/5 21171    7.2500   NaN        S  \n",
       "1               PC 17599   71.2833   C85        C  \n",
       "2       STON/O2. 3101282    7.9250   NaN        S  \n",
       "3                 113803   53.1000  C123        S  \n",
       "4                 373450    8.0500   NaN        S  \n",
       "...                  ...       ...   ...      ...  \n",
       "1304           A.5. 3236    8.0500   NaN        S  \n",
       "1305            PC 17758  108.9000  C105        C  \n",
       "1306  SOTON/O.Q. 3101262    7.2500   NaN        S  \n",
       "1307              359309    8.0500   NaN        S  \n",
       "1308                2668   22.3583   NaN        C  \n",
       "\n",
       "[1309 rows x 11 columns]"
      ]
     },
     "execution_count": 8,
     "metadata": {},
     "output_type": "execute_result"
    }
   ],
   "source": [
    "import pandas as pd\n",
    "\n",
    "# carregar \n",
    "df = pd.read_excel('./data/titanic.xlsx')\n",
    "\n",
    "# Removendo a coluna constante\n",
    "df.drop(columns='Name')"
   ]
  },
  {
   "cell_type": "markdown",
   "metadata": {},
   "source": [
    "## Dados Nulos"
   ]
  },
  {
   "cell_type": "markdown",
   "metadata": {},
   "source": [
    "### Problemática\n",
    "\n",
    "Dados nulos podem ser problemáticos pois indicam a falta de informação, o que pode afetar a precisão dos modelos e análises. Exemplos de problemas associados são:\n",
    "\n",
    "- **Distorsão de Estatísticas:** Dados nulos podem levar a cálculos incorretos de medidas estatísticas, como média e desvio padrão.\n",
    "- **Comprometimento de Modelos:** Em modelos de Machine Learning, dados nulos podem causar erros ou levar a resultados imprecisos.\n",
    "- **Perda de Informações:** A exclusão de linhas com dados nulos pode resultar na perda de dados valiosos.\n"
   ]
  },
  {
   "cell_type": "markdown",
   "metadata": {},
   "source": [
    "### Removendo dados nulos\n",
    "\n",
    "Uma das possíveis estratégias para tratar os dados nulos é sua completa remoção.\n",
    "\n",
    "#### Removendo colunas\n",
    "Quando temos uma coluna com boa parte dos dados nulos, significa que não conseguiríamos tirar insights dessas colunas. Além disso, modelos de machine learning e ferramentas de visualização de dados não precisam utilizar esses dados. Portanto, podemos remover esses dados sem problemas."
   ]
  },
  {
   "cell_type": "code",
   "execution_count": 15,
   "metadata": {},
   "outputs": [
    {
     "data": {
      "text/plain": [
       "PassengerId     0.000000\n",
       "Survived       31.932773\n",
       "Pclass          0.000000\n",
       "Name            0.000000\n",
       "Sex             0.000000\n",
       "Age            20.091673\n",
       "SibSp           0.000000\n",
       "Parch           0.000000\n",
       "Ticket          0.000000\n",
       "Fare            0.076394\n",
       "Cabin          77.463713\n",
       "Embarked        0.152788\n",
       "dtype: float64"
      ]
     },
     "execution_count": 15,
     "metadata": {},
     "output_type": "execute_result"
    }
   ],
   "source": [
    "# Vamo observar a porcentagem de dados nulos dos dados\n",
    "df.isna().sum()/df.shape[0]*100"
   ]
  },
  {
   "cell_type": "code",
   "execution_count": null,
   "metadata": {},
   "outputs": [],
   "source": [
    "# Apagar os dados de Cabin, por ser praticamente vazio nos dados\n",
    "df.drop(columns='Cabin')"
   ]
  },
  {
   "cell_type": "markdown",
   "metadata": {},
   "source": [
    "#### Removendo linhas nulas\n",
    "\n",
    "Às vezes algumas colunas de interese possuem vazios e fazem muita falta para compreensão dos dados.\n",
    "Por exemplo, no campo `Survived`, que nos diz se os passageiros sobreviveram ou não, não temos 32% dos dados. Podemos neste caso, remover os registros vazios, já que não sabemos se elas são sobre pessoas que sobreviveram ou não."
   ]
  },
  {
   "cell_type": "code",
   "execution_count": null,
   "metadata": {},
   "outputs": [],
   "source": [
    "# Remover registros nulos da coluna `Survived`\n",
    "df.dropna(subset='Survived')"
   ]
  },
  {
   "cell_type": "markdown",
   "metadata": {},
   "source": [
    "### Estratégias para preenchimento de dados nulos:\n",
    "\n",
    "Existem diversas estratégias para preencher dados nulos, entre elas, pode-se citar:\n",
    "\n",
    "1. **Preenchimento com média, mediana ou moda**\n",
    "- **Aplicação:** Recomendado para dados contínuos (média, mediana) e categóricos (moda).\n",
    "- **Prós:**\n",
    "  - Preserva a forma geral do conjunto de dados.\n",
    "  - Rápido e eficiente para grandes conjuntos de dados.\n",
    "- **Contras:**\n",
    "  - Pode ser enganoso se a distribuição dos dados for assimétrica ou tiver outliers significativos.\n",
    "  - Não leva em conta a possível correlação entre as variáveis.\n"
   ]
  },
  {
   "cell_type": "code",
   "execution_count": 24,
   "metadata": {},
   "outputs": [
    {
     "data": {
      "text/plain": [
       "0       S\n",
       "1       C\n",
       "2       S\n",
       "3       S\n",
       "4       S\n",
       "       ..\n",
       "1304    S\n",
       "1305    C\n",
       "1306    S\n",
       "1307    S\n",
       "1308    C\n",
       "Name: Embarked, Length: 1309, dtype: object"
      ]
     },
     "execution_count": 24,
     "metadata": {},
     "output_type": "execute_result"
    }
   ],
   "source": [
    "# Definir a moda dos dados\n",
    "embarked_moda = df['Embarked'].mode()\n",
    "\n",
    "# Inputar dados nulos\n",
    "df['Embarked'].fillna(embarked_moda)"
   ]
  },
  {
   "cell_type": "markdown",
   "metadata": {},
   "source": [
    "2. **Preenchimento com Valores Anteriores ou Posteriores**\n",
    "- **Aplicação:** Ideal para séries temporais ou dados onde a sequência é importante.\n",
    "- Prós:\n",
    "  - Mantém a sequência lógica nos dados, o que é crucial em séries temporais.\n",
    "- Contras:\n",
    "  - Pode introduzir viés se houver mudanças abruptas ou tendências nos dados.\n"
   ]
  },
  {
   "cell_type": "code",
   "execution_count": 35,
   "metadata": {},
   "outputs": [
    {
     "data": {
      "text/plain": [
       "5     1.0\n",
       "6     1.0\n",
       "7     1.0\n",
       "8     1.0\n",
       "9     2.0\n",
       "10    2.0\n",
       "11    3.0\n",
       "12    3.0\n",
       "13    3.0\n",
       "14    3.0\n",
       "dtype: float64"
      ]
     },
     "execution_count": 35,
     "metadata": {},
     "output_type": "execute_result"
    }
   ],
   "source": [
    "import numpy as np\n",
    "\n",
    "# Series exemplo\n",
    "lista_base = [0]*4+[1]\n",
    "minha_series = pd.Series(lista_base*10).cumsum()\n",
    "minha_series.loc[[11,12,13]] = np.nan\n",
    "\n",
    "# observar dados faltantes\n",
    "minha_series[5:15]\n",
    "\n",
    "# preencher dados faltantes com valores anteriores ou posteriores\n",
    "minha_series.fillna(method='ffill')[5:15]\n",
    "minha_series.fillna(method='bfill')[5:15]"
   ]
  },
  {
   "cell_type": "markdown",
   "metadata": {},
   "source": [
    "3. **Métodos de Interpolação**\n",
    "- **Aplicação:** Útil em séries temporais ou quando os dados seguem uma tendência.\n",
    "- **Prós:**\n",
    "  - Oferece um método mais sofisticado e adaptativo para estimar valores nulos.\n",
    "- **Contras:**\n",
    "  - Pode ser complexo de implementar e entender.\n"
   ]
  },
  {
   "cell_type": "code",
   "execution_count": 40,
   "metadata": {},
   "outputs": [
    {
     "data": {
      "text/plain": [
       "5     3.0\n",
       "6     3.0\n",
       "7     4.0\n",
       "8     4.0\n",
       "9     5.0\n",
       "10    5.0\n",
       "11    5.5\n",
       "12    6.0\n",
       "13    6.5\n",
       "14    7.0\n",
       "dtype: float64"
      ]
     },
     "execution_count": 40,
     "metadata": {},
     "output_type": "execute_result"
    }
   ],
   "source": [
    "# Series exemplo\n",
    "lista_base = [0,1]\n",
    "minha_series = pd.Series(lista_base*50).cumsum()\n",
    "minha_series.loc[[11,12,13]] = np.nan\n",
    "\n",
    "# observar dados faltantes\n",
    "minha_series[5:15]\n",
    "\n",
    "# preencher com dados interpolados\n",
    "minha_series.interpolate(method='linear')[5:15]"
   ]
  },
  {
   "cell_type": "markdown",
   "metadata": {},
   "source": [
    "## Dados Inputados Errados"
   ]
  },
  {
   "cell_type": "markdown",
   "metadata": {},
   "source": [
    "### Problemática\n",
    "\n",
    "Dados inseridos incorretamente podem levar a análises errôneas. Podem ser erros tipográficos, valores fora de escala, entre outros.\n"
   ]
  },
  {
   "cell_type": "markdown",
   "metadata": {},
   "source": [
    "### Resolução com .apply\n",
    "\n",
    "A função .apply do Pandas permite aplicar uma função a cada elemento de uma coluna, o que pode ser usado para corrigir dados errados.\n",
    "\n",
    "Suponha que uma coluna `Age` tenha um valores negativos, o que é claramente um erro.<br>\n",
    "Suponha também que idades fracionadas podem ser também arredondadas."
   ]
  },
  {
   "cell_type": "code",
   "execution_count": 42,
   "metadata": {},
   "outputs": [
    {
     "data": {
      "text/plain": [
       "0       22.0\n",
       "1       38.0\n",
       "2       26.0\n",
       "3       35.0\n",
       "4       35.0\n",
       "        ... \n",
       "1304     NaN\n",
       "1305    39.0\n",
       "1306    38.0\n",
       "1307     NaN\n",
       "1308     NaN\n",
       "Name: Age, Length: 1309, dtype: float64"
      ]
     },
     "execution_count": 42,
     "metadata": {},
     "output_type": "execute_result"
    }
   ],
   "source": [
    "# Função para correção\n",
    "def corrigir_idade(idade):\n",
    "    if idade < 0:\n",
    "        return idade * -1\n",
    "    else:\n",
    "        return np.round(idade,0)    \n",
    "\n",
    "# Aplicando a correção\n",
    "df['Age'].apply(corrigir_idade)"
   ]
  },
  {
   "cell_type": "markdown",
   "metadata": {},
   "source": [
    "# Dados Duplicados"
   ]
  },
  {
   "cell_type": "markdown",
   "metadata": {},
   "source": [
    "Às vezes acontece de termos dados duplicados no dataset, por diversos motivos, mas devemos sempre considerar se esses dados duplicados deveriam ser considerados nas nossas análises ou não.\n",
    "\n",
    "Para detectarmos dados duplicados, primeiro precisamos entender o que determina um dado ser duplicado? Varia de análise para análise. \n",
    "\n",
    "Por exemplo, numa situação em que queiramos contar quantas ocorrências de C0V1D aconteceram num município. Se uma determinada pessoa ficou doente mais de uma vez, seria considerado dado duplicado?\n",
    "\n",
    "Agora imagine a mesma situação, porém queremos contar quantas pessoas do município ficaram doentes. Seria considerado dado duplicado?\n",
    "\n",
    "Vamos então verificar no dataset se há algum ID ou Nome igual utilizando `.duplicates` por exemplo:"
   ]
  },
  {
   "cell_type": "code",
   "execution_count": null,
   "metadata": {},
   "outputs": [],
   "source": [
    "# procurar duplicados\n",
    "df[df['Name'].duplicated(keep=False)]"
   ]
  },
  {
   "cell_type": "markdown",
   "metadata": {},
   "source": [
    "Caso encontremos duplicados e queremos remover, podemos utilizar o método `drop_duplicates` (veja a documentação caso tenha alguma dúvida)"
   ]
  },
  {
   "cell_type": "code",
   "execution_count": null,
   "metadata": {},
   "outputs": [],
   "source": [
    "# deletar duplicados\n",
    "df['Name'].drop_duplicates(keep='last')"
   ]
  },
  {
   "cell_type": "markdown",
   "metadata": {},
   "source": [
    "# Hands-on"
   ]
  },
  {
   "cell_type": "markdown",
   "metadata": {},
   "source": [
    "1. Olhando para os dados tente encontrar dados duplicados, por exemplo, no teu caso de dados, faz sentido ter duas pessoas diferentes com a mesma idade, educação, salario, morando no mesmo local? <br> <br> Além disso, o que você poderia considerar com dado duplicado?"
   ]
  },
  {
   "cell_type": "markdown",
   "metadata": {},
   "source": [
    "2. Olhando para os dados nulos, qual ou quais as colunas que podem ser afetadas por esses tipos de dados? E qual a tua estratégia para tratar esses dados nulos?"
   ]
  },
  {
   "cell_type": "markdown",
   "metadata": {},
   "source": [
    "\n",
    "## Referências\n",
    "\n",
    "[Documentação Pandas](https://pandas.pydata.org/docs/)"
   ]
  }
 ],
 "metadata": {
  "kernelspec": {
   "display_name": "base",
   "language": "python",
   "name": "python3"
  },
  "language_info": {
   "codemirror_mode": {
    "name": "ipython",
    "version": 3
   },
   "file_extension": ".py",
   "mimetype": "text/x-python",
   "name": "python",
   "nbconvert_exporter": "python",
   "pygments_lexer": "ipython3",
   "version": "3.11.5"
  }
 },
 "nbformat": 4,
 "nbformat_minor": 2
}
