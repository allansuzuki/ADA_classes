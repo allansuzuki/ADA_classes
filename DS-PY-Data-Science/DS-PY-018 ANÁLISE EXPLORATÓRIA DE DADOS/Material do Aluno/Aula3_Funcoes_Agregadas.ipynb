{
 "cells": [
  {
   "cell_type": "markdown",
   "metadata": {},
   "source": [
    "# 🎯 Aula 3 - Funções agregadas no Pandas 🎯"
   ]
  },
  {
   "cell_type": "markdown",
   "metadata": {},
   "source": [
    "# Caso Real\n",
    "\n",
    "Designaram-te uma tarefa de análise do desempenho de diferentes agências em relação ao número de processos tributários realizados no ano atual. Você possui um conjunto de dados que contém informações sobre os processos, incluindo a agência onde foi realizados e a custo de ônus para a agência.\n",
    "\n",
    "Utilizando os dados abaixo, qual agência que mais é onerosa nos processos tributários? E qual é a agência que mais recorre a processos? \n",
    "\n",
    "Aqui está um exemplo de possíveis dados:\n",
    "\n",
    "```python\n",
    "{\n",
    "    'Agencia': ['Andaluz', 'Betina', 'Andaluz', 'Cordoba', 'Betina', 'Betina', 'Betina', 'Cordoba', 'Andaluz', 'Betina', 'D. Pedro', 'Andaluz',...],\n",
    "    'Gastos': [1000, 1500, 2000, 800, 1200, 800, 740, 1980 ,900, 1800, 1100, 1000, ...]\n",
    "}\n",
    "```\n",
    "\n",
    "Observando os dados, como você faria para obter as respostas?"
   ]
  },
  {
   "cell_type": "markdown",
   "metadata": {},
   "source": [
    "---\n",
    "Funções agregadas são essenciais no Pandas para sumarização, análise e interpretação de grandes conjuntos de dados. Elas ajudam a condensar informações, facilitando o entendimento de tendências, padrões e discrepâncias. As principais são: \n",
    "* soma, \n",
    "* máximo, \n",
    "* mínimo, \n",
    "* contagem e \n",
    "* média (já visto na aula anterior)\n",
    "\n",
    "A sumarização de dados é um passo crucial na análise de dados. Ela permite transformar dados brutos em informações compreensíveis, resumindo características importantes dos dados e fornecendo insights valiosos."
   ]
  },
  {
   "cell_type": "markdown",
   "metadata": {},
   "source": [
    "## Soma\n",
    "A função `.sum()` calcula a soma total dos elementos de uma série ou coluna de um DataFrame.\n",
    "\n",
    "Utilizaremos o famoso dataset `titanic`, no qual contém informações dos passageiros do Titanic e se sobreviveram ao naufrágio ou não."
   ]
  },
  {
   "cell_type": "code",
   "execution_count": 2,
   "metadata": {},
   "outputs": [],
   "source": [
    "#import \n",
    "import pandas as pd\n",
    "\n",
    "#load dataset\n",
    "df = pd.read_excel('./data/titanic.xlsx')"
   ]
  },
  {
   "cell_type": "markdown",
   "metadata": {},
   "source": [
    "Se quisermos saber quantos sobreviventes no total sobreviveram, somamos a coluna `Survived`:"
   ]
  },
  {
   "cell_type": "code",
   "execution_count": 5,
   "metadata": {},
   "outputs": [
    {
     "data": {
      "text/plain": [
       "342.0"
      ]
     },
     "execution_count": 5,
     "metadata": {},
     "output_type": "execute_result"
    }
   ],
   "source": [
    "df['Survived'].sum()"
   ]
  },
  {
   "cell_type": "markdown",
   "metadata": {},
   "source": [
    "Já se quisermos saber qual é a porcentagem de sobreviventes, podemos realizar a contagem total de dados que temos:\n"
   ]
  },
  {
   "cell_type": "markdown",
   "metadata": {},
   "source": [
    "## Contagem\n",
    "\n",
    "A função `.count()` é usada para contar o número de itens em um conjunto de dados.\n",
    "\n",
    "Usando o dataframe do exemplo anterior, podemos encontrar a contagem de passageiros no dataset:"
   ]
  },
  {
   "cell_type": "code",
   "execution_count": 6,
   "metadata": {},
   "outputs": [
    {
     "data": {
      "text/plain": [
       "891"
      ]
     },
     "execution_count": 6,
     "metadata": {},
     "output_type": "execute_result"
    }
   ],
   "source": [
    "df['Survived'].count()"
   ]
  },
  {
   "cell_type": "markdown",
   "metadata": {},
   "source": [
    "Assim, é possível, por exemplo, calcular a porcentagem de sobreviventes:"
   ]
  },
  {
   "cell_type": "code",
   "execution_count": 7,
   "metadata": {},
   "outputs": [
    {
     "data": {
      "text/plain": [
       "0.3838383838383838"
      ]
     },
     "execution_count": 7,
     "metadata": {},
     "output_type": "execute_result"
    }
   ],
   "source": [
    "df['Survived'].sum()/df['Survived'].count()"
   ]
  },
  {
   "cell_type": "markdown",
   "metadata": {},
   "source": [
    "**Obs:** Também é possível ter o mesmo resultado utilizando a função `len()` ou `shape[0]`, porém é recomendado usar o `count` já que ele NÃO leva em consideração valores nulos, o que normalmente é desejável."
   ]
  },
  {
   "cell_type": "markdown",
   "metadata": {},
   "source": [
    "## Máximo e Mínimo\n",
    "\n",
    "A função `.max()` identifica o maior valor em uma série ou coluna. Já a função `.min()` encontra o menor valor em uma série ou coluna. É crucial para análises que necessitam identificar extremos e valores máximos e mínimos.\n",
    "\n",
    "Consideremos o dataframe do exemplo anterior. Podemos calcular a maior e a menor idade dos passageiros:"
   ]
  },
  {
   "cell_type": "code",
   "execution_count": 9,
   "metadata": {},
   "outputs": [
    {
     "name": "stdout",
     "output_type": "stream",
     "text": [
      "Maior idade: 80.0 \n",
      "Menor idade 0.17\n"
     ]
    }
   ],
   "source": [
    "print('Maior idade:',df['Age'].max(),'\\nMenor idade',df['Age'].min())"
   ]
  },
  {
   "cell_type": "markdown",
   "metadata": {},
   "source": [
    "## Agrupamento com *groupby*\n",
    "\n",
    "O `.groupby()` é uma técnica que permite agrupar dados com base em categorias e aplicar funções agregadas a cada grupo. Isso é particularmente útil para análises segmentadas e comparativas, como calcular médias, somas ou outros agregados por categorias específicas.\n",
    "\n",
    "Vamos pesquisar qual é a proporção de sobreviventes por classe embarcada:"
   ]
  },
  {
   "cell_type": "code",
   "execution_count": 14,
   "metadata": {},
   "outputs": [
    {
     "data": {
      "text/plain": [
       "Pclass\n",
       "1    0.629630\n",
       "2    0.472826\n",
       "3    0.242363\n",
       "Name: Survived, dtype: float64"
      ]
     },
     "execution_count": 14,
     "metadata": {},
     "output_type": "execute_result"
    }
   ],
   "source": [
    "print('Sobreviventes:')\n",
    "df.groupby('Pclass')['Survived'].sum()/df.groupby('Pclass')['Survived'].count()\n",
    "print('Sobreviventes:')"
   ]
  },
  {
   "cell_type": "markdown",
   "metadata": {},
   "source": [
    "Todas as outras funções que aprendemos na aula passada sobre medidas de centralidade também podem ser aplicadas às agregações."
   ]
  },
  {
   "cell_type": "markdown",
   "metadata": {},
   "source": [
    "---\n",
    "# Hands-on"
   ]
  },
  {
   "cell_type": "markdown",
   "metadata": {},
   "source": [
    "Vamos continuar com as tarefas no mesmo dataset de empréstimos pessoais.\n",
    "\n",
    "Agora estamos mais interessados em agregar os resultados. Quem sabe podemos descobrir alguma peculiaridade nos dados. \n",
    "\n",
    "* Qual é o salário médio por educação pros clientes que aceitaram ou rejeitaram o empréstimo?\n",
    "* Qual é a mediana da quantidade de serviços financeiros dos clientes que aceitaram ou rejeitaram o empréstimo? (Considere o credit card como um serviço financeiro também)\n",
    "* Qual é a porcentagem de clientes que possuem o cartão de crédito do banco que aceitaram ou rejeitaram o empréstimo?"
   ]
  },
  {
   "cell_type": "code",
   "execution_count": 1,
   "metadata": {},
   "outputs": [],
   "source": [
    "import pandas as pd\n",
    "df_loan = pd.read_csv('./data/Projectdata_Bank_Personal_Loan_Modelling.csv')"
   ]
  },
  {
   "cell_type": "code",
   "execution_count": 22,
   "metadata": {},
   "outputs": [
    {
     "data": {
      "text/plain": [
       "Education  Personal Loan\n",
       "1.0        0                 83.054501\n",
       "           1                136.061856\n",
       "2.0        0                 52.103175\n",
       "           1                145.464865\n",
       "3.0        0                 53.206922\n",
       "           1                148.094340\n",
       "Name: Income, dtype: float64"
      ]
     },
     "execution_count": 22,
     "metadata": {},
     "output_type": "execute_result"
    }
   ],
   "source": [
    "# Qual é o salário médio por educação pros clientes que aceitaram ou rejeitaram o empréstimo?\n",
    "df_loan.groupby(['Education','Personal Loan'])['Income'].mean()"
   ]
  },
  {
   "cell_type": "code",
   "execution_count": 16,
   "metadata": {},
   "outputs": [
    {
     "data": {
      "text/plain": [
       "Personal Loan\n",
       "0    1.0\n",
       "1    1.0\n",
       "Name: finservices, dtype: float64"
      ]
     },
     "execution_count": 16,
     "metadata": {},
     "output_type": "execute_result"
    }
   ],
   "source": [
    "# Qual é a mediana da quantidade de serviços financeiros dos clientes que \n",
    "# aceitaram ou rejeitaram o empréstimo? (Considere o credit card como um serviço financeiro também)\n",
    " \n",
    "#convert mortgage to hasMortgage\n",
    "has_mortgage = (df_loan['Mortgage']>0).astype('int0')\n",
    "df_loan_w_finserv = df_loan.assign(finservices = lambda x: df_loan[['CD Account','Securities Account','CreditCard']].sum(axis=1) + has_mortgage)\n",
    "\n",
    "df_loan_w_finserv.groupby('Personal Loan')['finservices'].median()"
   ]
  },
  {
   "cell_type": "code",
   "execution_count": 20,
   "metadata": {},
   "outputs": [
    {
     "data": {
      "text/plain": [
       "Personal Loan  CreditCard\n",
       "0              0             0.706410\n",
       "               1             0.293590\n",
       "1              0             0.700803\n",
       "               1             0.299197\n",
       "Name: CreditCard, dtype: float64"
      ]
     },
     "execution_count": 20,
     "metadata": {},
     "output_type": "execute_result"
    }
   ],
   "source": [
    "# Qual é a porcentagem de clientes que possuem o cartão de crédito do banco que aceitaram ou rejeitaram o empréstimo?\n",
    "df_loan.groupby(['Personal Loan','CreditCard'])['CreditCard'].count()/df_loan.groupby(['Personal Loan'])['CreditCard'].count()"
   ]
  },
  {
   "cell_type": "markdown",
   "metadata": {},
   "source": [
    "\n",
    "## Referências\n",
    "[Documentação Pandas](https://pandas.pydata.org/docs/)\n",
    "\n",
    "[Referencia para funções agregadas](https://sparkbyexamples.com/pandas/pandas-aggregate-functions-with-examples/)"
   ]
  }
 ],
 "metadata": {
  "kernelspec": {
   "display_name": "base",
   "language": "python",
   "name": "python3"
  },
  "language_info": {
   "codemirror_mode": {
    "name": "ipython",
    "version": 3
   },
   "file_extension": ".py",
   "mimetype": "text/x-python",
   "name": "python",
   "nbconvert_exporter": "python",
   "pygments_lexer": "ipython3",
   "version": "3.11.5"
  }
 },
 "nbformat": 4,
 "nbformat_minor": 2
}
