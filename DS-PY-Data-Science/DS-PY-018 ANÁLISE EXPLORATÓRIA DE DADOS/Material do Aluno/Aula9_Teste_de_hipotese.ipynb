{
 "cells": [
  {
   "cell_type": "markdown",
   "metadata": {},
   "source": [
    "# Testes de Hipótese\n",
    "\n",
    "Testes de hipótese são procedimentos estatísticos fundamentais usados para inferir se uma condição particular é válida para toda a população a partir de uma amostra de dados suficientemente grande (ou significativa) "
   ]
  },
  {
   "cell_type": "markdown",
   "metadata": {},
   "source": [
    "# Importância do Teste de Hipótese"
   ]
  },
  {
   "cell_type": "markdown",
   "metadata": {},
   "source": [
    "Testes de hipótese são importantes para validações estatística para nossas análises. Alguns exemplos de uso desses testes são:\n",
    "\n",
    "- **Decisões Baseadas em Dados:** Testes de hipótese ajudam a tomar decisões informadas e baseadas em evidências estatísticas, em vez de intuição ou suposições.\n",
    "<br> Por exemplo, Uma loja online usa o teste de hipótese testa para ver entre duas estratégias de checkout (teste A/B) qual converte mais.\n",
    "\n",
    "- **Validação Científica:** São essenciais na pesquisa científica para validar ou refutar hipóteses experimentais.\n",
    "<br> Por exemplo, um cientista usa o teste de hipótese para testar se um novo medicamento é eficaz comparando os resultados entre um grupo de pacientes que o recebe e outro que recebe um placebo.\n",
    "\n",
    "- **Análise de Diferenças:** Permitem avaliar se diferenças observadas em amostras de dados são significativas ou devidas ao acaso.\n",
    "<br>Por exemplo, um pesquisador usa o teste de hipótese para verificar se há diferenças significativas no tempo gasto em uma tarefa entre diferentes faixas etárias."
   ]
  },
  {
   "cell_type": "markdown",
   "metadata": {},
   "source": [
    "# Interpretando o Resultado de um Teste de Hipótese\n",
    "\n",
    "Em Python, podemos usar bibliotecas como `scipy` para realizar testes de hipótese. Por exemplo, para um teste t (comparação das médias de duas amostras), o processo seria:"
   ]
  },
  {
   "cell_type": "code",
   "execution_count": 1,
   "metadata": {},
   "outputs": [
    {
     "name": "stdout",
     "output_type": "stream",
     "text": [
      "Estatística t: -2.803059552906939\n",
      "Valor p: 0.018696160788436764\n"
     ]
    }
   ],
   "source": [
    "from scipy import stats\n",
    "\n",
    "# Dados de exemplo\n",
    "amostra1 = [20, 22, 19, 20, 22, 21]\n",
    "amostra2 = [22, 21, 22, 23, 24, 23]\n",
    "\n",
    "# Realizando um teste t\n",
    "t_stat, p_valor = stats.ttest_ind(amostra1, amostra2)\n",
    "\n",
    "print(\"Estatística t:\", t_stat)\n",
    "print(\"p-valor:\", p_valor)"
   ]
  },
  {
   "cell_type": "markdown",
   "metadata": {},
   "source": [
    "# Passos para Interpretação do Teste\n",
    "\n",
    "Testes Estatísticos servem para determinar se uma hipótese é significativa ou não. Só podemos fazer uma única pergunta para o teste e essa pergunta é mais ou menos parecida com qual é a probabilidade da hipótese nula (H0) ser verdadeira? \n",
    "\n",
    "O teste nos responde com uma probabilidade e, baseado num limite de confiança definido, identificamos se essa probabilidade é significativa a ponto de considerar a hipótese nula (H0) verdadeira ou não.\n",
    "\n",
    "Todo teste de hipótese possui esses elementos-chave e estas etapas abaixo para sua interpretação:\n",
    "\n",
    "1. **Definir Hipóteses:**\n",
    "- **Hipótese Nula (H0):** A hipótese de que não há diferença ou efeito.\n",
    "- **Hipótese Alternativa (H1):** A hipótese de que há uma diferença ou efeito.\n",
    "2. **Calcular o p-valor:**<br> \n",
    "**p-valor:** Determina a probabilidade de obter os resultados observados se a H0 for verdadeira.\n",
    "\n",
    "3. **Comparar com o Nível de Significância:**<br>\n",
    "**Nível de Significância (α):** O limiar usado para determinar a significância estatística, geralmente definido como 0.05<br><br>- Se o valor p < α, rejeitamos a hipótese nula (indicando que há evidências para suportar a hipótese alternativa).<br><br>- Se o valor p ≥ α, não rejeitamos a hipótese nula (indicando que não há evidências suficientes para suportar a hipótese alternativa).\n"
   ]
  },
  {
   "cell_type": "markdown",
   "metadata": {},
   "source": [
    "## Exemplo de Interpretação\n",
    "\n",
    "Vamos relembrar o caso acima: queremos comparar se a média de duas amostras são idênticas. Ou seja, ao invés de dizermos que as 2 médias são próximas baseados em suposição, agora temos uma ferramenta estatística que pode atestar isto com mais assertividade.\n",
    "\n",
    "Neste caso estamos falando do teste de hipótese teste t. A sua hipótese nula (H0) atesta que 2 amostras possuem médias idênticas (como saber isto? olhar na documentação ou pesquisar fontes confiáveis 😜).\n",
    "\n",
    "1. **Definir Hipóteses:**\n",
    " - **Hipótese Nula (H0):** As 2 amostras possuem médias idênticas.\n",
    " - **Hipótese Alternativa (H1):** As 2 amostras não possuem médias idênticas.\n",
    "\n",
    "2. **Calcular o Valor p:**<br> p-valor = 0.018696160788436764\n",
    "\n",
    "3. **Comparar com o Nível de Significância:**<br><br>\n",
    "$\\alpha$ = 0.05 (padrão)<br>p-valor $< \\alpha \\rightarrow$ Rejeita $H0$<br><br>No exemplo acima, o p-valor é menor que o nível de significância  $\\alpha$ (0.05), ou seja, é **estatisticamente significativa** que as médias das duas amostras NÃO sejam idênticas, ou seja, negamos H0. \n",
    "\n",
    "Caso o p-valor fosse maior que 0.05, não poderíamos concluir que há uma diferença significativa, e aceitaríamos H0."
   ]
  },
  {
   "cell_type": "markdown",
   "metadata": {},
   "source": []
  },
  {
   "cell_type": "markdown",
   "metadata": {},
   "source": [
    "\n",
    "# Referências\n",
    "\n",
    "[Documentação Pandas](https://pandas.pydata.org/docs/)\n",
    "\n",
    "[Documentação Scipy](https://scipy.org/)\n",
    "\n",
    "<!-- Revisor, alguma sugestão de referência sobre testes de hipótese? Podemos citar livros aqui? Qual seria a melhor abordagem? --!> "
   ]
  }
 ],
 "metadata": {
  "kernelspec": {
   "display_name": "base",
   "language": "python",
   "name": "python3"
  },
  "language_info": {
   "codemirror_mode": {
    "name": "ipython",
    "version": 3
   },
   "file_extension": ".py",
   "mimetype": "text/x-python",
   "name": "python",
   "nbconvert_exporter": "python",
   "pygments_lexer": "ipython3",
   "version": "3.11.5"
  }
 },
 "nbformat": 4,
 "nbformat_minor": 2
}
