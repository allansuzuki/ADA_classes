{
 "cells": [
  {
   "cell_type": "markdown",
   "metadata": {
    "application/vnd.databricks.v1+cell": {
     "cellMetadata": {},
     "inputWidgets": {},
     "nuid": "c2d6122e-12fc-4326-863b-1a59da37e1f7",
     "showTitle": false,
     "title": ""
    },
    "id": "BUSRlt4Shf-w"
   },
   "source": [
    "# 🎯 Aula 1 - Introdução ao Pandas - dados tabulares 🎯<br>"
   ]
  },
  {
   "cell_type": "markdown",
   "metadata": {},
   "source": [
    "\n",
    "Na aula de hoje veremos com trabalhar com dados tabulares em alto nível, usando a biblioteca [pandas](https://pandas.pydata.org/).\n",
    "\n",
    "O [Pandas](https://pandas.pydata.org/) é uma das bibliotecas mais usadas em **ciência de dados**.\n",
    "\n",
    "Esta biblioteca, construída a partir do Numpy, possibilita a estruturação e manipulação de dados de maneira simples e eficiente.\n",
    "\n",
    "Como os dados são a matéria prima de todo projeto de Data Science, manipulá-los é fundamental! Por isso, utilizaremos o Pandas em quase todas as aulas daqui pra frente!"
   ]
  },
  {
   "cell_type": "markdown",
   "metadata": {
    "application/vnd.databricks.v1+cell": {
     "cellMetadata": {},
     "inputWidgets": {},
     "nuid": "ad4823ed-5d51-4b50-83fc-25d764cecfd1",
     "showTitle": false,
     "title": ""
    },
    "id": "ayqNQpd0iODA"
   },
   "source": [
    "____\n",
    "[Guia do pandas](https://pandas.pydata.org/docs/user_guide/index.html#user-guide)"
   ]
  },
  {
   "cell_type": "markdown",
   "metadata": {
    "application/vnd.databricks.v1+cell": {
     "cellMetadata": {},
     "inputWidgets": {},
     "nuid": "2053b90e-07f1-4101-bed8-fbe4f71f03df",
     "showTitle": false,
     "title": ""
    },
    "id": "6j0mhZICiPfv"
   },
   "source": [
    "____\n",
    "Nesta primeira aula, avaliaremos:\n",
    "- O que são Séries e DataFrames;\n",
    "- Alguns dos principais métodos para operar com Séries;\n",
    "- Leitura e gravação de conjuntos de dados com pandas."
   ]
  },
  {
   "cell_type": "markdown",
   "metadata": {
    "application/vnd.databricks.v1+cell": {
     "cellMetadata": {},
     "inputWidgets": {},
     "nuid": "b29dd111-7ae8-4e4c-90b9-78223ed6ed1b",
     "showTitle": false,
     "title": ""
    },
    "id": "v8MpbH8IiSNA"
   },
   "source": [
    "____\n",
    "Até então trabalhamos em análises de dados utilizando listas, dicionários, etc...\n",
    "Mas pensando em observar dados de tabelas, qual a primeira ferramenta que vem a mente?\n",
    "\n",
    "Em que situações utilizamos esta ferramenta? E quais suas desvantagens em relação a visualização e manipulação de dados?"
   ]
  },
  {
   "cell_type": "markdown",
   "metadata": {},
   "source": [
    "# Instalando e importando o Pandas"
   ]
  },
  {
   "cell_type": "markdown",
   "metadata": {},
   "source": [
    "Primeiro passo para utilizarmos o Pandas (package de manipulação de dados do python). Escreva o comando abaixo no terminal associado ao enviroment do python que estás a usar:\n",
    "\n",
    "``` sh\n",
    "pip install pandas\n",
    "```\n",
    "<br>\n",
    "Em seguida, rodamos o comando abaixo no notebook para importar o pandas \n",
    "\n",
    "```python\n",
    "import pandas\n",
    "```\n",
    "\n",
    "Caso a etapa anterior não tenha dado certo, surgirá um erro ao importar."
   ]
  },
  {
   "cell_type": "code",
   "execution_count": null,
   "metadata": {},
   "outputs": [],
   "source": [
    "#importar o pandas com alias pd\n",
    "import pandas as pd"
   ]
  },
  {
   "cell_type": "markdown",
   "metadata": {
    "application/vnd.databricks.v1+cell": {
     "cellMetadata": {},
     "inputWidgets": {},
     "nuid": "519d2b85-42a3-4f25-9f64-6ec99cf0f1d0",
     "showTitle": false,
     "title": ""
    },
    "id": "KZB7p8ISkuo0"
   },
   "source": [
    "# Séries\n",
    "\n",
    "Antes de falarmos das potencialidades do *Pandas*, precisamos falar das suas estruturas básicas.\n",
    "\n",
    "O objeto fundamental do Pandas são as **Series**. As Series são as **colunas das tabelas** (que veremos mais a frente), e por baixo dos panos, os dados ficam armazenados como numpy arrays!\n",
    "\n",
    "A diferença é que a série possui um **índice associado as linhas**, permitindo o acesso aos conteúdos dessa estrutura por ele, como um dicionário.\n",
    "\n",
    "Além disso, as séries têm métodos específicos que serão super úteis para nossas análises e manipulações de dados."
   ]
  },
  {
   "cell_type": "markdown",
   "metadata": {},
   "source": [
    "## Gerando uma Series\n",
    "Podemos criar uma série **a partir de uma lista**, usando a função do pandas `pd.Series()`:"
   ]
  },
  {
   "cell_type": "code",
   "execution_count": null,
   "metadata": {
    "application/vnd.databricks.v1+cell": {
     "cellMetadata": {},
     "inputWidgets": {},
     "nuid": "9f0325ec-459c-4fdf-bcfc-267ef46f37d1",
     "showTitle": false,
     "title": ""
    },
    "colab": {
     "base_uri": "https://localhost:8080/"
    },
    "id": "_ybR1Avykkjv",
    "outputId": "6e469355-8020-47d4-bbaa-3ac922e82075"
   },
   "outputs": [],
   "source": [
    "#Criando uma lista\n",
    "lista = [4,6,3,7,25]\n",
    "lista\n",
    "# Série a partir de uma lista\n",
    "# os índices das linhas são automaticamente definidos\n",
    "serie = pd.Series(lista)"
   ]
  },
  {
   "cell_type": "code",
   "execution_count": null,
   "metadata": {},
   "outputs": [],
   "source": [
    "serie"
   ]
  },
  {
   "cell_type": "markdown",
   "metadata": {
    "application/vnd.databricks.v1+cell": {
     "cellMetadata": {},
     "inputWidgets": {},
     "nuid": "a64ad204-61cd-4ce1-bf36-084dbeb0ae68",
     "showTitle": false,
     "title": ""
    },
    "id": "QzRguO5hlG28"
   },
   "source": [
    "Os números à esquerda são os **índices** da série, e, aqueles à direita, são seus **valores**. Podemos também acessá-los separadamente."
   ]
  },
  {
   "cell_type": "code",
   "execution_count": null,
   "metadata": {
    "application/vnd.databricks.v1+cell": {
     "cellMetadata": {},
     "inputWidgets": {},
     "nuid": "ac47417f-fd70-422c-90eb-787d47dde2af",
     "showTitle": false,
     "title": ""
    },
    "colab": {
     "base_uri": "https://localhost:8080/"
    },
    "id": "g5C166zDlEmz",
    "outputId": "b16769e2-f8c5-4f2c-cba0-1d0c2f74bb81"
   },
   "outputs": [],
   "source": [
    "# valores\n",
    "serie.values"
   ]
  },
  {
   "cell_type": "code",
   "execution_count": null,
   "metadata": {
    "application/vnd.databricks.v1+cell": {
     "cellMetadata": {},
     "inputWidgets": {},
     "nuid": "9ff279fc-584b-4437-9d9a-d88b5e046194",
     "showTitle": false,
     "title": ""
    },
    "colab": {
     "base_uri": "https://localhost:8080/"
    },
    "id": "37IlFa-clI-7",
    "outputId": "daea4bc4-38f6-4ae1-9eb1-4a063728541c"
   },
   "outputs": [],
   "source": [
    "# índices\n",
    "serie.index"
   ]
  },
  {
   "cell_type": "markdown",
   "metadata": {},
   "source": [
    "A obtenção de itens de uma Series é muito similar à maneira de como fazemos com listas:"
   ]
  },
  {
   "cell_type": "code",
   "execution_count": null,
   "metadata": {},
   "outputs": [],
   "source": [
    "serie[0]"
   ]
  },
  {
   "cell_type": "markdown",
   "metadata": {},
   "source": [
    "Também podemos realizar slicing nas Series, tal como fazemos nas listas."
   ]
  },
  {
   "cell_type": "markdown",
   "metadata": {
    "application/vnd.databricks.v1+cell": {
     "cellMetadata": {},
     "inputWidgets": {},
     "nuid": "e4632fd2-c9c9-47fe-9e1a-9b2cdd70cb64",
     "showTitle": false,
     "title": ""
    },
    "id": "SpAXem_pmOqb"
   },
   "source": [
    "## Extra: Operações com séries\n",
    "\n",
    "Como são gerados como numpy arrays, de modo semelhante, operações com séries são realizadas elemento a elemento. E assim podemos somar, multiplicar, realizar qualquer cálculo com as Series.\n"
   ]
  },
  {
   "cell_type": "code",
   "execution_count": null,
   "metadata": {
    "application/vnd.databricks.v1+cell": {
     "cellMetadata": {},
     "inputWidgets": {},
     "nuid": "72686454-189f-4016-8e25-5c2558edaa00",
     "showTitle": false,
     "title": ""
    },
    "colab": {
     "base_uri": "https://localhost:8080/"
    },
    "id": "mbcn1VOBmJIC",
    "outputId": "45f24d59-cf2f-4b4f-bf52-c71088fa6515"
   },
   "outputs": [],
   "source": [
    "# Criando duas Series de listas de mesmo tamanho\n",
    "series1 = pd.Series(range(1,10))\n",
    "series2 = pd.Series([0,1,100]*3)"
   ]
  },
  {
   "cell_type": "code",
   "execution_count": null,
   "metadata": {
    "application/vnd.databricks.v1+cell": {
     "cellMetadata": {},
     "inputWidgets": {},
     "nuid": "0d9e3e35-8cc9-44b1-b6d1-db821928e5ce",
     "showTitle": false,
     "title": ""
    },
    "colab": {
     "base_uri": "https://localhost:8080/"
    },
    "id": "7JgUlUSXmdeB",
    "outputId": "e06b561e-ddb0-4ce3-9b47-6038e7e4597c"
   },
   "outputs": [],
   "source": [
    "# Operações aritméticas básicas funcionam elemento a elemento\n",
    "# soma\n",
    "series1+5"
   ]
  },
  {
   "cell_type": "code",
   "execution_count": null,
   "metadata": {},
   "outputs": [],
   "source": [
    "# soma de series\n",
    "series1+series2"
   ]
  },
  {
   "cell_type": "code",
   "execution_count": null,
   "metadata": {
    "application/vnd.databricks.v1+cell": {
     "cellMetadata": {},
     "inputWidgets": {},
     "nuid": "9ae35593-946f-44f4-953d-d9c30e14faa7",
     "showTitle": false,
     "title": ""
    },
    "colab": {
     "base_uri": "https://localhost:8080/"
    },
    "id": "zsw7fWvemecq",
    "outputId": "bdbaab02-9e7d-4a11-f39d-f9361a092c04"
   },
   "outputs": [],
   "source": [
    "# multiplicacao\n",
    "serie*5"
   ]
  },
  {
   "cell_type": "code",
   "execution_count": null,
   "metadata": {},
   "outputs": [],
   "source": [
    "# multiplicacao\n",
    "series1 * series2"
   ]
  },
  {
   "cell_type": "code",
   "execution_count": null,
   "metadata": {
    "application/vnd.databricks.v1+cell": {
     "cellMetadata": {},
     "inputWidgets": {},
     "nuid": "7cc79b35-8704-44d9-9f7c-f7fb52ddcbdf",
     "showTitle": false,
     "title": ""
    },
    "colab": {
     "base_uri": "https://localhost:8080/"
    },
    "id": "F759Rwb3midL",
    "outputId": "dc518aed-23d1-4641-d034-4dcf88d57fe3"
   },
   "outputs": [],
   "source": [
    "# Condicionais / verificaçoes\n",
    "# numeros pares\n",
    "series1 % 2 == 0"
   ]
  },
  {
   "cell_type": "code",
   "execution_count": null,
   "metadata": {
    "application/vnd.databricks.v1+cell": {
     "cellMetadata": {},
     "inputWidgets": {},
     "nuid": "69863ded-0f66-4be7-9439-2fa4fa4abc16",
     "showTitle": false,
     "title": ""
    },
    "colab": {
     "base_uri": "https://localhost:8080/"
    },
    "id": "bXimzwJCmjvC",
    "outputId": "6d6a62d6-1d6a-4a0d-de4b-3ee2a673eaa8"
   },
   "outputs": [],
   "source": [
    "# numeros maiores que 10\n",
    "series2 > 10"
   ]
  },
  {
   "cell_type": "markdown",
   "metadata": {
    "application/vnd.databricks.v1+cell": {
     "cellMetadata": {},
     "inputWidgets": {},
     "nuid": "fded0400-5b4e-4ddf-a512-e7b8666a21fc",
     "showTitle": false,
     "title": ""
    },
    "id": "aH7h9gQQnaSr"
   },
   "source": [
    "E com dados de formatos diferentes?"
   ]
  },
  {
   "cell_type": "code",
   "execution_count": 3,
   "metadata": {
    "application/vnd.databricks.v1+cell": {
     "cellMetadata": {},
     "inputWidgets": {},
     "nuid": "272c5688-0948-4c0d-9dc1-78b36559bc93",
     "showTitle": false,
     "title": ""
    },
    "id": "2b58UfcgnVkh"
   },
   "outputs": [],
   "source": [
    "s_texto = pd.Series(['a','b','c'])\n",
    "s_numero = pd.Series([1,2,3])"
   ]
  },
  {
   "cell_type": "markdown",
   "metadata": {},
   "source": [
    "O que acontecia com strings mutiplicadas por números inteiros mesmo?"
   ]
  },
  {
   "cell_type": "code",
   "execution_count": null,
   "metadata": {
    "application/vnd.databricks.v1+cell": {
     "cellMetadata": {},
     "inputWidgets": {},
     "nuid": "d042fa59-9031-4873-9960-fb07af8ef9d9",
     "showTitle": false,
     "title": ""
    },
    "colab": {
     "base_uri": "https://localhost:8080/"
    },
    "id": "VtxqxulWneNi",
    "outputId": "c1d84fea-b3e9-46ec-a1f6-413f72a9784f"
   },
   "outputs": [],
   "source": [
    "# Com strings\n",
    "print('a'*1)\n",
    "print('b'*2)\n",
    "print('c'*3)"
   ]
  },
  {
   "cell_type": "markdown",
   "metadata": {},
   "source": [
    "O mesmo efeito acontece entre a multiplicação de series entre strings e números"
   ]
  },
  {
   "cell_type": "code",
   "execution_count": null,
   "metadata": {
    "application/vnd.databricks.v1+cell": {
     "cellMetadata": {},
     "inputWidgets": {},
     "nuid": "cb54f32c-fc79-4612-82f8-e3808dddd906",
     "showTitle": false,
     "title": ""
    },
    "colab": {
     "base_uri": "https://localhost:8080/"
    },
    "id": "fnN8uqQvnfg6",
    "outputId": "afcfb581-6c14-43a4-828f-9c30f9006300"
   },
   "outputs": [],
   "source": [
    "# Mesmo efeito para as séries\n",
    "s_texto*s_numero"
   ]
  },
  {
   "cell_type": "markdown",
   "metadata": {},
   "source": [
    "# DataFrame\n",
    "\n",
    "Agora que conhecemos as séries, vamos partir pro objeto do Pandas que mais utilizaremos: o **DataFrame**. <br>\n",
    "Como veremos a seguir, o DataFrame é uma estrutura que se assemalha a uma **tabela** do excel. <br>\n",
    "\n",
    "Estruturalmente, o DataFrame nada mais é que um **conjunto de Series**, uma para cada coluna (e, claro, com mesmo índice, que irão indexar as linhas).\n",
    "Veremos depois como **ler um dataframe a partir de um arquivo** (que é provavelmente a forma mais comum).\n",
    "\n",
    "Há muitas formas de construir um DataFrame do zero. Todas elas fazem uso da função **pd.DataFrame()**, como veremos a seguir. Se quisermos especificar os índices de linha, o nome das colunas, e os dados, podemos passá-los separadamente.\n",
    "\n",
    "**Obs.:** As colunas dos DataFrames são Series. Assim, tudo que vimos para as séries se aplica para cada coluna do DataFrame!"
   ]
  },
  {
   "cell_type": "code",
   "execution_count": 8,
   "metadata": {},
   "outputs": [
    {
     "data": {
      "text/plain": [
       "[[1, 2, 3], [2, 4, 6], [3, 6, 9], [4, 8, 12], [5, 10, 15]]"
      ]
     },
     "execution_count": 8,
     "metadata": {},
     "output_type": "execute_result"
    }
   ],
   "source": [
    "# Gerando uma matriz (5,3) de números inteiros\n",
    "nrows = 5\n",
    "ncols = 3\n",
    "matriz = [[item*r for item in range(1,ncols+1)] for r in range(1,nrows+1)]\n",
    "matriz"
   ]
  },
  {
   "cell_type": "code",
   "execution_count": null,
   "metadata": {},
   "outputs": [],
   "source": [
    "#Transformando essa matriz em um DF\n",
    "pd.DataFrame(matriz)"
   ]
  },
  {
   "cell_type": "code",
   "execution_count": null,
   "metadata": {},
   "outputs": [],
   "source": [
    "# Conseguimos definir nomes pros índices e colunas\n",
    "df = pd.DataFrame(matriz,\n",
    "                               index = ['aluno1','aluno2','aluno3','aluno4','aluno5'],\n",
    "                               columns=['id','nota','aulas_presente'])"
   ]
  },
  {
   "cell_type": "code",
   "execution_count": null,
   "metadata": {},
   "outputs": [],
   "source": [
    "df"
   ]
  },
  {
   "cell_type": "markdown",
   "metadata": {},
   "source": [
    "## Acessando posições do dataframe\n",
    "\n",
    "- .loc(): acessamos os rótulos com os **nomes** das linhas e colunas;\n",
    "- .iloc(): acessamos os índices numéricos das linhas e colunas."
   ]
  },
  {
   "cell_type": "code",
   "execution_count": null,
   "metadata": {},
   "outputs": [],
   "source": [
    "# acessar a nota do aluno4\n",
    "df.loc['aluno4','col2']"
   ]
  },
  {
   "cell_type": "code",
   "execution_count": null,
   "metadata": {},
   "outputs": [],
   "source": [
    "# o mesmo acima usando iloc\n",
    "df.iloc[3,1]"
   ]
  },
  {
   "cell_type": "markdown",
   "metadata": {},
   "source": [
    "Podemos selecionar uma coluna específica ou colunas específicas do DF."
   ]
  },
  {
   "cell_type": "code",
   "execution_count": null,
   "metadata": {},
   "outputs": [],
   "source": [
    "# uma col\n",
    "df['aulas_presente']"
   ]
  },
  {
   "cell_type": "code",
   "execution_count": null,
   "metadata": {},
   "outputs": [],
   "source": [
    "#multiplas cols\n",
    "df[['id','aulas_presente']]"
   ]
  },
  {
   "cell_type": "code",
   "execution_count": null,
   "metadata": {},
   "outputs": [],
   "source": [
    "# slicing de linhas e cols\n",
    "df.loc['aluno2':'aluno4','nota':]"
   ]
  },
  {
   "cell_type": "code",
   "execution_count": null,
   "metadata": {},
   "outputs": [],
   "source": [
    "# utilizando o iloc\n",
    "df.iloc[1:4,1:]"
   ]
  },
  {
   "cell_type": "markdown",
   "metadata": {},
   "source": [
    "Analogamente, podemos usar o `iloc` para obter os mesmos dados utilizando os índices (fica como tarefa para você demonstrar isto)."
   ]
  },
  {
   "cell_type": "markdown",
   "metadata": {},
   "source": [
    "As colunas do dataframe são séries. Assim, tudo que vimos para as séries, se estende individualmente para cada coluna!"
   ]
  },
  {
   "cell_type": "markdown",
   "metadata": {},
   "source": [
    "# Outros métodos para DataFrames\n",
    "\n",
    "Como uma coluna de um DF é uma Série, a maioria dos métodos que veremos para DataFrames também são aplicados as Series.\n",
    "\n",
    "Veremos 2 que trazem informações sobre nosso DF: `info`() e `dtypes` e `shape`."
   ]
  },
  {
   "cell_type": "markdown",
   "metadata": {},
   "source": [
    "## shape"
   ]
  },
  {
   "cell_type": "code",
   "execution_count": null,
   "metadata": {},
   "outputs": [],
   "source": [
    "df.shape"
   ]
  },
  {
   "cell_type": "markdown",
   "metadata": {},
   "source": [
    "## info()"
   ]
  },
  {
   "cell_type": "code",
   "execution_count": null,
   "metadata": {},
   "outputs": [],
   "source": [
    "df.info()"
   ]
  },
  {
   "cell_type": "markdown",
   "metadata": {},
   "source": [
    "também podemos acessar os tipos de dados por coluna separadamente utilizando o `dtypes`"
   ]
  },
  {
   "cell_type": "code",
   "execution_count": null,
   "metadata": {},
   "outputs": [],
   "source": [
    "df.dtypes"
   ]
  },
  {
   "cell_type": "markdown",
   "metadata": {},
   "source": [
    "Podemos ainda, trocar o tipo de alguma variável. Exemplo, trocar uma coluna de inteiro para decimal:"
   ]
  },
  {
   "cell_type": "code",
   "execution_count": null,
   "metadata": {},
   "outputs": [],
   "source": [
    "df['col2'] = df['col2'].astype(float)"
   ]
  },
  {
   "cell_type": "markdown",
   "metadata": {},
   "source": [
    "## head()"
   ]
  },
  {
   "cell_type": "code",
   "execution_count": null,
   "metadata": {
    "application/vnd.databricks.v1+cell": {
     "cellMetadata": {},
     "inputWidgets": {},
     "nuid": "b05fc143-abe9-4fb3-90a1-5ca9ba4b7245",
     "showTitle": false,
     "title": ""
    },
    "colab": {
     "base_uri": "https://localhost:8080/"
    },
    "id": "yCsOs2WppSVq",
    "outputId": "dab49908-930e-4923-d2cd-0d8712ba5dc4"
   },
   "outputs": [],
   "source": [
    "#Ver as primeiras 5 linhas\n",
    "df.head()"
   ]
  },
  {
   "cell_type": "code",
   "execution_count": null,
   "metadata": {},
   "outputs": [],
   "source": [
    "# Ver as primeiras 7 linhas\n",
    "df.head(7)"
   ]
  },
  {
   "cell_type": "markdown",
   "metadata": {},
   "source": [
    "## tail()"
   ]
  },
  {
   "cell_type": "code",
   "execution_count": null,
   "metadata": {
    "application/vnd.databricks.v1+cell": {
     "cellMetadata": {},
     "inputWidgets": {},
     "nuid": "f6f696b1-5421-491c-b648-255b5d209482",
     "showTitle": false,
     "title": ""
    },
    "colab": {
     "base_uri": "https://localhost:8080/"
    },
    "id": "a6PG5jjQpUL1",
    "outputId": "8493f744-6e5a-4735-e3f9-993a73ec26ff"
   },
   "outputs": [],
   "source": [
    "#Ver as últimas 5 linhas (análogo ao `head` pode-se alterar a quantidade de linhas)\n",
    "df.tail()"
   ]
  },
  {
   "cell_type": "markdown",
   "metadata": {},
   "source": [
    "# Máscara booleana"
   ]
  },
  {
   "cell_type": "markdown",
   "metadata": {},
   "source": [
    "A máscara booleana é uma técnica no Pandas para filtrar dados com base em condições. Vamos aprender como criar e usar máscaras booleanas para selecionar partes específicas dos dados.<br>\n",
    "Utilizaremos ela também em outras funções, como `loc[]`.\n",
    "\n",
    "Imagine que queiramos filtrar somente os alunos com `nota` maiores que 5 no DataFrame. \n",
    "\n",
    "Primeiro aplicamos uma condição na coluna (Series) em que traz somente `True` ou `False`:"
   ]
  },
  {
   "cell_type": "code",
   "execution_count": null,
   "metadata": {},
   "outputs": [],
   "source": [
    "mask = df['nota'] > 5"
   ]
  },
  {
   "cell_type": "markdown",
   "metadata": {},
   "source": [
    "Em seguida aplicamos este resultado no DataFrame. Isto significa que só queremos exibir as linhas em que a condição é satisfeita (também podemos aplicar no `loc` a mesma condição):"
   ]
  },
  {
   "cell_type": "code",
   "execution_count": null,
   "metadata": {},
   "outputs": [],
   "source": [
    "df[mask]\n",
    "df.loc[mask]"
   ]
  },
  {
   "cell_type": "markdown",
   "metadata": {},
   "source": [
    "Caso o filtro aplicado não seja tão complexo, não há problema escrever a condição da máscara booleana inteira.\n",
    "\n",
    "```python\n",
    "df[df['nota'] > 5]\n",
    "```"
   ]
  },
  {
   "cell_type": "markdown",
   "metadata": {
    "application/vnd.databricks.v1+cell": {
     "cellMetadata": {},
     "inputWidgets": {},
     "nuid": "3079a070-e177-4500-904a-8245050d1364",
     "showTitle": false,
     "title": ""
    },
    "id": "RPkcARqDyCHt"
   },
   "source": [
    "# Importando dados\n",
    "\n",
    "A forma mais comum de se construir um dataframe é a partir da **leitura de um arquivo** (.csv, .xls, .xlsx, .ods, .txt, .json, etc.)\n",
    "\n",
    "O pandas é capaz de ler todos esses formatos, com funções específicas!"
   ]
  },
  {
   "cell_type": "markdown",
   "metadata": {
    "application/vnd.databricks.v1+cell": {
     "cellMetadata": {},
     "inputWidgets": {},
     "nuid": "993e5d4a-8658-420b-a26b-dc193fb4bac8",
     "showTitle": false,
     "title": ""
    },
    "id": "jLUObcD4Op3I"
   },
   "source": [
    "## Arquivos CSV\n",
    "\n",
    "https://pandas.pydata.org/pandas-docs/stable/reference/api/pandas.read_csv.html"
   ]
  },
  {
   "cell_type": "markdown",
   "metadata": {
    "application/vnd.databricks.v1+cell": {
     "cellMetadata": {},
     "inputWidgets": {},
     "nuid": "1981576a-2e60-4d85-a262-0bf8eeddc820",
     "showTitle": false,
     "title": ""
    },
    "id": "rsOtTF-EOvkH"
   },
   "source": [
    "Vamos ler os dados do avaliaçãoes de restaurantes de New York do arquivo `Cuisine_ratings.csv` na pasta `data` e criar um DataFrame:"
   ]
  },
  {
   "cell_type": "code",
   "execution_count": null,
   "metadata": {
    "application/vnd.databricks.v1+cell": {
     "cellMetadata": {
      "byteLimit": 2048000,
      "rowLimit": 10000
     },
     "inputWidgets": {},
     "nuid": "a4ce3a7d-9b9e-4782-a52b-45fa0ae58d12",
     "showTitle": false,
     "title": ""
    }
   },
   "outputs": [],
   "source": [
    "#import\n",
    "import pandas as pd\n",
    "\n",
    "# Lendo um arquivo CSV e criando um DataFrame\n",
    "df_rating = pd.read_csv('./data/Cuisine_rating.csv')"
   ]
  },
  {
   "cell_type": "code",
   "execution_count": null,
   "metadata": {},
   "outputs": [],
   "source": [
    "df_rating"
   ]
  },
  {
   "cell_type": "markdown",
   "metadata": {},
   "source": [
    "Podemos aplicar todos os métodos vistos anteriormente para analisar o dataset carregado acima. "
   ]
  },
  {
   "cell_type": "markdown",
   "metadata": {
    "application/vnd.databricks.v1+cell": {
     "cellMetadata": {},
     "inputWidgets": {},
     "nuid": "6294af91-d617-4757-99dc-8111b56c369c",
     "showTitle": false,
     "title": ""
    }
   },
   "source": [
    "## EXTRA: Planilha Excel (XLS ou XLSX)\n",
    "\n",
    "https://pandas.pydata.org/pandas-docs/stable/reference/api/pandas.read_excel.html"
   ]
  },
  {
   "cell_type": "markdown",
   "metadata": {
    "application/vnd.databricks.v1+cell": {
     "cellMetadata": {},
     "inputWidgets": {},
     "nuid": "ce5bd39d-a7d9-46a3-bcc9-184d6cbd8d41",
     "showTitle": false,
     "title": ""
    }
   },
   "source": [
    "Vamos criar um dataframe com os dados da Selic vindos de uma planilha de excel `selic.xlsx` na pasta `data`"
   ]
  },
  {
   "cell_type": "code",
   "execution_count": null,
   "metadata": {
    "application/vnd.databricks.v1+cell": {
     "cellMetadata": {
      "byteLimit": 2048000,
      "rowLimit": 10000
     },
     "inputWidgets": {},
     "nuid": "46c94b28-05e7-4cc5-bd64-79d1b1c49d12",
     "showTitle": false,
     "title": ""
    }
   },
   "outputs": [],
   "source": [
    "#pip install openpyxl -- pode ser necessário instalar openpyxl, mas tente rodar o exemplo abaixo primeiro"
   ]
  },
  {
   "cell_type": "code",
   "execution_count": null,
   "metadata": {
    "application/vnd.databricks.v1+cell": {
     "cellMetadata": {
      "byteLimit": 2048000,
      "rowLimit": 10000
     },
     "inputWidgets": {},
     "nuid": "eebef558-af8c-45ab-a7d9-8520162702dc",
     "showTitle": false,
     "title": ""
    }
   },
   "outputs": [],
   "source": [
    "df_selic = pd.read_excel('./data/selic.xlsx')"
   ]
  },
  {
   "cell_type": "code",
   "execution_count": null,
   "metadata": {
    "application/vnd.databricks.v1+cell": {
     "cellMetadata": {
      "byteLimit": 2048000,
      "rowLimit": 10000
     },
     "inputWidgets": {},
     "nuid": "5ef9d751-8f05-4798-b2dc-6e04e6566838",
     "showTitle": false,
     "title": ""
    }
   },
   "outputs": [],
   "source": [
    "df_selic"
   ]
  },
  {
   "cell_type": "markdown",
   "metadata": {
    "application/vnd.databricks.v1+cell": {
     "cellMetadata": {},
     "inputWidgets": {},
     "nuid": "a076544a-01d1-4f32-a840-9ec163c103e5",
     "showTitle": false,
     "title": ""
    }
   },
   "source": [
    "**Leitura com seleção de planilha**\n",
    "\n",
    "Podemos também carregar somente uma determinada sheet utilizando o param `sheet_name` na função `read_excel`"
   ]
  },
  {
   "cell_type": "code",
   "execution_count": null,
   "metadata": {
    "application/vnd.databricks.v1+cell": {
     "cellMetadata": {
      "byteLimit": 2048000,
      "rowLimit": 10000
     },
     "inputWidgets": {},
     "nuid": "81d94b4b-7d16-4b18-925e-c2766c2784c8",
     "showTitle": false,
     "title": ""
    }
   },
   "outputs": [],
   "source": [
    "df_titanic = pd.read_excel('./data/titanic.xlsx',sheet_name='Sheet1')"
   ]
  },
  {
   "cell_type": "code",
   "execution_count": null,
   "metadata": {
    "application/vnd.databricks.v1+cell": {
     "cellMetadata": {
      "byteLimit": 2048000,
      "rowLimit": 10000
     },
     "inputWidgets": {},
     "nuid": "4e07bec7-8c6e-4879-891d-188c934c9017",
     "showTitle": false,
     "title": ""
    }
   },
   "outputs": [],
   "source": [
    "df_titanic"
   ]
  },
  {
   "cell_type": "markdown",
   "metadata": {
    "application/vnd.databricks.v1+cell": {
     "cellMetadata": {},
     "inputWidgets": {},
     "nuid": "1fc7c20d-345c-4f31-90b0-9b05e98b494f",
     "showTitle": false,
     "title": ""
    }
   },
   "source": [
    "___\n",
    "# Hands-on"
   ]
  },
  {
   "cell_type": "markdown",
   "metadata": {},
   "source": [
    "Neste Hands-on vamos realizar alguns passos do EDA no step 0 `Reconhecimento dos dados` e alguns insights também.\n",
    "\n",
    "1. Carregar os dados de avaliações de restaurantes de New York `Cuisine_rating.csv`"
   ]
  },
  {
   "cell_type": "code",
   "execution_count": 2,
   "metadata": {},
   "outputs": [],
   "source": [
    "import pandas as pd\n",
    "df_rating = pd.read_csv('./data/Cuisine_rating.csv')"
   ]
  },
  {
   "cell_type": "markdown",
   "metadata": {},
   "source": [
    "2. Ver os primeiros 7 dados do topo e do fim do dataset."
   ]
  },
  {
   "cell_type": "code",
   "execution_count": 3,
   "metadata": {},
   "outputs": [
    {
     "data": {
      "text/html": [
       "<div>\n",
       "<style scoped>\n",
       "    .dataframe tbody tr th:only-of-type {\n",
       "        vertical-align: middle;\n",
       "    }\n",
       "\n",
       "    .dataframe tbody tr th {\n",
       "        vertical-align: top;\n",
       "    }\n",
       "\n",
       "    .dataframe thead th {\n",
       "        text-align: right;\n",
       "    }\n",
       "</style>\n",
       "<table border=\"1\" class=\"dataframe\">\n",
       "  <thead>\n",
       "    <tr style=\"text-align: right;\">\n",
       "      <th></th>\n",
       "      <th>User ID</th>\n",
       "      <th>Area code</th>\n",
       "      <th>Location</th>\n",
       "      <th>Gender</th>\n",
       "      <th>YOB</th>\n",
       "      <th>Marital Status</th>\n",
       "      <th>Activity</th>\n",
       "      <th>Budget</th>\n",
       "      <th>Cuisines</th>\n",
       "      <th>Alcohol</th>\n",
       "      <th>Smoker</th>\n",
       "      <th>Food Rating</th>\n",
       "      <th>Service Rating</th>\n",
       "      <th>Overall Rating</th>\n",
       "      <th>Often A S</th>\n",
       "    </tr>\n",
       "  </thead>\n",
       "  <tbody>\n",
       "    <tr>\n",
       "      <th>0</th>\n",
       "      <td>1</td>\n",
       "      <td>153</td>\n",
       "      <td>Upper East Side,NY</td>\n",
       "      <td>Female</td>\n",
       "      <td>2006</td>\n",
       "      <td>Single</td>\n",
       "      <td>Professional</td>\n",
       "      <td>3</td>\n",
       "      <td>Japanese</td>\n",
       "      <td>Never</td>\n",
       "      <td>Never</td>\n",
       "      <td>5</td>\n",
       "      <td>4</td>\n",
       "      <td>4.5</td>\n",
       "      <td>No</td>\n",
       "    </tr>\n",
       "    <tr>\n",
       "      <th>1</th>\n",
       "      <td>2</td>\n",
       "      <td>123</td>\n",
       "      <td>St. George,NY</td>\n",
       "      <td>Female</td>\n",
       "      <td>1991</td>\n",
       "      <td>Married</td>\n",
       "      <td>Student</td>\n",
       "      <td>3</td>\n",
       "      <td>Indian</td>\n",
       "      <td>Never</td>\n",
       "      <td>Socially</td>\n",
       "      <td>1</td>\n",
       "      <td>1</td>\n",
       "      <td>1.0</td>\n",
       "      <td>No</td>\n",
       "    </tr>\n",
       "    <tr>\n",
       "      <th>2</th>\n",
       "      <td>3</td>\n",
       "      <td>122</td>\n",
       "      <td>Upper West Side,NY</td>\n",
       "      <td>Male</td>\n",
       "      <td>1977</td>\n",
       "      <td>Single</td>\n",
       "      <td>Student</td>\n",
       "      <td>5</td>\n",
       "      <td>Seafood</td>\n",
       "      <td>Often</td>\n",
       "      <td>Often</td>\n",
       "      <td>5</td>\n",
       "      <td>5</td>\n",
       "      <td>5.0</td>\n",
       "      <td>Yes</td>\n",
       "    </tr>\n",
       "    <tr>\n",
       "      <th>3</th>\n",
       "      <td>4</td>\n",
       "      <td>153</td>\n",
       "      <td>Upper East Side,NY</td>\n",
       "      <td>Female</td>\n",
       "      <td>1956</td>\n",
       "      <td>Married</td>\n",
       "      <td>Professional</td>\n",
       "      <td>5</td>\n",
       "      <td>Japanese</td>\n",
       "      <td>Never</td>\n",
       "      <td>Socially</td>\n",
       "      <td>3</td>\n",
       "      <td>1</td>\n",
       "      <td>2.0</td>\n",
       "      <td>No</td>\n",
       "    </tr>\n",
       "    <tr>\n",
       "      <th>4</th>\n",
       "      <td>5</td>\n",
       "      <td>129</td>\n",
       "      <td>Central Park,NY</td>\n",
       "      <td>Male</td>\n",
       "      <td>1997</td>\n",
       "      <td>Single</td>\n",
       "      <td>Student</td>\n",
       "      <td>4</td>\n",
       "      <td>Filipino</td>\n",
       "      <td>Socially</td>\n",
       "      <td>Never</td>\n",
       "      <td>2</td>\n",
       "      <td>4</td>\n",
       "      <td>3.0</td>\n",
       "      <td>No</td>\n",
       "    </tr>\n",
       "    <tr>\n",
       "      <th>5</th>\n",
       "      <td>6</td>\n",
       "      <td>111</td>\n",
       "      <td>China Town, NY</td>\n",
       "      <td>Male</td>\n",
       "      <td>1995</td>\n",
       "      <td>Single</td>\n",
       "      <td>Student</td>\n",
       "      <td>5</td>\n",
       "      <td>Seafood</td>\n",
       "      <td>Never</td>\n",
       "      <td>Never</td>\n",
       "      <td>5</td>\n",
       "      <td>1</td>\n",
       "      <td>3.0</td>\n",
       "      <td>No</td>\n",
       "    </tr>\n",
       "    <tr>\n",
       "      <th>6</th>\n",
       "      <td>7</td>\n",
       "      <td>111</td>\n",
       "      <td>China Town, NY</td>\n",
       "      <td>Female</td>\n",
       "      <td>1977</td>\n",
       "      <td>Married</td>\n",
       "      <td>Professional</td>\n",
       "      <td>5</td>\n",
       "      <td>Indian</td>\n",
       "      <td>Often</td>\n",
       "      <td>Socially</td>\n",
       "      <td>1</td>\n",
       "      <td>4</td>\n",
       "      <td>2.5</td>\n",
       "      <td>No</td>\n",
       "    </tr>\n",
       "  </tbody>\n",
       "</table>\n",
       "</div>"
      ],
      "text/plain": [
       "   User ID  Area code            Location  Gender   YOB Marital Status  \\\n",
       "0        1        153  Upper East Side,NY  Female  2006         Single   \n",
       "1        2        123       St. George,NY  Female  1991        Married   \n",
       "2        3        122  Upper West Side,NY    Male  1977         Single   \n",
       "3        4        153  Upper East Side,NY  Female  1956        Married   \n",
       "4        5        129     Central Park,NY    Male  1997         Single   \n",
       "5        6        111      China Town, NY    Male  1995         Single   \n",
       "6        7        111      China Town, NY  Female  1977        Married   \n",
       "\n",
       "       Activity  Budget  Cuisines  Alcohol     Smoker  Food Rating  \\\n",
       "0  Professional       3  Japanese     Never     Never            5   \n",
       "1       Student       3    Indian     Never  Socially            1   \n",
       "2       Student       5   Seafood     Often     Often            5   \n",
       "3  Professional       5  Japanese     Never  Socially            3   \n",
       "4       Student       4  Filipino  Socially     Never            2   \n",
       "5       Student       5   Seafood     Never     Never            5   \n",
       "6  Professional       5    Indian     Often  Socially            1   \n",
       "\n",
       "   Service Rating  Overall Rating Often A S  \n",
       "0               4             4.5        No  \n",
       "1               1             1.0        No  \n",
       "2               5             5.0       Yes  \n",
       "3               1             2.0        No  \n",
       "4               4             3.0        No  \n",
       "5               1             3.0        No  \n",
       "6               4             2.5        No  "
      ]
     },
     "execution_count": 3,
     "metadata": {},
     "output_type": "execute_result"
    }
   ],
   "source": [
    "df_rating.head(7)"
   ]
  },
  {
   "cell_type": "markdown",
   "metadata": {},
   "source": [
    "3. Exibir todas as possíveis informações basicas do dataset (tamanho, tipos de dados, ...)"
   ]
  },
  {
   "cell_type": "code",
   "execution_count": 12,
   "metadata": {},
   "outputs": [
    {
     "name": "stdout",
     "output_type": "stream",
     "text": [
      "<class 'pandas.core.frame.DataFrame'>\n",
      "RangeIndex: 200 entries, 0 to 199\n",
      "Data columns (total 15 columns):\n",
      " #   Column          Non-Null Count  Dtype  \n",
      "---  ------          --------------  -----  \n",
      " 0   User ID         200 non-null    int64  \n",
      " 1   Area code       200 non-null    int64  \n",
      " 2   Location        200 non-null    object \n",
      " 3   Gender          200 non-null    object \n",
      " 4   YOB             200 non-null    int64  \n",
      " 5   Marital Status  200 non-null    object \n",
      " 6   Activity        200 non-null    object \n",
      " 7   Budget          200 non-null    int64  \n",
      " 8   Cuisines        200 non-null    object \n",
      " 9   Alcohol         200 non-null    object \n",
      " 10  Smoker          200 non-null    object \n",
      " 11  Food Rating     200 non-null    int64  \n",
      " 12  Service Rating  200 non-null    int64  \n",
      " 13  Overall Rating  200 non-null    float64\n",
      " 14  Often A S       200 non-null    object \n",
      "dtypes: float64(1), int64(6), object(8)\n",
      "memory usage: 23.6+ KB\n"
     ]
    },
    {
     "data": {
      "text/html": [
       "<div>\n",
       "<style scoped>\n",
       "    .dataframe tbody tr th:only-of-type {\n",
       "        vertical-align: middle;\n",
       "    }\n",
       "\n",
       "    .dataframe tbody tr th {\n",
       "        vertical-align: top;\n",
       "    }\n",
       "\n",
       "    .dataframe thead th {\n",
       "        text-align: right;\n",
       "    }\n",
       "</style>\n",
       "<table border=\"1\" class=\"dataframe\">\n",
       "  <thead>\n",
       "    <tr style=\"text-align: right;\">\n",
       "      <th></th>\n",
       "      <th>User ID</th>\n",
       "      <th>Area code</th>\n",
       "      <th>YOB</th>\n",
       "      <th>Budget</th>\n",
       "      <th>Food Rating</th>\n",
       "      <th>Service Rating</th>\n",
       "      <th>Overall Rating</th>\n",
       "    </tr>\n",
       "  </thead>\n",
       "  <tbody>\n",
       "    <tr>\n",
       "      <th>count</th>\n",
       "      <td>200.000000</td>\n",
       "      <td>200.000000</td>\n",
       "      <td>200.000000</td>\n",
       "      <td>200.000000</td>\n",
       "      <td>200.000000</td>\n",
       "      <td>200.000000</td>\n",
       "      <td>200.000000</td>\n",
       "    </tr>\n",
       "    <tr>\n",
       "      <th>mean</th>\n",
       "      <td>100.500000</td>\n",
       "      <td>141.060000</td>\n",
       "      <td>1984.830000</td>\n",
       "      <td>3.815000</td>\n",
       "      <td>3.220000</td>\n",
       "      <td>3.230000</td>\n",
       "      <td>3.225000</td>\n",
       "    </tr>\n",
       "    <tr>\n",
       "      <th>std</th>\n",
       "      <td>57.879185</td>\n",
       "      <td>26.130257</td>\n",
       "      <td>16.809339</td>\n",
       "      <td>1.056578</td>\n",
       "      <td>1.411226</td>\n",
       "      <td>1.526022</td>\n",
       "      <td>1.079445</td>\n",
       "    </tr>\n",
       "    <tr>\n",
       "      <th>min</th>\n",
       "      <td>1.000000</td>\n",
       "      <td>101.000000</td>\n",
       "      <td>1955.000000</td>\n",
       "      <td>1.000000</td>\n",
       "      <td>1.000000</td>\n",
       "      <td>1.000000</td>\n",
       "      <td>1.000000</td>\n",
       "    </tr>\n",
       "    <tr>\n",
       "      <th>25%</th>\n",
       "      <td>50.750000</td>\n",
       "      <td>123.000000</td>\n",
       "      <td>1971.000000</td>\n",
       "      <td>3.000000</td>\n",
       "      <td>2.000000</td>\n",
       "      <td>2.000000</td>\n",
       "      <td>2.500000</td>\n",
       "    </tr>\n",
       "    <tr>\n",
       "      <th>50%</th>\n",
       "      <td>100.500000</td>\n",
       "      <td>135.000000</td>\n",
       "      <td>1987.000000</td>\n",
       "      <td>4.000000</td>\n",
       "      <td>3.000000</td>\n",
       "      <td>3.000000</td>\n",
       "      <td>3.000000</td>\n",
       "    </tr>\n",
       "    <tr>\n",
       "      <th>75%</th>\n",
       "      <td>150.250000</td>\n",
       "      <td>158.000000</td>\n",
       "      <td>2000.000000</td>\n",
       "      <td>5.000000</td>\n",
       "      <td>5.000000</td>\n",
       "      <td>5.000000</td>\n",
       "      <td>4.000000</td>\n",
       "    </tr>\n",
       "    <tr>\n",
       "      <th>max</th>\n",
       "      <td>200.000000</td>\n",
       "      <td>199.000000</td>\n",
       "      <td>2009.000000</td>\n",
       "      <td>5.000000</td>\n",
       "      <td>5.000000</td>\n",
       "      <td>5.000000</td>\n",
       "      <td>5.000000</td>\n",
       "    </tr>\n",
       "  </tbody>\n",
       "</table>\n",
       "</div>"
      ],
      "text/plain": [
       "          User ID   Area code          YOB      Budget  Food Rating  \\\n",
       "count  200.000000  200.000000   200.000000  200.000000   200.000000   \n",
       "mean   100.500000  141.060000  1984.830000    3.815000     3.220000   \n",
       "std     57.879185   26.130257    16.809339    1.056578     1.411226   \n",
       "min      1.000000  101.000000  1955.000000    1.000000     1.000000   \n",
       "25%     50.750000  123.000000  1971.000000    3.000000     2.000000   \n",
       "50%    100.500000  135.000000  1987.000000    4.000000     3.000000   \n",
       "75%    150.250000  158.000000  2000.000000    5.000000     5.000000   \n",
       "max    200.000000  199.000000  2009.000000    5.000000     5.000000   \n",
       "\n",
       "       Service Rating  Overall Rating  \n",
       "count      200.000000      200.000000  \n",
       "mean         3.230000        3.225000  \n",
       "std          1.526022        1.079445  \n",
       "min          1.000000        1.000000  \n",
       "25%          2.000000        2.500000  \n",
       "50%          3.000000        3.000000  \n",
       "75%          5.000000        4.000000  \n",
       "max          5.000000        5.000000  "
      ]
     },
     "execution_count": 12,
     "metadata": {},
     "output_type": "execute_result"
    }
   ],
   "source": [
    "# info\n",
    "df_rating.info()\n",
    "# describe\n",
    "df_rating.describe()"
   ]
  },
  {
   "cell_type": "markdown",
   "metadata": {},
   "source": [
    "4. Filtre o dataframe entre clientes estudantes e profissionais na column `Activity` com as categorias `Student` e `Professional`, respectivamente.<br>\n",
    "Salve os filtros (máscaras booleanas) em variáveis diferentes."
   ]
  },
  {
   "cell_type": "code",
   "execution_count": 15,
   "metadata": {},
   "outputs": [],
   "source": [
    "mask_students = df_rating['Activity']==\"Student\"\n",
    "mask_professional = df_rating['Activity']==\"Professional\""
   ]
  },
  {
   "cell_type": "markdown",
   "metadata": {},
   "source": [
    "5. Filtre novamente o DataFrame, porém agora entre clientes casados e solteiros (analise o dataset para descobrir como fazê-lo).<br>\n",
    "Salve os filtros (máscaras booleanas) em variáveis diferentes."
   ]
  },
  {
   "cell_type": "code",
   "execution_count": 19,
   "metadata": {},
   "outputs": [],
   "source": [
    "mask_single = df_rating['Marital Status']==\"Single\"\n",
    "mask_married = df_rating['Marital Status']==\"Married\""
   ]
  },
  {
   "cell_type": "markdown",
   "metadata": {},
   "source": [
    "6. Realize o mesmo que no exer anterior, porém somente com restaurantes indiano e italiano e japonês.\n",
    "Salve o filtro (máscaras booleanas) em uma variável."
   ]
  },
  {
   "cell_type": "code",
   "execution_count": 22,
   "metadata": {},
   "outputs": [
    {
     "data": {
      "text/html": [
       "<div>\n",
       "<style scoped>\n",
       "    .dataframe tbody tr th:only-of-type {\n",
       "        vertical-align: middle;\n",
       "    }\n",
       "\n",
       "    .dataframe tbody tr th {\n",
       "        vertical-align: top;\n",
       "    }\n",
       "\n",
       "    .dataframe thead th {\n",
       "        text-align: right;\n",
       "    }\n",
       "</style>\n",
       "<table border=\"1\" class=\"dataframe\">\n",
       "  <thead>\n",
       "    <tr style=\"text-align: right;\">\n",
       "      <th></th>\n",
       "      <th>User ID</th>\n",
       "      <th>Area code</th>\n",
       "      <th>Location</th>\n",
       "      <th>Gender</th>\n",
       "      <th>YOB</th>\n",
       "      <th>Marital Status</th>\n",
       "      <th>Activity</th>\n",
       "      <th>Budget</th>\n",
       "      <th>Cuisines</th>\n",
       "      <th>Alcohol</th>\n",
       "      <th>Smoker</th>\n",
       "      <th>Food Rating</th>\n",
       "      <th>Service Rating</th>\n",
       "      <th>Overall Rating</th>\n",
       "      <th>Often A S</th>\n",
       "    </tr>\n",
       "  </thead>\n",
       "  <tbody>\n",
       "    <tr>\n",
       "      <th>0</th>\n",
       "      <td>1</td>\n",
       "      <td>153</td>\n",
       "      <td>Upper East Side,NY</td>\n",
       "      <td>Female</td>\n",
       "      <td>2006</td>\n",
       "      <td>Single</td>\n",
       "      <td>Professional</td>\n",
       "      <td>3</td>\n",
       "      <td>Japanese</td>\n",
       "      <td>Never</td>\n",
       "      <td>Never</td>\n",
       "      <td>5</td>\n",
       "      <td>4</td>\n",
       "      <td>4.5</td>\n",
       "      <td>No</td>\n",
       "    </tr>\n",
       "    <tr>\n",
       "      <th>1</th>\n",
       "      <td>2</td>\n",
       "      <td>123</td>\n",
       "      <td>St. George,NY</td>\n",
       "      <td>Female</td>\n",
       "      <td>1991</td>\n",
       "      <td>Married</td>\n",
       "      <td>Student</td>\n",
       "      <td>3</td>\n",
       "      <td>Indian</td>\n",
       "      <td>Never</td>\n",
       "      <td>Socially</td>\n",
       "      <td>1</td>\n",
       "      <td>1</td>\n",
       "      <td>1.0</td>\n",
       "      <td>No</td>\n",
       "    </tr>\n",
       "    <tr>\n",
       "      <th>3</th>\n",
       "      <td>4</td>\n",
       "      <td>153</td>\n",
       "      <td>Upper East Side,NY</td>\n",
       "      <td>Female</td>\n",
       "      <td>1956</td>\n",
       "      <td>Married</td>\n",
       "      <td>Professional</td>\n",
       "      <td>5</td>\n",
       "      <td>Japanese</td>\n",
       "      <td>Never</td>\n",
       "      <td>Socially</td>\n",
       "      <td>3</td>\n",
       "      <td>1</td>\n",
       "      <td>2.0</td>\n",
       "      <td>No</td>\n",
       "    </tr>\n",
       "    <tr>\n",
       "      <th>6</th>\n",
       "      <td>7</td>\n",
       "      <td>111</td>\n",
       "      <td>China Town, NY</td>\n",
       "      <td>Female</td>\n",
       "      <td>1977</td>\n",
       "      <td>Married</td>\n",
       "      <td>Professional</td>\n",
       "      <td>5</td>\n",
       "      <td>Indian</td>\n",
       "      <td>Often</td>\n",
       "      <td>Socially</td>\n",
       "      <td>1</td>\n",
       "      <td>4</td>\n",
       "      <td>2.5</td>\n",
       "      <td>No</td>\n",
       "    </tr>\n",
       "    <tr>\n",
       "      <th>8</th>\n",
       "      <td>9</td>\n",
       "      <td>107</td>\n",
       "      <td>Riverdale,NY</td>\n",
       "      <td>Male</td>\n",
       "      <td>1965</td>\n",
       "      <td>Single</td>\n",
       "      <td>Student</td>\n",
       "      <td>5</td>\n",
       "      <td>Italian</td>\n",
       "      <td>Socially</td>\n",
       "      <td>Socially</td>\n",
       "      <td>3</td>\n",
       "      <td>3</td>\n",
       "      <td>3.0</td>\n",
       "      <td>No</td>\n",
       "    </tr>\n",
       "    <tr>\n",
       "      <th>...</th>\n",
       "      <td>...</td>\n",
       "      <td>...</td>\n",
       "      <td>...</td>\n",
       "      <td>...</td>\n",
       "      <td>...</td>\n",
       "      <td>...</td>\n",
       "      <td>...</td>\n",
       "      <td>...</td>\n",
       "      <td>...</td>\n",
       "      <td>...</td>\n",
       "      <td>...</td>\n",
       "      <td>...</td>\n",
       "      <td>...</td>\n",
       "      <td>...</td>\n",
       "      <td>...</td>\n",
       "    </tr>\n",
       "    <tr>\n",
       "      <th>185</th>\n",
       "      <td>186</td>\n",
       "      <td>136</td>\n",
       "      <td>Riverdale,NY</td>\n",
       "      <td>Male</td>\n",
       "      <td>1999</td>\n",
       "      <td>Single</td>\n",
       "      <td>Student</td>\n",
       "      <td>4</td>\n",
       "      <td>Japanese</td>\n",
       "      <td>Often</td>\n",
       "      <td>Often</td>\n",
       "      <td>4</td>\n",
       "      <td>1</td>\n",
       "      <td>2.5</td>\n",
       "      <td>Yes</td>\n",
       "    </tr>\n",
       "    <tr>\n",
       "      <th>189</th>\n",
       "      <td>190</td>\n",
       "      <td>167</td>\n",
       "      <td>St. George,NY</td>\n",
       "      <td>Male</td>\n",
       "      <td>1988</td>\n",
       "      <td>Divorced</td>\n",
       "      <td>Professional</td>\n",
       "      <td>3</td>\n",
       "      <td>Indian</td>\n",
       "      <td>Often</td>\n",
       "      <td>Often</td>\n",
       "      <td>5</td>\n",
       "      <td>5</td>\n",
       "      <td>5.0</td>\n",
       "      <td>Yes</td>\n",
       "    </tr>\n",
       "    <tr>\n",
       "      <th>190</th>\n",
       "      <td>191</td>\n",
       "      <td>185</td>\n",
       "      <td>Cedar Hill, NY</td>\n",
       "      <td>Male</td>\n",
       "      <td>1960</td>\n",
       "      <td>Married</td>\n",
       "      <td>Professional</td>\n",
       "      <td>4</td>\n",
       "      <td>Indian</td>\n",
       "      <td>Socially</td>\n",
       "      <td>Socially</td>\n",
       "      <td>2</td>\n",
       "      <td>5</td>\n",
       "      <td>3.5</td>\n",
       "      <td>No</td>\n",
       "    </tr>\n",
       "    <tr>\n",
       "      <th>194</th>\n",
       "      <td>195</td>\n",
       "      <td>107</td>\n",
       "      <td>China Town, NY</td>\n",
       "      <td>Male</td>\n",
       "      <td>1974</td>\n",
       "      <td>Married</td>\n",
       "      <td>Student</td>\n",
       "      <td>3</td>\n",
       "      <td>Indian</td>\n",
       "      <td>Often</td>\n",
       "      <td>Often</td>\n",
       "      <td>2</td>\n",
       "      <td>5</td>\n",
       "      <td>3.5</td>\n",
       "      <td>Yes</td>\n",
       "    </tr>\n",
       "    <tr>\n",
       "      <th>197</th>\n",
       "      <td>198</td>\n",
       "      <td>160</td>\n",
       "      <td>St. George,NY</td>\n",
       "      <td>Female</td>\n",
       "      <td>2006</td>\n",
       "      <td>Single</td>\n",
       "      <td>Professional</td>\n",
       "      <td>5</td>\n",
       "      <td>Japanese</td>\n",
       "      <td>Never</td>\n",
       "      <td>Often</td>\n",
       "      <td>5</td>\n",
       "      <td>2</td>\n",
       "      <td>3.5</td>\n",
       "      <td>No</td>\n",
       "    </tr>\n",
       "  </tbody>\n",
       "</table>\n",
       "<p>86 rows × 15 columns</p>\n",
       "</div>"
      ],
      "text/plain": [
       "     User ID  Area code            Location  Gender   YOB Marital Status  \\\n",
       "0          1        153  Upper East Side,NY  Female  2006         Single   \n",
       "1          2        123       St. George,NY  Female  1991        Married   \n",
       "3          4        153  Upper East Side,NY  Female  1956        Married   \n",
       "6          7        111      China Town, NY  Female  1977        Married   \n",
       "8          9        107        Riverdale,NY    Male  1965         Single   \n",
       "..       ...        ...                 ...     ...   ...            ...   \n",
       "185      186        136        Riverdale,NY    Male  1999         Single   \n",
       "189      190        167       St. George,NY    Male  1988       Divorced   \n",
       "190      191        185      Cedar Hill, NY    Male  1960        Married   \n",
       "194      195        107      China Town, NY    Male  1974        Married   \n",
       "197      198        160       St. George,NY  Female  2006         Single   \n",
       "\n",
       "         Activity  Budget  Cuisines  Alcohol     Smoker  Food Rating  \\\n",
       "0    Professional       3  Japanese     Never     Never            5   \n",
       "1         Student       3    Indian     Never  Socially            1   \n",
       "3    Professional       5  Japanese     Never  Socially            3   \n",
       "6    Professional       5    Indian     Often  Socially            1   \n",
       "8         Student       5   Italian  Socially  Socially            3   \n",
       "..            ...     ...       ...       ...       ...          ...   \n",
       "185       Student       4  Japanese     Often     Often            4   \n",
       "189  Professional       3    Indian     Often     Often            5   \n",
       "190  Professional       4    Indian  Socially  Socially            2   \n",
       "194       Student       3    Indian     Often     Often            2   \n",
       "197  Professional       5  Japanese     Never     Often            5   \n",
       "\n",
       "     Service Rating  Overall Rating Often A S  \n",
       "0                 4             4.5        No  \n",
       "1                 1             1.0        No  \n",
       "3                 1             2.0        No  \n",
       "6                 4             2.5        No  \n",
       "8                 3             3.0        No  \n",
       "..              ...             ...       ...  \n",
       "185               1             2.5       Yes  \n",
       "189               5             5.0       Yes  \n",
       "190               5             3.5        No  \n",
       "194               5             3.5       Yes  \n",
       "197               2             3.5        No  \n",
       "\n",
       "[86 rows x 15 columns]"
      ]
     },
     "execution_count": 22,
     "metadata": {},
     "output_type": "execute_result"
    }
   ],
   "source": [
    "mask_cuisines_ind_ita_jap = df_rating['Cuisines'].isin(('Indian','Italian','Japanese'))\n",
    "df_rating[mask_cuisines_ind_ita_jap]"
   ]
  },
  {
   "cell_type": "markdown",
   "metadata": {},
   "source": [
    "7. Utilizando os filtros salvos em variaveis nos exer 4,5 e 6, filtre o dataset para mostrar somente os clientes profissionais e casados que gostam de restaurantes indiano, italiano e japonês. Não precisa salvar o filtro aplicado."
   ]
  },
  {
   "cell_type": "code",
   "execution_count": 24,
   "metadata": {},
   "outputs": [],
   "source": [
    "df_filtrado = df_rating[mask_professional & mask_married & mask_cuisines_ind_ita_jap]"
   ]
  },
  {
   "cell_type": "markdown",
   "metadata": {},
   "source": [
    "8. Sobre o dataset filtrado, quantos clientes deram avaliação para a comida mais de 3 estrelas?"
   ]
  },
  {
   "cell_type": "code",
   "execution_count": 27,
   "metadata": {},
   "outputs": [
    {
     "data": {
      "text/html": [
       "<div>\n",
       "<style scoped>\n",
       "    .dataframe tbody tr th:only-of-type {\n",
       "        vertical-align: middle;\n",
       "    }\n",
       "\n",
       "    .dataframe tbody tr th {\n",
       "        vertical-align: top;\n",
       "    }\n",
       "\n",
       "    .dataframe thead th {\n",
       "        text-align: right;\n",
       "    }\n",
       "</style>\n",
       "<table border=\"1\" class=\"dataframe\">\n",
       "  <thead>\n",
       "    <tr style=\"text-align: right;\">\n",
       "      <th></th>\n",
       "      <th>User ID</th>\n",
       "      <th>Area code</th>\n",
       "      <th>Location</th>\n",
       "      <th>Gender</th>\n",
       "      <th>YOB</th>\n",
       "      <th>Marital Status</th>\n",
       "      <th>Activity</th>\n",
       "      <th>Budget</th>\n",
       "      <th>Cuisines</th>\n",
       "      <th>Alcohol</th>\n",
       "      <th>Smoker</th>\n",
       "      <th>Food Rating</th>\n",
       "      <th>Service Rating</th>\n",
       "      <th>Overall Rating</th>\n",
       "      <th>Often A S</th>\n",
       "    </tr>\n",
       "  </thead>\n",
       "  <tbody>\n",
       "    <tr>\n",
       "      <th>44</th>\n",
       "      <td>45</td>\n",
       "      <td>123</td>\n",
       "      <td>St. George,NY</td>\n",
       "      <td>Female</td>\n",
       "      <td>1969</td>\n",
       "      <td>Married</td>\n",
       "      <td>Professional</td>\n",
       "      <td>3</td>\n",
       "      <td>Italian</td>\n",
       "      <td>Often</td>\n",
       "      <td>Never</td>\n",
       "      <td>4</td>\n",
       "      <td>1</td>\n",
       "      <td>2.5</td>\n",
       "      <td>No</td>\n",
       "    </tr>\n",
       "    <tr>\n",
       "      <th>67</th>\n",
       "      <td>68</td>\n",
       "      <td>154</td>\n",
       "      <td>Market City, NY</td>\n",
       "      <td>Male</td>\n",
       "      <td>2000</td>\n",
       "      <td>Married</td>\n",
       "      <td>Professional</td>\n",
       "      <td>3</td>\n",
       "      <td>Indian</td>\n",
       "      <td>Never</td>\n",
       "      <td>Often</td>\n",
       "      <td>5</td>\n",
       "      <td>2</td>\n",
       "      <td>3.5</td>\n",
       "      <td>No</td>\n",
       "    </tr>\n",
       "    <tr>\n",
       "      <th>106</th>\n",
       "      <td>107</td>\n",
       "      <td>188</td>\n",
       "      <td>China Town, NY</td>\n",
       "      <td>Female</td>\n",
       "      <td>1977</td>\n",
       "      <td>Married</td>\n",
       "      <td>Professional</td>\n",
       "      <td>5</td>\n",
       "      <td>Indian</td>\n",
       "      <td>Never</td>\n",
       "      <td>Socially</td>\n",
       "      <td>5</td>\n",
       "      <td>4</td>\n",
       "      <td>4.5</td>\n",
       "      <td>No</td>\n",
       "    </tr>\n",
       "    <tr>\n",
       "      <th>144</th>\n",
       "      <td>145</td>\n",
       "      <td>199</td>\n",
       "      <td>St. George,NY</td>\n",
       "      <td>Female</td>\n",
       "      <td>1969</td>\n",
       "      <td>Married</td>\n",
       "      <td>Professional</td>\n",
       "      <td>3</td>\n",
       "      <td>Italian</td>\n",
       "      <td>Often</td>\n",
       "      <td>Never</td>\n",
       "      <td>4</td>\n",
       "      <td>1</td>\n",
       "      <td>2.5</td>\n",
       "      <td>No</td>\n",
       "    </tr>\n",
       "    <tr>\n",
       "      <th>167</th>\n",
       "      <td>168</td>\n",
       "      <td>182</td>\n",
       "      <td>Market City, NY</td>\n",
       "      <td>Male</td>\n",
       "      <td>2000</td>\n",
       "      <td>Married</td>\n",
       "      <td>Professional</td>\n",
       "      <td>3</td>\n",
       "      <td>Indian</td>\n",
       "      <td>Never</td>\n",
       "      <td>Often</td>\n",
       "      <td>5</td>\n",
       "      <td>2</td>\n",
       "      <td>3.5</td>\n",
       "      <td>No</td>\n",
       "    </tr>\n",
       "  </tbody>\n",
       "</table>\n",
       "</div>"
      ],
      "text/plain": [
       "     User ID  Area code         Location  Gender   YOB Marital Status  \\\n",
       "44        45        123    St. George,NY  Female  1969        Married   \n",
       "67        68        154  Market City, NY    Male  2000        Married   \n",
       "106      107        188   China Town, NY  Female  1977        Married   \n",
       "144      145        199    St. George,NY  Female  1969        Married   \n",
       "167      168        182  Market City, NY    Male  2000        Married   \n",
       "\n",
       "         Activity  Budget Cuisines Alcohol     Smoker  Food Rating  \\\n",
       "44   Professional       3  Italian    Often     Never            4   \n",
       "67   Professional       3   Indian    Never     Often            5   \n",
       "106  Professional       5   Indian    Never  Socially            5   \n",
       "144  Professional       3  Italian    Often     Never            4   \n",
       "167  Professional       3   Indian    Never     Often            5   \n",
       "\n",
       "     Service Rating  Overall Rating Often A S  \n",
       "44                1             2.5        No  \n",
       "67                2             3.5        No  \n",
       "106               4             4.5        No  \n",
       "144               1             2.5        No  \n",
       "167               2             3.5        No  "
      ]
     },
     "execution_count": 27,
     "metadata": {},
     "output_type": "execute_result"
    }
   ],
   "source": [
    "df_filtrado[df_filtrado['Food Rating']>3]"
   ]
  },
  {
   "cell_type": "markdown",
   "metadata": {},
   "source": [
    "9. Compare agora o resultado com a quantidade de clientes que deram avaliação geral mais que 3 estrelas. Algum desses clientes também estão nos resultados do exer anterior?"
   ]
  },
  {
   "cell_type": "code",
   "execution_count": 28,
   "metadata": {},
   "outputs": [
    {
     "data": {
      "text/html": [
       "<div>\n",
       "<style scoped>\n",
       "    .dataframe tbody tr th:only-of-type {\n",
       "        vertical-align: middle;\n",
       "    }\n",
       "\n",
       "    .dataframe tbody tr th {\n",
       "        vertical-align: top;\n",
       "    }\n",
       "\n",
       "    .dataframe thead th {\n",
       "        text-align: right;\n",
       "    }\n",
       "</style>\n",
       "<table border=\"1\" class=\"dataframe\">\n",
       "  <thead>\n",
       "    <tr style=\"text-align: right;\">\n",
       "      <th></th>\n",
       "      <th>User ID</th>\n",
       "      <th>Area code</th>\n",
       "      <th>Location</th>\n",
       "      <th>Gender</th>\n",
       "      <th>YOB</th>\n",
       "      <th>Marital Status</th>\n",
       "      <th>Activity</th>\n",
       "      <th>Budget</th>\n",
       "      <th>Cuisines</th>\n",
       "      <th>Alcohol</th>\n",
       "      <th>Smoker</th>\n",
       "      <th>Food Rating</th>\n",
       "      <th>Service Rating</th>\n",
       "      <th>Overall Rating</th>\n",
       "      <th>Often A S</th>\n",
       "    </tr>\n",
       "  </thead>\n",
       "  <tbody>\n",
       "    <tr>\n",
       "      <th>67</th>\n",
       "      <td>68</td>\n",
       "      <td>154</td>\n",
       "      <td>Market City, NY</td>\n",
       "      <td>Male</td>\n",
       "      <td>2000</td>\n",
       "      <td>Married</td>\n",
       "      <td>Professional</td>\n",
       "      <td>3</td>\n",
       "      <td>Indian</td>\n",
       "      <td>Never</td>\n",
       "      <td>Often</td>\n",
       "      <td>5</td>\n",
       "      <td>2</td>\n",
       "      <td>3.5</td>\n",
       "      <td>No</td>\n",
       "    </tr>\n",
       "    <tr>\n",
       "      <th>90</th>\n",
       "      <td>91</td>\n",
       "      <td>154</td>\n",
       "      <td>Cedar Hill, NY</td>\n",
       "      <td>Male</td>\n",
       "      <td>1960</td>\n",
       "      <td>Married</td>\n",
       "      <td>Professional</td>\n",
       "      <td>4</td>\n",
       "      <td>Indian</td>\n",
       "      <td>Socially</td>\n",
       "      <td>Socially</td>\n",
       "      <td>2</td>\n",
       "      <td>5</td>\n",
       "      <td>3.5</td>\n",
       "      <td>No</td>\n",
       "    </tr>\n",
       "    <tr>\n",
       "      <th>106</th>\n",
       "      <td>107</td>\n",
       "      <td>188</td>\n",
       "      <td>China Town, NY</td>\n",
       "      <td>Female</td>\n",
       "      <td>1977</td>\n",
       "      <td>Married</td>\n",
       "      <td>Professional</td>\n",
       "      <td>5</td>\n",
       "      <td>Indian</td>\n",
       "      <td>Never</td>\n",
       "      <td>Socially</td>\n",
       "      <td>5</td>\n",
       "      <td>4</td>\n",
       "      <td>4.5</td>\n",
       "      <td>No</td>\n",
       "    </tr>\n",
       "    <tr>\n",
       "      <th>167</th>\n",
       "      <td>168</td>\n",
       "      <td>182</td>\n",
       "      <td>Market City, NY</td>\n",
       "      <td>Male</td>\n",
       "      <td>2000</td>\n",
       "      <td>Married</td>\n",
       "      <td>Professional</td>\n",
       "      <td>3</td>\n",
       "      <td>Indian</td>\n",
       "      <td>Never</td>\n",
       "      <td>Often</td>\n",
       "      <td>5</td>\n",
       "      <td>2</td>\n",
       "      <td>3.5</td>\n",
       "      <td>No</td>\n",
       "    </tr>\n",
       "    <tr>\n",
       "      <th>190</th>\n",
       "      <td>191</td>\n",
       "      <td>185</td>\n",
       "      <td>Cedar Hill, NY</td>\n",
       "      <td>Male</td>\n",
       "      <td>1960</td>\n",
       "      <td>Married</td>\n",
       "      <td>Professional</td>\n",
       "      <td>4</td>\n",
       "      <td>Indian</td>\n",
       "      <td>Socially</td>\n",
       "      <td>Socially</td>\n",
       "      <td>2</td>\n",
       "      <td>5</td>\n",
       "      <td>3.5</td>\n",
       "      <td>No</td>\n",
       "    </tr>\n",
       "  </tbody>\n",
       "</table>\n",
       "</div>"
      ],
      "text/plain": [
       "     User ID  Area code         Location  Gender   YOB Marital Status  \\\n",
       "67        68        154  Market City, NY    Male  2000        Married   \n",
       "90        91        154   Cedar Hill, NY    Male  1960        Married   \n",
       "106      107        188   China Town, NY  Female  1977        Married   \n",
       "167      168        182  Market City, NY    Male  2000        Married   \n",
       "190      191        185   Cedar Hill, NY    Male  1960        Married   \n",
       "\n",
       "         Activity  Budget Cuisines  Alcohol     Smoker  Food Rating  \\\n",
       "67   Professional       3   Indian     Never     Often            5   \n",
       "90   Professional       4   Indian  Socially  Socially            2   \n",
       "106  Professional       5   Indian     Never  Socially            5   \n",
       "167  Professional       3   Indian     Never     Often            5   \n",
       "190  Professional       4   Indian  Socially  Socially            2   \n",
       "\n",
       "     Service Rating  Overall Rating Often A S  \n",
       "67                2             3.5        No  \n",
       "90                5             3.5        No  \n",
       "106               4             4.5        No  \n",
       "167               2             3.5        No  \n",
       "190               5             3.5        No  "
      ]
     },
     "execution_count": 28,
     "metadata": {},
     "output_type": "execute_result"
    }
   ],
   "source": [
    "df_filtrado[df_filtrado['Overall Rating']>3]"
   ]
  },
  {
   "cell_type": "markdown",
   "metadata": {},
   "source": [
    "10. Agora realize os mesmos passos para analisar a seguinte análise: Qual é o publico alvo destes dados e o que mais gostam de comer? O que todos eles podem ter em comum?"
   ]
  },
  {
   "cell_type": "code",
   "execution_count": 34,
   "metadata": {},
   "outputs": [
    {
     "data": {
      "text/plain": [
       "<Axes: ylabel='Frequency'>"
      ]
     },
     "execution_count": 34,
     "metadata": {},
     "output_type": "execute_result"
    },
    {
     "data": {
      "image/png": "[encoded data removed]",
      "text/plain": [
       "<Figure size 640x480 with 1 Axes>"
      ]
     },
     "metadata": {},
     "output_type": "display_data"
    }
   ],
   "source": [
    "df_rating['YOB'].plot(kind='hist')"
   ]
  }
 ],
 "metadata": {
  "application/vnd.databricks.v1+notebook": {
   "dashboards": [],
   "language": "python",
   "notebookMetadata": {
    "pythonIndentUnit": 4
   },
   "notebookName": "Aula_04_Pandas_(Parte_1)",
   "widgets": {}
  },
  "colab": {
   "provenance": []
  },
  "kernelspec": {
   "display_name": "Python 3",
   "name": "python3"
  },
  "language_info": {
   "codemirror_mode": {
    "name": "ipython",
    "version": 3
   },
   "file_extension": ".py",
   "mimetype": "text/x-python",
   "name": "python",
   "nbconvert_exporter": "python",
   "pygments_lexer": "ipython3",
   "version": "3.11.5"
  }
 },
 "nbformat": 4,
 "nbformat_minor": 0
}
