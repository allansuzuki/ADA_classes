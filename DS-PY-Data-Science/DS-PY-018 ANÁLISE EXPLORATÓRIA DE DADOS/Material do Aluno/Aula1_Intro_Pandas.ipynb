{
 "cells": [
  {
   "cell_type": "markdown",
   "metadata": {
    "application/vnd.databricks.v1+cell": {
     "cellMetadata": {},
     "inputWidgets": {},
     "nuid": "c2d6122e-12fc-4326-863b-1a59da37e1f7",
     "showTitle": false,
     "title": ""
    },
    "id": "BUSRlt4Shf-w"
   },
   "source": [
    "# 🎯 Aula 1 - Introdução ao Pandas - dados tabulares 🎯<br>"
   ]
  },
  {
   "cell_type": "markdown",
   "metadata": {},
   "source": [
    "\n",
    "Na aula de hoje veremos com trabalhar com dados tabulares em alto nível, usando a biblioteca [pandas](https://pandas.pydata.org/).\n",
    "\n",
    "O [Pandas](https://pandas.pydata.org/) é uma das bibliotecas mais usadas em **ciência de dados**.\n",
    "\n",
    "Esta biblioteca, construída a partir do Numpy, possibilita a estruturação e manipulação de dados de maneira simples e eficiente.\n",
    "\n",
    "Como os dados são a matéria prima de todo projeto de Data Science, manipulá-los é fundamental! Por isso, utilizaremos o Pandas em quase todas as aulas daqui pra frente!"
   ]
  },
  {
   "cell_type": "markdown",
   "metadata": {
    "application/vnd.databricks.v1+cell": {
     "cellMetadata": {},
     "inputWidgets": {},
     "nuid": "ad4823ed-5d51-4b50-83fc-25d764cecfd1",
     "showTitle": false,
     "title": ""
    },
    "id": "ayqNQpd0iODA"
   },
   "source": [
    "____\n",
    "[Guia do pandas](https://pandas.pydata.org/docs/user_guide/index.html#user-guide)"
   ]
  },
  {
   "cell_type": "markdown",
   "metadata": {
    "application/vnd.databricks.v1+cell": {
     "cellMetadata": {},
     "inputWidgets": {},
     "nuid": "2053b90e-07f1-4101-bed8-fbe4f71f03df",
     "showTitle": false,
     "title": ""
    },
    "id": "6j0mhZICiPfv"
   },
   "source": [
    "____\n",
    "Nesta primeira aula, avaliaremos:\n",
    "- O que são Séries e DataFrames;\n",
    "- Alguns dos principais métodos para operar com Séries;\n",
    "- Leitura e gravação de conjuntos de dados com pandas."
   ]
  },
  {
   "cell_type": "markdown",
   "metadata": {
    "application/vnd.databricks.v1+cell": {
     "cellMetadata": {},
     "inputWidgets": {},
     "nuid": "b29dd111-7ae8-4e4c-90b9-78223ed6ed1b",
     "showTitle": false,
     "title": ""
    },
    "id": "v8MpbH8IiSNA"
   },
   "source": [
    "____\n",
    "Até então trabalhamos em análises de dados utilizando listas, dicionários, etc...\n",
    "Mas pensando em observar dados de tabelas, qual a primeira ferramenta que vem a mente?\n",
    "\n",
    "Em que situações utilizamos esta ferramenta? E quais suas desvantagens em relação a visualização e manipulação de dados?"
   ]
  },
  {
   "cell_type": "markdown",
   "metadata": {},
   "source": [
    "# Instalando e importando o Pandas"
   ]
  },
  {
   "cell_type": "markdown",
   "metadata": {},
   "source": [
    "Primeiro passo para utilizarmos o Pandas (package de manipulação de dados do python). Escreva o comando abaixo no terminal associado ao enviroment do python que estás a usar:\n",
    "\n",
    "``` sh\n",
    "pip install pandas\n",
    "```\n",
    "<br>\n",
    "Em seguida, rodamos o comando abaixo no notebook para importar o pandas \n",
    "\n",
    "```python\n",
    "import pandas\n",
    "```\n",
    "\n",
    "Caso a etapa anterior não tenha dado certo, surgirá um erro ao importar."
   ]
  },
  {
   "cell_type": "code",
   "execution_count": 34,
   "metadata": {},
   "outputs": [],
   "source": [
    "#importar o pandas com alias pd\n",
    "import pandas as pd"
   ]
  },
  {
   "cell_type": "markdown",
   "metadata": {
    "application/vnd.databricks.v1+cell": {
     "cellMetadata": {},
     "inputWidgets": {},
     "nuid": "519d2b85-42a3-4f25-9f64-6ec99cf0f1d0",
     "showTitle": false,
     "title": ""
    },
    "id": "KZB7p8ISkuo0"
   },
   "source": [
    "# Séries\n",
    "\n",
    "Antes de falarmos das potencialidades do *Pandas*, precisamos falar das suas estruturas básicas.\n",
    "\n",
    "O objeto fundamental do Pandas são as **Series**. As Series são as **colunas das tabelas** (que veremos mais a frente), e por baixo dos panos, os dados ficam armazenados como numpy arrays!\n",
    "\n",
    "A diferença é que a série possui um **índice associado as linhas**, permitindo o acesso aos conteúdos dessa estrutura por ele, como um dicionário.\n",
    "\n",
    "Além disso, as séries têm métodos específicos que serão super úteis para nossas análises e manipulações de dados."
   ]
  },
  {
   "cell_type": "markdown",
   "metadata": {},
   "source": [
    "## Gerando uma Series\n",
    "Podemos criar uma série **a partir de uma lista**, usando a função do pandas `pd.Series()`:"
   ]
  },
  {
   "cell_type": "code",
   "execution_count": 35,
   "metadata": {
    "application/vnd.databricks.v1+cell": {
     "cellMetadata": {},
     "inputWidgets": {},
     "nuid": "9f0325ec-459c-4fdf-bcfc-267ef46f37d1",
     "showTitle": false,
     "title": ""
    },
    "colab": {
     "base_uri": "https://localhost:8080/"
    },
    "id": "_ybR1Avykkjv",
    "outputId": "6e469355-8020-47d4-bbaa-3ac922e82075"
   },
   "outputs": [],
   "source": [
    "#Criando uma lista\n",
    "lista = [4,6,3,7,25]\n",
    "lista\n",
    "# Série a partir de uma lista\n",
    "# os índices das linhas são automaticamente definidos\n",
    "serie = pd.Series(lista)"
   ]
  },
  {
   "cell_type": "code",
   "execution_count": 36,
   "metadata": {},
   "outputs": [
    {
     "data": {
      "text/plain": [
       "0     4\n",
       "1     6\n",
       "2     3\n",
       "3     7\n",
       "4    25\n",
       "dtype: int64"
      ]
     },
     "execution_count": 36,
     "metadata": {},
     "output_type": "execute_result"
    }
   ],
   "source": [
    "serie"
   ]
  },
  {
   "cell_type": "markdown",
   "metadata": {
    "application/vnd.databricks.v1+cell": {
     "cellMetadata": {},
     "inputWidgets": {},
     "nuid": "a64ad204-61cd-4ce1-bf36-084dbeb0ae68",
     "showTitle": false,
     "title": ""
    },
    "id": "QzRguO5hlG28"
   },
   "source": [
    "Os números à esquerda são os **índices** da série, e, aqueles à direita, são seus **valores**. Podemos também acessá-los separadamente."
   ]
  },
  {
   "cell_type": "code",
   "execution_count": 37,
   "metadata": {
    "application/vnd.databricks.v1+cell": {
     "cellMetadata": {},
     "inputWidgets": {},
     "nuid": "ac47417f-fd70-422c-90eb-787d47dde2af",
     "showTitle": false,
     "title": ""
    },
    "colab": {
     "base_uri": "https://localhost:8080/"
    },
    "id": "g5C166zDlEmz",
    "outputId": "b16769e2-f8c5-4f2c-cba0-1d0c2f74bb81"
   },
   "outputs": [
    {
     "data": {
      "text/plain": [
       "array([ 4,  6,  3,  7, 25], dtype=int64)"
      ]
     },
     "execution_count": 37,
     "metadata": {},
     "output_type": "execute_result"
    }
   ],
   "source": [
    "# valores\n",
    "serie.values"
   ]
  },
  {
   "cell_type": "code",
   "execution_count": 38,
   "metadata": {
    "application/vnd.databricks.v1+cell": {
     "cellMetadata": {},
     "inputWidgets": {},
     "nuid": "9ff279fc-584b-4437-9d9a-d88b5e046194",
     "showTitle": false,
     "title": ""
    },
    "colab": {
     "base_uri": "https://localhost:8080/"
    },
    "id": "37IlFa-clI-7",
    "outputId": "daea4bc4-38f6-4ae1-9eb1-4a063728541c"
   },
   "outputs": [
    {
     "data": {
      "text/plain": [
       "RangeIndex(start=0, stop=5, step=1)"
      ]
     },
     "execution_count": 38,
     "metadata": {},
     "output_type": "execute_result"
    }
   ],
   "source": [
    "# índices\n",
    "serie.index"
   ]
  },
  {
   "cell_type": "markdown",
   "metadata": {},
   "source": [
    "A obtenção de itens de uma Series é muito similar à maneira de como fazemos com listas:"
   ]
  },
  {
   "cell_type": "code",
   "execution_count": 39,
   "metadata": {},
   "outputs": [
    {
     "data": {
      "text/plain": [
       "4"
      ]
     },
     "execution_count": 39,
     "metadata": {},
     "output_type": "execute_result"
    }
   ],
   "source": [
    "serie[0]"
   ]
  },
  {
   "cell_type": "markdown",
   "metadata": {},
   "source": [
    "Também podemos realizar slicing nas Series, tal como fazemos nas listas."
   ]
  },
  {
   "cell_type": "markdown",
   "metadata": {
    "application/vnd.databricks.v1+cell": {
     "cellMetadata": {},
     "inputWidgets": {},
     "nuid": "e4632fd2-c9c9-47fe-9e1a-9b2cdd70cb64",
     "showTitle": false,
     "title": ""
    },
    "id": "SpAXem_pmOqb"
   },
   "source": [
    "## Extra: Operações com séries\n",
    "\n",
    "Como são gerados como numpy arrays, de modo semelhante, operações com séries são realizadas elemento a elemento. E assim podemos somar, multiplicar, realizar qualquer cálculo com as Series.\n"
   ]
  },
  {
   "cell_type": "code",
   "execution_count": 40,
   "metadata": {
    "application/vnd.databricks.v1+cell": {
     "cellMetadata": {},
     "inputWidgets": {},
     "nuid": "72686454-189f-4016-8e25-5c2558edaa00",
     "showTitle": false,
     "title": ""
    },
    "colab": {
     "base_uri": "https://localhost:8080/"
    },
    "id": "mbcn1VOBmJIC",
    "outputId": "45f24d59-cf2f-4b4f-bf52-c71088fa6515"
   },
   "outputs": [],
   "source": [
    "# Criando duas Series de listas de mesmo tamanho\n",
    "series1 = pd.Series(range(1,10))\n",
    "series2 = pd.Series([0,1,100]*3)"
   ]
  },
  {
   "cell_type": "code",
   "execution_count": 41,
   "metadata": {
    "application/vnd.databricks.v1+cell": {
     "cellMetadata": {},
     "inputWidgets": {},
     "nuid": "0d9e3e35-8cc9-44b1-b6d1-db821928e5ce",
     "showTitle": false,
     "title": ""
    },
    "colab": {
     "base_uri": "https://localhost:8080/"
    },
    "id": "7JgUlUSXmdeB",
    "outputId": "e06b561e-ddb0-4ce3-9b47-6038e7e4597c"
   },
   "outputs": [
    {
     "data": {
      "text/plain": [
       "0     6\n",
       "1     7\n",
       "2     8\n",
       "3     9\n",
       "4    10\n",
       "5    11\n",
       "6    12\n",
       "7    13\n",
       "8    14\n",
       "dtype: int64"
      ]
     },
     "execution_count": 41,
     "metadata": {},
     "output_type": "execute_result"
    }
   ],
   "source": [
    "# Operações aritméticas básicas funcionam elemento a elemento\n",
    "# soma\n",
    "series1+5"
   ]
  },
  {
   "cell_type": "code",
   "execution_count": 42,
   "metadata": {},
   "outputs": [
    {
     "data": {
      "text/plain": [
       "0      1\n",
       "1      3\n",
       "2    103\n",
       "3      4\n",
       "4      6\n",
       "5    106\n",
       "6      7\n",
       "7      9\n",
       "8    109\n",
       "dtype: int64"
      ]
     },
     "execution_count": 42,
     "metadata": {},
     "output_type": "execute_result"
    }
   ],
   "source": [
    "# soma de series\n",
    "series1+series2"
   ]
  },
  {
   "cell_type": "code",
   "execution_count": 43,
   "metadata": {
    "application/vnd.databricks.v1+cell": {
     "cellMetadata": {},
     "inputWidgets": {},
     "nuid": "9ae35593-946f-44f4-953d-d9c30e14faa7",
     "showTitle": false,
     "title": ""
    },
    "colab": {
     "base_uri": "https://localhost:8080/"
    },
    "id": "zsw7fWvemecq",
    "outputId": "bdbaab02-9e7d-4a11-f39d-f9361a092c04"
   },
   "outputs": [
    {
     "data": {
      "text/plain": [
       "0     20\n",
       "1     30\n",
       "2     15\n",
       "3     35\n",
       "4    125\n",
       "dtype: int64"
      ]
     },
     "execution_count": 43,
     "metadata": {},
     "output_type": "execute_result"
    }
   ],
   "source": [
    "# multiplicacao\n",
    "serie*5"
   ]
  },
  {
   "cell_type": "code",
   "execution_count": 44,
   "metadata": {},
   "outputs": [
    {
     "data": {
      "text/plain": [
       "0      0\n",
       "1      2\n",
       "2    300\n",
       "3      0\n",
       "4      5\n",
       "5    600\n",
       "6      0\n",
       "7      8\n",
       "8    900\n",
       "dtype: int64"
      ]
     },
     "execution_count": 44,
     "metadata": {},
     "output_type": "execute_result"
    }
   ],
   "source": [
    "# multiplicacao\n",
    "series1 * series2"
   ]
  },
  {
   "cell_type": "code",
   "execution_count": 45,
   "metadata": {
    "application/vnd.databricks.v1+cell": {
     "cellMetadata": {},
     "inputWidgets": {},
     "nuid": "7cc79b35-8704-44d9-9f7c-f7fb52ddcbdf",
     "showTitle": false,
     "title": ""
    },
    "colab": {
     "base_uri": "https://localhost:8080/"
    },
    "id": "F759Rwb3midL",
    "outputId": "dc518aed-23d1-4641-d034-4dcf88d57fe3"
   },
   "outputs": [
    {
     "data": {
      "text/plain": [
       "0    False\n",
       "1     True\n",
       "2    False\n",
       "3     True\n",
       "4    False\n",
       "5     True\n",
       "6    False\n",
       "7     True\n",
       "8    False\n",
       "dtype: bool"
      ]
     },
     "execution_count": 45,
     "metadata": {},
     "output_type": "execute_result"
    }
   ],
   "source": [
    "# Condicionais / verificaçoes\n",
    "# numeros pares\n",
    "series1 % 2 == 0"
   ]
  },
  {
   "cell_type": "code",
   "execution_count": 46,
   "metadata": {
    "application/vnd.databricks.v1+cell": {
     "cellMetadata": {},
     "inputWidgets": {},
     "nuid": "69863ded-0f66-4be7-9439-2fa4fa4abc16",
     "showTitle": false,
     "title": ""
    },
    "colab": {
     "base_uri": "https://localhost:8080/"
    },
    "id": "bXimzwJCmjvC",
    "outputId": "6d6a62d6-1d6a-4a0d-de4b-3ee2a673eaa8"
   },
   "outputs": [
    {
     "data": {
      "text/plain": [
       "0    False\n",
       "1    False\n",
       "2     True\n",
       "3    False\n",
       "4    False\n",
       "5     True\n",
       "6    False\n",
       "7    False\n",
       "8     True\n",
       "dtype: bool"
      ]
     },
     "execution_count": 46,
     "metadata": {},
     "output_type": "execute_result"
    }
   ],
   "source": [
    "# numeros maiores que 10\n",
    "series2 > 10"
   ]
  },
  {
   "cell_type": "markdown",
   "metadata": {
    "application/vnd.databricks.v1+cell": {
     "cellMetadata": {},
     "inputWidgets": {},
     "nuid": "fded0400-5b4e-4ddf-a512-e7b8666a21fc",
     "showTitle": false,
     "title": ""
    },
    "id": "aH7h9gQQnaSr"
   },
   "source": [
    "E com dados de formatos diferentes?"
   ]
  },
  {
   "cell_type": "code",
   "execution_count": 47,
   "metadata": {
    "application/vnd.databricks.v1+cell": {
     "cellMetadata": {},
     "inputWidgets": {},
     "nuid": "272c5688-0948-4c0d-9dc1-78b36559bc93",
     "showTitle": false,
     "title": ""
    },
    "id": "2b58UfcgnVkh"
   },
   "outputs": [],
   "source": [
    "s_texto = pd.Series(['a','b','c'])\n",
    "s_numero = pd.Series([1,2,3])"
   ]
  },
  {
   "cell_type": "markdown",
   "metadata": {},
   "source": [
    "O que acontecia com strings mutiplicadas por números inteiros mesmo?"
   ]
  },
  {
   "cell_type": "code",
   "execution_count": 48,
   "metadata": {
    "application/vnd.databricks.v1+cell": {
     "cellMetadata": {},
     "inputWidgets": {},
     "nuid": "d042fa59-9031-4873-9960-fb07af8ef9d9",
     "showTitle": false,
     "title": ""
    },
    "colab": {
     "base_uri": "https://localhost:8080/"
    },
    "id": "VtxqxulWneNi",
    "outputId": "c1d84fea-b3e9-46ec-a1f6-413f72a9784f"
   },
   "outputs": [
    {
     "name": "stdout",
     "output_type": "stream",
     "text": [
      "a\n",
      "bb\n",
      "ccc\n"
     ]
    }
   ],
   "source": [
    "# Com strings\n",
    "print('a'*1)\n",
    "print('b'*2)\n",
    "print('c'*3)"
   ]
  },
  {
   "cell_type": "markdown",
   "metadata": {},
   "source": [
    "O mesmo efeito acontece entre a multiplicação de series entre strings e números"
   ]
  },
  {
   "cell_type": "code",
   "execution_count": 49,
   "metadata": {
    "application/vnd.databricks.v1+cell": {
     "cellMetadata": {},
     "inputWidgets": {},
     "nuid": "cb54f32c-fc79-4612-82f8-e3808dddd906",
     "showTitle": false,
     "title": ""
    },
    "colab": {
     "base_uri": "https://localhost:8080/"
    },
    "id": "fnN8uqQvnfg6",
    "outputId": "afcfb581-6c14-43a4-828f-9c30f9006300"
   },
   "outputs": [
    {
     "data": {
      "text/plain": [
       "0      a\n",
       "1     bb\n",
       "2    ccc\n",
       "dtype: object"
      ]
     },
     "execution_count": 49,
     "metadata": {},
     "output_type": "execute_result"
    }
   ],
   "source": [
    "# Mesmo efeito para as séries\n",
    "s_texto*s_numero"
   ]
  },
  {
   "cell_type": "markdown",
   "metadata": {},
   "source": [
    "# DataFrame\n",
    "\n",
    "Agora que conhecemos as séries, vamos partir pro objeto do Pandas que mais utilizaremos: o **DataFrame**. <br>\n",
    "Como veremos a seguir, o DataFrame é uma estrutura que se assemalha a uma **tabela** do excel. <br>\n",
    "\n",
    "Estruturalmente, o DataFrame nada mais é que um **conjunto de Series**, uma para cada coluna (e, claro, com mesmo índice, que irão indexar as linhas).\n",
    "Veremos depois como **ler um dataframe a partir de um arquivo** (que é provavelmente a forma mais comum).\n",
    "\n",
    "Há muitas formas de construir um DataFrame do zero. Todas elas fazem uso da função **pd.DataFrame()**, como veremos a seguir. Se quisermos especificar os índices de linha, o nome das colunas, e os dados, podemos passá-los separadamente.\n",
    "\n",
    "**Obs.:** As colunas dos DataFrames são Series. Assim, tudo que vimos para as séries se aplica para cada coluna do DataFrame!"
   ]
  },
  {
   "cell_type": "code",
   "execution_count": 50,
   "metadata": {},
   "outputs": [
    {
     "data": {
      "text/plain": [
       "[[1, 2, 3], [2, 4, 6], [3, 6, 9], [4, 8, 12], [5, 10, 15]]"
      ]
     },
     "execution_count": 50,
     "metadata": {},
     "output_type": "execute_result"
    }
   ],
   "source": [
    "# Gerando uma matriz (5,3) de números inteiros\n",
    "nrows = 5\n",
    "ncols = 3\n",
    "matriz = [[item*r for item in range(1,ncols+1)] for r in range(1,nrows+1)]\n",
    "matriz"
   ]
  },
  {
   "cell_type": "code",
   "execution_count": 51,
   "metadata": {},
   "outputs": [
    {
     "data": {
      "text/html": [
       "<div>\n",
       "<style scoped>\n",
       "    .dataframe tbody tr th:only-of-type {\n",
       "        vertical-align: middle;\n",
       "    }\n",
       "\n",
       "    .dataframe tbody tr th {\n",
       "        vertical-align: top;\n",
       "    }\n",
       "\n",
       "    .dataframe thead th {\n",
       "        text-align: right;\n",
       "    }\n",
       "</style>\n",
       "<table border=\"1\" class=\"dataframe\">\n",
       "  <thead>\n",
       "    <tr style=\"text-align: right;\">\n",
       "      <th></th>\n",
       "      <th>0</th>\n",
       "      <th>1</th>\n",
       "      <th>2</th>\n",
       "    </tr>\n",
       "  </thead>\n",
       "  <tbody>\n",
       "    <tr>\n",
       "      <th>0</th>\n",
       "      <td>1</td>\n",
       "      <td>2</td>\n",
       "      <td>3</td>\n",
       "    </tr>\n",
       "    <tr>\n",
       "      <th>1</th>\n",
       "      <td>2</td>\n",
       "      <td>4</td>\n",
       "      <td>6</td>\n",
       "    </tr>\n",
       "    <tr>\n",
       "      <th>2</th>\n",
       "      <td>3</td>\n",
       "      <td>6</td>\n",
       "      <td>9</td>\n",
       "    </tr>\n",
       "    <tr>\n",
       "      <th>3</th>\n",
       "      <td>4</td>\n",
       "      <td>8</td>\n",
       "      <td>12</td>\n",
       "    </tr>\n",
       "    <tr>\n",
       "      <th>4</th>\n",
       "      <td>5</td>\n",
       "      <td>10</td>\n",
       "      <td>15</td>\n",
       "    </tr>\n",
       "  </tbody>\n",
       "</table>\n",
       "</div>"
      ],
      "text/plain": [
       "   0   1   2\n",
       "0  1   2   3\n",
       "1  2   4   6\n",
       "2  3   6   9\n",
       "3  4   8  12\n",
       "4  5  10  15"
      ]
     },
     "execution_count": 51,
     "metadata": {},
     "output_type": "execute_result"
    }
   ],
   "source": [
    "#Transformando essa matriz em um DF\n",
    "pd.DataFrame(matriz)"
   ]
  },
  {
   "cell_type": "code",
   "execution_count": 52,
   "metadata": {},
   "outputs": [],
   "source": [
    "# Conseguimos definir nomes pros índices e colunas\n",
    "df = pd.DataFrame(matriz,\n",
    "                               index = ['aluno1','aluno2','aluno3','aluno4','aluno5'],\n",
    "                               columns=['id','nota','aulas_presente'])"
   ]
  },
  {
   "cell_type": "code",
   "execution_count": 53,
   "metadata": {},
   "outputs": [
    {
     "data": {
      "text/html": [
       "<div>\n",
       "<style scoped>\n",
       "    .dataframe tbody tr th:only-of-type {\n",
       "        vertical-align: middle;\n",
       "    }\n",
       "\n",
       "    .dataframe tbody tr th {\n",
       "        vertical-align: top;\n",
       "    }\n",
       "\n",
       "    .dataframe thead th {\n",
       "        text-align: right;\n",
       "    }\n",
       "</style>\n",
       "<table border=\"1\" class=\"dataframe\">\n",
       "  <thead>\n",
       "    <tr style=\"text-align: right;\">\n",
       "      <th></th>\n",
       "      <th>id</th>\n",
       "      <th>nota</th>\n",
       "      <th>aulas_presente</th>\n",
       "    </tr>\n",
       "  </thead>\n",
       "  <tbody>\n",
       "    <tr>\n",
       "      <th>aluno1</th>\n",
       "      <td>1</td>\n",
       "      <td>2</td>\n",
       "      <td>3</td>\n",
       "    </tr>\n",
       "    <tr>\n",
       "      <th>aluno2</th>\n",
       "      <td>2</td>\n",
       "      <td>4</td>\n",
       "      <td>6</td>\n",
       "    </tr>\n",
       "    <tr>\n",
       "      <th>aluno3</th>\n",
       "      <td>3</td>\n",
       "      <td>6</td>\n",
       "      <td>9</td>\n",
       "    </tr>\n",
       "    <tr>\n",
       "      <th>aluno4</th>\n",
       "      <td>4</td>\n",
       "      <td>8</td>\n",
       "      <td>12</td>\n",
       "    </tr>\n",
       "    <tr>\n",
       "      <th>aluno5</th>\n",
       "      <td>5</td>\n",
       "      <td>10</td>\n",
       "      <td>15</td>\n",
       "    </tr>\n",
       "  </tbody>\n",
       "</table>\n",
       "</div>"
      ],
      "text/plain": [
       "        id  nota  aulas_presente\n",
       "aluno1   1     2               3\n",
       "aluno2   2     4               6\n",
       "aluno3   3     6               9\n",
       "aluno4   4     8              12\n",
       "aluno5   5    10              15"
      ]
     },
     "execution_count": 53,
     "metadata": {},
     "output_type": "execute_result"
    }
   ],
   "source": [
    "df"
   ]
  },
  {
   "cell_type": "markdown",
   "metadata": {},
   "source": [
    "## Acessando posições do dataframe\n",
    "\n",
    "- .loc(): acessamos os rótulos com os **nomes** das linhas e colunas;\n",
    "- .iloc(): acessamos os índices numéricos das linhas e colunas."
   ]
  },
  {
   "cell_type": "code",
   "execution_count": 55,
   "metadata": {},
   "outputs": [
    {
     "data": {
      "text/plain": [
       "8"
      ]
     },
     "execution_count": 55,
     "metadata": {},
     "output_type": "execute_result"
    }
   ],
   "source": [
    "# acessar a nota do aluno4\n",
    "df.loc['aluno4','nota']"
   ]
  },
  {
   "cell_type": "code",
   "execution_count": 56,
   "metadata": {},
   "outputs": [
    {
     "data": {
      "text/plain": [
       "8"
      ]
     },
     "execution_count": 56,
     "metadata": {},
     "output_type": "execute_result"
    }
   ],
   "source": [
    "# o mesmo acima usando iloc\n",
    "df.iloc[3,1]"
   ]
  },
  {
   "cell_type": "markdown",
   "metadata": {},
   "source": [
    "Podemos selecionar uma coluna específica ou colunas específicas do DF."
   ]
  },
  {
   "cell_type": "code",
   "execution_count": 57,
   "metadata": {},
   "outputs": [
    {
     "data": {
      "text/plain": [
       "aluno1     3\n",
       "aluno2     6\n",
       "aluno3     9\n",
       "aluno4    12\n",
       "aluno5    15\n",
       "Name: aulas_presente, dtype: int64"
      ]
     },
     "execution_count": 57,
     "metadata": {},
     "output_type": "execute_result"
    }
   ],
   "source": [
    "# uma col\n",
    "df['aulas_presente']"
   ]
  },
  {
   "cell_type": "code",
   "execution_count": 58,
   "metadata": {},
   "outputs": [
    {
     "data": {
      "text/html": [
       "<div>\n",
       "<style scoped>\n",
       "    .dataframe tbody tr th:only-of-type {\n",
       "        vertical-align: middle;\n",
       "    }\n",
       "\n",
       "    .dataframe tbody tr th {\n",
       "        vertical-align: top;\n",
       "    }\n",
       "\n",
       "    .dataframe thead th {\n",
       "        text-align: right;\n",
       "    }\n",
       "</style>\n",
       "<table border=\"1\" class=\"dataframe\">\n",
       "  <thead>\n",
       "    <tr style=\"text-align: right;\">\n",
       "      <th></th>\n",
       "      <th>id</th>\n",
       "      <th>aulas_presente</th>\n",
       "    </tr>\n",
       "  </thead>\n",
       "  <tbody>\n",
       "    <tr>\n",
       "      <th>aluno1</th>\n",
       "      <td>1</td>\n",
       "      <td>3</td>\n",
       "    </tr>\n",
       "    <tr>\n",
       "      <th>aluno2</th>\n",
       "      <td>2</td>\n",
       "      <td>6</td>\n",
       "    </tr>\n",
       "    <tr>\n",
       "      <th>aluno3</th>\n",
       "      <td>3</td>\n",
       "      <td>9</td>\n",
       "    </tr>\n",
       "    <tr>\n",
       "      <th>aluno4</th>\n",
       "      <td>4</td>\n",
       "      <td>12</td>\n",
       "    </tr>\n",
       "    <tr>\n",
       "      <th>aluno5</th>\n",
       "      <td>5</td>\n",
       "      <td>15</td>\n",
       "    </tr>\n",
       "  </tbody>\n",
       "</table>\n",
       "</div>"
      ],
      "text/plain": [
       "        id  aulas_presente\n",
       "aluno1   1               3\n",
       "aluno2   2               6\n",
       "aluno3   3               9\n",
       "aluno4   4              12\n",
       "aluno5   5              15"
      ]
     },
     "execution_count": 58,
     "metadata": {},
     "output_type": "execute_result"
    }
   ],
   "source": [
    "#multiplas cols\n",
    "df[['id','aulas_presente']]"
   ]
  },
  {
   "cell_type": "code",
   "execution_count": 59,
   "metadata": {},
   "outputs": [
    {
     "data": {
      "text/html": [
       "<div>\n",
       "<style scoped>\n",
       "    .dataframe tbody tr th:only-of-type {\n",
       "        vertical-align: middle;\n",
       "    }\n",
       "\n",
       "    .dataframe tbody tr th {\n",
       "        vertical-align: top;\n",
       "    }\n",
       "\n",
       "    .dataframe thead th {\n",
       "        text-align: right;\n",
       "    }\n",
       "</style>\n",
       "<table border=\"1\" class=\"dataframe\">\n",
       "  <thead>\n",
       "    <tr style=\"text-align: right;\">\n",
       "      <th></th>\n",
       "      <th>nota</th>\n",
       "      <th>aulas_presente</th>\n",
       "    </tr>\n",
       "  </thead>\n",
       "  <tbody>\n",
       "    <tr>\n",
       "      <th>aluno2</th>\n",
       "      <td>4</td>\n",
       "      <td>6</td>\n",
       "    </tr>\n",
       "    <tr>\n",
       "      <th>aluno3</th>\n",
       "      <td>6</td>\n",
       "      <td>9</td>\n",
       "    </tr>\n",
       "    <tr>\n",
       "      <th>aluno4</th>\n",
       "      <td>8</td>\n",
       "      <td>12</td>\n",
       "    </tr>\n",
       "  </tbody>\n",
       "</table>\n",
       "</div>"
      ],
      "text/plain": [
       "        nota  aulas_presente\n",
       "aluno2     4               6\n",
       "aluno3     6               9\n",
       "aluno4     8              12"
      ]
     },
     "execution_count": 59,
     "metadata": {},
     "output_type": "execute_result"
    }
   ],
   "source": [
    "# slicing de linhas e cols\n",
    "df.loc['aluno2':'aluno4','nota':]"
   ]
  },
  {
   "cell_type": "code",
   "execution_count": 60,
   "metadata": {},
   "outputs": [
    {
     "data": {
      "text/html": [
       "<div>\n",
       "<style scoped>\n",
       "    .dataframe tbody tr th:only-of-type {\n",
       "        vertical-align: middle;\n",
       "    }\n",
       "\n",
       "    .dataframe tbody tr th {\n",
       "        vertical-align: top;\n",
       "    }\n",
       "\n",
       "    .dataframe thead th {\n",
       "        text-align: right;\n",
       "    }\n",
       "</style>\n",
       "<table border=\"1\" class=\"dataframe\">\n",
       "  <thead>\n",
       "    <tr style=\"text-align: right;\">\n",
       "      <th></th>\n",
       "      <th>nota</th>\n",
       "      <th>aulas_presente</th>\n",
       "    </tr>\n",
       "  </thead>\n",
       "  <tbody>\n",
       "    <tr>\n",
       "      <th>aluno2</th>\n",
       "      <td>4</td>\n",
       "      <td>6</td>\n",
       "    </tr>\n",
       "    <tr>\n",
       "      <th>aluno3</th>\n",
       "      <td>6</td>\n",
       "      <td>9</td>\n",
       "    </tr>\n",
       "    <tr>\n",
       "      <th>aluno4</th>\n",
       "      <td>8</td>\n",
       "      <td>12</td>\n",
       "    </tr>\n",
       "  </tbody>\n",
       "</table>\n",
       "</div>"
      ],
      "text/plain": [
       "        nota  aulas_presente\n",
       "aluno2     4               6\n",
       "aluno3     6               9\n",
       "aluno4     8              12"
      ]
     },
     "execution_count": 60,
     "metadata": {},
     "output_type": "execute_result"
    }
   ],
   "source": [
    "# utilizando o iloc\n",
    "df.iloc[1:4,1:]"
   ]
  },
  {
   "cell_type": "markdown",
   "metadata": {},
   "source": [
    "Analogamente, podemos usar o `iloc` para obter os mesmos dados utilizando os índices (fica como tarefa para você demonstrar isto)."
   ]
  },
  {
   "cell_type": "markdown",
   "metadata": {},
   "source": [
    "As colunas do dataframe são séries. Assim, tudo que vimos para as séries, se estende individualmente para cada coluna!"
   ]
  },
  {
   "cell_type": "markdown",
   "metadata": {},
   "source": [
    "# Outros métodos para DataFrames\n",
    "\n",
    "Como uma coluna de um DF é uma Série, a maioria dos métodos que veremos para DataFrames também são aplicados as Series.\n",
    "\n",
    "Veremos 2 que trazem informações sobre nosso DF: `info`() e `dtypes` e `shape`."
   ]
  },
  {
   "cell_type": "markdown",
   "metadata": {},
   "source": [
    "## shape"
   ]
  },
  {
   "cell_type": "code",
   "execution_count": 61,
   "metadata": {},
   "outputs": [
    {
     "data": {
      "text/plain": [
       "(5, 3)"
      ]
     },
     "execution_count": 61,
     "metadata": {},
     "output_type": "execute_result"
    }
   ],
   "source": [
    "df.shape"
   ]
  },
  {
   "cell_type": "markdown",
   "metadata": {},
   "source": [
    "## info()"
   ]
  },
  {
   "cell_type": "code",
   "execution_count": 62,
   "metadata": {},
   "outputs": [
    {
     "name": "stdout",
     "output_type": "stream",
     "text": [
      "<class 'pandas.core.frame.DataFrame'>\n",
      "Index: 5 entries, aluno1 to aluno5\n",
      "Data columns (total 3 columns):\n",
      " #   Column          Non-Null Count  Dtype\n",
      "---  ------          --------------  -----\n",
      " 0   id              5 non-null      int64\n",
      " 1   nota            5 non-null      int64\n",
      " 2   aulas_presente  5 non-null      int64\n",
      "dtypes: int64(3)\n",
      "memory usage: 332.0+ bytes\n"
     ]
    }
   ],
   "source": [
    "df.info()"
   ]
  },
  {
   "cell_type": "markdown",
   "metadata": {},
   "source": [
    "também podemos acessar os tipos de dados por coluna separadamente utilizando o `dtypes`"
   ]
  },
  {
   "cell_type": "code",
   "execution_count": 63,
   "metadata": {},
   "outputs": [
    {
     "data": {
      "text/plain": [
       "id                int64\n",
       "nota              int64\n",
       "aulas_presente    int64\n",
       "dtype: object"
      ]
     },
     "execution_count": 63,
     "metadata": {},
     "output_type": "execute_result"
    }
   ],
   "source": [
    "df.dtypes"
   ]
  },
  {
   "cell_type": "markdown",
   "metadata": {},
   "source": [
    "Podemos ainda, trocar o tipo de alguma variável. Exemplo, trocar uma coluna de inteiro para decimal:"
   ]
  },
  {
   "cell_type": "code",
   "execution_count": 64,
   "metadata": {},
   "outputs": [],
   "source": [
    "df['nota'] = df['nota'].astype(float)"
   ]
  },
  {
   "cell_type": "markdown",
   "metadata": {},
   "source": [
    "## head()"
   ]
  },
  {
   "cell_type": "code",
   "execution_count": 65,
   "metadata": {
    "application/vnd.databricks.v1+cell": {
     "cellMetadata": {},
     "inputWidgets": {},
     "nuid": "b05fc143-abe9-4fb3-90a1-5ca9ba4b7245",
     "showTitle": false,
     "title": ""
    },
    "colab": {
     "base_uri": "https://localhost:8080/"
    },
    "id": "yCsOs2WppSVq",
    "outputId": "dab49908-930e-4923-d2cd-0d8712ba5dc4"
   },
   "outputs": [
    {
     "data": {
      "text/html": [
       "<div>\n",
       "<style scoped>\n",
       "    .dataframe tbody tr th:only-of-type {\n",
       "        vertical-align: middle;\n",
       "    }\n",
       "\n",
       "    .dataframe tbody tr th {\n",
       "        vertical-align: top;\n",
       "    }\n",
       "\n",
       "    .dataframe thead th {\n",
       "        text-align: right;\n",
       "    }\n",
       "</style>\n",
       "<table border=\"1\" class=\"dataframe\">\n",
       "  <thead>\n",
       "    <tr style=\"text-align: right;\">\n",
       "      <th></th>\n",
       "      <th>id</th>\n",
       "      <th>nota</th>\n",
       "      <th>aulas_presente</th>\n",
       "    </tr>\n",
       "  </thead>\n",
       "  <tbody>\n",
       "    <tr>\n",
       "      <th>aluno1</th>\n",
       "      <td>1</td>\n",
       "      <td>2.0</td>\n",
       "      <td>3</td>\n",
       "    </tr>\n",
       "    <tr>\n",
       "      <th>aluno2</th>\n",
       "      <td>2</td>\n",
       "      <td>4.0</td>\n",
       "      <td>6</td>\n",
       "    </tr>\n",
       "    <tr>\n",
       "      <th>aluno3</th>\n",
       "      <td>3</td>\n",
       "      <td>6.0</td>\n",
       "      <td>9</td>\n",
       "    </tr>\n",
       "    <tr>\n",
       "      <th>aluno4</th>\n",
       "      <td>4</td>\n",
       "      <td>8.0</td>\n",
       "      <td>12</td>\n",
       "    </tr>\n",
       "    <tr>\n",
       "      <th>aluno5</th>\n",
       "      <td>5</td>\n",
       "      <td>10.0</td>\n",
       "      <td>15</td>\n",
       "    </tr>\n",
       "  </tbody>\n",
       "</table>\n",
       "</div>"
      ],
      "text/plain": [
       "        id  nota  aulas_presente\n",
       "aluno1   1   2.0               3\n",
       "aluno2   2   4.0               6\n",
       "aluno3   3   6.0               9\n",
       "aluno4   4   8.0              12\n",
       "aluno5   5  10.0              15"
      ]
     },
     "execution_count": 65,
     "metadata": {},
     "output_type": "execute_result"
    }
   ],
   "source": [
    "#Ver as primeiras 5 linhas\n",
    "df.head()"
   ]
  },
  {
   "cell_type": "code",
   "execution_count": 66,
   "metadata": {},
   "outputs": [
    {
     "data": {
      "text/html": [
       "<div>\n",
       "<style scoped>\n",
       "    .dataframe tbody tr th:only-of-type {\n",
       "        vertical-align: middle;\n",
       "    }\n",
       "\n",
       "    .dataframe tbody tr th {\n",
       "        vertical-align: top;\n",
       "    }\n",
       "\n",
       "    .dataframe thead th {\n",
       "        text-align: right;\n",
       "    }\n",
       "</style>\n",
       "<table border=\"1\" class=\"dataframe\">\n",
       "  <thead>\n",
       "    <tr style=\"text-align: right;\">\n",
       "      <th></th>\n",
       "      <th>id</th>\n",
       "      <th>nota</th>\n",
       "      <th>aulas_presente</th>\n",
       "    </tr>\n",
       "  </thead>\n",
       "  <tbody>\n",
       "    <tr>\n",
       "      <th>aluno1</th>\n",
       "      <td>1</td>\n",
       "      <td>2.0</td>\n",
       "      <td>3</td>\n",
       "    </tr>\n",
       "    <tr>\n",
       "      <th>aluno2</th>\n",
       "      <td>2</td>\n",
       "      <td>4.0</td>\n",
       "      <td>6</td>\n",
       "    </tr>\n",
       "    <tr>\n",
       "      <th>aluno3</th>\n",
       "      <td>3</td>\n",
       "      <td>6.0</td>\n",
       "      <td>9</td>\n",
       "    </tr>\n",
       "    <tr>\n",
       "      <th>aluno4</th>\n",
       "      <td>4</td>\n",
       "      <td>8.0</td>\n",
       "      <td>12</td>\n",
       "    </tr>\n",
       "    <tr>\n",
       "      <th>aluno5</th>\n",
       "      <td>5</td>\n",
       "      <td>10.0</td>\n",
       "      <td>15</td>\n",
       "    </tr>\n",
       "  </tbody>\n",
       "</table>\n",
       "</div>"
      ],
      "text/plain": [
       "        id  nota  aulas_presente\n",
       "aluno1   1   2.0               3\n",
       "aluno2   2   4.0               6\n",
       "aluno3   3   6.0               9\n",
       "aluno4   4   8.0              12\n",
       "aluno5   5  10.0              15"
      ]
     },
     "execution_count": 66,
     "metadata": {},
     "output_type": "execute_result"
    }
   ],
   "source": [
    "# Ver as primeiras 7 linhas\n",
    "df.head(7)"
   ]
  },
  {
   "cell_type": "markdown",
   "metadata": {},
   "source": [
    "## tail()"
   ]
  },
  {
   "cell_type": "code",
   "execution_count": 67,
   "metadata": {
    "application/vnd.databricks.v1+cell": {
     "cellMetadata": {},
     "inputWidgets": {},
     "nuid": "f6f696b1-5421-491c-b648-255b5d209482",
     "showTitle": false,
     "title": ""
    },
    "colab": {
     "base_uri": "https://localhost:8080/"
    },
    "id": "a6PG5jjQpUL1",
    "outputId": "8493f744-6e5a-4735-e3f9-993a73ec26ff"
   },
   "outputs": [
    {
     "data": {
      "text/html": [
       "<div>\n",
       "<style scoped>\n",
       "    .dataframe tbody tr th:only-of-type {\n",
       "        vertical-align: middle;\n",
       "    }\n",
       "\n",
       "    .dataframe tbody tr th {\n",
       "        vertical-align: top;\n",
       "    }\n",
       "\n",
       "    .dataframe thead th {\n",
       "        text-align: right;\n",
       "    }\n",
       "</style>\n",
       "<table border=\"1\" class=\"dataframe\">\n",
       "  <thead>\n",
       "    <tr style=\"text-align: right;\">\n",
       "      <th></th>\n",
       "      <th>id</th>\n",
       "      <th>nota</th>\n",
       "      <th>aulas_presente</th>\n",
       "    </tr>\n",
       "  </thead>\n",
       "  <tbody>\n",
       "    <tr>\n",
       "      <th>aluno1</th>\n",
       "      <td>1</td>\n",
       "      <td>2.0</td>\n",
       "      <td>3</td>\n",
       "    </tr>\n",
       "    <tr>\n",
       "      <th>aluno2</th>\n",
       "      <td>2</td>\n",
       "      <td>4.0</td>\n",
       "      <td>6</td>\n",
       "    </tr>\n",
       "    <tr>\n",
       "      <th>aluno3</th>\n",
       "      <td>3</td>\n",
       "      <td>6.0</td>\n",
       "      <td>9</td>\n",
       "    </tr>\n",
       "    <tr>\n",
       "      <th>aluno4</th>\n",
       "      <td>4</td>\n",
       "      <td>8.0</td>\n",
       "      <td>12</td>\n",
       "    </tr>\n",
       "    <tr>\n",
       "      <th>aluno5</th>\n",
       "      <td>5</td>\n",
       "      <td>10.0</td>\n",
       "      <td>15</td>\n",
       "    </tr>\n",
       "  </tbody>\n",
       "</table>\n",
       "</div>"
      ],
      "text/plain": [
       "        id  nota  aulas_presente\n",
       "aluno1   1   2.0               3\n",
       "aluno2   2   4.0               6\n",
       "aluno3   3   6.0               9\n",
       "aluno4   4   8.0              12\n",
       "aluno5   5  10.0              15"
      ]
     },
     "execution_count": 67,
     "metadata": {},
     "output_type": "execute_result"
    }
   ],
   "source": [
    "#Ver as últimas 5 linhas (análogo ao `head` pode-se alterar a quantidade de linhas)\n",
    "df.tail()"
   ]
  },
  {
   "cell_type": "markdown",
   "metadata": {},
   "source": [
    "# Máscara booleana"
   ]
  },
  {
   "cell_type": "markdown",
   "metadata": {},
   "source": [
    "A máscara booleana é uma técnica no Pandas para filtrar dados com base em condições. Vamos aprender como criar e usar máscaras booleanas para selecionar partes específicas dos dados.<br>\n",
    "Utilizaremos ela também em outras funções, como `loc[]`.\n",
    "\n",
    "Imagine que queiramos filtrar somente os alunos com `nota` maiores que 5 no DataFrame. \n",
    "\n",
    "Primeiro aplicamos uma condição na coluna (Series) em que traz somente `True` ou `False`:"
   ]
  },
  {
   "cell_type": "code",
   "execution_count": 68,
   "metadata": {},
   "outputs": [],
   "source": [
    "mask = df['nota'] > 5"
   ]
  },
  {
   "cell_type": "markdown",
   "metadata": {},
   "source": [
    "Em seguida aplicamos este resultado no DataFrame. Isto significa que só queremos exibir as linhas em que a condição é satisfeita (também podemos aplicar no `loc` a mesma condição):"
   ]
  },
  {
   "cell_type": "code",
   "execution_count": 69,
   "metadata": {},
   "outputs": [
    {
     "data": {
      "text/html": [
       "<div>\n",
       "<style scoped>\n",
       "    .dataframe tbody tr th:only-of-type {\n",
       "        vertical-align: middle;\n",
       "    }\n",
       "\n",
       "    .dataframe tbody tr th {\n",
       "        vertical-align: top;\n",
       "    }\n",
       "\n",
       "    .dataframe thead th {\n",
       "        text-align: right;\n",
       "    }\n",
       "</style>\n",
       "<table border=\"1\" class=\"dataframe\">\n",
       "  <thead>\n",
       "    <tr style=\"text-align: right;\">\n",
       "      <th></th>\n",
       "      <th>id</th>\n",
       "      <th>nota</th>\n",
       "      <th>aulas_presente</th>\n",
       "    </tr>\n",
       "  </thead>\n",
       "  <tbody>\n",
       "    <tr>\n",
       "      <th>aluno3</th>\n",
       "      <td>3</td>\n",
       "      <td>6.0</td>\n",
       "      <td>9</td>\n",
       "    </tr>\n",
       "    <tr>\n",
       "      <th>aluno4</th>\n",
       "      <td>4</td>\n",
       "      <td>8.0</td>\n",
       "      <td>12</td>\n",
       "    </tr>\n",
       "    <tr>\n",
       "      <th>aluno5</th>\n",
       "      <td>5</td>\n",
       "      <td>10.0</td>\n",
       "      <td>15</td>\n",
       "    </tr>\n",
       "  </tbody>\n",
       "</table>\n",
       "</div>"
      ],
      "text/plain": [
       "        id  nota  aulas_presente\n",
       "aluno3   3   6.0               9\n",
       "aluno4   4   8.0              12\n",
       "aluno5   5  10.0              15"
      ]
     },
     "execution_count": 69,
     "metadata": {},
     "output_type": "execute_result"
    }
   ],
   "source": [
    "df[mask]\n",
    "df.loc[mask]"
   ]
  },
  {
   "cell_type": "markdown",
   "metadata": {},
   "source": [
    "Caso o filtro aplicado não seja tão complexo, não há problema escrever a condição da máscara booleana inteira.\n",
    "\n",
    "```python\n",
    "df[df['nota'] > 5]\n",
    "```"
   ]
  },
  {
   "cell_type": "markdown",
   "metadata": {
    "application/vnd.databricks.v1+cell": {
     "cellMetadata": {},
     "inputWidgets": {},
     "nuid": "3079a070-e177-4500-904a-8245050d1364",
     "showTitle": false,
     "title": ""
    },
    "id": "RPkcARqDyCHt"
   },
   "source": [
    "# Importando dados\n",
    "\n",
    "A forma mais comum de se construir um dataframe é a partir da **leitura de um arquivo** (.csv, .xls, .xlsx, .ods, .txt, .json, etc.)\n",
    "\n",
    "O pandas é capaz de ler todos esses formatos, com funções específicas!"
   ]
  },
  {
   "cell_type": "markdown",
   "metadata": {
    "application/vnd.databricks.v1+cell": {
     "cellMetadata": {},
     "inputWidgets": {},
     "nuid": "993e5d4a-8658-420b-a26b-dc193fb4bac8",
     "showTitle": false,
     "title": ""
    },
    "id": "jLUObcD4Op3I"
   },
   "source": [
    "## Arquivos CSV\n",
    "\n",
    "https://pandas.pydata.org/pandas-docs/stable/reference/api/pandas.read_csv.html"
   ]
  },
  {
   "cell_type": "markdown",
   "metadata": {
    "application/vnd.databricks.v1+cell": {
     "cellMetadata": {},
     "inputWidgets": {},
     "nuid": "1981576a-2e60-4d85-a262-0bf8eeddc820",
     "showTitle": false,
     "title": ""
    },
    "id": "rsOtTF-EOvkH"
   },
   "source": [
    "Vamos ler os dados do avaliaçãoes de restaurantes de New York do arquivo `Cuisine_ratings.csv` na pasta `data` e criar um DataFrame:"
   ]
  },
  {
   "cell_type": "code",
   "execution_count": 70,
   "metadata": {
    "application/vnd.databricks.v1+cell": {
     "cellMetadata": {
      "byteLimit": 2048000,
      "rowLimit": 10000
     },
     "inputWidgets": {},
     "nuid": "a4ce3a7d-9b9e-4782-a52b-45fa0ae58d12",
     "showTitle": false,
     "title": ""
    }
   },
   "outputs": [],
   "source": [
    "#import\n",
    "import pandas as pd\n",
    "\n",
    "# Lendo um arquivo CSV e criando um DataFrame\n",
    "df_rating = pd.read_csv('./data/Cuisine_rating.csv')"
   ]
  },
  {
   "cell_type": "code",
   "execution_count": 71,
   "metadata": {},
   "outputs": [
    {
     "data": {
      "text/html": [
       "<div>\n",
       "<style scoped>\n",
       "    .dataframe tbody tr th:only-of-type {\n",
       "        vertical-align: middle;\n",
       "    }\n",
       "\n",
       "    .dataframe tbody tr th {\n",
       "        vertical-align: top;\n",
       "    }\n",
       "\n",
       "    .dataframe thead th {\n",
       "        text-align: right;\n",
       "    }\n",
       "</style>\n",
       "<table border=\"1\" class=\"dataframe\">\n",
       "  <thead>\n",
       "    <tr style=\"text-align: right;\">\n",
       "      <th></th>\n",
       "      <th>User ID</th>\n",
       "      <th>Area code</th>\n",
       "      <th>Location</th>\n",
       "      <th>Gender</th>\n",
       "      <th>YOB</th>\n",
       "      <th>Marital Status</th>\n",
       "      <th>Activity</th>\n",
       "      <th>Budget</th>\n",
       "      <th>Cuisines</th>\n",
       "      <th>Alcohol</th>\n",
       "      <th>Smoker</th>\n",
       "      <th>Food Rating</th>\n",
       "      <th>Service Rating</th>\n",
       "      <th>Overall Rating</th>\n",
       "      <th>Often A S</th>\n",
       "    </tr>\n",
       "  </thead>\n",
       "  <tbody>\n",
       "    <tr>\n",
       "      <th>0</th>\n",
       "      <td>1</td>\n",
       "      <td>153</td>\n",
       "      <td>Upper East Side,NY</td>\n",
       "      <td>Female</td>\n",
       "      <td>2006</td>\n",
       "      <td>Single</td>\n",
       "      <td>Professional</td>\n",
       "      <td>3</td>\n",
       "      <td>Japanese</td>\n",
       "      <td>Never</td>\n",
       "      <td>Never</td>\n",
       "      <td>5</td>\n",
       "      <td>4</td>\n",
       "      <td>4.5</td>\n",
       "      <td>No</td>\n",
       "    </tr>\n",
       "    <tr>\n",
       "      <th>1</th>\n",
       "      <td>2</td>\n",
       "      <td>123</td>\n",
       "      <td>St. George,NY</td>\n",
       "      <td>Female</td>\n",
       "      <td>1991</td>\n",
       "      <td>Married</td>\n",
       "      <td>Student</td>\n",
       "      <td>3</td>\n",
       "      <td>Indian</td>\n",
       "      <td>Never</td>\n",
       "      <td>Socially</td>\n",
       "      <td>1</td>\n",
       "      <td>1</td>\n",
       "      <td>1.0</td>\n",
       "      <td>No</td>\n",
       "    </tr>\n",
       "    <tr>\n",
       "      <th>2</th>\n",
       "      <td>3</td>\n",
       "      <td>122</td>\n",
       "      <td>Upper West Side,NY</td>\n",
       "      <td>Male</td>\n",
       "      <td>1977</td>\n",
       "      <td>Single</td>\n",
       "      <td>Student</td>\n",
       "      <td>5</td>\n",
       "      <td>Seafood</td>\n",
       "      <td>Often</td>\n",
       "      <td>Often</td>\n",
       "      <td>5</td>\n",
       "      <td>5</td>\n",
       "      <td>5.0</td>\n",
       "      <td>Yes</td>\n",
       "    </tr>\n",
       "    <tr>\n",
       "      <th>3</th>\n",
       "      <td>4</td>\n",
       "      <td>153</td>\n",
       "      <td>Upper East Side,NY</td>\n",
       "      <td>Female</td>\n",
       "      <td>1956</td>\n",
       "      <td>Married</td>\n",
       "      <td>Professional</td>\n",
       "      <td>5</td>\n",
       "      <td>Japanese</td>\n",
       "      <td>Never</td>\n",
       "      <td>Socially</td>\n",
       "      <td>3</td>\n",
       "      <td>1</td>\n",
       "      <td>2.0</td>\n",
       "      <td>No</td>\n",
       "    </tr>\n",
       "    <tr>\n",
       "      <th>4</th>\n",
       "      <td>5</td>\n",
       "      <td>129</td>\n",
       "      <td>Central Park,NY</td>\n",
       "      <td>Male</td>\n",
       "      <td>1997</td>\n",
       "      <td>Single</td>\n",
       "      <td>Student</td>\n",
       "      <td>4</td>\n",
       "      <td>Filipino</td>\n",
       "      <td>Socially</td>\n",
       "      <td>Never</td>\n",
       "      <td>2</td>\n",
       "      <td>4</td>\n",
       "      <td>3.0</td>\n",
       "      <td>No</td>\n",
       "    </tr>\n",
       "    <tr>\n",
       "      <th>...</th>\n",
       "      <td>...</td>\n",
       "      <td>...</td>\n",
       "      <td>...</td>\n",
       "      <td>...</td>\n",
       "      <td>...</td>\n",
       "      <td>...</td>\n",
       "      <td>...</td>\n",
       "      <td>...</td>\n",
       "      <td>...</td>\n",
       "      <td>...</td>\n",
       "      <td>...</td>\n",
       "      <td>...</td>\n",
       "      <td>...</td>\n",
       "      <td>...</td>\n",
       "      <td>...</td>\n",
       "    </tr>\n",
       "    <tr>\n",
       "      <th>195</th>\n",
       "      <td>196</td>\n",
       "      <td>175</td>\n",
       "      <td>St. George,NY</td>\n",
       "      <td>Female</td>\n",
       "      <td>1982</td>\n",
       "      <td>Single</td>\n",
       "      <td>Professional</td>\n",
       "      <td>4</td>\n",
       "      <td>French</td>\n",
       "      <td>Never</td>\n",
       "      <td>Socially</td>\n",
       "      <td>1</td>\n",
       "      <td>2</td>\n",
       "      <td>1.5</td>\n",
       "      <td>No</td>\n",
       "    </tr>\n",
       "    <tr>\n",
       "      <th>196</th>\n",
       "      <td>197</td>\n",
       "      <td>170</td>\n",
       "      <td>Upper West Side,NY</td>\n",
       "      <td>Female</td>\n",
       "      <td>2000</td>\n",
       "      <td>Married</td>\n",
       "      <td>Student</td>\n",
       "      <td>4</td>\n",
       "      <td>Chinese</td>\n",
       "      <td>Never</td>\n",
       "      <td>Often</td>\n",
       "      <td>1</td>\n",
       "      <td>2</td>\n",
       "      <td>1.5</td>\n",
       "      <td>No</td>\n",
       "    </tr>\n",
       "    <tr>\n",
       "      <th>197</th>\n",
       "      <td>198</td>\n",
       "      <td>160</td>\n",
       "      <td>St. George,NY</td>\n",
       "      <td>Female</td>\n",
       "      <td>2006</td>\n",
       "      <td>Single</td>\n",
       "      <td>Professional</td>\n",
       "      <td>5</td>\n",
       "      <td>Japanese</td>\n",
       "      <td>Never</td>\n",
       "      <td>Often</td>\n",
       "      <td>5</td>\n",
       "      <td>2</td>\n",
       "      <td>3.5</td>\n",
       "      <td>No</td>\n",
       "    </tr>\n",
       "    <tr>\n",
       "      <th>198</th>\n",
       "      <td>199</td>\n",
       "      <td>130</td>\n",
       "      <td>St. George,NY</td>\n",
       "      <td>Male</td>\n",
       "      <td>2002</td>\n",
       "      <td>Married</td>\n",
       "      <td>Student</td>\n",
       "      <td>3</td>\n",
       "      <td>Filipino</td>\n",
       "      <td>Never</td>\n",
       "      <td>Socially</td>\n",
       "      <td>3</td>\n",
       "      <td>2</td>\n",
       "      <td>2.5</td>\n",
       "      <td>No</td>\n",
       "    </tr>\n",
       "    <tr>\n",
       "      <th>199</th>\n",
       "      <td>200</td>\n",
       "      <td>140</td>\n",
       "      <td>Upper East Side,NY</td>\n",
       "      <td>Male</td>\n",
       "      <td>2005</td>\n",
       "      <td>Married</td>\n",
       "      <td>Student</td>\n",
       "      <td>4</td>\n",
       "      <td>French</td>\n",
       "      <td>Never</td>\n",
       "      <td>Never</td>\n",
       "      <td>3</td>\n",
       "      <td>2</td>\n",
       "      <td>2.5</td>\n",
       "      <td>No</td>\n",
       "    </tr>\n",
       "  </tbody>\n",
       "</table>\n",
       "<p>200 rows × 15 columns</p>\n",
       "</div>"
      ],
      "text/plain": [
       "     User ID  Area code            Location  Gender   YOB Marital Status  \\\n",
       "0          1        153  Upper East Side,NY  Female  2006         Single   \n",
       "1          2        123       St. George,NY  Female  1991        Married   \n",
       "2          3        122  Upper West Side,NY    Male  1977         Single   \n",
       "3          4        153  Upper East Side,NY  Female  1956        Married   \n",
       "4          5        129     Central Park,NY    Male  1997         Single   \n",
       "..       ...        ...                 ...     ...   ...            ...   \n",
       "195      196        175       St. George,NY  Female  1982         Single   \n",
       "196      197        170  Upper West Side,NY  Female  2000        Married   \n",
       "197      198        160       St. George,NY  Female  2006         Single   \n",
       "198      199        130       St. George,NY    Male  2002        Married   \n",
       "199      200        140  Upper East Side,NY    Male  2005        Married   \n",
       "\n",
       "         Activity  Budget  Cuisines  Alcohol     Smoker  Food Rating  \\\n",
       "0    Professional       3  Japanese     Never     Never            5   \n",
       "1         Student       3    Indian     Never  Socially            1   \n",
       "2         Student       5   Seafood     Often     Often            5   \n",
       "3    Professional       5  Japanese     Never  Socially            3   \n",
       "4         Student       4  Filipino  Socially     Never            2   \n",
       "..            ...     ...       ...       ...       ...          ...   \n",
       "195  Professional       4    French     Never  Socially            1   \n",
       "196       Student       4   Chinese     Never     Often            1   \n",
       "197  Professional       5  Japanese     Never     Often            5   \n",
       "198       Student       3  Filipino     Never  Socially            3   \n",
       "199       Student       4    French     Never     Never            3   \n",
       "\n",
       "     Service Rating  Overall Rating Often A S  \n",
       "0                 4             4.5        No  \n",
       "1                 1             1.0        No  \n",
       "2                 5             5.0       Yes  \n",
       "3                 1             2.0        No  \n",
       "4                 4             3.0        No  \n",
       "..              ...             ...       ...  \n",
       "195               2             1.5        No  \n",
       "196               2             1.5        No  \n",
       "197               2             3.5        No  \n",
       "198               2             2.5        No  \n",
       "199               2             2.5        No  \n",
       "\n",
       "[200 rows x 15 columns]"
      ]
     },
     "execution_count": 71,
     "metadata": {},
     "output_type": "execute_result"
    }
   ],
   "source": [
    "df_rating"
   ]
  },
  {
   "cell_type": "markdown",
   "metadata": {},
   "source": [
    "Podemos aplicar todos os métodos vistos anteriormente para analisar o dataset carregado acima. "
   ]
  },
  {
   "cell_type": "markdown",
   "metadata": {
    "application/vnd.databricks.v1+cell": {
     "cellMetadata": {},
     "inputWidgets": {},
     "nuid": "6294af91-d617-4757-99dc-8111b56c369c",
     "showTitle": false,
     "title": ""
    }
   },
   "source": [
    "## EXTRA: Planilha Excel (XLS ou XLSX)\n",
    "\n",
    "https://pandas.pydata.org/pandas-docs/stable/reference/api/pandas.read_excel.html"
   ]
  },
  {
   "cell_type": "markdown",
   "metadata": {
    "application/vnd.databricks.v1+cell": {
     "cellMetadata": {},
     "inputWidgets": {},
     "nuid": "ce5bd39d-a7d9-46a3-bcc9-184d6cbd8d41",
     "showTitle": false,
     "title": ""
    }
   },
   "source": [
    "Vamos criar um dataframe com os dados da Selic vindos de uma planilha de excel `selic.xlsx` na pasta `data`"
   ]
  },
  {
   "cell_type": "code",
   "execution_count": null,
   "metadata": {
    "application/vnd.databricks.v1+cell": {
     "cellMetadata": {
      "byteLimit": 2048000,
      "rowLimit": 10000
     },
     "inputWidgets": {},
     "nuid": "46c94b28-05e7-4cc5-bd64-79d1b1c49d12",
     "showTitle": false,
     "title": ""
    }
   },
   "outputs": [],
   "source": [
    "#pip install openpyxl -- pode ser necessário instalar openpyxl, mas tente rodar o exemplo abaixo primeiro"
   ]
  },
  {
   "cell_type": "code",
   "execution_count": 72,
   "metadata": {
    "application/vnd.databricks.v1+cell": {
     "cellMetadata": {
      "byteLimit": 2048000,
      "rowLimit": 10000
     },
     "inputWidgets": {},
     "nuid": "eebef558-af8c-45ab-a7d9-8520162702dc",
     "showTitle": false,
     "title": ""
    }
   },
   "outputs": [],
   "source": [
    "df_selic = pd.read_excel('./data/selic.xlsx')"
   ]
  },
  {
   "cell_type": "code",
   "execution_count": 73,
   "metadata": {
    "application/vnd.databricks.v1+cell": {
     "cellMetadata": {
      "byteLimit": 2048000,
      "rowLimit": 10000
     },
     "inputWidgets": {},
     "nuid": "5ef9d751-8f05-4798-b2dc-6e04e6566838",
     "showTitle": false,
     "title": ""
    }
   },
   "outputs": [
    {
     "data": {
      "text/html": [
       "<div>\n",
       "<style scoped>\n",
       "    .dataframe tbody tr th:only-of-type {\n",
       "        vertical-align: middle;\n",
       "    }\n",
       "\n",
       "    .dataframe tbody tr th {\n",
       "        vertical-align: top;\n",
       "    }\n",
       "\n",
       "    .dataframe thead th {\n",
       "        text-align: right;\n",
       "    }\n",
       "</style>\n",
       "<table border=\"1\" class=\"dataframe\">\n",
       "  <thead>\n",
       "    <tr style=\"text-align: right;\">\n",
       "      <th></th>\n",
       "      <th>Unnamed: 0</th>\n",
       "      <th>data</th>\n",
       "      <th>valor</th>\n",
       "    </tr>\n",
       "  </thead>\n",
       "  <tbody>\n",
       "    <tr>\n",
       "      <th>0</th>\n",
       "      <td>0</td>\n",
       "      <td>01/06/1986</td>\n",
       "      <td>1.27</td>\n",
       "    </tr>\n",
       "    <tr>\n",
       "      <th>1</th>\n",
       "      <td>1</td>\n",
       "      <td>01/07/1986</td>\n",
       "      <td>1.95</td>\n",
       "    </tr>\n",
       "    <tr>\n",
       "      <th>2</th>\n",
       "      <td>2</td>\n",
       "      <td>01/08/1986</td>\n",
       "      <td>2.57</td>\n",
       "    </tr>\n",
       "    <tr>\n",
       "      <th>3</th>\n",
       "      <td>3</td>\n",
       "      <td>01/09/1986</td>\n",
       "      <td>2.94</td>\n",
       "    </tr>\n",
       "    <tr>\n",
       "      <th>4</th>\n",
       "      <td>4</td>\n",
       "      <td>01/10/1986</td>\n",
       "      <td>1.96</td>\n",
       "    </tr>\n",
       "    <tr>\n",
       "      <th>...</th>\n",
       "      <td>...</td>\n",
       "      <td>...</td>\n",
       "      <td>...</td>\n",
       "    </tr>\n",
       "    <tr>\n",
       "      <th>446</th>\n",
       "      <td>446</td>\n",
       "      <td>01/08/2023</td>\n",
       "      <td>1.14</td>\n",
       "    </tr>\n",
       "    <tr>\n",
       "      <th>447</th>\n",
       "      <td>447</td>\n",
       "      <td>01/09/2023</td>\n",
       "      <td>0.97</td>\n",
       "    </tr>\n",
       "    <tr>\n",
       "      <th>448</th>\n",
       "      <td>448</td>\n",
       "      <td>01/10/2023</td>\n",
       "      <td>1.00</td>\n",
       "    </tr>\n",
       "    <tr>\n",
       "      <th>449</th>\n",
       "      <td>449</td>\n",
       "      <td>01/11/2023</td>\n",
       "      <td>0.92</td>\n",
       "    </tr>\n",
       "    <tr>\n",
       "      <th>450</th>\n",
       "      <td>450</td>\n",
       "      <td>01/12/2023</td>\n",
       "      <td>0.36</td>\n",
       "    </tr>\n",
       "  </tbody>\n",
       "</table>\n",
       "<p>451 rows × 3 columns</p>\n",
       "</div>"
      ],
      "text/plain": [
       "     Unnamed: 0        data  valor\n",
       "0             0  01/06/1986   1.27\n",
       "1             1  01/07/1986   1.95\n",
       "2             2  01/08/1986   2.57\n",
       "3             3  01/09/1986   2.94\n",
       "4             4  01/10/1986   1.96\n",
       "..          ...         ...    ...\n",
       "446         446  01/08/2023   1.14\n",
       "447         447  01/09/2023   0.97\n",
       "448         448  01/10/2023   1.00\n",
       "449         449  01/11/2023   0.92\n",
       "450         450  01/12/2023   0.36\n",
       "\n",
       "[451 rows x 3 columns]"
      ]
     },
     "execution_count": 73,
     "metadata": {},
     "output_type": "execute_result"
    }
   ],
   "source": [
    "df_selic"
   ]
  },
  {
   "cell_type": "markdown",
   "metadata": {
    "application/vnd.databricks.v1+cell": {
     "cellMetadata": {},
     "inputWidgets": {},
     "nuid": "a076544a-01d1-4f32-a840-9ec163c103e5",
     "showTitle": false,
     "title": ""
    }
   },
   "source": [
    "**Leitura com seleção de planilha**\n",
    "\n",
    "Podemos também carregar somente uma determinada sheet utilizando o param `sheet_name` na função `read_excel`"
   ]
  },
  {
   "cell_type": "code",
   "execution_count": 74,
   "metadata": {
    "application/vnd.databricks.v1+cell": {
     "cellMetadata": {
      "byteLimit": 2048000,
      "rowLimit": 10000
     },
     "inputWidgets": {},
     "nuid": "81d94b4b-7d16-4b18-925e-c2766c2784c8",
     "showTitle": false,
     "title": ""
    }
   },
   "outputs": [],
   "source": [
    "df_titanic = pd.read_excel('./data/titanic.xlsx',sheet_name='Sheet1')"
   ]
  },
  {
   "cell_type": "code",
   "execution_count": 75,
   "metadata": {
    "application/vnd.databricks.v1+cell": {
     "cellMetadata": {
      "byteLimit": 2048000,
      "rowLimit": 10000
     },
     "inputWidgets": {},
     "nuid": "4e07bec7-8c6e-4879-891d-188c934c9017",
     "showTitle": false,
     "title": ""
    }
   },
   "outputs": [
    {
     "data": {
      "text/html": [
       "<div>\n",
       "<style scoped>\n",
       "    .dataframe tbody tr th:only-of-type {\n",
       "        vertical-align: middle;\n",
       "    }\n",
       "\n",
       "    .dataframe tbody tr th {\n",
       "        vertical-align: top;\n",
       "    }\n",
       "\n",
       "    .dataframe thead th {\n",
       "        text-align: right;\n",
       "    }\n",
       "</style>\n",
       "<table border=\"1\" class=\"dataframe\">\n",
       "  <thead>\n",
       "    <tr style=\"text-align: right;\">\n",
       "      <th></th>\n",
       "      <th>PassengerId</th>\n",
       "      <th>Survived</th>\n",
       "      <th>Pclass</th>\n",
       "      <th>Name</th>\n",
       "      <th>Sex</th>\n",
       "      <th>Age</th>\n",
       "      <th>SibSp</th>\n",
       "      <th>Parch</th>\n",
       "      <th>Ticket</th>\n",
       "      <th>Fare</th>\n",
       "      <th>Cabin</th>\n",
       "      <th>Embarked</th>\n",
       "    </tr>\n",
       "  </thead>\n",
       "  <tbody>\n",
       "    <tr>\n",
       "      <th>0</th>\n",
       "      <td>1</td>\n",
       "      <td>0.0</td>\n",
       "      <td>3</td>\n",
       "      <td>Braund, Mr. Owen Harris</td>\n",
       "      <td>male</td>\n",
       "      <td>22.0</td>\n",
       "      <td>1</td>\n",
       "      <td>0</td>\n",
       "      <td>A/5 21171</td>\n",
       "      <td>7.2500</td>\n",
       "      <td>NaN</td>\n",
       "      <td>S</td>\n",
       "    </tr>\n",
       "    <tr>\n",
       "      <th>1</th>\n",
       "      <td>2</td>\n",
       "      <td>1.0</td>\n",
       "      <td>1</td>\n",
       "      <td>Cumings, Mrs. John Bradley (Florence Briggs Th...</td>\n",
       "      <td>female</td>\n",
       "      <td>38.0</td>\n",
       "      <td>1</td>\n",
       "      <td>0</td>\n",
       "      <td>PC 17599</td>\n",
       "      <td>71.2833</td>\n",
       "      <td>C85</td>\n",
       "      <td>C</td>\n",
       "    </tr>\n",
       "    <tr>\n",
       "      <th>2</th>\n",
       "      <td>3</td>\n",
       "      <td>1.0</td>\n",
       "      <td>3</td>\n",
       "      <td>Heikkinen, Miss. Laina</td>\n",
       "      <td>female</td>\n",
       "      <td>26.0</td>\n",
       "      <td>0</td>\n",
       "      <td>0</td>\n",
       "      <td>STON/O2. 3101282</td>\n",
       "      <td>7.9250</td>\n",
       "      <td>NaN</td>\n",
       "      <td>S</td>\n",
       "    </tr>\n",
       "    <tr>\n",
       "      <th>3</th>\n",
       "      <td>4</td>\n",
       "      <td>1.0</td>\n",
       "      <td>1</td>\n",
       "      <td>Futrelle, Mrs. Jacques Heath (Lily May Peel)</td>\n",
       "      <td>female</td>\n",
       "      <td>35.0</td>\n",
       "      <td>1</td>\n",
       "      <td>0</td>\n",
       "      <td>113803</td>\n",
       "      <td>53.1000</td>\n",
       "      <td>C123</td>\n",
       "      <td>S</td>\n",
       "    </tr>\n",
       "    <tr>\n",
       "      <th>4</th>\n",
       "      <td>5</td>\n",
       "      <td>0.0</td>\n",
       "      <td>3</td>\n",
       "      <td>Allen, Mr. William Henry</td>\n",
       "      <td>male</td>\n",
       "      <td>35.0</td>\n",
       "      <td>0</td>\n",
       "      <td>0</td>\n",
       "      <td>373450</td>\n",
       "      <td>8.0500</td>\n",
       "      <td>NaN</td>\n",
       "      <td>S</td>\n",
       "    </tr>\n",
       "    <tr>\n",
       "      <th>...</th>\n",
       "      <td>...</td>\n",
       "      <td>...</td>\n",
       "      <td>...</td>\n",
       "      <td>...</td>\n",
       "      <td>...</td>\n",
       "      <td>...</td>\n",
       "      <td>...</td>\n",
       "      <td>...</td>\n",
       "      <td>...</td>\n",
       "      <td>...</td>\n",
       "      <td>...</td>\n",
       "      <td>...</td>\n",
       "    </tr>\n",
       "    <tr>\n",
       "      <th>1304</th>\n",
       "      <td>1305</td>\n",
       "      <td>NaN</td>\n",
       "      <td>3</td>\n",
       "      <td>Spector, Mr. Woolf</td>\n",
       "      <td>male</td>\n",
       "      <td>NaN</td>\n",
       "      <td>0</td>\n",
       "      <td>0</td>\n",
       "      <td>A.5. 3236</td>\n",
       "      <td>8.0500</td>\n",
       "      <td>NaN</td>\n",
       "      <td>S</td>\n",
       "    </tr>\n",
       "    <tr>\n",
       "      <th>1305</th>\n",
       "      <td>1306</td>\n",
       "      <td>NaN</td>\n",
       "      <td>1</td>\n",
       "      <td>Oliva y Ocana, Dona. Fermina</td>\n",
       "      <td>female</td>\n",
       "      <td>39.0</td>\n",
       "      <td>0</td>\n",
       "      <td>0</td>\n",
       "      <td>PC 17758</td>\n",
       "      <td>108.9000</td>\n",
       "      <td>C105</td>\n",
       "      <td>C</td>\n",
       "    </tr>\n",
       "    <tr>\n",
       "      <th>1306</th>\n",
       "      <td>1307</td>\n",
       "      <td>NaN</td>\n",
       "      <td>3</td>\n",
       "      <td>Saether, Mr. Simon Sivertsen</td>\n",
       "      <td>male</td>\n",
       "      <td>38.5</td>\n",
       "      <td>0</td>\n",
       "      <td>0</td>\n",
       "      <td>SOTON/O.Q. 3101262</td>\n",
       "      <td>7.2500</td>\n",
       "      <td>NaN</td>\n",
       "      <td>S</td>\n",
       "    </tr>\n",
       "    <tr>\n",
       "      <th>1307</th>\n",
       "      <td>1308</td>\n",
       "      <td>NaN</td>\n",
       "      <td>3</td>\n",
       "      <td>Ware, Mr. Frederick</td>\n",
       "      <td>male</td>\n",
       "      <td>NaN</td>\n",
       "      <td>0</td>\n",
       "      <td>0</td>\n",
       "      <td>359309</td>\n",
       "      <td>8.0500</td>\n",
       "      <td>NaN</td>\n",
       "      <td>S</td>\n",
       "    </tr>\n",
       "    <tr>\n",
       "      <th>1308</th>\n",
       "      <td>1309</td>\n",
       "      <td>NaN</td>\n",
       "      <td>3</td>\n",
       "      <td>Peter, Master. Michael J</td>\n",
       "      <td>male</td>\n",
       "      <td>NaN</td>\n",
       "      <td>1</td>\n",
       "      <td>1</td>\n",
       "      <td>2668</td>\n",
       "      <td>22.3583</td>\n",
       "      <td>NaN</td>\n",
       "      <td>C</td>\n",
       "    </tr>\n",
       "  </tbody>\n",
       "</table>\n",
       "<p>1309 rows × 12 columns</p>\n",
       "</div>"
      ],
      "text/plain": [
       "      PassengerId  Survived  Pclass  \\\n",
       "0               1       0.0       3   \n",
       "1               2       1.0       1   \n",
       "2               3       1.0       3   \n",
       "3               4       1.0       1   \n",
       "4               5       0.0       3   \n",
       "...           ...       ...     ...   \n",
       "1304         1305       NaN       3   \n",
       "1305         1306       NaN       1   \n",
       "1306         1307       NaN       3   \n",
       "1307         1308       NaN       3   \n",
       "1308         1309       NaN       3   \n",
       "\n",
       "                                                   Name     Sex   Age  SibSp  \\\n",
       "0                               Braund, Mr. Owen Harris    male  22.0      1   \n",
       "1     Cumings, Mrs. John Bradley (Florence Briggs Th...  female  38.0      1   \n",
       "2                                Heikkinen, Miss. Laina  female  26.0      0   \n",
       "3          Futrelle, Mrs. Jacques Heath (Lily May Peel)  female  35.0      1   \n",
       "4                              Allen, Mr. William Henry    male  35.0      0   \n",
       "...                                                 ...     ...   ...    ...   \n",
       "1304                                 Spector, Mr. Woolf    male   NaN      0   \n",
       "1305                       Oliva y Ocana, Dona. Fermina  female  39.0      0   \n",
       "1306                       Saether, Mr. Simon Sivertsen    male  38.5      0   \n",
       "1307                                Ware, Mr. Frederick    male   NaN      0   \n",
       "1308                           Peter, Master. Michael J    male   NaN      1   \n",
       "\n",
       "      Parch              Ticket      Fare Cabin Embarked  \n",
       "0         0           A/5 21171    7.2500   NaN        S  \n",
       "1         0            PC 17599   71.2833   C85        C  \n",
       "2         0    STON/O2. 3101282    7.9250   NaN        S  \n",
       "3         0              113803   53.1000  C123        S  \n",
       "4         0              373450    8.0500   NaN        S  \n",
       "...     ...                 ...       ...   ...      ...  \n",
       "1304      0           A.5. 3236    8.0500   NaN        S  \n",
       "1305      0            PC 17758  108.9000  C105        C  \n",
       "1306      0  SOTON/O.Q. 3101262    7.2500   NaN        S  \n",
       "1307      0              359309    8.0500   NaN        S  \n",
       "1308      1                2668   22.3583   NaN        C  \n",
       "\n",
       "[1309 rows x 12 columns]"
      ]
     },
     "execution_count": 75,
     "metadata": {},
     "output_type": "execute_result"
    }
   ],
   "source": [
    "df_titanic"
   ]
  },
  {
   "cell_type": "markdown",
   "metadata": {
    "application/vnd.databricks.v1+cell": {
     "cellMetadata": {},
     "inputWidgets": {},
     "nuid": "1fc7c20d-345c-4f31-90b0-9b05e98b494f",
     "showTitle": false,
     "title": ""
    }
   },
   "source": [
    "___\n",
    "# Hands-on"
   ]
  },
  {
   "cell_type": "markdown",
   "metadata": {},
   "source": [
    "Neste Hands-on vamos realizar alguns passos do EDA no step 0 `Reconhecimento dos dados` e alguns insights também.\n",
    "\n",
    "1. Carregar os dados de pedidos de empréstimos pessoais `Projectdata_Bank_Personal_Loan_Modelling.csv`"
   ]
  },
  {
   "cell_type": "code",
   "execution_count": 76,
   "metadata": {},
   "outputs": [],
   "source": [
    "import pandas as pd\n",
    "df_loan = pd.read_csv('./data/Projectdata_Bank_Personal_Loan_Modelling.csv')"
   ]
  },
  {
   "cell_type": "markdown",
   "metadata": {},
   "source": [
    "2. Ver os primeiros 7 dados do topo e do fim do dataset."
   ]
  },
  {
   "cell_type": "code",
   "execution_count": 77,
   "metadata": {},
   "outputs": [
    {
     "data": {
      "text/html": [
       "<div>\n",
       "<style scoped>\n",
       "    .dataframe tbody tr th:only-of-type {\n",
       "        vertical-align: middle;\n",
       "    }\n",
       "\n",
       "    .dataframe tbody tr th {\n",
       "        vertical-align: top;\n",
       "    }\n",
       "\n",
       "    .dataframe thead th {\n",
       "        text-align: right;\n",
       "    }\n",
       "</style>\n",
       "<table border=\"1\" class=\"dataframe\">\n",
       "  <thead>\n",
       "    <tr style=\"text-align: right;\">\n",
       "      <th></th>\n",
       "      <th>ID</th>\n",
       "      <th>Age</th>\n",
       "      <th>Experience</th>\n",
       "      <th>Income</th>\n",
       "      <th>ZIP Code</th>\n",
       "      <th>Family</th>\n",
       "      <th>CCAvg</th>\n",
       "      <th>Education</th>\n",
       "      <th>Mortgage</th>\n",
       "      <th>Personal Loan</th>\n",
       "      <th>Securities Account</th>\n",
       "      <th>CD Account</th>\n",
       "      <th>Online</th>\n",
       "      <th>CreditCard</th>\n",
       "    </tr>\n",
       "  </thead>\n",
       "  <tbody>\n",
       "    <tr>\n",
       "      <th>0</th>\n",
       "      <td>1</td>\n",
       "      <td>25</td>\n",
       "      <td>1</td>\n",
       "      <td>49</td>\n",
       "      <td>91107</td>\n",
       "      <td>4</td>\n",
       "      <td>1.6</td>\n",
       "      <td>1.0</td>\n",
       "      <td>0</td>\n",
       "      <td>0</td>\n",
       "      <td>1</td>\n",
       "      <td>0</td>\n",
       "      <td>0.0</td>\n",
       "      <td>0</td>\n",
       "    </tr>\n",
       "    <tr>\n",
       "      <th>1</th>\n",
       "      <td>2</td>\n",
       "      <td>45</td>\n",
       "      <td>19</td>\n",
       "      <td>34</td>\n",
       "      <td>90089</td>\n",
       "      <td>3</td>\n",
       "      <td>1.5</td>\n",
       "      <td>1.0</td>\n",
       "      <td>0</td>\n",
       "      <td>0</td>\n",
       "      <td>1</td>\n",
       "      <td>0</td>\n",
       "      <td>0.0</td>\n",
       "      <td>0</td>\n",
       "    </tr>\n",
       "    <tr>\n",
       "      <th>2</th>\n",
       "      <td>3</td>\n",
       "      <td>39</td>\n",
       "      <td>15</td>\n",
       "      <td>11</td>\n",
       "      <td>94720</td>\n",
       "      <td>1</td>\n",
       "      <td>1.0</td>\n",
       "      <td>1.0</td>\n",
       "      <td>0</td>\n",
       "      <td>0</td>\n",
       "      <td>0</td>\n",
       "      <td>0</td>\n",
       "      <td>0.0</td>\n",
       "      <td>0</td>\n",
       "    </tr>\n",
       "    <tr>\n",
       "      <th>3</th>\n",
       "      <td>4</td>\n",
       "      <td>35</td>\n",
       "      <td>9</td>\n",
       "      <td>100</td>\n",
       "      <td>94112</td>\n",
       "      <td>1</td>\n",
       "      <td>2.7</td>\n",
       "      <td>2.0</td>\n",
       "      <td>0</td>\n",
       "      <td>0</td>\n",
       "      <td>0</td>\n",
       "      <td>0</td>\n",
       "      <td>0.0</td>\n",
       "      <td>0</td>\n",
       "    </tr>\n",
       "    <tr>\n",
       "      <th>4</th>\n",
       "      <td>5</td>\n",
       "      <td>35</td>\n",
       "      <td>8</td>\n",
       "      <td>45</td>\n",
       "      <td>91330</td>\n",
       "      <td>4</td>\n",
       "      <td>1.0</td>\n",
       "      <td>2.0</td>\n",
       "      <td>0</td>\n",
       "      <td>0</td>\n",
       "      <td>0</td>\n",
       "      <td>0</td>\n",
       "      <td>0.0</td>\n",
       "      <td>1</td>\n",
       "    </tr>\n",
       "    <tr>\n",
       "      <th>5</th>\n",
       "      <td>6</td>\n",
       "      <td>37</td>\n",
       "      <td>13</td>\n",
       "      <td>29</td>\n",
       "      <td>92121</td>\n",
       "      <td>4</td>\n",
       "      <td>0.4</td>\n",
       "      <td>2.0</td>\n",
       "      <td>155</td>\n",
       "      <td>0</td>\n",
       "      <td>0</td>\n",
       "      <td>0</td>\n",
       "      <td>1.0</td>\n",
       "      <td>0</td>\n",
       "    </tr>\n",
       "    <tr>\n",
       "      <th>6</th>\n",
       "      <td>7</td>\n",
       "      <td>53</td>\n",
       "      <td>27</td>\n",
       "      <td>72</td>\n",
       "      <td>91711</td>\n",
       "      <td>2</td>\n",
       "      <td>1.5</td>\n",
       "      <td>2.0</td>\n",
       "      <td>0</td>\n",
       "      <td>0</td>\n",
       "      <td>0</td>\n",
       "      <td>0</td>\n",
       "      <td>1.0</td>\n",
       "      <td>0</td>\n",
       "    </tr>\n",
       "  </tbody>\n",
       "</table>\n",
       "</div>"
      ],
      "text/plain": [
       "   ID  Age  Experience  Income  ZIP Code  Family  CCAvg  Education  Mortgage  \\\n",
       "0   1   25           1      49     91107       4    1.6        1.0         0   \n",
       "1   2   45          19      34     90089       3    1.5        1.0         0   \n",
       "2   3   39          15      11     94720       1    1.0        1.0         0   \n",
       "3   4   35           9     100     94112       1    2.7        2.0         0   \n",
       "4   5   35           8      45     91330       4    1.0        2.0         0   \n",
       "5   6   37          13      29     92121       4    0.4        2.0       155   \n",
       "6   7   53          27      72     91711       2    1.5        2.0         0   \n",
       "\n",
       "   Personal Loan  Securities Account  CD Account  Online  CreditCard  \n",
       "0              0                   1           0     0.0           0  \n",
       "1              0                   1           0     0.0           0  \n",
       "2              0                   0           0     0.0           0  \n",
       "3              0                   0           0     0.0           0  \n",
       "4              0                   0           0     0.0           1  \n",
       "5              0                   0           0     1.0           0  \n",
       "6              0                   0           0     1.0           0  "
      ]
     },
     "execution_count": 77,
     "metadata": {},
     "output_type": "execute_result"
    }
   ],
   "source": [
    "df_loan.head(7)"
   ]
  },
  {
   "cell_type": "markdown",
   "metadata": {},
   "source": [
    "3. Exibir todas as possíveis informações basicas do dataset (tamanho, tipos de dados, ...)"
   ]
  },
  {
   "cell_type": "code",
   "execution_count": 78,
   "metadata": {},
   "outputs": [
    {
     "name": "stdout",
     "output_type": "stream",
     "text": [
      "<class 'pandas.core.frame.DataFrame'>\n",
      "RangeIndex: 5178 entries, 0 to 5177\n",
      "Data columns (total 14 columns):\n",
      " #   Column              Non-Null Count  Dtype  \n",
      "---  ------              --------------  -----  \n",
      " 0   ID                  5178 non-null   int64  \n",
      " 1   Age                 5178 non-null   int64  \n",
      " 2   Experience          5178 non-null   int64  \n",
      " 3   Income              5178 non-null   int64  \n",
      " 4   ZIP Code            5178 non-null   int64  \n",
      " 5   Family              5178 non-null   int64  \n",
      " 6   CCAvg               5178 non-null   float64\n",
      " 7   Education           5138 non-null   float64\n",
      " 8   Mortgage            5178 non-null   int64  \n",
      " 9   Personal Loan       5178 non-null   int64  \n",
      " 10  Securities Account  5178 non-null   int64  \n",
      " 11  CD Account          5178 non-null   int64  \n",
      " 12  Online              5129 non-null   float64\n",
      " 13  CreditCard          5178 non-null   int64  \n",
      "dtypes: float64(3), int64(11)\n",
      "memory usage: 566.5 KB\n"
     ]
    },
    {
     "data": {
      "text/html": [
       "<div>\n",
       "<style scoped>\n",
       "    .dataframe tbody tr th:only-of-type {\n",
       "        vertical-align: middle;\n",
       "    }\n",
       "\n",
       "    .dataframe tbody tr th {\n",
       "        vertical-align: top;\n",
       "    }\n",
       "\n",
       "    .dataframe thead th {\n",
       "        text-align: right;\n",
       "    }\n",
       "</style>\n",
       "<table border=\"1\" class=\"dataframe\">\n",
       "  <thead>\n",
       "    <tr style=\"text-align: right;\">\n",
       "      <th></th>\n",
       "      <th>ID</th>\n",
       "      <th>Age</th>\n",
       "      <th>Experience</th>\n",
       "      <th>Income</th>\n",
       "      <th>ZIP Code</th>\n",
       "      <th>Family</th>\n",
       "      <th>CCAvg</th>\n",
       "      <th>Education</th>\n",
       "      <th>Mortgage</th>\n",
       "      <th>Personal Loan</th>\n",
       "      <th>Securities Account</th>\n",
       "      <th>CD Account</th>\n",
       "      <th>Online</th>\n",
       "      <th>CreditCard</th>\n",
       "    </tr>\n",
       "  </thead>\n",
       "  <tbody>\n",
       "    <tr>\n",
       "      <th>count</th>\n",
       "      <td>5178.000000</td>\n",
       "      <td>5178.000000</td>\n",
       "      <td>5178.000000</td>\n",
       "      <td>5178.000000</td>\n",
       "      <td>5178.000000</td>\n",
       "      <td>5178.000000</td>\n",
       "      <td>5178.000000</td>\n",
       "      <td>5138.000000</td>\n",
       "      <td>5178.00000</td>\n",
       "      <td>5178.000000</td>\n",
       "      <td>5178.000000</td>\n",
       "      <td>5178.000000</td>\n",
       "      <td>5129.000000</td>\n",
       "      <td>5178.000000</td>\n",
       "    </tr>\n",
       "    <tr>\n",
       "      <th>mean</th>\n",
       "      <td>2501.993820</td>\n",
       "      <td>45.296253</td>\n",
       "      <td>20.062186</td>\n",
       "      <td>73.653341</td>\n",
       "      <td>93148.713017</td>\n",
       "      <td>2.394361</td>\n",
       "      <td>1.932837</td>\n",
       "      <td>1.881082</td>\n",
       "      <td>56.74102</td>\n",
       "      <td>0.096176</td>\n",
       "      <td>0.104867</td>\n",
       "      <td>0.059482</td>\n",
       "      <td>0.594463</td>\n",
       "      <td>0.294129</td>\n",
       "    </tr>\n",
       "    <tr>\n",
       "      <th>std</th>\n",
       "      <td>1444.527705</td>\n",
       "      <td>11.448312</td>\n",
       "      <td>11.456867</td>\n",
       "      <td>46.011838</td>\n",
       "      <td>2111.707635</td>\n",
       "      <td>1.145804</td>\n",
       "      <td>1.749178</td>\n",
       "      <td>0.839499</td>\n",
       "      <td>101.90350</td>\n",
       "      <td>0.294861</td>\n",
       "      <td>0.306411</td>\n",
       "      <td>0.236548</td>\n",
       "      <td>0.491044</td>\n",
       "      <td>0.455694</td>\n",
       "    </tr>\n",
       "    <tr>\n",
       "      <th>min</th>\n",
       "      <td>1.000000</td>\n",
       "      <td>23.000000</td>\n",
       "      <td>-3.000000</td>\n",
       "      <td>8.000000</td>\n",
       "      <td>9307.000000</td>\n",
       "      <td>1.000000</td>\n",
       "      <td>0.000000</td>\n",
       "      <td>1.000000</td>\n",
       "      <td>0.00000</td>\n",
       "      <td>0.000000</td>\n",
       "      <td>0.000000</td>\n",
       "      <td>0.000000</td>\n",
       "      <td>0.000000</td>\n",
       "      <td>0.000000</td>\n",
       "    </tr>\n",
       "    <tr>\n",
       "      <th>25%</th>\n",
       "      <td>1250.250000</td>\n",
       "      <td>35.000000</td>\n",
       "      <td>10.000000</td>\n",
       "      <td>39.000000</td>\n",
       "      <td>91910.000000</td>\n",
       "      <td>1.000000</td>\n",
       "      <td>0.700000</td>\n",
       "      <td>1.000000</td>\n",
       "      <td>0.00000</td>\n",
       "      <td>0.000000</td>\n",
       "      <td>0.000000</td>\n",
       "      <td>0.000000</td>\n",
       "      <td>0.000000</td>\n",
       "      <td>0.000000</td>\n",
       "    </tr>\n",
       "    <tr>\n",
       "      <th>50%</th>\n",
       "      <td>2506.500000</td>\n",
       "      <td>45.000000</td>\n",
       "      <td>20.000000</td>\n",
       "      <td>64.000000</td>\n",
       "      <td>93407.000000</td>\n",
       "      <td>2.000000</td>\n",
       "      <td>1.500000</td>\n",
       "      <td>2.000000</td>\n",
       "      <td>0.00000</td>\n",
       "      <td>0.000000</td>\n",
       "      <td>0.000000</td>\n",
       "      <td>0.000000</td>\n",
       "      <td>1.000000</td>\n",
       "      <td>0.000000</td>\n",
       "    </tr>\n",
       "    <tr>\n",
       "      <th>75%</th>\n",
       "      <td>3754.750000</td>\n",
       "      <td>55.000000</td>\n",
       "      <td>30.000000</td>\n",
       "      <td>98.000000</td>\n",
       "      <td>94608.000000</td>\n",
       "      <td>3.000000</td>\n",
       "      <td>2.500000</td>\n",
       "      <td>3.000000</td>\n",
       "      <td>101.00000</td>\n",
       "      <td>0.000000</td>\n",
       "      <td>0.000000</td>\n",
       "      <td>0.000000</td>\n",
       "      <td>1.000000</td>\n",
       "      <td>1.000000</td>\n",
       "    </tr>\n",
       "    <tr>\n",
       "      <th>max</th>\n",
       "      <td>5000.000000</td>\n",
       "      <td>67.000000</td>\n",
       "      <td>43.000000</td>\n",
       "      <td>224.000000</td>\n",
       "      <td>96651.000000</td>\n",
       "      <td>4.000000</td>\n",
       "      <td>10.000000</td>\n",
       "      <td>3.000000</td>\n",
       "      <td>635.00000</td>\n",
       "      <td>1.000000</td>\n",
       "      <td>1.000000</td>\n",
       "      <td>1.000000</td>\n",
       "      <td>1.000000</td>\n",
       "      <td>1.000000</td>\n",
       "    </tr>\n",
       "  </tbody>\n",
       "</table>\n",
       "</div>"
      ],
      "text/plain": [
       "                ID          Age   Experience       Income      ZIP Code  \\\n",
       "count  5178.000000  5178.000000  5178.000000  5178.000000   5178.000000   \n",
       "mean   2501.993820    45.296253    20.062186    73.653341  93148.713017   \n",
       "std    1444.527705    11.448312    11.456867    46.011838   2111.707635   \n",
       "min       1.000000    23.000000    -3.000000     8.000000   9307.000000   \n",
       "25%    1250.250000    35.000000    10.000000    39.000000  91910.000000   \n",
       "50%    2506.500000    45.000000    20.000000    64.000000  93407.000000   \n",
       "75%    3754.750000    55.000000    30.000000    98.000000  94608.000000   \n",
       "max    5000.000000    67.000000    43.000000   224.000000  96651.000000   \n",
       "\n",
       "            Family        CCAvg    Education    Mortgage  Personal Loan  \\\n",
       "count  5178.000000  5178.000000  5138.000000  5178.00000    5178.000000   \n",
       "mean      2.394361     1.932837     1.881082    56.74102       0.096176   \n",
       "std       1.145804     1.749178     0.839499   101.90350       0.294861   \n",
       "min       1.000000     0.000000     1.000000     0.00000       0.000000   \n",
       "25%       1.000000     0.700000     1.000000     0.00000       0.000000   \n",
       "50%       2.000000     1.500000     2.000000     0.00000       0.000000   \n",
       "75%       3.000000     2.500000     3.000000   101.00000       0.000000   \n",
       "max       4.000000    10.000000     3.000000   635.00000       1.000000   \n",
       "\n",
       "       Securities Account   CD Account       Online   CreditCard  \n",
       "count         5178.000000  5178.000000  5129.000000  5178.000000  \n",
       "mean             0.104867     0.059482     0.594463     0.294129  \n",
       "std              0.306411     0.236548     0.491044     0.455694  \n",
       "min              0.000000     0.000000     0.000000     0.000000  \n",
       "25%              0.000000     0.000000     0.000000     0.000000  \n",
       "50%              0.000000     0.000000     1.000000     0.000000  \n",
       "75%              0.000000     0.000000     1.000000     1.000000  \n",
       "max              1.000000     1.000000     1.000000     1.000000  "
      ]
     },
     "execution_count": 78,
     "metadata": {},
     "output_type": "execute_result"
    }
   ],
   "source": [
    "# info\n",
    "df_loan.info()\n",
    "# describe\n",
    "df_loan.describe()"
   ]
  },
  {
   "cell_type": "markdown",
   "metadata": {},
   "source": [
    "4. Filtre o dataframe entre clientes que possuem e não possuem CDB na column `CD Account` com as categorias `1` e `0`, respectivamente.<br>\n",
    "Salve os filtros (máscaras booleanas) em variáveis diferentes."
   ]
  },
  {
   "cell_type": "code",
   "execution_count": 79,
   "metadata": {},
   "outputs": [],
   "source": [
    "mask_noCDB = df_loan['CD Account']==0\n",
    "mask_hasCDB = df_loan['CD Account']==1"
   ]
  },
  {
   "cell_type": "markdown",
   "metadata": {},
   "source": [
    "5. Filtre novamente o DataFrame, porém agora entre clientes que são solteiros e que possuem mais de um mebro na família (analise o dataset para descobrir como fazê-lo).<br>\n",
    "Salve os filtros (máscaras booleanas) em variáveis diferentes."
   ]
  },
  {
   "cell_type": "code",
   "execution_count": 80,
   "metadata": {},
   "outputs": [],
   "source": [
    "mask_single = df_loan['Family']==1\n",
    "mask_family_more_than_1 = df_loan['Family']>1"
   ]
  },
  {
   "cell_type": "markdown",
   "metadata": {},
   "source": [
    "6. Realize o mesmo que no exer anterior, porém somente com a Educação dos clientes.\n",
    "Salve o filtro (máscaras booleanas) em uma variável."
   ]
  },
  {
   "cell_type": "code",
   "execution_count": 81,
   "metadata": {},
   "outputs": [],
   "source": [
    "mask_graduation = df_loan['Education']=1\n",
    "mask_postgraduation = df_loan['Education']=2\n",
    "mask_professional = df_loan['Education']=3"
   ]
  },
  {
   "cell_type": "markdown",
   "metadata": {},
   "source": [
    "7. Utilizando os filtros salvos em variaveis nos exer 4,5 e 6, filtre o dataset para mostrar somente os clientes profissionais que não possuem CDB e que são solteiros. Não é preciso salvar o filtro aplicado."
   ]
  },
  {
   "cell_type": "code",
   "execution_count": 82,
   "metadata": {},
   "outputs": [],
   "source": [
    "df_filtrado = df_loan[mask_professional & mask_noCDB & mask_single]"
   ]
  },
  {
   "cell_type": "markdown",
   "metadata": {},
   "source": [
    "8. Sobre o dataset filtrado, quantos clientes utilizam serviços digitais (online)?"
   ]
  },
  {
   "cell_type": "code",
   "execution_count": 83,
   "metadata": {},
   "outputs": [
    {
     "data": {
      "text/html": [
       "<div>\n",
       "<style scoped>\n",
       "    .dataframe tbody tr th:only-of-type {\n",
       "        vertical-align: middle;\n",
       "    }\n",
       "\n",
       "    .dataframe tbody tr th {\n",
       "        vertical-align: top;\n",
       "    }\n",
       "\n",
       "    .dataframe thead th {\n",
       "        text-align: right;\n",
       "    }\n",
       "</style>\n",
       "<table border=\"1\" class=\"dataframe\">\n",
       "  <thead>\n",
       "    <tr style=\"text-align: right;\">\n",
       "      <th></th>\n",
       "      <th>ID</th>\n",
       "      <th>Age</th>\n",
       "      <th>Experience</th>\n",
       "      <th>Income</th>\n",
       "      <th>ZIP Code</th>\n",
       "      <th>Family</th>\n",
       "      <th>CCAvg</th>\n",
       "      <th>Education</th>\n",
       "      <th>Mortgage</th>\n",
       "      <th>Personal Loan</th>\n",
       "      <th>Securities Account</th>\n",
       "      <th>CD Account</th>\n",
       "      <th>Online</th>\n",
       "      <th>CreditCard</th>\n",
       "    </tr>\n",
       "  </thead>\n",
       "  <tbody>\n",
       "    <tr>\n",
       "      <th>15</th>\n",
       "      <td>16</td>\n",
       "      <td>60</td>\n",
       "      <td>30</td>\n",
       "      <td>22</td>\n",
       "      <td>95054</td>\n",
       "      <td>1</td>\n",
       "      <td>1.50</td>\n",
       "      <td>3</td>\n",
       "      <td>0</td>\n",
       "      <td>0</td>\n",
       "      <td>0</td>\n",
       "      <td>0</td>\n",
       "      <td>1.0</td>\n",
       "      <td>1</td>\n",
       "    </tr>\n",
       "    <tr>\n",
       "      <th>22</th>\n",
       "      <td>23</td>\n",
       "      <td>29</td>\n",
       "      <td>5</td>\n",
       "      <td>62</td>\n",
       "      <td>90277</td>\n",
       "      <td>1</td>\n",
       "      <td>1.20</td>\n",
       "      <td>3</td>\n",
       "      <td>260</td>\n",
       "      <td>0</td>\n",
       "      <td>0</td>\n",
       "      <td>0</td>\n",
       "      <td>1.0</td>\n",
       "      <td>0</td>\n",
       "    </tr>\n",
       "    <tr>\n",
       "      <th>27</th>\n",
       "      <td>28</td>\n",
       "      <td>46</td>\n",
       "      <td>20</td>\n",
       "      <td>158</td>\n",
       "      <td>90064</td>\n",
       "      <td>1</td>\n",
       "      <td>2.40</td>\n",
       "      <td>3</td>\n",
       "      <td>0</td>\n",
       "      <td>0</td>\n",
       "      <td>0</td>\n",
       "      <td>0</td>\n",
       "      <td>1.0</td>\n",
       "      <td>1</td>\n",
       "    </tr>\n",
       "    <tr>\n",
       "      <th>28</th>\n",
       "      <td>29</td>\n",
       "      <td>56</td>\n",
       "      <td>30</td>\n",
       "      <td>48</td>\n",
       "      <td>94539</td>\n",
       "      <td>1</td>\n",
       "      <td>2.20</td>\n",
       "      <td>3</td>\n",
       "      <td>0</td>\n",
       "      <td>0</td>\n",
       "      <td>0</td>\n",
       "      <td>0</td>\n",
       "      <td>1.0</td>\n",
       "      <td>1</td>\n",
       "    </tr>\n",
       "    <tr>\n",
       "      <th>30</th>\n",
       "      <td>31</td>\n",
       "      <td>59</td>\n",
       "      <td>35</td>\n",
       "      <td>35</td>\n",
       "      <td>93106</td>\n",
       "      <td>1</td>\n",
       "      <td>1.20</td>\n",
       "      <td>3</td>\n",
       "      <td>122</td>\n",
       "      <td>0</td>\n",
       "      <td>0</td>\n",
       "      <td>0</td>\n",
       "      <td>1.0</td>\n",
       "      <td>0</td>\n",
       "    </tr>\n",
       "    <tr>\n",
       "      <th>...</th>\n",
       "      <td>...</td>\n",
       "      <td>...</td>\n",
       "      <td>...</td>\n",
       "      <td>...</td>\n",
       "      <td>...</td>\n",
       "      <td>...</td>\n",
       "      <td>...</td>\n",
       "      <td>...</td>\n",
       "      <td>...</td>\n",
       "      <td>...</td>\n",
       "      <td>...</td>\n",
       "      <td>...</td>\n",
       "      <td>...</td>\n",
       "      <td>...</td>\n",
       "    </tr>\n",
       "    <tr>\n",
       "      <th>5135</th>\n",
       "      <td>4590</td>\n",
       "      <td>31</td>\n",
       "      <td>7</td>\n",
       "      <td>13</td>\n",
       "      <td>93727</td>\n",
       "      <td>1</td>\n",
       "      <td>0.50</td>\n",
       "      <td>3</td>\n",
       "      <td>0</td>\n",
       "      <td>0</td>\n",
       "      <td>0</td>\n",
       "      <td>0</td>\n",
       "      <td>1.0</td>\n",
       "      <td>0</td>\n",
       "    </tr>\n",
       "    <tr>\n",
       "      <th>5142</th>\n",
       "      <td>4727</td>\n",
       "      <td>34</td>\n",
       "      <td>10</td>\n",
       "      <td>38</td>\n",
       "      <td>95039</td>\n",
       "      <td>1</td>\n",
       "      <td>1.33</td>\n",
       "      <td>3</td>\n",
       "      <td>0</td>\n",
       "      <td>0</td>\n",
       "      <td>1</td>\n",
       "      <td>0</td>\n",
       "      <td>1.0</td>\n",
       "      <td>0</td>\n",
       "    </tr>\n",
       "    <tr>\n",
       "      <th>5145</th>\n",
       "      <td>2860</td>\n",
       "      <td>35</td>\n",
       "      <td>11</td>\n",
       "      <td>188</td>\n",
       "      <td>94596</td>\n",
       "      <td>1</td>\n",
       "      <td>0.90</td>\n",
       "      <td>3</td>\n",
       "      <td>282</td>\n",
       "      <td>1</td>\n",
       "      <td>0</td>\n",
       "      <td>0</td>\n",
       "      <td>1.0</td>\n",
       "      <td>0</td>\n",
       "    </tr>\n",
       "    <tr>\n",
       "      <th>5152</th>\n",
       "      <td>979</td>\n",
       "      <td>52</td>\n",
       "      <td>26</td>\n",
       "      <td>68</td>\n",
       "      <td>92068</td>\n",
       "      <td>1</td>\n",
       "      <td>0.80</td>\n",
       "      <td>3</td>\n",
       "      <td>0</td>\n",
       "      <td>0</td>\n",
       "      <td>0</td>\n",
       "      <td>0</td>\n",
       "      <td>1.0</td>\n",
       "      <td>1</td>\n",
       "    </tr>\n",
       "    <tr>\n",
       "      <th>5157</th>\n",
       "      <td>3035</td>\n",
       "      <td>46</td>\n",
       "      <td>21</td>\n",
       "      <td>38</td>\n",
       "      <td>90024</td>\n",
       "      <td>1</td>\n",
       "      <td>2.40</td>\n",
       "      <td>3</td>\n",
       "      <td>130</td>\n",
       "      <td>0</td>\n",
       "      <td>0</td>\n",
       "      <td>0</td>\n",
       "      <td>1.0</td>\n",
       "      <td>0</td>\n",
       "    </tr>\n",
       "  </tbody>\n",
       "</table>\n",
       "<p>825 rows × 14 columns</p>\n",
       "</div>"
      ],
      "text/plain": [
       "        ID  Age  Experience  Income  ZIP Code  Family  CCAvg  Education  \\\n",
       "15      16   60          30      22     95054       1   1.50          3   \n",
       "22      23   29           5      62     90277       1   1.20          3   \n",
       "27      28   46          20     158     90064       1   2.40          3   \n",
       "28      29   56          30      48     94539       1   2.20          3   \n",
       "30      31   59          35      35     93106       1   1.20          3   \n",
       "...    ...  ...         ...     ...       ...     ...    ...        ...   \n",
       "5135  4590   31           7      13     93727       1   0.50          3   \n",
       "5142  4727   34          10      38     95039       1   1.33          3   \n",
       "5145  2860   35          11     188     94596       1   0.90          3   \n",
       "5152   979   52          26      68     92068       1   0.80          3   \n",
       "5157  3035   46          21      38     90024       1   2.40          3   \n",
       "\n",
       "      Mortgage  Personal Loan  Securities Account  CD Account  Online  \\\n",
       "15           0              0                   0           0     1.0   \n",
       "22         260              0                   0           0     1.0   \n",
       "27           0              0                   0           0     1.0   \n",
       "28           0              0                   0           0     1.0   \n",
       "30         122              0                   0           0     1.0   \n",
       "...        ...            ...                 ...         ...     ...   \n",
       "5135         0              0                   0           0     1.0   \n",
       "5142         0              0                   1           0     1.0   \n",
       "5145       282              1                   0           0     1.0   \n",
       "5152         0              0                   0           0     1.0   \n",
       "5157       130              0                   0           0     1.0   \n",
       "\n",
       "      CreditCard  \n",
       "15             1  \n",
       "22             0  \n",
       "27             1  \n",
       "28             1  \n",
       "30             0  \n",
       "...          ...  \n",
       "5135           0  \n",
       "5142           0  \n",
       "5145           0  \n",
       "5152           1  \n",
       "5157           0  \n",
       "\n",
       "[825 rows x 14 columns]"
      ]
     },
     "execution_count": 83,
     "metadata": {},
     "output_type": "execute_result"
    }
   ],
   "source": [
    "df_filtrado[df_filtrado['Online']==1]"
   ]
  },
  {
   "cell_type": "markdown",
   "metadata": {},
   "source": [
    "9. Filtre sobre o resultado anterior somente os clientes que aceitaram o empréstimo oferecido. Quantos clientes foram filtrados em relação ao total? O que se pode notar com o resultado obtido sobre os tipos de cliente?"
   ]
  },
  {
   "cell_type": "code",
   "execution_count": 84,
   "metadata": {},
   "outputs": [
    {
     "data": {
      "text/html": [
       "<div>\n",
       "<style scoped>\n",
       "    .dataframe tbody tr th:only-of-type {\n",
       "        vertical-align: middle;\n",
       "    }\n",
       "\n",
       "    .dataframe tbody tr th {\n",
       "        vertical-align: top;\n",
       "    }\n",
       "\n",
       "    .dataframe thead th {\n",
       "        text-align: right;\n",
       "    }\n",
       "</style>\n",
       "<table border=\"1\" class=\"dataframe\">\n",
       "  <thead>\n",
       "    <tr style=\"text-align: right;\">\n",
       "      <th></th>\n",
       "      <th>ID</th>\n",
       "      <th>Age</th>\n",
       "      <th>Experience</th>\n",
       "      <th>Income</th>\n",
       "      <th>ZIP Code</th>\n",
       "      <th>Family</th>\n",
       "      <th>CCAvg</th>\n",
       "      <th>Education</th>\n",
       "      <th>Mortgage</th>\n",
       "      <th>Personal Loan</th>\n",
       "      <th>Securities Account</th>\n",
       "      <th>CD Account</th>\n",
       "      <th>Online</th>\n",
       "      <th>CreditCard</th>\n",
       "    </tr>\n",
       "  </thead>\n",
       "  <tbody>\n",
       "    <tr>\n",
       "      <th>316</th>\n",
       "      <td>317</td>\n",
       "      <td>57</td>\n",
       "      <td>31</td>\n",
       "      <td>165</td>\n",
       "      <td>95054</td>\n",
       "      <td>1</td>\n",
       "      <td>1.60</td>\n",
       "      <td>3</td>\n",
       "      <td>0</td>\n",
       "      <td>1</td>\n",
       "      <td>0</td>\n",
       "      <td>0</td>\n",
       "      <td>1.0</td>\n",
       "      <td>0</td>\n",
       "    </tr>\n",
       "    <tr>\n",
       "      <th>365</th>\n",
       "      <td>366</td>\n",
       "      <td>57</td>\n",
       "      <td>32</td>\n",
       "      <td>174</td>\n",
       "      <td>90089</td>\n",
       "      <td>1</td>\n",
       "      <td>6.80</td>\n",
       "      <td>3</td>\n",
       "      <td>466</td>\n",
       "      <td>1</td>\n",
       "      <td>0</td>\n",
       "      <td>0</td>\n",
       "      <td>1.0</td>\n",
       "      <td>0</td>\n",
       "    </tr>\n",
       "    <tr>\n",
       "      <th>442</th>\n",
       "      <td>443</td>\n",
       "      <td>58</td>\n",
       "      <td>28</td>\n",
       "      <td>122</td>\n",
       "      <td>95136</td>\n",
       "      <td>1</td>\n",
       "      <td>3.00</td>\n",
       "      <td>3</td>\n",
       "      <td>115</td>\n",
       "      <td>1</td>\n",
       "      <td>0</td>\n",
       "      <td>0</td>\n",
       "      <td>1.0</td>\n",
       "      <td>0</td>\n",
       "    </tr>\n",
       "    <tr>\n",
       "      <th>473</th>\n",
       "      <td>474</td>\n",
       "      <td>64</td>\n",
       "      <td>39</td>\n",
       "      <td>182</td>\n",
       "      <td>93955</td>\n",
       "      <td>1</td>\n",
       "      <td>1.20</td>\n",
       "      <td>3</td>\n",
       "      <td>547</td>\n",
       "      <td>1</td>\n",
       "      <td>0</td>\n",
       "      <td>0</td>\n",
       "      <td>1.0</td>\n",
       "      <td>0</td>\n",
       "    </tr>\n",
       "    <tr>\n",
       "      <th>537</th>\n",
       "      <td>538</td>\n",
       "      <td>44</td>\n",
       "      <td>20</td>\n",
       "      <td>131</td>\n",
       "      <td>90717</td>\n",
       "      <td>1</td>\n",
       "      <td>4.90</td>\n",
       "      <td>3</td>\n",
       "      <td>0</td>\n",
       "      <td>1</td>\n",
       "      <td>0</td>\n",
       "      <td>0</td>\n",
       "      <td>1.0</td>\n",
       "      <td>0</td>\n",
       "    </tr>\n",
       "    <tr>\n",
       "      <th>596</th>\n",
       "      <td>597</td>\n",
       "      <td>48</td>\n",
       "      <td>22</td>\n",
       "      <td>152</td>\n",
       "      <td>94022</td>\n",
       "      <td>1</td>\n",
       "      <td>3.50</td>\n",
       "      <td>3</td>\n",
       "      <td>0</td>\n",
       "      <td>1</td>\n",
       "      <td>0</td>\n",
       "      <td>0</td>\n",
       "      <td>1.0</td>\n",
       "      <td>0</td>\n",
       "    </tr>\n",
       "    <tr>\n",
       "      <th>681</th>\n",
       "      <td>682</td>\n",
       "      <td>34</td>\n",
       "      <td>9</td>\n",
       "      <td>164</td>\n",
       "      <td>94720</td>\n",
       "      <td>1</td>\n",
       "      <td>6.00</td>\n",
       "      <td>3</td>\n",
       "      <td>0</td>\n",
       "      <td>1</td>\n",
       "      <td>0</td>\n",
       "      <td>0</td>\n",
       "      <td>1.0</td>\n",
       "      <td>0</td>\n",
       "    </tr>\n",
       "    <tr>\n",
       "      <th>813</th>\n",
       "      <td>814</td>\n",
       "      <td>50</td>\n",
       "      <td>25</td>\n",
       "      <td>130</td>\n",
       "      <td>94720</td>\n",
       "      <td>1</td>\n",
       "      <td>1.10</td>\n",
       "      <td>3</td>\n",
       "      <td>0</td>\n",
       "      <td>1</td>\n",
       "      <td>0</td>\n",
       "      <td>0</td>\n",
       "      <td>1.0</td>\n",
       "      <td>0</td>\n",
       "    </tr>\n",
       "    <tr>\n",
       "      <th>940</th>\n",
       "      <td>941</td>\n",
       "      <td>61</td>\n",
       "      <td>36</td>\n",
       "      <td>193</td>\n",
       "      <td>94303</td>\n",
       "      <td>1</td>\n",
       "      <td>4.70</td>\n",
       "      <td>3</td>\n",
       "      <td>203</td>\n",
       "      <td>1</td>\n",
       "      <td>0</td>\n",
       "      <td>0</td>\n",
       "      <td>1.0</td>\n",
       "      <td>0</td>\n",
       "    </tr>\n",
       "    <tr>\n",
       "      <th>1022</th>\n",
       "      <td>1023</td>\n",
       "      <td>27</td>\n",
       "      <td>3</td>\n",
       "      <td>118</td>\n",
       "      <td>95605</td>\n",
       "      <td>1</td>\n",
       "      <td>3.30</td>\n",
       "      <td>3</td>\n",
       "      <td>0</td>\n",
       "      <td>1</td>\n",
       "      <td>0</td>\n",
       "      <td>0</td>\n",
       "      <td>1.0</td>\n",
       "      <td>0</td>\n",
       "    </tr>\n",
       "    <tr>\n",
       "      <th>1143</th>\n",
       "      <td>1144</td>\n",
       "      <td>33</td>\n",
       "      <td>7</td>\n",
       "      <td>120</td>\n",
       "      <td>94022</td>\n",
       "      <td>1</td>\n",
       "      <td>3.20</td>\n",
       "      <td>3</td>\n",
       "      <td>0</td>\n",
       "      <td>1</td>\n",
       "      <td>0</td>\n",
       "      <td>0</td>\n",
       "      <td>1.0</td>\n",
       "      <td>0</td>\n",
       "    </tr>\n",
       "    <tr>\n",
       "      <th>1320</th>\n",
       "      <td>1321</td>\n",
       "      <td>31</td>\n",
       "      <td>7</td>\n",
       "      <td>192</td>\n",
       "      <td>90250</td>\n",
       "      <td>1</td>\n",
       "      <td>0.00</td>\n",
       "      <td>3</td>\n",
       "      <td>0</td>\n",
       "      <td>1</td>\n",
       "      <td>0</td>\n",
       "      <td>0</td>\n",
       "      <td>1.0</td>\n",
       "      <td>0</td>\n",
       "    </tr>\n",
       "    <tr>\n",
       "      <th>1408</th>\n",
       "      <td>1409</td>\n",
       "      <td>40</td>\n",
       "      <td>14</td>\n",
       "      <td>129</td>\n",
       "      <td>90089</td>\n",
       "      <td>1</td>\n",
       "      <td>5.90</td>\n",
       "      <td>3</td>\n",
       "      <td>0</td>\n",
       "      <td>1</td>\n",
       "      <td>0</td>\n",
       "      <td>0</td>\n",
       "      <td>1.0</td>\n",
       "      <td>0</td>\n",
       "    </tr>\n",
       "    <tr>\n",
       "      <th>1577</th>\n",
       "      <td>1578</td>\n",
       "      <td>34</td>\n",
       "      <td>8</td>\n",
       "      <td>65</td>\n",
       "      <td>92093</td>\n",
       "      <td>1</td>\n",
       "      <td>3.00</td>\n",
       "      <td>3</td>\n",
       "      <td>227</td>\n",
       "      <td>1</td>\n",
       "      <td>0</td>\n",
       "      <td>0</td>\n",
       "      <td>1.0</td>\n",
       "      <td>0</td>\n",
       "    </tr>\n",
       "    <tr>\n",
       "      <th>1589</th>\n",
       "      <td>1590</td>\n",
       "      <td>57</td>\n",
       "      <td>32</td>\n",
       "      <td>124</td>\n",
       "      <td>90049</td>\n",
       "      <td>1</td>\n",
       "      <td>0.20</td>\n",
       "      <td>3</td>\n",
       "      <td>0</td>\n",
       "      <td>1</td>\n",
       "      <td>0</td>\n",
       "      <td>0</td>\n",
       "      <td>1.0</td>\n",
       "      <td>0</td>\n",
       "    </tr>\n",
       "    <tr>\n",
       "      <th>1603</th>\n",
       "      <td>1604</td>\n",
       "      <td>36</td>\n",
       "      <td>6</td>\n",
       "      <td>138</td>\n",
       "      <td>92152</td>\n",
       "      <td>1</td>\n",
       "      <td>7.00</td>\n",
       "      <td>3</td>\n",
       "      <td>86</td>\n",
       "      <td>1</td>\n",
       "      <td>0</td>\n",
       "      <td>0</td>\n",
       "      <td>1.0</td>\n",
       "      <td>0</td>\n",
       "    </tr>\n",
       "    <tr>\n",
       "      <th>2194</th>\n",
       "      <td>2195</td>\n",
       "      <td>34</td>\n",
       "      <td>9</td>\n",
       "      <td>123</td>\n",
       "      <td>94553</td>\n",
       "      <td>1</td>\n",
       "      <td>1.60</td>\n",
       "      <td>3</td>\n",
       "      <td>0</td>\n",
       "      <td>1</td>\n",
       "      <td>0</td>\n",
       "      <td>0</td>\n",
       "      <td>1.0</td>\n",
       "      <td>0</td>\n",
       "    </tr>\n",
       "    <tr>\n",
       "      <th>2207</th>\n",
       "      <td>2208</td>\n",
       "      <td>38</td>\n",
       "      <td>12</td>\n",
       "      <td>180</td>\n",
       "      <td>90245</td>\n",
       "      <td>1</td>\n",
       "      <td>2.80</td>\n",
       "      <td>3</td>\n",
       "      <td>158</td>\n",
       "      <td>1</td>\n",
       "      <td>0</td>\n",
       "      <td>0</td>\n",
       "      <td>1.0</td>\n",
       "      <td>0</td>\n",
       "    </tr>\n",
       "    <tr>\n",
       "      <th>2285</th>\n",
       "      <td>2286</td>\n",
       "      <td>48</td>\n",
       "      <td>22</td>\n",
       "      <td>114</td>\n",
       "      <td>92007</td>\n",
       "      <td>1</td>\n",
       "      <td>2.40</td>\n",
       "      <td>3</td>\n",
       "      <td>0</td>\n",
       "      <td>1</td>\n",
       "      <td>0</td>\n",
       "      <td>0</td>\n",
       "      <td>1.0</td>\n",
       "      <td>0</td>\n",
       "    </tr>\n",
       "    <tr>\n",
       "      <th>2391</th>\n",
       "      <td>2392</td>\n",
       "      <td>39</td>\n",
       "      <td>12</td>\n",
       "      <td>138</td>\n",
       "      <td>92697</td>\n",
       "      <td>1</td>\n",
       "      <td>4.67</td>\n",
       "      <td>3</td>\n",
       "      <td>0</td>\n",
       "      <td>1</td>\n",
       "      <td>0</td>\n",
       "      <td>0</td>\n",
       "      <td>1.0</td>\n",
       "      <td>0</td>\n",
       "    </tr>\n",
       "    <tr>\n",
       "      <th>2477</th>\n",
       "      <td>2478</td>\n",
       "      <td>40</td>\n",
       "      <td>14</td>\n",
       "      <td>179</td>\n",
       "      <td>90025</td>\n",
       "      <td>1</td>\n",
       "      <td>2.60</td>\n",
       "      <td>3</td>\n",
       "      <td>0</td>\n",
       "      <td>1</td>\n",
       "      <td>0</td>\n",
       "      <td>0</td>\n",
       "      <td>1.0</td>\n",
       "      <td>0</td>\n",
       "    </tr>\n",
       "    <tr>\n",
       "      <th>2533</th>\n",
       "      <td>2534</td>\n",
       "      <td>54</td>\n",
       "      <td>29</td>\n",
       "      <td>111</td>\n",
       "      <td>93023</td>\n",
       "      <td>1</td>\n",
       "      <td>1.10</td>\n",
       "      <td>3</td>\n",
       "      <td>0</td>\n",
       "      <td>1</td>\n",
       "      <td>0</td>\n",
       "      <td>0</td>\n",
       "      <td>1.0</td>\n",
       "      <td>0</td>\n",
       "    </tr>\n",
       "    <tr>\n",
       "      <th>2536</th>\n",
       "      <td>2537</td>\n",
       "      <td>51</td>\n",
       "      <td>25</td>\n",
       "      <td>104</td>\n",
       "      <td>94949</td>\n",
       "      <td>1</td>\n",
       "      <td>4.20</td>\n",
       "      <td>3</td>\n",
       "      <td>0</td>\n",
       "      <td>1</td>\n",
       "      <td>0</td>\n",
       "      <td>0</td>\n",
       "      <td>1.0</td>\n",
       "      <td>0</td>\n",
       "    </tr>\n",
       "    <tr>\n",
       "      <th>2664</th>\n",
       "      <td>2665</td>\n",
       "      <td>54</td>\n",
       "      <td>29</td>\n",
       "      <td>154</td>\n",
       "      <td>95014</td>\n",
       "      <td>1</td>\n",
       "      <td>2.40</td>\n",
       "      <td>3</td>\n",
       "      <td>352</td>\n",
       "      <td>1</td>\n",
       "      <td>0</td>\n",
       "      <td>0</td>\n",
       "      <td>1.0</td>\n",
       "      <td>0</td>\n",
       "    </tr>\n",
       "    <tr>\n",
       "      <th>2859</th>\n",
       "      <td>2860</td>\n",
       "      <td>35</td>\n",
       "      <td>11</td>\n",
       "      <td>188</td>\n",
       "      <td>94596</td>\n",
       "      <td>1</td>\n",
       "      <td>0.90</td>\n",
       "      <td>3</td>\n",
       "      <td>282</td>\n",
       "      <td>1</td>\n",
       "      <td>0</td>\n",
       "      <td>0</td>\n",
       "      <td>1.0</td>\n",
       "      <td>0</td>\n",
       "    </tr>\n",
       "    <tr>\n",
       "      <th>2874</th>\n",
       "      <td>2875</td>\n",
       "      <td>49</td>\n",
       "      <td>25</td>\n",
       "      <td>114</td>\n",
       "      <td>91380</td>\n",
       "      <td>1</td>\n",
       "      <td>2.50</td>\n",
       "      <td>3</td>\n",
       "      <td>0</td>\n",
       "      <td>1</td>\n",
       "      <td>0</td>\n",
       "      <td>0</td>\n",
       "      <td>1.0</td>\n",
       "      <td>0</td>\n",
       "    </tr>\n",
       "    <tr>\n",
       "      <th>3296</th>\n",
       "      <td>3297</td>\n",
       "      <td>63</td>\n",
       "      <td>37</td>\n",
       "      <td>132</td>\n",
       "      <td>94080</td>\n",
       "      <td>1</td>\n",
       "      <td>4.40</td>\n",
       "      <td>3</td>\n",
       "      <td>0</td>\n",
       "      <td>1</td>\n",
       "      <td>0</td>\n",
       "      <td>0</td>\n",
       "      <td>1.0</td>\n",
       "      <td>0</td>\n",
       "    </tr>\n",
       "    <tr>\n",
       "      <th>3326</th>\n",
       "      <td>3327</td>\n",
       "      <td>53</td>\n",
       "      <td>27</td>\n",
       "      <td>174</td>\n",
       "      <td>91006</td>\n",
       "      <td>1</td>\n",
       "      <td>2.90</td>\n",
       "      <td>3</td>\n",
       "      <td>0</td>\n",
       "      <td>1</td>\n",
       "      <td>0</td>\n",
       "      <td>0</td>\n",
       "      <td>1.0</td>\n",
       "      <td>0</td>\n",
       "    </tr>\n",
       "    <tr>\n",
       "      <th>3343</th>\n",
       "      <td>3344</td>\n",
       "      <td>62</td>\n",
       "      <td>37</td>\n",
       "      <td>125</td>\n",
       "      <td>94801</td>\n",
       "      <td>1</td>\n",
       "      <td>1.00</td>\n",
       "      <td>3</td>\n",
       "      <td>0</td>\n",
       "      <td>1</td>\n",
       "      <td>0</td>\n",
       "      <td>0</td>\n",
       "      <td>1.0</td>\n",
       "      <td>0</td>\n",
       "    </tr>\n",
       "    <tr>\n",
       "      <th>3508</th>\n",
       "      <td>3509</td>\n",
       "      <td>33</td>\n",
       "      <td>9</td>\n",
       "      <td>125</td>\n",
       "      <td>92182</td>\n",
       "      <td>1</td>\n",
       "      <td>4.30</td>\n",
       "      <td>3</td>\n",
       "      <td>0</td>\n",
       "      <td>1</td>\n",
       "      <td>0</td>\n",
       "      <td>0</td>\n",
       "      <td>1.0</td>\n",
       "      <td>0</td>\n",
       "    </tr>\n",
       "    <tr>\n",
       "      <th>3613</th>\n",
       "      <td>3614</td>\n",
       "      <td>35</td>\n",
       "      <td>11</td>\n",
       "      <td>148</td>\n",
       "      <td>92672</td>\n",
       "      <td>1</td>\n",
       "      <td>5.80</td>\n",
       "      <td>3</td>\n",
       "      <td>0</td>\n",
       "      <td>1</td>\n",
       "      <td>0</td>\n",
       "      <td>0</td>\n",
       "      <td>1.0</td>\n",
       "      <td>0</td>\n",
       "    </tr>\n",
       "    <tr>\n",
       "      <th>3757</th>\n",
       "      <td>3758</td>\n",
       "      <td>45</td>\n",
       "      <td>21</td>\n",
       "      <td>142</td>\n",
       "      <td>91101</td>\n",
       "      <td>1</td>\n",
       "      <td>1.40</td>\n",
       "      <td>3</td>\n",
       "      <td>0</td>\n",
       "      <td>1</td>\n",
       "      <td>0</td>\n",
       "      <td>0</td>\n",
       "      <td>1.0</td>\n",
       "      <td>0</td>\n",
       "    </tr>\n",
       "    <tr>\n",
       "      <th>4309</th>\n",
       "      <td>4310</td>\n",
       "      <td>34</td>\n",
       "      <td>8</td>\n",
       "      <td>188</td>\n",
       "      <td>94025</td>\n",
       "      <td>1</td>\n",
       "      <td>2.90</td>\n",
       "      <td>3</td>\n",
       "      <td>0</td>\n",
       "      <td>1</td>\n",
       "      <td>0</td>\n",
       "      <td>0</td>\n",
       "      <td>1.0</td>\n",
       "      <td>0</td>\n",
       "    </tr>\n",
       "    <tr>\n",
       "      <th>4377</th>\n",
       "      <td>4378</td>\n",
       "      <td>33</td>\n",
       "      <td>8</td>\n",
       "      <td>145</td>\n",
       "      <td>92507</td>\n",
       "      <td>1</td>\n",
       "      <td>2.70</td>\n",
       "      <td>3</td>\n",
       "      <td>0</td>\n",
       "      <td>1</td>\n",
       "      <td>0</td>\n",
       "      <td>0</td>\n",
       "      <td>1.0</td>\n",
       "      <td>0</td>\n",
       "    </tr>\n",
       "    <tr>\n",
       "      <th>4494</th>\n",
       "      <td>4495</td>\n",
       "      <td>29</td>\n",
       "      <td>4</td>\n",
       "      <td>182</td>\n",
       "      <td>95354</td>\n",
       "      <td>1</td>\n",
       "      <td>3.70</td>\n",
       "      <td>3</td>\n",
       "      <td>0</td>\n",
       "      <td>1</td>\n",
       "      <td>0</td>\n",
       "      <td>0</td>\n",
       "      <td>1.0</td>\n",
       "      <td>0</td>\n",
       "    </tr>\n",
       "    <tr>\n",
       "      <th>4583</th>\n",
       "      <td>4584</td>\n",
       "      <td>52</td>\n",
       "      <td>26</td>\n",
       "      <td>83</td>\n",
       "      <td>92521</td>\n",
       "      <td>1</td>\n",
       "      <td>3.10</td>\n",
       "      <td>3</td>\n",
       "      <td>0</td>\n",
       "      <td>1</td>\n",
       "      <td>0</td>\n",
       "      <td>0</td>\n",
       "      <td>1.0</td>\n",
       "      <td>0</td>\n",
       "    </tr>\n",
       "    <tr>\n",
       "      <th>4627</th>\n",
       "      <td>4628</td>\n",
       "      <td>27</td>\n",
       "      <td>1</td>\n",
       "      <td>134</td>\n",
       "      <td>93106</td>\n",
       "      <td>1</td>\n",
       "      <td>1.70</td>\n",
       "      <td>3</td>\n",
       "      <td>307</td>\n",
       "      <td>1</td>\n",
       "      <td>0</td>\n",
       "      <td>0</td>\n",
       "      <td>1.0</td>\n",
       "      <td>0</td>\n",
       "    </tr>\n",
       "    <tr>\n",
       "      <th>4763</th>\n",
       "      <td>4764</td>\n",
       "      <td>51</td>\n",
       "      <td>25</td>\n",
       "      <td>173</td>\n",
       "      <td>95051</td>\n",
       "      <td>1</td>\n",
       "      <td>0.50</td>\n",
       "      <td>3</td>\n",
       "      <td>0</td>\n",
       "      <td>1</td>\n",
       "      <td>0</td>\n",
       "      <td>0</td>\n",
       "      <td>1.0</td>\n",
       "      <td>0</td>\n",
       "    </tr>\n",
       "    <tr>\n",
       "      <th>5145</th>\n",
       "      <td>2860</td>\n",
       "      <td>35</td>\n",
       "      <td>11</td>\n",
       "      <td>188</td>\n",
       "      <td>94596</td>\n",
       "      <td>1</td>\n",
       "      <td>0.90</td>\n",
       "      <td>3</td>\n",
       "      <td>282</td>\n",
       "      <td>1</td>\n",
       "      <td>0</td>\n",
       "      <td>0</td>\n",
       "      <td>1.0</td>\n",
       "      <td>0</td>\n",
       "    </tr>\n",
       "  </tbody>\n",
       "</table>\n",
       "</div>"
      ],
      "text/plain": [
       "        ID  Age  Experience  Income  ZIP Code  Family  CCAvg  Education  \\\n",
       "316    317   57          31     165     95054       1   1.60          3   \n",
       "365    366   57          32     174     90089       1   6.80          3   \n",
       "442    443   58          28     122     95136       1   3.00          3   \n",
       "473    474   64          39     182     93955       1   1.20          3   \n",
       "537    538   44          20     131     90717       1   4.90          3   \n",
       "596    597   48          22     152     94022       1   3.50          3   \n",
       "681    682   34           9     164     94720       1   6.00          3   \n",
       "813    814   50          25     130     94720       1   1.10          3   \n",
       "940    941   61          36     193     94303       1   4.70          3   \n",
       "1022  1023   27           3     118     95605       1   3.30          3   \n",
       "1143  1144   33           7     120     94022       1   3.20          3   \n",
       "1320  1321   31           7     192     90250       1   0.00          3   \n",
       "1408  1409   40          14     129     90089       1   5.90          3   \n",
       "1577  1578   34           8      65     92093       1   3.00          3   \n",
       "1589  1590   57          32     124     90049       1   0.20          3   \n",
       "1603  1604   36           6     138     92152       1   7.00          3   \n",
       "2194  2195   34           9     123     94553       1   1.60          3   \n",
       "2207  2208   38          12     180     90245       1   2.80          3   \n",
       "2285  2286   48          22     114     92007       1   2.40          3   \n",
       "2391  2392   39          12     138     92697       1   4.67          3   \n",
       "2477  2478   40          14     179     90025       1   2.60          3   \n",
       "2533  2534   54          29     111     93023       1   1.10          3   \n",
       "2536  2537   51          25     104     94949       1   4.20          3   \n",
       "2664  2665   54          29     154     95014       1   2.40          3   \n",
       "2859  2860   35          11     188     94596       1   0.90          3   \n",
       "2874  2875   49          25     114     91380       1   2.50          3   \n",
       "3296  3297   63          37     132     94080       1   4.40          3   \n",
       "3326  3327   53          27     174     91006       1   2.90          3   \n",
       "3343  3344   62          37     125     94801       1   1.00          3   \n",
       "3508  3509   33           9     125     92182       1   4.30          3   \n",
       "3613  3614   35          11     148     92672       1   5.80          3   \n",
       "3757  3758   45          21     142     91101       1   1.40          3   \n",
       "4309  4310   34           8     188     94025       1   2.90          3   \n",
       "4377  4378   33           8     145     92507       1   2.70          3   \n",
       "4494  4495   29           4     182     95354       1   3.70          3   \n",
       "4583  4584   52          26      83     92521       1   3.10          3   \n",
       "4627  4628   27           1     134     93106       1   1.70          3   \n",
       "4763  4764   51          25     173     95051       1   0.50          3   \n",
       "5145  2860   35          11     188     94596       1   0.90          3   \n",
       "\n",
       "      Mortgage  Personal Loan  Securities Account  CD Account  Online  \\\n",
       "316          0              1                   0           0     1.0   \n",
       "365        466              1                   0           0     1.0   \n",
       "442        115              1                   0           0     1.0   \n",
       "473        547              1                   0           0     1.0   \n",
       "537          0              1                   0           0     1.0   \n",
       "596          0              1                   0           0     1.0   \n",
       "681          0              1                   0           0     1.0   \n",
       "813          0              1                   0           0     1.0   \n",
       "940        203              1                   0           0     1.0   \n",
       "1022         0              1                   0           0     1.0   \n",
       "1143         0              1                   0           0     1.0   \n",
       "1320         0              1                   0           0     1.0   \n",
       "1408         0              1                   0           0     1.0   \n",
       "1577       227              1                   0           0     1.0   \n",
       "1589         0              1                   0           0     1.0   \n",
       "1603        86              1                   0           0     1.0   \n",
       "2194         0              1                   0           0     1.0   \n",
       "2207       158              1                   0           0     1.0   \n",
       "2285         0              1                   0           0     1.0   \n",
       "2391         0              1                   0           0     1.0   \n",
       "2477         0              1                   0           0     1.0   \n",
       "2533         0              1                   0           0     1.0   \n",
       "2536         0              1                   0           0     1.0   \n",
       "2664       352              1                   0           0     1.0   \n",
       "2859       282              1                   0           0     1.0   \n",
       "2874         0              1                   0           0     1.0   \n",
       "3296         0              1                   0           0     1.0   \n",
       "3326         0              1                   0           0     1.0   \n",
       "3343         0              1                   0           0     1.0   \n",
       "3508         0              1                   0           0     1.0   \n",
       "3613         0              1                   0           0     1.0   \n",
       "3757         0              1                   0           0     1.0   \n",
       "4309         0              1                   0           0     1.0   \n",
       "4377         0              1                   0           0     1.0   \n",
       "4494         0              1                   0           0     1.0   \n",
       "4583         0              1                   0           0     1.0   \n",
       "4627       307              1                   0           0     1.0   \n",
       "4763         0              1                   0           0     1.0   \n",
       "5145       282              1                   0           0     1.0   \n",
       "\n",
       "      CreditCard  \n",
       "316            0  \n",
       "365            0  \n",
       "442            0  \n",
       "473            0  \n",
       "537            0  \n",
       "596            0  \n",
       "681            0  \n",
       "813            0  \n",
       "940            0  \n",
       "1022           0  \n",
       "1143           0  \n",
       "1320           0  \n",
       "1408           0  \n",
       "1577           0  \n",
       "1589           0  \n",
       "1603           0  \n",
       "2194           0  \n",
       "2207           0  \n",
       "2285           0  \n",
       "2391           0  \n",
       "2477           0  \n",
       "2533           0  \n",
       "2536           0  \n",
       "2664           0  \n",
       "2859           0  \n",
       "2874           0  \n",
       "3296           0  \n",
       "3326           0  \n",
       "3343           0  \n",
       "3508           0  \n",
       "3613           0  \n",
       "3757           0  \n",
       "4309           0  \n",
       "4377           0  \n",
       "4494           0  \n",
       "4583           0  \n",
       "4627           0  \n",
       "4763           0  \n",
       "5145           0  "
      ]
     },
     "execution_count": 84,
     "metadata": {},
     "output_type": "execute_result"
    }
   ],
   "source": [
    "df_filtrado[(df_filtrado['Online']==1) & (df_filtrado['Personal Loan']==1)]"
   ]
  }
 ],
 "metadata": {
  "application/vnd.databricks.v1+notebook": {
   "dashboards": [],
   "language": "python",
   "notebookMetadata": {
    "pythonIndentUnit": 4
   },
   "notebookName": "Aula_04_Pandas_(Parte_1)",
   "widgets": {}
  },
  "colab": {
   "provenance": []
  },
  "kernelspec": {
   "display_name": "Python 3",
   "name": "python3"
  },
  "language_info": {
   "codemirror_mode": {
    "name": "ipython",
    "version": 3
   },
   "file_extension": ".py",
   "mimetype": "text/x-python",
   "name": "python",
   "nbconvert_exporter": "python",
   "pygments_lexer": "ipython3",
   "version": "3.11.5"
  }
 },
 "nbformat": 4,
 "nbformat_minor": 0
}
