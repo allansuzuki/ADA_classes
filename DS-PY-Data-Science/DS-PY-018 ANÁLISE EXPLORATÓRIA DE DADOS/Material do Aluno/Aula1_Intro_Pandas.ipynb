{
 "cells": [
  {
   "cell_type": "markdown",
   "metadata": {
    "application/vnd.databricks.v1+cell": {
     "cellMetadata": {},
     "inputWidgets": {},
     "nuid": "c2d6122e-12fc-4326-863b-1a59da37e1f7",
     "showTitle": false,
     "title": ""
    },
    "id": "BUSRlt4Shf-w"
   },
   "source": [
    "# 🎯 Aula 1 - Introdução ao Pandas - dados tabulares 🎯<br>"
   ]
  },
  {
   "cell_type": "markdown",
   "metadata": {},
   "source": [
    "\n",
    "Na aula de hoje veremos com trabalhar com dados tabulares em alto nível, usando a biblioteca [pandas](https://pandas.pydata.org/).\n",
    "\n",
    "O [Pandas](https://pandas.pydata.org/) é uma das bibliotecas mais usadas em **ciência de dados**.\n",
    "\n",
    "Esta biblioteca, construída a partir do Numpy, possibilita a estruturação e manipulação de dados de maneira simples e eficiente.\n",
    "\n",
    "Como os dados são a matéria prima de todo projeto de Data Science, manipulá-los é fundamental! Por isso, utilizaremos o Pandas em quase todas as aulas daqui pra frente!"
   ]
  },
  {
   "cell_type": "markdown",
   "metadata": {
    "application/vnd.databricks.v1+cell": {
     "cellMetadata": {},
     "inputWidgets": {},
     "nuid": "ad4823ed-5d51-4b50-83fc-25d764cecfd1",
     "showTitle": false,
     "title": ""
    },
    "id": "ayqNQpd0iODA"
   },
   "source": [
    "____\n",
    "[Guia do pandas](https://pandas.pydata.org/docs/user_guide/index.html#user-guide)"
   ]
  },
  {
   "cell_type": "markdown",
   "metadata": {
    "application/vnd.databricks.v1+cell": {
     "cellMetadata": {},
     "inputWidgets": {},
     "nuid": "2053b90e-07f1-4101-bed8-fbe4f71f03df",
     "showTitle": false,
     "title": ""
    },
    "id": "6j0mhZICiPfv"
   },
   "source": [
    "____\n",
    "Nesta primeira aula, avaliaremos:\n",
    "- O que são Séries e DataFrames;\n",
    "- Alguns dos principais métodos para operar com Séries;\n",
    "- Leitura e gravação de conjuntos de dados com pandas."
   ]
  },
  {
   "cell_type": "markdown",
   "metadata": {
    "application/vnd.databricks.v1+cell": {
     "cellMetadata": {},
     "inputWidgets": {},
     "nuid": "b29dd111-7ae8-4e4c-90b9-78223ed6ed1b",
     "showTitle": false,
     "title": ""
    },
    "id": "v8MpbH8IiSNA"
   },
   "source": [
    "____\n",
    "Até então trabalhamos em análises de dados utilizando listas, dicionários, etc...\n",
    "Mas pensando em observar dados de tabelas, qual a primeira ferramenta que vem a mente?\n",
    "\n",
    "Em que situações utilizamos esta ferramenta? E quais suas desvantagens em relação a visualização e manipulação de dados?"
   ]
  },
  {
   "cell_type": "markdown",
   "metadata": {},
   "source": [
    "# Instalando e importando o Pandas"
   ]
  },
  {
   "cell_type": "markdown",
   "metadata": {},
   "source": [
    "Primeiro passo para utilizarmos o Pandas (package de manipulação de dados do python). Escreva o comando abaixo no terminal associado ao enviroment do python que estás a usar:\n",
    "\n",
    "``` sh\n",
    "pip install pandas\n",
    "```\n",
    "<br>\n",
    "Em seguida, rodamos o comando abaixo no notebook para importar o pandas \n",
    "\n",
    "```python\n",
    "import pandas\n",
    "```\n",
    "\n",
    "Caso a etapa anterior não tenha dado certo, surgirá um erro ao importar."
   ]
  },
  {
   "cell_type": "code",
   "execution_count": null,
   "metadata": {},
   "outputs": [],
   "source": [
    "#importar o pandas com alias pd\n",
    "import pandas as pd"
   ]
  },
  {
   "cell_type": "markdown",
   "metadata": {
    "application/vnd.databricks.v1+cell": {
     "cellMetadata": {},
     "inputWidgets": {},
     "nuid": "519d2b85-42a3-4f25-9f64-6ec99cf0f1d0",
     "showTitle": false,
     "title": ""
    },
    "id": "KZB7p8ISkuo0"
   },
   "source": [
    "# Séries\n",
    "\n",
    "Antes de falarmos das potencialidades do *Pandas*, precisamos falar das suas estruturas básicas.\n",
    "\n",
    "O objeto fundamental do Pandas são as **Series**. As Series são as **colunas das tabelas** (que veremos mais a frente), e por baixo dos panos, os dados ficam armazenados como numpy arrays!\n",
    "\n",
    "A diferença é que a série possui um **índice associado as linhas**, permitindo o acesso aos conteúdos dessa estrutura por ele, como um dicionário.\n",
    "\n",
    "Além disso, as séries têm métodos específicos que serão super úteis para nossas análises e manipulações de dados."
   ]
  },
  {
   "cell_type": "markdown",
   "metadata": {},
   "source": [
    "## Gerando uma Series\n",
    "Podemos criar uma série **a partir de uma lista**, usando a função do pandas `pd.Series()`:"
   ]
  },
  {
   "cell_type": "code",
   "execution_count": null,
   "metadata": {
    "application/vnd.databricks.v1+cell": {
     "cellMetadata": {},
     "inputWidgets": {},
     "nuid": "9f0325ec-459c-4fdf-bcfc-267ef46f37d1",
     "showTitle": false,
     "title": ""
    },
    "colab": {
     "base_uri": "https://localhost:8080/"
    },
    "id": "_ybR1Avykkjv",
    "outputId": "6e469355-8020-47d4-bbaa-3ac922e82075"
   },
   "outputs": [],
   "source": [
    "#Criando uma lista\n",
    "lista = [4,6,3,7,25]\n",
    "lista\n",
    "# Série a partir de uma lista\n",
    "# os índices das linhas são automaticamente definidos\n",
    "serie = pd.Series(lista)"
   ]
  },
  {
   "cell_type": "code",
   "execution_count": null,
   "metadata": {},
   "outputs": [],
   "source": [
    "serie"
   ]
  },
  {
   "cell_type": "markdown",
   "metadata": {
    "application/vnd.databricks.v1+cell": {
     "cellMetadata": {},
     "inputWidgets": {},
     "nuid": "a64ad204-61cd-4ce1-bf36-084dbeb0ae68",
     "showTitle": false,
     "title": ""
    },
    "id": "QzRguO5hlG28"
   },
   "source": [
    "Os números à esquerda são os **índices** da série, e, aqueles à direita, são seus **valores**. Podemos também acessá-los separadamente."
   ]
  },
  {
   "cell_type": "code",
   "execution_count": null,
   "metadata": {
    "application/vnd.databricks.v1+cell": {
     "cellMetadata": {},
     "inputWidgets": {},
     "nuid": "ac47417f-fd70-422c-90eb-787d47dde2af",
     "showTitle": false,
     "title": ""
    },
    "colab": {
     "base_uri": "https://localhost:8080/"
    },
    "id": "g5C166zDlEmz",
    "outputId": "b16769e2-f8c5-4f2c-cba0-1d0c2f74bb81"
   },
   "outputs": [],
   "source": [
    "# valores\n",
    "serie.values"
   ]
  },
  {
   "cell_type": "code",
   "execution_count": null,
   "metadata": {
    "application/vnd.databricks.v1+cell": {
     "cellMetadata": {},
     "inputWidgets": {},
     "nuid": "9ff279fc-584b-4437-9d9a-d88b5e046194",
     "showTitle": false,
     "title": ""
    },
    "colab": {
     "base_uri": "https://localhost:8080/"
    },
    "id": "37IlFa-clI-7",
    "outputId": "daea4bc4-38f6-4ae1-9eb1-4a063728541c"
   },
   "outputs": [],
   "source": [
    "# índices\n",
    "serie.index"
   ]
  },
  {
   "cell_type": "markdown",
   "metadata": {},
   "source": [
    "A obtenção de itens de uma Series é muito similar à maneira que fazemos com listas:"
   ]
  },
  {
   "cell_type": "code",
   "execution_count": null,
   "metadata": {},
   "outputs": [],
   "source": [
    "serie[0]"
   ]
  },
  {
   "cell_type": "markdown",
   "metadata": {},
   "source": [
    "Também podemos realizar slicing nas Series, tal como fazemos nas listas."
   ]
  },
  {
   "cell_type": "markdown",
   "metadata": {
    "application/vnd.databricks.v1+cell": {
     "cellMetadata": {},
     "inputWidgets": {},
     "nuid": "e4632fd2-c9c9-47fe-9e1a-9b2cdd70cb64",
     "showTitle": false,
     "title": ""
    },
    "id": "SpAXem_pmOqb"
   },
   "source": [
    "### **Operações com séries**\n",
    "\n",
    "Como são gerados como numpy arrays, de modo semelhante, operações com séries são realizadas elemento a elemento."
   ]
  },
  {
   "cell_type": "code",
   "execution_count": null,
   "metadata": {
    "application/vnd.databricks.v1+cell": {
     "cellMetadata": {},
     "inputWidgets": {},
     "nuid": "72686454-189f-4016-8e25-5c2558edaa00",
     "showTitle": false,
     "title": ""
    },
    "colab": {
     "base_uri": "https://localhost:8080/"
    },
    "id": "mbcn1VOBmJIC",
    "outputId": "45f24d59-cf2f-4b4f-bf52-c71088fa6515"
   },
   "outputs": [],
   "source": [
    "#Criando uma série de uma lista\n",
    "serie"
   ]
  },
  {
   "cell_type": "code",
   "execution_count": null,
   "metadata": {
    "application/vnd.databricks.v1+cell": {
     "cellMetadata": {},
     "inputWidgets": {},
     "nuid": "4aa6d68c-54fc-4c11-8ea0-a37d0a4add3d",
     "showTitle": false,
     "title": ""
    },
    "colab": {
     "base_uri": "https://localhost:8080/"
    },
    "id": "E3EFup3mmZuy",
    "outputId": "73871c15-6153-4fe0-b379-a5164c146d2e"
   },
   "outputs": [],
   "source": [
    "# No caso de arrays\n",
    "arr"
   ]
  },
  {
   "cell_type": "code",
   "execution_count": null,
   "metadata": {
    "application/vnd.databricks.v1+cell": {
     "cellMetadata": {},
     "inputWidgets": {},
     "nuid": "6cbc4736-46b7-420c-b6b9-1a31531f283d",
     "showTitle": false,
     "title": ""
    },
    "colab": {
     "base_uri": "https://localhost:8080/"
    },
    "id": "qlExkAoymbDB",
    "outputId": "b1b8c478-40f1-4dc5-aed8-cf33d3f43978"
   },
   "outputs": [],
   "source": [
    "#Somando o array com 5\n",
    "arr+5"
   ]
  },
  {
   "cell_type": "code",
   "execution_count": null,
   "metadata": {
    "application/vnd.databricks.v1+cell": {
     "cellMetadata": {},
     "inputWidgets": {},
     "nuid": "0d9e3e35-8cc9-44b1-b6d1-db821928e5ce",
     "showTitle": false,
     "title": ""
    },
    "colab": {
     "base_uri": "https://localhost:8080/"
    },
    "id": "7JgUlUSXmdeB",
    "outputId": "e06b561e-ddb0-4ce3-9b47-6038e7e4597c"
   },
   "outputs": [],
   "source": [
    "# Operações aritméticas básicas funcionam elemento a elemento\n",
    "serie+5"
   ]
  },
  {
   "cell_type": "code",
   "execution_count": null,
   "metadata": {
    "application/vnd.databricks.v1+cell": {
     "cellMetadata": {},
     "inputWidgets": {},
     "nuid": "9ae35593-946f-44f4-953d-d9c30e14faa7",
     "showTitle": false,
     "title": ""
    },
    "colab": {
     "base_uri": "https://localhost:8080/"
    },
    "id": "zsw7fWvemecq",
    "outputId": "bdbaab02-9e7d-4a11-f39d-f9361a092c04"
   },
   "outputs": [],
   "source": [
    "serie*5"
   ]
  },
  {
   "cell_type": "code",
   "execution_count": null,
   "metadata": {
    "application/vnd.databricks.v1+cell": {
     "cellMetadata": {},
     "inputWidgets": {},
     "nuid": "af2638e6-e420-416f-99c4-48dbe38b70df",
     "showTitle": false,
     "title": ""
    },
    "colab": {
     "base_uri": "https://localhost:8080/"
    },
    "id": "wQqVZJ_KmgMT",
    "outputId": "a160a3d5-09a1-4d68-89cc-88722caa5315"
   },
   "outputs": [],
   "source": [
    "serie/5"
   ]
  },
  {
   "cell_type": "code",
   "execution_count": null,
   "metadata": {
    "application/vnd.databricks.v1+cell": {
     "cellMetadata": {},
     "inputWidgets": {},
     "nuid": "65c850da-a118-4e31-a22f-86d0f9ae3ec7",
     "showTitle": false,
     "title": ""
    },
    "colab": {
     "base_uri": "https://localhost:8080/"
    },
    "id": "FPMzU4Xsmg_7",
    "outputId": "e7e4c404-ce91-42df-ed9e-b490fa3b186c"
   },
   "outputs": [],
   "source": [
    "serie**5"
   ]
  },
  {
   "cell_type": "code",
   "execution_count": null,
   "metadata": {
    "application/vnd.databricks.v1+cell": {
     "cellMetadata": {},
     "inputWidgets": {},
     "nuid": "bb8f213c-824d-4fc5-b24b-1bf76e0c0675",
     "showTitle": false,
     "title": ""
    }
   },
   "outputs": [],
   "source": [
    "serie"
   ]
  },
  {
   "cell_type": "code",
   "execution_count": null,
   "metadata": {
    "application/vnd.databricks.v1+cell": {
     "cellMetadata": {},
     "inputWidgets": {},
     "nuid": "7cc79b35-8704-44d9-9f7c-f7fb52ddcbdf",
     "showTitle": false,
     "title": ""
    },
    "colab": {
     "base_uri": "https://localhost:8080/"
    },
    "id": "F759Rwb3midL",
    "outputId": "dc518aed-23d1-4641-d034-4dcf88d57fe3"
   },
   "outputs": [],
   "source": [
    "# apenas elementos divisíveis por 2\n",
    "serie % 2 == 0"
   ]
  },
  {
   "cell_type": "code",
   "execution_count": null,
   "metadata": {
    "application/vnd.databricks.v1+cell": {
     "cellMetadata": {},
     "inputWidgets": {},
     "nuid": "d70a7084-9275-4051-9984-92fd63455b2c",
     "showTitle": false,
     "title": ""
    },
    "colab": {
     "base_uri": "https://localhost:8080/"
    },
    "id": "NFl8HtsOmmIN",
    "outputId": "44244415-deb1-4396-9808-6bb065f7bf06"
   },
   "outputs": [],
   "source": [
    "# apenas elementos divisíveis por 2\n",
    "serie[serie % 2 == 0]"
   ]
  },
  {
   "cell_type": "code",
   "execution_count": null,
   "metadata": {
    "application/vnd.databricks.v1+cell": {
     "cellMetadata": {},
     "inputWidgets": {},
     "nuid": "69863ded-0f66-4be7-9439-2fa4fa4abc16",
     "showTitle": false,
     "title": ""
    },
    "colab": {
     "base_uri": "https://localhost:8080/"
    },
    "id": "bXimzwJCmjvC",
    "outputId": "6d6a62d6-1d6a-4a0d-de4b-3ee2a673eaa8"
   },
   "outputs": [],
   "source": [
    "serie > 10"
   ]
  },
  {
   "cell_type": "markdown",
   "metadata": {
    "application/vnd.databricks.v1+cell": {
     "cellMetadata": {},
     "inputWidgets": {},
     "nuid": "2557174b-bb9b-4996-bdef-40be3bdda838",
     "showTitle": false,
     "title": ""
    },
    "id": "Ahu8n3eXmsig"
   },
   "source": [
    "Também conseguimos operar entre séries."
   ]
  },
  {
   "cell_type": "code",
   "execution_count": null,
   "metadata": {
    "application/vnd.databricks.v1+cell": {
     "cellMetadata": {},
     "inputWidgets": {},
     "nuid": "9a52dfad-1a0e-4344-8c9a-cadc764b6bf8",
     "showTitle": false,
     "title": ""
    },
    "id": "VIa4P4xKmlca"
   },
   "outputs": [],
   "source": [
    "lista1 = [4,6,3,7,25]\n",
    "lista2 = [34,42,2,1,-40,2]"
   ]
  },
  {
   "cell_type": "code",
   "execution_count": null,
   "metadata": {
    "application/vnd.databricks.v1+cell": {
     "cellMetadata": {},
     "inputWidgets": {},
     "nuid": "94608d3f-c307-4214-bb67-6194426070c6",
     "showTitle": false,
     "title": ""
    },
    "id": "rvDJcp1UmuBy"
   },
   "outputs": [],
   "source": [
    "s1 = pd.Series(lista1)\n",
    "s2 = pd.Series(lista2)"
   ]
  },
  {
   "cell_type": "code",
   "execution_count": null,
   "metadata": {
    "application/vnd.databricks.v1+cell": {
     "cellMetadata": {},
     "inputWidgets": {},
     "nuid": "7f92d8af-aa79-4d6d-b8f3-03e57ebf48bd",
     "showTitle": false,
     "title": ""
    },
    "colab": {
     "base_uri": "https://localhost:8080/"
    },
    "id": "zB6j4Ncjmvep",
    "outputId": "49be954f-c4e2-4e6a-ff9e-7e34b5a41b1b"
   },
   "outputs": [],
   "source": [
    "s1"
   ]
  },
  {
   "cell_type": "code",
   "execution_count": null,
   "metadata": {
    "application/vnd.databricks.v1+cell": {
     "cellMetadata": {},
     "inputWidgets": {},
     "nuid": "e1815799-e942-424d-807e-fe63ca909ee2",
     "showTitle": false,
     "title": ""
    },
    "colab": {
     "base_uri": "https://localhost:8080/"
    },
    "id": "3y_8gHIfmv6p",
    "outputId": "d37eab88-7ccb-4511-9e3e-2f30a8a66610"
   },
   "outputs": [],
   "source": [
    "s2"
   ]
  },
  {
   "cell_type": "code",
   "execution_count": null,
   "metadata": {
    "application/vnd.databricks.v1+cell": {
     "cellMetadata": {},
     "inputWidgets": {},
     "nuid": "8185b7bd-f44e-4497-9f52-0e3c25d85a3a",
     "showTitle": false,
     "title": ""
    },
    "colab": {
     "base_uri": "https://localhost:8080/"
    },
    "id": "scCnqqADmwb5",
    "outputId": "e24c9118-3085-470d-b820-aada66d5e0d8"
   },
   "outputs": [],
   "source": [
    "arr2 = np.array(lista2)"
   ]
  },
  {
   "cell_type": "code",
   "execution_count": null,
   "metadata": {
    "application/vnd.databricks.v1+cell": {
     "cellMetadata": {},
     "inputWidgets": {},
     "nuid": "a56615ae-929f-4de6-be72-fdfa33a6bff9",
     "showTitle": false,
     "title": ""
    }
   },
   "outputs": [],
   "source": [
    "arr2"
   ]
  },
  {
   "cell_type": "code",
   "execution_count": null,
   "metadata": {
    "application/vnd.databricks.v1+cell": {
     "cellMetadata": {},
     "inputWidgets": {},
     "nuid": "aceb7bb3-ee92-444d-bf80-28e943f87ac1",
     "showTitle": false,
     "title": ""
    }
   },
   "outputs": [],
   "source": [
    "arr+arr2"
   ]
  },
  {
   "cell_type": "code",
   "execution_count": null,
   "metadata": {
    "application/vnd.databricks.v1+cell": {
     "cellMetadata": {},
     "inputWidgets": {},
     "nuid": "a534921d-68d1-4cb9-a88c-40101b4231f5",
     "showTitle": false,
     "title": ""
    }
   },
   "outputs": [],
   "source": [
    "s3 = s1+s2\n",
    "s3"
   ]
  },
  {
   "cell_type": "code",
   "execution_count": null,
   "metadata": {
    "application/vnd.databricks.v1+cell": {
     "cellMetadata": {},
     "inputWidgets": {},
     "nuid": "25c50df7-1d96-494f-a6ff-cb483e62107f",
     "showTitle": false,
     "title": ""
    },
    "colab": {
     "base_uri": "https://localhost:8080/"
    },
    "id": "qmTHfb5gmyHS",
    "outputId": "a9d443e8-a423-45ba-b446-d71bebf1ef8d"
   },
   "outputs": [],
   "source": [
    "# Usando a condição lógica como indexação\n",
    "s4 = s2[s2 % 2 == 0]\n",
    "s4"
   ]
  },
  {
   "cell_type": "code",
   "execution_count": null,
   "metadata": {
    "application/vnd.databricks.v1+cell": {
     "cellMetadata": {},
     "inputWidgets": {},
     "nuid": "d033c0d1-58a7-4815-a7d3-d0638bee70bc",
     "showTitle": false,
     "title": ""
    },
    "colab": {
     "base_uri": "https://localhost:8080/"
    },
    "id": "aroqwYFMmzsZ",
    "outputId": "0874f194-0f99-4cbe-b9c8-11833d7c9c7b"
   },
   "outputs": [],
   "source": [
    "# Conseguimos \"resetar o index\"\n",
    "s4.reset_index(drop=True)"
   ]
  },
  {
   "cell_type": "markdown",
   "metadata": {
    "application/vnd.databricks.v1+cell": {
     "cellMetadata": {},
     "inputWidgets": {},
     "nuid": "d1269fe4-27e4-4ef2-bd0f-384970156043",
     "showTitle": false,
     "title": ""
    },
    "id": "JF7qc4-xm4O3"
   },
   "source": [
    "### Dados vazios (NaN)\n",
    "\n",
    "NaN = *not a number*; dado vazio."
   ]
  },
  {
   "cell_type": "code",
   "execution_count": null,
   "metadata": {
    "application/vnd.databricks.v1+cell": {
     "cellMetadata": {},
     "inputWidgets": {},
     "nuid": "2179dc69-7839-413f-9368-d37224db8aa0",
     "showTitle": false,
     "title": ""
    },
    "colab": {
     "base_uri": "https://localhost:8080/"
    },
    "id": "79QE66sWm1np",
    "outputId": "88a2505f-3327-4e34-de38-225c8d5a634d"
   },
   "outputs": [],
   "source": [
    "np.random.seed(42)\n",
    "a1 = np.random.randint(0,100,5)\n",
    "a2 = np.random.randint(20,100,7)"
   ]
  },
  {
   "cell_type": "code",
   "execution_count": null,
   "metadata": {
    "application/vnd.databricks.v1+cell": {
     "cellMetadata": {},
     "inputWidgets": {},
     "nuid": "5748bd1b-895d-4d06-bc5c-70880ab8e41b",
     "showTitle": false,
     "title": ""
    },
    "id": "YaxpYaZVm-wy"
   },
   "outputs": [],
   "source": [
    "a1"
   ]
  },
  {
   "cell_type": "code",
   "execution_count": null,
   "metadata": {
    "application/vnd.databricks.v1+cell": {
     "cellMetadata": {},
     "inputWidgets": {},
     "nuid": "bd075f0c-5ba7-4c6f-8e9c-c36a4e6d8d43",
     "showTitle": false,
     "title": ""
    },
    "colab": {
     "base_uri": "https://localhost:8080/"
    },
    "id": "3D-I-RCFnAai",
    "outputId": "916f2d50-6574-45bd-e9ff-35613f8c72d8"
   },
   "outputs": [],
   "source": [
    "a2"
   ]
  },
  {
   "cell_type": "code",
   "execution_count": null,
   "metadata": {
    "application/vnd.databricks.v1+cell": {
     "cellMetadata": {},
     "inputWidgets": {},
     "nuid": "84e1a145-a23d-4845-abbc-77e325ada153",
     "showTitle": false,
     "title": ""
    },
    "colab": {
     "base_uri": "https://localhost:8080/"
    },
    "id": "FSgXLDlsnBd6",
    "outputId": "cc12ac5a-b5e5-43be-bce4-f012d9be143b"
   },
   "outputs": [],
   "source": [
    "s1 = pd.Series(a1)\n",
    "s2 = pd.Series(a2)"
   ]
  },
  {
   "cell_type": "code",
   "execution_count": null,
   "metadata": {
    "application/vnd.databricks.v1+cell": {
     "cellMetadata": {},
     "inputWidgets": {},
     "nuid": "7d5cc2a1-06af-4ec8-85a9-33d7b022e540",
     "showTitle": false,
     "title": ""
    },
    "colab": {
     "base_uri": "https://localhost:8080/",
     "height": 181
    },
    "id": "hT5e3jaHnB9D",
    "outputId": "d1d4828b-a159-4258-a155-402dbe95b12b"
   },
   "outputs": [],
   "source": [
    "#Somando os arrays\n",
    "a1+a2"
   ]
  },
  {
   "cell_type": "code",
   "execution_count": null,
   "metadata": {
    "application/vnd.databricks.v1+cell": {
     "cellMetadata": {},
     "inputWidgets": {},
     "nuid": "f1c963e1-7021-4520-a448-f0ed52fe9461",
     "showTitle": false,
     "title": ""
    },
    "colab": {
     "base_uri": "https://localhost:8080/"
    },
    "id": "hMgkAZ35nDV_",
    "outputId": "debde501-de3d-49b9-afc8-95b2fcd9a261"
   },
   "outputs": [],
   "source": [
    "#Somando as séries\n",
    "s1+s2"
   ]
  },
  {
   "cell_type": "code",
   "execution_count": null,
   "metadata": {
    "application/vnd.databricks.v1+cell": {
     "cellMetadata": {},
     "inputWidgets": {},
     "nuid": "15f7e0ab-835c-4c80-b640-0363e702a0ef",
     "showTitle": false,
     "title": ""
    },
    "colab": {
     "base_uri": "https://localhost:8080/"
    },
    "id": "4v5huEIQnKni",
    "outputId": "30071c7f-f2f3-40be-b63d-1c955c4b2d4c"
   },
   "outputs": [],
   "source": [
    "# opção para preencher valores nulos: fill_value\n",
    "# preenche com 0, porque 0 é o elemento neutro da soma\n",
    "# outra maneira de somar\n",
    "s1.add(s2,fill_value=0)"
   ]
  },
  {
   "cell_type": "code",
   "execution_count": null,
   "metadata": {
    "application/vnd.databricks.v1+cell": {
     "cellMetadata": {},
     "inputWidgets": {},
     "nuid": "2a4f63e5-e05c-431b-b29c-6e993d3b9aeb",
     "showTitle": false,
     "title": ""
    },
    "colab": {
     "base_uri": "https://localhost:8080/"
    },
    "id": "kNMSrW6FnSdi",
    "outputId": "30c4d51c-834f-4650-86ff-a40201340975"
   },
   "outputs": [],
   "source": [
    "s1*s2"
   ]
  },
  {
   "cell_type": "code",
   "execution_count": null,
   "metadata": {
    "application/vnd.databricks.v1+cell": {
     "cellMetadata": {},
     "inputWidgets": {},
     "nuid": "17151e4e-01a4-40a0-ae07-fdd39f51d6fd",
     "showTitle": false,
     "title": ""
    },
    "colab": {
     "base_uri": "https://localhost:8080/"
    },
    "id": "8QXbC9Y-nUIC",
    "outputId": "22c3354b-18b2-488b-f010-6448aa3e8f71"
   },
   "outputs": [],
   "source": [
    "# elemento neutro é 1\n",
    "s1.multiply(s2,fill_value=1)"
   ]
  },
  {
   "cell_type": "markdown",
   "metadata": {
    "application/vnd.databricks.v1+cell": {
     "cellMetadata": {},
     "inputWidgets": {},
     "nuid": "fded0400-5b4e-4ddf-a512-e7b8666a21fc",
     "showTitle": false,
     "title": ""
    },
    "id": "aH7h9gQQnaSr"
   },
   "source": [
    "E com dados de formatos diferentes?"
   ]
  },
  {
   "cell_type": "code",
   "execution_count": null,
   "metadata": {
    "application/vnd.databricks.v1+cell": {
     "cellMetadata": {},
     "inputWidgets": {},
     "nuid": "272c5688-0948-4c0d-9dc1-78b36559bc93",
     "showTitle": false,
     "title": ""
    },
    "id": "2b58UfcgnVkh"
   },
   "outputs": [],
   "source": [
    "s_texto = pd.Series(['a','b','c'])\n",
    "s_numero = pd.Series([1,2,3])"
   ]
  },
  {
   "cell_type": "code",
   "execution_count": null,
   "metadata": {
    "application/vnd.databricks.v1+cell": {
     "cellMetadata": {},
     "inputWidgets": {},
     "nuid": "3f061cc7-ceca-4957-a13c-ae0ce7cbc687",
     "showTitle": false,
     "title": ""
    },
    "colab": {
     "base_uri": "https://localhost:8080/"
    },
    "id": "Qs-cwYRlnb57",
    "outputId": "01e884cd-f7e9-4b26-9373-b9b43b514a76"
   },
   "outputs": [],
   "source": [
    "s_texto"
   ]
  },
  {
   "cell_type": "code",
   "execution_count": null,
   "metadata": {
    "application/vnd.databricks.v1+cell": {
     "cellMetadata": {},
     "inputWidgets": {},
     "nuid": "2b4a5a51-4914-43eb-8105-a3f5a2012d42",
     "showTitle": false,
     "title": ""
    },
    "colab": {
     "base_uri": "https://localhost:8080/"
    },
    "id": "BeQoPn-jndO6",
    "outputId": "16cb1749-e57f-440d-b32a-3c47ce1e21d6"
   },
   "outputs": [],
   "source": [
    "s_numero"
   ]
  },
  {
   "cell_type": "code",
   "execution_count": null,
   "metadata": {
    "application/vnd.databricks.v1+cell": {
     "cellMetadata": {},
     "inputWidgets": {},
     "nuid": "d042fa59-9031-4873-9960-fb07af8ef9d9",
     "showTitle": false,
     "title": ""
    },
    "colab": {
     "base_uri": "https://localhost:8080/"
    },
    "id": "VtxqxulWneNi",
    "outputId": "c1d84fea-b3e9-46ec-a1f6-413f72a9784f"
   },
   "outputs": [],
   "source": [
    "# Com strings\n",
    "print('a'*1)\n",
    "print('b'*2)\n",
    "print('c'*3)"
   ]
  },
  {
   "cell_type": "code",
   "execution_count": null,
   "metadata": {
    "application/vnd.databricks.v1+cell": {
     "cellMetadata": {},
     "inputWidgets": {},
     "nuid": "cb54f32c-fc79-4612-82f8-e3808dddd906",
     "showTitle": false,
     "title": ""
    },
    "colab": {
     "base_uri": "https://localhost:8080/"
    },
    "id": "fnN8uqQvnfg6",
    "outputId": "afcfb581-6c14-43a4-828f-9c30f9006300"
   },
   "outputs": [],
   "source": [
    "# Mesmo efeito para as séries\n",
    "s_texto*s_numero"
   ]
  },
  {
   "cell_type": "code",
   "execution_count": null,
   "metadata": {
    "application/vnd.databricks.v1+cell": {
     "cellMetadata": {},
     "inputWidgets": {},
     "nuid": "a8cdb98f-2ffe-4a42-93dc-a3723396b926",
     "showTitle": false,
     "title": ""
    },
    "colab": {
     "base_uri": "https://localhost:8080/",
     "height": 200
    },
    "id": "QZ2Juir3ng36",
    "outputId": "9016a04b-e088-40a7-95ff-6bf1ef650102"
   },
   "outputs": [],
   "source": [
    "# Strings\n",
    "'a'+1"
   ]
  },
  {
   "cell_type": "code",
   "execution_count": null,
   "metadata": {
    "application/vnd.databricks.v1+cell": {
     "cellMetadata": {},
     "inputWidgets": {},
     "nuid": "d6da63a6-073e-4cd8-aee3-dd735bcbf010",
     "showTitle": false,
     "title": ""
    },
    "colab": {
     "base_uri": "https://localhost:8080/",
     "height": 461
    },
    "id": "y761shBOniqa",
    "outputId": "3f3db8f4-0850-4b21-8532-8cb231e36002"
   },
   "outputs": [],
   "source": [
    "# Séries\n",
    "s_texto+s_numero"
   ]
  },
  {
   "cell_type": "markdown",
   "metadata": {
    "application/vnd.databricks.v1+cell": {
     "cellMetadata": {},
     "inputWidgets": {},
     "nuid": "a3e45427-d5d2-4545-8f73-d49fceee93d7",
     "showTitle": false,
     "title": ""
    },
    "id": "3f1N7hATnl74"
   },
   "source": [
    "### Filtrando séries\n",
    "\n",
    "Filtros de séries seguem a mesma lógica de numpy arrays."
   ]
  },
  {
   "cell_type": "code",
   "execution_count": null,
   "metadata": {
    "application/vnd.databricks.v1+cell": {
     "cellMetadata": {},
     "inputWidgets": {},
     "nuid": "6fee6ae6-9b63-42d0-83ef-1788cf6f35ea",
     "showTitle": false,
     "title": ""
    },
    "colab": {
     "base_uri": "https://localhost:8080/"
    },
    "id": "vSwGtFE2nj-s",
    "outputId": "45a0ae06-6baf-42ec-aee5-c70babf8883f"
   },
   "outputs": [],
   "source": [
    "s1"
   ]
  },
  {
   "cell_type": "code",
   "execution_count": null,
   "metadata": {
    "application/vnd.databricks.v1+cell": {
     "cellMetadata": {},
     "inputWidgets": {},
     "nuid": "cebdae7d-900e-4e76-a951-bdc2cf5956f8",
     "showTitle": false,
     "title": ""
    },
    "colab": {
     "base_uri": "https://localhost:8080/"
    },
    "id": "LCEHrzhKnrgq",
    "outputId": "f16bd0b9-4311-44d0-8553-132246acd1bf"
   },
   "outputs": [],
   "source": [
    "# filtro da série: quais são os valores da série que satisfazem uma dada condição?\n",
    "s1[s1>15]"
   ]
  },
  {
   "cell_type": "code",
   "execution_count": null,
   "metadata": {
    "application/vnd.databricks.v1+cell": {
     "cellMetadata": {},
     "inputWidgets": {},
     "nuid": "c77c0163-28f8-4657-b877-e991eedac09e",
     "showTitle": false,
     "title": ""
    },
    "colab": {
     "base_uri": "https://localhost:8080/"
    },
    "id": "MiEwPwpSntsi",
    "outputId": "7f0238df-99bd-4d36-a652-482fdfa038c8"
   },
   "outputs": [],
   "source": [
    "#Usando comparações conjuntas (>15 E par)\n",
    "s1[(s1>15) & (s1 %2 == 0)]"
   ]
  },
  {
   "cell_type": "code",
   "execution_count": null,
   "metadata": {
    "application/vnd.databricks.v1+cell": {
     "cellMetadata": {},
     "inputWidgets": {},
     "nuid": "c4290b15-5673-4da3-833b-ecb65df52473",
     "showTitle": false,
     "title": ""
    },
    "colab": {
     "base_uri": "https://localhost:8080/"
    },
    "id": "HP9ZCRNSnycq",
    "outputId": "b8c82592-a293-495b-e5d0-28c9ad2478f3"
   },
   "outputs": [],
   "source": [
    "#Usando comparações conjuntas (>15 OU par)\n",
    "s1[(s1>15) | (s1 %2 == 0)]"
   ]
  },
  {
   "cell_type": "code",
   "execution_count": null,
   "metadata": {
    "application/vnd.databricks.v1+cell": {
     "cellMetadata": {},
     "inputWidgets": {},
     "nuid": "a886e1e4-74aa-45e8-84b0-07a13d5421b8",
     "showTitle": false,
     "title": ""
    },
    "colab": {
     "base_uri": "https://localhost:8080/"
    },
    "id": "x7y1Jkz5n1Fq",
    "outputId": "e6275e0c-6e01-4cad-990e-a5b76bce81fe"
   },
   "outputs": [],
   "source": [
    "#Usando comparações conjuntas (>15 E ímpares)\n",
    "s1[(s1>15) & ~(s1 %2 == 0)]"
   ]
  },
  {
   "cell_type": "code",
   "execution_count": null,
   "metadata": {
    "application/vnd.databricks.v1+cell": {
     "cellMetadata": {},
     "inputWidgets": {},
     "nuid": "e20e05bb-f1fc-4762-8628-59860c407176",
     "showTitle": false,
     "title": ""
    },
    "colab": {
     "base_uri": "https://localhost:8080/"
    },
    "id": "U8Lrf4-jn5YJ",
    "outputId": "2177c0f1-2a4c-4f48-bf92-3c022afc9973"
   },
   "outputs": [],
   "source": [
    "s1[(s1>15) & (s1 %2 != 0)]"
   ]
  },
  {
   "cell_type": "markdown",
   "metadata": {
    "application/vnd.databricks.v1+cell": {
     "cellMetadata": {},
     "inputWidgets": {},
     "nuid": "6b2752e3-978e-41e4-9074-509bd04fe94a",
     "showTitle": false,
     "title": ""
    },
    "id": "uyrSvA1yn9cO"
   },
   "source": [
    "### **Outros métodos úteis**\n",
    "\n",
    "Temos outros métodos interessantes para trabalharmos com séries."
   ]
  },
  {
   "cell_type": "code",
   "execution_count": null,
   "metadata": {
    "application/vnd.databricks.v1+cell": {
     "cellMetadata": {
      "byteLimit": 2048000,
      "rowLimit": 10000
     },
     "inputWidgets": {},
     "nuid": "b8d3b5b6-e4e2-4fa7-a846-acc43db48993",
     "showTitle": false,
     "title": ""
    }
   },
   "outputs": [],
   "source": [
    "import numpy as np"
   ]
  },
  {
   "cell_type": "code",
   "execution_count": null,
   "metadata": {
    "application/vnd.databricks.v1+cell": {
     "cellMetadata": {
      "byteLimit": 2048000,
      "rowLimit": 10000
     },
     "inputWidgets": {},
     "nuid": "a1964631-9372-45e8-ab66-82b6575048d6",
     "showTitle": false,
     "title": ""
    },
    "colab": {
     "base_uri": "https://localhost:8080/"
    },
    "id": "cRvTtU1Vn8x5",
    "outputId": "42c0b2e6-85c8-4c4a-d346-555c36101ad4"
   },
   "outputs": [],
   "source": [
    "np.random.seed(42)\n",
    "notas = pd.Series(np.random.randint(3,10,30))\n",
    "notas"
   ]
  },
  {
   "cell_type": "markdown",
   "metadata": {
    "application/vnd.databricks.v1+cell": {
     "cellMetadata": {},
     "inputWidgets": {},
     "nuid": "1856c8e7-bfb0-4cfa-8a7e-d20c88f7c8c8",
     "showTitle": false,
     "title": ""
    },
    "id": "MLxLEqNrowJF"
   },
   "source": [
    "#### **Métodos Básicos:**\n",
    "\n",
    "- head(): Exibe os primeiros elementos;\n",
    "- tail(): Exibe os últimos elementos;\n",
    "- describe(): Fornece estatísticas descritivas (média, desvio-padrão, mínimo, máximo, etc.);\n",
    "- unique: Retorna os valores únicos na Série;\n",
    "- value_counts(): Conta a frequência de cada valor na Series."
   ]
  },
  {
   "cell_type": "code",
   "execution_count": null,
   "metadata": {
    "application/vnd.databricks.v1+cell": {
     "cellMetadata": {},
     "inputWidgets": {},
     "nuid": "b05fc143-abe9-4fb3-90a1-5ca9ba4b7245",
     "showTitle": false,
     "title": ""
    },
    "colab": {
     "base_uri": "https://localhost:8080/"
    },
    "id": "yCsOs2WppSVq",
    "outputId": "dab49908-930e-4923-d2cd-0d8712ba5dc4"
   },
   "outputs": [],
   "source": [
    "#Ver as primeiras 5 linhas\n",
    "notas.head()"
   ]
  },
  {
   "cell_type": "code",
   "execution_count": null,
   "metadata": {
    "application/vnd.databricks.v1+cell": {
     "cellMetadata": {},
     "inputWidgets": {},
     "nuid": "f6f696b1-5421-491c-b648-255b5d209482",
     "showTitle": false,
     "title": ""
    },
    "colab": {
     "base_uri": "https://localhost:8080/"
    },
    "id": "a6PG5jjQpUL1",
    "outputId": "8493f744-6e5a-4735-e3f9-993a73ec26ff"
   },
   "outputs": [],
   "source": [
    "#Ver as últimas 5 linhas\n",
    "notas.tail()"
   ]
  },
  {
   "cell_type": "code",
   "execution_count": null,
   "metadata": {
    "application/vnd.databricks.v1+cell": {
     "cellMetadata": {},
     "inputWidgets": {},
     "nuid": "dcc3c9d8-c996-4502-b1d3-99a34a970053",
     "showTitle": false,
     "title": ""
    },
    "colab": {
     "base_uri": "https://localhost:8080/"
    },
    "id": "Yso28WRypbQe",
    "outputId": "86a87617-1f14-4050-d397-d270e54d33d2"
   },
   "outputs": [],
   "source": [
    "#Ver a estatística descritiva da série\n",
    "notas.describe()"
   ]
  },
  {
   "cell_type": "code",
   "execution_count": null,
   "metadata": {
    "application/vnd.databricks.v1+cell": {
     "cellMetadata": {},
     "inputWidgets": {},
     "nuid": "c27eaa83-2543-4a5a-a90e-72199a412eff",
     "showTitle": false,
     "title": ""
    },
    "colab": {
     "base_uri": "https://localhost:8080/"
    },
    "id": "fE0XWP3opgTK",
    "outputId": "631ae2ee-3fd5-4698-f259-72cbd014f147"
   },
   "outputs": [],
   "source": [
    "#Ver os valores únicos da série\n",
    "notas.unique()"
   ]
  },
  {
   "cell_type": "code",
   "execution_count": null,
   "metadata": {
    "application/vnd.databricks.v1+cell": {
     "cellMetadata": {},
     "inputWidgets": {},
     "nuid": "0d9b82ac-9022-43dd-96a3-8b42322e97dc",
     "showTitle": false,
     "title": ""
    },
    "colab": {
     "base_uri": "https://localhost:8080/"
    },
    "id": "2m7mEv2qpkCU",
    "outputId": "08b708d5-3954-469f-c819-cb19a6f09873"
   },
   "outputs": [],
   "source": [
    "#Contar a frequência de cada valor na série\n",
    "notas.value_counts()"
   ]
  },
  {
   "cell_type": "code",
   "execution_count": null,
   "metadata": {
    "application/vnd.databricks.v1+cell": {
     "cellMetadata": {},
     "inputWidgets": {},
     "nuid": "e508d532-e07c-49a4-b5e0-7f757d6b6bea",
     "showTitle": false,
     "title": ""
    },
    "colab": {
     "base_uri": "https://localhost:8080/"
    },
    "id": "mcC1znqerkfK",
    "outputId": "8d06ee2c-01d2-490b-8331-799014398c23"
   },
   "outputs": [],
   "source": [
    "#Frequência relativa de cada valor\n",
    "notas.value_counts()/notas.size"
   ]
  },
  {
   "cell_type": "code",
   "execution_count": null,
   "metadata": {
    "application/vnd.databricks.v1+cell": {
     "cellMetadata": {},
     "inputWidgets": {},
     "nuid": "f7d4e430-6a3d-45c4-b3b9-2a758ec82778",
     "showTitle": false,
     "title": ""
    },
    "colab": {
     "base_uri": "https://localhost:8080/"
    },
    "id": "QmHmZfEUrptB",
    "outputId": "ca5f85bb-7fc4-4bf8-b799-b6bc99314304"
   },
   "outputs": [],
   "source": [
    "#Frequência relativa de cada valor\n",
    "notas.value_counts(normalize=True)"
   ]
  },
  {
   "cell_type": "markdown",
   "metadata": {
    "application/vnd.databricks.v1+cell": {
     "cellMetadata": {},
     "inputWidgets": {},
     "nuid": "586e803d-91b5-4881-8bbc-76b1a31e5be1",
     "showTitle": false,
     "title": ""
    },
    "id": "02rOy-2_p8Ws"
   },
   "source": [
    "#### **Método map:**\n",
    "\n",
    "Aplica uma função ou um mapeamento (um dicionário) a todos os elementos da Series."
   ]
  },
  {
   "cell_type": "code",
   "execution_count": null,
   "metadata": {
    "application/vnd.databricks.v1+cell": {
     "cellMetadata": {
      "byteLimit": 2048000,
      "rowLimit": 10000
     },
     "inputWidgets": {},
     "nuid": "985b089b-f414-4413-8fab-5ec07b0dd29b",
     "showTitle": false,
     "title": ""
    }
   },
   "outputs": [],
   "source": [
    "import pandas as pd"
   ]
  },
  {
   "cell_type": "code",
   "execution_count": null,
   "metadata": {
    "application/vnd.databricks.v1+cell": {
     "cellMetadata": {
      "byteLimit": 2048000,
      "rowLimit": 10000
     },
     "inputWidgets": {},
     "nuid": "b051a968-6d66-4e23-bd7f-6169f3f4db9d",
     "showTitle": false,
     "title": ""
    }
   },
   "outputs": [],
   "source": [
    "notas"
   ]
  },
  {
   "cell_type": "code",
   "execution_count": null,
   "metadata": {
    "application/vnd.databricks.v1+cell": {
     "cellMetadata": {
      "byteLimit": 2048000,
      "rowLimit": 10000
     },
     "inputWidgets": {},
     "nuid": "9d19df65-30d4-4722-a681-a365d52ec882",
     "showTitle": false,
     "title": ""
    },
    "colab": {
     "base_uri": "https://localhost:8080/"
    },
    "id": "5p2ZdEAeqAhy",
    "outputId": "a14884d6-f63d-44ec-e3d1-1a05c46f4e2d"
   },
   "outputs": [],
   "source": [
    "#Exemplo dizer se uma nota é par ou ímpar\n",
    "notas.map(lambda x: \"par\" if x%2 == 0 else \"ímpar\")"
   ]
  },
  {
   "cell_type": "code",
   "execution_count": null,
   "metadata": {
    "application/vnd.databricks.v1+cell": {
     "cellMetadata": {
      "byteLimit": 2048000,
      "rowLimit": 10000
     },
     "inputWidgets": {},
     "nuid": "9b01ff75-f757-490c-9c58-468fddffabb7",
     "showTitle": false,
     "title": ""
    },
    "colab": {
     "base_uri": "https://localhost:8080/"
    },
    "id": "MMDBQ1nEqLjq",
    "outputId": "a52a6d20-6cec-45e7-8076-8441607c82fe"
   },
   "outputs": [],
   "source": [
    "# Substitui valores de acordo com um dicionário\n",
    "notas.map({1:'A',2:'B',3:'C'})"
   ]
  },
  {
   "cell_type": "markdown",
   "metadata": {
    "application/vnd.databricks.v1+cell": {
     "cellMetadata": {},
     "inputWidgets": {},
     "nuid": "56c315e8-fbae-4705-b5d2-b84aa68880f8",
     "showTitle": false,
     "title": ""
    },
    "id": "seRbSbKEoLSD"
   },
   "source": [
    "#### **Método apply:**\n",
    "\n",
    "O método apply() em pandas é uma poderosa função que permite aplicar uma função ao longo de um eixo de um DataFrame ou de uma Series.\n",
    "\n",
    "Ele é extremamente versátil e pode ser usado para executar funções personalizadas, funções do Python embutidas (sum, max, min, len, etc.) e funções lambda."
   ]
  },
  {
   "cell_type": "code",
   "execution_count": null,
   "metadata": {
    "application/vnd.databricks.v1+cell": {
     "cellMetadata": {
      "byteLimit": 2048000,
      "rowLimit": 10000
     },
     "inputWidgets": {},
     "nuid": "769ba60f-39b4-410e-be6b-b398ad5a5140",
     "showTitle": false,
     "title": ""
    },
    "colab": {
     "base_uri": "https://localhost:8080/"
    },
    "id": "cLi_rl3BoGuh",
    "outputId": "999f5bcc-bed6-435e-cb76-15a603e06cb9"
   },
   "outputs": [],
   "source": [
    "#Exemplo dizer se uma nota é par ou ímpar\n",
    "notas.apply(lambda x: \"par\" if x%2 == 0 else \"ímpar\")"
   ]
  },
  {
   "cell_type": "code",
   "execution_count": null,
   "metadata": {
    "application/vnd.databricks.v1+cell": {
     "cellMetadata": {
      "byteLimit": 2048000,
      "rowLimit": 10000
     },
     "inputWidgets": {},
     "nuid": "4f7cdd26-3818-4ac7-a45d-ee70dad187a8",
     "showTitle": false,
     "title": ""
    },
    "colab": {
     "base_uri": "https://localhost:8080/"
    },
    "id": "D2Y_wcb2oe3B",
    "outputId": "1957c3d0-caf3-4b40-f312-90d71df4d6c0"
   },
   "outputs": [],
   "source": [
    "notas_aprovado = notas.apply(lambda x: \"aprovado\" if x >= 7 else \"reprovado\")"
   ]
  },
  {
   "cell_type": "code",
   "execution_count": null,
   "metadata": {
    "application/vnd.databricks.v1+cell": {
     "cellMetadata": {
      "byteLimit": 2048000,
      "rowLimit": 10000
     },
     "inputWidgets": {},
     "nuid": "f194c32d-138c-4b2c-9fd4-94518c30a4d2",
     "showTitle": false,
     "title": ""
    }
   },
   "outputs": [],
   "source": [
    "notas_aprovado.values"
   ]
  },
  {
   "cell_type": "code",
   "execution_count": null,
   "metadata": {
    "application/vnd.databricks.v1+cell": {
     "cellMetadata": {
      "byteLimit": 2048000,
      "rowLimit": 10000
     },
     "inputWidgets": {},
     "nuid": "ecc83b48-6663-4817-b14c-fccedfd025c7",
     "showTitle": false,
     "title": ""
    }
   },
   "outputs": [],
   "source": [
    "notas_aprovado.index"
   ]
  },
  {
   "cell_type": "markdown",
   "metadata": {
    "application/vnd.databricks.v1+cell": {
     "cellMetadata": {},
     "inputWidgets": {},
     "nuid": "6ff7e30f-3c63-45fe-a7db-999a7894f6e1",
     "showTitle": false,
     "title": ""
    },
    "id": "CdqNUdC6qXmN"
   },
   "source": [
    "#### **sort_values:**\n",
    "\n",
    "Classifica os valores na Series."
   ]
  },
  {
   "cell_type": "code",
   "execution_count": null,
   "metadata": {
    "application/vnd.databricks.v1+cell": {
     "cellMetadata": {
      "byteLimit": 2048000,
      "rowLimit": 10000
     },
     "inputWidgets": {},
     "nuid": "05545480-7244-4022-8a6d-3edecccc99fc",
     "showTitle": false,
     "title": ""
    },
    "colab": {
     "base_uri": "https://localhost:8080/"
    },
    "id": "YW-GTXYpohLg",
    "outputId": "db61c80c-d747-4d14-ad40-f513c43c028a"
   },
   "outputs": [],
   "source": [
    "notas.sort_values(inplace=True)"
   ]
  },
  {
   "cell_type": "code",
   "execution_count": null,
   "metadata": {
    "application/vnd.databricks.v1+cell": {
     "cellMetadata": {
      "byteLimit": 2048000,
      "rowLimit": 10000
     },
     "inputWidgets": {},
     "nuid": "b4c8195c-9672-406a-8445-5e038d1ba6df",
     "showTitle": false,
     "title": ""
    }
   },
   "outputs": [],
   "source": [
    "notas"
   ]
  },
  {
   "cell_type": "markdown",
   "metadata": {
    "application/vnd.databricks.v1+cell": {
     "cellMetadata": {},
     "inputWidgets": {},
     "nuid": "9da0921b-6778-4766-9b38-d5c32dbaa9f3",
     "showTitle": false,
     "title": ""
    },
    "id": "63wxyzcMqgVy"
   },
   "source": [
    "Podemos colocar o ```inplace = True``` para garantir que a mudança foi feita na própria série."
   ]
  },
  {
   "cell_type": "markdown",
   "metadata": {
    "application/vnd.databricks.v1+cell": {
     "cellMetadata": {},
     "inputWidgets": {},
     "nuid": "5f254258-ddf7-43e3-afb5-2408e9ca7ce3",
     "showTitle": false,
     "title": ""
    },
    "id": "i3fCkB2Vqtep"
   },
   "source": [
    "#### **sort_index:**\n",
    "\n",
    "Classifica pelos índices da Series."
   ]
  },
  {
   "cell_type": "code",
   "execution_count": null,
   "metadata": {
    "application/vnd.databricks.v1+cell": {
     "cellMetadata": {
      "byteLimit": 2048000,
      "rowLimit": 10000
     },
     "inputWidgets": {},
     "nuid": "5af15d0f-10f4-486d-8512-4d6a61fffd26",
     "showTitle": false,
     "title": ""
    },
    "colab": {
     "base_uri": "https://localhost:8080/"
    },
    "id": "RUstuvHFqcYI",
    "outputId": "196d06ed-0cec-4624-b71d-4931d8ac3a77"
   },
   "outputs": [],
   "source": [
    "notas.sort_index(inplace=True)"
   ]
  },
  {
   "cell_type": "code",
   "execution_count": null,
   "metadata": {
    "application/vnd.databricks.v1+cell": {
     "cellMetadata": {
      "byteLimit": 2048000,
      "rowLimit": 10000
     },
     "inputWidgets": {},
     "nuid": "75674b11-129e-4073-a63e-1d5b98fe864f",
     "showTitle": false,
     "title": ""
    }
   },
   "outputs": [],
   "source": [
    "notas"
   ]
  },
  {
   "cell_type": "markdown",
   "metadata": {
    "application/vnd.databricks.v1+cell": {
     "cellMetadata": {},
     "inputWidgets": {},
     "nuid": "9731c636-3102-491f-962d-aa693858c82e",
     "showTitle": false,
     "title": ""
    },
    "id": "NyZTXuyHq7rE"
   },
   "source": [
    "#### Métodos de Estatística:\n",
    "\n",
    "Existem diferentes métodos, tais como mean(), median(), std(), var(), sum(): Calculam a média, mediana, desvio padrão, variância e soma dos elementos da Series, respectivamente."
   ]
  },
  {
   "cell_type": "code",
   "execution_count": null,
   "metadata": {
    "application/vnd.databricks.v1+cell": {
     "cellMetadata": {
      "byteLimit": 2048000,
      "rowLimit": 10000
     },
     "inputWidgets": {},
     "nuid": "bd9115bf-8430-4d7d-b62d-7762b70ffcb7",
     "showTitle": false,
     "title": ""
    },
    "colab": {
     "base_uri": "https://localhost:8080/"
    },
    "id": "Pm0rb39hq0MY",
    "outputId": "cc332e85-f76e-447f-9b4b-dfdba7c29e02"
   },
   "outputs": [],
   "source": [
    "#Calculando a média das notas\n",
    "notas.mean()"
   ]
  },
  {
   "cell_type": "code",
   "execution_count": null,
   "metadata": {
    "application/vnd.databricks.v1+cell": {
     "cellMetadata": {
      "byteLimit": 2048000,
      "rowLimit": 10000
     },
     "inputWidgets": {},
     "nuid": "dce03512-4653-4a78-ba46-641014b1245e",
     "showTitle": false,
     "title": ""
    },
    "colab": {
     "base_uri": "https://localhost:8080/"
    },
    "id": "7igNNtd3rDug",
    "outputId": "cba99229-5740-42a3-b874-1f74f08f6a1f"
   },
   "outputs": [],
   "source": [
    "#Calculando a mediana das notas\n",
    "notas.median()"
   ]
  },
  {
   "cell_type": "code",
   "execution_count": null,
   "metadata": {
    "application/vnd.databricks.v1+cell": {
     "cellMetadata": {
      "byteLimit": 2048000,
      "rowLimit": 10000
     },
     "inputWidgets": {},
     "nuid": "ebc6f15a-9544-4655-90e0-5f8979dcbab5",
     "showTitle": false,
     "title": ""
    },
    "colab": {
     "base_uri": "https://localhost:8080/"
    },
    "id": "rooZhCjSrF_J",
    "outputId": "b338da23-2000-440b-c49e-870ff7a421a4"
   },
   "outputs": [],
   "source": [
    "#Calculando a moda das notas\n",
    "notas.mode()"
   ]
  },
  {
   "cell_type": "code",
   "execution_count": null,
   "metadata": {
    "application/vnd.databricks.v1+cell": {
     "cellMetadata": {
      "byteLimit": 2048000,
      "rowLimit": 10000
     },
     "inputWidgets": {},
     "nuid": "1b779db6-8259-4de7-bb82-6490bc261c6f",
     "showTitle": false,
     "title": ""
    },
    "colab": {
     "base_uri": "https://localhost:8080/"
    },
    "id": "mNmvqWOGrHmZ",
    "outputId": "84b9191e-f48d-4c69-c3c7-b299b66a2956"
   },
   "outputs": [],
   "source": [
    "#Calculando o desvio-padrão das notas\n",
    "notas.std()"
   ]
  },
  {
   "cell_type": "code",
   "execution_count": null,
   "metadata": {
    "application/vnd.databricks.v1+cell": {
     "cellMetadata": {
      "byteLimit": 2048000,
      "rowLimit": 10000
     },
     "inputWidgets": {},
     "nuid": "36de3b15-d191-4297-a910-05f84e44ff87",
     "showTitle": false,
     "title": ""
    },
    "colab": {
     "base_uri": "https://localhost:8080/"
    },
    "id": "28V6lOe_rKeI",
    "outputId": "43f7f9c9-051b-4721-ccff-e7983ae9d9c5"
   },
   "outputs": [],
   "source": [
    "#Calculando a variância\n",
    "notas.var()"
   ]
  },
  {
   "cell_type": "code",
   "execution_count": null,
   "metadata": {
    "application/vnd.databricks.v1+cell": {
     "cellMetadata": {
      "byteLimit": 2048000,
      "rowLimit": 10000
     },
     "inputWidgets": {},
     "nuid": "529445bb-b9e8-4bc9-9978-dd0dceb3bc5c",
     "showTitle": false,
     "title": ""
    },
    "colab": {
     "base_uri": "https://localhost:8080/"
    },
    "id": "JN0ix83erNYR",
    "outputId": "b2aa2527-1f82-4ac7-b7bf-6a5384032234"
   },
   "outputs": [],
   "source": [
    "#Somando todos os valores\n",
    "notas.sum()"
   ]
  },
  {
   "cell_type": "code",
   "execution_count": null,
   "metadata": {
    "application/vnd.databricks.v1+cell": {
     "cellMetadata": {
      "byteLimit": 2048000,
      "rowLimit": 10000
     },
     "inputWidgets": {},
     "nuid": "bd8872e6-c21f-4cc9-b035-92431dd15578",
     "showTitle": false,
     "title": ""
    }
   },
   "outputs": [],
   "source": [
    "notas**0.5"
   ]
  },
  {
   "cell_type": "markdown",
   "metadata": {
    "application/vnd.databricks.v1+cell": {
     "cellMetadata": {},
     "inputWidgets": {},
     "nuid": "6ad56a27-57d0-4222-a199-79d7f5496fb9",
     "showTitle": false,
     "title": ""
    },
    "id": "bhtWcnjOr1Ps"
   },
   "source": [
    "Existem também os métodos **idxmax()** e **idxmin()** que retornam o índice onde o valor máximo ou mínimo ocorre na série."
   ]
  },
  {
   "cell_type": "code",
   "execution_count": null,
   "metadata": {
    "application/vnd.databricks.v1+cell": {
     "cellMetadata": {
      "byteLimit": 2048000,
      "rowLimit": 10000
     },
     "inputWidgets": {},
     "nuid": "00c80072-7f5d-42f1-b8f3-a932016d5d3d",
     "showTitle": false,
     "title": ""
    },
    "colab": {
     "base_uri": "https://localhost:8080/"
    },
    "id": "BVvrLaqorQuh",
    "outputId": "01f8b7df-bbfb-4f02-9026-50f0bfa1ea86"
   },
   "outputs": [],
   "source": [
    "notas.idxmax()"
   ]
  },
  {
   "cell_type": "code",
   "execution_count": null,
   "metadata": {
    "application/vnd.databricks.v1+cell": {
     "cellMetadata": {
      "byteLimit": 2048000,
      "rowLimit": 10000
     },
     "inputWidgets": {},
     "nuid": "47145b22-4b61-406f-b327-048f1d8cad7c",
     "showTitle": false,
     "title": ""
    },
    "colab": {
     "base_uri": "https://localhost:8080/"
    },
    "id": "Rul3aq8TsAgA",
    "outputId": "1402bd90-7bb9-46ac-8ac6-7b63f99bc95f"
   },
   "outputs": [],
   "source": [
    "notas.idxmin()"
   ]
  },
  {
   "cell_type": "markdown",
   "metadata": {
    "application/vnd.databricks.v1+cell": {
     "cellMetadata": {},
     "inputWidgets": {},
     "nuid": "313968e6-917e-4af2-8574-b1a57acdd769",
     "showTitle": false,
     "title": ""
    },
    "id": "U7l0HrYpsDlD"
   },
   "source": [
    "Podemos ainda calcular a soma cumulativa **cumsum()** e o produto cumulativo **cumprod()**:"
   ]
  },
  {
   "cell_type": "code",
   "execution_count": null,
   "metadata": {
    "application/vnd.databricks.v1+cell": {
     "cellMetadata": {
      "byteLimit": 2048000,
      "rowLimit": 10000
     },
     "inputWidgets": {},
     "nuid": "29a11761-e7a8-48a5-a3a4-8abf1eb27911",
     "showTitle": false,
     "title": ""
    },
    "colab": {
     "base_uri": "https://localhost:8080/"
    },
    "id": "93Yg_6iqsCAv",
    "outputId": "858c86ba-b7e3-4639-ee00-3174cca4a2ff"
   },
   "outputs": [],
   "source": [
    "notas.cumsum()"
   ]
  },
  {
   "cell_type": "code",
   "execution_count": null,
   "metadata": {
    "application/vnd.databricks.v1+cell": {
     "cellMetadata": {
      "byteLimit": 2048000,
      "rowLimit": 10000
     },
     "inputWidgets": {},
     "nuid": "d917427e-4c02-412e-bbbb-45dd6c08267a",
     "showTitle": false,
     "title": ""
    },
    "colab": {
     "base_uri": "https://localhost:8080/"
    },
    "id": "cX32mqPtsMJI",
    "outputId": "26421fd5-891d-40de-a9c9-a1228e2caca2"
   },
   "outputs": [],
   "source": [
    "notas.cumprod()"
   ]
  },
  {
   "cell_type": "markdown",
   "metadata": {
    "application/vnd.databricks.v1+cell": {
     "cellMetadata": {},
     "inputWidgets": {},
     "nuid": "c588ee61-cbb0-4865-881c-cd12dc9f6026",
     "showTitle": false,
     "title": ""
    },
    "id": "6RE-I785t41n"
   },
   "source": [
    "## **DataFrame**\n",
    "\n",
    "Agora que conhecemos as séries, vamos partir pro objeto do Pandas que mais utilizaremos: o **DataFrame**\n",
    "\n",
    "Como veremos a seguir, o DataFrame é uma estrutura que se assemalha a uma **tabela**.\n",
    "\n",
    "Estruturalmente, o DataFrame nada mais é que um **conjunto de Series**, uma para cada coluna (e, claro, com mesmo índice, que irão indexar as linhas)."
   ]
  },
  {
   "cell_type": "markdown",
   "metadata": {
    "application/vnd.databricks.v1+cell": {
     "cellMetadata": {},
     "inputWidgets": {},
     "nuid": "3131f803-2c90-492e-8ad1-578c55905e32",
     "showTitle": false,
     "title": ""
    },
    "id": "JqJuWXiht_rN"
   },
   "source": [
    "Veremos depois como **ler um dataframe a partir de um arquivo** (que é provavelmente a forma mais comum)."
   ]
  },
  {
   "cell_type": "markdown",
   "metadata": {
    "application/vnd.databricks.v1+cell": {
     "cellMetadata": {},
     "inputWidgets": {},
     "nuid": "06283804-1399-4df0-96aa-b52cbb3c276e",
     "showTitle": false,
     "title": ""
    },
    "id": "21KL7W-XuBQv"
   },
   "source": [
    "Há muitas formas de construir um DataFrame do zero. Todas elas fazem uso da função **pd.DataFrame()**, como veremos a seguir.\n",
    "\n",
    "Se quisermos especificar os índices de linha, o nome das colunas, e os dados, podemos passá-los separadamente:"
   ]
  },
  {
   "cell_type": "markdown",
   "metadata": {
    "application/vnd.databricks.v1+cell": {
     "cellMetadata": {},
     "inputWidgets": {},
     "nuid": "4b804b59-c779-47bf-94e6-2ccf4cff9278",
     "showTitle": false,
     "title": ""
    },
    "id": "A34biDMfuEiS"
   },
   "source": [
    "**Obs.:** As colunas do dataframes são séries. Assim, tudo que vimos para as séries, se estende individualmente para cada coluna!"
   ]
  },
  {
   "cell_type": "code",
   "execution_count": null,
   "metadata": {
    "application/vnd.databricks.v1+cell": {
     "cellMetadata": {
      "byteLimit": 2048000,
      "rowLimit": 10000
     },
     "inputWidgets": {},
     "nuid": "153de395-a294-4e74-8b00-add13166a7d6",
     "showTitle": false,
     "title": ""
    },
    "colab": {
     "base_uri": "https://localhost:8080/"
    },
    "id": "Ng5aQZ-8sPYY",
    "outputId": "486d531a-efeb-4908-fbe1-f0ab8d6a558a"
   },
   "outputs": [],
   "source": [
    "# Gerando uma matriz (5,3) de números inteiros\n",
    "np.random.seed(42)\n",
    "\n",
    "matriz = np.random.randint(-100,100,(5,3))\n",
    "matriz"
   ]
  },
  {
   "cell_type": "code",
   "execution_count": null,
   "metadata": {
    "application/vnd.databricks.v1+cell": {
     "cellMetadata": {
      "byteLimit": 2048000,
      "rowLimit": 10000
     },
     "inputWidgets": {},
     "nuid": "e797bc41-55ca-4579-84d5-b94e2598950f",
     "showTitle": false,
     "title": ""
    },
    "colab": {
     "base_uri": "https://localhost:8080/",
     "height": 206
    },
    "id": "iNA7FOz9uYGH",
    "outputId": "c55c79cb-b8a6-4ee8-a461-f9e7ebd993bb"
   },
   "outputs": [],
   "source": [
    "#Transformando essa matriz em um DF\n",
    "pd.DataFrame(matriz)"
   ]
  },
  {
   "cell_type": "code",
   "execution_count": null,
   "metadata": {
    "application/vnd.databricks.v1+cell": {
     "cellMetadata": {
      "byteLimit": 2048000,
      "rowLimit": 10000
     },
     "inputWidgets": {},
     "nuid": "c204ff22-c47b-46ce-92e0-15e35661fba0",
     "showTitle": false,
     "title": ""
    },
    "id": "Dk812cRXubYu"
   },
   "outputs": [],
   "source": [
    "# Conseguimos definir nomes pros índices e colunas\n",
    "df_nomes_linhas = pd.DataFrame(matriz,\n",
    "                               index = ['obs1','obs2','obs3','obs4','obs5'],\n",
    "                               columns=['Variável1','Variável2','Variável3'])"
   ]
  },
  {
   "cell_type": "code",
   "execution_count": null,
   "metadata": {
    "application/vnd.databricks.v1+cell": {
     "cellMetadata": {
      "byteLimit": 2048000,
      "rowLimit": 10000
     },
     "inputWidgets": {},
     "nuid": "9d6f25f5-626d-4baa-bcef-dbfb307c7d83",
     "showTitle": false,
     "title": ""
    },
    "colab": {
     "base_uri": "https://localhost:8080/",
     "height": 206
    },
    "id": "lWusnJfrueo-",
    "outputId": "a154e233-6503-4728-95dd-a465f8af6241"
   },
   "outputs": [],
   "source": [
    "df_nomes_linhas"
   ]
  },
  {
   "cell_type": "markdown",
   "metadata": {
    "application/vnd.databricks.v1+cell": {
     "cellMetadata": {},
     "inputWidgets": {},
     "nuid": "d30f9e95-1d00-487a-ac67-586f15b9f4db",
     "showTitle": false,
     "title": ""
    },
    "id": "9OOrgk03uh_Y"
   },
   "source": [
    "### **Acessando posições do dataframe:**\n",
    "\n",
    "- .loc(): acessamos os rótulos com os **nomes** dos índices e colunas;\n",
    "- .iloc(): acessamos os índices numéricos das colunas e índice."
   ]
  },
  {
   "cell_type": "code",
   "execution_count": null,
   "metadata": {
    "application/vnd.databricks.v1+cell": {
     "cellMetadata": {
      "byteLimit": 2048000,
      "rowLimit": 10000
     },
     "inputWidgets": {},
     "nuid": "c445d82a-0544-47d7-b9b2-1e74efc7f45f",
     "showTitle": false,
     "title": ""
    },
    "colab": {
     "base_uri": "https://localhost:8080/"
    },
    "id": "lfrlW9_qugP_",
    "outputId": "9888f06a-a333-4867-b136-1f9390373003"
   },
   "outputs": [],
   "source": [
    "df_nomes_linhas.loc['obs4','Variável2']"
   ]
  },
  {
   "cell_type": "code",
   "execution_count": null,
   "metadata": {
    "application/vnd.databricks.v1+cell": {
     "cellMetadata": {
      "byteLimit": 2048000,
      "rowLimit": 10000
     },
     "inputWidgets": {},
     "nuid": "30579e26-db2e-4349-be90-d3f9675a47c3",
     "showTitle": false,
     "title": ""
    },
    "colab": {
     "base_uri": "https://localhost:8080/"
    },
    "id": "V3I-qbGvwiS1",
    "outputId": "4fcb2bb6-2fd0-4040-d64a-4221ea7c0721"
   },
   "outputs": [],
   "source": [
    "df_nomes_linhas.iloc[3,1]"
   ]
  },
  {
   "cell_type": "markdown",
   "metadata": {
    "application/vnd.databricks.v1+cell": {
     "cellMetadata": {},
     "inputWidgets": {},
     "nuid": "433ef820-8cac-419b-b3ec-ae8a5b41a858",
     "showTitle": false,
     "title": ""
    },
    "id": "BUeV0OtDwk7s"
   },
   "source": [
    "### **Selecionando colunas específicas:**\n",
    "\n",
    "Podemos selecionar uma coluna específica ou colunas específicas do DF."
   ]
  },
  {
   "cell_type": "code",
   "execution_count": null,
   "metadata": {
    "application/vnd.databricks.v1+cell": {
     "cellMetadata": {
      "byteLimit": 2048000,
      "rowLimit": 10000
     },
     "inputWidgets": {},
     "nuid": "04ce4a87-7eca-4fd7-b4b7-9e7410487d1a",
     "showTitle": false,
     "title": ""
    },
    "colab": {
     "base_uri": "https://localhost:8080/"
    },
    "id": "mBJoUzxywjo1",
    "outputId": "d73b9364-529a-4dd7-ee51-201c88c847ae"
   },
   "outputs": [],
   "source": [
    "df_nomes_linhas['Variável3']"
   ]
  },
  {
   "cell_type": "code",
   "execution_count": null,
   "metadata": {
    "application/vnd.databricks.v1+cell": {
     "cellMetadata": {
      "byteLimit": 2048000,
      "rowLimit": 10000
     },
     "inputWidgets": {},
     "nuid": "b391d46f-b231-4a05-b934-2d211967d584",
     "showTitle": false,
     "title": ""
    },
    "colab": {
     "base_uri": "https://localhost:8080/",
     "height": 206
    },
    "id": "knOgXK-Awr5e",
    "outputId": "8f01a2c9-b1b7-4b01-9f46-d26b22112061"
   },
   "outputs": [],
   "source": [
    "df_nomes_linhas[['Variável1','Variável3']]"
   ]
  },
  {
   "cell_type": "code",
   "execution_count": null,
   "metadata": {
    "application/vnd.databricks.v1+cell": {
     "cellMetadata": {
      "byteLimit": 2048000,
      "rowLimit": 10000
     },
     "inputWidgets": {},
     "nuid": "54b06ea6-3a02-4a57-8af1-c11ade8d63c4",
     "showTitle": false,
     "title": ""
    },
    "colab": {
     "base_uri": "https://localhost:8080/"
    },
    "id": "e5bgnvnFwv6d",
    "outputId": "d7c94a5a-f73b-49b9-a735-52e80041bfc9"
   },
   "outputs": [],
   "source": [
    "df_nomes_linhas.loc[:,'Variável3']"
   ]
  },
  {
   "cell_type": "code",
   "execution_count": null,
   "metadata": {
    "application/vnd.databricks.v1+cell": {
     "cellMetadata": {
      "byteLimit": 2048000,
      "rowLimit": 10000
     },
     "inputWidgets": {},
     "nuid": "725dd24a-cd6a-44f2-a5a2-8507b3b4092c",
     "showTitle": false,
     "title": ""
    }
   },
   "outputs": [],
   "source": [
    "df_nomes_linhas.iloc[:,2]"
   ]
  },
  {
   "cell_type": "code",
   "execution_count": null,
   "metadata": {
    "application/vnd.databricks.v1+cell": {
     "cellMetadata": {
      "byteLimit": 2048000,
      "rowLimit": 10000
     },
     "inputWidgets": {},
     "nuid": "35b6fde3-ee3f-4b0d-929a-ce10d14a7039",
     "showTitle": false,
     "title": ""
    },
    "id": "tzNFYRlvx061"
   },
   "outputs": [],
   "source": [
    "# Atribuição de valores\n",
    "df_nomes_linhas['Variável3'][1] = 42"
   ]
  },
  {
   "cell_type": "code",
   "execution_count": null,
   "metadata": {
    "application/vnd.databricks.v1+cell": {
     "cellMetadata": {
      "byteLimit": 2048000,
      "rowLimit": 10000
     },
     "inputWidgets": {},
     "nuid": "426f378c-8b04-44d0-87ca-eab51bdba006",
     "showTitle": false,
     "title": ""
    },
    "colab": {
     "base_uri": "https://localhost:8080/",
     "height": 206
    },
    "id": "h9aA9iz-x4pN",
    "outputId": "6567ef49-75fd-4617-f99f-ace6d0a24435"
   },
   "outputs": [],
   "source": [
    "df_nomes_linhas"
   ]
  },
  {
   "cell_type": "markdown",
   "metadata": {
    "application/vnd.databricks.v1+cell": {
     "cellMetadata": {},
     "inputWidgets": {},
     "nuid": "c9e6afe6-86e0-46a8-bd40-341bdb5e913d",
     "showTitle": false,
     "title": ""
    },
    "id": "lIOp7GCox8I2"
   },
   "source": [
    "As colunas do dataframe são séries. Assim, tudo que vimos para as séries, se estende individualmente para cada coluna!"
   ]
  },
  {
   "cell_type": "code",
   "execution_count": null,
   "metadata": {
    "application/vnd.databricks.v1+cell": {
     "cellMetadata": {
      "byteLimit": 2048000,
      "rowLimit": 10000
     },
     "inputWidgets": {},
     "nuid": "5a515891-6647-4b7c-800e-5a8495dc8384",
     "showTitle": false,
     "title": ""
    },
    "colab": {
     "base_uri": "https://localhost:8080/"
    },
    "id": "SOSs62ECx5s9",
    "outputId": "2f9fb093-1831-4d6c-d969-3b7396502ac0"
   },
   "outputs": [],
   "source": [
    "df_nomes_linhas['Variável1']"
   ]
  },
  {
   "cell_type": "code",
   "execution_count": null,
   "metadata": {
    "application/vnd.databricks.v1+cell": {
     "cellMetadata": {
      "byteLimit": 2048000,
      "rowLimit": 10000
     },
     "inputWidgets": {},
     "nuid": "842db040-ab8c-4cc0-9384-b9356e7675fd",
     "showTitle": false,
     "title": ""
    },
    "colab": {
     "base_uri": "https://localhost:8080/"
    },
    "id": "a8pCgswJx9sV",
    "outputId": "ecb2100c-a628-4a6a-e070-b8ae443fa3ae"
   },
   "outputs": [],
   "source": [
    "resultado = df_nomes_linhas['Variável1'] + 10\n",
    "resultado"
   ]
  },
  {
   "cell_type": "markdown",
   "metadata": {
    "application/vnd.databricks.v1+cell": {
     "cellMetadata": {},
     "inputWidgets": {},
     "nuid": "6441591e-2d4a-4776-a19c-567e2bbc0393",
     "showTitle": false,
     "title": ""
    }
   },
   "source": [
    "### Outros métodos para DataFrames\n",
    "\n",
    "Como uma coluna de um DF é uma Série, a maioria dos métodos vistos anteriormente, são também aplicados aos DF.\n",
    "- head(), tail(), describe(), shape, iloc[], set_index()\n",
    "\n",
    "Outros nós veremos com mais detalhes na próxima aula. Contudo, há 2 que trazem informações sobre nosso DF: info() e dtypes.\n"
   ]
  },
  {
   "cell_type": "code",
   "execution_count": null,
   "metadata": {
    "application/vnd.databricks.v1+cell": {
     "cellMetadata": {
      "byteLimit": 2048000,
      "rowLimit": 10000
     },
     "inputWidgets": {},
     "nuid": "ca1e4aa6-71cf-48e1-8bfb-4115f06a6668",
     "showTitle": false,
     "title": ""
    }
   },
   "outputs": [],
   "source": [
    "df_nomes_linhas.info()"
   ]
  },
  {
   "cell_type": "code",
   "execution_count": null,
   "metadata": {
    "application/vnd.databricks.v1+cell": {
     "cellMetadata": {
      "byteLimit": 2048000,
      "rowLimit": 10000
     },
     "inputWidgets": {},
     "nuid": "5a2fa4fc-bf78-4c45-b14e-daa1bd8e2983",
     "showTitle": false,
     "title": ""
    }
   },
   "outputs": [],
   "source": [
    "df_nomes_linhas.dtypes"
   ]
  },
  {
   "cell_type": "markdown",
   "metadata": {
    "application/vnd.databricks.v1+cell": {
     "cellMetadata": {},
     "inputWidgets": {},
     "nuid": "6b1d7aec-344a-46cc-8e66-66be4310f1b4",
     "showTitle": false,
     "title": ""
    }
   },
   "source": [
    "Podemos ainda, trocar o tipo de alguma variável. Exemplo, trocar as variáveis de Prova (notas) para numéricos."
   ]
  },
  {
   "cell_type": "code",
   "execution_count": null,
   "metadata": {
    "application/vnd.databricks.v1+cell": {
     "cellMetadata": {
      "byteLimit": 2048000,
      "rowLimit": 10000
     },
     "inputWidgets": {},
     "nuid": "0801b619-82a4-4e96-a9c0-74fc548af0ee",
     "showTitle": false,
     "title": ""
    }
   },
   "outputs": [],
   "source": [
    "df_alunos = pd.read_csv(\"../datasets/alunos2.csv\",sep=\";\",decimal=\",\")"
   ]
  },
  {
   "cell_type": "code",
   "execution_count": null,
   "metadata": {
    "application/vnd.databricks.v1+cell": {
     "cellMetadata": {
      "byteLimit": 2048000,
      "rowLimit": 10000
     },
     "inputWidgets": {},
     "nuid": "39f3368f-e3d8-4690-97fc-6c0f46bfa057",
     "showTitle": false,
     "title": ""
    }
   },
   "outputs": [],
   "source": [
    "df_alunos.info()"
   ]
  },
  {
   "cell_type": "code",
   "execution_count": null,
   "metadata": {
    "application/vnd.databricks.v1+cell": {
     "cellMetadata": {
      "byteLimit": 2048000,
      "rowLimit": 10000
     },
     "inputWidgets": {},
     "nuid": "53b505f3-3ace-4477-b58d-ef96f51b7a90",
     "showTitle": false,
     "title": ""
    }
   },
   "outputs": [],
   "source": [
    "df_alunos[['Prova_1','Prova_2','Prova_3']] = df_alunos[['Prova_1','Prova_2','Prova_3']].astype('float64')"
   ]
  },
  {
   "cell_type": "code",
   "execution_count": null,
   "metadata": {
    "application/vnd.databricks.v1+cell": {
     "cellMetadata": {
      "byteLimit": 2048000,
      "rowLimit": 10000
     },
     "inputWidgets": {},
     "nuid": "2bb67539-6f53-400a-8dff-280029602366",
     "showTitle": false,
     "title": ""
    }
   },
   "outputs": [],
   "source": [
    "df_alunos.info()"
   ]
  },
  {
   "cell_type": "markdown",
   "metadata": {
    "application/vnd.databricks.v1+cell": {
     "cellMetadata": {},
     "inputWidgets": {},
     "nuid": "3079a070-e177-4500-904a-8245050d1364",
     "showTitle": false,
     "title": ""
    },
    "id": "RPkcARqDyCHt"
   },
   "source": [
    "## Lendo e escrevendo conjuntos de dados com pandas\n",
    "\n",
    "A forma mais comum de se construir um dataframe é a partir da **leitura de um arquivo**\n",
    "\n",
    "Em geral, queremos ler arquivos já estruturados como base de dados, em formatos como .csv, .xls, .xlsx, .ods, .txt, .json, etc.\n",
    "\n",
    "O pandas é capaz de ler todos esses formatos, com funções específicas!"
   ]
  },
  {
   "cell_type": "markdown",
   "metadata": {
    "application/vnd.databricks.v1+cell": {
     "cellMetadata": {},
     "inputWidgets": {},
     "nuid": "993e5d4a-8658-420b-a26b-dc193fb4bac8",
     "showTitle": false,
     "title": ""
    },
    "id": "jLUObcD4Op3I"
   },
   "source": [
    "### Arquivos CSV\n",
    "\n",
    "https://pandas.pydata.org/pandas-docs/stable/reference/api/pandas.read_csv.html"
   ]
  },
  {
   "cell_type": "markdown",
   "metadata": {
    "application/vnd.databricks.v1+cell": {
     "cellMetadata": {},
     "inputWidgets": {},
     "nuid": "1981576a-2e60-4d85-a262-0bf8eeddc820",
     "showTitle": false,
     "title": ""
    },
    "id": "rsOtTF-EOvkH"
   },
   "source": [
    "Vamos criar um dataframe usando pandas com os dados do arquivo `alunos.csv`."
   ]
  },
  {
   "cell_type": "code",
   "execution_count": null,
   "metadata": {
    "application/vnd.databricks.v1+cell": {
     "cellMetadata": {
      "byteLimit": 2048000,
      "rowLimit": 10000
     },
     "inputWidgets": {},
     "nuid": "a4ce3a7d-9b9e-4782-a52b-45fa0ae58d12",
     "showTitle": false,
     "title": ""
    }
   },
   "outputs": [],
   "source": [
    "import pandas as pd"
   ]
  },
  {
   "cell_type": "code",
   "execution_count": null,
   "metadata": {
    "application/vnd.databricks.v1+cell": {
     "cellMetadata": {
      "byteLimit": 2048000,
      "rowLimit": 10000
     },
     "inputWidgets": {},
     "nuid": "b9c85d70-bac2-45a4-9077-5f48b38ad604",
     "showTitle": false,
     "title": ""
    },
    "id": "Uqt48sx-x_Nd"
   },
   "outputs": [],
   "source": [
    "# Lendo um arquivo CSV e criando um DataFrame\n",
    "df_alunos = pd.read_csv('../datasets/alunos.csv',sep=';')"
   ]
  },
  {
   "cell_type": "code",
   "execution_count": null,
   "metadata": {
    "application/vnd.databricks.v1+cell": {
     "cellMetadata": {
      "byteLimit": 2048000,
      "rowLimit": 10000
     },
     "inputWidgets": {},
     "nuid": "211104cb-77f6-4ced-bb01-c32a1089e7d0",
     "showTitle": false,
     "title": ""
    }
   },
   "outputs": [],
   "source": [
    "df_alunos.head()"
   ]
  },
  {
   "cell_type": "code",
   "execution_count": null,
   "metadata": {
    "application/vnd.databricks.v1+cell": {
     "cellMetadata": {
      "byteLimit": 2048000,
      "rowLimit": 10000
     },
     "inputWidgets": {},
     "nuid": "3b4842c8-c01c-4854-b506-6bcacd7bb69d",
     "showTitle": false,
     "title": ""
    }
   },
   "outputs": [],
   "source": [
    "df_alunos['Nome']"
   ]
  },
  {
   "cell_type": "code",
   "execution_count": null,
   "metadata": {
    "application/vnd.databricks.v1+cell": {
     "cellMetadata": {
      "byteLimit": 2048000,
      "rowLimit": 10000
     },
     "inputWidgets": {},
     "nuid": "d3d39faf-9dc6-4fa3-b593-4535fb411222",
     "showTitle": false,
     "title": ""
    }
   },
   "outputs": [],
   "source": [
    "#Filtrando os alunos com frequência acima de 18\n",
    "df_alunos[df_alunos['Frequencia'] > 18][['Nome','RA']]"
   ]
  },
  {
   "cell_type": "markdown",
   "metadata": {
    "application/vnd.databricks.v1+cell": {
     "cellMetadata": {},
     "inputWidgets": {},
     "nuid": "c74625c2-e7ec-44f1-9126-10225dfd2953",
     "showTitle": false,
     "title": ""
    }
   },
   "source": [
    "Vamos criar um dataframe usando pandas com os dados do arquivo `alunos2.csv`"
   ]
  },
  {
   "cell_type": "code",
   "execution_count": null,
   "metadata": {
    "application/vnd.databricks.v1+cell": {
     "cellMetadata": {
      "byteLimit": 2048000,
      "rowLimit": 10000
     },
     "inputWidgets": {},
     "nuid": "e8f05ccb-34cf-4267-b015-a461d27151a1",
     "showTitle": false,
     "title": ""
    }
   },
   "outputs": [],
   "source": [
    "df_alunos.to_csv('../datasets/alunos2.csv')"
   ]
  },
  {
   "cell_type": "markdown",
   "metadata": {
    "application/vnd.databricks.v1+cell": {
     "cellMetadata": {},
     "inputWidgets": {},
     "nuid": "f0321c98-e24d-4f08-a23d-326b426f1187",
     "showTitle": false,
     "title": ""
    }
   },
   "source": [
    "Ou seja: é preciso estarmos sempre atentos ao separador dos dados!"
   ]
  },
  {
   "cell_type": "markdown",
   "metadata": {
    "application/vnd.databricks.v1+cell": {
     "cellMetadata": {},
     "inputWidgets": {},
     "nuid": "6294af91-d617-4757-99dc-8111b56c369c",
     "showTitle": false,
     "title": ""
    }
   },
   "source": [
    "### XLS ou XLSX\n",
    "\n",
    "https://pandas.pydata.org/pandas-docs/stable/reference/api/pandas.read_excel.html"
   ]
  },
  {
   "cell_type": "markdown",
   "metadata": {
    "application/vnd.databricks.v1+cell": {
     "cellMetadata": {},
     "inputWidgets": {},
     "nuid": "ce5bd39d-a7d9-46a3-bcc9-184d6cbd8d41",
     "showTitle": false,
     "title": ""
    }
   },
   "source": [
    "Vamos criar um dataframe usando pandas com os dados do arquivo `sample.xlsx`"
   ]
  },
  {
   "cell_type": "code",
   "execution_count": null,
   "metadata": {
    "application/vnd.databricks.v1+cell": {
     "cellMetadata": {
      "byteLimit": 2048000,
      "rowLimit": 10000
     },
     "inputWidgets": {},
     "nuid": "46c94b28-05e7-4cc5-bd64-79d1b1c49d12",
     "showTitle": false,
     "title": ""
    }
   },
   "outputs": [],
   "source": [
    "#pip install openpyxl"
   ]
  },
  {
   "cell_type": "code",
   "execution_count": null,
   "metadata": {
    "application/vnd.databricks.v1+cell": {
     "cellMetadata": {
      "byteLimit": 2048000,
      "rowLimit": 10000
     },
     "inputWidgets": {},
     "nuid": "eebef558-af8c-45ab-a7d9-8520162702dc",
     "showTitle": false,
     "title": ""
    }
   },
   "outputs": [],
   "source": [
    "df = pd.read_excel('../datasets/sample.xlsx')"
   ]
  },
  {
   "cell_type": "code",
   "execution_count": null,
   "metadata": {
    "application/vnd.databricks.v1+cell": {
     "cellMetadata": {
      "byteLimit": 2048000,
      "rowLimit": 10000
     },
     "inputWidgets": {},
     "nuid": "5ef9d751-8f05-4798-b2dc-6e04e6566838",
     "showTitle": false,
     "title": ""
    }
   },
   "outputs": [],
   "source": [
    "df"
   ]
  },
  {
   "cell_type": "markdown",
   "metadata": {
    "application/vnd.databricks.v1+cell": {
     "cellMetadata": {},
     "inputWidgets": {},
     "nuid": "a076544a-01d1-4f32-a840-9ec163c103e5",
     "showTitle": false,
     "title": ""
    }
   },
   "source": [
    "#### Leitura com seleção de planilha\n",
    "\n",
    "Vamos criar um dataframe usando pandas com os dados da planilha `velocidade` da pasta de trabalho `sample.xlsx` "
   ]
  },
  {
   "cell_type": "code",
   "execution_count": null,
   "metadata": {
    "application/vnd.databricks.v1+cell": {
     "cellMetadata": {
      "byteLimit": 2048000,
      "rowLimit": 10000
     },
     "inputWidgets": {},
     "nuid": "81d94b4b-7d16-4b18-925e-c2766c2784c8",
     "showTitle": false,
     "title": ""
    }
   },
   "outputs": [],
   "source": [
    "df = pd.read_excel('../datasets/sample.xlsx','Velocidade')"
   ]
  },
  {
   "cell_type": "code",
   "execution_count": null,
   "metadata": {
    "application/vnd.databricks.v1+cell": {
     "cellMetadata": {
      "byteLimit": 2048000,
      "rowLimit": 10000
     },
     "inputWidgets": {},
     "nuid": "4e07bec7-8c6e-4879-891d-188c934c9017",
     "showTitle": false,
     "title": ""
    }
   },
   "outputs": [],
   "source": [
    "df"
   ]
  },
  {
   "cell_type": "markdown",
   "metadata": {
    "application/vnd.databricks.v1+cell": {
     "cellMetadata": {},
     "inputWidgets": {},
     "nuid": "cce95d5f-aa03-4cbb-969d-66af9ae12c7e",
     "showTitle": false,
     "title": ""
    }
   },
   "source": [
    "#### Leitura com seleção de cabeçalho"
   ]
  },
  {
   "cell_type": "markdown",
   "metadata": {
    "application/vnd.databricks.v1+cell": {
     "cellMetadata": {},
     "inputWidgets": {},
     "nuid": "df2bae02-d8da-4c74-b19d-39db1041c24a",
     "showTitle": false,
     "title": ""
    }
   },
   "source": [
    "Vamos criar um dataframe usando pandas com os dados da planilha `Velocidade` da pasta de trabalho `sample.xlsx`. Porém vamos eliminar a primeira linha de cabeçalho"
   ]
  },
  {
   "cell_type": "code",
   "execution_count": null,
   "metadata": {
    "application/vnd.databricks.v1+cell": {
     "cellMetadata": {
      "byteLimit": 2048000,
      "rowLimit": 10000
     },
     "inputWidgets": {},
     "nuid": "b267c7be-9d7a-46f1-bf59-5f8b9970a67e",
     "showTitle": false,
     "title": ""
    }
   },
   "outputs": [],
   "source": [
    "df = pd.read_excel('../datasets/sample.xlsx',sheet_name='Velocidade',header=1)"
   ]
  },
  {
   "cell_type": "code",
   "execution_count": null,
   "metadata": {
    "application/vnd.databricks.v1+cell": {
     "cellMetadata": {
      "byteLimit": 2048000,
      "rowLimit": 10000
     },
     "inputWidgets": {},
     "nuid": "9c304e6c-b03f-4d73-9d18-b5a3291f622f",
     "showTitle": false,
     "title": ""
    }
   },
   "outputs": [],
   "source": [
    "df"
   ]
  },
  {
   "cell_type": "markdown",
   "metadata": {
    "application/vnd.databricks.v1+cell": {
     "cellMetadata": {},
     "inputWidgets": {},
     "nuid": "ec79f595-992f-4ca4-bbf5-2620e1a9210a",
     "showTitle": false,
     "title": ""
    }
   },
   "source": [
    "#### Leitura com definção de nomes de colunas\n",
    "\n",
    "Vamos criar um dataframe usando pandas com os dados da planilha `Velocidade` da pasta de trabalho `sample.xlsx`. Porém vamos eliminar a primeira linha de cabeçalho e definir os nomes das colunas."
   ]
  },
  {
   "cell_type": "code",
   "execution_count": null,
   "metadata": {
    "application/vnd.databricks.v1+cell": {
     "cellMetadata": {
      "byteLimit": 2048000,
      "rowLimit": 10000
     },
     "inputWidgets": {},
     "nuid": "253f4494-c32f-4e8b-be56-0011f7347aa9",
     "showTitle": false,
     "title": ""
    }
   },
   "outputs": [],
   "source": [
    "df = pd.read_excel('../datasets/sample.xlsx',sheet_name='Velocidade',header=0,\n",
    "                   names = ['Tempo (min)', 'Velocidade (km/h)'])"
   ]
  },
  {
   "cell_type": "code",
   "execution_count": null,
   "metadata": {
    "application/vnd.databricks.v1+cell": {
     "cellMetadata": {
      "byteLimit": 2048000,
      "rowLimit": 10000
     },
     "inputWidgets": {},
     "nuid": "873cb9fa-2562-4a05-983e-bb0d29289e9b",
     "showTitle": false,
     "title": ""
    }
   },
   "outputs": [],
   "source": [
    "df"
   ]
  },
  {
   "cell_type": "markdown",
   "metadata": {
    "application/vnd.databricks.v1+cell": {
     "cellMetadata": {},
     "inputWidgets": {},
     "nuid": "55b83a96-0f21-42b7-9e22-cda23f877f1a",
     "showTitle": false,
     "title": ""
    }
   },
   "source": [
    "#### Leitura da internet"
   ]
  },
  {
   "cell_type": "markdown",
   "metadata": {
    "application/vnd.databricks.v1+cell": {
     "cellMetadata": {},
     "inputWidgets": {},
     "nuid": "c667931a-7bb0-4998-9a4e-8d8902c253ef",
     "showTitle": false,
     "title": ""
    }
   },
   "source": [
    "Vamos criar um dataframe usando pandas com os dados de uma planilha disponivel na página de dados abertos do INPI.\n",
    "\n",
    "https://www.gov.br/inpi/pt-br/acesso-a-informacao/dados-abertos/conjuntos-corporativos-de-dados-abertos/pedidos-de-patentes-pendentes-de-decisao-final/pedidos-de-patentes-pendentes-de-decisao-final-cgrec.xlsx"
   ]
  },
  {
   "cell_type": "code",
   "execution_count": null,
   "metadata": {
    "application/vnd.databricks.v1+cell": {
     "cellMetadata": {
      "byteLimit": 2048000,
      "rowLimit": 10000
     },
     "inputWidgets": {},
     "nuid": "6ff73ad1-0913-494e-a715-d25f3a8b33a9",
     "showTitle": false,
     "title": ""
    }
   },
   "outputs": [],
   "source": [
    "df = pd.read_excel('https://www.gov.br/inpi/pt-br/acesso-a-informacao/dados-abertos/conjuntos-corporativos-de-dados-abertos/pedidos-de-patentes-pendentes-de-decisao-final/pedidos-de-patentes-pendentes-de-decisao-final-cgrec.xlsx')"
   ]
  },
  {
   "cell_type": "code",
   "execution_count": null,
   "metadata": {
    "application/vnd.databricks.v1+cell": {
     "cellMetadata": {
      "byteLimit": 2048000,
      "rowLimit": 10000
     },
     "inputWidgets": {},
     "nuid": "99b3599a-99fc-4cbd-ba6b-037134c25fce",
     "showTitle": false,
     "title": ""
    }
   },
   "outputs": [],
   "source": [
    "df"
   ]
  },
  {
   "cell_type": "markdown",
   "metadata": {
    "application/vnd.databricks.v1+cell": {
     "cellMetadata": {},
     "inputWidgets": {},
     "nuid": "47a2a50d-bd3c-4f60-8cf0-36199eb72b7f",
     "showTitle": false,
     "title": ""
    }
   },
   "source": [
    "### JSON\n",
    "\n",
    "https://pandas.pydata.org/pandas-docs/stable/reference/api/pandas.read_json.html"
   ]
  },
  {
   "cell_type": "markdown",
   "metadata": {
    "application/vnd.databricks.v1+cell": {
     "cellMetadata": {},
     "inputWidgets": {},
     "nuid": "3800f773-53ed-4531-90df-f36f1810064b",
     "showTitle": false,
     "title": ""
    }
   },
   "source": [
    "Vamos criar um dataframe usando pandas com os dados do arquivo json `selic.json`."
   ]
  },
  {
   "cell_type": "code",
   "execution_count": null,
   "metadata": {
    "application/vnd.databricks.v1+cell": {
     "cellMetadata": {
      "byteLimit": 2048000,
      "rowLimit": 10000
     },
     "inputWidgets": {},
     "nuid": "7485ea2c-52b8-4ff1-a0ea-eb9fcaccccfc",
     "showTitle": false,
     "title": ""
    }
   },
   "outputs": [],
   "source": [
    "df = pd.read_json('../datasets/selic.json')"
   ]
  },
  {
   "cell_type": "code",
   "execution_count": null,
   "metadata": {
    "application/vnd.databricks.v1+cell": {
     "cellMetadata": {
      "byteLimit": 2048000,
      "rowLimit": 10000
     },
     "inputWidgets": {},
     "nuid": "8d1d7f8c-975e-4e5e-9b83-75ab3b151e65",
     "showTitle": false,
     "title": ""
    }
   },
   "outputs": [],
   "source": [
    "df"
   ]
  },
  {
   "cell_type": "markdown",
   "metadata": {
    "application/vnd.databricks.v1+cell": {
     "cellMetadata": {},
     "inputWidgets": {},
     "nuid": "ca7dac4b-072a-4657-b39a-62d2cca1b991",
     "showTitle": false,
     "title": ""
    }
   },
   "source": [
    "Vamos criar um dataframe usando pandas com os dados da selic em formato json vindo de uma API do Banco Central\n",
    "\n",
    "https://api.bcb.gov.br/dados/serie/bcdata.sgs.4390/dados?formato=json"
   ]
  },
  {
   "cell_type": "code",
   "execution_count": null,
   "metadata": {
    "application/vnd.databricks.v1+cell": {
     "cellMetadata": {
      "byteLimit": 2048000,
      "rowLimit": 10000
     },
     "inputWidgets": {},
     "nuid": "d040867e-9785-4d38-b72a-2f3541de75e2",
     "showTitle": false,
     "title": ""
    }
   },
   "outputs": [],
   "source": [
    "df = pd.read_json('https://api.bcb.gov.br/dados/serie/bcdata.sgs.4390/dados?formato=json')"
   ]
  },
  {
   "cell_type": "code",
   "execution_count": null,
   "metadata": {
    "application/vnd.databricks.v1+cell": {
     "cellMetadata": {
      "byteLimit": 2048000,
      "rowLimit": 10000
     },
     "inputWidgets": {},
     "nuid": "604819fc-6af4-4456-92d0-2d22e1e8c61e",
     "showTitle": false,
     "title": ""
    }
   },
   "outputs": [],
   "source": [
    "df"
   ]
  },
  {
   "cell_type": "markdown",
   "metadata": {
    "application/vnd.databricks.v1+cell": {
     "cellMetadata": {},
     "inputWidgets": {},
     "nuid": "13e2aee8-8a87-4447-b3e6-f65eef82a783",
     "showTitle": false,
     "title": ""
    }
   },
   "source": [
    "### TXT de tamanho fixo\n",
    "\n",
    "https://pandas.pydata.org/pandas-docs/stable/reference/api/pandas.read_fwf.html"
   ]
  },
  {
   "cell_type": "markdown",
   "metadata": {
    "application/vnd.databricks.v1+cell": {
     "cellMetadata": {},
     "inputWidgets": {},
     "nuid": "3eead770-13cd-4b96-bb83-8cf6bf35f34c",
     "showTitle": false,
     "title": ""
    }
   },
   "source": [
    "Vamos criar um dataframe usando pandas com os dados em formato TXT (Com colunas de tamanho fixo) disponíveis por FTP pelo Banco Central.\n",
    "\n",
    "https://www.bcb.gov.br/pom/spb/Down/ftp/prod/ASPB0004.TXT"
   ]
  },
  {
   "cell_type": "code",
   "execution_count": null,
   "metadata": {
    "application/vnd.databricks.v1+cell": {
     "cellMetadata": {
      "byteLimit": 2048000,
      "rowLimit": 10000
     },
     "inputWidgets": {},
     "nuid": "33712dd0-91ac-4bf1-bb26-4429f6500e59",
     "showTitle": false,
     "title": ""
    }
   },
   "outputs": [],
   "source": [
    "df = pd.read_fwf('https://www.bcb.gov.br/pom/spb/Down/ftp/prod/ASPB0004.TXT',\n",
    "                 widths = [1,6,8,1,8,1,8])"
   ]
  },
  {
   "cell_type": "code",
   "execution_count": null,
   "metadata": {
    "application/vnd.databricks.v1+cell": {
     "cellMetadata": {
      "byteLimit": 2048000,
      "rowLimit": 10000
     },
     "inputWidgets": {},
     "nuid": "c9e7f5b0-30a6-4d48-8e46-52c9beef8537",
     "showTitle": false,
     "title": ""
    }
   },
   "outputs": [],
   "source": [
    "df"
   ]
  },
  {
   "cell_type": "markdown",
   "metadata": {
    "application/vnd.databricks.v1+cell": {
     "cellMetadata": {},
     "inputWidgets": {},
     "nuid": "d806ae74-8081-4919-96bf-d1144c265546",
     "showTitle": false,
     "title": ""
    }
   },
   "source": [
    "## Escrevendo dados de um arquivo"
   ]
  },
  {
   "cell_type": "code",
   "execution_count": null,
   "metadata": {
    "application/vnd.databricks.v1+cell": {
     "cellMetadata": {
      "byteLimit": 2048000,
      "rowLimit": 10000
     },
     "inputWidgets": {},
     "nuid": "8a618374-c595-4681-9a21-9f6f148c0fbb",
     "showTitle": false,
     "title": ""
    }
   },
   "outputs": [],
   "source": [
    "df = pd.read_json('https://api.bcb.gov.br/dados/serie/bcdata.sgs.4390/dados?formato=json')"
   ]
  },
  {
   "cell_type": "code",
   "execution_count": null,
   "metadata": {
    "application/vnd.databricks.v1+cell": {
     "cellMetadata": {
      "byteLimit": 2048000,
      "rowLimit": 10000
     },
     "inputWidgets": {},
     "nuid": "448928fe-ae64-4ac3-ab35-ad7ee5d866f9",
     "showTitle": false,
     "title": ""
    }
   },
   "outputs": [],
   "source": [
    "df"
   ]
  },
  {
   "cell_type": "markdown",
   "metadata": {
    "application/vnd.databricks.v1+cell": {
     "cellMetadata": {},
     "inputWidgets": {},
     "nuid": "dbd514e6-c88e-4924-a972-a901f4e63e63",
     "showTitle": false,
     "title": ""
    }
   },
   "source": [
    "### CSV"
   ]
  },
  {
   "cell_type": "markdown",
   "metadata": {
    "application/vnd.databricks.v1+cell": {
     "cellMetadata": {},
     "inputWidgets": {},
     "nuid": "ba3a46b5-e5f4-42c0-b91c-d59d3f52f935",
     "showTitle": false,
     "title": ""
    }
   },
   "source": [
    "Separado por vírgula"
   ]
  },
  {
   "cell_type": "code",
   "execution_count": null,
   "metadata": {
    "application/vnd.databricks.v1+cell": {
     "cellMetadata": {
      "byteLimit": 2048000,
      "rowLimit": 10000
     },
     "inputWidgets": {},
     "nuid": "9286eaa4-eae5-4348-a71b-3b473a4f8630",
     "showTitle": false,
     "title": ""
    }
   },
   "outputs": [],
   "source": [
    "df.to_csv('selic.csv')"
   ]
  },
  {
   "cell_type": "code",
   "execution_count": null,
   "metadata": {
    "application/vnd.databricks.v1+cell": {
     "cellMetadata": {},
     "inputWidgets": {},
     "nuid": "ba60f582-9ccf-4eaf-8136-a838f38c9e9c",
     "showTitle": false,
     "title": ""
    }
   },
   "outputs": [],
   "source": []
  },
  {
   "cell_type": "markdown",
   "metadata": {
    "application/vnd.databricks.v1+cell": {
     "cellMetadata": {},
     "inputWidgets": {},
     "nuid": "60a79245-ff18-45d7-ab23-417581321f55",
     "showTitle": false,
     "title": ""
    }
   },
   "source": [
    "XLSX"
   ]
  },
  {
   "cell_type": "code",
   "execution_count": null,
   "metadata": {
    "application/vnd.databricks.v1+cell": {
     "cellMetadata": {
      "byteLimit": 2048000,
      "rowLimit": 10000
     },
     "inputWidgets": {},
     "nuid": "d2491fbd-ae0e-4bdb-b6b7-ac5fe2d97d55",
     "showTitle": false,
     "title": ""
    }
   },
   "outputs": [],
   "source": [
    "df.to_excel('selic.xlsx')"
   ]
  },
  {
   "cell_type": "markdown",
   "metadata": {
    "application/vnd.databricks.v1+cell": {
     "cellMetadata": {},
     "inputWidgets": {},
     "nuid": "1fc7c20d-345c-4f31-90b0-9b05e98b494f",
     "showTitle": false,
     "title": ""
    }
   },
   "source": [
    "___\n",
    "## Vamos praticar?"
   ]
  },
  {
   "cell_type": "markdown",
   "metadata": {
    "application/vnd.databricks.v1+cell": {
     "cellMetadata": {},
     "inputWidgets": {},
     "nuid": "fc746467-bddc-4e55-bf34-8cde2c7e0504",
     "showTitle": false,
     "title": ""
    }
   },
   "source": [
    "Leia o arquivo `aluno2.csv`, apenas as colunas RA, Prova_1, Prova_2, Prova_3, Prova_4 realize a média das notas da prova e salve em um arquivo excel (xlsx) as colunas RA e Média."
   ]
  },
  {
   "cell_type": "code",
   "execution_count": null,
   "metadata": {
    "application/vnd.databricks.v1+cell": {
     "cellMetadata": {},
     "inputWidgets": {},
     "nuid": "fc6990f4-63eb-4af4-a19b-48c4f7dca32e",
     "showTitle": false,
     "title": ""
    }
   },
   "outputs": [],
   "source": [
    "# leitura especificando separador decimal\n"
   ]
  },
  {
   "cell_type": "code",
   "execution_count": null,
   "metadata": {
    "application/vnd.databricks.v1+cell": {
     "cellMetadata": {},
     "inputWidgets": {},
     "nuid": "e66e7079-7fbc-482c-9c21-8a5217ae0dee",
     "showTitle": false,
     "title": ""
    }
   },
   "outputs": [],
   "source": []
  }
 ],
 "metadata": {
  "application/vnd.databricks.v1+notebook": {
   "dashboards": [],
   "language": "python",
   "notebookMetadata": {
    "pythonIndentUnit": 4
   },
   "notebookName": "Aula_04_Pandas_(Parte_1)",
   "widgets": {}
  },
  "colab": {
   "provenance": []
  },
  "kernelspec": {
   "display_name": "Python 3",
   "name": "python3"
  },
  "language_info": {
   "codemirror_mode": {
    "name": "ipython",
    "version": 3
   },
   "file_extension": ".py",
   "mimetype": "text/x-python",
   "name": "python",
   "nbconvert_exporter": "python",
   "pygments_lexer": "ipython3",
   "version": "3.11.4"
  }
 },
 "nbformat": 4,
 "nbformat_minor": 0
}
