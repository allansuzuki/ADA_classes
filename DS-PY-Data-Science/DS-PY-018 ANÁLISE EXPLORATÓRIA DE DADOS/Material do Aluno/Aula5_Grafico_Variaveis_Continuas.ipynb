{
 "cells": [
  {
   "cell_type": "markdown",
   "metadata": {},
   "source": [
    "# 🎯 Aula 5 - Gráfico: Variáveis Contínuas 🎯"
   ]
  },
  {
   "cell_type": "markdown",
   "metadata": {},
   "source": [
    "---\n",
    "A análise individual de variáveis é um passo essencial na exploração de dados. Utilizar gráficos adequados para cada tipo de variável ajuda a entender sua distribuição, frequência e características principais. \n",
    "\n",
    "Utilizaremos o **Seaborn**, uma biblioteca de visualização de dados em Python, oferece várias opções para essa finalidade.\n",
    "\n",
    "Documentação: https://seaborn.pydata.org/"
   ]
  },
  {
   "cell_type": "markdown",
   "metadata": {},
   "source": [
    "# Histograma\n",
    "\n",
    "<center><img src=\"./img/histogram_output.png\" alt=\"histograma de ano de nascimento de pessoas\" width=\"350rm\"></center>\n",
    "\n",
    "Um histograma é um gráfico que representa a distribuição de frequências de um conjunto de dados contínuos. Ele agrupa dados em 'bins' ou intervalos (eixo x) e mostra a quantidade de dados (eixo y) em cada intervalo.\n",
    "\n",
    "## Para que Serve?\n",
    "- Visualizar a distribuição de dados contínuos.\n",
    "- Identificar padrões como normalidade (lembra o que é?), skewness (assimetria) e a presença de outliers.\n",
    "\n",
    "## Aplicações\n",
    "- Análise da distribuição de idade em uma população.\n",
    "- Exame da distribuição de preços de produtos.\n",
    "\n",
    "## Como Fazer no Seaborn\n",
    "\n",
    "A função histplot do Seaborn cria histogramas. Ela permite ajustar detalhes como o número de bins e adicionar uma estimativa de densidade de kernel (KDE). \n",
    "\n",
    "Vamos observar o histograma da idade dos Passageiros no dataset do titanic, por exemplo:"
   ]
  },
  {
   "cell_type": "code",
   "execution_count": 5,
   "metadata": {},
   "outputs": [
    {
     "data": {
      "text/plain": [
       "<Axes: xlabel='Age', ylabel='Count'>"
      ]
     },
     "execution_count": 5,
     "metadata": {},
     "output_type": "execute_result"
    },
    {
     "data": {
      "image/png": "[encoded data removed]",
      "text/plain": [
       "<Figure size 640x480 with 1 Axes>"
      ]
     },
     "metadata": {},
     "output_type": "display_data"
    }
   ],
   "source": [
    "#import dados do titanic\n",
    "import seaborn as sns\n",
    "import pandas as pd\n",
    "\n",
    "# Dados de exemplo\n",
    "df = pd.read_excel('./data/titanic.xlsx')\n",
    "\n",
    "# Criando um histograma\n",
    "sns.histplot(df['Age'], \n",
    "            #  bins=5, \n",
    "            #  kde=True, color='blue'\n",
    "             )"
   ]
  },
  {
   "cell_type": "markdown",
   "metadata": {},
   "source": [
    "## Documentação\n",
    "\n",
    "> seaborn.histplot(data=None, *, x=None, y=None, hue=None, weights=None, stat='count', bins='auto', binwidth=None, binrange=None, discrete=None, cumulative=False, common_bins=True, common_norm=True, multiple='layer', element='bars', fill=True, shrink=1, kde=False, kde_kws=None, line_kws=None, thresh=0, pthresh=None, pmax=None, cbar=False, cbar_ax=None, cbar_kws=None, palette=None, hue_order=None, hue_norm=None, color=None, log_scale=None, legend=True, ax=None, **kwargs)\n",
    "\n",
    "Plot univariate or bivariate histograms to show distributions of datasets.\n",
    "\n",
    "A histogram is a classic visualization tool that represents the distribution of one or more variables by counting the number of observations that fall within discrete bins.\n",
    "\n",
    "This function can normalize the statistic computed within each bin to estimate frequency, density or probability mass, and it can add a smooth curve obtained using a kernel density estimate, similar to kdeplot().\n",
    "\n",
    "More information is provided in the user guide.\n",
    "\n",
    "**Parameters:**\n",
    "\n",
    "> data : pandas.DataFrame, numpy.ndarray, mapping, or sequence <br>\n",
    "Input data structure. Either a long-form collection of vectors that can be assigned to named variables or a wide-form dataset that will be internally reshaped. <br><br>\n",
    "> x, y: vectors or keys in data <br>\n",
    "Variables that specify positions on the x and y axes. <br><br>\n",
    "> hue: vector or key in data <br>\n",
    "Semantic variable that is mapped to determine the color of plot elements. <br><br>\n",
    "> bin: sstr, number, vector, or a pair of such values <br>\n",
    "Generic bin parameter that can be the name of a reference rule, the number of bins, or the breaks of the bins. Passed to numpy.histogram_bin_edges(). <br><br>\n",
    "> kde: bool <br>\n",
    "If True, compute a kernel density estimate to smooth the distribution and show on the plot as (one or more) line(s). Only relevant with univariate data. <br><br>\n",
    "> color: matplotlib color <br>\n",
    "Single color specification for when hue mapping is not used. Otherwise, the plot will try to hook into the matplotlib property cycle. <br><br>"
   ]
  },
  {
   "cell_type": "markdown",
   "metadata": {},
   "source": [
    "# Barplot\n",
    "\n",
    "\n",
    "<center><img src=\"https://s3-sa-east-1.amazonaws.com/lcpi/999e7249-abb4-40df-adf7-24f9dae3d264.png\" alt=\"barplot sample\" width=\"350rm\"></center>\n",
    "\n",
    "## O que é Barplot\n",
    "Um barplot, ou gráfico de barras, é usado para mostrar a relação entre uma variável numérica e uma variável categórica, representando a magnitude de uma variável com o comprimento de suas barras.\n",
    "\n",
    "## Para que Serve\n",
    "- Comparar quantidades entre diferentes categorias.\n",
    "- Destacar diferenças ou semelhanças entre grupos.\n",
    "\n",
    "## Aplicações\n",
    "Mostrar a quantidade de vendas por produto.\n",
    "Comparar a frequência de diferentes categorias em um conjunto de dados.\n",
    "\n",
    "\n",
    "## Como Fazer no Seaborn\n",
    "\n",
    "A função barplot do Seaborn cria gráficos de barras. Ela permite comparar facilmente os valores entre diferentes categorias.\n",
    "\n",
    "Exemplo Prático\n",
    "```python\n",
    "import seaborn as sns\n",
    "import pandas as pd\n",
    "\n",
    "# Dados de exemplo\n",
    "df = pd.DataFrame({\n",
    "    'Categoria': ['A', 'B', 'C'],\n",
    "    'Valor': [10, 20, 15]\n",
    "})\n",
    "\n",
    "# Criando um barplot\n",
    "sns.barplot(x='Categoria', y='Valor', data=df, palette='viridis')\n",
    "```\n",
    "\n",
    "**Explicação dos Parâmetros**\n",
    "\n",
    "- **'x' e 'y' definem as variáveis dos eixos.**\n",
    "- **'data' especifica o DataFrame dos dados.**\n",
    "- **'palette' define a paleta de cores.**\n",
    "\n",
    "\n",
    "\n",
    "Esses gráficos fornecem insights valiosos sobre as características individuais das variáveis em um conjunto de dados. Seaborn, com sua interface intuitiva e opções de personalização, facilita a criação dessas visualizações.\n",
    "\n",
    "# Referências\n",
    "[Documentação Pandas](https://pandas.pydata.org/docs/)\n",
    "\n",
    "[Documentação do Seaborn](https://seaborn.pydata.org/)"
   ]
  },
  {
   "cell_type": "code",
   "execution_count": null,
   "metadata": {},
   "outputs": [],
   "source": []
  }
 ],
 "metadata": {
  "kernelspec": {
   "display_name": "base",
   "language": "python",
   "name": "python3"
  },
  "language_info": {
   "codemirror_mode": {
    "name": "ipython",
    "version": 3
   },
   "file_extension": ".py",
   "mimetype": "text/x-python",
   "name": "python",
   "nbconvert_exporter": "python",
   "pygments_lexer": "ipython3",
   "version": "3.11.5"
  }
 },
 "nbformat": 4,
 "nbformat_minor": 2
}
