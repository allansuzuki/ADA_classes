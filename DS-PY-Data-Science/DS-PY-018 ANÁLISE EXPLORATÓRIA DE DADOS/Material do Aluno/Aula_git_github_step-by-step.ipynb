{
 "cells": [
  {
   "cell_type": "markdown",
   "metadata": {
    "application/vnd.databricks.v1+cell": {
     "cellMetadata": {},
     "inputWidgets": {},
     "nuid": "e84723e9-112c-48d8-b570-9a5ddcbc13bd",
     "showTitle": false,
     "title": ""
    }
   },
   "source": [
    "# Git - Github\n",
    "________"
   ]
  },
  {
   "cell_type": "markdown",
   "metadata": {
    "application/vnd.databricks.v1+cell": {
     "cellMetadata": {},
     "inputWidgets": {},
     "nuid": "920a50b2-c686-4b7d-ab97-482e7f9156a3",
     "showTitle": false,
     "title": ""
    }
   },
   "source": [
    "# 1) Verificar se tem o git\n",
    "Primeiramente, vamos verificar se temos o git já instalado no computador.\n",
    "\n",
    "1.1. Basta acessar o `Promp de comando` ou famoso `cmd`: Tecla Win + R > executar `cmd` > OK\n",
    "<br>&ensp;<img src=\"./img/cmd.png\" alt=\"cmd window\" width=\"300\"/>\n",
    "\n",
    "1.2. Em seguida digite `git --version`. Se tiver instalado, o sistema nos retorna a versão do git instalado\n",
    "<br>&ensp;<img src=\"./img/cmd_with_git.png\" alt=\"cmd with git installed\" width=\"300\"/>\n",
    "\n",
    "Caso não tenha esta resposta, sinal que temos que instalar o git no próximo passo. Senão, pode pular para a etapa 2)\n",
    "\n",
    "## Download git\n",
    "Para baixar o git vamos ao site oficial https://git-scm.com/downloads e clicamos no sistema operacional da máquina.\n",
    "O git é instalado como qualquer outro programa, e funciona tanto no Windows, quanto no Linux e no MacOS. Um guia com o passo a passo de como instalar o git em cada um desses sistemas operacionais se encontra no livro Pro Git, disponível online sem custo, com versão em português.\n",
    "\n",
    "## Passos setup (Windows)\n",
    "Após baixar o installer e rodar, altere somente as janelas correspondentes abaixo:\n",
    "\n",
    "<br>&ensp;<img src=\"./img/git_install_step3.png\" alt=\"git install\" width=\"300\"/>\n",
    "<br>Confirme se são estas opções que estão selecionadas.\n",
    "\n",
    "<br>&ensp;<img src=\"./img/git_install_step5.png\" alt=\"git install\" width=\"300\"/>\n",
    "<br>Preferível que seja o `Notepad++` o editor de texto. Em alguns casos é preciso instalá-lo, fechar o instalador do git e abrir novamente.\n",
    "Se não for possível obtê-lo, podemos seguir com o `Notepad` do Windows.\n",
    "\n",
    "<br>&ensp;<img src=\"./img/git_install_step6.png\" alt=\"git install\" width=\"300\"/>\n",
    "<br>Aqui vamos manter o nome do branch principal como `main`\n",
    "\n",
    "Em resumo, para instalar são:\n",
    "\n",
    "Next (2x) ><br>\n",
    "selecione as opções > <br>\n",
    "Next > <br>\n",
    "Escolha um editor de texto > <br>\n",
    "Selecione o main > <br>\n",
    "Next (9x) > <br>\n",
    "Deseleciona o box `View release` > Finish\n",
    "\n"
   ]
  },
  {
   "cell_type": "markdown",
   "metadata": {
    "application/vnd.databricks.v1+cell": {
     "cellMetadata": {},
     "inputWidgets": {},
     "nuid": "f38e32b7-4868-468a-8117-89a02b93e528",
     "showTitle": false,
     "title": ""
    }
   },
   "source": [
    "________\n",
    "# 2) Criar repositorio (repo) no github (servidor remoto)\n",
    "\n",
    "## Criar uma conta\n",
    "Para criarmos uma conta no github, nosso servidor remoto de repositórios do git, siga os passos:\n",
    "1. Entre no site https://www.github.com > `Sign up`\n",
    "2. Siga os passos escritos (use um tradutor se necessário)\n",
    "\n",
    "OBS: Utilize um email pessoal para garantir que receberá o email de confirmação da ativação de conta.\n",
    "\n",
    "## Criar um repo\n",
    "Para criar nosso primeiro repositório, basta seguir os passos:\n",
    "Na janela inicial **após o login**, na aba esquerda, clique em `new`\n",
    "\n",
    "<br>&ensp;<img src=\"./img/github_create_repo.png\" alt=\"create repo in github\" width=\"800\"/>\n",
    "\n",
    "Na janela abaixo, digite o nome do repositorio que deseja, uma descrição do teu projeto, escolher se queremos que seja um repositório **público** ou privado, e tica o box `Add a README file`\n",
    "\n",
    "<br>&ensp;<img src=\"./img/github_create_repo_2.png\" alt=\"create repo in github\" width=\"500\"/>\n",
    "\n",
    "## Etapas para autenticação\n",
    "Em seguida, para conectar nosso repositorio local com o repositório remoto, precisamos escolher um método de autenticação. Temos duas opções: **SSH** (recomendado!) e HTTPS\n",
    "\n",
    "<br>&ensp;<img src=\"./img/clone_modes.png\" alt=\"clone modes\" width=\"400\"/>\n",
    "\n",
    "## SSH\n",
    "\n",
    "### Criar autenticação ssh - Recomendado\n",
    "Os passos estão descritos com mais detalhes no link https://docs.github.com/en/authentication/connecting-to-github-with-ssh/generating-a-new-ssh-key-and-adding-it-to-the-ssh-agent.\n",
    "<br> Uma clara vantagem é que somente a senha será pedido sempre que rodar um comando que conecte o remote com o repo local.\n",
    "\n",
    "1. Criar key:\n",
    "<br>&ensp;Antes de tudo, precisamos criar uma SSH key para autenticar nosso acesso.\n",
    "\n",
    "1.1. Basta acessar o `Promp de comando` ou famoso `cmd`: Tecla Win + R > executar `cmd` > OK\n",
    "<br>&ensp;<img src=\"./img/cmd.png\" alt=\"cmd window\" width=\"300\"/>\n",
    "\n",
    "1.2. Em seguida digite `ssh-keygen -t ed25519 -C \"nome-do-ssh-key\"`. Se tiver instalado, o sistema nos retorna a versão do git instalado\n",
    "<br>&ensp;<img src=\"./img/cmd_with_git.png\" alt=\"cmd with git installed\" width=\"300\"/>\n",
    "\n",
    "1.3. Sua SSH key será gerada e pode alterar o local onde será salvo. <br>\n",
    "Mas pressione ENTER que salvará no caminho padrão, entre parênteses:\n",
    "<br>&ensp;<img src=\"./img/ssh_step1.png\" alt=\"ssh generated\" width=\"500\"/>\n",
    "\n",
    "1.4. Digite uma senha. \n",
    "<br>Mas pra fins didáticos, pode apertar ENTER e não será necessário senha.\n",
    "\n",
    "1.5. Copie o caminho salvo, como na imagem abaixo:\n",
    "<br>&ensp;<img src=\"./img/ssh_step_final.png\" alt=\"ssh generated final\" width=\"600\"/>\n",
    "\n",
    "1.6. Copie a SSH key pública:\n",
    "<br>Abra o caminho pelo `Executar`\n",
    "<br>Tecla Win + R\n",
    "<br>digite: `notepad \"cole-o-caminho-aqui-entre-aspas\"`\n",
    "<br>Pressione ENTER\n",
    "<br>&ensp;<img src=\"./img/ssh_open.png\" alt=\"open ssh public \" width=\"300\"/>\n",
    "\n",
    "1.7 Copie o texto todo do notepad\n",
    "\n",
    "1.6 Adicione o ssh key a tua conta github\n",
    "<br>&ensp;Clique na imagem no teu perfil no canto superior a direita\n",
    "Em seguida vá em Settings > SSH and GPGP keys > `New SSH key`\n",
    "\n",
    "1.7 Cole a chave publica no campo `key` > \"Add SSH key\"\n",
    "\n",
    "## HTTPS\n",
    "Neste passo, não há configuração para fazer. Mas a diferença é que sempre que rodar um comando que conecte o remote com o repo local será pedido o username e senha do github."
   ]
  },
  {
   "cell_type": "markdown",
   "metadata": {
    "application/vnd.databricks.v1+cell": {
     "cellMetadata": {},
     "inputWidgets": {},
     "nuid": "c8579232-6467-47e7-9bb8-b886f5f06930",
     "showTitle": false,
     "title": ""
    }
   },
   "source": [
    "____\n",
    "\n",
    "# 3. Configurar git na maquina local\n",
    "\n",
    "## abrir o Git Bash\n",
    "O git bash é o cmd do git, completamente otimizado para os comandos e visuais do git\n",
    "<br>Tecla Win > digite \"Bash\" > Clique em `Git Bash`\n",
    "<br>&ensp;<img src=\"./img/bash_open.png\" alt=\"open git bash\" width=\"250\"/>\n",
    "\n",
    "## setup global\n",
    "Vamos configurar o git bash para conectar com o github ou qualquer outro remote que utilizar.\n",
    "1) `git config --global user.name \"username-do-github-entre-aspas\"`\n",
    "2) `git config --global user.email \"email-do-github-entre-aspas\"`\n",
    "\n",
    "Para ter certeza que houve alteração:\n",
    "<br>Digite `git config --list` e procure pelos campos `user.name` e `user.email`\n",
    "<br>&ensp;<img src=\"./img/git_global.png\" alt=\"git global config\" width=\"400\"/>"
   ]
  },
  {
   "cell_type": "markdown",
   "metadata": {
    "application/vnd.databricks.v1+cell": {
     "cellMetadata": {},
     "inputWidgets": {},
     "nuid": "e924609b-3ab3-4e1a-a8d4-a3a0f332c684",
     "showTitle": false,
     "title": ""
    }
   },
   "source": [
    "___________\n",
    "# 4. Inicializar repo (maquina local)\n",
    "Para inicializar o teu repositório (o que chamamos de projeto):\n",
    "1. Criar a pasta de projeto e copiar o caminho deste projeto\n",
    "Crie uma pasta do teu projeto (no meu caso se chama \"my_repo\") e copio o caminho do projeto com `Ctrl + Shift + C`\n",
    "\n",
    "2. Inicializar o reposotório\n",
    "Volte para git bash e digite \n",
    "`cd \"cole-o-caminho-do-projeto-entre-aspas\"` > pressione ENTER\n",
    "<br>**DICA**: Para copiar o caminho para o bash, clique com o botão direito do mouse > paste\n",
    "\n",
    "digite `git init` para inicializar o repositório na **máquina local**\n",
    "Perceba que agora o teu terminal agora tem `(main)` escrito, indicando que iniciamos o repositório no branch \"main\"\n",
    "\n",
    "# Rastrear alterações (tracking)\n",
    "Vamos verificar se o repositório está rastreando alterações. Vamos criar algo para ver se encontra modificações\n",
    "1. Crie um txt escrito \"1a modificação\". Salve o txt no teu repositorio local.\n",
    "2. Digite `git status` e veifique que identificou uma alteração no repositório.\n",
    "\n",
    "<br>&ensp;<img src=\"./img/git_status.png\" alt=\"git global config\" width=\"400\"/>\n",
    "\n",
    "Verifique que o meu arquivo txt `texto_aqui.txt` foi detectado pelo `git status`\n",
    "\n",
    "# 5. Commitar arquivos\n",
    "Commitar significa salvar um conjunto de modificações e preparar para subir. Uma prática comum é fazer commits, sempre que chegar a algum checkpoint, como o início de trabalho, um bug resolvido, uma parte do script finalizado, uma nova feature implementada, ...\n",
    "\n",
    "Primeiramente vamos adicionar nosso 1o commit com o estado atual dos arquivos do projeto.\n",
    "\n",
    "## Adicionar arquivos que foram alterados\n",
    "O próprio `git status` nos disse que todos os arquivos não estão *tracked*, ou seja, precisamos fazer ele rastrear as mudanças com o `git add`\n",
    "\n",
    "&ensp;Digite `git add nome-do(s)-arquivos-a-adicionar-ao-commit`\n",
    "\n",
    "**DICA**: use a tecla **TAB** para auto-completar alguns arquivos com nomes longos\n",
    "**DICA**: digite `git add .` se quiser adicionar tudo.\n",
    "\n",
    "Verifique o comando `git status` agora rastreia as mudanças do arquivo, e as mudanças serão commitadas.\n",
    "<br>&ensp;<img src=\"./img/git_status_after_changes.png\" alt=\"git status after changes\" width=\"400\"/>\n",
    "\n",
    "## Commitar com uma mensagem pequena\n",
    "Após adicionar todos os arquivos que fazem parte desde commit, finalize com o comando:\n",
    "\n",
    "`git commit -m \"mensagem que descreve o commit aqui\"`\n",
    "<br>&ensp;<img src=\"./img/git_commit_initial.png\" alt=\"git commit initial\" width=\"400\"/>\n",
    "\n",
    "# Verificar commits\n",
    "Agora podemos olhar todos os commits que fizemos! Assim conseguimos olhar as mudanças e saber o que aconteceu em cada arquivo.\n",
    "\n",
    "Digite `git log`\n",
    "<br>&ensp;<img src=\"./img/git_log_versions.png\" alt=\"git log\" width=\"400\"/>\n",
    "\n",
    "No teu caso, deve ter somente o 1o commit, mas no casi acima já o arquivo já foi alterado algumas vezes. Note que podemos saber até quem alterou, quais arquivos e quando, além de ter uma mensagem de commit muito útil para saber do que se trata essas modificações.\n",
    "\n",
    "# Vericar se o arquivo foi alterado\n",
    "Podemos também rastreat as mudanças ocorridas nos arquivos.\n",
    "Crie um novo txt ou altere o anterior, salve.\n",
    "<br>Digite `git status` e verifique que o git já rastreou que houve mudanças neste(s) arquivo(s)."
   ]
  },
  {
   "cell_type": "markdown",
   "metadata": {
    "application/vnd.databricks.v1+cell": {
     "cellMetadata": {},
     "inputWidgets": {},
     "nuid": "ea551988-5fe1-4c1d-80bb-98582de7db4c",
     "showTitle": false,
     "title": ""
    }
   },
   "source": [
    "_____\n",
    "# 6. Push de alterações (subir alterações pro servidor remoto)\n",
    "No caso, já trabalhamos no arquivo local e queremos agora disponibilizar nossas mudanças para o repositório remoto, para que outras pessoas possam ter acesso e trabalhar nessas (atualizadas) novas mudanças.\n",
    "\n",
    "## Criar remoto\n",
    "Primeiramente precisamos conectar o nosso servidor remoto com a máquina local. Digite:\n",
    "\n",
    "`git remote add origin URL-do-repo-remoto`\n",
    "\n",
    "<br>**DICA**: Para copiar o caminho para o bash, clique com o botão direito do mouse > paste\n",
    "\n",
    "a sintaxe do comando é:\n",
    "<br>`git remote add nome-do-servidor-remoto URL-do-repo-remoto`\n",
    "<br>sendo que:\n",
    "<br>&ensp;`nome-do-servidor-remoto` pode ser qualquer nome, mas normalmente utilizamos `origin`.\n",
    "<br>&ensp;`URL-do-repo-remoto` se encontra no step **etapas de autenticação**.\n",
    "\n",
    "O `URL-do-repo-remoto` se encontra aqui:\n",
    "<br>&ensp;<img src=\"./img/clone_modes.png\" alt=\"clone modes\" width=\"400\"/>\n",
    "\n",
    "### Listar os remotos\n",
    "Digite `git remote -v` para listar todos os remotes criados.\n",
    "\n",
    "## Sincronizar projeto com o servidor\n",
    "**IMPORTANTE!!**\n",
    "O comando `pull` sincroniza todas as mudanças do servidor remoto com o repo local.\n",
    "<br>Ou seja, imagine que você começa o teu dia e não sabe se houve alguma mudança feita pelo teu time de ontem pra hoje.\n",
    "<br> Para garantir que temos todas as mudanças no repo, digitamos `git pull origin` e recebemos todas as alterações do servidor remoto para o repo local, e prontos para trabalhar em novas mudanças garantidamente em arquivos atualizados.\n",
    "\n",
    "Digite `git pull nome-do-servidor-remoto`\n",
    "<br>**DICA**: Se não sabe o nome-do-servidor-remoto, busque no comando `git remote -v` para listar todos os remotes criados.\n",
    "\n",
    "## Push direcionado\n",
    "Como será nosso primeiro upload, o comando push precisa ser configurado para um determinado servidor.\n",
    "Então escrevemos dessa forma:\n",
    "\n",
    "`git push -u nome-do-remote nome-do-branch`\n",
    "\n",
    "<br>&ensp;<img src=\"./img/git_push.png\" alt=\"git push\" width=\"400\"/>\n",
    "\n",
    "<br>**DICA**: Se não sabe o nome-do-branch, procure os parenteses () depois do caminho od teu repositório. Provável que seja o main, mas fique atento caso mude o nome do branch no futuro.\n",
    "\n",
    "### Error: problema com sincronização de arquivos\n",
    "Sincronizar com o repositorio: Não se esqueça do `git pull` sempre para ter o repo mais atualizado.\n",
    "Caso o problema persista **(!!! Não recomendado)** é necessário forçar o push acontecer, isto faz com que todos os arquivos que você tem na tua pasta serão os arquivos do teu remoto.\n",
    "\n",
    "&ensp;&ensp;*`git push -u nome-do-remote nome-do-branch --force`*"
   ]
  },
  {
   "cell_type": "markdown",
   "metadata": {
    "application/vnd.databricks.v1+cell": {
     "cellMetadata": {},
     "inputWidgets": {},
     "nuid": "845044f9-37d4-4b8c-b355-d13f43d3dfcc",
     "showTitle": false,
     "title": ""
    }
   },
   "source": [
    "# Clonar repositorios\n",
    "Uma capacidade super potente é clonar repositórios, que é fazer uma cópia estática, exatamente como mostra no github.\n",
    "\n",
    "`git clone URL-do-repo-remoto`\n",
    "\n",
    "O `URL-do-repo-remoto` se encontra aqui (nesse caso, podemos seguir com o HTTPS):\n",
    "<br>&ensp;<img src=\"./img/clone_modes.png\" alt=\"clone modes\" width=\"400\"/>"
   ]
  },
  {
   "cell_type": "markdown",
   "metadata": {
    "application/vnd.databricks.v1+cell": {
     "cellMetadata": {},
     "inputWidgets": {},
     "nuid": "4811a619-084b-47fa-85f4-c8c9bbe0eccb",
     "showTitle": false,
     "title": ""
    }
   },
   "source": [
    "# Exercícios\n",
    "\n",
    "1) Crie uma conta no github e crie um repositorio chamado \"DSPY018\"\n",
    "\n",
    "2) Crie e inicialize um repositorio local chamado \"local_dspy018\"\n",
    "\n",
    "3) Conecte o repo local com o remoto utilizando o nome-do-remote \"origin\" e branch \"main\"\n",
    "\n",
    "4) Crie um arquivo txt com algo escrito dentro e faça o commit desse arquivo.\n",
    "\n",
    "5) Suba o arquivo txt para o repo remoto\n",
    "\n",
    "6) Altere o arquivo txt no github (é preciso alterar e commitar as mudanças no github)\n",
    "\n",
    "7) Faça pull do arquivo txt alterado para o teu repo local\n",
    "\n",
    "EXTRA: Clonar um repositório de um colega (e se quiser alterar algo e subir mudanças)"
   ]
  }
 ],
 "metadata": {
  "application/vnd.databricks.v1+notebook": {
   "dashboards": [],
   "language": "python",
   "notebookMetadata": {
    "pythonIndentUnit": 4
   },
   "notebookName": "git_github_step-by-step",
   "widgets": {}
  },
  "language_info": {
   "name": "python",
   "version": "3.9.16"
  }
 },
 "nbformat": 4,
 "nbformat_minor": 0
}
