{
 "cells": [
  {
   "cell_type": "markdown",
   "metadata": {},
   "source": [
    "# 🎯 Aula 0 - Análise Exploratória de Dados (EDA)🎯<br>"
   ]
  },
  {
   "cell_type": "markdown",
   "metadata": {},
   "source": [
    "# Caso real:\n",
    "\n",
    "Durante o horário de trabalho, você recebe dois emails de *end-year review* sobre o resultados de atendimentos\n",
    "satisfeitos no ano.\n",
    "\n",
    "O 1o email do vice-presidente mostrou resultados que comparava a quantidade de <br> atendimentos satisfeitos feitos no ano em relação ao *target* final:\n",
    "\n",
    "**Média mensal de atendimentos satisfeitos no ano**\n",
    "<br>*LY*: Last year - ano passado.\n",
    "| Realizados (LY) | target | diff (LY) |\n",
    "|-|-|-|\n",
    "| 9.42k (7k) | 10k | -5%  (+34%) |\n",
    "\n",
    "\n",
    "O vice-presidente ficou satisfeito com o resultado, pois melhoraram em 34% em relação ao ano passado,<br> porém também incentivou à todos para darem o seu melhor já que ficaram 5% atrás do objetivo final deste ano.\n",
    "\n",
    "\n",
    "Já o segundo email era somente do departamento de resultados *customer satisfaction*, porque estavam muito insatisfeitos com o resultado do ano, sendo provavelmente o ano com a pior performance até agora. <br>\n",
    "\n",
    "Em anexo no 2o email havia uma imagem que mostrava os **atendimentos satisfeitos** mensalmente:\n",
    "\n",
    "<img src=\"https://datasciencedojo.com/wp-content/uploads/time-series-data-chart.png\" width=\"700\">\n",
    "\n",
    "Após análise sobre as duas mensagems contraditórias, qual mensagem fazia mais sentido?<br> Qual estava mais correta?\n",
    "A 1a do vice-presidente ou a 2a da área de *customer satisfaction*? Por quê?"
   ]
  },
  {
   "cell_type": "markdown",
   "metadata": {},
   "source": [
    "# O que é EDA?\n",
    "\n",
    "A Análise Exploratória de Dados (_EDA: Exploratory Data Analysis_) é uma abordagem inicial na análise de dados que visa entender a natureza dos dados disponíveis. Ela envolve a inspeção, o resumo e a visualização das informações de forma a identificar **padrões, tendências e características essenciais**. É uma etapa crucial para melhor direcionar as análises subsequentes."
   ]
  },
  {
   "cell_type": "markdown",
   "metadata": {},
   "source": [
    "# Para que Serve a Análise Exploratória de Dados?\n",
    "\n",
    "A EDA desempenha vários papéis importantes, como apresentado a seguir:"
   ]
  },
  {
   "cell_type": "markdown",
   "metadata": {},
   "source": [
    "## 1. Detecção de Anomalias\n",
    "Imagine que você está analisando os dados de vendas de uma loja e percebe que, em um determinado dia, houve uma receita extremamente alta em comparação com os outros dias (ex: caso real no ínicio da aula). A EDA pode ajudar a identificar essa anomalia, que pode ser causada por um **erro de registro ou por um evento especial**, por exemplo, permitindo que você a investigue e haja de acordo - o que você imagina que poderíamos fazer com essas anomalias?\n",
    "\n",
    "<img src=\"https://datasciencedojo.com/wp-content/uploads/time-series-data-chart.png\" width=\"500\"><br>\n",
    "Exemplo de detecção de anomalias: evento especial"
   ]
  },
  {
   "cell_type": "markdown",
   "metadata": {},
   "source": [
    "## 2. Sumarização de Dados\n",
    "\n",
    "Já no 1o email do caso real do início da aula, vimos o valor da média dos atendimentos satisfeitos. A EDA pode fornecer informações resumidas, como por exemplo, média, mediana, desvio padrão, máximas e mínima.\n",
    "\n",
    "Essas estatísticas são essenciais para descrever a distribuição dos dados e tirar conclusões sobre análises feitas.\n",
    "\n",
    "Imaginemos que temos essa distribuição de idades na base de clientes:\n",
    "\n",
    "| Idade  | Quantidade |\n",
    "|------|----------|\n",
    "| 25   | 10       |\n",
    "| 30   | 20       |\n",
    "| 36   | 30       |\n",
    "| 40   | 25       |\n",
    "| 48   | 10       |\n",
    "| 50   | 3        |\n",
    "| 61   | 2        |\n",
    "\n",
    "Sumarização:\n",
    "\n",
    "| informação (idades) | valor |\n",
    "|-|-|\n",
    "|Min|25|\n",
    "|Média|39.429|\n",
    "|Mediana|40|\n",
    "|Max|61|\n",
    "\n",
    "Que conclusões podemos obter com esses dados? E que conclusões não podemos obter?"
   ]
  },
  {
   "cell_type": "markdown",
   "metadata": {},
   "source": [
    "## 3. Visualização de Dados e identificação de tendências/correlações\n",
    "\n",
    "Na análise de vendas, por exemplo, você pode utilizar gráficos de séries temporais para representar a receita mensal ao longo do ano e correlacionar com temporadas sazonais. \n",
    "\n",
    "A EDA permite criar gráficos de fácil interpretação que mostram tendências sazonais, como picos de vendas nas férias de verão e quedas de vendas no inverno, por exemplo, ajudando a compreender melhor a relação dos padrões de vendas com a sazonalidade anual.\n",
    "\n",
    "<img src=\"https://emanuelaf.github.io/pred-sales_files/figure-html/unnamed-chunk-6-1.png\" width=\"650\"><br>\n",
    "Exemplo de identificação de tendencia: vendas sazonais"
   ]
  },
  {
   "cell_type": "markdown",
   "metadata": {},
   "source": [
    "# Aplicações da Análise Exploratória de Dados\n",
    "\n",
    "Devido à sua capacidade de revelar insights valiosos, a análise exploratória é versátil e encontra aplicação em diversas áreas, como as listadas a seguir:\n",
    "\n",
    "- **Ciência de Dados:** Na ciência de dados, a EDA é a primeira etapa do processo de análise, no qual os cientistas de dados exploram os dados brutos, identificam problemas de qualidade e criam uma compreensão inicial das informações. Isso é essencial para a construção de modelos de aprendizado de máquina eficazes.\n",
    "\n",
    "- **Estatística:** A EDA é usada para verificar suposições em modelos estatísticos. Por exemplo, ao analisar dados de testes de normalidade, a EDA ajuda a identificar desvios da distribuição normal, o que pode afetar a escolha do método estatístico apropriado.\n",
    "\n",
    "- **Negócios:** Em um contexto empresarial, a EDA ajuda a identificar oportunidades e ameaças. Por exemplo, ao analisar os dados de vendas, pode-se descobrir que um produto específico tem uma demanda sazonal, permitindo o planejamento de estoque e campanhas de marketing mais eficazes.\n",
    "\n",
    "- **Pesquisa Científica:** Em pesquisas acadêmicas, a EDA é usada para explorar dados experimentais, como resultados de estudos clínicos. Ela ajuda os pesquisadores a identificar padrões significativos nos dados, o que pode levar a novas descobertas e conclusões científicas."
   ]
  },
  {
   "cell_type": "markdown",
   "metadata": {},
   "source": [
    "# Etapas da EDA:\n",
    "\n",
    "Não é um senso comum as etapas da EDA, já que surgem à medida que há necessidade de resolução de um problema e tratamento dos dados para obter os insights.\n",
    "\n",
    "Seguimos com uma lista que guiará nossos estudos neste módulo:\n",
    "\n",
    "0. Reconhecimento dos dados (formato do arquivo, tipos de dados, tamanho dos dados, ...)\n",
    "1. Sumarização dos dados (média, mediana, mínimo, máximo, desvio padrão, ...)\n",
    "2. Identificação e tratamento de dados (ctes, nulos, outliers)\n",
    "3. Visualização de dados (tipos de graficos e objetivos)\n",
    "4. Análise de dados multivariados (correlações, teste de hipóteses, ...)"
   ]
  },
  {
   "cell_type": "markdown",
   "metadata": {},
   "source": [
    "\n",
    "# Referências\n",
    "\n",
    "MCKINNEY, Wes. Python Para Análise de Dados: Tratamento de Dados com Pandas, NumPy & Jupyter"
   ]
  }
 ],
 "metadata": {
  "language_info": {
   "name": "python"
  }
 },
 "nbformat": 4,
 "nbformat_minor": 2
}
