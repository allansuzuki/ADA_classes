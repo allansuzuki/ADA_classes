{
 "cells": [
  {
   "cell_type": "markdown",
   "metadata": {},
   "source": [
    "# 🎯 Aula 2 -Estatística descritiva básica no Pandas 🎯"
   ]
  },
  {
   "cell_type": "markdown",
   "metadata": {},
   "source": [
    "![histograma](./img/histogram_output.png)\n",
    "\n",
    "Os dados acima representam a distribuição do ano de nascimento de algumas pessoas. Este gráfico, conhecido como histograma, conta quantas pessoas são daquele ano (por exemplo, temos 20 pessoas que são do ano de 1960).\n",
    "\n",
    "**Obs**: repare um dado muito interessante: as idades estão ordenadas.\n",
    "\n",
    "Como você resumiria os dados acima de forma simplificada?"
   ]
  },
  {
   "cell_type": "markdown",
   "metadata": {},
   "source": [
    "# Estatística Descritiva Básica\n",
    "\n",
    "A Estatística Descritiva é uma ferramenta imprenscindível na Análise Exploratória de Dados, que ajuda a compreender, resumir e interpretar as características fundamentais de um conjunto de dados. É a parte da estatística preocupada em descrever os dados analisados. Por meio dela, podemos ter uma visão global de uma série de informações, como a variação dos dados envolvidos na análise. \n",
    "\n",
    "Aqui, vamos explorar conceitos básicos da estatística descritiva e como aplicá-los utilizando o `Pandas`.\n"
   ]
  },
  {
   "cell_type": "markdown",
   "metadata": {},
   "source": [
    "## Medidas de centralidade \n",
    "\n",
    "As medidas de centralidade, também chamadas medidas de tendência central, são representações do todo de um conjunto de dados. Elas indicam um ponto que centraliza todos os outros dados. As principais medidas de centralidade são: \n",
    "* média\n",
    "* mediana\n",
    "* moda. \n",
    "\n",
    "A seguir, veremos sobre cada uma delas:\n"
   ]
  },
  {
   "cell_type": "markdown",
   "metadata": {},
   "source": [
    "### Média\n",
    "\n",
    "A média - aqui, média aritmética - é a medida de centralidade mais utilizada em nosso cotidiano, e indica o valor central de um conjunto de números. Ela é determinada pela soma de todos os valores numéricos do conjunto de dados dividida pela quantidade de valores.\n",
    "\n",
    "$\\bar{x} = \\frac{\\sum_n{(x)}}{n}$\n",
    "\n",
    "sendo:<br>\n",
    "$\\bar{x}$: média de um conjunto `x`<br>\n",
    "$n$: quantidade de valores no conjunto `x` \n",
    "$\\sum_n{(x)}$: soma de todo o conjunto `x`<br>\n",
    "\n",
    "Essa medida é útil para representar um conjunto de dados com um único valor, facilitando comparações e análises gerais. \n",
    "\n",
    "No entanto, é sensível a *outliers* - dados que se diferenciam drasticamente da tendência do conjunto -, que podem distorcer sua representatividade."
   ]
  },
  {
   "cell_type": "markdown",
   "metadata": {},
   "source": [
    "No Pandas, utilizamos o método `.mean()`.\n",
    "\n",
    "Consideremos o exemplo da seção anterior, do DataFrame de avaliações de restaurantes em Nova York. "
   ]
  },
  {
   "cell_type": "code",
   "execution_count": 37,
   "metadata": {},
   "outputs": [],
   "source": [
    "import pandas as pd\n",
    "\n",
    "df_rating = pd.read_csv('./data/Cuisine_rating.csv')"
   ]
  },
  {
   "cell_type": "markdown",
   "metadata": {},
   "source": [
    "Se quisermos a média das avaliações gerais realizadas, podemos fazer da seguinte forma:"
   ]
  },
  {
   "cell_type": "code",
   "execution_count": 38,
   "metadata": {},
   "outputs": [
    {
     "data": {
      "text/plain": [
       "3.225"
      ]
     },
     "execution_count": 38,
     "metadata": {},
     "output_type": "execute_result"
    }
   ],
   "source": [
    "df_rating['Overall Rating'].mean()"
   ]
  },
  {
   "cell_type": "markdown",
   "metadata": {},
   "source": [
    "**Obs:** Isto é uma operação `reduce`! (Aplicamos uma função a totalidade dos dados e retorna somente um único número)"
   ]
  },
  {
   "cell_type": "markdown",
   "metadata": {},
   "source": [
    "Porém, olha o que acontece se realizamos uma operação no DataFrame inteiro (sim é possível!):"
   ]
  },
  {
   "cell_type": "code",
   "execution_count": 39,
   "metadata": {},
   "outputs": [
    {
     "name": "stderr",
     "output_type": "stream",
     "text": [
      "C:\\Users\\AllanSuzuki\\AppData\\Local\\Temp\\ipykernel_8708\\251571468.py:1: FutureWarning: The default value of numeric_only in DataFrame.mean is deprecated. In a future version, it will default to False. In addition, specifying 'numeric_only=None' is deprecated. Select only valid columns or specify the value of numeric_only to silence this warning.\n",
      "  df_rating.mean()\n"
     ]
    },
    {
     "data": {
      "text/plain": [
       "User ID            100.500\n",
       "Area code          141.060\n",
       "YOB               1984.830\n",
       "Budget               3.815\n",
       "Food Rating          3.220\n",
       "Service Rating       3.230\n",
       "Overall Rating       3.225\n",
       "dtype: float64"
      ]
     },
     "execution_count": 39,
     "metadata": {},
     "output_type": "execute_result"
    }
   ],
   "source": [
    "df_rating.mean()"
   ]
  },
  {
   "cell_type": "markdown",
   "metadata": {},
   "source": [
    "Podemos notar que o cálculo de média foi realizada em todas as colunas numéricas do nosso DataFrame. Portanto, se não é isto que deseja realizar, devemos sempre lembrar qual é o campo ou a coluna que queremos calcular a média."
   ]
  },
  {
   "cell_type": "markdown",
   "metadata": {},
   "source": [
    "### Mediana\n",
    "\n",
    "A mediana é o valor que separa a metade superior da metade inferior de um conjunto de dados ordenados. Em outras palavras, se todos os valores de um conjunto fossem ordenados, a mediana seria o **valor médio**, ou seja, o valor que está na metade do conjunto.\n",
    "\n",
    "A mediana é particularmente útil em conjuntos de dados com *outliers* ou distribuições assimétricas, pois fornece uma medida mais robusta da tendência central."
   ]
  },
  {
   "cell_type": "markdown",
   "metadata": {},
   "source": [
    "\n",
    "No Pandas, calculamos a mediana utilizando `.median()`.\n",
    "\n",
    "Se quisermos calcular a mediana das avaliações gerais de restaurantes, podemos escrever o seguinte código:\n"
   ]
  },
  {
   "cell_type": "code",
   "execution_count": 40,
   "metadata": {},
   "outputs": [
    {
     "data": {
      "text/plain": [
       "3.0"
      ]
     },
     "execution_count": 40,
     "metadata": {},
     "output_type": "execute_result"
    }
   ],
   "source": [
    "df_rating['Overall Rating'].median()"
   ]
  },
  {
   "cell_type": "markdown",
   "metadata": {},
   "source": [
    "Repare como os valores da `média` e `mediana` são diferentes entre si. Isso é possível porque ambos representam um número de centralidade, mas determinados com estratégias diferentes :)"
   ]
  },
  {
   "cell_type": "markdown",
   "metadata": {},
   "source": [
    "### Moda\n",
    "\n",
    "A moda é o valor (ou valores) mais frequentes em um conjunto de dados. Um conjunto de dados pode ser unimodal (possui apenas uma moda), bimodal(duas) ou multimodal(mais de duas).\n",
    "\n",
    "A moda é especialmente útil em dados categóricos para identificar a **categoria** mais comum."
   ]
  },
  {
   "cell_type": "markdown",
   "metadata": {},
   "source": [
    "No Pandas, calculamos a moda utilizando `.mode()`.\n",
    "\n",
    "Se quisermos calcular a moda das avaliações gerais de restaurantes, podemos escrever o seguinte código:"
   ]
  },
  {
   "cell_type": "code",
   "execution_count": 41,
   "metadata": {},
   "outputs": [
    {
     "data": {
      "text/plain": [
       "0    3.5\n",
       "Name: Overall Rating, dtype: float64"
      ]
     },
     "execution_count": 41,
     "metadata": {},
     "output_type": "execute_result"
    }
   ],
   "source": [
    "df_rating['Overall Rating'].mode()"
   ]
  },
  {
   "cell_type": "markdown",
   "metadata": {},
   "source": [
    "O que isto significa? Significa que a nota mais atribuída pelos clientes em `Overall Rating` foi 3.5. Podemos até contar quantas vezes 3.5 foi dada utilizando o `value_counts()`"
   ]
  },
  {
   "cell_type": "code",
   "execution_count": 42,
   "metadata": {},
   "outputs": [
    {
     "data": {
      "text/plain": [
       "3.5    35\n",
       "3.0    34\n",
       "2.5    32\n",
       "5.0    29\n",
       "4.0    26\n",
       "2.0    21\n",
       "1.5    11\n",
       "4.5     6\n",
       "1.0     6\n",
       "Name: Overall Rating, dtype: int64"
      ]
     },
     "execution_count": 42,
     "metadata": {},
     "output_type": "execute_result"
    }
   ],
   "source": [
    "df_rating['Overall Rating'].value_counts()"
   ]
  },
  {
   "cell_type": "markdown",
   "metadata": {},
   "source": [
    "E assim podemos ter certeza que 3.5 é a moda dos dados."
   ]
  },
  {
   "cell_type": "markdown",
   "metadata": {},
   "source": [
    "## Desvio-padrão e variância\n",
    "\n",
    "O desvio-padrão e a variância encontram-se dentro de um conjunto de medidas chamadas de Medidas de Dispersão.\n",
    "Essas métricas servem de auxílio para as medidas de centralidade, descrevendo o conjunto de dados e nos auxiliando a ver a dispersão de dados observados, ou seja, quão distantes estão uns dos outros. \n",
    "\n",
    "Se os dados variam de forma significativa, por exemplo, a média deixa de ser representativa no conjunto. Assim, quando fazemos uma análise de dados, precisamos ao menos de uma **medida de centralidade e de uma medida de dispersão**.\n",
    "\n",
    "O desvio-padrão mede a quantidade de variação ou dispersão em um conjunto de valores. O desvio-padrão é crucial para entender o quão espalhados estão os valores em relação à média. E calculamos dessa forma:\n",
    "\n",
    "$\\sigma = \\sqrt{\\frac{\\sum_n{(x_i - \\bar{x})^2}}{n}}$\n",
    "\n",
    "sendo:<br>\n",
    "$\\sigma$: desvio-padrão do conjunto<br>\n",
    "$x_i$: o valor da posição $i$ do conjunto<br>\n",
    "$\\bar{x}$: média do conjunto<br>\n",
    "$n$: quantidade de valores do conjunto\n",
    "\n",
    "A variância, por sua vez, é o quadrado do desvio-padrão. Ela mede o grau de dispersão dos dados em relação à média. Essa medida é útil para comparar a dispersão entre diferentes conjuntos de dados. No entanto, como está em uma unidade quadrada, muitas vezes o desvio padrão é preferido para interpretação. E manteremos as análises somente com o desvio-padrão."
   ]
  },
  {
   "cell_type": "markdown",
   "metadata": {},
   "source": [
    "No Pandas, podemos calcular desvio-padrão e variância, respectivamente, pelos métodos `.std()` e `.var()`.\n",
    "\n",
    "No exemplo de avaliações de restaurante, se quisermos calcular o desvio-padrão:\n"
   ]
  },
  {
   "cell_type": "code",
   "execution_count": 43,
   "metadata": {},
   "outputs": [
    {
     "data": {
      "text/plain": [
       "1.0794447670099319"
      ]
     },
     "execution_count": 43,
     "metadata": {},
     "output_type": "execute_result"
    }
   ],
   "source": [
    "df_rating['Overall Rating'].std()"
   ]
  },
  {
   "cell_type": "markdown",
   "metadata": {},
   "source": [
    "O resultado acima significa que o conjuntos de dados em geral estão dispersos 1.079 da média de 3.225, tanto pra cima quanto pra baixo. Isso significa que boa parte dos dados (estatísticamente 68% dos dados) estão localizados entre 3.225 $\\pm$ 1.079, ou seja, entre 2.146 e 4.302.\n",
    "\n",
    "Vamos ilustrar o exemplo um pouco melhor para percebermos visualmente.<br>\n",
    "No exemplo abaixo, temos duas amostras. Ambas possuem média semelhantes, porém uma amostra tem desvio padrão maior que a outra amostra.<br>\n",
    "No exemplo abaixo essa comparação é realizada visualmente."
   ]
  },
  {
   "cell_type": "code",
   "execution_count": 44,
   "metadata": {},
   "outputs": [
    {
     "data": {
      "text/plain": [
       "Text(0.5, 1.0, 'High variance')"
      ]
     },
     "execution_count": 44,
     "metadata": {},
     "output_type": "execute_result"
    },
    {
     "data": {
      "image/png": "[encoded data removed]",
      "text/plain": [
       "<Figure size 1000x300 with 2 Axes>"
      ]
     },
     "metadata": {},
     "output_type": "display_data"
    }
   ],
   "source": [
    "import numpy as np\n",
    "import matplotlib.pyplot as plt\n",
    "# plot graph with high deviation\n",
    "def create_sample(n=1000, std=1):\n",
    "    return np.random.randn(n)*std\n",
    "\n",
    "low_variation_sample = create_sample()\n",
    "high_variation_sample = create_sample(std=5)\n",
    "\n",
    "fig,ax = plt.subplots(1,2,sharey=True, figsize=(10,3))\n",
    "predef = {'alpha':0.3, 's':5}\n",
    "ax[0].scatter(range(len(low_variation_sample)),low_variation_sample, **predef)\n",
    "ax[0].plot(range(len(low_variation_sample)),[low_variation_sample.mean()]*len(low_variation_sample), c='r', label=f'mean: {low_variation_sample.mean():.2f}')\n",
    "ax[0].fill_between(range(len(low_variation_sample)),\n",
    "                   [low_variation_sample.mean()-low_variation_sample.std()]*len(low_variation_sample),\n",
    "                   [low_variation_sample.mean()+low_variation_sample.std()]*len(low_variation_sample),\n",
    "                     color='pink', alpha=.3,label=f'std: {low_variation_sample.std():.2f}')\n",
    "ax[0].legend(loc=1)\n",
    "ax[0].set_title('Low variance')\n",
    "\n",
    "ax[1].scatter(range(len(high_variation_sample)),high_variation_sample, **predef)\n",
    "ax[1].plot(range(len(high_variation_sample)),[high_variation_sample.mean()]*len(high_variation_sample), c='r', label=f'mean: {high_variation_sample.mean():.2f}')\n",
    "ax[1].fill_between(range(len(high_variation_sample)),\n",
    "                   [high_variation_sample.mean()-high_variation_sample.std()]*len(high_variation_sample),\n",
    "                   [high_variation_sample.mean()+high_variation_sample.std()]*len(high_variation_sample),\n",
    "                     color='pink', alpha=.3,label=f'std: {high_variation_sample.std():.2f}')\n",
    "ax[1].legend(loc=1)\n",
    "ax[1].set_title('High variance')"
   ]
  },
  {
   "cell_type": "markdown",
   "metadata": {},
   "source": [
    "Um desvio-padrão baixo indica que os valores tendem a estar próximos da média, enquanto um desvio-padrão alto indica uma ampla variação nos dados. "
   ]
  },
  {
   "cell_type": "markdown",
   "metadata": {},
   "source": [
    "## Quartil\n",
    "Quartis são valores que dividem um conjunto de dados em quatro partes iguais, cada uma contendo 25% dos dados. Os principais quartis são o primeiro quartil (25%), o segundo quartil (50%, que é a mediana) e o terceiro quartil (75%).\n",
    "\n",
    "Essas medidas são essenciais para compreender a distribuição dos dados, identificar outliers e entender a dispersão dos dados."
   ]
  },
  {
   "cell_type": "markdown",
   "metadata": {},
   "source": [
    "No Pandas, o cálculo do quartil é obtido por `.quantile()`, no qual pede o parâmetro `q` com os quantis que queremos. Neste caso os quantis são 0.25 para o 1o quartil, 0.5 para a mediana e 0.75 para o 3o quartil.\n",
    "\n",
    " Vamos ver os quartis nas avaliações gerais do dataset de restaurantes:"
   ]
  },
  {
   "cell_type": "code",
   "execution_count": 45,
   "metadata": {},
   "outputs": [
    {
     "data": {
      "text/plain": [
       "0.25    2.5\n",
       "0.50    3.0\n",
       "0.75    4.0\n",
       "Name: Overall Rating, dtype: float64"
      ]
     },
     "execution_count": 45,
     "metadata": {},
     "output_type": "execute_result"
    }
   ],
   "source": [
    "df_rating['Overall Rating'].quantile([0.25, 0.5, 0.75])"
   ]
  },
  {
   "cell_type": "markdown",
   "metadata": {},
   "source": [
    "\n",
    "## A função *.describe()* no Pandas\n",
    "A função `.describe()` do Pandas oferece um resumo estatístico dos dados, incluindo média, mediana, moda, desvio padrão, mínimo, máximo e quartis, ou seja, tudo o que vimos até agora :)\n",
    "\n",
    "Podemos ver no exemplo que trabalhamos durante esta seção:"
   ]
  },
  {
   "cell_type": "code",
   "execution_count": 46,
   "metadata": {},
   "outputs": [
    {
     "data": {
      "text/plain": [
       "count    200.000000\n",
       "mean       3.225000\n",
       "std        1.079445\n",
       "min        1.000000\n",
       "25%        2.500000\n",
       "50%        3.000000\n",
       "75%        4.000000\n",
       "max        5.000000\n",
       "Name: Overall Rating, dtype: float64"
      ]
     },
     "execution_count": 46,
     "metadata": {},
     "output_type": "execute_result"
    }
   ],
   "source": [
    "df_rating['Overall Rating'].describe()"
   ]
  },
  {
   "cell_type": "markdown",
   "metadata": {},
   "source": [
    "# Execícios"
   ]
  },
  {
   "cell_type": "code",
   "execution_count": null,
   "metadata": {},
   "outputs": [],
   "source": []
  },
  {
   "cell_type": "code",
   "execution_count": null,
   "metadata": {},
   "outputs": [],
   "source": []
  },
  {
   "cell_type": "code",
   "execution_count": null,
   "metadata": {},
   "outputs": [],
   "source": []
  },
  {
   "cell_type": "markdown",
   "metadata": {},
   "source": [
    "\n",
    "## Referências\n",
    "[Documentação Pandas](https://pandas.pydata.org/docs/)\n",
    "\n",
    "[Dataset Usado](https://www.kaggle.com/datasets/surajjha101/cuisine-rating)"
   ]
  }
 ],
 "metadata": {
  "kernelspec": {
   "display_name": "base",
   "language": "python",
   "name": "python3"
  },
  "language_info": {
   "codemirror_mode": {
    "name": "ipython",
    "version": 3
   },
   "file_extension": ".py",
   "mimetype": "text/x-python",
   "name": "python",
   "nbconvert_exporter": "python",
   "pygments_lexer": "ipython3",
   "version": "3.11.5"
  }
 },
 "nbformat": 4,
 "nbformat_minor": 2
}
