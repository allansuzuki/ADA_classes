{
 "cells": [
  {
   "cell_type": "markdown",
   "metadata": {},
   "source": [
    "# 🎯 Aula 2 -Estatística descritiva básica no Pandas 🎯"
   ]
  },
  {
   "cell_type": "markdown",
   "metadata": {},
   "source": [
    "<center><img src=\"./img/histogram_output.png\" alt=\"histograma de ano de nascimento de pessoas\" width=\"350rm\"></center>\n",
    "\n",
    "Os dados acima representam a distribuição do ano de nascimento de algumas pessoas. Este gráfico, conhecido como histograma, conta quantas pessoas são daquele ano (por exemplo, temos 20 pessoas que são do ano de 1960).\n",
    "\n",
    "**Obs**: repare um dado muito interessante: as idades estão ordenadas.\n",
    "\n",
    "Como você resumiria os dados acima de forma simplificada?"
   ]
  },
  {
   "cell_type": "markdown",
   "metadata": {},
   "source": [
    "# Estatística Descritiva Básica\n",
    "\n",
    "A Estatística Descritiva é uma ferramenta imprenscindível na Análise Exploratória de Dados, que ajuda a compreender, resumir e interpretar as características fundamentais de um conjunto de dados. É a parte da estatística preocupada em descrever os dados analisados. Por meio dela, podemos ter uma visão global de uma série de informações, como a variação dos dados envolvidos na análise. \n",
    "\n",
    "Aqui, vamos explorar conceitos básicos da estatística descritiva e como aplicá-los utilizando o `Pandas`.\n"
   ]
  },
  {
   "cell_type": "markdown",
   "metadata": {},
   "source": [
    "## Medidas de centralidade \n",
    "\n",
    "As medidas de centralidade, também chamadas medidas de tendência central, são representações do todo de um conjunto de dados. Elas indicam um ponto que centraliza todos os outros dados. As principais medidas de centralidade são: \n",
    "* média\n",
    "* mediana\n",
    "* moda. \n",
    "\n",
    "A seguir, veremos sobre cada uma delas:\n"
   ]
  },
  {
   "cell_type": "markdown",
   "metadata": {},
   "source": [
    "### Média\n",
    "\n",
    "A média - aqui, média aritmética - é a medida de centralidade mais utilizada em nosso cotidiano, e indica o valor central de um conjunto de números. Ela é determinada pela soma de todos os valores numéricos do conjunto de dados dividida pela quantidade de valores.\n",
    "\n",
    "$\\bar{x} = \\frac{\\sum_n{(x)}}{n}$\n",
    "\n",
    "sendo:<br>\n",
    "$\\bar{x}$: média de um conjunto `x`<br>\n",
    "$n$: quantidade de valores no conjunto `x` \n",
    "$\\sum_n{(x)}$: soma de todo o conjunto `x`<br>\n",
    "\n",
    "Essa medida é útil para representar um conjunto de dados com um único valor, facilitando comparações e análises gerais. \n",
    "\n",
    "No entanto, é sensível a *outliers* - dados que se diferenciam drasticamente da tendência do conjunto -, que podem distorcer sua representatividade."
   ]
  },
  {
   "cell_type": "markdown",
   "metadata": {},
   "source": [
    "No Pandas, utilizamos o método `.mean()`.\n",
    "\n",
    "Consideremos o exemplo da seção anterior, do DataFrame de avaliações de restaurantes em Nova York. "
   ]
  },
  {
   "cell_type": "code",
   "execution_count": 2,
   "metadata": {},
   "outputs": [],
   "source": [
    "import pandas as pd\n",
    "\n",
    "df_rating = pd.read_csv('./data/Cuisine_rating.csv')"
   ]
  },
  {
   "cell_type": "markdown",
   "metadata": {},
   "source": [
    "Se quisermos a média das avaliações gerais realizadas, podemos fazer da seguinte forma:"
   ]
  },
  {
   "cell_type": "code",
   "execution_count": 3,
   "metadata": {},
   "outputs": [
    {
     "data": {
      "text/plain": [
       "3.225"
      ]
     },
     "execution_count": 3,
     "metadata": {},
     "output_type": "execute_result"
    }
   ],
   "source": [
    "df_rating['Overall Rating'].mean()"
   ]
  },
  {
   "cell_type": "markdown",
   "metadata": {},
   "source": [
    "**Obs:** Isto é uma operação `reduce`! (Aplicamos uma função a totalidade dos dados e retorna somente um único número)"
   ]
  },
  {
   "cell_type": "markdown",
   "metadata": {},
   "source": [
    "Porém, olha o que acontece se realizamos uma operação no DataFrame inteiro (sim é possível!):"
   ]
  },
  {
   "cell_type": "code",
   "execution_count": 4,
   "metadata": {},
   "outputs": [
    {
     "name": "stderr",
     "output_type": "stream",
     "text": [
      "C:\\Users\\AllanSuzuki\\AppData\\Local\\Temp\\ipykernel_2200\\251571468.py:1: FutureWarning: The default value of numeric_only in DataFrame.mean is deprecated. In a future version, it will default to False. In addition, specifying 'numeric_only=None' is deprecated. Select only valid columns or specify the value of numeric_only to silence this warning.\n",
      "  df_rating.mean()\n"
     ]
    },
    {
     "data": {
      "text/plain": [
       "User ID            100.500\n",
       "Area code          141.060\n",
       "YOB               1984.830\n",
       "Budget               3.815\n",
       "Food Rating          3.220\n",
       "Service Rating       3.230\n",
       "Overall Rating       3.225\n",
       "dtype: float64"
      ]
     },
     "execution_count": 4,
     "metadata": {},
     "output_type": "execute_result"
    }
   ],
   "source": [
    "df_rating.mean()"
   ]
  },
  {
   "cell_type": "markdown",
   "metadata": {},
   "source": [
    "Podemos notar que o cálculo de média foi realizada em todas as colunas numéricas do nosso DataFrame. Portanto, se não é isto que deseja realizar, devemos sempre lembrar qual é o campo ou a coluna que queremos calcular a média."
   ]
  },
  {
   "cell_type": "markdown",
   "metadata": {},
   "source": [
    "### Mediana\n",
    "\n",
    "A mediana é o valor que separa a metade superior da metade inferior de um conjunto de dados ordenados. Em outras palavras, se todos os valores de um conjunto fossem ordenados, a mediana seria o **valor médio**, ou seja, o valor que está na metade do conjunto.\n",
    "\n",
    "A mediana é particularmente útil em conjuntos de dados com *outliers* ou distribuições assimétricas, pois fornece uma medida mais robusta da tendência central."
   ]
  },
  {
   "cell_type": "markdown",
   "metadata": {},
   "source": [
    "\n",
    "No Pandas, calculamos a mediana utilizando `.median()`.\n",
    "\n",
    "Se quisermos calcular a mediana das avaliações gerais de restaurantes, podemos escrever o seguinte código:\n"
   ]
  },
  {
   "cell_type": "code",
   "execution_count": 5,
   "metadata": {},
   "outputs": [
    {
     "data": {
      "text/plain": [
       "3.0"
      ]
     },
     "execution_count": 5,
     "metadata": {},
     "output_type": "execute_result"
    }
   ],
   "source": [
    "df_rating['Overall Rating'].median()"
   ]
  },
  {
   "cell_type": "markdown",
   "metadata": {},
   "source": [
    "Repare como os valores da `média` e `mediana` são diferentes entre si. Isso é possível porque ambos representam um número de centralidade, mas determinados com estratégias diferentes :)"
   ]
  },
  {
   "cell_type": "markdown",
   "metadata": {},
   "source": [
    "### Moda\n",
    "\n",
    "A moda é o valor (ou valores) mais frequentes em um conjunto de dados. Um conjunto de dados pode ser unimodal (possui apenas uma moda), bimodal(duas) ou multimodal(mais de duas).\n",
    "\n",
    "A moda é especialmente útil em dados categóricos para identificar a **categoria** mais comum."
   ]
  },
  {
   "cell_type": "markdown",
   "metadata": {},
   "source": [
    "No Pandas, calculamos a moda utilizando `.mode()`.\n",
    "\n",
    "Se quisermos calcular a moda das avaliações gerais de restaurantes, podemos escrever o seguinte código:"
   ]
  },
  {
   "cell_type": "code",
   "execution_count": 6,
   "metadata": {},
   "outputs": [
    {
     "data": {
      "text/plain": [
       "0    3.5\n",
       "Name: Overall Rating, dtype: float64"
      ]
     },
     "execution_count": 6,
     "metadata": {},
     "output_type": "execute_result"
    }
   ],
   "source": [
    "df_rating['Overall Rating'].mode()"
   ]
  },
  {
   "cell_type": "markdown",
   "metadata": {},
   "source": [
    "O que isto significa? Significa que a nota mais atribuída pelos clientes em `Overall Rating` foi 3.5. Podemos até contar quantas vezes 3.5 foi dada utilizando o `value_counts()`"
   ]
  },
  {
   "cell_type": "code",
   "execution_count": 7,
   "metadata": {},
   "outputs": [
    {
     "data": {
      "text/plain": [
       "3.5    35\n",
       "3.0    34\n",
       "2.5    32\n",
       "5.0    29\n",
       "4.0    26\n",
       "2.0    21\n",
       "1.5    11\n",
       "4.5     6\n",
       "1.0     6\n",
       "Name: Overall Rating, dtype: int64"
      ]
     },
     "execution_count": 7,
     "metadata": {},
     "output_type": "execute_result"
    }
   ],
   "source": [
    "df_rating['Overall Rating'].value_counts()"
   ]
  },
  {
   "cell_type": "markdown",
   "metadata": {},
   "source": [
    "E assim podemos ter certeza que 3.5 é a moda dos dados."
   ]
  },
  {
   "cell_type": "markdown",
   "metadata": {},
   "source": [
    "## Desvio-padrão e variância\n",
    "\n",
    "O desvio-padrão e a variância encontram-se dentro de um conjunto de medidas chamadas de Medidas de Dispersão.\n",
    "Essas métricas servem de auxílio para as medidas de centralidade, descrevendo o conjunto de dados e nos auxiliando a ver a dispersão de dados observados, ou seja, quão distantes estão uns dos outros. \n",
    "\n",
    "Se os dados variam de forma significativa, por exemplo, a média deixa de ser representativa no conjunto. Assim, quando fazemos uma análise de dados, precisamos ao menos de uma **medida de centralidade e de uma medida de dispersão**.\n",
    "\n",
    "O desvio-padrão mede a quantidade de variação ou dispersão em um conjunto de valores. O desvio-padrão é crucial para entender o quão espalhados estão os valores em relação à média. E calculamos dessa forma:\n",
    "\n",
    "$\\sigma = \\sqrt{\\frac{\\sum_n{(x_i - \\bar{x})^2}}{n}}$\n",
    "\n",
    "sendo:<br>\n",
    "$\\sigma$: desvio-padrão do conjunto<br>\n",
    "$x_i$: o valor da posição $i$ do conjunto<br>\n",
    "$\\bar{x}$: média do conjunto<br>\n",
    "$n$: quantidade de valores do conjunto\n",
    "\n",
    "A variância, por sua vez, é o quadrado do desvio-padrão. Ela mede o grau de dispersão dos dados em relação à média. Essa medida é útil para comparar a dispersão entre diferentes conjuntos de dados. No entanto, como está em uma unidade quadrada, muitas vezes o desvio padrão é preferido para interpretação. E manteremos as análises somente com o desvio-padrão."
   ]
  },
  {
   "cell_type": "markdown",
   "metadata": {},
   "source": [
    "No Pandas, podemos calcular desvio-padrão e variância, respectivamente, pelos métodos `.std()` e `.var()`.\n",
    "\n",
    "No exemplo de avaliações de restaurante, se quisermos calcular o desvio-padrão:\n"
   ]
  },
  {
   "cell_type": "code",
   "execution_count": 8,
   "metadata": {},
   "outputs": [
    {
     "data": {
      "text/plain": [
       "1.0794447670099319"
      ]
     },
     "execution_count": 8,
     "metadata": {},
     "output_type": "execute_result"
    }
   ],
   "source": [
    "df_rating['Overall Rating'].std()"
   ]
  },
  {
   "cell_type": "markdown",
   "metadata": {},
   "source": [
    "O resultado acima significa que o conjuntos de dados em geral estão dispersos 1.079 da média de 3.225, tanto pra cima quanto pra baixo. Isso significa que boa parte dos dados (estatísticamente 68% dos dados) estão localizados entre 3.225 $\\pm$ 1.079, ou seja, entre 2.146 e 4.302.\n",
    "\n",
    "Vamos ilustrar o exemplo um pouco melhor para percebermos visualmente.<br>\n",
    "No exemplo abaixo, temos duas amostras. Ambas possuem média semelhantes, porém uma amostra tem desvio padrão maior que a outra amostra.<br>\n",
    "No exemplo abaixo essa comparação é realizada visualmente."
   ]
  },
  {
   "cell_type": "code",
   "execution_count": 9,
   "metadata": {},
   "outputs": [
    {
     "data": {
      "text/plain": [
       "Text(0.5, 1.0, 'High variance')"
      ]
     },
     "execution_count": 9,
     "metadata": {},
     "output_type": "execute_result"
    },
    {
     "data": {
      "image/png": "[encoded data removed]",
      "text/plain": [
       "<Figure size 1000x300 with 2 Axes>"
      ]
     },
     "metadata": {},
     "output_type": "display_data"
    }
   ],
   "source": [
    "import numpy as np\n",
    "import matplotlib.pyplot as plt\n",
    "# plot graph with high deviation\n",
    "def create_sample(n=1000, std=1):\n",
    "    return np.random.randn(n)*std\n",
    "\n",
    "low_variation_sample = create_sample()\n",
    "high_variation_sample = create_sample(std=5)\n",
    "\n",
    "fig,ax = plt.subplots(1,2,sharey=True, figsize=(10,3))\n",
    "predef = {'alpha':0.3, 's':5}\n",
    "ax[0].scatter(range(len(low_variation_sample)),low_variation_sample, **predef)\n",
    "ax[0].plot(range(len(low_variation_sample)),[low_variation_sample.mean()]*len(low_variation_sample), c='r', label=f'mean: {low_variation_sample.mean():.2f}')\n",
    "ax[0].fill_between(range(len(low_variation_sample)),\n",
    "                   [low_variation_sample.mean()-low_variation_sample.std()]*len(low_variation_sample),\n",
    "                   [low_variation_sample.mean()+low_variation_sample.std()]*len(low_variation_sample),\n",
    "                     color='pink', alpha=.3,label=f'std: {low_variation_sample.std():.2f}')\n",
    "ax[0].legend(loc=1)\n",
    "ax[0].set_title('Low variance')\n",
    "\n",
    "ax[1].scatter(range(len(high_variation_sample)),high_variation_sample, **predef)\n",
    "ax[1].plot(range(len(high_variation_sample)),[high_variation_sample.mean()]*len(high_variation_sample), c='r', label=f'mean: {high_variation_sample.mean():.2f}')\n",
    "ax[1].fill_between(range(len(high_variation_sample)),\n",
    "                   [high_variation_sample.mean()-high_variation_sample.std()]*len(high_variation_sample),\n",
    "                   [high_variation_sample.mean()+high_variation_sample.std()]*len(high_variation_sample),\n",
    "                     color='pink', alpha=.3,label=f'std: {high_variation_sample.std():.2f}')\n",
    "ax[1].legend(loc=1)\n",
    "ax[1].set_title('High variance')"
   ]
  },
  {
   "cell_type": "markdown",
   "metadata": {},
   "source": [
    "Um desvio-padrão baixo indica que os valores tendem a estar próximos da média, enquanto um desvio-padrão alto indica uma ampla variação nos dados. "
   ]
  },
  {
   "cell_type": "markdown",
   "metadata": {},
   "source": [
    "## Quartil\n",
    "Quartis são valores que dividem um conjunto de dados em quatro partes iguais, cada uma contendo 25% dos dados. Os principais quartis são o primeiro quartil (25%), o segundo quartil (50%, que é a mediana) e o terceiro quartil (75%).\n",
    "\n",
    "Essas medidas são essenciais para compreender a distribuição dos dados, identificar outliers e entender a dispersão dos dados."
   ]
  },
  {
   "cell_type": "markdown",
   "metadata": {},
   "source": [
    "No Pandas, o cálculo do quartil é obtido por `.quantile()`, no qual pede o parâmetro `q` com os quantis que queremos. Neste caso os quantis são 0.25 para o 1o quartil, 0.5 para a mediana e 0.75 para o 3o quartil.\n",
    "\n",
    " Vamos ver os quartis nas avaliações gerais do dataset de restaurantes:"
   ]
  },
  {
   "cell_type": "code",
   "execution_count": 10,
   "metadata": {},
   "outputs": [
    {
     "data": {
      "text/plain": [
       "0.25    2.5\n",
       "0.50    3.0\n",
       "0.75    4.0\n",
       "Name: Overall Rating, dtype: float64"
      ]
     },
     "execution_count": 10,
     "metadata": {},
     "output_type": "execute_result"
    }
   ],
   "source": [
    "df_rating['Overall Rating'].quantile([0.25, 0.5, 0.75])"
   ]
  },
  {
   "cell_type": "markdown",
   "metadata": {},
   "source": [
    "Vamos tentar entender melhor a interpretação de cada quartil. Vamos começar pela `mediana`: A mediana é o valor médio dos dados, certo? ou seja, é o valor que separa pela metade o conjunto de dados. Então você consegue perceber que 50% dos dados são menores que este valor e também maiores que este valor.\n",
    "\n",
    "Em seguida, o 1o quartil é o valor que diz que 25% dos dados estão abaixo daquele valor.\n",
    "Analogamente, o 13 quartil é o valor que diz que 75% dos dados estão abaixo daquele valor.\n",
    "\n",
    "Isto é super poderoso quando, por exemplo temos uma distribuição `skewed` ou distorcida, ou não simétrica:\n",
    "\n",
    "Observe no exemplo abaixo que há uma concentração clara de dados em um único ponto que não parece estar no centro dos dados. Isto que chamamos de `distorção` ou `skewed distribution`. Neste caso, podemos verificar que a média e a mediana claramente não são os mesmos valores (e nem próximos)."
   ]
  },
  {
   "cell_type": "code",
   "execution_count": 54,
   "metadata": {},
   "outputs": [
    {
     "data": {
      "text/plain": [
       "Text(0.5, 1.0, 'Histogram (skewed)')"
      ]
     },
     "execution_count": 54,
     "metadata": {},
     "output_type": "execute_result"
    },
    {
     "data": {
      "image/png": "[encoded data removed]",
      "text/plain": [
       "<Figure size 1000x300 with 2 Axes>"
      ]
     },
     "metadata": {},
     "output_type": "display_data"
    }
   ],
   "source": [
    "def create_sample(n=1000, std=1):\n",
    "    return np.random.randn(n)*std\n",
    "\n",
    "st_distribution = create_sample(n=500)\n",
    "nd_distribution = create_sample(n=1000, std=3)+10\n",
    "\n",
    "sample = np.append(st_distribution, nd_distribution)\n",
    "\n",
    "fig,ax = plt.subplots(1,2, figsize=(10,3))\n",
    "predef = {'alpha':0.3, 's':5}\n",
    "ax[0].scatter(range(len(sample)),sample, **predef)\n",
    "ax[0].plot(range(len(sample)),[sample.mean()]*len(sample), c='r', label=f'mean: {sample.mean():.2f}')\n",
    "ax[0].plot(range(len(sample)),[np.percentile(sample,.5)]*len(sample), c='b', label=f'median: {np.percentile(sample,.5):.2f}')\n",
    "ax[0].fill_between(range(len(sample)),\n",
    "                   [sample.mean()-sample.std()]*len(sample),\n",
    "                   [sample.mean()+sample.std()]*len(sample),\n",
    "                     color='pink', alpha=.3,label=f'std: {sample.std():.2f}')\n",
    "ax[0].legend(loc=1)\n",
    "ax[0].set_title('Scatter plot')\n",
    "\n",
    "ax[1].hist(sample, bins=30)\n",
    "ax[1].set_title('Histogram (skewed)')"
   ]
  },
  {
   "cell_type": "markdown",
   "metadata": {},
   "source": [
    "Neste caso, também podemos usar os quartis para perceber onde que os dados se distorcem, sem precisar plotar nenhum gráfico:"
   ]
  },
  {
   "cell_type": "code",
   "execution_count": 78,
   "metadata": {},
   "outputs": [
    {
     "name": "stdout",
     "output_type": "stream",
     "text": [
      "Percentil:  \n",
      "1% :\t-1.880\n",
      "10% :\t-0.586\n",
      "25% :\t0.698\n",
      "50% :\t7.875\n",
      "75% :\t10.945\n",
      "90% :\t12.999\n",
      "99% :\t16.590\n"
     ]
    }
   ],
   "source": [
    "# observar o percentil 1%, 10%, 25%, 50%, 75%, 90%, 99%\n",
    "quantiles = [0.01,0.1,0.25,0.5,0.75,0.9,0.99]\n",
    "text = ''.join([f'\\n{p:.0%} :\\t{np.quantile(sample, p):.3f}' for p in quantiles])\n",
    "print('Percentil: ',text)"
   ]
  },
  {
   "cell_type": "markdown",
   "metadata": {},
   "source": [
    "Aqui já podemos perceber que a diferença entre a mediana e o 3o quartil não é a mesma entre o 1o quartil e a mediana. Isso mostra que os dados estão mais concentrados na parte da metade pra baixo (e próximos de 0 e 0.5)."
   ]
  },
  {
   "cell_type": "markdown",
   "metadata": {},
   "source": [
    "## A função *.describe()* no Pandas\n",
    "A função `.describe()` do Pandas oferece um resumo estatístico dos dados, incluindo média, mediana, moda, desvio padrão, mínimo, máximo e quartis, ou seja, tudo o que vimos até agora :)\n",
    "\n",
    "Podemos ver no exemplo que trabalhamos durante esta seção:"
   ]
  },
  {
   "cell_type": "code",
   "execution_count": 81,
   "metadata": {},
   "outputs": [
    {
     "data": {
      "text/plain": [
       "count    200.000000\n",
       "mean       3.225000\n",
       "std        1.079445\n",
       "min        1.000000\n",
       "25%        2.500000\n",
       "50%        3.000000\n",
       "75%        4.000000\n",
       "max        5.000000\n",
       "Name: Overall Rating, dtype: float64"
      ]
     },
     "execution_count": 81,
     "metadata": {},
     "output_type": "execute_result"
    }
   ],
   "source": [
    "df_rating['Overall Rating'].describe()"
   ]
  },
  {
   "cell_type": "markdown",
   "metadata": {},
   "source": [
    "Vamos dar uma olhada na documentação desta função:\n",
    "\n",
    "> **pandas.DataFrame.describe**<br>\n",
    "**DataFrame.describe(percentiles=None, include=None, exclude=None)[source]**<br><br>\n",
    "Generate descriptive statistics.<br><br>\n",
    "Descriptive statistics include those that summarize the central tendency, dispersion and shape of a dataset’s distribution, excluding NaN values.<br><br>\n",
    "Analyzes both numeric and object series, as well as DataFrame column sets of mixed data types. The output will vary depending on what is provided. Refer to the notes below for more detail.<br><br>\n",
    "**Parameters:**<br>\n",
    "&nbsp; percentiles: list-like of numbers, optional<br>\n",
    "&nbsp;&nbsp;The percentiles to include in the output. All should fall between 0 and 1. The default is [.25, .5, .75], which returns the 25th, 50th, and 75th percentiles.<br><br>\n",
    "&nbsp; include: ‘all’, list-like of dtypes or None (default), optional<br>\n",
    "&nbsp;&nbsp;A white list of data types to include in the result. Ignored for Series. Here are the options:<br>\n",
    "&nbsp;&nbsp;‘all’ : All columns of the input will be included in the output.<br>\n",
    "&nbsp;&nbsp;A list-like of dtypes : Limits the results to the provided data types. To limit the result to numeric types submit numpy.number. To limit it instead to object columns submit the numpy.object data type. Strings can also be used in the style of select_dtypes (e.g. df.describe(include=['O'])). To select pandas categorical columns, use 'category'<br>\n",
    "&nbsp;&nbsp;None (default) : The result will include all numeric columns.<br><br>\n",
    "&nbsp;exclude : list-like of dtypes or None (default), optional<br><br>\n",
    "A black list of data types to omit from the result. Ignored for Series. Here are the options:<br>\n",
    "&nbsp;&nbsp;A list-like of dtypes : Excludes the provided data types from the result. To exclude numeric types submit numpy.number. To exclude object columns submit the data type numpy.object. Strings can also be used in the style of select_dtypes (e.g. df.describe(exclude=['O'])). To exclude pandas categorical columns, use 'category'<br>\n",
    "&nbsp;&nbsp;None (default) : The result will exclude nothing.<br><br>\n",
    "Returns:<br>\n",
    "&nbsp;Series or DataFrame<br>\n",
    "&nbsp;&nbsp;Summary statistics of the Series or Dataframe provided."
   ]
  },
  {
   "cell_type": "markdown",
   "metadata": {},
   "source": [
    "Podemos personalizar os percentis que queremos observar com o parâmetro `percentiles`:"
   ]
  },
  {
   "cell_type": "code",
   "execution_count": 82,
   "metadata": {},
   "outputs": [
    {
     "data": {
      "text/plain": [
       "count    200.000000\n",
       "mean       3.225000\n",
       "std        1.079445\n",
       "min        1.000000\n",
       "1%         1.000000\n",
       "10%        2.000000\n",
       "25%        2.500000\n",
       "50%        3.000000\n",
       "75%        4.000000\n",
       "90%        5.000000\n",
       "99%        5.000000\n",
       "max        5.000000\n",
       "Name: Overall Rating, dtype: float64"
      ]
     },
     "execution_count": 82,
     "metadata": {},
     "output_type": "execute_result"
    }
   ],
   "source": [
    "df_rating['Overall Rating'].describe(percentiles=[0.01,0.1,0.25,0.5,0.75,0.9,0.99])"
   ]
  },
  {
   "cell_type": "markdown",
   "metadata": {},
   "source": [
    "Por padrão, quando calculamos o `describe` no DataFrame inteiro, somente é realizado em colunas numéricas. Mas podemos pedir para ver também de todos os tipos com o param... (fica a critério do aluno identificar o param e o arg a ser passado)"
   ]
  },
  {
   "cell_type": "code",
   "execution_count": 83,
   "metadata": {},
   "outputs": [
    {
     "data": {
      "text/html": [
       "<div>\n",
       "<style scoped>\n",
       "    .dataframe tbody tr th:only-of-type {\n",
       "        vertical-align: middle;\n",
       "    }\n",
       "\n",
       "    .dataframe tbody tr th {\n",
       "        vertical-align: top;\n",
       "    }\n",
       "\n",
       "    .dataframe thead th {\n",
       "        text-align: right;\n",
       "    }\n",
       "</style>\n",
       "<table border=\"1\" class=\"dataframe\">\n",
       "  <thead>\n",
       "    <tr style=\"text-align: right;\">\n",
       "      <th></th>\n",
       "      <th>User ID</th>\n",
       "      <th>Area code</th>\n",
       "      <th>Location</th>\n",
       "      <th>Gender</th>\n",
       "      <th>YOB</th>\n",
       "      <th>Marital Status</th>\n",
       "      <th>Activity</th>\n",
       "      <th>Budget</th>\n",
       "      <th>Cuisines</th>\n",
       "      <th>Alcohol</th>\n",
       "      <th>Smoker</th>\n",
       "      <th>Food Rating</th>\n",
       "      <th>Service Rating</th>\n",
       "      <th>Overall Rating</th>\n",
       "      <th>Often A S</th>\n",
       "    </tr>\n",
       "  </thead>\n",
       "  <tbody>\n",
       "    <tr>\n",
       "      <th>count</th>\n",
       "      <td>200.000000</td>\n",
       "      <td>200.000000</td>\n",
       "      <td>200</td>\n",
       "      <td>200</td>\n",
       "      <td>200.000000</td>\n",
       "      <td>200</td>\n",
       "      <td>200</td>\n",
       "      <td>200.000000</td>\n",
       "      <td>200</td>\n",
       "      <td>200</td>\n",
       "      <td>200</td>\n",
       "      <td>200.000000</td>\n",
       "      <td>200.000000</td>\n",
       "      <td>200.000000</td>\n",
       "      <td>200</td>\n",
       "    </tr>\n",
       "    <tr>\n",
       "      <th>unique</th>\n",
       "      <td>NaN</td>\n",
       "      <td>NaN</td>\n",
       "      <td>10</td>\n",
       "      <td>2</td>\n",
       "      <td>NaN</td>\n",
       "      <td>3</td>\n",
       "      <td>2</td>\n",
       "      <td>NaN</td>\n",
       "      <td>7</td>\n",
       "      <td>3</td>\n",
       "      <td>3</td>\n",
       "      <td>NaN</td>\n",
       "      <td>NaN</td>\n",
       "      <td>NaN</td>\n",
       "      <td>2</td>\n",
       "    </tr>\n",
       "    <tr>\n",
       "      <th>top</th>\n",
       "      <td>NaN</td>\n",
       "      <td>NaN</td>\n",
       "      <td>St. George,NY</td>\n",
       "      <td>Male</td>\n",
       "      <td>NaN</td>\n",
       "      <td>Single</td>\n",
       "      <td>Student</td>\n",
       "      <td>NaN</td>\n",
       "      <td>Japanese</td>\n",
       "      <td>Never</td>\n",
       "      <td>Socially</td>\n",
       "      <td>NaN</td>\n",
       "      <td>NaN</td>\n",
       "      <td>NaN</td>\n",
       "      <td>No</td>\n",
       "    </tr>\n",
       "    <tr>\n",
       "      <th>freq</th>\n",
       "      <td>NaN</td>\n",
       "      <td>NaN</td>\n",
       "      <td>46</td>\n",
       "      <td>118</td>\n",
       "      <td>NaN</td>\n",
       "      <td>100</td>\n",
       "      <td>120</td>\n",
       "      <td>NaN</td>\n",
       "      <td>36</td>\n",
       "      <td>88</td>\n",
       "      <td>71</td>\n",
       "      <td>NaN</td>\n",
       "      <td>NaN</td>\n",
       "      <td>NaN</td>\n",
       "      <td>174</td>\n",
       "    </tr>\n",
       "    <tr>\n",
       "      <th>mean</th>\n",
       "      <td>100.500000</td>\n",
       "      <td>141.060000</td>\n",
       "      <td>NaN</td>\n",
       "      <td>NaN</td>\n",
       "      <td>1984.830000</td>\n",
       "      <td>NaN</td>\n",
       "      <td>NaN</td>\n",
       "      <td>3.815000</td>\n",
       "      <td>NaN</td>\n",
       "      <td>NaN</td>\n",
       "      <td>NaN</td>\n",
       "      <td>3.220000</td>\n",
       "      <td>3.230000</td>\n",
       "      <td>3.225000</td>\n",
       "      <td>NaN</td>\n",
       "    </tr>\n",
       "    <tr>\n",
       "      <th>std</th>\n",
       "      <td>57.879185</td>\n",
       "      <td>26.130257</td>\n",
       "      <td>NaN</td>\n",
       "      <td>NaN</td>\n",
       "      <td>16.809339</td>\n",
       "      <td>NaN</td>\n",
       "      <td>NaN</td>\n",
       "      <td>1.056578</td>\n",
       "      <td>NaN</td>\n",
       "      <td>NaN</td>\n",
       "      <td>NaN</td>\n",
       "      <td>1.411226</td>\n",
       "      <td>1.526022</td>\n",
       "      <td>1.079445</td>\n",
       "      <td>NaN</td>\n",
       "    </tr>\n",
       "    <tr>\n",
       "      <th>min</th>\n",
       "      <td>1.000000</td>\n",
       "      <td>101.000000</td>\n",
       "      <td>NaN</td>\n",
       "      <td>NaN</td>\n",
       "      <td>1955.000000</td>\n",
       "      <td>NaN</td>\n",
       "      <td>NaN</td>\n",
       "      <td>1.000000</td>\n",
       "      <td>NaN</td>\n",
       "      <td>NaN</td>\n",
       "      <td>NaN</td>\n",
       "      <td>1.000000</td>\n",
       "      <td>1.000000</td>\n",
       "      <td>1.000000</td>\n",
       "      <td>NaN</td>\n",
       "    </tr>\n",
       "    <tr>\n",
       "      <th>25%</th>\n",
       "      <td>50.750000</td>\n",
       "      <td>123.000000</td>\n",
       "      <td>NaN</td>\n",
       "      <td>NaN</td>\n",
       "      <td>1971.000000</td>\n",
       "      <td>NaN</td>\n",
       "      <td>NaN</td>\n",
       "      <td>3.000000</td>\n",
       "      <td>NaN</td>\n",
       "      <td>NaN</td>\n",
       "      <td>NaN</td>\n",
       "      <td>2.000000</td>\n",
       "      <td>2.000000</td>\n",
       "      <td>2.500000</td>\n",
       "      <td>NaN</td>\n",
       "    </tr>\n",
       "    <tr>\n",
       "      <th>50%</th>\n",
       "      <td>100.500000</td>\n",
       "      <td>135.000000</td>\n",
       "      <td>NaN</td>\n",
       "      <td>NaN</td>\n",
       "      <td>1987.000000</td>\n",
       "      <td>NaN</td>\n",
       "      <td>NaN</td>\n",
       "      <td>4.000000</td>\n",
       "      <td>NaN</td>\n",
       "      <td>NaN</td>\n",
       "      <td>NaN</td>\n",
       "      <td>3.000000</td>\n",
       "      <td>3.000000</td>\n",
       "      <td>3.000000</td>\n",
       "      <td>NaN</td>\n",
       "    </tr>\n",
       "    <tr>\n",
       "      <th>75%</th>\n",
       "      <td>150.250000</td>\n",
       "      <td>158.000000</td>\n",
       "      <td>NaN</td>\n",
       "      <td>NaN</td>\n",
       "      <td>2000.000000</td>\n",
       "      <td>NaN</td>\n",
       "      <td>NaN</td>\n",
       "      <td>5.000000</td>\n",
       "      <td>NaN</td>\n",
       "      <td>NaN</td>\n",
       "      <td>NaN</td>\n",
       "      <td>5.000000</td>\n",
       "      <td>5.000000</td>\n",
       "      <td>4.000000</td>\n",
       "      <td>NaN</td>\n",
       "    </tr>\n",
       "    <tr>\n",
       "      <th>max</th>\n",
       "      <td>200.000000</td>\n",
       "      <td>199.000000</td>\n",
       "      <td>NaN</td>\n",
       "      <td>NaN</td>\n",
       "      <td>2009.000000</td>\n",
       "      <td>NaN</td>\n",
       "      <td>NaN</td>\n",
       "      <td>5.000000</td>\n",
       "      <td>NaN</td>\n",
       "      <td>NaN</td>\n",
       "      <td>NaN</td>\n",
       "      <td>5.000000</td>\n",
       "      <td>5.000000</td>\n",
       "      <td>5.000000</td>\n",
       "      <td>NaN</td>\n",
       "    </tr>\n",
       "  </tbody>\n",
       "</table>\n",
       "</div>"
      ],
      "text/plain": [
       "           User ID   Area code       Location Gender          YOB  \\\n",
       "count   200.000000  200.000000            200    200   200.000000   \n",
       "unique         NaN         NaN             10      2          NaN   \n",
       "top            NaN         NaN  St. George,NY   Male          NaN   \n",
       "freq           NaN         NaN             46    118          NaN   \n",
       "mean    100.500000  141.060000            NaN    NaN  1984.830000   \n",
       "std      57.879185   26.130257            NaN    NaN    16.809339   \n",
       "min       1.000000  101.000000            NaN    NaN  1955.000000   \n",
       "25%      50.750000  123.000000            NaN    NaN  1971.000000   \n",
       "50%     100.500000  135.000000            NaN    NaN  1987.000000   \n",
       "75%     150.250000  158.000000            NaN    NaN  2000.000000   \n",
       "max     200.000000  199.000000            NaN    NaN  2009.000000   \n",
       "\n",
       "       Marital Status Activity      Budget  Cuisines Alcohol     Smoker  \\\n",
       "count             200      200  200.000000       200      200       200   \n",
       "unique              3        2         NaN         7        3         3   \n",
       "top            Single  Student         NaN  Japanese    Never  Socially   \n",
       "freq              100      120         NaN        36       88        71   \n",
       "mean              NaN      NaN    3.815000       NaN      NaN       NaN   \n",
       "std               NaN      NaN    1.056578       NaN      NaN       NaN   \n",
       "min               NaN      NaN    1.000000       NaN      NaN       NaN   \n",
       "25%               NaN      NaN    3.000000       NaN      NaN       NaN   \n",
       "50%               NaN      NaN    4.000000       NaN      NaN       NaN   \n",
       "75%               NaN      NaN    5.000000       NaN      NaN       NaN   \n",
       "max               NaN      NaN    5.000000       NaN      NaN       NaN   \n",
       "\n",
       "        Food Rating  Service Rating  Overall Rating Often A S  \n",
       "count    200.000000      200.000000      200.000000       200  \n",
       "unique          NaN             NaN             NaN         2  \n",
       "top             NaN             NaN             NaN        No  \n",
       "freq            NaN             NaN             NaN       174  \n",
       "mean       3.220000        3.230000        3.225000       NaN  \n",
       "std        1.411226        1.526022        1.079445       NaN  \n",
       "min        1.000000        1.000000        1.000000       NaN  \n",
       "25%        2.000000        2.000000        2.500000       NaN  \n",
       "50%        3.000000        3.000000        3.000000       NaN  \n",
       "75%        5.000000        5.000000        4.000000       NaN  \n",
       "max        5.000000        5.000000        5.000000       NaN  "
      ]
     },
     "execution_count": 83,
     "metadata": {},
     "output_type": "execute_result"
    }
   ],
   "source": [
    "df_rating.describe(include='all')"
   ]
  },
  {
   "cell_type": "markdown",
   "metadata": {},
   "source": [
    "# Execícios"
   ]
  },
  {
   "cell_type": "code",
   "execution_count": null,
   "metadata": {},
   "outputs": [],
   "source": []
  },
  {
   "cell_type": "code",
   "execution_count": null,
   "metadata": {},
   "outputs": [],
   "source": []
  },
  {
   "cell_type": "code",
   "execution_count": null,
   "metadata": {},
   "outputs": [],
   "source": []
  },
  {
   "cell_type": "markdown",
   "metadata": {},
   "source": [
    "\n",
    "## Referências\n",
    "[Documentação Pandas](https://pandas.pydata.org/docs/)\n",
    "\n",
    "[Dataset Usado](https://www.kaggle.com/datasets/surajjha101/cuisine-rating)"
   ]
  }
 ],
 "metadata": {
  "kernelspec": {
   "display_name": "base",
   "language": "python",
   "name": "python3"
  },
  "language_info": {
   "codemirror_mode": {
    "name": "ipython",
    "version": 3
   },
   "file_extension": ".py",
   "mimetype": "text/x-python",
   "name": "python",
   "nbconvert_exporter": "python",
   "pygments_lexer": "ipython3",
   "version": "3.11.5"
  }
 },
 "nbformat": 4,
 "nbformat_minor": 2
}
