{
 "cells": [
  {
   "cell_type": "markdown",
   "metadata": {},
   "source": [
    "# 🎯 Aula 2 -Estatística descritiva básica no Pandas 🎯"
   ]
  },
  {
   "cell_type": "markdown",
   "metadata": {},
   "source": [
    "![histograma](./img/histogram_output.png)\n",
    "\n",
    "Os dados acima representam a distribuição do ano de nascimento de algumas pessoas. Este gráfico, conhecido como histograma, conta quantas pessoas são daquele ano (por exemplo, temos 20 pessoas que são do ano de 1960).\n",
    "\n",
    "**Obs**: repare um dado muito interessante: as idades estão ordenadas.\n",
    "\n",
    "Como você resumiria os dados acima de forma simplificada?"
   ]
  },
  {
   "cell_type": "markdown",
   "metadata": {},
   "source": [
    "# Estatística Descritiva Básica\n",
    "\n",
    "A Estatística Descritiva é uma ferramenta imprenscindível na Análise Exploratória de Dados, que ajuda a compreender, resumir e interpretar as características fundamentais de um conjunto de dados. É a parte da estatística preocupada em descrever os dados analisados. Por meio dela, podemos ter uma visão global de uma série de informações, como a variação dos dados envolvidos na análise. \n",
    "\n",
    "Aqui, vamos explorar conceitos básicos da estatística descritiva e como aplicá-los utilizando o `Pandas`.\n"
   ]
  },
  {
   "cell_type": "markdown",
   "metadata": {},
   "source": [
    "## Medidas de centralidade \n",
    "\n",
    "As medidas de centralidade, também chamadas medidas de tendência central, são representações do todo de um conjunto de dados. Elas indicam um ponto que centraliza todos os outros dados. As principais medidas de centralidade são: \n",
    "* média\n",
    "* mediana\n",
    "* moda. \n",
    "\n",
    "A seguir, veremos sobre cada uma delas:\n"
   ]
  },
  {
   "cell_type": "markdown",
   "metadata": {},
   "source": [
    "### Média\n",
    "\n",
    "A média - aqui, média aritmética - é a medida de centralidade mais utilizada em nosso cotidiano, e indica o valor central de um conjunto de números. Ela é determinada pela soma de todos os valores numéricos do conjunto de dados dividida pela quantidade de valores.\n",
    "\n",
    "Essa medida é útil para representar um conjunto de dados com um único valor, facilitando comparações e análises gerais. No entanto, é sensível a *outliers* - dados que se diferenciam drasticamente da tendência do conjunto -, que podem distorcer sua representatividade.\n",
    "\n",
    "No Pandas, podemos calcular a média de um conjunto de dados por meio da função `.mean()`.\n",
    "Consideremos o exemplo da seção anterior, do DataFrame de avaliações de restaurantes em Nova York. Se quisermos a média das avaliações gerais realizadas, podemos fazer da seguinte forma:\n",
    "\n",
    "```python\n",
    "df.[\"Overall Rating\"].mean()\n",
    "```\n",
    "\n",
    "Assim, podemos observar que a média das avaliações é:\n",
    "\n",
    "![Output da função .mean() no Pandas](https://s3-sa-east-1.amazonaws.com/lcpi/bae1eea6-cec8-4c81-81f8-7f8075f9d4bb.png)\n",
    "\n",
    "**Figura 1 -** *Output da função .mean() para avaliações gerais no DataFrame no Pandas* (Fonte da imagem: do autor, utilizando o Jupyter Notebook)\n"
   ]
  },
  {
   "cell_type": "markdown",
   "metadata": {},
   "source": [
    "\n",
    "### Mediana\n",
    "\n",
    "A mediana é o valor que separa a metade superior da metade inferior de um conjunto de dados ordenados. Em outras palavras, se o número de observações for ímpar, a mediana é o valor central; se for par, é a média dos dois valores centrais.\n",
    "\n",
    "A mediana é particularmente útil em conjuntos de dados com *outliers* ou distribuições assimétricas, pois fornece uma medida mais robusta da tendência central.\n",
    "\n",
    "No Pandas, podemos calcular a mediana de um conjunto de dados por meio da função `.median()`.\n",
    "Se quisermos calcular a mediana das avaliações gerais de restaurantes, em nosso exemplo, podemos escrever o seguinte código:\n",
    "\n",
    "```python\n",
    "df[\"Overall Rating\"].median()\n",
    "```\n",
    "\n",
    "Temos, como saída, o seguinte resultado:\n",
    "\n",
    "![Output da função .median() no Pandas](https://s3-sa-east-1.amazonaws.com/lcpi/1d744dc6-0b97-4526-b3b8-b66848fa55be.png)\n",
    "\n",
    "**Figura 2 -** *Output da função .median() para avaliações gerais no DataFrame no Pandas* (Fonte da imagem: do autor, utilizando o Jupyter Notebook)\n"
   ]
  },
  {
   "cell_type": "markdown",
   "metadata": {},
   "source": [
    "\n",
    "### Moda\n",
    "\n",
    "A moda é o valor (ou valores) mais frequentes em um conjunto de dados. Um conjunto de dados pode ser:\n",
    "- unimodal: possui apenas uma moda,\n",
    "-  bimodal: possui duas modas, ou \n",
    "-  multimodal: possui várias modas.\n",
    "\n",
    "A moda é especialmente útil em dados categóricos para identificar a categoria mais comum.\n",
    "Com a biblioteca Pandas, podemos calcular a moda de um conjunto de dados utilizando a função `.mode()`.\n",
    "\n",
    "No exemplo trabalhado, sabemos que a moda das avaliações gerais é 3.5, como mostrado abaixo:\n",
    "\n",
    "\n",
    "![Output da função .mode() no Pandas](https://s3-sa-east-1.amazonaws.com/lcpi/e116588d-a8d0-4fe6-8f17-6f1af906ea00.png)\n",
    "\n",
    "**Figura 3 -** *Output da função .mode() para avaliações gerais no DataFrame no Pandas* (Fonte da imagem: do autor, utilizando o Jupyter Notebook)\n",
    "\n",
    "Para chegarmos a esse resultado, aplicamos a função correspondente à moda no nosso DataFrame, como se segue:\n",
    "\n",
    "```python\n",
    "df[\"Overall Rating\"].mode()\n",
    "```\n"
   ]
  },
  {
   "cell_type": "markdown",
   "metadata": {},
   "source": [
    "\n",
    "## Desvio-padrão e variância\n",
    "\n",
    "O desvio-padrão e a variância encontram-se dentro de um conjunto de medidas chamadas de Medidas de Dispersão. Essas métricas servem de auxílio para as medidas de centralidade, descrevendo o conjunto de dados e nos auxiliando a ver a dispersão de dados observados, ou seja, quão distantes estão uns dos outros. \n",
    "\n",
    "Se os dados variam de forma significativa, por exemplo, a média deixa de ser representativa no conjunto. Assim, quando fazemos uma análise de dados, precisamos ao menos de uma medida de centralidade e de uma medida de dispersão.\n",
    "\n",
    "O desvio-padrão mede a quantidade de variação ou dispersão em um conjunto de valores. Um desvio-padrão baixo indica que os valores tendem a estar próximos da média, enquanto um desvio-padrão alto indica uma ampla variação nos dados. O desvio-padrão é crucial para entender o quão espalhados estão os valores em relação à média, sendo fundamental em muitas análises estatísticas.\n",
    "\n",
    "A variância, por sua vez, é o quadrado do desvio-padrão. Ela mede o grau de dispersão dos dados em relação à média. Essa medida é útil para comparar a dispersão entre diferentes conjuntos de dados. No entanto, como está em uma unidade quadrada, muitas vezes o desvio padrão é preferido para interpretação.\n",
    "\n",
    "No Pandas, podemos calcular desvio-padrão e variância, respectivamente, pelas funções `.std()` e `.var()`.\n",
    "\n",
    "No exemplo de avaliações de restaurante, se quisermos calcular o desvio-padrão e a variância das avaliações gerais, usamos as funções:\n",
    "\n",
    "```python\n",
    "# cálculo do desvio-padrão\n",
    "df[\"Overall Rating\"].std()\n",
    "\n",
    "# cálculo da variância\n",
    "df[\"Overall Rating\"].var()\n",
    "```\n",
    "\n",
    "As saídas de dados são, como podemos observar:\n",
    "\n",
    "![Output da função .std() no Pandas](https://s3-sa-east-1.amazonaws.com/lcpi/1cf23e77-b0a0-473a-92a8-ed568b103183.png)\n",
    "\n",
    "**Figura 4 -** *Output da função .std() para avaliações gerais no DataFrame no Pandas* (Fonte da imagem: do autor, utilizando o Jupyter Notebook)\n",
    "\n",
    "![Output da função .var() no Pandas](https://s3-sa-east-1.amazonaws.com/lcpi/a26cd7e9-2c61-4c5d-993f-028abb7e3712.png)\n",
    "\n",
    "**Figura 5 -** *Output da função .var() para avaliações gerais no DataFrame no Pandas* (Fonte da imagem: do autor, utilizando o Jupyter Notebook)\n"
   ]
  },
  {
   "cell_type": "markdown",
   "metadata": {},
   "source": [
    "\n",
    "## Quartil\n",
    "Quartis são valores que dividem um conjunto de dados em quatro partes iguais, cada uma contendo 25% dos dados. Os principais quartis são o primeiro quartil (25%), o segundo quartil (50% - mediana) e o terceiro quartil (75%).\n",
    "\n",
    "Essas medidas são essenciais para compreender a distribuição dos dados, identificar outliers e entender a dispersão dos dados.\n",
    "\n",
    "No Pandas, o cálculo do quartil é obtido por meio da função `.quantile()`. Vamos ver, por exemplo, os quartis das avaliações gerais de nosso conjunto de dados trabalhado:\n",
    "\n",
    "```python\n",
    "df[\"Overall Rating\"].quantile([0.25, 0.50, 0.75])\n",
    "```\n",
    "\n",
    "![Principais quartis das avaliações gerais do dataset trabalhado](https://s3-sa-east-1.amazonaws.com/lcpi/d9f35b80-bcef-46ee-a9f5-f8fb225ff195.png)\n",
    "**Figura 5 -** *Principais quartis das avaliações gerais do dataset trabalhado* (Fonte da imagem: do autor, utilizando o Jupyter Notebook)\n"
   ]
  },
  {
   "cell_type": "markdown",
   "metadata": {},
   "source": [
    "\n",
    "## A função *.describe()* no Pandas\n",
    "A função `.describe()` do Pandas oferece um resumo estatístico dos dados, incluindo média, mediana, moda, desvio padrão, mínimo, máximo e quartis.\n",
    "Podemos ver no exemplo que trabalhamos durante esta seção:\n",
    "\n",
    "```python\n",
    "df[\"Overall Rating\"].describe()\n",
    "```\n",
    "![Dados gerais das avaliações gerais do dataset trabalhado, obtidos pela função .describe()](https://s3-sa-east-1.amazonaws.com/lcpi/c87a2636-8095-470c-a185-cbfc625b0037.png)\n",
    "\n",
    "**Figura 5 -** *Dados gerais das avaliações gerais do dataset trabalhado, obtidos pela função .describe()* (Fonte da imagem: do autor, utilizando o Jupyter Notebook)\n"
   ]
  },
  {
   "cell_type": "markdown",
   "metadata": {},
   "source": [
    "\n",
    "## Referências\n",
    "[Documentação Pandas](https://pandas.pydata.org/docs/)\n",
    "\n",
    "[Dataset Usado](https://www.kaggle.com/datasets/surajjha101/cuisine-rating)"
   ]
  }
 ],
 "metadata": {
  "language_info": {
   "name": "python"
  }
 },
 "nbformat": 4,
 "nbformat_minor": 2
}
